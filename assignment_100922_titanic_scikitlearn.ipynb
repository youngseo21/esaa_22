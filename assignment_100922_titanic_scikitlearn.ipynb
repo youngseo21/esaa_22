{
  "nbformat": 4,
  "nbformat_minor": 0,
  "metadata": {
    "colab": {
      "provenance": [],
      "mount_file_id": "1oRAjLa_UV4E_qGiJuVLtv5o3ypyGkqY-",
      "authorship_tag": "ABX9TyM44xyS7JEhVE5krLs3wHtK",
      "include_colab_link": true
    },
    "kernelspec": {
      "name": "python3",
      "display_name": "Python 3"
    },
    "language_info": {
      "name": "python"
    }
  },
  "cells": [
    {
      "cell_type": "markdown",
      "metadata": {
        "id": "view-in-github",
        "colab_type": "text"
      },
      "source": [
        "<a href=\"https://colab.research.google.com/github/youngseo21/esaa_22/blob/main/assignment_100922_titanic_scikitlearn.ipynb\" target=\"_parent\"><img src=\"https://colab.research.google.com/assets/colab-badge.svg\" alt=\"Open In Colab\"/></a>"
      ]
    },
    {
      "cell_type": "code",
      "execution_count": 1,
      "metadata": {
        "id": "ok0D3COkOpvr"
      },
      "outputs": [],
      "source": [
        "# import package\n",
        "import numpy as np\n",
        "import pandas as pd\n",
        "import matplotlib.pyplot as plt\n",
        "import seaborn as sns\n",
        "\n",
        "# 출력 결과를 셀 아래 inline으로 표시\n",
        "%matplotlib inline\n",
        "\n",
        "import warnings\n",
        "warnings.filterwarnings(action='ignore')"
      ]
    },
    {
      "cell_type": "markdown",
      "source": [
        "## 06 사이킷런으로 수행하는 타이타닉 생존자 예측\n",
        "___\n"
      ],
      "metadata": {
        "id": "YN84KyPTOxqJ"
      }
    },
    {
      "cell_type": "markdown",
      "source": [
        "#### | 타이타닉 탑승자 데이터\n",
        "___\n",
        "- Passengerid : 탑승자 데이터 일련번호\n",
        "- Survived : 생존 여부(0 = 사망, 1 = 생존)\n",
        "- Pclass : 티켓의 선실 등급(1 = 일등석, 2 =  이등석, 3 = 삼등석)\n",
        "- Name : 탑승자 이름\n",
        "- Sex : 탑승자 성별\n",
        "- Age : 탑승자 나이\n",
        "- SibSp : 같이 탑승한 형제자매 또는 배우자 인원수\n",
        "- Parch : 같이 탑승한 부모님 또는 어린이 인원수\n",
        "- Ticket : 티켓번호\n",
        "- Fare : 요금\n",
        "- Cabin : 선실 번호\n",
        "- Embarked : 중간 정착 항구(C = Cherbourg, Q = Queenstown, S = Southampton)"
      ],
      "metadata": {
        "id": "_4rqq8OiOynP"
      }
    },
    {
      "cell_type": "code",
      "source": [
        "# import data\n",
        "titanic_df = pd.read_csv('/content/drive/MyDrive/esaa/titanic/train.csv')\n",
        "titanic_df.head(3)"
      ],
      "metadata": {
        "colab": {
          "base_uri": "https://localhost:8080/",
          "height": 364
        },
        "id": "4ajlge9AOww8",
        "outputId": "505a1c69-2edd-4cc5-fd9c-3eb5df996cd4"
      },
      "execution_count": 2,
      "outputs": [
        {
          "output_type": "execute_result",
          "data": {
            "text/plain": [
              "   PassengerId  Survived  Pclass  \\\n",
              "0            1         0       3   \n",
              "1            2         1       1   \n",
              "2            3         1       3   \n",
              "\n",
              "                                                Name     Sex   Age  SibSp  \\\n",
              "0                            Braund, Mr. Owen Harris    male  22.0      1   \n",
              "1  Cumings, Mrs. John Bradley (Florence Briggs Th...  female  38.0      1   \n",
              "2                             Heikkinen, Miss. Laina  female  26.0      0   \n",
              "\n",
              "   Parch            Ticket     Fare Cabin Embarked  \n",
              "0      0         A/5 21171   7.2500   NaN        S  \n",
              "1      0          PC 17599  71.2833   C85        C  \n",
              "2      0  STON/O2. 3101282   7.9250   NaN        S  "
            ],
            "text/html": [
              "\n",
              "  <div id=\"df-f85290de-9272-461d-b4ca-98da077a55a5\">\n",
              "    <div class=\"colab-df-container\">\n",
              "      <div>\n",
              "<style scoped>\n",
              "    .dataframe tbody tr th:only-of-type {\n",
              "        vertical-align: middle;\n",
              "    }\n",
              "\n",
              "    .dataframe tbody tr th {\n",
              "        vertical-align: top;\n",
              "    }\n",
              "\n",
              "    .dataframe thead th {\n",
              "        text-align: right;\n",
              "    }\n",
              "</style>\n",
              "<table border=\"1\" class=\"dataframe\">\n",
              "  <thead>\n",
              "    <tr style=\"text-align: right;\">\n",
              "      <th></th>\n",
              "      <th>PassengerId</th>\n",
              "      <th>Survived</th>\n",
              "      <th>Pclass</th>\n",
              "      <th>Name</th>\n",
              "      <th>Sex</th>\n",
              "      <th>Age</th>\n",
              "      <th>SibSp</th>\n",
              "      <th>Parch</th>\n",
              "      <th>Ticket</th>\n",
              "      <th>Fare</th>\n",
              "      <th>Cabin</th>\n",
              "      <th>Embarked</th>\n",
              "    </tr>\n",
              "  </thead>\n",
              "  <tbody>\n",
              "    <tr>\n",
              "      <th>0</th>\n",
              "      <td>1</td>\n",
              "      <td>0</td>\n",
              "      <td>3</td>\n",
              "      <td>Braund, Mr. Owen Harris</td>\n",
              "      <td>male</td>\n",
              "      <td>22.0</td>\n",
              "      <td>1</td>\n",
              "      <td>0</td>\n",
              "      <td>A/5 21171</td>\n",
              "      <td>7.2500</td>\n",
              "      <td>NaN</td>\n",
              "      <td>S</td>\n",
              "    </tr>\n",
              "    <tr>\n",
              "      <th>1</th>\n",
              "      <td>2</td>\n",
              "      <td>1</td>\n",
              "      <td>1</td>\n",
              "      <td>Cumings, Mrs. John Bradley (Florence Briggs Th...</td>\n",
              "      <td>female</td>\n",
              "      <td>38.0</td>\n",
              "      <td>1</td>\n",
              "      <td>0</td>\n",
              "      <td>PC 17599</td>\n",
              "      <td>71.2833</td>\n",
              "      <td>C85</td>\n",
              "      <td>C</td>\n",
              "    </tr>\n",
              "    <tr>\n",
              "      <th>2</th>\n",
              "      <td>3</td>\n",
              "      <td>1</td>\n",
              "      <td>3</td>\n",
              "      <td>Heikkinen, Miss. Laina</td>\n",
              "      <td>female</td>\n",
              "      <td>26.0</td>\n",
              "      <td>0</td>\n",
              "      <td>0</td>\n",
              "      <td>STON/O2. 3101282</td>\n",
              "      <td>7.9250</td>\n",
              "      <td>NaN</td>\n",
              "      <td>S</td>\n",
              "    </tr>\n",
              "  </tbody>\n",
              "</table>\n",
              "</div>\n",
              "      <button class=\"colab-df-convert\" onclick=\"convertToInteractive('df-f85290de-9272-461d-b4ca-98da077a55a5')\"\n",
              "              title=\"Convert this dataframe to an interactive table.\"\n",
              "              style=\"display:none;\">\n",
              "        \n",
              "  <svg xmlns=\"http://www.w3.org/2000/svg\" height=\"24px\"viewBox=\"0 0 24 24\"\n",
              "       width=\"24px\">\n",
              "    <path d=\"M0 0h24v24H0V0z\" fill=\"none\"/>\n",
              "    <path d=\"M18.56 5.44l.94 2.06.94-2.06 2.06-.94-2.06-.94-.94-2.06-.94 2.06-2.06.94zm-11 1L8.5 8.5l.94-2.06 2.06-.94-2.06-.94L8.5 2.5l-.94 2.06-2.06.94zm10 10l.94 2.06.94-2.06 2.06-.94-2.06-.94-.94-2.06-.94 2.06-2.06.94z\"/><path d=\"M17.41 7.96l-1.37-1.37c-.4-.4-.92-.59-1.43-.59-.52 0-1.04.2-1.43.59L10.3 9.45l-7.72 7.72c-.78.78-.78 2.05 0 2.83L4 21.41c.39.39.9.59 1.41.59.51 0 1.02-.2 1.41-.59l7.78-7.78 2.81-2.81c.8-.78.8-2.07 0-2.86zM5.41 20L4 18.59l7.72-7.72 1.47 1.35L5.41 20z\"/>\n",
              "  </svg>\n",
              "      </button>\n",
              "      \n",
              "  <style>\n",
              "    .colab-df-container {\n",
              "      display:flex;\n",
              "      flex-wrap:wrap;\n",
              "      gap: 12px;\n",
              "    }\n",
              "\n",
              "    .colab-df-convert {\n",
              "      background-color: #E8F0FE;\n",
              "      border: none;\n",
              "      border-radius: 50%;\n",
              "      cursor: pointer;\n",
              "      display: none;\n",
              "      fill: #1967D2;\n",
              "      height: 32px;\n",
              "      padding: 0 0 0 0;\n",
              "      width: 32px;\n",
              "    }\n",
              "\n",
              "    .colab-df-convert:hover {\n",
              "      background-color: #E2EBFA;\n",
              "      box-shadow: 0px 1px 2px rgba(60, 64, 67, 0.3), 0px 1px 3px 1px rgba(60, 64, 67, 0.15);\n",
              "      fill: #174EA6;\n",
              "    }\n",
              "\n",
              "    [theme=dark] .colab-df-convert {\n",
              "      background-color: #3B4455;\n",
              "      fill: #D2E3FC;\n",
              "    }\n",
              "\n",
              "    [theme=dark] .colab-df-convert:hover {\n",
              "      background-color: #434B5C;\n",
              "      box-shadow: 0px 1px 3px 1px rgba(0, 0, 0, 0.15);\n",
              "      filter: drop-shadow(0px 1px 2px rgba(0, 0, 0, 0.3));\n",
              "      fill: #FFFFFF;\n",
              "    }\n",
              "  </style>\n",
              "\n",
              "      <script>\n",
              "        const buttonEl =\n",
              "          document.querySelector('#df-f85290de-9272-461d-b4ca-98da077a55a5 button.colab-df-convert');\n",
              "        buttonEl.style.display =\n",
              "          google.colab.kernel.accessAllowed ? 'block' : 'none';\n",
              "\n",
              "        async function convertToInteractive(key) {\n",
              "          const element = document.querySelector('#df-f85290de-9272-461d-b4ca-98da077a55a5');\n",
              "          const dataTable =\n",
              "            await google.colab.kernel.invokeFunction('convertToInteractive',\n",
              "                                                     [key], {});\n",
              "          if (!dataTable) return;\n",
              "\n",
              "          const docLinkHtml = 'Like what you see? Visit the ' +\n",
              "            '<a target=\"_blank\" href=https://colab.research.google.com/notebooks/data_table.ipynb>data table notebook</a>'\n",
              "            + ' to learn more about interactive tables.';\n",
              "          element.innerHTML = '';\n",
              "          dataTable['output_type'] = 'display_data';\n",
              "          await google.colab.output.renderOutput(dataTable, element);\n",
              "          const docLink = document.createElement('div');\n",
              "          docLink.innerHTML = docLinkHtml;\n",
              "          element.appendChild(docLink);\n",
              "        }\n",
              "      </script>\n",
              "    </div>\n",
              "  </div>\n",
              "  "
            ]
          },
          "metadata": {},
          "execution_count": 2
        }
      ]
    },
    {
      "cell_type": "code",
      "source": [
        "# Column의 데이터 타입 확인하기\n",
        "print('\\n ### train 데이터 정보 ###  \\n')\n",
        "print(titanic_df.info())"
      ],
      "metadata": {
        "colab": {
          "base_uri": "https://localhost:8080/"
        },
        "id": "WjHOF5BKP0KI",
        "outputId": "c515043f-8b61-49e8-cf72-239f60060fa8"
      },
      "execution_count": 5,
      "outputs": [
        {
          "output_type": "stream",
          "name": "stdout",
          "text": [
            "\n",
            " ### train 데이터 정보 ###  \n",
            "\n",
            "<class 'pandas.core.frame.DataFrame'>\n",
            "RangeIndex: 891 entries, 0 to 890\n",
            "Data columns (total 12 columns):\n",
            " #   Column       Non-Null Count  Dtype  \n",
            "---  ------       --------------  -----  \n",
            " 0   PassengerId  891 non-null    int64  \n",
            " 1   Survived     891 non-null    int64  \n",
            " 2   Pclass       891 non-null    int64  \n",
            " 3   Name         891 non-null    object \n",
            " 4   Sex          891 non-null    object \n",
            " 5   Age          714 non-null    float64\n",
            " 6   SibSp        891 non-null    int64  \n",
            " 7   Parch        891 non-null    int64  \n",
            " 8   Ticket       891 non-null    object \n",
            " 9   Fare         891 non-null    float64\n",
            " 10  Cabin        204 non-null    object \n",
            " 11  Embarked     889 non-null    object \n",
            "dtypes: float64(2), int64(5), object(5)\n",
            "memory usage: 83.7+ KB\n",
            "None\n"
          ]
        }
      ]
    },
    {
      "cell_type": "markdown",
      "source": [
        "#### | 타이타닉 데이터에서 Column의 데이터 타입\n",
        "___\n",
        "- RangeIndex : DataFrame 인덱스의 범위를 나타내기 때문에 전체 Row 수를 알 수 있다. 타이타닉 데이터의 경우, 891 entries로 891개의 Row로 구성되어 있다. \n",
        "- Data columns (total 12 columns) : 타이타닉 데이터의 Column 수는 12개이다.\n",
        "- float64 type : 2개\n",
        "- int64 type : 5개\n",
        "- object type : 5개(판다스의 object 자료형은 string 형처럼 생각해도 된다.)\n",
        "- Non-Null Count : Null 값이 아닌 값들의 개수\n",
        " * Age : 891 - 714 = 177개의 Null 값\n",
        " * Cabin : 891 - 204 = 608개의 Null 값\n",
        " * Embarked : 891 - 889 = 2개의 Null 값"
      ],
      "metadata": {
        "id": "pOXkKr11P25v"
      }
    },
    {
      "cell_type": "markdown",
      "source": [
        "#### | 결측치(Null값) 처리하기\n",
        "___\n",
        "- DataFrame의 `fillna()`함수를 사용해 Null 값을 간단하게 평균 또는 고정값으로 변경할 수 있다.\n",
        "  * Age의 경우 평균 나이로 변경한다.\n",
        "  * 나머지 두 Column은 'N'값으로 변경한다."
      ],
      "metadata": {
        "id": "FMS4Dgh0P5Ch"
      }
    },
    {
      "cell_type": "code",
      "source": [
        "# Null값 처리하기\n",
        "titanic_df['Age'].fillna(titanic_df['Age'].mean(),inplace=True) # 평균으로 변경\n",
        "titanic_df['Cabin'].fillna('N',inplace=True) # 'N'으로 변경\n",
        "titanic_df['Embarked'].fillna('N',inplace=True) # 'N'으로 변경\n",
        "\n",
        "print('데이터 세트 Null 값 갯수 ',titanic_df.isnull().sum().sum())"
      ],
      "metadata": {
        "colab": {
          "base_uri": "https://localhost:8080/"
        },
        "id": "ukw3KZHsP4Zk",
        "outputId": "2420a903-fc05-463f-ed84-b7e3bd75688b"
      },
      "execution_count": 6,
      "outputs": [
        {
          "output_type": "stream",
          "name": "stdout",
          "text": [
            "데이터 세트 Null 값 갯수  0\n"
          ]
        }
      ]
    },
    {
      "cell_type": "markdown",
      "source": [
        "#### | 문자열(Object) Feature 처리하기\n",
        "___"
      ],
      "metadata": {
        "id": "XJH7amtqP9P4"
      }
    },
    {
      "cell_type": "code",
      "source": [
        "# Feature들의 값 분류 살펴보기\n",
        "print('Sex 값 분포 :\\n',titanic_df['Sex'].value_counts())\n",
        "print('\\n Cabin 값 분포 :\\n',titanic_df['Cabin'].value_counts())\n",
        "print('\\n Embarked 값 분포 :\\n',titanic_df['Embarked'].value_counts())"
      ],
      "metadata": {
        "colab": {
          "base_uri": "https://localhost:8080/"
        },
        "id": "YKyORRBaP1zG",
        "outputId": "197dd5b6-5130-4d3b-b2d7-0a5a442a3836"
      },
      "execution_count": 7,
      "outputs": [
        {
          "output_type": "stream",
          "name": "stdout",
          "text": [
            "Sex 값 분포 :\n",
            " male      577\n",
            "female    314\n",
            "Name: Sex, dtype: int64\n",
            "\n",
            " Cabin 값 분포 :\n",
            " N              687\n",
            "C23 C25 C27      4\n",
            "G6               4\n",
            "B96 B98          4\n",
            "C22 C26          3\n",
            "              ... \n",
            "E34              1\n",
            "C7               1\n",
            "C54              1\n",
            "E36              1\n",
            "C148             1\n",
            "Name: Cabin, Length: 148, dtype: int64\n",
            "\n",
            " Embarked 값 분포 :\n",
            " S    644\n",
            "C    168\n",
            "Q     77\n",
            "N      2\n",
            "Name: Embarked, dtype: int64\n"
          ]
        }
      ]
    },
    {
      "cell_type": "markdown",
      "source": [
        "- Cabin : 'N'값이 687 건으로 가장 많으며(Null값 대신 넣은 값) 'C23 C25 C27'과 같이 여러 값이 한꺼번에 표기되어 있는 값이 있는 문제점들이 있다.\n",
        "- Cabin Feature에서 중요한 것은 선실 번호 중 선실 등급을 나타내는 첫 번재 알파벳\n",
        "- Why? : 일등실에 투숙한 사람이 삼등실에 투숙한 사람보다 살아날 확률이 더 높았을 것 같아서. **즉 선실 등급이 생존자 수에 영향을 미쳤을 것 같아서이다.**"
      ],
      "metadata": {
        "id": "6gEVig1mQCLY"
      }
    },
    {
      "cell_type": "code",
      "source": [
        "# Cabin Feature에서 선실 등급(첫 번째 알파벳)만 추출\n",
        "titanic_df['Cabin'] = titanic_df['Cabin'].str[:1]\n",
        "print(titanic_df['Cabin'].head(3))"
      ],
      "metadata": {
        "colab": {
          "base_uri": "https://localhost:8080/"
        },
        "id": "qp6yy3FRQEmZ",
        "outputId": "13e28dbb-b544-4626-b6f1-d9e2c5ff3464"
      },
      "execution_count": 8,
      "outputs": [
        {
          "output_type": "stream",
          "name": "stdout",
          "text": [
            "0    N\n",
            "1    C\n",
            "2    N\n",
            "Name: Cabin, dtype: object\n"
          ]
        }
      ]
    },
    {
      "cell_type": "markdown",
      "source": [
        "#### | 데이터 탐색(EDA)\n",
        "___\n",
        "Q. [예측] 어떤 유형의 승객이 생존 확률이 더 높았을까?\n",
        "  1. 바다에서 사고가 날 경우 여성과 아이들, 그리고 노약자가 제일 먼저 구조 대상이다.\n",
        "  2. 그다음 부자나 유명인이 다음 구조 대상이었을 것이다.\n",
        "  3. 삼등실에 탄 가난한 이들 중 많은 사람들이 타이타닉 호와 운명을 함께 했을 것이다.\n"
      ],
      "metadata": {
        "id": "TVCsGk_EQHDE"
      }
    },
    {
      "cell_type": "markdown",
      "source": [
        "##### **1. 성별에 따른 생존자 수 비교**"
      ],
      "metadata": {
        "id": "Qv2tL-6OQI2n"
      }
    },
    {
      "cell_type": "code",
      "source": [
        "# 성별과 생존자 수에 따라 groupby\n",
        "titanic_df.groupby(['Sex','Survived'])['Survived'].count()"
      ],
      "metadata": {
        "colab": {
          "base_uri": "https://localhost:8080/"
        },
        "id": "j2E9u9eWQGQN",
        "outputId": "746bdd75-0981-470c-981f-e794ebcf6164"
      },
      "execution_count": 9,
      "outputs": [
        {
          "output_type": "execute_result",
          "data": {
            "text/plain": [
              "Sex     Survived\n",
              "female  0            81\n",
              "        1           233\n",
              "male    0           468\n",
              "        1           109\n",
              "Name: Survived, dtype: int64"
            ]
          },
          "metadata": {},
          "execution_count": 9
        }
      ]
    },
    {
      "cell_type": "markdown",
      "source": [
        "- Survieved는 Label로 결정 클래스 값에 해당한다.\n",
        "- 0이면 사망, 1이면 생존\n",
        "- 탑승객은 남자가 577명, 여자가 314명으로 남자가 더 많았다.\n",
        "- 여자는 314명 중 생존자가 233명으로 약 74.2%가 생존했다.\n",
        "- 남자는 577명 중 생존자가 109명으로 약 18.8%가 생존했다.\n",
        "- 그래프를 이용해 데이터를 시각화해보자"
      ],
      "metadata": {
        "id": "6_Dq1AzKQMA2"
      }
    },
    {
      "cell_type": "code",
      "source": [
        "# 데이터 시각화 : 막대 그래프 그리기\n",
        "sns.barplot(x='Sex', y = 'Survived', data=titanic_df)"
      ],
      "metadata": {
        "colab": {
          "base_uri": "https://localhost:8080/",
          "height": 297
        },
        "id": "wNRxeBExQNOM",
        "outputId": "5f432eb6-d362-4975-9c1e-6a27b1bbbb0a"
      },
      "execution_count": 10,
      "outputs": [
        {
          "output_type": "execute_result",
          "data": {
            "text/plain": [
              "<matplotlib.axes._subplots.AxesSubplot at 0x7f24bd0a8750>"
            ]
          },
          "metadata": {},
          "execution_count": 10
        },
        {
          "output_type": "display_data",
          "data": {
            "text/plain": [
              "<Figure size 432x288 with 1 Axes>"
            ],
            "image/png": "[encoded data removed]"
          },
          "metadata": {
            "needs_background": "light"
          }
        }
      ]
    },
    {
      "cell_type": "markdown",
      "source": [
        "##### **2. 객실 등급에 따른 생존자 수 비교**\n",
        "- 객실 등급은 부를 측정할 수 있는 속성으로 적당하다.\n",
        "- 따라서 객실 등급에 따른 생존자 수를 비교하여 빈부에 의해 생존 확률이 달라졌는지를 확인할 수 있다."
      ],
      "metadata": {
        "id": "1NtmC42_QPjS"
      }
    },
    {
      "cell_type": "code",
      "source": [
        "# 객실 등급에 따른 생존자 수 막대 그래프\n",
        "sns.barplot(x='Pclass', y='Survived', hue='Sex', data=titanic_df)"
      ],
      "metadata": {
        "colab": {
          "base_uri": "https://localhost:8080/",
          "height": 297
        },
        "id": "ytJn6m_MQOq7",
        "outputId": "2cdddced-a864-49ce-c6da-c1a30b733b7a"
      },
      "execution_count": 11,
      "outputs": [
        {
          "output_type": "execute_result",
          "data": {
            "text/plain": [
              "<matplotlib.axes._subplots.AxesSubplot at 0x7f24bba65310>"
            ]
          },
          "metadata": {},
          "execution_count": 11
        },
        {
          "output_type": "display_data",
          "data": {
            "text/plain": [
              "<Figure size 432x288 with 1 Axes>"
            ],
            "image/png": "[encoded data removed]"
          },
          "metadata": {
            "needs_background": "light"
          }
        }
      ]
    },
    {
      "cell_type": "markdown",
      "source": [
        "- 여성의 경우, 일등실이나 이등실에 따른 생존 확률의 차이가 크지 않지만, 삼등실의 경우 생존 확률이 상대적으로 많이 떨어진다.\n",
        "- 남성의 경우, 일등실의 생존 확률이 다른 등급의 선실의 생존 확률보다 월등히 높다."
      ],
      "metadata": {
        "id": "DUZYQC5dQSaQ"
      }
    },
    {
      "cell_type": "markdown",
      "source": [
        "##### **3. 나이에 따른 생존자 수 비교**\n",
        "- Age는 값의 종류가 다양하기 때문에 범위별로 분류해 Category 값을 할당한다.\n",
        "  - Baby : 0 ~ 5 세\n",
        "  - Child : 6 ~ 12세\n",
        "  - Tennager : 13 ~ 18세\n",
        "  - Student : 19 ~ 25세\n",
        "  - Young Adult : 26 ~ 35세\n",
        "  - Adult : 36 ~ 60세\n",
        "  - Elderly : 61세 이상\n",
        "- -1 이하의 오류 값은 Unknown으로 분류한다."
      ],
      "metadata": {
        "id": "3r3CiGBTQUOy"
      }
    },
    {
      "cell_type": "code",
      "source": [
        "# 입력된 Age 값에 따라 Category 값을 반환하는 함수\n",
        "# DataFrame의 apply lambda식에 사용. \n",
        "\n",
        "def get_category(age):\n",
        "  cat = ''\n",
        "\n",
        "  if age <= -1: cat = 'Unknown'\n",
        "  elif age <= 5: cat = 'Baby'\n",
        "  elif age <= 12: cat = 'Child'\n",
        "  elif age <= 18: cat = 'Teenager'\n",
        "  elif age <= 25: cat = 'Student'\n",
        "  elif age <= 35: cat = 'Young Adult'\n",
        "  elif age <= 60: cat = 'Adult'\n",
        "  else : cat = 'Elderly'\n",
        "  \n",
        "  return cat"
      ],
      "metadata": {
        "id": "ToQLm71AQWCq"
      },
      "execution_count": 12,
      "outputs": []
    },
    {
      "cell_type": "code",
      "source": [
        "# 막대그래프의 크기 figure를 더 크게 설정 \n",
        "plt.figure(figsize=(10,6))"
      ],
      "metadata": {
        "colab": {
          "base_uri": "https://localhost:8080/",
          "height": 53
        },
        "id": "eYqM-F9YQXRE",
        "outputId": "0a02b617-3560-455e-a357-1fa1c61d72e4"
      },
      "execution_count": 13,
      "outputs": [
        {
          "output_type": "execute_result",
          "data": {
            "text/plain": [
              "<Figure size 720x432 with 0 Axes>"
            ]
          },
          "metadata": {},
          "execution_count": 13
        },
        {
          "output_type": "display_data",
          "data": {
            "text/plain": [
              "<Figure size 720x432 with 0 Axes>"
            ]
          },
          "metadata": {}
        }
      ]
    },
    {
      "cell_type": "code",
      "source": [
        "# X축의 값을 순차적으로 표시\n",
        "group_names = ['Unknown', 'Baby', 'Child', 'Teenager', 'Student', 'Young Adult', 'Adult', 'Elderly']"
      ],
      "metadata": {
        "id": "cwLx6kqOQYwi"
      },
      "execution_count": 14,
      "outputs": []
    },
    {
      "cell_type": "code",
      "source": [
        "# lambda 식에 위에서 생성한 get_category() 함수를 반환값으로 설정\n",
        "# get_category(X)는 입력값으로 'Age' 컬럼값을 받아서 해당하는 cat 반환\n",
        "titanic_df['Age_cat'] = titanic_df['Age'].apply(lambda x : get_category(x))\n",
        "sns.barplot(x='Age_cat', y = 'Survived', hue='Sex', data=titanic_df, order=group_names)\n",
        "\n",
        "# 사용 완료한 Column 삭제\n",
        "titanic_df.drop('Age_cat', axis=1, inplace=True)"
      ],
      "metadata": {
        "colab": {
          "base_uri": "https://localhost:8080/",
          "height": 280
        },
        "id": "_cjprf0EQZ3w",
        "outputId": "3dda66da-1c6d-419a-dbd5-28b8e848662c"
      },
      "execution_count": 15,
      "outputs": [
        {
          "output_type": "display_data",
          "data": {
            "text/plain": [
              "<Figure size 432x288 with 1 Axes>"
            ],
            "image/png": "[encoded data removed]"
          },
          "metadata": {
            "needs_background": "light"
          }
        }
      ]
    },
    {
      "cell_type": "markdown",
      "source": [
        "- 여자 Baby의 경우, 생존 확률이 비교적 높다.\n",
        "- 다만 여자 Child의 경우, 다른 연령대에 비해 생존 확률이 낮다.\n",
        "- 여자 Elderly의 경우, 생존 확률이 매우 높다."
      ],
      "metadata": {
        "id": "-TmaDlezQbVf"
      }
    },
    {
      "cell_type": "markdown",
      "source": [
        "##### | **데이터 탐색 결과**\n",
        "- Sex, Age, Pclass 등이 생존 확률에 영향을 미치는 Feature임을 확인하였다."
      ],
      "metadata": {
        "id": "bb-12UpvQcok"
      }
    },
    {
      "cell_type": "markdown",
      "source": [
        "#### | 문자열 Category Feature 변환하기\n",
        "___\n",
        "- 남아있는 문자열 Category Feature를 숫자형 Category Feature로 변환한다.\n",
        "- 인코딩은 사이킷런의 `LabelEncoder` 클래스를 이용해 **Label 인코딩**을 적용한다."
      ],
      "metadata": {
        "id": "EVjow9R-Qe5N"
      }
    },
    {
      "cell_type": "code",
      "source": [
        "from sklearn import preprocessing\n",
        "\n",
        "# 한 번에 변환하기 위해 encode_features 함수 생성\n",
        "def encode_features(dataDF):\n",
        "  # 남아있는 문자열 Category Feature\n",
        "  features = ['Cabin', 'Sex', 'Embarked'] \n",
        "  for feature in features:\n",
        "    le = preprocessing.LabelEncoder()\n",
        "    le = le.fit(dataDF[feature])\n",
        "    # Label 인코딩한 값으로 변경\n",
        "    dataDF[feature] = le.transform(dataDF[feature]) \n",
        "        \n",
        "  return dataDF"
      ],
      "metadata": {
        "id": "jvnLSDZaQeVK"
      },
      "execution_count": 16,
      "outputs": []
    },
    {
      "cell_type": "code",
      "source": [
        "# Titanic 데이터 Label 인코딩\n",
        "titanic_df = encode_features(titanic_df)\n",
        "titanic_df.head()"
      ],
      "metadata": {
        "colab": {
          "base_uri": "https://localhost:8080/",
          "height": 548
        },
        "id": "9nxdSfpRQhMg",
        "outputId": "033f80b2-acdd-46bf-be3e-213a206cd316"
      },
      "execution_count": 17,
      "outputs": [
        {
          "output_type": "execute_result",
          "data": {
            "text/plain": [
              "   PassengerId  Survived  Pclass  \\\n",
              "0            1         0       3   \n",
              "1            2         1       1   \n",
              "2            3         1       3   \n",
              "3            4         1       1   \n",
              "4            5         0       3   \n",
              "\n",
              "                                                Name  Sex   Age  SibSp  Parch  \\\n",
              "0                            Braund, Mr. Owen Harris    1  22.0      1      0   \n",
              "1  Cumings, Mrs. John Bradley (Florence Briggs Th...    0  38.0      1      0   \n",
              "2                             Heikkinen, Miss. Laina    0  26.0      0      0   \n",
              "3       Futrelle, Mrs. Jacques Heath (Lily May Peel)    0  35.0      1      0   \n",
              "4                           Allen, Mr. William Henry    1  35.0      0      0   \n",
              "\n",
              "             Ticket     Fare  Cabin  Embarked  \n",
              "0         A/5 21171   7.2500      7         3  \n",
              "1          PC 17599  71.2833      2         0  \n",
              "2  STON/O2. 3101282   7.9250      7         3  \n",
              "3            113803  53.1000      2         3  \n",
              "4            373450   8.0500      7         3  "
            ],
            "text/html": [
              "\n",
              "  <div id=\"df-20ba3316-31b3-4313-b08a-5c5744412f87\">\n",
              "    <div class=\"colab-df-container\">\n",
              "      <div>\n",
              "<style scoped>\n",
              "    .dataframe tbody tr th:only-of-type {\n",
              "        vertical-align: middle;\n",
              "    }\n",
              "\n",
              "    .dataframe tbody tr th {\n",
              "        vertical-align: top;\n",
              "    }\n",
              "\n",
              "    .dataframe thead th {\n",
              "        text-align: right;\n",
              "    }\n",
              "</style>\n",
              "<table border=\"1\" class=\"dataframe\">\n",
              "  <thead>\n",
              "    <tr style=\"text-align: right;\">\n",
              "      <th></th>\n",
              "      <th>PassengerId</th>\n",
              "      <th>Survived</th>\n",
              "      <th>Pclass</th>\n",
              "      <th>Name</th>\n",
              "      <th>Sex</th>\n",
              "      <th>Age</th>\n",
              "      <th>SibSp</th>\n",
              "      <th>Parch</th>\n",
              "      <th>Ticket</th>\n",
              "      <th>Fare</th>\n",
              "      <th>Cabin</th>\n",
              "      <th>Embarked</th>\n",
              "    </tr>\n",
              "  </thead>\n",
              "  <tbody>\n",
              "    <tr>\n",
              "      <th>0</th>\n",
              "      <td>1</td>\n",
              "      <td>0</td>\n",
              "      <td>3</td>\n",
              "      <td>Braund, Mr. Owen Harris</td>\n",
              "      <td>1</td>\n",
              "      <td>22.0</td>\n",
              "      <td>1</td>\n",
              "      <td>0</td>\n",
              "      <td>A/5 21171</td>\n",
              "      <td>7.2500</td>\n",
              "      <td>7</td>\n",
              "      <td>3</td>\n",
              "    </tr>\n",
              "    <tr>\n",
              "      <th>1</th>\n",
              "      <td>2</td>\n",
              "      <td>1</td>\n",
              "      <td>1</td>\n",
              "      <td>Cumings, Mrs. John Bradley (Florence Briggs Th...</td>\n",
              "      <td>0</td>\n",
              "      <td>38.0</td>\n",
              "      <td>1</td>\n",
              "      <td>0</td>\n",
              "      <td>PC 17599</td>\n",
              "      <td>71.2833</td>\n",
              "      <td>2</td>\n",
              "      <td>0</td>\n",
              "    </tr>\n",
              "    <tr>\n",
              "      <th>2</th>\n",
              "      <td>3</td>\n",
              "      <td>1</td>\n",
              "      <td>3</td>\n",
              "      <td>Heikkinen, Miss. Laina</td>\n",
              "      <td>0</td>\n",
              "      <td>26.0</td>\n",
              "      <td>0</td>\n",
              "      <td>0</td>\n",
              "      <td>STON/O2. 3101282</td>\n",
              "      <td>7.9250</td>\n",
              "      <td>7</td>\n",
              "      <td>3</td>\n",
              "    </tr>\n",
              "    <tr>\n",
              "      <th>3</th>\n",
              "      <td>4</td>\n",
              "      <td>1</td>\n",
              "      <td>1</td>\n",
              "      <td>Futrelle, Mrs. Jacques Heath (Lily May Peel)</td>\n",
              "      <td>0</td>\n",
              "      <td>35.0</td>\n",
              "      <td>1</td>\n",
              "      <td>0</td>\n",
              "      <td>113803</td>\n",
              "      <td>53.1000</td>\n",
              "      <td>2</td>\n",
              "      <td>3</td>\n",
              "    </tr>\n",
              "    <tr>\n",
              "      <th>4</th>\n",
              "      <td>5</td>\n",
              "      <td>0</td>\n",
              "      <td>3</td>\n",
              "      <td>Allen, Mr. William Henry</td>\n",
              "      <td>1</td>\n",
              "      <td>35.0</td>\n",
              "      <td>0</td>\n",
              "      <td>0</td>\n",
              "      <td>373450</td>\n",
              "      <td>8.0500</td>\n",
              "      <td>7</td>\n",
              "      <td>3</td>\n",
              "    </tr>\n",
              "  </tbody>\n",
              "</table>\n",
              "</div>\n",
              "      <button class=\"colab-df-convert\" onclick=\"convertToInteractive('df-20ba3316-31b3-4313-b08a-5c5744412f87')\"\n",
              "              title=\"Convert this dataframe to an interactive table.\"\n",
              "              style=\"display:none;\">\n",
              "        \n",
              "  <svg xmlns=\"http://www.w3.org/2000/svg\" height=\"24px\"viewBox=\"0 0 24 24\"\n",
              "       width=\"24px\">\n",
              "    <path d=\"M0 0h24v24H0V0z\" fill=\"none\"/>\n",
              "    <path d=\"M18.56 5.44l.94 2.06.94-2.06 2.06-.94-2.06-.94-.94-2.06-.94 2.06-2.06.94zm-11 1L8.5 8.5l.94-2.06 2.06-.94-2.06-.94L8.5 2.5l-.94 2.06-2.06.94zm10 10l.94 2.06.94-2.06 2.06-.94-2.06-.94-.94-2.06-.94 2.06-2.06.94z\"/><path d=\"M17.41 7.96l-1.37-1.37c-.4-.4-.92-.59-1.43-.59-.52 0-1.04.2-1.43.59L10.3 9.45l-7.72 7.72c-.78.78-.78 2.05 0 2.83L4 21.41c.39.39.9.59 1.41.59.51 0 1.02-.2 1.41-.59l7.78-7.78 2.81-2.81c.8-.78.8-2.07 0-2.86zM5.41 20L4 18.59l7.72-7.72 1.47 1.35L5.41 20z\"/>\n",
              "  </svg>\n",
              "      </button>\n",
              "      \n",
              "  <style>\n",
              "    .colab-df-container {\n",
              "      display:flex;\n",
              "      flex-wrap:wrap;\n",
              "      gap: 12px;\n",
              "    }\n",
              "\n",
              "    .colab-df-convert {\n",
              "      background-color: #E8F0FE;\n",
              "      border: none;\n",
              "      border-radius: 50%;\n",
              "      cursor: pointer;\n",
              "      display: none;\n",
              "      fill: #1967D2;\n",
              "      height: 32px;\n",
              "      padding: 0 0 0 0;\n",
              "      width: 32px;\n",
              "    }\n",
              "\n",
              "    .colab-df-convert:hover {\n",
              "      background-color: #E2EBFA;\n",
              "      box-shadow: 0px 1px 2px rgba(60, 64, 67, 0.3), 0px 1px 3px 1px rgba(60, 64, 67, 0.15);\n",
              "      fill: #174EA6;\n",
              "    }\n",
              "\n",
              "    [theme=dark] .colab-df-convert {\n",
              "      background-color: #3B4455;\n",
              "      fill: #D2E3FC;\n",
              "    }\n",
              "\n",
              "    [theme=dark] .colab-df-convert:hover {\n",
              "      background-color: #434B5C;\n",
              "      box-shadow: 0px 1px 3px 1px rgba(0, 0, 0, 0.15);\n",
              "      filter: drop-shadow(0px 1px 2px rgba(0, 0, 0, 0.3));\n",
              "      fill: #FFFFFF;\n",
              "    }\n",
              "  </style>\n",
              "\n",
              "      <script>\n",
              "        const buttonEl =\n",
              "          document.querySelector('#df-20ba3316-31b3-4313-b08a-5c5744412f87 button.colab-df-convert');\n",
              "        buttonEl.style.display =\n",
              "          google.colab.kernel.accessAllowed ? 'block' : 'none';\n",
              "\n",
              "        async function convertToInteractive(key) {\n",
              "          const element = document.querySelector('#df-20ba3316-31b3-4313-b08a-5c5744412f87');\n",
              "          const dataTable =\n",
              "            await google.colab.kernel.invokeFunction('convertToInteractive',\n",
              "                                                     [key], {});\n",
              "          if (!dataTable) return;\n",
              "\n",
              "          const docLinkHtml = 'Like what you see? Visit the ' +\n",
              "            '<a target=\"_blank\" href=https://colab.research.google.com/notebooks/data_table.ipynb>data table notebook</a>'\n",
              "            + ' to learn more about interactive tables.';\n",
              "          element.innerHTML = '';\n",
              "          dataTable['output_type'] = 'display_data';\n",
              "          await google.colab.output.renderOutput(dataTable, element);\n",
              "          const docLink = document.createElement('div');\n",
              "          docLink.innerHTML = docLinkHtml;\n",
              "          element.appendChild(docLink);\n",
              "        }\n",
              "      </script>\n",
              "    </div>\n",
              "  </div>\n",
              "  "
            ]
          },
          "metadata": {},
          "execution_count": 17
        }
      ]
    },
    {
      "cell_type": "markdown",
      "source": [
        "#### | 데이터의 전처리를 전체적으로 호출하는 함수\n",
        "___\n",
        "- 지금까지 Feature를 가공한 내역을 정리하고, 이를 함수로 만들어 쉽게 재사용할 수 있도록 한다.\n",
        "- 함수의 이름은 `transform_features()`로 한다.\n",
        "- `transform_features()`는 Null 처리, Formatting, Encoding을 수행하는 내부 함수를 가지고 있다."
      ],
      "metadata": {
        "id": "kqQMNcfPQiy0"
      }
    },
    {
      "cell_type": "code",
      "source": [
        "from sklearn.preprocessing import LabelEncoder"
      ],
      "metadata": {
        "id": "J6bLKxEsQkBn"
      },
      "execution_count": 18,
      "outputs": []
    },
    {
      "cell_type": "code",
      "source": [
        "# Null 처리\n",
        "def fillna(df):\n",
        "  df['Age'].fillna(df['Age'].mean(),inplace = True)\n",
        "  df['Cabin'].fillna('N',inplace = True)\n",
        "  df['Embarked'].fillna('N',inplace = True)\n",
        "  df['Fare'].fillna(0,inplace = True)\n",
        "  return df"
      ],
      "metadata": {
        "id": "8YIW13A2Qkno"
      },
      "execution_count": 19,
      "outputs": []
    },
    {
      "cell_type": "code",
      "source": [
        "# 머신러닝 알고리즘에 불필요한 Feature 제거\n",
        "def drop_features(df):\n",
        "  df.drop(['PassengerId','Name','Ticket'], axis = 1, inplace = True)\n",
        "  return df"
      ],
      "metadata": {
        "id": "o9WyZJ5RQlpO"
      },
      "execution_count": 20,
      "outputs": []
    },
    {
      "cell_type": "code",
      "source": [
        "# Label 인코딩\n",
        "def format_features(df):\n",
        "  df['Cabin'] = df['Cabin'].str[:1]\n",
        "  features = ['Cabin','Sex','Embarked']\n",
        "  for feature in features:\n",
        "    le = LabelEncoder()\n",
        "    le = le.fit(df[feature])\n",
        "    df[feature] = le.transform(df[feature])\n",
        "  return df"
      ],
      "metadata": {
        "id": "ktya_XypQnQN"
      },
      "execution_count": 21,
      "outputs": []
    },
    {
      "cell_type": "code",
      "source": [
        "# 앞에서 설정한 Data Preprocessing 함수 호출\n",
        "def transform_features(df):\n",
        "    df = fillna(df)\n",
        "    df = drop_features(df)\n",
        "    df = format_features(df)\n",
        "    return df"
      ],
      "metadata": {
        "id": "m0O0SdbjQoPP"
      },
      "execution_count": 22,
      "outputs": []
    },
    {
      "cell_type": "markdown",
      "source": [
        "#### | 데이터 전처리 및 학습/테스트 데이터 추출\n",
        "___\n",
        "- 원본 CSV 파일을 다시 로딩하고 `transform_features()` 함수를 이용해 다시 데이터 전처리를 해보도록 한다.\n",
        "- Label인 Survived은 별도로 분리하여 **클래스 결정값 데이터셋(y_train)**으로 만든다."
      ],
      "metadata": {
        "id": "Gxngwpt1Qqe8"
      }
    },
    {
      "cell_type": "code",
      "source": [
        "# 원본 데이터를 재로딩\n",
        "titanic_df = pd.read_csv('/content/drive/MyDrive/esaa/titanic/train.csv')\n",
        "\n",
        "# Feature 데이터셋과 Label 데이터셋\n",
        "y_titanic_df = titanic_df['Survived']\n",
        "X_titanic_df= titanic_df.drop('Survived',axis=1)\n",
        "\n",
        "# Feature 데이터셋 데이터 전처리\n",
        "X_titanic_df = transform_features(X_titanic_df)"
      ],
      "metadata": {
        "id": "zQY6zBPKQp1X"
      },
      "execution_count": 23,
      "outputs": []
    },
    {
      "cell_type": "code",
      "source": [
        "# 학습 데이터와 테스트 데이터 추출\n",
        "from sklearn.model_selection import train_test_split\n",
        "\n",
        "# test 데이터의 크기를 전체의 20%로 설정\n",
        "# random_state 값을 설정해 동일한 테스트 데이터가 추출되도록 설정\n",
        "X_train, X_test, y_train, y_test = train_test_split(X_titanic_df, y_titanic_df, test_size = 0.2, random_state = 11)"
      ],
      "metadata": {
        "id": "AX3Gip-qRIrG"
      },
      "execution_count": 24,
      "outputs": []
    },
    {
      "cell_type": "markdown",
      "source": [
        "#### | 타이타닉 생존자 수 예측\n",
        "___\n",
        "- ML 알고리즘인 **결정 트리, 랜덤 포레스트, 로지스틱 회귀**를 이용\n",
        "  1. 결정 트리 : ` DecisionTreeClassifier`\n",
        "  2. 랜덤 포레스트 : `RandomForestClassifier`\n",
        "  3. 로지스틱 회귀 : `LogisticRegression`\n",
        "- 위의 클래스들을 이용해 앞에서 분리한 학습/테스트 데이터를 기반으로 머신러닝 모델을 **학습(fit)**하고, **예측(predict)**할 것이다.\n",
        "- 예측 성능 평가는 정확도(Accuracy)로 한다. 정확도 계산을 위해 `accuracy_score` API를 사용한다."
      ],
      "metadata": {
        "id": "rvhbk93HQ0mq"
      }
    },
    {
      "cell_type": "code",
      "source": [
        "# Import module\n",
        "from sklearn.tree import DecisionTreeClassifier\n",
        "from sklearn.ensemble import RandomForestClassifier\n",
        "from sklearn.linear_model import LogisticRegression\n",
        "from sklearn.metrics import accuracy_score"
      ],
      "metadata": {
        "id": "a45YhC9tQ3it"
      },
      "execution_count": 25,
      "outputs": []
    },
    {
      "cell_type": "code",
      "source": [
        "# 결정트리, Random Forest, 로지스틱 회귀를 위한 사이킷런 클래스 생성\n",
        "dt_clf = DecisionTreeClassifier(random_state=11)\n",
        "rf_clf = RandomForestClassifier(random_state=11)\n",
        "lr_clf = LogisticRegression()"
      ],
      "metadata": {
        "id": "hMaBzDwKQ4lQ"
      },
      "execution_count": 26,
      "outputs": []
    },
    {
      "cell_type": "code",
      "source": [
        "# DecisionTreeClassifier 학습/예측/평가\n",
        "dt_clf.fit(X_train , y_train)\n",
        "dt_pred = dt_clf.predict(X_test)\n",
        "print('DecisionTreeClassifier 정확도: {0:.4f}'.format(accuracy_score(y_test, dt_pred)))"
      ],
      "metadata": {
        "colab": {
          "base_uri": "https://localhost:8080/"
        },
        "id": "jb5bExNrQ5tY",
        "outputId": "7483bddb-663e-42ce-e51e-8cb29d99ceca"
      },
      "execution_count": 27,
      "outputs": [
        {
          "output_type": "stream",
          "name": "stdout",
          "text": [
            "DecisionTreeClassifier 정확도: 0.7877\n"
          ]
        }
      ]
    },
    {
      "cell_type": "code",
      "source": [
        "# RandomForestClassifier 학습/예측/평가\n",
        "rf_clf.fit(X_train , y_train)\n",
        "rf_pred = rf_clf.predict(X_test)\n",
        "print('RandomForestClassifier 정확도:{0:.4f}'.format(accuracy_score(y_test, rf_pred)))"
      ],
      "metadata": {
        "colab": {
          "base_uri": "https://localhost:8080/"
        },
        "id": "6NL9JsEJQ6wk",
        "outputId": "51dd8042-23b5-4be2-cbf2-5adb7050fd97"
      },
      "execution_count": 28,
      "outputs": [
        {
          "output_type": "stream",
          "name": "stdout",
          "text": [
            "RandomForestClassifier 정확도:0.8547\n"
          ]
        }
      ]
    },
    {
      "cell_type": "code",
      "source": [
        "# LogisticRegression 학습/예측/평가\n",
        "lr_clf.fit(X_train , y_train)\n",
        "lr_pred = lr_clf.predict(X_test)\n",
        "print('LogisticRegression 정확도: {0:.4f}'.format(accuracy_score(y_test, lr_pred)))"
      ],
      "metadata": {
        "colab": {
          "base_uri": "https://localhost:8080/"
        },
        "id": "-oscpOy2LI3i",
        "outputId": "2e0b7e94-dcf7-4512-9702-030c199c36f8"
      },
      "execution_count": 29,
      "outputs": [
        {
          "output_type": "stream",
          "name": "stdout",
          "text": [
            "LogisticRegression 정확도: 0.8492\n"
          ]
        }
      ]
    },
    {
      "cell_type": "markdown",
      "source": [
        "- 아직 최적화 작업을 수행하지 않았고, 데이터 양도 충분하지 않기 때문에 어떤 알고리즘이 가장 성능이 좋다고 평가할 수 없다.\n"
      ],
      "metadata": {
        "id": "4g65S_uLQ3A6"
      }
    },
    {
      "cell_type": "markdown",
      "source": [
        "#### | 교차 검증으로 결정 트리 모델 평가\n",
        "___\n",
        "- `model_selection` 패키지의 `KFold` 클래스, `cross_val_score()`, `GridSearchCV` 클래스를 사용할 것이다.\n"
      ],
      "metadata": {
        "id": "2k2oSIvNLfAW"
      }
    },
    {
      "cell_type": "markdown",
      "source": [
        "##### 1. KFold 클래스를 이용한 교차 검증(폴드 개수 : 5개)"
      ],
      "metadata": {
        "id": "5-ib09PqLhaA"
      }
    },
    {
      "cell_type": "code",
      "source": [
        "# import Class\n",
        "from sklearn.model_selection import KFold\n",
        "\n",
        "\n",
        "def exec_kfold(clf, folds=5):\n",
        "  # 폴드 세트를 5개인 KFold객체를 생성, 폴드 수만큼 예측결과 저장을 위한  리스트 객체 생성.\n",
        "  kfold = KFold(n_splits=folds)\n",
        "  scores = []\n",
        "    \n",
        "  # KFold 교차 검증 수행. \n",
        "  for iter_count , (train_index, test_index) in enumerate(kfold.split(X_titanic_df)):\n",
        "    # X_titanic_df 데이터에서 교차 검증별로 학습과 검증 데이터를 가리키는 index 생성\n",
        "    X_train, X_test = X_titanic_df.values[train_index], X_titanic_df.values[test_index]\n",
        "    y_train, y_test = y_titanic_df.values[train_index], y_titanic_df.values[test_index]\n",
        "        \n",
        "    # Classifier 학습, 예측, 정확도 계산 \n",
        "    clf.fit(X_train, y_train) \n",
        "    predictions = clf.predict(X_test)\n",
        "    accuracy = accuracy_score(y_test, predictions)\n",
        "    scores.append(accuracy)\n",
        "    print(\"교차 검증 {0} 정확도: {1:.4f}\".format(iter_count, accuracy))     \n",
        "    \n",
        "  # 5개 fold에서의 평균 정확도 계산. \n",
        "  mean_score = np.mean(scores)\n",
        "  print(\"평균 정확도: {0:.4f}\".format(mean_score)) \n",
        "  \n",
        "# exec_kfold 호출\n",
        "exec_kfold(dt_clf , folds=5) "
      ],
      "metadata": {
        "colab": {
          "base_uri": "https://localhost:8080/"
        },
        "id": "ci7ES8POLg47",
        "outputId": "241bb6f1-9ea8-4c32-abee-8910af2ed52f"
      },
      "execution_count": 30,
      "outputs": [
        {
          "output_type": "stream",
          "name": "stdout",
          "text": [
            "교차 검증 0 정확도: 0.7542\n",
            "교차 검증 1 정확도: 0.7809\n",
            "교차 검증 2 정확도: 0.7865\n",
            "교차 검증 3 정확도: 0.7697\n",
            "교차 검증 4 정확도: 0.8202\n",
            "평균 정확도: 0.7823\n"
          ]
        }
      ]
    },
    {
      "cell_type": "markdown",
      "source": [
        "##### 2. `cross_val_scor()` API를 이용한 교차 검증"
      ],
      "metadata": {
        "id": "8Lt0t3HDLk8J"
      }
    },
    {
      "cell_type": "code",
      "source": [
        "# import API\n",
        "from sklearn.model_selection import cross_val_score\n",
        "\n",
        "scores = cross_val_score(dt_clf, X_titanic_df , y_titanic_df , cv=5)\n",
        "for iter_count,accuracy in enumerate(scores):\n",
        "  print(\"교차 검증 {0} 정확도: {1:.4f}\".format(iter_count, accuracy))\n",
        "\n",
        "print(\"평균 정확도: {0:.4f}\".format(np.mean(scores)))"
      ],
      "metadata": {
        "colab": {
          "base_uri": "https://localhost:8080/"
        },
        "id": "Ce5PElqYLmMi",
        "outputId": "80a0cc57-7687-4f1b-aec0-deaa53390411"
      },
      "execution_count": 31,
      "outputs": [
        {
          "output_type": "stream",
          "name": "stdout",
          "text": [
            "교차 검증 0 정확도: 0.7430\n",
            "교차 검증 1 정확도: 0.7753\n",
            "교차 검증 2 정확도: 0.7921\n",
            "교차 검증 3 정확도: 0.7865\n",
            "교차 검증 4 정확도: 0.8427\n",
            "평균 정확도: 0.7879\n"
          ]
        }
      ]
    },
    {
      "cell_type": "markdown",
      "source": [
        " - `cross_val_scor()`는 StratifiedKFold를 이용해 폴드 세트를 분할하기 때문에, 앞서 KFold를 이용해 교차 검증의 정확도와는 차이가 있다."
      ],
      "metadata": {
        "id": "n3K-JlSTLnyL"
      }
    },
    {
      "cell_type": "markdown",
      "source": [
        "##### 3. `GridSearchCV`를 이용해 하이퍼 파라미터 최적화 후 예측 성능 평가\n",
        "- CV는 5개의 폴드 세트를 지정\n",
        "- 하이퍼 파라미터는 `max_depth`, `min_samples_splet`, `min_samples_leaf`를 변경하면서 성능 측정\n",
        "- 최적 하이퍼 파라미터와 그때의 예측 결과, 예측 정확도를 출력한다."
      ],
      "metadata": {
        "id": "ksqoUZUKLpD6"
      }
    },
    {
      "cell_type": "code",
      "source": [
        "# import Class\n",
        "from sklearn.model_selection import GridSearchCV\n",
        "\n",
        "# 하이퍼 파라미터\n",
        "parameters = {'max_depth' : [2, 3, 5, 10], 'min_samples_split' : [2, 3, 5], 'min_samples_leaf' : [1, 5, 8]}"
      ],
      "metadata": {
        "id": "QhBdiS2YLquO"
      },
      "execution_count": 32,
      "outputs": []
    },
    {
      "cell_type": "code",
      "source": [
        "# 하이퍼 파라미터 최적화 및 학습\n",
        "grid_dclf = GridSearchCV(dt_clf , param_grid = parameters , scoring = 'accuracy', cv = 5)\n",
        "grid_dclf.fit(X_train , y_train)\n",
        "\n",
        "# 최적 하이퍼 파라미터와 그때의 예측 결과 출력\n",
        "print('GridSearchCV 최적 하이퍼 파라미터 :', grid_dclf.best_params_)\n",
        "\n",
        "# 그때의 예측 정확도를 출력\n",
        "print('GridSearchCV 최고 정확도: {0:.4f}'.format(grid_dclf.best_score_))"
      ],
      "metadata": {
        "colab": {
          "base_uri": "https://localhost:8080/"
        },
        "id": "LWP5x24tLsYz",
        "outputId": "1313f3c1-cf2c-43d3-ac93-183165bddee6"
      },
      "execution_count": 33,
      "outputs": [
        {
          "output_type": "stream",
          "name": "stdout",
          "text": [
            "GridSearchCV 최적 하이퍼 파라미터 : {'max_depth': 3, 'min_samples_leaf': 5, 'min_samples_split': 2}\n",
            "GridSearchCV 최고 정확도: 0.7992\n"
          ]
        }
      ]
    },
    {
      "cell_type": "code",
      "source": [
        "# 최적 하이퍼 파라미터로 학습된 Estimator 추출\n",
        "best_dclf = grid_dclf.best_estimator_\n",
        "\n",
        "# GridSearchCV의 최적 하이퍼 파라미터로 학습된 Estimator로 예측 및 평가 수행. \n",
        "dpredictions = best_dclf.predict(X_test)\n",
        "accuracy = accuracy_score(y_test, dpredictions)\n",
        "print('테스트 세트에서의 DecisionTreeClassifier 정확도 : {0:.4f}'.format(accuracy))"
      ],
      "metadata": {
        "colab": {
          "base_uri": "https://localhost:8080/"
        },
        "id": "8WCkRMEILt5N",
        "outputId": "16145205-da8e-4c32-967f-e1c472918e7b"
      },
      "execution_count": 34,
      "outputs": [
        {
          "output_type": "stream",
          "name": "stdout",
          "text": [
            "테스트 세트에서의 DecisionTreeClassifier 정확도 : 0.8715\n"
          ]
        }
      ]
    },
    {
      "cell_type": "markdown",
      "source": [],
      "metadata": {
        "id": "PrQG8jxzLqPz"
      }
    }
  ]
}