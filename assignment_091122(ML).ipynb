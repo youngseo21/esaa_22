{
  "nbformat": 4,
  "nbformat_minor": 0,
  "metadata": {
    "colab": {
      "provenance": [],
      "authorship_tag": "ABX9TyOb1ZJcdvVNuQKXb7Ef4F4T",
      "include_colab_link": true
    },
    "kernelspec": {
      "name": "python3",
      "display_name": "Python 3"
    },
    "language_info": {
      "name": "python"
    }
  },
  "cells": [
    {
      "cell_type": "markdown",
      "metadata": {
        "id": "view-in-github",
        "colab_type": "text"
      },
      "source": [
        "<a href=\"https://colab.research.google.com/github/youngseo21/esaa_22/blob/main/assignment_091122(ML).ipynb\" target=\"_parent\"><img src=\"https://colab.research.google.com/assets/colab-badge.svg\" alt=\"Open In Colab\"/></a>"
      ]
    },
    {
      "cell_type": "markdown",
      "source": [
        "#1. 파이썬 기반의 머신러닝과 생태계 이해\n",
        "---\n",
        "\n"
      ],
      "metadata": {
        "id": "vg6qCfh6pqzx"
      }
    },
    {
      "cell_type": "markdown",
      "source": [
        "## **Index**\n",
        "### 01. 머신러닝의 개념\n",
        "* 머신러닝의 분류\n",
        "\n",
        "### 02. 파이썬 머신러닝 생태계를 구성하는 주요 패키지\n",
        "\n",
        "### 03. 넘파이\n",
        "* 넘파이 ndarray 개요\n",
        "* ndarray의 데이터 타입\n",
        "* ndarray를 편리하게 생성하기 - `arange`, `zeros`, `ones`\n",
        "* ndarray의 차원과 크기를 변경하는 `reshape()`\n",
        "* 넘파이의 ndarray의 데이터 세트 선택하기 - 인덱싱(Indexing)\n",
        "* 행렬의 정렬 - `sort()`와 `argsort`()\n",
        "* 선형대수 연산 - 행렬 내적과 전치 행렬 구하기\n",
        "---"
      ],
      "metadata": {
        "id": "iREKsHU_vPqe"
      }
    },
    {
      "cell_type": "markdown",
      "source": [
        "#01. 머신러닝의 개념\n",
        "---\n",
        "- **Machine Learning**: 데이터를 기반으로 패턴을 학습하고 결과를 예측하는 알고리즘 기법\n",
        "- 기존에는 매우 복잡한 현실 세계의 조건들로 인해 해결하기 어려웠던 문제들을 머신러닝을 이용해 해결 가능하다.\n",
        "- 데이터마이닝, 영상 인식, 음성 인식, 자연어 처리에서 개발자가 데이터나 업무 로직의 특성을 직접 고려한 프로그램을 만들 때 난이도와 개발 복잡도가 너무 높아지는 문제를 머신러닝을 이용해 해결할 수 있다.\n",
        "\n",
        "### | 머신러닝의 분류\n",
        "---\n",
        "*   **지도학습(Supervised Learning)**\n",
        "  - 분류(Classification)\n",
        "  - 회귀(Regression)\n",
        "  - 그 외에도 추천 시스템; 시각/음성 감지/인지; 텍스트 분석(Text mining), 자연어 처리(NLP)\n",
        "\n",
        "*   **비지도학습(Unsupervised Learning)**\n",
        "  - 클러스터링(Clustering)\n",
        "  - 차원 축소\n",
        "* **강화학습(Reinforcement Learning)**"
      ],
      "metadata": {
        "id": "i_RdK9N2vHOw"
      }
    },
    {
      "cell_type": "markdown",
      "source": [
        "#02. 파이썬 머신러닝 생태계를 구성하는 주요 패키지\n",
        "---\n",
        "* 머신러닝 패키지: 사이킷런(**Scikit-Learn**), 텐서플로, 케라스\n",
        "* 행렬/선형대수/통계 패키지: 넘파이(**NumPy**), 사이파이(**SciPy**)\n",
        "* 데이터 핸들링: 판다스(**Pandas**)\n",
        "* 시각화: 맷플롯립(**Matplotlib**), 시본(**Seoborn**)"
      ],
      "metadata": {
        "id": "SlPGnmx314OU"
      }
    },
    {
      "cell_type": "markdown",
      "source": [
        "#03. 넘파이\n",
        "---\n",
        "* 머신러닝의 주요 알고리즘은 선형대수와 통계 등에 기반한다. \n",
        "* **NumPy(Numerical Python)**: 파이썬에서 선형대수 기반의 프로그램을 쉽게 만들 수 있도록 지원하는 대표적인 패키지\n",
        "* 구글의 대표적인 딥러닝 프레임워크인 텐서플로는 넘파이와 호환된다. \n",
        "* 넘파이는 배열 기반의 연산뿐 아니라 다양한 데이터 핸들링 기능을 제공한다. 하지만 대표적인 데이터 처리 패키지인 판다스의 편리성에는 미치지 못한다. \n",
        "* **넘파이를 이해하는 것은 파이썬 기반의 머신러닝에서 매우 중요하다.** 많은 머신러닝 알고리즘이 넘파이 기반으로 작성돼 있으며, 알고리즘의 입출력 데이터를 넘파이 배열 타입으로 사용하기 때문이다. 또한 판다스를 이해하는 데도 많은 도움이 된다. \n",
        "\n",
        "### | 넘파이 ndarray 개요\n",
        "---\n",
        "* 넘파이 모듈 임포트\n",
        "```python\n",
        "import numpy as np\n",
        "```\n",
        "* **ndarray**: 넘파이의 기반 데이터 타입 \n",
        "  - ndarray를 이용해 넘파이에서 다차원 배열을 쉽게 생성하고 다양한 연산 수행 가능\n",
        "* `np.array()` 함수: list와 같은 다양한 인자를 입력 받아서 ndarray로 변환\n",
        "```python\n",
        "array1 = np.array(argument)\n",
        "# argument = a list, tuple or any array-like object\n",
        "```\n",
        "* `ndarray.shape`: ndarray의 차원과 크기를 튜플 형태로 \n",
        "  - array1과 array3는 동일한 차원의 데이터가 아님을 유의하자. \n",
        "  - 리스트 [ ]는 1차원, 리스트의 리스트 [[ ]]는 2차원\n",
        "* `ndarray.ndim`를 이용해 각 array의 차원을 알 수 있다. \n"
      ],
      "metadata": {
        "id": "-w781tes7Lxp"
      }
    },
    {
      "cell_type": "code",
      "source": [
        "import numpy as np\n",
        "\n",
        "array1 = np.array([1,2,3]) # 3 element list\n",
        "print('array1 type: ', type(array1)) \n",
        "print('array1 array 형태: ', array1.shape) # 3 data를 가진 1차원 데이터\n",
        "\n",
        "array2 = np.array([[1,2,3], [2,3,4]]) # 2x3\n",
        "print('array2 type: ', type(array2))\n",
        "print('array2 array 형태: ', array2.shape) # 2 rows, 3 cols인 2차원 데이터\n",
        "\n",
        "array3 = np.array([[1,2,3]]) # 1x3. 대괄호가 2개\n",
        "print('array3 type: ', type(array3))\n",
        "print('array3 array 형태: ', array3.shape) # 1 rows, 3 cols인 2차원 데이터"
      ],
      "metadata": {
        "colab": {
          "base_uri": "https://localhost:8080/"
        },
        "id": "J6EX83eqE_yd",
        "outputId": "7769123d-e03c-438d-e7de-41fc5552d2b0"
      },
      "execution_count": 2,
      "outputs": [
        {
          "output_type": "stream",
          "name": "stdout",
          "text": [
            "array1 type:  <class 'numpy.ndarray'>\n",
            "array1 array 형태:  (3,)\n",
            "array2 type:  <class 'numpy.ndarray'>\n",
            "array2 array 형태:  (2, 3)\n",
            "array3 type:  <class 'numpy.ndarray'>\n",
            "array3 array 형태:  (1, 3)\n"
          ]
        }
      ]
    },
    {
      "cell_type": "code",
      "source": [
        "print('array1: {:0}차원, array2: {:1}차원, array3: {:2}차원'.format(array1.ndim, array2.ndim, array3.ndim))"
      ],
      "metadata": {
        "colab": {
          "base_uri": "https://localhost:8080/"
        },
        "id": "EL8SGAjJIHPL",
        "outputId": "2668f265-272b-4cc8-deca-56c43b1d0ec7"
      },
      "execution_count": null,
      "outputs": [
        {
          "output_type": "stream",
          "name": "stdout",
          "text": [
            "array1: 1차원, array2: 2차원, array3:  2차원\n"
          ]
        }
      ]
    },
    {
      "cell_type": "markdown",
      "source": [
        "### | ndarray의 데이터 타입\n",
        "---\n",
        "* ndarray내의 데이터값은 숫자(int형, float형), 문자열, 불(bool) 값 등 모두 가능 \n",
        "* 단, ndarray내의 데이터 타입은 그 연산의 특성상 같은 데이터 타입만 가능 (int와 float가 한 개의 ndarray 안에 함께 있을 수 없음)\n",
        "* `ndarray.dtype`으로 ndarray내의 데이터 타입 확인"
      ],
      "metadata": {
        "id": "eDNouXcNIGrL"
      }
    },
    {
      "cell_type": "code",
      "source": [
        "list1 = [1,2,3]\n",
        "print(type(list1))\n",
        "\n",
        "array1 = np.array(list1) # list to ndarray\n",
        "print(type(array1))\n",
        "print(array1, array1.dtype)\n",
        "\n",
        "print(list1, array1) # list는 comma로, ndarray는 띄어쓰기로 나뉨"
      ],
      "metadata": {
        "colab": {
          "base_uri": "https://localhost:8080/"
        },
        "id": "52Sfah0GLQ3s",
        "outputId": "de629c50-56f3-49ca-f358-36ca3888b335"
      },
      "execution_count": null,
      "outputs": [
        {
          "output_type": "stream",
          "name": "stdout",
          "text": [
            "<class 'list'>\n",
            "<class 'numpy.ndarray'>\n",
            "[1 2 3] int64\n",
            "[1, 2, 3] [1 2 3]\n"
          ]
        }
      ]
    },
    {
      "cell_type": "markdown",
      "source": [
        "* 다른 데이터 유형이 섞여 있는 리스트를 ndarray로 변경하면 **데이터 크기**가 더 큰 데이터 타입으로 형 변환을 일괄 적용"
      ],
      "metadata": {
        "id": "pWDFvyRcOE9h"
      }
    },
    {
      "cell_type": "code",
      "source": [
        "list2 = [1,2,'test'] # int형 값과 문자열이 섞인 리스트\n",
        "array2 = np.array(list1)\n",
        "print(array2, array2.dtype) # int로 통일\n",
        "\n",
        "list3 = [1,2, 3.0] # int형과 float형이 섞인 리스트\n",
        "array3 = np.array(list3)\n",
        "print(array3, array3.dtype) # float로 통일"
      ],
      "metadata": {
        "colab": {
          "base_uri": "https://localhost:8080/"
        },
        "id": "B-ebh9AAPMJE",
        "outputId": "328176ee-9a47-4141-ca28-d021245ab810"
      },
      "execution_count": null,
      "outputs": [
        {
          "output_type": "stream",
          "name": "stdout",
          "text": [
            "[1 2 3] int64\n",
            "[1. 2. 3.] float64\n"
          ]
        }
      ]
    },
    {
      "cell_type": "markdown",
      "source": [
        "* `ndarray.astype()`: ndarray내 데이터 값의 타입 변경\n",
        "  - 인자에 원하는 타입을 문자열로 지정\n",
        "  - 보통 대용량 데이터의 ndarray를 만들 때 메모리 절약을 위해 이용\n",
        "  - 머신러닝 알고리즘에 대용량의 데이터를 로딩할 경우 수행 속도가 느려지거나 메모리 부족으로 오류 발생"
      ],
      "metadata": {
        "id": "FMjX_mP5QB99"
      }
    },
    {
      "cell_type": "code",
      "source": [
        "array_int = np.array([1,2,3])\n",
        "print(array_int, array_int.dtype)\n",
        "\n",
        "array_float = array_int.astype('float64') # int64를 float64로 변경\n",
        "print(array_float, array_float.dtype)\n",
        "\n",
        "array_int1 = array_float.astype('int32') # float64를 int32로 변경\n",
        "print(array_int1, array_int1.dtype)\n",
        "\n",
        "array_float1 = np.array([1.1, 2.1, 3.1])\n",
        "array_int2 = array_float1.astype('int32') # float를 int형응로 변경\n",
        "print(array_int2, array_int2.dtype) # 소수점 이하는 없어짐"
      ],
      "metadata": {
        "colab": {
          "base_uri": "https://localhost:8080/"
        },
        "id": "8Hww-oaTRknB",
        "outputId": "9c4ac9a7-78af-449c-840b-f0766a38e205"
      },
      "execution_count": null,
      "outputs": [
        {
          "output_type": "stream",
          "name": "stdout",
          "text": [
            "[1 2 3] int64\n",
            "[1. 2. 3.] float64\n",
            "[1 2 3] int32\n",
            "[1 2 3] int32\n"
          ]
        }
      ]
    },
    {
      "cell_type": "markdown",
      "source": [
        "### | ndarray를 편리하게 생성하기 - `arange`, `zeros`, `ones`\n",
        "---\n",
        "* 특정 크기와 차원을 가진 ndarray를 연속값이나 0 또는 1로 초기화해야 할 때, `arange`, `zeros`, `ones`를 사용\n",
        "  - 테스트용으로 데이터를 만들 경우\n",
        "  - 대규모의 데이터를 일괄적으로 초기화해야 할 경우\n",
        "\n",
        "* `np.arange()`: 지정한 범위의 값을 순차적으로 ndarray의 값으로 반환\n",
        "  - range() 함수와 유사\n",
        "  - default 함수 인자는 stop 값. 0부터 (n - 1)까지의 값을 순차적으로 ndarray의 데이터값으로 변환\n",
        "  ```python\n",
        "  np.arange(n)\n",
        "  ```\n",
        "  - 혹은 start값과 숫자의 간격(step) 설정 가능\n",
        "  ```python\n",
        "  np.arange(start, stop, step)\n",
        "  ```"
      ],
      "metadata": {
        "id": "9vpSKQB-UsQI"
      }
    },
    {
      "cell_type": "code",
      "source": [
        "sequence_array = np.arange(10) # 0부터 (10-1)까지\n",
        "print(sequence_array)\n",
        "print(sequence_array.dtype, sequence_array.shape) # 1차원"
      ],
      "metadata": {
        "colab": {
          "base_uri": "https://localhost:8080/"
        },
        "id": "Kb13OLy_WWrp",
        "outputId": "418001ee-e239-4cdd-86c0-6d9ea90d05ed"
      },
      "execution_count": null,
      "outputs": [
        {
          "output_type": "stream",
          "name": "stdout",
          "text": [
            "[0 1 2 3 4 5 6 7 8 9]\n",
            "int64 (10,)\n"
          ]
        }
      ]
    },
    {
      "cell_type": "markdown",
      "source": [
        "* `np.zeros()`: 모든 값을 0으로 채운 ndarray를 반환\n",
        "  - 함수 인자로 튜플 형태의 shape 값을 입력\n",
        "  ```python\n",
        "  np.zeros((row, columm))\n",
        "  \n",
        "* `np.ones()`: 모든 값은 1로 채운 ndarray를 반환\n",
        "  - 함수 인자로 튜플 형태의 shape 값을 입력\n",
        "  - 함수 인자 `dtype`의 디폴트는 float64\n",
        "  ```python\n",
        "  np.ones((row, column, dtype = 'datatype')\n",
        "  ```"
      ],
      "metadata": {
        "id": "rNWxZUD_ZdRE"
      }
    },
    {
      "cell_type": "code",
      "source": [
        "zero_array = np.zeros((3,2), dtype = 'int32') # 3 rows, 2 cols \n",
        "print(zero_array)\n",
        "print(zero_array.dtype, zero_array.shape)\n",
        "\n",
        "one_array = np.ones((2,3)) # 2 rows, 3 cols, 'float64' default\n",
        "print(one_array)\n",
        "print(one_array.dtype, one_array.shape)\n",
        "\n",
        "one_array1 = np.ones((2,3), dtype = 'int32') # 2 rows, 3 cols, 'int32' dtype\n",
        "print(one_array1)\n",
        "print(one_array1.dtype, one_array1.shape)"
      ],
      "metadata": {
        "colab": {
          "base_uri": "https://localhost:8080/"
        },
        "id": "FNgNlNKxaeiW",
        "outputId": "cdf4ace0-107e-43e9-af7f-fbfa43bead71"
      },
      "execution_count": null,
      "outputs": [
        {
          "output_type": "stream",
          "name": "stdout",
          "text": [
            "[[0 0]\n",
            " [0 0]\n",
            " [0 0]]\n",
            "int32 (3, 2)\n",
            "[[1. 1. 1.]\n",
            " [1. 1. 1.]]\n",
            "float64 (2, 3)\n",
            "[[1 1 1]\n",
            " [1 1 1]]\n",
            "int32 (2, 3)\n"
          ]
        }
      ]
    },
    {
      "cell_type": "markdown",
      "source": [
        "### | ndarray의 차원과 크기를 변경하는 `reshape()`\n",
        "---\n",
        "* `ndarray.reshape()`: ndarray를 특정 차원 및 크기로 변환\n",
        "```python\n",
        "ndarray.reshape(row, column)\n",
        "```\n"
      ],
      "metadata": {
        "id": "K9N6aH9pctR0"
      }
    },
    {
      "cell_type": "code",
      "source": [
        "array1 = np.arange(10)\n",
        "print('array1:\\n', array1)\n",
        "\n",
        "array2 = array1.reshape(2,5) # into 2 rows, 5 cols\n",
        "print('array2:\\n', array2)\n",
        "\n",
        "array3 = array1.reshape(5,2) # into 5 rows, 2 cols\n",
        "print('array3:\\n', array3)"
      ],
      "metadata": {
        "colab": {
          "base_uri": "https://localhost:8080/"
        },
        "id": "6Wl2bIjpcxNj",
        "outputId": "5d83ed4f-b662-4d1c-b2de-b0a8ac13b826"
      },
      "execution_count": null,
      "outputs": [
        {
          "output_type": "stream",
          "name": "stdout",
          "text": [
            "array1:\n",
            " [0 1 2 3 4 5 6 7 8 9]\n",
            "array2:\n",
            " [[0 1 2 3 4]\n",
            " [5 6 7 8 9]]\n",
            "array3:\n",
            " [[0 1]\n",
            " [2 3]\n",
            " [4 5]\n",
            " [6 7]\n",
            " [8 9]]\n"
          ]
        }
      ]
    },
    {
      "cell_type": "markdown",
      "source": [
        "* 지정된 사이즈로 변경이 불가능하면 오류 발생"
      ],
      "metadata": {
        "id": "gdqI13_IenCx"
      }
    },
    {
      "cell_type": "code",
      "source": [
        "array1.reshape(4,3) # 4x3, 12 elements needed"
      ],
      "metadata": {
        "colab": {
          "base_uri": "https://localhost:8080/",
          "height": 169
        },
        "id": "6e7i1KO4euLO",
        "outputId": "b57bc273-6b67-47fc-9ab7-2298b03dd035"
      },
      "execution_count": null,
      "outputs": [
        {
          "output_type": "error",
          "ename": "ValueError",
          "evalue": "ignored",
          "traceback": [
            "\u001b[0;31m---------------------------------------------------------------------------\u001b[0m",
            "\u001b[0;31mValueError\u001b[0m                                Traceback (most recent call last)",
            "\u001b[0;32m<ipython-input-26-a40469ec5825>\u001b[0m in \u001b[0;36m<module>\u001b[0;34m\u001b[0m\n\u001b[0;32m----> 1\u001b[0;31m \u001b[0marray1\u001b[0m\u001b[0;34m.\u001b[0m\u001b[0mreshape\u001b[0m\u001b[0;34m(\u001b[0m\u001b[0;36m4\u001b[0m\u001b[0;34m,\u001b[0m\u001b[0;36m3\u001b[0m\u001b[0;34m)\u001b[0m\u001b[0;34m\u001b[0m\u001b[0;34m\u001b[0m\u001b[0m\n\u001b[0m",
            "\u001b[0;31mValueError\u001b[0m: cannot reshape array of size 10 into shape (4,3)"
          ]
        }
      ]
    },
    {
      "cell_type": "markdown",
      "source": [
        "* 인자로 -1를 적용할 경우 원래 ndarray와 호환되는 새로운 shape로 변환 (실전에서 더욱 효율적 사용)\n",
        "  - 단, -1을 사용하더라도 호환될 수 없는 형태는 변환 불가  \n",
        "  - 주로 `reshape(-1,1)`와 같은 형태로 자주 사용 \n",
        "    + 원본이 어떤 형태라도 2차원이고, 여러 개의 로우를 가지되 반드시 1개의 컬럼을 가진 ndarray로 변환됨.\n",
        "    + 3차원을 2차원으로, 1차원을 2차원으로 변경\n",
        "    + `ndarray.tolist(_)`: ndarray를 리스트 자료형으로 변환 "
      ],
      "metadata": {
        "id": "dEaMUXQ9ezp_"
      }
    },
    {
      "cell_type": "code",
      "source": [
        "array1 = np.arange(10)\n",
        "print(array1)\n",
        "array2 = array1.reshape(-1,5) # shape with 5 cols\n",
        "print('array2 shape:', array2.shape)\n",
        "\n",
        "array3 = array1.reshape(5,-1) # shape with 5 rows\n",
        "print('array3.shape:', array3.shape)"
      ],
      "metadata": {
        "colab": {
          "base_uri": "https://localhost:8080/"
        },
        "id": "_Yca4ex7ezMC",
        "outputId": "d36e8e84-88f2-4d72-c246-3d6acf676731"
      },
      "execution_count": null,
      "outputs": [
        {
          "output_type": "stream",
          "name": "stdout",
          "text": [
            "[0 1 2 3 4 5 6 7 8 9]\n",
            "array2 shape: (2, 5)\n",
            "array3.shape: (5, 2)\n"
          ]
        }
      ]
    },
    {
      "cell_type": "code",
      "source": [
        "array1 = np.arange(8) # 1차원 배열\n",
        "array3d = array1.reshape((2,2,2)) # 3차원 배열\n",
        "print('array3d:\\n', array3d.tolist()) # 리스트로 추출\n",
        "\n",
        "# 3차원 ndarray를 2차원 ndarray로 변환\n",
        "array5 = array3d.reshape(-1,1) # 2차원 배열\n",
        "print('array5:\\n', array5.tolist()) # 리스트로 추출\n",
        "print('array5 shape:', array5.shape) \n",
        "\n",
        "# 1차원 ndarray를 2차원 ndarray로 변환\n",
        "array6 = array1.reshape(-1,1) # 2차원 배열\n",
        "print('array6:\\n', array6.tolist()) # 리스트로 추출\n",
        "print('array6 shape:', array6.shape) "
      ],
      "metadata": {
        "colab": {
          "base_uri": "https://localhost:8080/"
        },
        "id": "Qjlbccr0fm35",
        "outputId": "18e1dd0e-d693-461f-9e9c-d906bd6c1c0e"
      },
      "execution_count": null,
      "outputs": [
        {
          "output_type": "stream",
          "name": "stdout",
          "text": [
            "array3d:\n",
            " [[[0, 1], [2, 3]], [[4, 5], [6, 7]]]\n",
            "array5:\n",
            " [[0], [1], [2], [3], [4], [5], [6], [7]]\n",
            "array5 shape: (8, 1)\n",
            "array6:\n",
            " [[0], [1], [2], [3], [4], [5], [6], [7]]\n",
            "array6 shape: (8, 1)\n"
          ]
        }
      ]
    },
    {
      "cell_type": "markdown",
      "source": [
        "### | 넘파이의 ndarray의 데이터 세트 선택하기 - 인덱싱(Indexing)\n",
        "---\n",
        "* 인덱싱을 이용하면 넘파이에서 ndarray 내의 일부 데이터 세트나 특정 데이터만을 선택할 수 있다.\n",
        "\n",
        "1. **단일 값 추출:**\n",
        "```pythone\n",
        "ndarray[index_value]\n",
        "```"
      ],
      "metadata": {
        "id": "5_-3l1Ygia9u"
      }
    },
    {
      "cell_type": "code",
      "source": [
        "# 1부터 9까지의 1차원 ndarray 생성\n",
        "array1 = np.arange(1, 10)\n",
        "print('array1: ', array1)\n",
        "\n",
        "# index는 0부터 시작하므로 array1[2]는 3번째 index 위치의 데이터값을 의미\n",
        "value = array1[2]\n",
        "print('value: ', value)\n",
        "print(type(value))"
      ],
      "metadata": {
        "colab": {
          "base_uri": "https://localhost:8080/"
        },
        "id": "vsDGlx1tk_Eb",
        "outputId": "eeeff9b1-39cf-4871-b15e-db44ffe8b1b3"
      },
      "execution_count": null,
      "outputs": [
        {
          "output_type": "stream",
          "name": "stdout",
          "text": [
            "array1:  [1 2 3 4 5 6 7 8 9]\n",
            "value:  3\n",
            "<class 'numpy.int64'>\n"
          ]
        }
      ]
    },
    {
      "cell_type": "code",
      "source": [
        "# negative index를 이용해 맨 뒤에서 부터 추출\n",
        "print('맨 뒤: ', array1[-1], '; 맨 뒤에서 두번째: ', array1[-2])"
      ],
      "metadata": {
        "colab": {
          "base_uri": "https://localhost:8080/"
        },
        "id": "TlvD6B4Umv6l",
        "outputId": "e112200a-e144-4fbd-cf6c-58c5476f2888"
      },
      "execution_count": null,
      "outputs": [
        {
          "output_type": "stream",
          "name": "stdout",
          "text": [
            "맨 뒤:  9 ; 맨 뒤에서 두번째:  8\n"
          ]
        }
      ]
    },
    {
      "cell_type": "code",
      "source": [
        "# index를 이용해 ndarray 데이터 값 수정\n",
        "array1[0] = 9 # 0번째 값은 9로 바꾼다\n",
        "array1[8] = 0 # 8번째 값은 0으로 바꾼다\n",
        "print('array1: ', array1)"
      ],
      "metadata": {
        "colab": {
          "base_uri": "https://localhost:8080/"
        },
        "id": "zkyN1siZnF-6",
        "outputId": "365b97d0-7999-4d48-ae59-0125fe0a96c8"
      },
      "execution_count": null,
      "outputs": [
        {
          "output_type": "stream",
          "name": "stdout",
          "text": [
            "array1:  [9 2 3 4 5 6 7 8 0]\n"
          ]
        }
      ]
    },
    {
      "cell_type": "code",
      "source": [
        "# 다차원 ndarray에서 단일 값 추출 \n",
        "array1d = np.arange(1, 10)\n",
        "array2d = array1d.reshape(3,3) # 2차원\n",
        "print(array2d)\n",
        "\n",
        "print('(row=0, col=0) index 가리키는 값: ', array2d[0,0])\n",
        "print('(row=0, col=1) index 가리키는 값: ', array2d[0,1])\n",
        "print('(row=1, col=0) index 가리키는 값: ', array2d[1,0])\n",
        "print('(row=2, col=2) index 가리키는 값: ', array2d[2,2])"
      ],
      "metadata": {
        "colab": {
          "base_uri": "https://localhost:8080/"
        },
        "id": "bjSZ6ejMoQEA",
        "outputId": "4a3bb275-5ce7-4b8b-c905-1d4e8de80634"
      },
      "execution_count": null,
      "outputs": [
        {
          "output_type": "stream",
          "name": "stdout",
          "text": [
            "[[1 2 3]\n",
            " [4 5 6]\n",
            " [7 8 9]]\n",
            "(row=0, col=0) index 가리키는 값:  1\n",
            "(row=0, col=1) index 가리키는 값:  2\n",
            "(row=1, col=0) index 가리키는 값:  4\n",
            "(row=2, col=2) index 가리키는 값:  9\n"
          ]
        }
      ]
    },
    {
      "cell_type": "markdown",
      "source": [
        "2. **slicing**: 연속된 인덱스 상의 ndarray를 추출\n",
        "```python\n",
        "ndarray(index_start : index_end)\n",
        "```\n"
      ],
      "metadata": {
        "id": "nQsSrhM3ptpo"
      }
    },
    {
      "cell_type": "code",
      "source": [
        "# 시작 인덱스에서  종료 인덱스-1 데이터 반환\n",
        "array1 = np.arange(start = 1, stop = 10)\n",
        "array3 = array1[0:3]\n",
        "print(array3)\n",
        "print(type(array3))"
      ],
      "metadata": {
        "colab": {
          "base_uri": "https://localhost:8080/"
        },
        "id": "5rcz7g0qdBpe",
        "outputId": "26d7efbc-6a95-4617-830a-aceb5e694de5"
      },
      "execution_count": 3,
      "outputs": [
        {
          "output_type": "stream",
          "name": "stdout",
          "text": [
            "[1 2 3]\n",
            "<class 'numpy.ndarray'>\n"
          ]
        }
      ]
    },
    {
      "cell_type": "code",
      "source": [
        "# ':' 기호 앞에 시작 인덱스 생략\n",
        "array1 = np.arange(1, 10)\n",
        "array4 = array1[:3]  # 맨 처음부터\n",
        "print(array4)\n",
        "\n",
        "# ':' 기호 뒤에 종료 인덱스 생략\n",
        "array5 = array1[3:] # 맨 마지막까지\n",
        "print(array5)\n",
        "\n",
        "# ':' 기호 앞/뒤 인덱스 생략\n",
        "array6 = array1[:] # 맨 처음부터 마지막까지\n",
        "print(array6)"
      ],
      "metadata": {
        "colab": {
          "base_uri": "https://localhost:8080/"
        },
        "id": "O2lCghZxdoy2",
        "outputId": "299c9665-a2b8-4682-e0cb-1e8db3361ba1"
      },
      "execution_count": 5,
      "outputs": [
        {
          "output_type": "stream",
          "name": "stdout",
          "text": [
            "[1 2 3]\n",
            "[4 5 6 7 8 9]\n",
            "[1 2 3 4 5 6 7 8 9]\n"
          ]
        }
      ]
    },
    {
      "cell_type": "code",
      "source": [
        "#2차원 ndarray 슬라이싱\n",
        "array1d = np.arange(1,10)\n",
        "array2d = array1d.reshape(3,3)\n",
        "print('array2d:\\n', array2d)\n",
        "\n",
        "print('array2d[0:2, 0:2] \\n', array2d[0:2, 0:2])\n",
        "print('array2d[1:3, 0:3] \\n', array2d[1:3, 0:3])\n",
        "print('array2d[1:3, :] \\n', array2d[1:3, :])\n",
        "print('array2d[:, :] \\n', array2d[:, :])\n",
        "print('array2d[:2, 1:] /n', array2d[:2, 1:])\n",
        "print('array2d[:2, 0] \\n', array2d[:2, 0])"
      ],
      "metadata": {
        "colab": {
          "base_uri": "https://localhost:8080/"
        },
        "id": "eC_x6CDFelIJ",
        "outputId": "49ccaa24-63ba-45e5-d2b1-94a4a8e0ff3a"
      },
      "execution_count": 9,
      "outputs": [
        {
          "output_type": "stream",
          "name": "stdout",
          "text": [
            "array2d:\n",
            " [[1 2 3]\n",
            " [4 5 6]\n",
            " [7 8 9]]\n",
            "array2d[0:2, 0:2] \n",
            " [[1 2]\n",
            " [4 5]]\n",
            "array2d[1:3, 0:3] \n",
            " [[4 5 6]\n",
            " [7 8 9]]\n",
            "array2d[1:3, :] \n",
            " [[4 5 6]\n",
            " [7 8 9]]\n",
            "array2d[:, :] \n",
            " [[1 2 3]\n",
            " [4 5 6]\n",
            " [7 8 9]]\n",
            "array2d[:2, 1:] /n [[2 3]\n",
            " [5 6]]\n",
            "array2d[:2, 0] \n",
            " [1 4]\n"
          ]
        }
      ]
    },
    {
      "cell_type": "code",
      "source": [
        "# 2차원 ndarray에서 뒤에 오는 인덱스를 없애면 1차원 ndarray 반환\n",
        "print(array2d[0])\n",
        "print(array2d[1])\n",
        "print('array2d[0] shape:', array2d[0].shape, '\\narray2d[1] shape:', array2d[1].shape)"
      ],
      "metadata": {
        "colab": {
          "base_uri": "https://localhost:8080/"
        },
        "id": "NTdMVNKyf1NS",
        "outputId": "e815dadd-eb88-4f54-fda7-f78c7f2ff7f2"
      },
      "execution_count": 11,
      "outputs": [
        {
          "output_type": "stream",
          "name": "stdout",
          "text": [
            "[1 2 3]\n",
            "[4 5 6]\n",
            "array2d[0] shape: (3,) \n",
            "array2d[1] shape: (3,)\n"
          ]
        }
      ]
    },
    {
      "cell_type": "markdown",
      "source": [
        "3. **Fancy indexing**: 일정한 인덱싱 집합을 리스트 또는 ndarray 형태로 지정해 해당 위치에 있는 데이터의 ndarrray를 반환"
      ],
      "metadata": {
        "id": "_hYm9lvtgXOB"
      }
    },
    {
      "cell_type": "code",
      "source": [
        "array1d = np.arange(1,10)\n",
        "array2d = array1d.reshape(3,3)\n",
        "\n",
        "array3 = array2d[[0,1], 2]\n",
        "print('array2d[[0,1], 2] =>', array3.tolist())\n",
        "\n",
        "array4 = array2d[[0,1], 0:2]\n",
        "print('array2d[[0,1], 0:2] =>', array4.tolist())\n",
        "\n",
        "array5 = array2d[[0,1]]\n",
        "print('array2d[[0,1]] =>', array5.tolist())"
      ],
      "metadata": {
        "colab": {
          "base_uri": "https://localhost:8080/"
        },
        "id": "RkgkCNvTg3aY",
        "outputId": "26c44d87-6521-4632-e6bc-096bde009fd9"
      },
      "execution_count": 13,
      "outputs": [
        {
          "output_type": "stream",
          "name": "stdout",
          "text": [
            "array2d[[0,1], 2] => [3, 6]\n",
            "array2d[[0,1], 0:2] => [[1, 2], [4, 5]]\n",
            "array2d[[0,1]] => [[1, 2, 3], [4, 5, 6]]\n"
          ]
        }
      ]
    },
    {
      "cell_type": "markdown",
      "source": [
        "4. **Boolean indexing**: 특정 조건에 해당하는지 여부인 True/False 값 인덱싱 집합을 기반으로 True에 해당하는 인덱스 위치에 있는 데이터 ndarray를 반환"
      ],
      "metadata": {
        "id": "Y4jsJTbtgkMu"
      }
    },
    {
      "cell_type": "code",
      "source": [
        "array1d = np.arange(1,10)\n",
        "\n",
        "# [ ] 안에 array1d > 5 Boolean indexing을 적용\n",
        "array3 = array1d[array1d > 5]\n",
        "print('array1d > 5 불린 인덱싱 결과 값 :', array3)"
      ],
      "metadata": {
        "colab": {
          "base_uri": "https://localhost:8080/"
        },
        "id": "GRqXoS-WhxSi",
        "outputId": "a885a983-c31e-49ee-da3c-38ef3aa31d02"
      },
      "execution_count": 14,
      "outputs": [
        {
          "output_type": "stream",
          "name": "stdout",
          "text": [
            "array1d > 5 불린 인덱싱 결과 값 : [6 7 8 9]\n"
          ]
        }
      ]
    },
    {
      "cell_type": "code",
      "source": [
        "array1d > 5"
      ],
      "metadata": {
        "colab": {
          "base_uri": "https://localhost:8080/"
        },
        "id": "QiSgxwAKiFTe",
        "outputId": "32d1182c-d41e-4fc3-acc4-b554059da2d5"
      },
      "execution_count": 15,
      "outputs": [
        {
          "output_type": "execute_result",
          "data": {
            "text/plain": [
              "array([False, False, False, False, False,  True,  True,  True,  True])"
            ]
          },
          "metadata": {},
          "execution_count": 15
        }
      ]
    },
    {
      "cell_type": "code",
      "source": [
        "boolean_indexes = np.array([False, False, False, False, False,  True,  True,  True,  True])\n",
        "array3 = array1d[boolean_indexes]\n",
        "print('불린 인덱스로 필터링 결과 :', array3)"
      ],
      "metadata": {
        "colab": {
          "base_uri": "https://localhost:8080/"
        },
        "id": "KL6ZwpbFiM_Q",
        "outputId": "a9cbd836-5533-461e-8b7e-01e3d767030b"
      },
      "execution_count": 16,
      "outputs": [
        {
          "output_type": "stream",
          "name": "stdout",
          "text": [
            "불린 인덱스로 필터링 결과 : [6 7 8 9]\n"
          ]
        }
      ]
    },
    {
      "cell_type": "code",
      "source": [
        "indexes = np.array([5,6,7,8])\n",
        "array4 = array1d[indexes]\n",
        "print('일반 인덱스로 필터링 결과 :', array4)"
      ],
      "metadata": {
        "colab": {
          "base_uri": "https://localhost:8080/"
        },
        "id": "AuT359XsiYlj",
        "outputId": "e3582daf-91aa-40c1-f21b-8cbc210a995b"
      },
      "execution_count": 17,
      "outputs": [
        {
          "output_type": "stream",
          "name": "stdout",
          "text": [
            "일반 인덱스로 필터링 결과 : [6 7 8 9]\n"
          ]
        }
      ]
    },
    {
      "cell_type": "markdown",
      "source": [
        "### | 행렬의 정렬 - `sort()`와 `argsort()``\n",
        "---\n",
        "* 행렬 정렬\n",
        "  - `np.sort()`: 넘파이에서 sort()를 호출하는 방식으로 원 행렬은 그대로 유지한 채 원 행렬의 정렬된 행렬을 반환\n",
        "  - `ndarray.sort()`: 행렬 자체에서 sort()를 호출하는 방식으로 원 행렬 자체를 정렬한 형태로 변환하며 반환 값은 None"
      ],
      "metadata": {
        "id": "SF0_Kzpjiqdq"
      }
    },
    {
      "cell_type": "code",
      "source": [
        "org_array = np.array([3,1,9,5])\n",
        "print('원본 행렬:', org_array)\n",
        "\n",
        "# np.sort()로 정렬\n",
        "sort_array1 = np.sort(org_array)\n",
        "print('np.sort() 호출 후 반환된 정렬 행렬:', sort_array1)\n",
        "print('np.sort() 호출 후 반환된 원본 행렬:', org_array)\n",
        "\n",
        "# ndarray.sort()로 정렬\n",
        "sort_array2 = org_array.sort()\n",
        "print('org_array.sort() 호출 후 반환된 행렬: ', sort_array2)\n",
        "print('org_array.sort() 호출 후 원본 행렬: ', org_array) "
      ],
      "metadata": {
        "colab": {
          "base_uri": "https://localhost:8080/"
        },
        "id": "mc87g5LMj08e",
        "outputId": "a6307a84-4b39-4570-b6b3-8f68d2b4a924"
      },
      "execution_count": 19,
      "outputs": [
        {
          "output_type": "stream",
          "name": "stdout",
          "text": [
            "원본 행렬: [3 1 9 5]\n",
            "np.sort() 호출 후 반환된 정렬 행렬: [1 3 5 9]\n",
            "np.sort() 호출 후 반환된 원본 행렬: [3 1 9 5]\n",
            "org_array.sort() 호출 후 반환된 행렬:  None\n",
            "org_array.sort() 호출 후 원본 행렬:  [1 3 5 9]\n"
          ]
        }
      ]
    },
    {
      "cell_type": "code",
      "source": [
        "# 내림차순 정렬\n",
        "sort_array1_desc = np.sort(org_array)[::-1]\n",
        "print('내림차순으로 정렬: ', sort_array1_desc)"
      ],
      "metadata": {
        "colab": {
          "base_uri": "https://localhost:8080/"
        },
        "id": "KbUZZUZhlJca",
        "outputId": "a43cd112-8233-4ad7-91d2-04087ead6a3f"
      },
      "execution_count": 21,
      "outputs": [
        {
          "output_type": "stream",
          "name": "stdout",
          "text": [
            "내림차순으로 정렬:  [9 5 3 1]\n"
          ]
        }
      ]
    },
    {
      "cell_type": "code",
      "source": [
        "array2d = np.array([[8,12], [7,1]])\n",
        "print('원본 행렬:\\n', array2d)\n",
        "\n",
        "sort_array2d_axis0 = np.sort(array2d, axis=0)\n",
        "print('로우 방향으로 정렬:\\n', sort_array2d_axis0)\n",
        "\n",
        "sort_array2d_axis1 = np.sort(array2d, axis=1)\n",
        "print('칼럼 방향으로 정렬:\\n', sort_array2d_axis1)"
      ],
      "metadata": {
        "colab": {
          "base_uri": "https://localhost:8080/"
        },
        "id": "hn0yHIGAllUY",
        "outputId": "0989719e-56ef-4a93-fc9a-da258264dfd1"
      },
      "execution_count": 26,
      "outputs": [
        {
          "output_type": "stream",
          "name": "stdout",
          "text": [
            "원본 행렬:\n",
            " [[ 8 12]\n",
            " [ 7  1]]\n",
            "로우 방향으로 정렬:\n",
            " [[ 7  1]\n",
            " [ 8 12]]\n",
            "칼럼 방향으로 정렬:\n",
            " [[ 8 12]\n",
            " [ 1  7]]\n"
          ]
        }
      ]
    },
    {
      "cell_type": "markdown",
      "source": [
        "* 정렬된 행렬의 인덱스 반환하기\n",
        "    - `np.argsort()`: 정렬 행렬의 원본 행렬 인덱스를 ndarray 형으로 반환\n",
        "    - 넘파이에서는 메타 데이터를 가질 수 없기 때문에 그 활용도가 매우 높음"
      ],
      "metadata": {
        "id": "tZ4hyPukmWBx"
      }
    },
    {
      "cell_type": "code",
      "source": [
        "org_array = np.array([3,1,9,5])\n",
        "sort_indices = np.argsort(org_array)\n",
        "print(type(sort_indices))\n",
        "print('행렬 정렬 시 원본 행렬의 인덱스: ', sort_indices)"
      ],
      "metadata": {
        "colab": {
          "base_uri": "https://localhost:8080/"
        },
        "id": "Q8kCMjuloS_5",
        "outputId": "e0a8a213-4ce6-40fc-eaaa-5371bb1e4254"
      },
      "execution_count": 27,
      "outputs": [
        {
          "output_type": "stream",
          "name": "stdout",
          "text": [
            "<class 'numpy.ndarray'>\n",
            "행렬 정렬 시 원본 행렬의 인덱스:  [1 0 3 2]\n"
          ]
        }
      ]
    },
    {
      "cell_type": "code",
      "source": [
        "# 내림차순 정렬 시 \n",
        "org_array = np.array([3,1,9,5])\n",
        "sort_indices_desc = np.argsort(org_array)[::-1]\n",
        "print('행렬 내림차순 정렬 시 원본 행렬의 인덱스: ', sort_indices_desc)"
      ],
      "metadata": {
        "colab": {
          "base_uri": "https://localhost:8080/"
        },
        "id": "VeCJzzvZohtc",
        "outputId": "dfe683ca-dbfb-43ce-8fb9-adf23e279e05"
      },
      "execution_count": 28,
      "outputs": [
        {
          "output_type": "stream",
          "name": "stdout",
          "text": [
            "행렬 내림차순 정렬 시 원본 행렬의 인덱스:  [2 3 0 1]\n"
          ]
        }
      ]
    },
    {
      "cell_type": "code",
      "source": [
        "name_array = np.array(['John', 'Mike', 'Sarah', 'Kate', 'Samuel'])\n",
        "score_array = np.array([78, 95, 84, 98, 88])\n",
        "\n",
        "sort_indices_asc = np.argsort(score_array)\n",
        "print('성적 오름차순 정렬 시 score_array의 인덱스: ', sort_indices_asc)\n",
        "print('성적 오름차으로 name_array의 이름 출력: ', name_array[sort_indices_asc])"
      ],
      "metadata": {
        "colab": {
          "base_uri": "https://localhost:8080/"
        },
        "id": "So-oFW4kqAKo",
        "outputId": "ae89483f-5f2e-41ae-b18c-ea9fb4924a3a"
      },
      "execution_count": 30,
      "outputs": [
        {
          "output_type": "stream",
          "name": "stdout",
          "text": [
            "성적 오름차순 정렬 시 score_array의 인덱스:  [0 2 4 1 3]\n",
            "성적 오름차으로 name_array의 이름 출력:  ['John' 'Sarah' 'Samuel' 'Mike' 'Kate']\n"
          ]
        }
      ]
    },
    {
      "cell_type": "markdown",
      "source": [
        "### | 선형대수 연산 - 행렬 내적과 전치 행렬 구하기 \n",
        "---\n",
        "* 행렬 내적(행렬 곱)\n",
        "```python\n",
        "np.dot(A, B)\n",
        "```\n"
      ],
      "metadata": {
        "id": "C1ofeAczrrlv"
      }
    },
    {
      "cell_type": "code",
      "source": [
        "A = np.array([[1,2,3], [4,5,6]])\n",
        "B = np.array([[7,8], [9,10], [11,12]])\n",
        "dot_product = np.dot(A,B)\n",
        "print('행렬 내적 결과:\\n', dot_product)"
      ],
      "metadata": {
        "colab": {
          "base_uri": "https://localhost:8080/"
        },
        "id": "ehZaAsjvsK0F",
        "outputId": "098d0e06-bfc8-4a0b-d540-e3f7cf1c9531"
      },
      "execution_count": 32,
      "outputs": [
        {
          "output_type": "stream",
          "name": "stdout",
          "text": [
            "행렬 내적 결과:\n",
            " [[ 58  64]\n",
            " [139 154]]\n"
          ]
        }
      ]
    },
    {
      "cell_type": "markdown",
      "source": [
        "* 전치 행렬: 원 행렬에서 행과 열 위치를 교환한 원소로 구성한 행렬\n",
        "```python\n",
        "np.transpose(A)\n",
        "```"
      ],
      "metadata": {
        "id": "WQYJVmwOsf42"
      }
    },
    {
      "cell_type": "code",
      "source": [
        "A = np.array([[1,2], [3,4]])\n",
        "transpose_mat = np.transpose(A)\n",
        "print('A의 전치 행렬:\\n', transpose_mat)"
      ],
      "metadata": {
        "colab": {
          "base_uri": "https://localhost:8080/"
        },
        "id": "KCSstUIDswh5",
        "outputId": "183a9c3c-0e90-487f-9348-6bb7a4adc46c"
      },
      "execution_count": 33,
      "outputs": [
        {
          "output_type": "stream",
          "name": "stdout",
          "text": [
            "A의 전치 행렬:\n",
            " [[1 3]\n",
            " [2 4]]\n"
          ]
        }
      ]
    }
  ]
}