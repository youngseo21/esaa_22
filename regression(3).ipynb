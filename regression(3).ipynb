{
  "nbformat": 4,
  "nbformat_minor": 0,
  "metadata": {
    "colab": {
      "provenance": [],
      "authorship_tag": "ABX9TyNTt44O80WufLdXtWU1m3ft",
      "include_colab_link": true
    },
    "kernelspec": {
      "name": "python3",
      "display_name": "Python 3"
    },
    "language_info": {
      "name": "python"
    }
  },
  "cells": [
    {
      "cell_type": "markdown",
      "metadata": {
        "id": "view-in-github",
        "colab_type": "text"
      },
      "source": [
        "<a href=\"https://colab.research.google.com/github/youngseo21/esaa_22/blob/main/regression(3).ipynb\" target=\"_parent\"><img src=\"https://colab.research.google.com/assets/colab-badge.svg\" alt=\"Open In Colab\"/></a>"
      ]
    },
    {
      "cell_type": "code",
      "source": [
        "# import package\n",
        "import numpy as np\n",
        "import matplotlib.pyplot as plt\n",
        "import pandas as pd\n",
        "import seaborn as sns\n",
        "from scipy import stats\n",
        "from sklearn.datasets import load_boston\n",
        "%matplotlib inline\n",
        "import warnings\n",
        "warnings.filterwarnings('ignore')"
      ],
      "metadata": {
        "id": "ScL1LdLaFDDS"
      },
      "execution_count": null,
      "outputs": []
    },
    {
      "cell_type": "markdown",
      "source": [
        "## **06 규제 선형 모델 - 릿지, 라쏘, 엘라스틱넷**\n",
        "____\n"
      ],
      "metadata": {
        "id": "-qhEgqYv8fjz"
      }
    },
    {
      "cell_type": "markdown",
      "source": [
        "### | **릿지 회귀**\n",
        "___\n",
        "- 사이킷런의 `Ridge` 클래스는 릿지 회귀를 구현한다.\n",
        "- `Ridge` 클래스의 주요 생성 파라미터는 `alpha`이며, 릿지 회귀의 alpha L2 규제 계수를 의미한다.\n",
        "- 앞 예제의 보스턴 주택 가격을 `Ridge` 클래스를 이용해 다시 예측하고, 예측 성능을 `corss_val_score()`로 평가한다.\n",
        "- 이때 앞에서 만든 Feature 데이터셋인 `X_data`와 Target 데이터셋인 `y_target`을 그대로 이용한다."
      ],
      "metadata": {
        "id": "iHW58gsVcxSd"
      }
    },
    {
      "cell_type": "code",
      "source": [
        "# 앞의 LinearRegression 예제에서 분할한 feature 데이터셋인 X_data과 Target 데이터셋인 Y_target 데이터셋을 그대로 이용 \n",
        "from sklearn.linear_model import Ridge\n",
        "from sklearn.model_selection import cross_val_score\n",
        "\n",
        "# boston 데이터셋 로드\n",
        "boston = load_boston()\n",
        "\n",
        "# boston 데이터셋을 DataFrame으로 변환 \n",
        "bostonDF = pd.DataFrame(boston.data, columns = boston.feature_names)\n",
        "\n",
        "# boston dataset의 target array는 주택 가격 \n",
        "# PRICE Column으로 DataFrame에 추가\n",
        "bostonDF['PRICE'] = boston.target\n",
        "print('Boston 데이타셋 크기 : ', bostonDF.shape)\n",
        "\n",
        "# Target/Feature 데이터셋\n",
        "y_target = bostonDF['PRICE']\n",
        "X_data = bostonDF.drop(['PRICE'], axis = 1, inplace = False)\n",
        "\n",
        "# model fitting\n",
        "ridge = Ridge(alpha = 10)\n",
        "\n",
        "# model test\n",
        "neg_mse_scores = cross_val_score(ridge, X_data, y_target, scoring = \"neg_mean_squared_error\", cv = 5)\n",
        "rmse_scores  = np.sqrt(-1 * neg_mse_scores)\n",
        "avg_rmse = np.mean(rmse_scores)\n",
        "\n",
        "print(' 5 folds 의 개별 Negative MSE scores : ', np.round(neg_mse_scores, 3))\n",
        "print(' 5 folds 의 개별 RMSE scores : ', np.round(rmse_scores, 3))\n",
        "print(' 5 folds 의 평균 RMSE : {0:.3f} '.format(avg_rmse))"
      ],
      "metadata": {
        "colab": {
          "base_uri": "https://localhost:8080/"
        },
        "id": "io5IQFmBFe2p",
        "outputId": "293d7121-13b7-4370-87d3-714667ce78cc"
      },
      "execution_count": null,
      "outputs": [
        {
          "output_type": "stream",
          "name": "stdout",
          "text": [
            "Boston 데이타셋 크기 :  (506, 14)\n",
            " 5 folds 의 개별 Negative MSE scores :  [-11.422 -24.294 -28.144 -74.599 -28.517]\n",
            " 5 folds 의 개별 RMSE scores :  [3.38  4.929 5.305 8.637 5.34 ]\n",
            " 5 folds 의 평균 RMSE : 5.518 \n"
          ]
        }
      ]
    },
    {
      "cell_type": "markdown",
      "source": [
        "- 릿지의 5개 폴드 세트의 평균 RMSE는 5.518이다. 앞에서 학습한 규제가 없는 LinearRegression의 평균 RMSE 값인 5.829보다 작은 값으로, 더 뛰어난 예측 성능을 보여준다는 것을 알 수 있다.\n",
        "- 이번에는 릿지의 `alpha` 값을 0, 0.1, 1, 10, 100으로 변화시키면서 RMSE와 회귀 계수 값의 변화를 살펴본다.\n",
        "- alpha 값을 변할 때 RMSE와 각 Feature의 회귀 계수가 달라지는 것을 시각화하고, 그 값을 DataFrame에 저장하는 예제이다.\n",
        "- 먼저 alpha 값의 변화에 따른 5 폴드의 평균 RMSE 값을 반환하는 코드부터 작성해보자."
      ],
      "metadata": {
        "id": "q1utbui1GNlz"
      }
    },
    {
      "cell_type": "code",
      "source": [
        "# alpha값을 0, 0.1, 1, 10, 100 으로 변경하면서 RMSE 측정\n",
        "\n",
        "# Ridge에 사용될 alpha 파라미터의 값들을 정의\n",
        "alphas = [0, 0.1, 1, 10, 100]\n",
        "\n",
        "# alphas list 값을 반복하면서 alpha에 따른 평균 rmse 구함\n",
        "for alpha in alphas :\n",
        "    ridge = Ridge(alpha = alpha)\n",
        "\n",
        "    # cross_val_score를 이용하여 5 fold의 평균 RMSE 계산\n",
        "    neg_mse_scores = cross_val_score(ridge, X_data, y_target, scoring = \"neg_mean_squared_error\", cv = 5)\n",
        "    avg_rmse = np.mean(np.sqrt(-1 * neg_mse_scores))\n",
        "    print('alpha {0} 일 때 5 folds의 평균 RMSE : {1:.3f} '.format(alpha,avg_rmse))"
      ],
      "metadata": {
        "colab": {
          "base_uri": "https://localhost:8080/"
        },
        "id": "jHyuyBmsG9rE",
        "outputId": "27308128-a6ca-467c-ef08-16808566c330"
      },
      "execution_count": null,
      "outputs": [
        {
          "output_type": "stream",
          "name": "stdout",
          "text": [
            "alpha 0 일 때 5 folds의 평균 RMSE : 5.829 \n",
            "alpha 0.1 일 때 5 folds의 평균 RMSE : 5.788 \n",
            "alpha 1 일 때 5 folds의 평균 RMSE : 5.653 \n",
            "alpha 10 일 때 5 folds의 평균 RMSE : 5.518 \n",
            "alpha 100 일 때 5 folds의 평균 RMSE : 5.330 \n"
          ]
        }
      ]
    },
    {
      "cell_type": "markdown",
      "source": [
        "- alpha가 100일 때, 평균 RMSE가 5.330으로 가장 작다.\n",
        "- 이번에는 alpha 값의 변화에 따른 Feature의 회귀 계수 값을 가로 막대 그래프로 시각화해본다.\n",
        "- 회귀 계수를 Ridge 객체의 `coef_` 속성에서 추출한 후, Series 객체로 만들고, `Seaborn`의 가로 막대 차트로 표시하고, DataFrame에 alpha 값 별 회귀 계수를 저장한다. "
      ],
      "metadata": {
        "id": "WER5BTqrHWQJ"
      }
    },
    {
      "cell_type": "code",
      "source": [
        "# alpha 값 별 회귀 계수 값을 시각화하기 위해, 5개의 열로 된 matplotlib 축 생성  \n",
        "fig, axs = plt.subplots(figsize = (18 ,6) , nrows = 1 , ncols = 5)\n",
        "\n",
        "# alpha 값 별 회귀 계수 값을 저장하기 위한 빈 DataFrame 생성  \n",
        "coeff_df = pd.DataFrame()\n",
        "\n",
        "# alphas 리스트 값을 차례로 입력해 회귀 계수 값 시각화 및 데이터 저장\n",
        "# pos는 axis의 위치 지정\n",
        "for pos , alpha in enumerate(alphas) :\n",
        "    # model fitting\n",
        "    ridge = Ridge(alpha = alpha)\n",
        "    ridge.fit(X_data, y_target)\n",
        "\n",
        "    # alpha에 따른 Feature 별 회귀 계수를 Series로 변환하고 이를 DataFrame의 컬럼으로 추가 \n",
        "    coeff = pd.Series(data = ridge.coef_, index = X_data.columns )\n",
        "    colname = 'alpha : ' + str(alpha) # Column 이름 설정\n",
        "    coeff_df[colname] = coeff\n",
        "\n",
        "    # 막대 그래프로 각 alpha 값에서의 회귀 계수를 시각화\n",
        "    coeff = coeff.sort_values(ascending = False) # 회귀 계수 값이 높은 순으로 표현\n",
        "    axs[pos].set_title(colname)\n",
        "    axs[pos].set_xlim(-3 ,6)\n",
        "    sns.barplot(x = coeff.values , y = coeff.index, ax = axs[pos])\n",
        "\n",
        "# for 문 밖에서 matplotlib의 show() 호출\n",
        "plt.show()"
      ],
      "metadata": {
        "colab": {
          "base_uri": "https://localhost:8080/",
          "height": 390
        },
        "id": "afqAdj0AH7Et",
        "outputId": "55bc15da-62b4-4d74-d35f-c8503037c03f"
      },
      "execution_count": null,
      "outputs": [
        {
          "output_type": "display_data",
          "data": {
            "text/plain": [
              "<Figure size 1296x432 with 5 Axes>"
            ],
            "image/png": "[encoded data removed]"
          },
          "metadata": {
            "needs_background": "light"
          }
        }
      ]
    },
    {
      "cell_type": "markdown",
      "source": [
        "- alpha 값을 증가시킬수록 회귀 계수 값이 작아진다. 특히 Nox Feature의 경우, alpha 값을 증가함에 따라, 회귀 계수가 눈에 띄게 작아진다."
      ],
      "metadata": {
        "id": "sxNTVOUGI7_Q"
      }
    },
    {
      "cell_type": "code",
      "source": [
        "# alpha에 따른 Feature 별 회귀 계수를 DataFrame으로 변환\n",
        "ridge_alphas = [0, 0.1, 1, 10, 100]\n",
        "sort_column = 'alpha : ' + str(ridge_alphas[0])\n",
        "coeff_df.sort_values(by = sort_column, ascending = False)"
      ],
      "metadata": {
        "colab": {
          "base_uri": "https://localhost:8080/",
          "height": 457
        },
        "id": "2TNlbyadIxF8",
        "outputId": "46a7e074-f602-4f00-bd4c-a3e5a049997b"
      },
      "execution_count": null,
      "outputs": [
        {
          "output_type": "execute_result",
          "data": {
            "text/plain": [
              "         alpha : 0  alpha : 0.1  alpha : 1  alpha : 10  alpha : 100\n",
              "RM        3.809865     3.818233   3.854000    3.702272     2.334536\n",
              "CHAS      2.686734     2.670019   2.552393    1.952021     0.638335\n",
              "RAD       0.306049     0.303515   0.290142    0.279596     0.315358\n",
              "ZN        0.046420     0.046572   0.047443    0.049579     0.054496\n",
              "INDUS     0.020559     0.015999  -0.008805   -0.042962    -0.052826\n",
              "B         0.009312     0.009368   0.009673    0.010037     0.009393\n",
              "AGE       0.000692    -0.000269  -0.005415   -0.010707     0.001212\n",
              "TAX      -0.012335    -0.012421  -0.012912   -0.013993    -0.015856\n",
              "CRIM     -0.108011    -0.107474  -0.104595   -0.101435    -0.102202\n",
              "LSTAT    -0.524758    -0.525966  -0.533343   -0.559366    -0.660764\n",
              "PTRATIO  -0.952747    -0.940759  -0.876074   -0.797945    -0.829218\n",
              "DIS      -1.475567    -1.459626  -1.372654   -1.248808    -1.153390\n",
              "NOX     -17.766611   -16.684645 -10.777015   -2.371619    -0.262847"
            ],
            "text/html": [
              "\n",
              "  <div id=\"df-066e204f-552a-4ff2-81ff-7e36b6ce65fd\">\n",
              "    <div class=\"colab-df-container\">\n",
              "      <div>\n",
              "<style scoped>\n",
              "    .dataframe tbody tr th:only-of-type {\n",
              "        vertical-align: middle;\n",
              "    }\n",
              "\n",
              "    .dataframe tbody tr th {\n",
              "        vertical-align: top;\n",
              "    }\n",
              "\n",
              "    .dataframe thead th {\n",
              "        text-align: right;\n",
              "    }\n",
              "</style>\n",
              "<table border=\"1\" class=\"dataframe\">\n",
              "  <thead>\n",
              "    <tr style=\"text-align: right;\">\n",
              "      <th></th>\n",
              "      <th>alpha : 0</th>\n",
              "      <th>alpha : 0.1</th>\n",
              "      <th>alpha : 1</th>\n",
              "      <th>alpha : 10</th>\n",
              "      <th>alpha : 100</th>\n",
              "    </tr>\n",
              "  </thead>\n",
              "  <tbody>\n",
              "    <tr>\n",
              "      <th>RM</th>\n",
              "      <td>3.809865</td>\n",
              "      <td>3.818233</td>\n",
              "      <td>3.854000</td>\n",
              "      <td>3.702272</td>\n",
              "      <td>2.334536</td>\n",
              "    </tr>\n",
              "    <tr>\n",
              "      <th>CHAS</th>\n",
              "      <td>2.686734</td>\n",
              "      <td>2.670019</td>\n",
              "      <td>2.552393</td>\n",
              "      <td>1.952021</td>\n",
              "      <td>0.638335</td>\n",
              "    </tr>\n",
              "    <tr>\n",
              "      <th>RAD</th>\n",
              "      <td>0.306049</td>\n",
              "      <td>0.303515</td>\n",
              "      <td>0.290142</td>\n",
              "      <td>0.279596</td>\n",
              "      <td>0.315358</td>\n",
              "    </tr>\n",
              "    <tr>\n",
              "      <th>ZN</th>\n",
              "      <td>0.046420</td>\n",
              "      <td>0.046572</td>\n",
              "      <td>0.047443</td>\n",
              "      <td>0.049579</td>\n",
              "      <td>0.054496</td>\n",
              "    </tr>\n",
              "    <tr>\n",
              "      <th>INDUS</th>\n",
              "      <td>0.020559</td>\n",
              "      <td>0.015999</td>\n",
              "      <td>-0.008805</td>\n",
              "      <td>-0.042962</td>\n",
              "      <td>-0.052826</td>\n",
              "    </tr>\n",
              "    <tr>\n",
              "      <th>B</th>\n",
              "      <td>0.009312</td>\n",
              "      <td>0.009368</td>\n",
              "      <td>0.009673</td>\n",
              "      <td>0.010037</td>\n",
              "      <td>0.009393</td>\n",
              "    </tr>\n",
              "    <tr>\n",
              "      <th>AGE</th>\n",
              "      <td>0.000692</td>\n",
              "      <td>-0.000269</td>\n",
              "      <td>-0.005415</td>\n",
              "      <td>-0.010707</td>\n",
              "      <td>0.001212</td>\n",
              "    </tr>\n",
              "    <tr>\n",
              "      <th>TAX</th>\n",
              "      <td>-0.012335</td>\n",
              "      <td>-0.012421</td>\n",
              "      <td>-0.012912</td>\n",
              "      <td>-0.013993</td>\n",
              "      <td>-0.015856</td>\n",
              "    </tr>\n",
              "    <tr>\n",
              "      <th>CRIM</th>\n",
              "      <td>-0.108011</td>\n",
              "      <td>-0.107474</td>\n",
              "      <td>-0.104595</td>\n",
              "      <td>-0.101435</td>\n",
              "      <td>-0.102202</td>\n",
              "    </tr>\n",
              "    <tr>\n",
              "      <th>LSTAT</th>\n",
              "      <td>-0.524758</td>\n",
              "      <td>-0.525966</td>\n",
              "      <td>-0.533343</td>\n",
              "      <td>-0.559366</td>\n",
              "      <td>-0.660764</td>\n",
              "    </tr>\n",
              "    <tr>\n",
              "      <th>PTRATIO</th>\n",
              "      <td>-0.952747</td>\n",
              "      <td>-0.940759</td>\n",
              "      <td>-0.876074</td>\n",
              "      <td>-0.797945</td>\n",
              "      <td>-0.829218</td>\n",
              "    </tr>\n",
              "    <tr>\n",
              "      <th>DIS</th>\n",
              "      <td>-1.475567</td>\n",
              "      <td>-1.459626</td>\n",
              "      <td>-1.372654</td>\n",
              "      <td>-1.248808</td>\n",
              "      <td>-1.153390</td>\n",
              "    </tr>\n",
              "    <tr>\n",
              "      <th>NOX</th>\n",
              "      <td>-17.766611</td>\n",
              "      <td>-16.684645</td>\n",
              "      <td>-10.777015</td>\n",
              "      <td>-2.371619</td>\n",
              "      <td>-0.262847</td>\n",
              "    </tr>\n",
              "  </tbody>\n",
              "</table>\n",
              "</div>\n",
              "      <button class=\"colab-df-convert\" onclick=\"convertToInteractive('df-066e204f-552a-4ff2-81ff-7e36b6ce65fd')\"\n",
              "              title=\"Convert this dataframe to an interactive table.\"\n",
              "              style=\"display:none;\">\n",
              "        \n",
              "  <svg xmlns=\"http://www.w3.org/2000/svg\" height=\"24px\"viewBox=\"0 0 24 24\"\n",
              "       width=\"24px\">\n",
              "    <path d=\"M0 0h24v24H0V0z\" fill=\"none\"/>\n",
              "    <path d=\"M18.56 5.44l.94 2.06.94-2.06 2.06-.94-2.06-.94-.94-2.06-.94 2.06-2.06.94zm-11 1L8.5 8.5l.94-2.06 2.06-.94-2.06-.94L8.5 2.5l-.94 2.06-2.06.94zm10 10l.94 2.06.94-2.06 2.06-.94-2.06-.94-.94-2.06-.94 2.06-2.06.94z\"/><path d=\"M17.41 7.96l-1.37-1.37c-.4-.4-.92-.59-1.43-.59-.52 0-1.04.2-1.43.59L10.3 9.45l-7.72 7.72c-.78.78-.78 2.05 0 2.83L4 21.41c.39.39.9.59 1.41.59.51 0 1.02-.2 1.41-.59l7.78-7.78 2.81-2.81c.8-.78.8-2.07 0-2.86zM5.41 20L4 18.59l7.72-7.72 1.47 1.35L5.41 20z\"/>\n",
              "  </svg>\n",
              "      </button>\n",
              "      \n",
              "  <style>\n",
              "    .colab-df-container {\n",
              "      display:flex;\n",
              "      flex-wrap:wrap;\n",
              "      gap: 12px;\n",
              "    }\n",
              "\n",
              "    .colab-df-convert {\n",
              "      background-color: #E8F0FE;\n",
              "      border: none;\n",
              "      border-radius: 50%;\n",
              "      cursor: pointer;\n",
              "      display: none;\n",
              "      fill: #1967D2;\n",
              "      height: 32px;\n",
              "      padding: 0 0 0 0;\n",
              "      width: 32px;\n",
              "    }\n",
              "\n",
              "    .colab-df-convert:hover {\n",
              "      background-color: #E2EBFA;\n",
              "      box-shadow: 0px 1px 2px rgba(60, 64, 67, 0.3), 0px 1px 3px 1px rgba(60, 64, 67, 0.15);\n",
              "      fill: #174EA6;\n",
              "    }\n",
              "\n",
              "    [theme=dark] .colab-df-convert {\n",
              "      background-color: #3B4455;\n",
              "      fill: #D2E3FC;\n",
              "    }\n",
              "\n",
              "    [theme=dark] .colab-df-convert:hover {\n",
              "      background-color: #434B5C;\n",
              "      box-shadow: 0px 1px 3px 1px rgba(0, 0, 0, 0.15);\n",
              "      filter: drop-shadow(0px 1px 2px rgba(0, 0, 0, 0.3));\n",
              "      fill: #FFFFFF;\n",
              "    }\n",
              "  </style>\n",
              "\n",
              "      <script>\n",
              "        const buttonEl =\n",
              "          document.querySelector('#df-066e204f-552a-4ff2-81ff-7e36b6ce65fd button.colab-df-convert');\n",
              "        buttonEl.style.display =\n",
              "          google.colab.kernel.accessAllowed ? 'block' : 'none';\n",
              "\n",
              "        async function convertToInteractive(key) {\n",
              "          const element = document.querySelector('#df-066e204f-552a-4ff2-81ff-7e36b6ce65fd');\n",
              "          const dataTable =\n",
              "            await google.colab.kernel.invokeFunction('convertToInteractive',\n",
              "                                                     [key], {});\n",
              "          if (!dataTable) return;\n",
              "\n",
              "          const docLinkHtml = 'Like what you see? Visit the ' +\n",
              "            '<a target=\"_blank\" href=https://colab.research.google.com/notebooks/data_table.ipynb>data table notebook</a>'\n",
              "            + ' to learn more about interactive tables.';\n",
              "          element.innerHTML = '';\n",
              "          dataTable['output_type'] = 'display_data';\n",
              "          await google.colab.output.renderOutput(dataTable, element);\n",
              "          const docLink = document.createElement('div');\n",
              "          docLink.innerHTML = docLinkHtml;\n",
              "          element.appendChild(docLink);\n",
              "        }\n",
              "      </script>\n",
              "    </div>\n",
              "  </div>\n",
              "  "
            ]
          },
          "metadata": {},
          "execution_count": 6
        }
      ]
    },
    {
      "cell_type": "markdown",
      "source": [
        "- alpha 값이 증가하면서 회귀 계수가 지속적으로 작아진다.\n",
        "- 다만, 릿지 회귀는 회귀 계수를 0으로 만들지 않는다."
      ],
      "metadata": {
        "id": "URQVn9BnJLn5"
      }
    },
    {
      "cell_type": "markdown",
      "source": [
        "### | **라쏘 회귀**\n",
        "___\n",
        "- W의 절댓값에 페널티를 부여하는 L1 규제를 선형 회귀에 적용한 것이 라쏘(Lasso) 회귀이다.\n",
        "- 즉, L1 규제는 $alpha * ||W||_1$를 의미하며, 라쏘 회귀 비용 함수의 목표는 $RSS(W) + alpha * ||W||_1$를 최소화하는 W를 찾는 것이다.\n",
        "- L2 규제는 회귀 계수의 크기를 감소시키는 반면, L1 규제는 불필요한 회귀 계수를 급격하게 감소시켜 0으로 만들고 제거한다. 이러한 측면에서 L1 규제는 적절한 Feature만 회귀에 포함시키는 Feature 선택을 수행한다고 볼 수 있다.\n",
        "- 사이킷런은 `Lasso` 클래스를 통해 라쏘 회귀를 구현한다.\n",
        "- `Lasso` 클래스의 주요 생성 파라미터는 `alpha`로, 이는 라쏘 회귀의 alpha L1 규제 계수를 의미한다.\n",
        "- 릿지 회귀 예제 코드에서 한 것처럼, `Lasso` 클래스를 이용해, `alpha` 값을 변화시키면서 결과를 출력하는 함수를 만들어보자.\n",
        "- `get_linear_ret_eval()` 함수 : 회귀 모델의 이름. alpha 값들의 리스트, Feature 데이터셋과 Target 데이터셋을 입력 받아, alpha 값에 따른 폴드 평균 RMSE 값을 출력하고, 회귀 계수 값들을 DataFrame으로 반환하는 함수 "
      ],
      "metadata": {
        "id": "kVCkUXy0c939"
      }
    },
    {
      "cell_type": "code",
      "source": [
        "from sklearn.linear_model import Lasso, ElasticNet\n",
        "\n",
        "# alpha값에 따른 회귀 모델의 폴드 평균 RMSE를 출력하고 회귀 계수값들을 DataFrame으로 반환 \n",
        "def get_linear_reg_eval(model_name, params=None, X_data_n=None, y_target_n=None, \n",
        "                        verbose=True, return_coeff=True):\n",
        "    coeff_df = pd.DataFrame()\n",
        "    if verbose : print('####### ', model_name , '#######')\n",
        "    for param in params:\n",
        "        if model_name =='Ridge': model = Ridge(alpha = param)\n",
        "        elif model_name =='Lasso': model = Lasso(alpha = param)\n",
        "        elif model_name =='ElasticNet': model = ElasticNet(alpha = param, l1_ratio = 0.7)\n",
        "        neg_mse_scores = cross_val_score(model, X_data_n, y_target_n, scoring = \"neg_mean_squared_error\", cv = 5)\n",
        "        avg_rmse = np.mean(np.sqrt(-1 * neg_mse_scores))\n",
        "        print('alpha {0}일 때 5 폴드 세트의 평균 RMSE : {1:.3f} '.format(param, avg_rmse))\n",
        "        # cross_val_score는 evaluation metric만 반환하므로 모델을 다시 학습하여 회귀 계수 추출\n",
        "        \n",
        "        model.fit(X_data_n , y_target_n)\n",
        "        if return_coeff:\n",
        "            # alpha에 따른 피처별 회귀 계수를 Series로 변환하고 이를 DataFrame의 컬럼으로 추가. \n",
        "            coeff = pd.Series(data = model.coef_ , index = X_data_n.columns )\n",
        "            colname ='alpha : ' + str(param)\n",
        "            coeff_df[colname] = coeff\n",
        "    \n",
        "    return coeff_df\n",
        "# end of get_linear_regre_eval"
      ],
      "metadata": {
        "id": "4pK8Q6EcRv02"
      },
      "execution_count": null,
      "outputs": []
    },
    {
      "cell_type": "markdown",
      "source": [
        "- alpha 값은 [0.07, 0.1, 0.5, 1, 3]을 입력하고 모델명을 'Lasso'로 입력해, 라쏘 모델을 기반으로 alpha 값에 따라 RMSE와 회귀 계수들이 어떻게 변화하는지 출력해보자."
      ],
      "metadata": {
        "id": "H-OwHC4RS-j1"
      }
    },
    {
      "cell_type": "code",
      "source": [
        "# 라쏘에 사용될 alpha 파라미터의 값들을 정의하고 get_linear_reg_eval() 함수 호출\n",
        "lasso_alphas = [0.07, 0.1, 0.5, 1, 3]\n",
        "coeff_lasso_df = get_linear_reg_eval('Lasso', params = lasso_alphas, X_data_n = X_data, y_target_n = y_target)"
      ],
      "metadata": {
        "colab": {
          "base_uri": "https://localhost:8080/"
        },
        "id": "t-XZWrLzTPWl",
        "outputId": "99072b48-98ca-40c6-e841-93f99c211f73"
      },
      "execution_count": null,
      "outputs": [
        {
          "output_type": "stream",
          "name": "stdout",
          "text": [
            "#######  Lasso #######\n",
            "alpha 0.07일 때 5 폴드 세트의 평균 RMSE : 5.612 \n",
            "alpha 0.1일 때 5 폴드 세트의 평균 RMSE : 5.615 \n",
            "alpha 0.5일 때 5 폴드 세트의 평균 RMSE : 5.669 \n",
            "alpha 1일 때 5 폴드 세트의 평균 RMSE : 5.776 \n",
            "alpha 3일 때 5 폴드 세트의 평균 RMSE : 6.189 \n"
          ]
        }
      ]
    },
    {
      "cell_type": "markdown",
      "source": [
        "- alpha가 0.07 일 때, 평균 RMSE 값이 가장 작다.\n",
        "- 릿지 회귀에서의 평균 RMSE 값인 5.330보다는 크지만, 규제가 없는 LinearRegression의 평균 RMSE 값인 5.829보다는 작다.\n",
        "- alpha 값에 따른 Feature 별 회귀 계수를 출력해보자."
      ],
      "metadata": {
        "id": "4BK5o9sFTYgV"
      }
    },
    {
      "cell_type": "code",
      "source": [
        "# 반환된 coeff_lasso_df를 첫번째 Column 순으로 내림차순 정렬하여 회귀계수 DataFrame 력\n",
        "sort_column = 'alpha : ' + str(lasso_alphas[0])\n",
        "coeff_lasso_df.sort_values(by = sort_column, ascending = False) # 내림차순"
      ],
      "metadata": {
        "colab": {
          "base_uri": "https://localhost:8080/",
          "height": 457
        },
        "id": "N_NDr7NoT8Xo",
        "outputId": "742a81c5-09f4-470c-edc7-bc0e8a78e320"
      },
      "execution_count": null,
      "outputs": [
        {
          "output_type": "execute_result",
          "data": {
            "text/plain": [
              "         alpha : 0.07  alpha : 0.1  alpha : 0.5  alpha : 1  alpha : 3\n",
              "RM           3.789725     3.703202     2.498212   0.949811   0.000000\n",
              "CHAS         1.434343     0.955190     0.000000   0.000000   0.000000\n",
              "RAD          0.270936     0.274707     0.277451   0.264206   0.061864\n",
              "ZN           0.049059     0.049211     0.049544   0.049165   0.037231\n",
              "B            0.010248     0.010249     0.009469   0.008247   0.006510\n",
              "NOX         -0.000000    -0.000000    -0.000000  -0.000000   0.000000\n",
              "AGE         -0.011706    -0.010037     0.003604   0.020910   0.042495\n",
              "TAX         -0.014290    -0.014570    -0.015442  -0.015212  -0.008602\n",
              "INDUS       -0.042120    -0.036619    -0.005253  -0.000000  -0.000000\n",
              "CRIM        -0.098193    -0.097894    -0.083289  -0.063437  -0.000000\n",
              "LSTAT       -0.560431    -0.568769    -0.656290  -0.761115  -0.807679\n",
              "PTRATIO     -0.765107    -0.770654    -0.758752  -0.722966  -0.265072\n",
              "DIS         -1.176583    -1.160538    -0.936605  -0.668790  -0.000000"
            ],
            "text/html": [
              "\n",
              "  <div id=\"df-8a69aa23-3bed-4b9e-8622-0b94c13bb6e8\">\n",
              "    <div class=\"colab-df-container\">\n",
              "      <div>\n",
              "<style scoped>\n",
              "    .dataframe tbody tr th:only-of-type {\n",
              "        vertical-align: middle;\n",
              "    }\n",
              "\n",
              "    .dataframe tbody tr th {\n",
              "        vertical-align: top;\n",
              "    }\n",
              "\n",
              "    .dataframe thead th {\n",
              "        text-align: right;\n",
              "    }\n",
              "</style>\n",
              "<table border=\"1\" class=\"dataframe\">\n",
              "  <thead>\n",
              "    <tr style=\"text-align: right;\">\n",
              "      <th></th>\n",
              "      <th>alpha : 0.07</th>\n",
              "      <th>alpha : 0.1</th>\n",
              "      <th>alpha : 0.5</th>\n",
              "      <th>alpha : 1</th>\n",
              "      <th>alpha : 3</th>\n",
              "    </tr>\n",
              "  </thead>\n",
              "  <tbody>\n",
              "    <tr>\n",
              "      <th>RM</th>\n",
              "      <td>3.789725</td>\n",
              "      <td>3.703202</td>\n",
              "      <td>2.498212</td>\n",
              "      <td>0.949811</td>\n",
              "      <td>0.000000</td>\n",
              "    </tr>\n",
              "    <tr>\n",
              "      <th>CHAS</th>\n",
              "      <td>1.434343</td>\n",
              "      <td>0.955190</td>\n",
              "      <td>0.000000</td>\n",
              "      <td>0.000000</td>\n",
              "      <td>0.000000</td>\n",
              "    </tr>\n",
              "    <tr>\n",
              "      <th>RAD</th>\n",
              "      <td>0.270936</td>\n",
              "      <td>0.274707</td>\n",
              "      <td>0.277451</td>\n",
              "      <td>0.264206</td>\n",
              "      <td>0.061864</td>\n",
              "    </tr>\n",
              "    <tr>\n",
              "      <th>ZN</th>\n",
              "      <td>0.049059</td>\n",
              "      <td>0.049211</td>\n",
              "      <td>0.049544</td>\n",
              "      <td>0.049165</td>\n",
              "      <td>0.037231</td>\n",
              "    </tr>\n",
              "    <tr>\n",
              "      <th>B</th>\n",
              "      <td>0.010248</td>\n",
              "      <td>0.010249</td>\n",
              "      <td>0.009469</td>\n",
              "      <td>0.008247</td>\n",
              "      <td>0.006510</td>\n",
              "    </tr>\n",
              "    <tr>\n",
              "      <th>NOX</th>\n",
              "      <td>-0.000000</td>\n",
              "      <td>-0.000000</td>\n",
              "      <td>-0.000000</td>\n",
              "      <td>-0.000000</td>\n",
              "      <td>0.000000</td>\n",
              "    </tr>\n",
              "    <tr>\n",
              "      <th>AGE</th>\n",
              "      <td>-0.011706</td>\n",
              "      <td>-0.010037</td>\n",
              "      <td>0.003604</td>\n",
              "      <td>0.020910</td>\n",
              "      <td>0.042495</td>\n",
              "    </tr>\n",
              "    <tr>\n",
              "      <th>TAX</th>\n",
              "      <td>-0.014290</td>\n",
              "      <td>-0.014570</td>\n",
              "      <td>-0.015442</td>\n",
              "      <td>-0.015212</td>\n",
              "      <td>-0.008602</td>\n",
              "    </tr>\n",
              "    <tr>\n",
              "      <th>INDUS</th>\n",
              "      <td>-0.042120</td>\n",
              "      <td>-0.036619</td>\n",
              "      <td>-0.005253</td>\n",
              "      <td>-0.000000</td>\n",
              "      <td>-0.000000</td>\n",
              "    </tr>\n",
              "    <tr>\n",
              "      <th>CRIM</th>\n",
              "      <td>-0.098193</td>\n",
              "      <td>-0.097894</td>\n",
              "      <td>-0.083289</td>\n",
              "      <td>-0.063437</td>\n",
              "      <td>-0.000000</td>\n",
              "    </tr>\n",
              "    <tr>\n",
              "      <th>LSTAT</th>\n",
              "      <td>-0.560431</td>\n",
              "      <td>-0.568769</td>\n",
              "      <td>-0.656290</td>\n",
              "      <td>-0.761115</td>\n",
              "      <td>-0.807679</td>\n",
              "    </tr>\n",
              "    <tr>\n",
              "      <th>PTRATIO</th>\n",
              "      <td>-0.765107</td>\n",
              "      <td>-0.770654</td>\n",
              "      <td>-0.758752</td>\n",
              "      <td>-0.722966</td>\n",
              "      <td>-0.265072</td>\n",
              "    </tr>\n",
              "    <tr>\n",
              "      <th>DIS</th>\n",
              "      <td>-1.176583</td>\n",
              "      <td>-1.160538</td>\n",
              "      <td>-0.936605</td>\n",
              "      <td>-0.668790</td>\n",
              "      <td>-0.000000</td>\n",
              "    </tr>\n",
              "  </tbody>\n",
              "</table>\n",
              "</div>\n",
              "      <button class=\"colab-df-convert\" onclick=\"convertToInteractive('df-8a69aa23-3bed-4b9e-8622-0b94c13bb6e8')\"\n",
              "              title=\"Convert this dataframe to an interactive table.\"\n",
              "              style=\"display:none;\">\n",
              "        \n",
              "  <svg xmlns=\"http://www.w3.org/2000/svg\" height=\"24px\"viewBox=\"0 0 24 24\"\n",
              "       width=\"24px\">\n",
              "    <path d=\"M0 0h24v24H0V0z\" fill=\"none\"/>\n",
              "    <path d=\"M18.56 5.44l.94 2.06.94-2.06 2.06-.94-2.06-.94-.94-2.06-.94 2.06-2.06.94zm-11 1L8.5 8.5l.94-2.06 2.06-.94-2.06-.94L8.5 2.5l-.94 2.06-2.06.94zm10 10l.94 2.06.94-2.06 2.06-.94-2.06-.94-.94-2.06-.94 2.06-2.06.94z\"/><path d=\"M17.41 7.96l-1.37-1.37c-.4-.4-.92-.59-1.43-.59-.52 0-1.04.2-1.43.59L10.3 9.45l-7.72 7.72c-.78.78-.78 2.05 0 2.83L4 21.41c.39.39.9.59 1.41.59.51 0 1.02-.2 1.41-.59l7.78-7.78 2.81-2.81c.8-.78.8-2.07 0-2.86zM5.41 20L4 18.59l7.72-7.72 1.47 1.35L5.41 20z\"/>\n",
              "  </svg>\n",
              "      </button>\n",
              "      \n",
              "  <style>\n",
              "    .colab-df-container {\n",
              "      display:flex;\n",
              "      flex-wrap:wrap;\n",
              "      gap: 12px;\n",
              "    }\n",
              "\n",
              "    .colab-df-convert {\n",
              "      background-color: #E8F0FE;\n",
              "      border: none;\n",
              "      border-radius: 50%;\n",
              "      cursor: pointer;\n",
              "      display: none;\n",
              "      fill: #1967D2;\n",
              "      height: 32px;\n",
              "      padding: 0 0 0 0;\n",
              "      width: 32px;\n",
              "    }\n",
              "\n",
              "    .colab-df-convert:hover {\n",
              "      background-color: #E2EBFA;\n",
              "      box-shadow: 0px 1px 2px rgba(60, 64, 67, 0.3), 0px 1px 3px 1px rgba(60, 64, 67, 0.15);\n",
              "      fill: #174EA6;\n",
              "    }\n",
              "\n",
              "    [theme=dark] .colab-df-convert {\n",
              "      background-color: #3B4455;\n",
              "      fill: #D2E3FC;\n",
              "    }\n",
              "\n",
              "    [theme=dark] .colab-df-convert:hover {\n",
              "      background-color: #434B5C;\n",
              "      box-shadow: 0px 1px 3px 1px rgba(0, 0, 0, 0.15);\n",
              "      filter: drop-shadow(0px 1px 2px rgba(0, 0, 0, 0.3));\n",
              "      fill: #FFFFFF;\n",
              "    }\n",
              "  </style>\n",
              "\n",
              "      <script>\n",
              "        const buttonEl =\n",
              "          document.querySelector('#df-8a69aa23-3bed-4b9e-8622-0b94c13bb6e8 button.colab-df-convert');\n",
              "        buttonEl.style.display =\n",
              "          google.colab.kernel.accessAllowed ? 'block' : 'none';\n",
              "\n",
              "        async function convertToInteractive(key) {\n",
              "          const element = document.querySelector('#df-8a69aa23-3bed-4b9e-8622-0b94c13bb6e8');\n",
              "          const dataTable =\n",
              "            await google.colab.kernel.invokeFunction('convertToInteractive',\n",
              "                                                     [key], {});\n",
              "          if (!dataTable) return;\n",
              "\n",
              "          const docLinkHtml = 'Like what you see? Visit the ' +\n",
              "            '<a target=\"_blank\" href=https://colab.research.google.com/notebooks/data_table.ipynb>data table notebook</a>'\n",
              "            + ' to learn more about interactive tables.';\n",
              "          element.innerHTML = '';\n",
              "          dataTable['output_type'] = 'display_data';\n",
              "          await google.colab.output.renderOutput(dataTable, element);\n",
              "          const docLink = document.createElement('div');\n",
              "          docLink.innerHTML = docLinkHtml;\n",
              "          element.appendChild(docLink);\n",
              "        }\n",
              "      </script>\n",
              "    </div>\n",
              "  </div>\n",
              "  "
            ]
          },
          "metadata": {},
          "execution_count": 9
        }
      ]
    },
    {
      "cell_type": "markdown",
      "source": [
        "- alpha의 크기가 증가함에 따라 일부 Feature의 회귀 계수가 아예 0으로 바뀐다.\n",
        "- NOX 속성은 alpha가 0.07일 때부터 회귀 계수가 0이며, alpha가 증가하면서 INDUS, CHAS와 같은 Feature의 회귀 계수가 0으로 바뀐다.\n",
        "- 회귀 계수가 0인 Feature는 회귀 식에서 제외되면서, Feature 선택의 효과를 얻을 수 있다."
      ],
      "metadata": {
        "id": "KyEZRd27UD2c"
      }
    },
    {
      "cell_type": "markdown",
      "source": [
        "### | **엘라스틱넷 회귀**\n",
        "___\n",
        "- 엘라스틱넷(Elastic Net) 회귀는 L2 규제와 L1 규제를 결합한 회귀이다.\n",
        "- 따라서 엘라스틱넷 회귀에서 비용 함수의 목표는 $$RSS(W) + alpha2 * ||W||_2^2 + alpha1 * ||W||_1$$ 식을 최소화하는 W를 찾는 것이다.\n",
        "- 라쏘 회귀는 서로 상관관계가 높은 Feature들의 경우, 이들 중 중요한 Feature만을 선택하고, 다른 Feature들은 회귀 계수를 모두 0으로 만든다. 이렇게 되면, alpha 값에 따라 회귀 계수의 값이 급격하게 변할 수 있는데, 엘라스틱넷 회귀는 이를 완화하기 위해 라쏘 회귀에 L2 규제를 추가했다.\n",
        "- 다만 L1과 L2를 결합하여 규제를 적용하기 때문에, 엘라스틱넷 회귀는 수행시간이 상대적으로 오래 걸린다는 단점을 가지고 있다.\n",
        "- 사이킷런은 `ElasticNet` 클래스를 통해 엘라스틱넷 회귀를 구현한다.\n",
        "- `ElasticNet` 클래스의 주요 생성 파라미터는 `alpha`와 `l1_ratio`이다.\n",
        "  + `ElasticNet` 클래스의 `alpha`는 `Ridge`나 `Lasso` 클래스의 `alpha` 값과는 다르다. 엘라스틱의 규제는 $$a * L1 + b * L2$$로 정의되는데, 이때, a는 L1 규제의 alpha 값, b는 L2 규제의 alpha 값이다. 따라서 `ElasticNet` 클래스의 주요 생성 파라미터는 다음과 같은 의미를 가지고 있다.\n",
        "  + `alpha` : a + b\n",
        "  + `l1_ratio` : a / (a + b)\n",
        "  + 예를 들어, `l1_ratio` 가 0이면 a가 0이므로, L2 규제를 의미한다.\n",
        "- ElasticNet 클래스를 이용해 릿지, 라쏘 회귀 예제 코드처럼 엘라스틱넷 alpha 값을 바꾸면서 평균 RMSE와 각 Feature의 회귀 계수를 출력해보자.\n",
        "- 앞에서 생성한 `get_linear_reg_eval()` 함수를 이용한다.\n"
      ],
      "metadata": {
        "id": "3DXJ_J85dJGH"
      }
    },
    {
      "cell_type": "code",
      "source": [
        "# 엘라스틱넷에 사용될 alpha 파라미터의 값들을 정의 \n",
        "elastic_alphas = [ 0.07, 0.1, 0.5, 1, 3]\n",
        "\n",
        "# get_linear_reg_eval() 함수 호출\n",
        "# l1_ratio는 0.7로 고정\n",
        "coeff_elastic_df = get_linear_reg_eval('ElasticNet', params = elastic_alphas, X_data_n = X_data, y_target_n = y_target)"
      ],
      "metadata": {
        "colab": {
          "base_uri": "https://localhost:8080/"
        },
        "id": "-D20KHYtIEIn",
        "outputId": "a0591d9d-4f70-4a01-da22-ccf2ec70e092"
      },
      "execution_count": null,
      "outputs": [
        {
          "output_type": "stream",
          "name": "stdout",
          "text": [
            "#######  ElasticNet #######\n",
            "alpha 0.07일 때 5 폴드 세트의 평균 RMSE : 5.542 \n",
            "alpha 0.1일 때 5 폴드 세트의 평균 RMSE : 5.526 \n",
            "alpha 0.5일 때 5 폴드 세트의 평균 RMSE : 5.467 \n",
            "alpha 1일 때 5 폴드 세트의 평균 RMSE : 5.597 \n",
            "alpha 3일 때 5 폴드 세트의 평균 RMSE : 6.068 \n"
          ]
        }
      ]
    },
    {
      "cell_type": "code",
      "source": [
        "# 반환된 coeff_elastic_df를 내림차순 정렬하여 회귀계수 DataFrame 출력\n",
        "sort_column = 'alpha : ' + str(elastic_alphas[0])\n",
        "coeff_elastic_df.sort_values(by = sort_column, ascending = False)"
      ],
      "metadata": {
        "colab": {
          "base_uri": "https://localhost:8080/",
          "height": 457
        },
        "id": "Cj5ObzIxJpZ8",
        "outputId": "acc3d4f6-7ec4-4f7d-b627-9a03eeedcfb3"
      },
      "execution_count": null,
      "outputs": [
        {
          "output_type": "execute_result",
          "data": {
            "text/plain": [
              "         alpha : 0.07  alpha : 0.1  alpha : 0.5  alpha : 1  alpha : 3\n",
              "RM           3.574162     3.414154     1.918419   0.938789   0.000000\n",
              "CHAS         1.330724     0.979706     0.000000   0.000000   0.000000\n",
              "RAD          0.278880     0.283443     0.300761   0.289299   0.146846\n",
              "ZN           0.050107     0.050617     0.052878   0.052136   0.038268\n",
              "B            0.010122     0.010067     0.009114   0.008320   0.007020\n",
              "AGE         -0.010116    -0.008276     0.007760   0.020348   0.043446\n",
              "TAX         -0.014522    -0.014814    -0.016046  -0.016218  -0.011417\n",
              "INDUS       -0.044855    -0.042719    -0.023252  -0.000000  -0.000000\n",
              "CRIM        -0.099468    -0.099213    -0.089070  -0.073577  -0.019058\n",
              "NOX         -0.175072    -0.000000    -0.000000  -0.000000  -0.000000\n",
              "LSTAT       -0.574822    -0.587702    -0.693861  -0.760457  -0.800368\n",
              "PTRATIO     -0.779498    -0.784725    -0.790969  -0.738672  -0.423065\n",
              "DIS         -1.189438    -1.173647    -0.975902  -0.725174  -0.031208"
            ],
            "text/html": [
              "\n",
              "  <div id=\"df-bb248d7d-4a1a-419d-ba7f-78baa48add59\">\n",
              "    <div class=\"colab-df-container\">\n",
              "      <div>\n",
              "<style scoped>\n",
              "    .dataframe tbody tr th:only-of-type {\n",
              "        vertical-align: middle;\n",
              "    }\n",
              "\n",
              "    .dataframe tbody tr th {\n",
              "        vertical-align: top;\n",
              "    }\n",
              "\n",
              "    .dataframe thead th {\n",
              "        text-align: right;\n",
              "    }\n",
              "</style>\n",
              "<table border=\"1\" class=\"dataframe\">\n",
              "  <thead>\n",
              "    <tr style=\"text-align: right;\">\n",
              "      <th></th>\n",
              "      <th>alpha : 0.07</th>\n",
              "      <th>alpha : 0.1</th>\n",
              "      <th>alpha : 0.5</th>\n",
              "      <th>alpha : 1</th>\n",
              "      <th>alpha : 3</th>\n",
              "    </tr>\n",
              "  </thead>\n",
              "  <tbody>\n",
              "    <tr>\n",
              "      <th>RM</th>\n",
              "      <td>3.574162</td>\n",
              "      <td>3.414154</td>\n",
              "      <td>1.918419</td>\n",
              "      <td>0.938789</td>\n",
              "      <td>0.000000</td>\n",
              "    </tr>\n",
              "    <tr>\n",
              "      <th>CHAS</th>\n",
              "      <td>1.330724</td>\n",
              "      <td>0.979706</td>\n",
              "      <td>0.000000</td>\n",
              "      <td>0.000000</td>\n",
              "      <td>0.000000</td>\n",
              "    </tr>\n",
              "    <tr>\n",
              "      <th>RAD</th>\n",
              "      <td>0.278880</td>\n",
              "      <td>0.283443</td>\n",
              "      <td>0.300761</td>\n",
              "      <td>0.289299</td>\n",
              "      <td>0.146846</td>\n",
              "    </tr>\n",
              "    <tr>\n",
              "      <th>ZN</th>\n",
              "      <td>0.050107</td>\n",
              "      <td>0.050617</td>\n",
              "      <td>0.052878</td>\n",
              "      <td>0.052136</td>\n",
              "      <td>0.038268</td>\n",
              "    </tr>\n",
              "    <tr>\n",
              "      <th>B</th>\n",
              "      <td>0.010122</td>\n",
              "      <td>0.010067</td>\n",
              "      <td>0.009114</td>\n",
              "      <td>0.008320</td>\n",
              "      <td>0.007020</td>\n",
              "    </tr>\n",
              "    <tr>\n",
              "      <th>AGE</th>\n",
              "      <td>-0.010116</td>\n",
              "      <td>-0.008276</td>\n",
              "      <td>0.007760</td>\n",
              "      <td>0.020348</td>\n",
              "      <td>0.043446</td>\n",
              "    </tr>\n",
              "    <tr>\n",
              "      <th>TAX</th>\n",
              "      <td>-0.014522</td>\n",
              "      <td>-0.014814</td>\n",
              "      <td>-0.016046</td>\n",
              "      <td>-0.016218</td>\n",
              "      <td>-0.011417</td>\n",
              "    </tr>\n",
              "    <tr>\n",
              "      <th>INDUS</th>\n",
              "      <td>-0.044855</td>\n",
              "      <td>-0.042719</td>\n",
              "      <td>-0.023252</td>\n",
              "      <td>-0.000000</td>\n",
              "      <td>-0.000000</td>\n",
              "    </tr>\n",
              "    <tr>\n",
              "      <th>CRIM</th>\n",
              "      <td>-0.099468</td>\n",
              "      <td>-0.099213</td>\n",
              "      <td>-0.089070</td>\n",
              "      <td>-0.073577</td>\n",
              "      <td>-0.019058</td>\n",
              "    </tr>\n",
              "    <tr>\n",
              "      <th>NOX</th>\n",
              "      <td>-0.175072</td>\n",
              "      <td>-0.000000</td>\n",
              "      <td>-0.000000</td>\n",
              "      <td>-0.000000</td>\n",
              "      <td>-0.000000</td>\n",
              "    </tr>\n",
              "    <tr>\n",
              "      <th>LSTAT</th>\n",
              "      <td>-0.574822</td>\n",
              "      <td>-0.587702</td>\n",
              "      <td>-0.693861</td>\n",
              "      <td>-0.760457</td>\n",
              "      <td>-0.800368</td>\n",
              "    </tr>\n",
              "    <tr>\n",
              "      <th>PTRATIO</th>\n",
              "      <td>-0.779498</td>\n",
              "      <td>-0.784725</td>\n",
              "      <td>-0.790969</td>\n",
              "      <td>-0.738672</td>\n",
              "      <td>-0.423065</td>\n",
              "    </tr>\n",
              "    <tr>\n",
              "      <th>DIS</th>\n",
              "      <td>-1.189438</td>\n",
              "      <td>-1.173647</td>\n",
              "      <td>-0.975902</td>\n",
              "      <td>-0.725174</td>\n",
              "      <td>-0.031208</td>\n",
              "    </tr>\n",
              "  </tbody>\n",
              "</table>\n",
              "</div>\n",
              "      <button class=\"colab-df-convert\" onclick=\"convertToInteractive('df-bb248d7d-4a1a-419d-ba7f-78baa48add59')\"\n",
              "              title=\"Convert this dataframe to an interactive table.\"\n",
              "              style=\"display:none;\">\n",
              "        \n",
              "  <svg xmlns=\"http://www.w3.org/2000/svg\" height=\"24px\"viewBox=\"0 0 24 24\"\n",
              "       width=\"24px\">\n",
              "    <path d=\"M0 0h24v24H0V0z\" fill=\"none\"/>\n",
              "    <path d=\"M18.56 5.44l.94 2.06.94-2.06 2.06-.94-2.06-.94-.94-2.06-.94 2.06-2.06.94zm-11 1L8.5 8.5l.94-2.06 2.06-.94-2.06-.94L8.5 2.5l-.94 2.06-2.06.94zm10 10l.94 2.06.94-2.06 2.06-.94-2.06-.94-.94-2.06-.94 2.06-2.06.94z\"/><path d=\"M17.41 7.96l-1.37-1.37c-.4-.4-.92-.59-1.43-.59-.52 0-1.04.2-1.43.59L10.3 9.45l-7.72 7.72c-.78.78-.78 2.05 0 2.83L4 21.41c.39.39.9.59 1.41.59.51 0 1.02-.2 1.41-.59l7.78-7.78 2.81-2.81c.8-.78.8-2.07 0-2.86zM5.41 20L4 18.59l7.72-7.72 1.47 1.35L5.41 20z\"/>\n",
              "  </svg>\n",
              "      </button>\n",
              "      \n",
              "  <style>\n",
              "    .colab-df-container {\n",
              "      display:flex;\n",
              "      flex-wrap:wrap;\n",
              "      gap: 12px;\n",
              "    }\n",
              "\n",
              "    .colab-df-convert {\n",
              "      background-color: #E8F0FE;\n",
              "      border: none;\n",
              "      border-radius: 50%;\n",
              "      cursor: pointer;\n",
              "      display: none;\n",
              "      fill: #1967D2;\n",
              "      height: 32px;\n",
              "      padding: 0 0 0 0;\n",
              "      width: 32px;\n",
              "    }\n",
              "\n",
              "    .colab-df-convert:hover {\n",
              "      background-color: #E2EBFA;\n",
              "      box-shadow: 0px 1px 2px rgba(60, 64, 67, 0.3), 0px 1px 3px 1px rgba(60, 64, 67, 0.15);\n",
              "      fill: #174EA6;\n",
              "    }\n",
              "\n",
              "    [theme=dark] .colab-df-convert {\n",
              "      background-color: #3B4455;\n",
              "      fill: #D2E3FC;\n",
              "    }\n",
              "\n",
              "    [theme=dark] .colab-df-convert:hover {\n",
              "      background-color: #434B5C;\n",
              "      box-shadow: 0px 1px 3px 1px rgba(0, 0, 0, 0.15);\n",
              "      filter: drop-shadow(0px 1px 2px rgba(0, 0, 0, 0.3));\n",
              "      fill: #FFFFFF;\n",
              "    }\n",
              "  </style>\n",
              "\n",
              "      <script>\n",
              "        const buttonEl =\n",
              "          document.querySelector('#df-bb248d7d-4a1a-419d-ba7f-78baa48add59 button.colab-df-convert');\n",
              "        buttonEl.style.display =\n",
              "          google.colab.kernel.accessAllowed ? 'block' : 'none';\n",
              "\n",
              "        async function convertToInteractive(key) {\n",
              "          const element = document.querySelector('#df-bb248d7d-4a1a-419d-ba7f-78baa48add59');\n",
              "          const dataTable =\n",
              "            await google.colab.kernel.invokeFunction('convertToInteractive',\n",
              "                                                     [key], {});\n",
              "          if (!dataTable) return;\n",
              "\n",
              "          const docLinkHtml = 'Like what you see? Visit the ' +\n",
              "            '<a target=\"_blank\" href=https://colab.research.google.com/notebooks/data_table.ipynb>data table notebook</a>'\n",
              "            + ' to learn more about interactive tables.';\n",
              "          element.innerHTML = '';\n",
              "          dataTable['output_type'] = 'display_data';\n",
              "          await google.colab.output.renderOutput(dataTable, element);\n",
              "          const docLink = document.createElement('div');\n",
              "          docLink.innerHTML = docLinkHtml;\n",
              "          element.appendChild(docLink);\n",
              "        }\n",
              "      </script>\n",
              "    </div>\n",
              "  </div>\n",
              "  "
            ]
          },
          "metadata": {},
          "execution_count": 11
        }
      ]
    },
    {
      "cell_type": "markdown",
      "source": [
        "- alpha가 0.5일 때, RMSE가 5.467로 가장 좋은 예측 성능을 보이고 있다.\n",
        "- Feature들의 회귀 계수들 값이 라쏘보다는 상대적으로 0이 되는 값이 적은 것을 알 수 있다.\n",
        "- 릿지, 라쏘, 엘라스틱넷 회귀 중 어떤 것이 가장 좋은지는 상황에 따라 다르다. 따라서 각각의 알고리즘에서 하이퍼 파라미터를 변경해 가며, 최적의 예측 성능을 찾아내야 한다."
      ],
      "metadata": {
        "id": "ZirD75_uJ1uo"
      }
    },
    {
      "cell_type": "markdown",
      "source": [
        "### | **선형 회귀 모델을 위한 데이터 변환**\n",
        "___\n",
        "- 선형 회귀 모델과 같은 선형 모델은 일반적으로 Feature와 Target 값 간에 선형의 관계가 있다고 가정하고, 데이터들을 가장 잘 표현하는 최적의 선형 함수를 찾아, 결과값을 예측한다.\n",
        "- 선형 모델은 Feature와 Target 값의 분포로 정규 분포를 선호한다.\n",
        "  + 특히 Target 값의 경우, 특정 값으로 치우친 왜곡된 분포(Skew distribution)일 경우, 예측 성능에 부정적인 영향을 미칠 수 있다.\n",
        "  + Feature 값 역시 Target 값보다는 덜하지만, 왜곡된 분포로 인해 예측 성능에 저하될 수 있다.\n",
        "- 따라서 선형 회귀 모델을 적용하기 전에 먼저 데이터를 스케일링하거나 정규화하는 것이 일반적이다. 다만, 스케일링/정규화 작업을 한다고 해서 무조건 예측 성능이 향상되는 것은 아니다.\n",
        "- 일반적으로 중요 Feature나 Target 값의 분포가 심하게 왜곡되었을 때, 이러한 변환 작업을 수행한다.\n",
        "- 사이킷런을 이용해 Feature 데이터셋을 다음과 같이 변환한다.\n",
        "  1. `StandardScaler` 클래스를 이용해 평균이 0, 분산이 1인 표준 정규 분포를 가진 데이터셋으로 변환하거나 `MinMaxScaler` 클래스를 이용해 최솟값이 0이고, 최댓값이 1인 값으로 정규화를 수행한다.\n",
        "  2. 스케일링/정규화를 수행한 데이터셋에 다시 다항 특성을 적용하여 변환한다. 1번을 적용했는데도, 예측 성능이 향상되지 않을 경우 이와 같은 방법을 적용한다.\n",
        "  3. 원래 값에 log 함수를 적용한다. 그러면 정규 분포에 가까운 형태로 값이 분포되며, 이러한 변환을 **로그 변환(Log Transformation)이라고 한다. 1번 방법은 예측 성능이 크게 향상되기 힘들고, 2번 방법은 Feature의 개수가 많을 경우, 과적합 이슈가 발생할 수 있기 때문에, 로그 변환이 1, 2번 방법보다 자주 사용된다.\n",
        "- Target 값을 정규 분포나 다른 값으로 변환하면 변환된 값을 다시 원본 값으로 복원하기 힘들기 때문에, 일반적으로 Target 값에는 로그 변환을 적용한다.\n",
        "- 보스턴 주택 가격 Feature 데이터셋에 위에서 언급한 표준 정규 분포 변환, 최댓값/최솟값 정규화, 로그 변환을 차례대로 적용한 후, RMSE로 예측 성능을 측정해보자.\n",
        "- `get_scaled_data()` 함수\n",
        "  + 변환 방법을 입력 받아, 표준 정규 분포 변환(Standard), 최댓값/최솟값 정규화(MinMax), 로그 변환(Log) 중에 하나를 선택한다. \n",
        "  + `p_degree` : 다항 특성을 적용할 때, 다항식 차수를 입력한다. 단, 다항식 차수는 2를 넘기지 않는다.\n",
        "  + 로그 변환 : `np.log1p()` 함수를 이용한다. `np.log()`를 이용해 log() 함수를 적용하면, 언더 플로우가 쉽게 발생하기 때문에, 1 + log() 함수를 적용한다."
      ],
      "metadata": {
        "id": "p0hGX3lxdNRO"
      }
    },
    {
      "cell_type": "code",
      "source": [
        "from sklearn.preprocessing import StandardScaler, MinMaxScaler, PolynomialFeatures\n",
        "\n",
        "# method는 표준 정규 분포 변환(Standard), 최대값/최소값 정규화(MinMax), 로그변환(Log) 결정\n",
        "# p_degree는 다향식 특성을 추가할 때 적용. p_degree는 2이상 부여하지 않음. \n",
        "def get_scaled_data(method='None', p_degree=None, input_data=None):\n",
        "    if method == 'Standard':\n",
        "        scaled_data = StandardScaler().fit_transform(input_data)\n",
        "    elif method == 'MinMax':\n",
        "        scaled_data = MinMaxScaler().fit_transform(input_data)\n",
        "    elif method == 'Log':\n",
        "        scaled_data = np.log1p(input_data)\n",
        "    else:\n",
        "        scaled_data = input_data\n",
        "\n",
        "    if p_degree != None:\n",
        "        scaled_data = PolynomialFeatures(degree=p_degree, \n",
        "                                         include_bias=False).fit_transform(scaled_data)\n",
        "    \n",
        "    return scaled_data"
      ],
      "metadata": {
        "id": "3TG_sEqGbRAa"
      },
      "execution_count": null,
      "outputs": []
    },
    {
      "cell_type": "markdown",
      "source": [
        "- 이제 `Ridge` 클래스의 alpha 값을 변화시키면서, Feature 데이터셋을 여러가지 방법으로 변환한 데이터셋을 입력받을 경우, RMSE 값이 어떻게 변하는지 살펴본다.\n",
        "- 앞에서 생성한 `get_linear_reg_eval()` 함수를 이용한다.\n",
        "- Feature 데이터 변환 방법은 모두 5가지로 다음과 같다.\n",
        "  1. (None, None) : 아무런 변환을 하지 않은 원본 데이터\n",
        "  2. ('Standard', None) : 표준 정규 분포로 변환한 데이터\n",
        "  3. ('Standard', 2) : 표준 정규 분포로 변환하고, 다시 2차 다항식으로 변환한 데이터\n",
        "  4. ('MinMax', None) : 최솟값/최댓값 정규화한 데이터\n",
        "  5. ('MinMax', 2)  : 최솟값/최댓값 정규화하고 다시 2차 다항식으로 변환한 데이터\n",
        "  6. ('Log', None) : 로그 변환한 데이터"
      ],
      "metadata": {
        "id": "5eZxhaqWbkfT"
      }
    },
    {
      "cell_type": "code",
      "source": [
        "alphas = [0.1, 1, 10, 100]\n",
        "\n",
        "# 데이터 종류는 모두 6개, 원본 그대로, 표준정규분포, 표준정규분포+다항식 특성, 최대/최소 정규화, 최대/최소 정규화+다항식 특성, 로그변환 \n",
        "scale_methods = [(None, None), ('Standard', None), ('Standard', 2), ('MinMax', None), ('MinMax', 2), ('Log', None)]\n",
        "\n",
        "for scale_method in scale_methods:\n",
        "    X_data_scaled = get_scaled_data(method = scale_method[0], p_degree = scale_method[1], input_data = X_data)\n",
        "    print('\\n## 변환 유형 : {0}, Polynomial Degree : {1}'.format(scale_method[0], scale_method[1]))\n",
        "\n",
        "    # Ridge의 alpha값을 다르게 적용하며 다양한 데이터 변환 방법에 따른 RMSE 추출 \n",
        "    get_linear_reg_eval('Ridge', params = alphas, X_data_n = X_data_scaled, y_target_n = y_target, verbose = False, return_coeff = False)"
      ],
      "metadata": {
        "colab": {
          "base_uri": "https://localhost:8080/"
        },
        "id": "JqDtupyic4fb",
        "outputId": "b5e16656-cea4-4985-dddb-f1e52347d573"
      },
      "execution_count": null,
      "outputs": [
        {
          "output_type": "stream",
          "name": "stdout",
          "text": [
            "\n",
            "## 변환 유형 : None, Polynomial Degree : None\n",
            "alpha 0.1일 때 5 폴드 세트의 평균 RMSE : 5.788 \n",
            "alpha 1일 때 5 폴드 세트의 평균 RMSE : 5.653 \n",
            "alpha 10일 때 5 폴드 세트의 평균 RMSE : 5.518 \n",
            "alpha 100일 때 5 폴드 세트의 평균 RMSE : 5.330 \n",
            "\n",
            "## 변환 유형 : Standard, Polynomial Degree : None\n",
            "alpha 0.1일 때 5 폴드 세트의 평균 RMSE : 5.826 \n",
            "alpha 1일 때 5 폴드 세트의 평균 RMSE : 5.803 \n",
            "alpha 10일 때 5 폴드 세트의 평균 RMSE : 5.637 \n",
            "alpha 100일 때 5 폴드 세트의 평균 RMSE : 5.421 \n",
            "\n",
            "## 변환 유형 : Standard, Polynomial Degree : 2\n",
            "alpha 0.1일 때 5 폴드 세트의 평균 RMSE : 8.827 \n",
            "alpha 1일 때 5 폴드 세트의 평균 RMSE : 6.871 \n",
            "alpha 10일 때 5 폴드 세트의 평균 RMSE : 5.485 \n",
            "alpha 100일 때 5 폴드 세트의 평균 RMSE : 4.634 \n",
            "\n",
            "## 변환 유형 : MinMax, Polynomial Degree : None\n",
            "alpha 0.1일 때 5 폴드 세트의 평균 RMSE : 5.764 \n",
            "alpha 1일 때 5 폴드 세트의 평균 RMSE : 5.465 \n",
            "alpha 10일 때 5 폴드 세트의 평균 RMSE : 5.754 \n",
            "alpha 100일 때 5 폴드 세트의 평균 RMSE : 7.635 \n",
            "\n",
            "## 변환 유형 : MinMax, Polynomial Degree : 2\n",
            "alpha 0.1일 때 5 폴드 세트의 평균 RMSE : 5.298 \n",
            "alpha 1일 때 5 폴드 세트의 평균 RMSE : 4.323 \n",
            "alpha 10일 때 5 폴드 세트의 평균 RMSE : 5.185 \n",
            "alpha 100일 때 5 폴드 세트의 평균 RMSE : 6.538 \n",
            "\n",
            "## 변환 유형 : Log, Polynomial Degree : None\n",
            "alpha 0.1일 때 5 폴드 세트의 평균 RMSE : 4.770 \n",
            "alpha 1일 때 5 폴드 세트의 평균 RMSE : 4.676 \n",
            "alpha 10일 때 5 폴드 세트의 평균 RMSE : 4.836 \n",
            "alpha 100일 때 5 폴드 세트의 평균 RMSE : 6.241 \n"
          ]
        }
      ]
    },
    {
      "cell_type": "markdown",
      "source": [
        "- 결과를 보면 포준 정규 분포나 최솟값/최댓값 정규화로 Feature 데이터셋을 변경해도 성능 상의 개선은 없었다.\n",
        "- 표준 정규 분포로 변환하고, 2차 다항식 변환했을 때, alpha = 1dptj 4.323으로 성능이 개선되었다. 하지만 다항식 변환은 Feature 개수가 많을 경우 과적합 때문에 적용하기 힘들며, 계산에 많은 시간이 소모되어 한계가 있다.\n",
        "- 로그 변환 결과를 보면 alpha가 0.1, 1, 10일 때, 성능이 개선되었다."
      ],
      "metadata": {
        "id": "lI1VEutvghLx"
      }
    },
    {
      "cell_type": "markdown",
      "source": [
        "## **07 로지스틱 회귀**\n",
        "____\n",
        "- 로지스틱 회귀는 선형 회귀 방식을 분류에 적용한 알고리즘이다.\n",
        "- 로지스틱 역시 가중치 변수(weight)가 선형이기 때문에, 선형 회귀 계열에 속한다.\n",
        "- 로지스틱 회귀가 일반 선형 회귀와 다른 점은 선형 함수의 회귀 최적선을 찾는 것이 아니라 **시그모이드(Sigmoid) 함수** 최적선을 찾고, 이 함수의 반환 값을 확률로 간주해, **확률에 따라 분류**한다는 것이다."
      ],
      "metadata": {
        "id": "okR9nbw6deRb"
      }
    },
    {
      "cell_type": "code",
      "source": [
        "# Sigmoid 함수\n",
        "e = np.e\n",
        "\n",
        "def sigmoid(x) :\n",
        "  s = 1 / (1 + e**(-x))\n",
        "  return s\n",
        "\n",
        "x = np.linspace(-4, 4)\n",
        "y = sigmoid(x)\n",
        "\n",
        "plt.plot(x,y)\n",
        "plt.grid()\n",
        "plt.show()"
      ],
      "metadata": {
        "colab": {
          "base_uri": "https://localhost:8080/",
          "height": 265
        },
        "id": "1Xh0aSOajGG9",
        "outputId": "f4ca546a-4bca-4315-eac0-1c1e4ea87608"
      },
      "execution_count": null,
      "outputs": [
        {
          "output_type": "display_data",
          "data": {
            "text/plain": [
              "<Figure size 432x288 with 1 Axes>"
            ],
            "image/png": "[encoded data removed]"
          },
          "metadata": {
            "needs_background": "light"
          }
        }
      ]
    },
    {
      "cell_type": "markdown",
      "source": [
        "- 많은 자연, 사회 현상에서 특정 변수의 확률 값은 선형이 아니라 시그모이드 함수와 같은 S자 커브 형태를 가진다.\n",
        "- 시그모이드 함수의 정의는 아래와 같다. $$ y = \\frac{1}{1 + e^{-x}}$$\n",
        "  + x 값이 무한대로 가더라도, y 값은 항상 0과 1 사이의 값을 반환한다.\n",
        "  + x 값이 커지면 1에 근사하고, x 값이 작아지면 0에 근사한다.\n",
        "  + x = 0일 때, 함수값은 0.5이다.\n",
        "- 종양 크기에 따라 악성 종양인지 그렇지 않은지 회귀를 이용해 1과 0의 값으로 예측한다. 선형 함수보다 S자 커브 형태의 시그모이드 함수를 이용하면 좀 더 정확하게 분류를 할 수 있다.\n",
        "- 위스콘신 유방암 데이터셋을 이용해 로지스틱 회귀로 암 여부를 판단한다."
      ],
      "metadata": {
        "id": "WlRvfS-0je42"
      }
    },
    {
      "cell_type": "code",
      "source": [
        "import pandas as pd\n",
        "import matplotlib.pyplot as plt\n",
        "%matplotlib inline\n",
        "\n",
        "from sklearn.datasets import load_breast_cancer\n",
        "from sklearn.linear_model import LogisticRegression\n",
        "\n",
        "# 전체 데이터셋 생성\n",
        "cancer = load_breast_cancer()"
      ],
      "metadata": {
        "id": "mA6CmNgZkkh9"
      },
      "execution_count": null,
      "outputs": []
    },
    {
      "cell_type": "markdown",
      "source": [
        "- 데이터를 학습/테스트 데이터셋으로 나눈 뒤, 로지스틱 회귀로 분류를 수행한다.\n",
        "- 선형 회귀 계열인 로지스틱 회귀는 데이터의 분포가 예측 성능에 영향을 주기 때문에, 먼저 데이터를 정규 분포 형태의 표준 스케일링을 적용한 뒤, `train_test_split()`을 이용해 데이터셋을 분리한다."
      ],
      "metadata": {
        "id": "If2Pz447kqsX"
      }
    },
    {
      "cell_type": "code",
      "source": [
        "from sklearn.preprocessing import StandardScaler\n",
        "from sklearn.model_selection import train_test_split\n",
        "\n",
        "# StandardScaler()로 평균이 0, 분산 1로 데이터 분포 변환\n",
        "scaler = StandardScaler()\n",
        "data_scaled = scaler.fit_transform(cancer.data)\n",
        "\n",
        "X_train, X_test, y_train, y_test = train_test_split(data_scaled, cancer.target, test_size = 0.3, random_state = 0)"
      ],
      "metadata": {
        "id": "9CEbv6PglDyn"
      },
      "execution_count": null,
      "outputs": []
    },
    {
      "cell_type": "markdown",
      "source": [
        "- 로지스틱 회귀를 이용해, 학습 및 예측을 수행하고, 정확도와 ROC-AUC 값을 구한다."
      ],
      "metadata": {
        "id": "GZ3DtpA6lK9-"
      }
    },
    {
      "cell_type": "code",
      "source": [
        "from sklearn.metrics import accuracy_score, roc_auc_score\n",
        "\n",
        "# 로지스틱 회귀를 이용하여 학습 및 예측 수행. \n",
        "lr_clf = LogisticRegression()\n",
        "lr_clf.fit(X_train, y_train)\n",
        "lr_preds = lr_clf.predict(X_test)\n",
        "\n",
        "# accuracy와 roc_auc 측정\n",
        "print('accuracy : {:0.3f}'.format(accuracy_score(y_test, lr_preds)))\n",
        "print('roc_auc : {:0.3f}'.format(roc_auc_score(y_test , lr_preds)))"
      ],
      "metadata": {
        "colab": {
          "base_uri": "https://localhost:8080/"
        },
        "id": "o-egYkumlP3I",
        "outputId": "2fdf467d-e099-4376-cb5d-2950306ba5e2"
      },
      "execution_count": null,
      "outputs": [
        {
          "output_type": "stream",
          "name": "stdout",
          "text": [
            "accuracy : 0.977\n",
            "roc_auc : 0.972\n"
          ]
        }
      ]
    },
    {
      "cell_type": "markdown",
      "source": [
        "- 정확도는 0.977, ROC-AUC는 0.972이다.\n",
        "- 사이킷런 `LogisticRegression` 클래스의 주요 하이퍼 파라미터는 `penalty`와 `C`가 있다.\n",
        "  + `penalty` : 규제(Regularization)의 유형을 설정한다. 'l2'이면, L2 규제를, 'l1'이면 L1 규제를 적용한다. 디폴트는 'l2'이다.\n",
        "  + `C` : 규제 강도를 조절하는 alpha 값의 역수이다. C값이 작을수록 규제 강도가 크다.\n",
        "- GridSearchCV를 이용해 위스콘신 데이터셋에서 이 하이퍼 파라미터를 최적화해보자."
      ],
      "metadata": {
        "id": "kPCAE54ylXQT"
      }
    },
    {
      "cell_type": "code",
      "source": [
        "from sklearn.model_selection import GridSearchCV\n",
        "\n",
        "params={'penalty':['l2', 'l1'],\n",
        "        'C':[0.01, 0.1, 1, 1, 5, 10]}\n",
        "\n",
        "grid_clf = GridSearchCV(lr_clf, param_grid = params, scoring = 'accuracy', cv = 3 )\n",
        "grid_clf.fit(data_scaled, cancer.target)\n",
        "print('최적 하이퍼 파라미터 : {0}, 최적 평균 정확도 : {1:.3f}'.format(grid_clf.best_params_, grid_clf.best_score_))"
      ],
      "metadata": {
        "colab": {
          "base_uri": "https://localhost:8080/"
        },
        "id": "I3NJahuvmBUl",
        "outputId": "27b952e9-46c7-4982-a44a-472c36275e9b"
      },
      "execution_count": null,
      "outputs": [
        {
          "output_type": "stream",
          "name": "stdout",
          "text": [
            "최적 하이퍼 파라미터 : {'C': 1, 'penalty': 'l2'}, 최적 평균 정확도 : 0.975\n"
          ]
        }
      ]
    },
    {
      "cell_type": "markdown",
      "source": [
        "- 로지스틱 회귀는 가볍고 빠르지만, 이진 분류 예측 성능도 뛰어나다.\n",
        "- 로지스틱 회귀는 희소한 데이터셋 분류에서도 뛰어난 성능을 보이며, 텍스트 분류에서도 자주 사용된다."
      ],
      "metadata": {
        "id": "4f9rgvbbmIUd"
      }
    },
    {
      "cell_type": "markdown",
      "source": [
        "## **08 회귀 트리**\n",
        "____\n",
        "- 지금까지 회귀 계수의 관계를 모두 선형으로 가정하는 선형 회귀에 대해 알아보았다.\n",
        "- 일반적으로 선형 회귀는 회귀 계수를 선형으로 결합하는 회귀 함수를 구해, 여기에 독립 변수를 입력하여 결과값을 예측하는 방식이다.\n",
        "- 비선형 회귀 역시 비선형 회귀 함수를 통해 결과값을 예측하며, 다만, 회귀 계수의 결합이 비선형이라는 차이가 있다.\n",
        "- 머신러닝에서 회귀는 **회귀 계수를 기반으로 하는 최적 회귀 함수를 도출하는 것**이 주요 목표이다.\n",
        "- 8절에서는 회귀 함수를 기반으로 하지 않고, 결정 트리와 같이, 트리를 기반으로 회귀 방식에 대해 공부한다.\n",
        "- 트리 기반의 회귀는 회귀 트리를 이용한다. 즉, 회귀를 위한 트리를 생성하고, 이를 기반으로 회귀 예측을 한다.\n",
        "- 회귀 트리는 분류에서 배운 분류 트리와 크게 다르지 않지만, 리프 노드에서 예측 결정 값을 만드는 과정에 차이가 있다.\n",
        "  + 분류 트리는 특정 클래스 레이블을 결정한다.\n",
        "  + 회귀 트리는 리프 노드에 속한 데이터 값의 평균값을 구해 회귀 예측값을 계산한다.\n",
        "- 데이터셋의 X Feature를 결정트리로 분할하면 X 값의 균일도를 반영한 지니 계수에 따라 데이터 값을 분리한다. 루트 노드는 그 값을 기준으로 분할하고, 이렇게 분할된 규칙 노드는 다시 규칙 노드를 분할한다. 리프 노드 생성 기준에 부합하는 트리 분할이 완료되었다면 리프 노드에 소속된 데이터 값의 평균값을 구해 최종적으로 리프 노드에 결정 값을 할당한다.\n",
        "- CART(Classification And Regression Tree)는 이름에서 알 수 있듯이 분류뿐만 아니라 회귀도 가능한 트리 생성 알고리즘이다. 따라서 결정 트리, 랜덤 포레스트, GBM, XGBoost, LightGBM 등의 모든 트리 기반 알고리즘은 회귀도 가능하다.\n",
        "- 사이킷런은 결정트리, 랜덤포레스트, GBM에서 CART 기반 회귀를 수행할 수 있는 Estimator 클래스를 재공한다.\n",
        "- XGBoost, LightGBM도 사이킷런 래퍼 클래스를 통해 이를 제공한다."
      ],
      "metadata": {
        "id": "YEnEDCe-dg8R"
      }
    },
    {
      "cell_type": "markdown",
      "source": [
        "|알고리즘|회귀 Estimator 클래스 |분류 Estimator 클래스|\n",
        "|---|---|---|\n",
        "|Decision Tree|DecisionTreeRegressor|DecisionTreeClassifier|\n",
        "|Gradient Boosting|GradientBoostingRegressor|GradientBoostClassifier|\n",
        "|XGBoost|XGBRegressor|XGBClassifier|\n",
        "|LightGBM|LGBRegressor|LGBClassifier|\n"
      ],
      "metadata": {
        "id": "hc0e1iOGrE0l"
      }
    },
    {
      "cell_type": "markdown",
      "source": [
        "- 사이킷런의 랜덤 포레스트 회귀 트리인 `RandomForestRegressor`를 이용해 보스턴 주택 가격 예측을 수행해보자."
      ],
      "metadata": {
        "id": "Tu8r0k7Nqpm1"
      }
    },
    {
      "cell_type": "code",
      "source": [
        "from sklearn.datasets import load_boston\n",
        "from sklearn.model_selection import cross_val_score\n",
        "from sklearn.ensemble import RandomForestRegressor\n",
        "import pandas as pd\n",
        "import numpy as np"
      ],
      "metadata": {
        "id": "SfCJkgagrwo-"
      },
      "execution_count": null,
      "outputs": []
    },
    {
      "cell_type": "code",
      "source": [
        "# 데이터셋 로드\n",
        "boston = load_boston()\n",
        "bostonDF = pd.DataFrame(boston.data, columns = boston.feature_names)"
      ],
      "metadata": {
        "id": "GUIp6XmgrybB"
      },
      "execution_count": null,
      "outputs": []
    },
    {
      "cell_type": "code",
      "source": [
        "# Feature/Target 분리\n",
        "bostonDF['PRICE'] = boston.target\n",
        "y_target = bostonDF['PRICE']\n",
        "X_data = bostonDF.drop(['PRICE'], axis=1,inplace=False)"
      ],
      "metadata": {
        "id": "nPyzw7zirzyt"
      },
      "execution_count": null,
      "outputs": []
    },
    {
      "cell_type": "code",
      "source": [
        "# Model Fitting\n",
        "rf = RandomForestRegressor(random_state = 0, n_estimators = 1000)\n",
        "\n",
        "# Model Test\n",
        "neg_mse_scores = cross_val_score(rf, X_data, y_target, scoring = \"neg_mean_squared_error\", cv = 5)\n",
        "rmse_scores  = np.sqrt(-1 * neg_mse_scores)\n",
        "avg_rmse = np.mean(rmse_scores)\n",
        "\n",
        "print(' 5 교차 검증의 개별 Negative MSE scores : ', np.round(neg_mse_scores, 2))\n",
        "print(' 5 교차 검증의 개별 RMSE scores : ', np.round(rmse_scores, 2))\n",
        "print(' 5 교차 검증의 평균 RMSE : {0:.3f} '.format(avg_rmse))"
      ],
      "metadata": {
        "colab": {
          "base_uri": "https://localhost:8080/"
        },
        "id": "EIg4S51Orrl3",
        "outputId": "944acf42-8991-456f-bcaf-54496e50a879"
      },
      "execution_count": null,
      "outputs": [
        {
          "output_type": "stream",
          "name": "stdout",
          "text": [
            " 5 교차 검증의 개별 Negative MSE scores :  [ -7.88 -13.14 -20.57 -46.23 -18.88]\n",
            " 5 교차 검증의 개별 RMSE scores :  [2.81 3.63 4.54 6.8  4.34]\n",
            " 5 교차 검증의 평균 RMSE : 4.423 \n"
          ]
        }
      ]
    },
    {
      "cell_type": "markdown",
      "source": [
        "- 이번에는 랜덤 포레스트뿐만 아니라, 결정트리, GBM, XGBoost, LightGBM의 `Regressor`를 모두 이용해 보스턴 주택 가격 예측을 수행해보자.\n",
        "- `get_model_cv_prediction()` 함수 : 입력 모델과 데이터셋을 입력 받아, 교차 검증으로 평균 RMSE를 계산해주는 함수이다."
      ],
      "metadata": {
        "id": "LIFG-sGVsAYv"
      }
    },
    {
      "cell_type": "code",
      "source": [
        "def get_model_cv_prediction(model, X_data, y_target):\n",
        "    neg_mse_scores = cross_val_score(model, X_data, y_target, scoring = \"neg_mean_squared_error\", cv = 5)\n",
        "    rmse_scores  = np.sqrt(-1 * neg_mse_scores)\n",
        "    avg_rmse = np.mean(rmse_scores)\n",
        "\n",
        "    print('##### ', model.__class__.__name__ , ' #####')\n",
        "    print(' 5 교차 검증의 평균 RMSE : {0:.3f} '.format(avg_rmse))"
      ],
      "metadata": {
        "id": "sdvzkkwtsQok"
      },
      "execution_count": null,
      "outputs": []
    },
    {
      "cell_type": "markdown",
      "source": [
        "- 이제 다양한 유형의 회귀 트리를 생성하고, 이를 이용해 보스턴 주택 가격을 예측해보자."
      ],
      "metadata": {
        "id": "Jm1aFpefsYFb"
      }
    },
    {
      "cell_type": "code",
      "source": [
        "from sklearn.tree import DecisionTreeRegressor\n",
        "from sklearn.ensemble import GradientBoostingRegressor\n",
        "from xgboost import XGBRegressor\n",
        "from lightgbm import LGBMRegressor"
      ],
      "metadata": {
        "id": "b8Jh3Avssf3K"
      },
      "execution_count": null,
      "outputs": []
    },
    {
      "cell_type": "code",
      "source": [
        "dt_reg = DecisionTreeRegressor(random_state = 0, max_depth = 4)\n",
        "rf_reg = RandomForestRegressor(random_state = 0, n_estimators = 1000)\n",
        "gb_reg = GradientBoostingRegressor(random_state = 0, n_estimators = 1000)\n",
        "xgb_reg = XGBRegressor(n_estimators = 1000)\n",
        "lgb_reg = LGBMRegressor(n_estimators = 1000)\n",
        "\n",
        "# 트리 기반의 회귀 모델을 반복하면서 평가 수행 \n",
        "models = [dt_reg, rf_reg, gb_reg, xgb_reg, lgb_reg]\n",
        "\n",
        "for model in models:  \n",
        "    get_model_cv_prediction(model, X_data, y_target)"
      ],
      "metadata": {
        "colab": {
          "base_uri": "https://localhost:8080/"
        },
        "id": "kmc74tPcschI",
        "outputId": "2a4c9d3c-b0f8-4ce2-db42-9592f7766a14"
      },
      "execution_count": null,
      "outputs": [
        {
          "output_type": "stream",
          "name": "stdout",
          "text": [
            "#####  DecisionTreeRegressor  #####\n",
            " 5 교차 검증의 평균 RMSE : 5.978 \n",
            "#####  RandomForestRegressor  #####\n",
            " 5 교차 검증의 평균 RMSE : 4.423 \n",
            "#####  GradientBoostingRegressor  #####\n",
            " 5 교차 검증의 평균 RMSE : 4.269 \n",
            "[12:53:00] WARNING: /workspace/src/objective/regression_obj.cu:152: reg:linear is now deprecated in favor of reg:squarederror.\n",
            "[12:53:01] WARNING: /workspace/src/objective/regression_obj.cu:152: reg:linear is now deprecated in favor of reg:squarederror.\n",
            "[12:53:01] WARNING: /workspace/src/objective/regression_obj.cu:152: reg:linear is now deprecated in favor of reg:squarederror.\n",
            "[12:53:02] WARNING: /workspace/src/objective/regression_obj.cu:152: reg:linear is now deprecated in favor of reg:squarederror.\n",
            "[12:53:02] WARNING: /workspace/src/objective/regression_obj.cu:152: reg:linear is now deprecated in favor of reg:squarederror.\n",
            "#####  XGBRegressor  #####\n",
            " 5 교차 검증의 평균 RMSE : 4.089 \n",
            "#####  LGBMRegressor  #####\n",
            " 5 교차 검증의 평균 RMSE : 4.646 \n"
          ]
        }
      ]
    },
    {
      "cell_type": "markdown",
      "source": [
        "- 회귀 트리 `Regressor` 클래스는 선형 회귀와 다르게 회귀 계수를 제공하는 `coef_` 속성이 없다.\n",
        "- 대신 `feature_importances_`를 이용해 Feature 별 중요도를 알 수 있다. 이를 이용해 보스턴 주택 가격 모델의 Feature 별 중요도를 시각화해보자."
      ],
      "metadata": {
        "id": "MYpJbXZ8sotr"
      }
    },
    {
      "cell_type": "code",
      "source": [
        "import seaborn as sns\n",
        "%matplotlib inline\n",
        "\n",
        "rf_reg = RandomForestRegressor(n_estimators = 1000)\n",
        "\n",
        "# 앞에서 만들어진 X_data, y_target 데이터셋을 적용해 학습  \n",
        "rf_reg.fit(X_data, y_target)\n",
        "\n",
        "feature_series = pd.Series(data = rf_reg.feature_importances_, index = X_data.columns )\n",
        "feature_series = feature_series.sort_values(ascending = False) # 내림차순\n",
        "sns.barplot(x = feature_series, y = feature_series.index)"
      ],
      "metadata": {
        "colab": {
          "base_uri": "https://localhost:8080/",
          "height": 282
        },
        "id": "iZ5YV83OtGRv",
        "outputId": "ac47965c-a464-4c16-b6df-bcf75e46c1c5"
      },
      "execution_count": null,
      "outputs": [
        {
          "output_type": "execute_result",
          "data": {
            "text/plain": [
              "<matplotlib.axes._subplots.AxesSubplot at 0x7f1046364050>"
            ]
          },
          "metadata": {},
          "execution_count": 45
        },
        {
          "output_type": "display_data",
          "data": {
            "text/plain": [
              "<Figure size 432x288 with 1 Axes>"
            ],
            "image/png": "[encoded data removed]"
          },
          "metadata": {
            "needs_background": "light"
          }
        }
      ]
    },
    {
      "cell_type": "markdown",
      "source": [
        "- 사이킷런의 회귀 트리 `Regressor`의 하이퍼 파라미터는 분류 트리 `Classifier`와 거의 동일하다.\n",
        "- 이번에는 회귀 트리 `Regressor`가 어떻게 예측값을 판단하는지 선형 회귀와 비교해 시각화해보자.\n",
        "- 결정 트리의 하이퍼 파라미터인 `max_depth`의 크기를 변화시키면서 어떻게 회귀 트리 예측선이 변하는지 살펴본다.\n",
        "- 보스턴 주택 데이터셋을 이용한다..\n",
        "- 2차원 평면상에서 회귀 예측선을 쉽게 표현하기 위해  Price와 가장 밀정한 양의 상관관계를 가지는 RM 컬럼만 추출한다.\n",
        "- 2차원 평면상에서 X축에 독립 변수인 RM, Y축에 종속변수인 PRICE만 두어, 좀 더 직관적으로 예측을 시각화하기 위해, 보스턴 데이터셋의 개수를 100개만 샘플링하고, RM과 PRICE 컬럼을 추출한다."
      ],
      "metadata": {
        "id": "XSji6qtYtYZW"
      }
    },
    {
      "cell_type": "code",
      "source": [
        "bostonDF_sample = bostonDF[['RM','PRICE']]\n",
        "bostonDF_sample = bostonDF_sample.sample( n =100, random_state = 0)\n",
        "print(bostonDF_sample.shape)\n",
        "plt.figure()\n",
        "plt.scatter(bostonDF_sample.RM, bostonDF_sample.PRICE, c = \"darkorange\")"
      ],
      "metadata": {
        "colab": {
          "base_uri": "https://localhost:8080/",
          "height": 300
        },
        "id": "MX7oqktCuLV2",
        "outputId": "1f21924e-da0d-4c7a-d55e-df526357b0df"
      },
      "execution_count": null,
      "outputs": [
        {
          "output_type": "stream",
          "name": "stdout",
          "text": [
            "(100, 2)\n"
          ]
        },
        {
          "output_type": "execute_result",
          "data": {
            "text/plain": [
              "<matplotlib.collections.PathCollection at 0x7f10460edd50>"
            ]
          },
          "metadata": {},
          "execution_count": 46
        },
        {
          "output_type": "display_data",
          "data": {
            "text/plain": [
              "<Figure size 432x288 with 1 Axes>"
            ],
            "image/png": "[encoded data removed]"
          },
          "metadata": {
            "needs_background": "light"
          }
        }
      ]
    },
    {
      "cell_type": "markdown",
      "source": [
        "- 다음으로 보스턴데이터셋에 대해 `LinearRegression`과 `DecisionTreeRegressor`를 `max_depth`를 각각 2, 7로 설정하여 학습한다.\n",
        "- 이렇게 학습된 Regressor에서 RM 값을 4.5~8.5까지의 값 100개를 테스트 데이터셋으로 제공했을 때 예측값도 구한다."
      ],
      "metadata": {
        "id": "O4T-bMAvubIL"
      }
    },
    {
      "cell_type": "code",
      "source": [
        "import numpy as np\n",
        "from sklearn.linear_model import LinearRegression\n",
        "\n",
        "# 선형 회귀와 결정 트리 기반의 Regressor 생성\n",
        "# DecisionTreeRegressor의 max_depth는 각각 2, 7\n",
        "lr_reg = LinearRegression()\n",
        "rf_reg2 = DecisionTreeRegressor(max_depth = 2)\n",
        "rf_reg7 = DecisionTreeRegressor(max_depth = 7)\n",
        "\n",
        "# 실제 예측을 적용할 테스트용 데이터 셋을 4.5 ~ 8.5 까지 100개 테스트 데이터셋 생성\n",
        "X_test = np.arange(4.5, 8.5, 0.04).reshape(-1, 1)\n",
        "\n",
        "# 보스턴 주택가격 데이터에서 시각화를 위해 RM, PRICE 추출\n",
        "X_feature = bostonDF_sample['RM'].values.reshape(-1,1)\n",
        "y_target = bostonDF_sample['PRICE'].values.reshape(-1,1)\n",
        "\n",
        "# 학습\n",
        "lr_reg.fit(X_feature, y_target)\n",
        "rf_reg2.fit(X_feature, y_target)\n",
        "rf_reg7.fit(X_feature, y_target)\n",
        "\n",
        "# 예측\n",
        "pred_lr = lr_reg.predict(X_test)\n",
        "pred_rf2 = rf_reg2.predict(X_test)\n",
        "pred_rf7 = rf_reg7.predict(X_test)"
      ],
      "metadata": {
        "id": "nUtWShChuuPA"
      },
      "execution_count": null,
      "outputs": []
    },
    {
      "cell_type": "markdown",
      "source": [
        "- 학습된 Regressor에서 예측한 Price 회귀선을 그린다."
      ],
      "metadata": {
        "id": "KgD-9kg2vBXl"
      }
    },
    {
      "cell_type": "code",
      "source": [
        "#  선형 회귀와 결정 트리 회귀 예측선 시각화\n",
        "fig , (ax1, ax2, ax3) = plt.subplots(figsize = (14,4), ncols = 3)\n",
        "\n",
        "# 선형 회귀로 학습된 모델 회귀 예측선 \n",
        "ax1.set_title('Linear Regression')\n",
        "ax1.scatter(bostonDF_sample.RM, bostonDF_sample.PRICE, c = \"darkorange\")\n",
        "ax1.plot(X_test, pred_lr,label = \"linear\", linewidth = 2 )\n",
        "\n",
        "# DecisionTreeRegressor의 max_depth를 2로 했을 때 회귀 예측선 \n",
        "ax2.set_title('Decision Tree Regression : \\n max_depth = 2')\n",
        "ax2.scatter(bostonDF_sample.RM, bostonDF_sample.PRICE, c = \"darkorange\")\n",
        "ax2.plot(X_test, pred_rf2, label = \"max_depth : 3\", linewidth = 2 )\n",
        "\n",
        "# DecisionTreeRegressor의 max_depth를 7로 했을 때 회귀 예측선 \n",
        "ax3.set_title('Decision Tree Regression : \\n max_depth = 7')\n",
        "ax3.scatter(bostonDF_sample.RM, bostonDF_sample.PRICE, c = \"darkorange\")\n",
        "ax3.plot(X_test, pred_rf7, label = \"max_depth : 7\", linewidth = 2)"
      ],
      "metadata": {
        "colab": {
          "base_uri": "https://localhost:8080/",
          "height": 313
        },
        "id": "RlgkT1uovGbj",
        "outputId": "a0d2e9cc-bd68-4c3d-8109-a009f14cc48a"
      },
      "execution_count": null,
      "outputs": [
        {
          "output_type": "execute_result",
          "data": {
            "text/plain": [
              "[<matplotlib.lines.Line2D at 0x7f1045ff41d0>]"
            ]
          },
          "metadata": {},
          "execution_count": 48
        },
        {
          "output_type": "display_data",
          "data": {
            "text/plain": [
              "<Figure size 1008x288 with 3 Axes>"
            ],
            "image/png": "[encoded data removed]"
          },
          "metadata": {
            "needs_background": "light"
          }
        }
      ]
    },
    {
      "cell_type": "markdown",
      "source": [
        "- 선형 회귀는 직선으로 예측 회귀선을 가지는 반면, 회귀 트리의 경우 분할되는 데이터 지점에 따라 브랜치를 만들면서 계단 형태의 회귀선을 만든다.\n",
        "- `DecisionTreeRegressor`의 `max_depth = 7`인 경우, 학습 데이터셋의 이상치(Outlier)도 학습하면서 복잡한 계단 형태의 회귀선을 만든 것을 보아, 과적합이 되기 쉬운 모델임을 알 수 있다."
      ],
      "metadata": {
        "id": "niZEMUHJvnfo"
      }
    }
  ]
}