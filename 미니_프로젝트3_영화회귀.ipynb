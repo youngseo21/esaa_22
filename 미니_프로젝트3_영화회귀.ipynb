{
  "nbformat": 4,
  "nbformat_minor": 0,
  "metadata": {
    "colab": {
      "provenance": [],
      "mount_file_id": "1HDrOio7ABqKHAwulUNYRmBrR9CSRG9zY",
      "authorship_tag": "ABX9TyOJGTvGr6PnXiP41QyJtilE",
      "include_colab_link": true
    },
    "kernelspec": {
      "name": "python3",
      "display_name": "Python 3"
    },
    "language_info": {
      "name": "python"
    }
  },
  "cells": [
    {
      "cell_type": "markdown",
      "metadata": {
        "id": "view-in-github",
        "colab_type": "text"
      },
      "source": [
        "<a href=\"https://colab.research.google.com/github/youngseo21/esaa_22/blob/main/%EB%AF%B8%EB%8B%88_%ED%94%84%EB%A1%9C%EC%A0%9D%ED%8A%B83_%EC%98%81%ED%99%94%ED%9A%8C%EA%B7%80.ipynb\" target=\"_parent\"><img src=\"https://colab.research.google.com/assets/colab-badge.svg\" alt=\"Open In Colab\"/></a>"
      ]
    },
    {
      "cell_type": "markdown",
      "source": [
        "# [YB 미니 프로젝트3] 영화 관객수 예측\n",
        "\n",
        "- 관련 사이트 : https://dacon.io/competitions/open/235536/codeshare\n",
        "- 과제 : 미니 프로젝트(1)에 이어서, 한 학기동안 배운 회귀 모델들 중 하나 이상을 해당 데이터에 적합.\n",
        "- 조건 : 하이퍼 파라미터 튜닝 포함\n",
        "\n",
        "* 분석 파일을 1) 제출 후 리더보드에서 점수 확인 2) github에 업로드하여 점수와 깃허브 링크를 과제함에 댓글로 달아주시면 됩니다. \n",
        "\n",
        "* 제출기한 : 2022.12.30 (금) 23:59\n",
        "\n",
        "* 평가 산식 : RMSE"
      ],
      "metadata": {
        "id": "O1AlSoRckC6p"
      }
    },
    {
      "cell_type": "code",
      "execution_count": 1,
      "metadata": {
        "colab": {
          "base_uri": "https://localhost:8080/"
        },
        "id": "-KCiq_kdjweO",
        "outputId": "10377588-6fe6-4534-9a7a-aa450c1bf2e3"
      },
      "outputs": [
        {
          "output_type": "stream",
          "name": "stdout",
          "text": [
            "Reading package lists... Done\n",
            "Building dependency tree       \n",
            "Reading state information... Done\n",
            "The following package was automatically installed and is no longer required:\n",
            "  libnvidia-common-460\n",
            "Use 'sudo apt autoremove' to remove it.\n",
            "The following NEW packages will be installed:\n",
            "  fonts-nanum\n",
            "0 upgraded, 1 newly installed, 0 to remove and 20 not upgraded.\n",
            "Need to get 9,604 kB of archives.\n",
            "After this operation, 29.5 MB of additional disk space will be used.\n",
            "Get:1 http://archive.ubuntu.com/ubuntu bionic/universe amd64 fonts-nanum all 20170925-1 [9,604 kB]\n",
            "Fetched 9,604 kB in 2s (5,617 kB/s)\n",
            "debconf: unable to initialize frontend: Dialog\n",
            "debconf: (No usable dialog-like program is installed, so the dialog based frontend cannot be used. at /usr/share/perl5/Debconf/FrontEnd/Dialog.pm line 76, <> line 1.)\n",
            "debconf: falling back to frontend: Readline\n",
            "debconf: unable to initialize frontend: Readline\n",
            "debconf: (This frontend requires a controlling tty.)\n",
            "debconf: falling back to frontend: Teletype\n",
            "dpkg-preconfigure: unable to re-open stdin: \n",
            "Selecting previously unselected package fonts-nanum.\n",
            "(Reading database ... 124016 files and directories currently installed.)\n",
            "Preparing to unpack .../fonts-nanum_20170925-1_all.deb ...\n",
            "Unpacking fonts-nanum (20170925-1) ...\n",
            "Setting up fonts-nanum (20170925-1) ...\n",
            "Processing triggers for fontconfig (2.12.6-0ubuntu2) ...\n",
            "/usr/share/fonts: caching, new cache contents: 0 fonts, 1 dirs\n",
            "/usr/share/fonts/truetype: caching, new cache contents: 0 fonts, 3 dirs\n",
            "/usr/share/fonts/truetype/humor-sans: caching, new cache contents: 1 fonts, 0 dirs\n",
            "/usr/share/fonts/truetype/liberation: caching, new cache contents: 16 fonts, 0 dirs\n",
            "/usr/share/fonts/truetype/nanum: caching, new cache contents: 10 fonts, 0 dirs\n",
            "/usr/local/share/fonts: caching, new cache contents: 0 fonts, 0 dirs\n",
            "/root/.local/share/fonts: skipping, no such directory\n",
            "/root/.fonts: skipping, no such directory\n",
            "/var/cache/fontconfig: cleaning cache directory\n",
            "/root/.cache/fontconfig: not cleaning non-existent cache directory\n",
            "/root/.fontconfig: not cleaning non-existent cache directory\n",
            "fc-cache: succeeded\n"
          ]
        }
      ],
      "source": [
        "# 나눔 폰트 설치\n",
        "!sudo apt-get install -y fonts-nanum\n",
        "!sudo fc-cache -fv\n",
        "!rm ~/.cache/matplotlib -rf"
      ]
    },
    {
      "cell_type": "code",
      "source": [
        "import pandas as pd\n",
        "import numpy as np\n",
        "import seaborn as sns\n",
        "import matplotlib.pyplot as plt\n",
        "plt.rc('font', family='NanumBarunGothic') #matplotlib 한글 깨짐 방지\n",
        "\n",
        "# 출력 결과를 셀 아래 inline으로 표시\n",
        "%matplotlib inline \n",
        "\n",
        "import warnings\n",
        "warnings.filterwarnings(action='ignore')"
      ],
      "metadata": {
        "id": "roCAxG3SlLF5"
      },
      "execution_count": 3,
      "outputs": []
    },
    {
      "cell_type": "code",
      "source": [
        "from google.colab import drive\n",
        "drive.mount('/content/drive')"
      ],
      "metadata": {
        "colab": {
          "base_uri": "https://localhost:8080/"
        },
        "id": "GWuG7tZDlOVb",
        "outputId": "b2fe5f9e-9164-4fb6-b3fd-b2c02d206718"
      },
      "execution_count": 4,
      "outputs": [
        {
          "output_type": "stream",
          "name": "stdout",
          "text": [
            "Mounted at /content/drive\n"
          ]
        }
      ]
    },
    {
      "cell_type": "markdown",
      "source": [
        "## | 데이터 불러오기\n",
        "---\n",
        "+ title : 영화의 제목\n",
        "+ distributor : 배급사\n",
        "+ genre : 장르\n",
        "+ release_time : 개봉일\n",
        "+ time : 상영시간(분)\n",
        "+ screening_rat : 상영등급\n",
        "+ director : 감독이름\n",
        "+ dir_prev_bfnum : 해당 감독이 이 영화를 만들기 전 제작에 참여한 영화에서의 평균 관객수(단 관객수가 알려지지 않은 영화 제외)\n",
        "+ dir_prev_num : 해당 감독이 이 영화를 만들기 전 제작에 참여한 영화의 개수(단 관객수가 알려지지 않은 영화 제외)\n",
        "+ num_staff : 스텝수\n",
        "+ num_actor : 주연배우수\n",
        "+ box_off_num : 관객수"
      ],
      "metadata": {
        "id": "cgnCTGErlt5N"
      }
    },
    {
      "cell_type": "code",
      "source": [
        "train = pd.read_csv(\"/content/drive/MyDrive/esaa_data/movies/movies_train.csv\")\n",
        "train.head(3)"
      ],
      "metadata": {
        "colab": {
          "base_uri": "https://localhost:8080/",
          "height": 277
        },
        "id": "MTVB3Ijfls5H",
        "outputId": "e9d88873-476b-4c50-ff5c-5450da8d46d9"
      },
      "execution_count": 44,
      "outputs": [
        {
          "output_type": "execute_result",
          "data": {
            "text/plain": [
              "       title distributor genre release_time  time screening_rat director  \\\n",
              "0     개들의 전쟁    롯데엔터테인먼트    액션   2012-11-22    96      청소년 관람불가      조병옥   \n",
              "1       내부자들      (주)쇼박스   느와르   2015-11-19   130      청소년 관람불가      우민호   \n",
              "2  은밀하게 위대하게      (주)쇼박스    액션   2013-06-05   123       15세 관람가      장철수   \n",
              "\n",
              "   dir_prev_bfnum  dir_prev_num  num_staff  num_actor  box_off_num  \n",
              "0             NaN             0         91          2        23398  \n",
              "1      1161602.50             2        387          3      7072501  \n",
              "2       220775.25             4        343          4      6959083  "
            ],
            "text/html": [
              "\n",
              "  <div id=\"df-28a24f8e-6c64-4996-97c1-73b81b809b69\">\n",
              "    <div class=\"colab-df-container\">\n",
              "      <div>\n",
              "<style scoped>\n",
              "    .dataframe tbody tr th:only-of-type {\n",
              "        vertical-align: middle;\n",
              "    }\n",
              "\n",
              "    .dataframe tbody tr th {\n",
              "        vertical-align: top;\n",
              "    }\n",
              "\n",
              "    .dataframe thead th {\n",
              "        text-align: right;\n",
              "    }\n",
              "</style>\n",
              "<table border=\"1\" class=\"dataframe\">\n",
              "  <thead>\n",
              "    <tr style=\"text-align: right;\">\n",
              "      <th></th>\n",
              "      <th>title</th>\n",
              "      <th>distributor</th>\n",
              "      <th>genre</th>\n",
              "      <th>release_time</th>\n",
              "      <th>time</th>\n",
              "      <th>screening_rat</th>\n",
              "      <th>director</th>\n",
              "      <th>dir_prev_bfnum</th>\n",
              "      <th>dir_prev_num</th>\n",
              "      <th>num_staff</th>\n",
              "      <th>num_actor</th>\n",
              "      <th>box_off_num</th>\n",
              "    </tr>\n",
              "  </thead>\n",
              "  <tbody>\n",
              "    <tr>\n",
              "      <th>0</th>\n",
              "      <td>개들의 전쟁</td>\n",
              "      <td>롯데엔터테인먼트</td>\n",
              "      <td>액션</td>\n",
              "      <td>2012-11-22</td>\n",
              "      <td>96</td>\n",
              "      <td>청소년 관람불가</td>\n",
              "      <td>조병옥</td>\n",
              "      <td>NaN</td>\n",
              "      <td>0</td>\n",
              "      <td>91</td>\n",
              "      <td>2</td>\n",
              "      <td>23398</td>\n",
              "    </tr>\n",
              "    <tr>\n",
              "      <th>1</th>\n",
              "      <td>내부자들</td>\n",
              "      <td>(주)쇼박스</td>\n",
              "      <td>느와르</td>\n",
              "      <td>2015-11-19</td>\n",
              "      <td>130</td>\n",
              "      <td>청소년 관람불가</td>\n",
              "      <td>우민호</td>\n",
              "      <td>1161602.50</td>\n",
              "      <td>2</td>\n",
              "      <td>387</td>\n",
              "      <td>3</td>\n",
              "      <td>7072501</td>\n",
              "    </tr>\n",
              "    <tr>\n",
              "      <th>2</th>\n",
              "      <td>은밀하게 위대하게</td>\n",
              "      <td>(주)쇼박스</td>\n",
              "      <td>액션</td>\n",
              "      <td>2013-06-05</td>\n",
              "      <td>123</td>\n",
              "      <td>15세 관람가</td>\n",
              "      <td>장철수</td>\n",
              "      <td>220775.25</td>\n",
              "      <td>4</td>\n",
              "      <td>343</td>\n",
              "      <td>4</td>\n",
              "      <td>6959083</td>\n",
              "    </tr>\n",
              "  </tbody>\n",
              "</table>\n",
              "</div>\n",
              "      <button class=\"colab-df-convert\" onclick=\"convertToInteractive('df-28a24f8e-6c64-4996-97c1-73b81b809b69')\"\n",
              "              title=\"Convert this dataframe to an interactive table.\"\n",
              "              style=\"display:none;\">\n",
              "        \n",
              "  <svg xmlns=\"http://www.w3.org/2000/svg\" height=\"24px\"viewBox=\"0 0 24 24\"\n",
              "       width=\"24px\">\n",
              "    <path d=\"M0 0h24v24H0V0z\" fill=\"none\"/>\n",
              "    <path d=\"M18.56 5.44l.94 2.06.94-2.06 2.06-.94-2.06-.94-.94-2.06-.94 2.06-2.06.94zm-11 1L8.5 8.5l.94-2.06 2.06-.94-2.06-.94L8.5 2.5l-.94 2.06-2.06.94zm10 10l.94 2.06.94-2.06 2.06-.94-2.06-.94-.94-2.06-.94 2.06-2.06.94z\"/><path d=\"M17.41 7.96l-1.37-1.37c-.4-.4-.92-.59-1.43-.59-.52 0-1.04.2-1.43.59L10.3 9.45l-7.72 7.72c-.78.78-.78 2.05 0 2.83L4 21.41c.39.39.9.59 1.41.59.51 0 1.02-.2 1.41-.59l7.78-7.78 2.81-2.81c.8-.78.8-2.07 0-2.86zM5.41 20L4 18.59l7.72-7.72 1.47 1.35L5.41 20z\"/>\n",
              "  </svg>\n",
              "      </button>\n",
              "      \n",
              "  <style>\n",
              "    .colab-df-container {\n",
              "      display:flex;\n",
              "      flex-wrap:wrap;\n",
              "      gap: 12px;\n",
              "    }\n",
              "\n",
              "    .colab-df-convert {\n",
              "      background-color: #E8F0FE;\n",
              "      border: none;\n",
              "      border-radius: 50%;\n",
              "      cursor: pointer;\n",
              "      display: none;\n",
              "      fill: #1967D2;\n",
              "      height: 32px;\n",
              "      padding: 0 0 0 0;\n",
              "      width: 32px;\n",
              "    }\n",
              "\n",
              "    .colab-df-convert:hover {\n",
              "      background-color: #E2EBFA;\n",
              "      box-shadow: 0px 1px 2px rgba(60, 64, 67, 0.3), 0px 1px 3px 1px rgba(60, 64, 67, 0.15);\n",
              "      fill: #174EA6;\n",
              "    }\n",
              "\n",
              "    [theme=dark] .colab-df-convert {\n",
              "      background-color: #3B4455;\n",
              "      fill: #D2E3FC;\n",
              "    }\n",
              "\n",
              "    [theme=dark] .colab-df-convert:hover {\n",
              "      background-color: #434B5C;\n",
              "      box-shadow: 0px 1px 3px 1px rgba(0, 0, 0, 0.15);\n",
              "      filter: drop-shadow(0px 1px 2px rgba(0, 0, 0, 0.3));\n",
              "      fill: #FFFFFF;\n",
              "    }\n",
              "  </style>\n",
              "\n",
              "      <script>\n",
              "        const buttonEl =\n",
              "          document.querySelector('#df-28a24f8e-6c64-4996-97c1-73b81b809b69 button.colab-df-convert');\n",
              "        buttonEl.style.display =\n",
              "          google.colab.kernel.accessAllowed ? 'block' : 'none';\n",
              "\n",
              "        async function convertToInteractive(key) {\n",
              "          const element = document.querySelector('#df-28a24f8e-6c64-4996-97c1-73b81b809b69');\n",
              "          const dataTable =\n",
              "            await google.colab.kernel.invokeFunction('convertToInteractive',\n",
              "                                                     [key], {});\n",
              "          if (!dataTable) return;\n",
              "\n",
              "          const docLinkHtml = 'Like what you see? Visit the ' +\n",
              "            '<a target=\"_blank\" href=https://colab.research.google.com/notebooks/data_table.ipynb>data table notebook</a>'\n",
              "            + ' to learn more about interactive tables.';\n",
              "          element.innerHTML = '';\n",
              "          dataTable['output_type'] = 'display_data';\n",
              "          await google.colab.output.renderOutput(dataTable, element);\n",
              "          const docLink = document.createElement('div');\n",
              "          docLink.innerHTML = docLinkHtml;\n",
              "          element.appendChild(docLink);\n",
              "        }\n",
              "      </script>\n",
              "    </div>\n",
              "  </div>\n",
              "  "
            ]
          },
          "metadata": {},
          "execution_count": 44
        }
      ]
    },
    {
      "cell_type": "code",
      "source": [
        "train.info()"
      ],
      "metadata": {
        "colab": {
          "base_uri": "https://localhost:8080/"
        },
        "id": "5UjewnyCo8nA",
        "outputId": "2baf902d-ae55-4683-aeb9-32c7aaac8a54"
      },
      "execution_count": 6,
      "outputs": [
        {
          "output_type": "stream",
          "name": "stdout",
          "text": [
            "<class 'pandas.core.frame.DataFrame'>\n",
            "RangeIndex: 600 entries, 0 to 599\n",
            "Data columns (total 12 columns):\n",
            " #   Column          Non-Null Count  Dtype  \n",
            "---  ------          --------------  -----  \n",
            " 0   title           600 non-null    object \n",
            " 1   distributor     600 non-null    object \n",
            " 2   genre           600 non-null    object \n",
            " 3   release_time    600 non-null    object \n",
            " 4   time            600 non-null    int64  \n",
            " 5   screening_rat   600 non-null    object \n",
            " 6   director        600 non-null    object \n",
            " 7   dir_prev_bfnum  270 non-null    float64\n",
            " 8   dir_prev_num    600 non-null    int64  \n",
            " 9   num_staff       600 non-null    int64  \n",
            " 10  num_actor       600 non-null    int64  \n",
            " 11  box_off_num     600 non-null    int64  \n",
            "dtypes: float64(1), int64(5), object(6)\n",
            "memory usage: 56.4+ KB\n"
          ]
        }
      ]
    },
    {
      "cell_type": "markdown",
      "source": [
        "- train data `dir_prev_bfnum` 결측치 330개 "
      ],
      "metadata": {
        "id": "V8BhwJ8i5DRK"
      }
    },
    {
      "cell_type": "code",
      "source": [
        "train.describe()"
      ],
      "metadata": {
        "colab": {
          "base_uri": "https://localhost:8080/",
          "height": 300
        },
        "id": "eEmk0EE0p6Ec",
        "outputId": "9cf73cd7-b5ed-4b75-8e75-1fec63a5f854"
      },
      "execution_count": 8,
      "outputs": [
        {
          "output_type": "execute_result",
          "data": {
            "text/plain": [
              "             time  dir_prev_bfnum  dir_prev_num   num_staff   num_actor  \\\n",
              "count  600.000000    2.700000e+02    600.000000  600.000000  600.000000   \n",
              "mean   100.863333    1.050443e+06      0.876667  151.118333    3.706667   \n",
              "std     18.097528    1.791408e+06      1.183409  165.654671    2.446889   \n",
              "min     45.000000    1.000000e+00      0.000000    0.000000    0.000000   \n",
              "25%     89.000000    2.038000e+04      0.000000   17.000000    2.000000   \n",
              "50%    100.000000    4.784236e+05      0.000000   82.500000    3.000000   \n",
              "75%    114.000000    1.286569e+06      2.000000  264.000000    4.000000   \n",
              "max    180.000000    1.761531e+07      5.000000  869.000000   25.000000   \n",
              "\n",
              "        box_off_num  \n",
              "count  6.000000e+02  \n",
              "mean   7.081818e+05  \n",
              "std    1.828006e+06  \n",
              "min    1.000000e+00  \n",
              "25%    1.297250e+03  \n",
              "50%    1.259100e+04  \n",
              "75%    4.798868e+05  \n",
              "max    1.426277e+07  "
            ],
            "text/html": [
              "\n",
              "  <div id=\"df-e3380b81-4f4c-4c32-84b3-f44507b2efd5\">\n",
              "    <div class=\"colab-df-container\">\n",
              "      <div>\n",
              "<style scoped>\n",
              "    .dataframe tbody tr th:only-of-type {\n",
              "        vertical-align: middle;\n",
              "    }\n",
              "\n",
              "    .dataframe tbody tr th {\n",
              "        vertical-align: top;\n",
              "    }\n",
              "\n",
              "    .dataframe thead th {\n",
              "        text-align: right;\n",
              "    }\n",
              "</style>\n",
              "<table border=\"1\" class=\"dataframe\">\n",
              "  <thead>\n",
              "    <tr style=\"text-align: right;\">\n",
              "      <th></th>\n",
              "      <th>time</th>\n",
              "      <th>dir_prev_bfnum</th>\n",
              "      <th>dir_prev_num</th>\n",
              "      <th>num_staff</th>\n",
              "      <th>num_actor</th>\n",
              "      <th>box_off_num</th>\n",
              "    </tr>\n",
              "  </thead>\n",
              "  <tbody>\n",
              "    <tr>\n",
              "      <th>count</th>\n",
              "      <td>600.000000</td>\n",
              "      <td>2.700000e+02</td>\n",
              "      <td>600.000000</td>\n",
              "      <td>600.000000</td>\n",
              "      <td>600.000000</td>\n",
              "      <td>6.000000e+02</td>\n",
              "    </tr>\n",
              "    <tr>\n",
              "      <th>mean</th>\n",
              "      <td>100.863333</td>\n",
              "      <td>1.050443e+06</td>\n",
              "      <td>0.876667</td>\n",
              "      <td>151.118333</td>\n",
              "      <td>3.706667</td>\n",
              "      <td>7.081818e+05</td>\n",
              "    </tr>\n",
              "    <tr>\n",
              "      <th>std</th>\n",
              "      <td>18.097528</td>\n",
              "      <td>1.791408e+06</td>\n",
              "      <td>1.183409</td>\n",
              "      <td>165.654671</td>\n",
              "      <td>2.446889</td>\n",
              "      <td>1.828006e+06</td>\n",
              "    </tr>\n",
              "    <tr>\n",
              "      <th>min</th>\n",
              "      <td>45.000000</td>\n",
              "      <td>1.000000e+00</td>\n",
              "      <td>0.000000</td>\n",
              "      <td>0.000000</td>\n",
              "      <td>0.000000</td>\n",
              "      <td>1.000000e+00</td>\n",
              "    </tr>\n",
              "    <tr>\n",
              "      <th>25%</th>\n",
              "      <td>89.000000</td>\n",
              "      <td>2.038000e+04</td>\n",
              "      <td>0.000000</td>\n",
              "      <td>17.000000</td>\n",
              "      <td>2.000000</td>\n",
              "      <td>1.297250e+03</td>\n",
              "    </tr>\n",
              "    <tr>\n",
              "      <th>50%</th>\n",
              "      <td>100.000000</td>\n",
              "      <td>4.784236e+05</td>\n",
              "      <td>0.000000</td>\n",
              "      <td>82.500000</td>\n",
              "      <td>3.000000</td>\n",
              "      <td>1.259100e+04</td>\n",
              "    </tr>\n",
              "    <tr>\n",
              "      <th>75%</th>\n",
              "      <td>114.000000</td>\n",
              "      <td>1.286569e+06</td>\n",
              "      <td>2.000000</td>\n",
              "      <td>264.000000</td>\n",
              "      <td>4.000000</td>\n",
              "      <td>4.798868e+05</td>\n",
              "    </tr>\n",
              "    <tr>\n",
              "      <th>max</th>\n",
              "      <td>180.000000</td>\n",
              "      <td>1.761531e+07</td>\n",
              "      <td>5.000000</td>\n",
              "      <td>869.000000</td>\n",
              "      <td>25.000000</td>\n",
              "      <td>1.426277e+07</td>\n",
              "    </tr>\n",
              "  </tbody>\n",
              "</table>\n",
              "</div>\n",
              "      <button class=\"colab-df-convert\" onclick=\"convertToInteractive('df-e3380b81-4f4c-4c32-84b3-f44507b2efd5')\"\n",
              "              title=\"Convert this dataframe to an interactive table.\"\n",
              "              style=\"display:none;\">\n",
              "        \n",
              "  <svg xmlns=\"http://www.w3.org/2000/svg\" height=\"24px\"viewBox=\"0 0 24 24\"\n",
              "       width=\"24px\">\n",
              "    <path d=\"M0 0h24v24H0V0z\" fill=\"none\"/>\n",
              "    <path d=\"M18.56 5.44l.94 2.06.94-2.06 2.06-.94-2.06-.94-.94-2.06-.94 2.06-2.06.94zm-11 1L8.5 8.5l.94-2.06 2.06-.94-2.06-.94L8.5 2.5l-.94 2.06-2.06.94zm10 10l.94 2.06.94-2.06 2.06-.94-2.06-.94-.94-2.06-.94 2.06-2.06.94z\"/><path d=\"M17.41 7.96l-1.37-1.37c-.4-.4-.92-.59-1.43-.59-.52 0-1.04.2-1.43.59L10.3 9.45l-7.72 7.72c-.78.78-.78 2.05 0 2.83L4 21.41c.39.39.9.59 1.41.59.51 0 1.02-.2 1.41-.59l7.78-7.78 2.81-2.81c.8-.78.8-2.07 0-2.86zM5.41 20L4 18.59l7.72-7.72 1.47 1.35L5.41 20z\"/>\n",
              "  </svg>\n",
              "      </button>\n",
              "      \n",
              "  <style>\n",
              "    .colab-df-container {\n",
              "      display:flex;\n",
              "      flex-wrap:wrap;\n",
              "      gap: 12px;\n",
              "    }\n",
              "\n",
              "    .colab-df-convert {\n",
              "      background-color: #E8F0FE;\n",
              "      border: none;\n",
              "      border-radius: 50%;\n",
              "      cursor: pointer;\n",
              "      display: none;\n",
              "      fill: #1967D2;\n",
              "      height: 32px;\n",
              "      padding: 0 0 0 0;\n",
              "      width: 32px;\n",
              "    }\n",
              "\n",
              "    .colab-df-convert:hover {\n",
              "      background-color: #E2EBFA;\n",
              "      box-shadow: 0px 1px 2px rgba(60, 64, 67, 0.3), 0px 1px 3px 1px rgba(60, 64, 67, 0.15);\n",
              "      fill: #174EA6;\n",
              "    }\n",
              "\n",
              "    [theme=dark] .colab-df-convert {\n",
              "      background-color: #3B4455;\n",
              "      fill: #D2E3FC;\n",
              "    }\n",
              "\n",
              "    [theme=dark] .colab-df-convert:hover {\n",
              "      background-color: #434B5C;\n",
              "      box-shadow: 0px 1px 3px 1px rgba(0, 0, 0, 0.15);\n",
              "      filter: drop-shadow(0px 1px 2px rgba(0, 0, 0, 0.3));\n",
              "      fill: #FFFFFF;\n",
              "    }\n",
              "  </style>\n",
              "\n",
              "      <script>\n",
              "        const buttonEl =\n",
              "          document.querySelector('#df-e3380b81-4f4c-4c32-84b3-f44507b2efd5 button.colab-df-convert');\n",
              "        buttonEl.style.display =\n",
              "          google.colab.kernel.accessAllowed ? 'block' : 'none';\n",
              "\n",
              "        async function convertToInteractive(key) {\n",
              "          const element = document.querySelector('#df-e3380b81-4f4c-4c32-84b3-f44507b2efd5');\n",
              "          const dataTable =\n",
              "            await google.colab.kernel.invokeFunction('convertToInteractive',\n",
              "                                                     [key], {});\n",
              "          if (!dataTable) return;\n",
              "\n",
              "          const docLinkHtml = 'Like what you see? Visit the ' +\n",
              "            '<a target=\"_blank\" href=https://colab.research.google.com/notebooks/data_table.ipynb>data table notebook</a>'\n",
              "            + ' to learn more about interactive tables.';\n",
              "          element.innerHTML = '';\n",
              "          dataTable['output_type'] = 'display_data';\n",
              "          await google.colab.output.renderOutput(dataTable, element);\n",
              "          const docLink = document.createElement('div');\n",
              "          docLink.innerHTML = docLinkHtml;\n",
              "          element.appendChild(docLink);\n",
              "        }\n",
              "      </script>\n",
              "    </div>\n",
              "  </div>\n",
              "  "
            ]
          },
          "metadata": {},
          "execution_count": 8
        }
      ]
    },
    {
      "cell_type": "code",
      "source": [
        "test = pd.read_csv(\"/content/drive/MyDrive/esaa_data/movies/movies_test.csv\")\n",
        "test.head(3)"
      ],
      "metadata": {
        "colab": {
          "base_uri": "https://localhost:8080/",
          "height": 257
        },
        "id": "tvjTLGCAnwLL",
        "outputId": "9928edd9-c48b-445f-a5d7-711963c89823"
      },
      "execution_count": 45,
      "outputs": [
        {
          "output_type": "execute_result",
          "data": {
            "text/plain": [
              "         title distributor   genre release_time  time screening_rat director  \\\n",
              "0       용서는 없다      시네마서비스     느와르   2010-01-07   125      청소년 관람불가      김형준   \n",
              "1  아빠가 여자를 좋아해      (주)쇼박스  멜로/로맨스   2010-01-14   113       12세 관람가      이광재   \n",
              "2          하모니   CJ 엔터테인먼트     드라마   2010-01-28   115       12세 관람가      강대규   \n",
              "\n",
              "   dir_prev_bfnum  dir_prev_num  num_staff  num_actor  \n",
              "0    3.005290e+05             2        304          3  \n",
              "1    3.427002e+05             4        275          3  \n",
              "2    4.206611e+06             3        419          7  "
            ],
            "text/html": [
              "\n",
              "  <div id=\"df-89b77e23-2022-409b-a4f3-5b28923a9718\">\n",
              "    <div class=\"colab-df-container\">\n",
              "      <div>\n",
              "<style scoped>\n",
              "    .dataframe tbody tr th:only-of-type {\n",
              "        vertical-align: middle;\n",
              "    }\n",
              "\n",
              "    .dataframe tbody tr th {\n",
              "        vertical-align: top;\n",
              "    }\n",
              "\n",
              "    .dataframe thead th {\n",
              "        text-align: right;\n",
              "    }\n",
              "</style>\n",
              "<table border=\"1\" class=\"dataframe\">\n",
              "  <thead>\n",
              "    <tr style=\"text-align: right;\">\n",
              "      <th></th>\n",
              "      <th>title</th>\n",
              "      <th>distributor</th>\n",
              "      <th>genre</th>\n",
              "      <th>release_time</th>\n",
              "      <th>time</th>\n",
              "      <th>screening_rat</th>\n",
              "      <th>director</th>\n",
              "      <th>dir_prev_bfnum</th>\n",
              "      <th>dir_prev_num</th>\n",
              "      <th>num_staff</th>\n",
              "      <th>num_actor</th>\n",
              "    </tr>\n",
              "  </thead>\n",
              "  <tbody>\n",
              "    <tr>\n",
              "      <th>0</th>\n",
              "      <td>용서는 없다</td>\n",
              "      <td>시네마서비스</td>\n",
              "      <td>느와르</td>\n",
              "      <td>2010-01-07</td>\n",
              "      <td>125</td>\n",
              "      <td>청소년 관람불가</td>\n",
              "      <td>김형준</td>\n",
              "      <td>3.005290e+05</td>\n",
              "      <td>2</td>\n",
              "      <td>304</td>\n",
              "      <td>3</td>\n",
              "    </tr>\n",
              "    <tr>\n",
              "      <th>1</th>\n",
              "      <td>아빠가 여자를 좋아해</td>\n",
              "      <td>(주)쇼박스</td>\n",
              "      <td>멜로/로맨스</td>\n",
              "      <td>2010-01-14</td>\n",
              "      <td>113</td>\n",
              "      <td>12세 관람가</td>\n",
              "      <td>이광재</td>\n",
              "      <td>3.427002e+05</td>\n",
              "      <td>4</td>\n",
              "      <td>275</td>\n",
              "      <td>3</td>\n",
              "    </tr>\n",
              "    <tr>\n",
              "      <th>2</th>\n",
              "      <td>하모니</td>\n",
              "      <td>CJ 엔터테인먼트</td>\n",
              "      <td>드라마</td>\n",
              "      <td>2010-01-28</td>\n",
              "      <td>115</td>\n",
              "      <td>12세 관람가</td>\n",
              "      <td>강대규</td>\n",
              "      <td>4.206611e+06</td>\n",
              "      <td>3</td>\n",
              "      <td>419</td>\n",
              "      <td>7</td>\n",
              "    </tr>\n",
              "  </tbody>\n",
              "</table>\n",
              "</div>\n",
              "      <button class=\"colab-df-convert\" onclick=\"convertToInteractive('df-89b77e23-2022-409b-a4f3-5b28923a9718')\"\n",
              "              title=\"Convert this dataframe to an interactive table.\"\n",
              "              style=\"display:none;\">\n",
              "        \n",
              "  <svg xmlns=\"http://www.w3.org/2000/svg\" height=\"24px\"viewBox=\"0 0 24 24\"\n",
              "       width=\"24px\">\n",
              "    <path d=\"M0 0h24v24H0V0z\" fill=\"none\"/>\n",
              "    <path d=\"M18.56 5.44l.94 2.06.94-2.06 2.06-.94-2.06-.94-.94-2.06-.94 2.06-2.06.94zm-11 1L8.5 8.5l.94-2.06 2.06-.94-2.06-.94L8.5 2.5l-.94 2.06-2.06.94zm10 10l.94 2.06.94-2.06 2.06-.94-2.06-.94-.94-2.06-.94 2.06-2.06.94z\"/><path d=\"M17.41 7.96l-1.37-1.37c-.4-.4-.92-.59-1.43-.59-.52 0-1.04.2-1.43.59L10.3 9.45l-7.72 7.72c-.78.78-.78 2.05 0 2.83L4 21.41c.39.39.9.59 1.41.59.51 0 1.02-.2 1.41-.59l7.78-7.78 2.81-2.81c.8-.78.8-2.07 0-2.86zM5.41 20L4 18.59l7.72-7.72 1.47 1.35L5.41 20z\"/>\n",
              "  </svg>\n",
              "      </button>\n",
              "      \n",
              "  <style>\n",
              "    .colab-df-container {\n",
              "      display:flex;\n",
              "      flex-wrap:wrap;\n",
              "      gap: 12px;\n",
              "    }\n",
              "\n",
              "    .colab-df-convert {\n",
              "      background-color: #E8F0FE;\n",
              "      border: none;\n",
              "      border-radius: 50%;\n",
              "      cursor: pointer;\n",
              "      display: none;\n",
              "      fill: #1967D2;\n",
              "      height: 32px;\n",
              "      padding: 0 0 0 0;\n",
              "      width: 32px;\n",
              "    }\n",
              "\n",
              "    .colab-df-convert:hover {\n",
              "      background-color: #E2EBFA;\n",
              "      box-shadow: 0px 1px 2px rgba(60, 64, 67, 0.3), 0px 1px 3px 1px rgba(60, 64, 67, 0.15);\n",
              "      fill: #174EA6;\n",
              "    }\n",
              "\n",
              "    [theme=dark] .colab-df-convert {\n",
              "      background-color: #3B4455;\n",
              "      fill: #D2E3FC;\n",
              "    }\n",
              "\n",
              "    [theme=dark] .colab-df-convert:hover {\n",
              "      background-color: #434B5C;\n",
              "      box-shadow: 0px 1px 3px 1px rgba(0, 0, 0, 0.15);\n",
              "      filter: drop-shadow(0px 1px 2px rgba(0, 0, 0, 0.3));\n",
              "      fill: #FFFFFF;\n",
              "    }\n",
              "  </style>\n",
              "\n",
              "      <script>\n",
              "        const buttonEl =\n",
              "          document.querySelector('#df-89b77e23-2022-409b-a4f3-5b28923a9718 button.colab-df-convert');\n",
              "        buttonEl.style.display =\n",
              "          google.colab.kernel.accessAllowed ? 'block' : 'none';\n",
              "\n",
              "        async function convertToInteractive(key) {\n",
              "          const element = document.querySelector('#df-89b77e23-2022-409b-a4f3-5b28923a9718');\n",
              "          const dataTable =\n",
              "            await google.colab.kernel.invokeFunction('convertToInteractive',\n",
              "                                                     [key], {});\n",
              "          if (!dataTable) return;\n",
              "\n",
              "          const docLinkHtml = 'Like what you see? Visit the ' +\n",
              "            '<a target=\"_blank\" href=https://colab.research.google.com/notebooks/data_table.ipynb>data table notebook</a>'\n",
              "            + ' to learn more about interactive tables.';\n",
              "          element.innerHTML = '';\n",
              "          dataTable['output_type'] = 'display_data';\n",
              "          await google.colab.output.renderOutput(dataTable, element);\n",
              "          const docLink = document.createElement('div');\n",
              "          docLink.innerHTML = docLinkHtml;\n",
              "          element.appendChild(docLink);\n",
              "        }\n",
              "      </script>\n",
              "    </div>\n",
              "  </div>\n",
              "  "
            ]
          },
          "metadata": {},
          "execution_count": 45
        }
      ]
    },
    {
      "cell_type": "code",
      "source": [
        "test.info()"
      ],
      "metadata": {
        "colab": {
          "base_uri": "https://localhost:8080/"
        },
        "id": "5ee9KbKEo_c0",
        "outputId": "338c957e-da4f-46c1-8981-7701b0c5063c"
      },
      "execution_count": 7,
      "outputs": [
        {
          "output_type": "stream",
          "name": "stdout",
          "text": [
            "<class 'pandas.core.frame.DataFrame'>\n",
            "RangeIndex: 243 entries, 0 to 242\n",
            "Data columns (total 11 columns):\n",
            " #   Column          Non-Null Count  Dtype  \n",
            "---  ------          --------------  -----  \n",
            " 0   title           243 non-null    object \n",
            " 1   distributor     243 non-null    object \n",
            " 2   genre           243 non-null    object \n",
            " 3   release_time    243 non-null    object \n",
            " 4   time            243 non-null    int64  \n",
            " 5   screening_rat   243 non-null    object \n",
            " 6   director        243 non-null    object \n",
            " 7   dir_prev_bfnum  107 non-null    float64\n",
            " 8   dir_prev_num    243 non-null    int64  \n",
            " 9   num_staff       243 non-null    int64  \n",
            " 10  num_actor       243 non-null    int64  \n",
            "dtypes: float64(1), int64(4), object(6)\n",
            "memory usage: 21.0+ KB\n"
          ]
        }
      ]
    },
    {
      "cell_type": "markdown",
      "source": [
        "- train data `dir_prev_bfnum` 결측치 136개"
      ],
      "metadata": {
        "id": "A8hSO8lc5RcB"
      }
    },
    {
      "cell_type": "markdown",
      "source": [
        "- `train`: 600개 데이터\n",
        "- `test`: 243개 데이터"
      ],
      "metadata": {
        "id": "oCUFvKMT87j1"
      }
    },
    {
      "cell_type": "markdown",
      "source": [
        "## | 결측치 확인 및 데이터 전처리\n",
        "---\n",
        "1. `title` drop\n",
        "2. `distributor`, `genre`, `screening_rat`, `director` 범주형 변수 살펴보기 → 라벨 인코딩/원핫 인코딩 둘중 \n",
        "  + `director`의 경우 범주가 너무 많아서 drop 고려\n",
        "3. `release_time` datetime으로 바꾸고 날짜(365일)보다는 분기(계절), 휴일/평일이 관객 수와 더 연관있어 보임 → 계절, 휴일 여부에 관련한 새로운 칼럼 생성\n",
        "4. train과 test 모두 `dir_prev_bfnum` 변수에 결측값 → 결측치 처리 방법 고민\n",
        "5. `time`, `dir_prev_bfnum`,\t`dir_prev_num`,\t`num_staff`,\t`num_actor`  숫자형 변수 → scaling\n"
      ],
      "metadata": {
        "id": "ZLAhXXggs79u"
      }
    },
    {
      "cell_type": "code",
      "source": [
        "# train, test 데이터 합치기\n",
        "train['from'] = 'train'\n",
        "test['from'] = 'test'\n",
        "total = train.append(test)\n",
        "total.head(3)"
      ],
      "metadata": {
        "colab": {
          "base_uri": "https://localhost:8080/",
          "height": 277
        },
        "id": "OY4I5VID7hdT",
        "outputId": "e7cf4bb5-ea4c-4577-b06d-1cb39f2dcb80"
      },
      "execution_count": 46,
      "outputs": [
        {
          "output_type": "execute_result",
          "data": {
            "text/plain": [
              "       title distributor genre release_time  time screening_rat director  \\\n",
              "0     개들의 전쟁    롯데엔터테인먼트    액션   2012-11-22    96      청소년 관람불가      조병옥   \n",
              "1       내부자들      (주)쇼박스   느와르   2015-11-19   130      청소년 관람불가      우민호   \n",
              "2  은밀하게 위대하게      (주)쇼박스    액션   2013-06-05   123       15세 관람가      장철수   \n",
              "\n",
              "   dir_prev_bfnum  dir_prev_num  num_staff  num_actor  box_off_num   from  \n",
              "0             NaN             0         91          2      23398.0  train  \n",
              "1      1161602.50             2        387          3    7072501.0  train  \n",
              "2       220775.25             4        343          4    6959083.0  train  "
            ],
            "text/html": [
              "\n",
              "  <div id=\"df-2016d942-e944-487d-8b95-104ced289ef2\">\n",
              "    <div class=\"colab-df-container\">\n",
              "      <div>\n",
              "<style scoped>\n",
              "    .dataframe tbody tr th:only-of-type {\n",
              "        vertical-align: middle;\n",
              "    }\n",
              "\n",
              "    .dataframe tbody tr th {\n",
              "        vertical-align: top;\n",
              "    }\n",
              "\n",
              "    .dataframe thead th {\n",
              "        text-align: right;\n",
              "    }\n",
              "</style>\n",
              "<table border=\"1\" class=\"dataframe\">\n",
              "  <thead>\n",
              "    <tr style=\"text-align: right;\">\n",
              "      <th></th>\n",
              "      <th>title</th>\n",
              "      <th>distributor</th>\n",
              "      <th>genre</th>\n",
              "      <th>release_time</th>\n",
              "      <th>time</th>\n",
              "      <th>screening_rat</th>\n",
              "      <th>director</th>\n",
              "      <th>dir_prev_bfnum</th>\n",
              "      <th>dir_prev_num</th>\n",
              "      <th>num_staff</th>\n",
              "      <th>num_actor</th>\n",
              "      <th>box_off_num</th>\n",
              "      <th>from</th>\n",
              "    </tr>\n",
              "  </thead>\n",
              "  <tbody>\n",
              "    <tr>\n",
              "      <th>0</th>\n",
              "      <td>개들의 전쟁</td>\n",
              "      <td>롯데엔터테인먼트</td>\n",
              "      <td>액션</td>\n",
              "      <td>2012-11-22</td>\n",
              "      <td>96</td>\n",
              "      <td>청소년 관람불가</td>\n",
              "      <td>조병옥</td>\n",
              "      <td>NaN</td>\n",
              "      <td>0</td>\n",
              "      <td>91</td>\n",
              "      <td>2</td>\n",
              "      <td>23398.0</td>\n",
              "      <td>train</td>\n",
              "    </tr>\n",
              "    <tr>\n",
              "      <th>1</th>\n",
              "      <td>내부자들</td>\n",
              "      <td>(주)쇼박스</td>\n",
              "      <td>느와르</td>\n",
              "      <td>2015-11-19</td>\n",
              "      <td>130</td>\n",
              "      <td>청소년 관람불가</td>\n",
              "      <td>우민호</td>\n",
              "      <td>1161602.50</td>\n",
              "      <td>2</td>\n",
              "      <td>387</td>\n",
              "      <td>3</td>\n",
              "      <td>7072501.0</td>\n",
              "      <td>train</td>\n",
              "    </tr>\n",
              "    <tr>\n",
              "      <th>2</th>\n",
              "      <td>은밀하게 위대하게</td>\n",
              "      <td>(주)쇼박스</td>\n",
              "      <td>액션</td>\n",
              "      <td>2013-06-05</td>\n",
              "      <td>123</td>\n",
              "      <td>15세 관람가</td>\n",
              "      <td>장철수</td>\n",
              "      <td>220775.25</td>\n",
              "      <td>4</td>\n",
              "      <td>343</td>\n",
              "      <td>4</td>\n",
              "      <td>6959083.0</td>\n",
              "      <td>train</td>\n",
              "    </tr>\n",
              "  </tbody>\n",
              "</table>\n",
              "</div>\n",
              "      <button class=\"colab-df-convert\" onclick=\"convertToInteractive('df-2016d942-e944-487d-8b95-104ced289ef2')\"\n",
              "              title=\"Convert this dataframe to an interactive table.\"\n",
              "              style=\"display:none;\">\n",
              "        \n",
              "  <svg xmlns=\"http://www.w3.org/2000/svg\" height=\"24px\"viewBox=\"0 0 24 24\"\n",
              "       width=\"24px\">\n",
              "    <path d=\"M0 0h24v24H0V0z\" fill=\"none\"/>\n",
              "    <path d=\"M18.56 5.44l.94 2.06.94-2.06 2.06-.94-2.06-.94-.94-2.06-.94 2.06-2.06.94zm-11 1L8.5 8.5l.94-2.06 2.06-.94-2.06-.94L8.5 2.5l-.94 2.06-2.06.94zm10 10l.94 2.06.94-2.06 2.06-.94-2.06-.94-.94-2.06-.94 2.06-2.06.94z\"/><path d=\"M17.41 7.96l-1.37-1.37c-.4-.4-.92-.59-1.43-.59-.52 0-1.04.2-1.43.59L10.3 9.45l-7.72 7.72c-.78.78-.78 2.05 0 2.83L4 21.41c.39.39.9.59 1.41.59.51 0 1.02-.2 1.41-.59l7.78-7.78 2.81-2.81c.8-.78.8-2.07 0-2.86zM5.41 20L4 18.59l7.72-7.72 1.47 1.35L5.41 20z\"/>\n",
              "  </svg>\n",
              "      </button>\n",
              "      \n",
              "  <style>\n",
              "    .colab-df-container {\n",
              "      display:flex;\n",
              "      flex-wrap:wrap;\n",
              "      gap: 12px;\n",
              "    }\n",
              "\n",
              "    .colab-df-convert {\n",
              "      background-color: #E8F0FE;\n",
              "      border: none;\n",
              "      border-radius: 50%;\n",
              "      cursor: pointer;\n",
              "      display: none;\n",
              "      fill: #1967D2;\n",
              "      height: 32px;\n",
              "      padding: 0 0 0 0;\n",
              "      width: 32px;\n",
              "    }\n",
              "\n",
              "    .colab-df-convert:hover {\n",
              "      background-color: #E2EBFA;\n",
              "      box-shadow: 0px 1px 2px rgba(60, 64, 67, 0.3), 0px 1px 3px 1px rgba(60, 64, 67, 0.15);\n",
              "      fill: #174EA6;\n",
              "    }\n",
              "\n",
              "    [theme=dark] .colab-df-convert {\n",
              "      background-color: #3B4455;\n",
              "      fill: #D2E3FC;\n",
              "    }\n",
              "\n",
              "    [theme=dark] .colab-df-convert:hover {\n",
              "      background-color: #434B5C;\n",
              "      box-shadow: 0px 1px 3px 1px rgba(0, 0, 0, 0.15);\n",
              "      filter: drop-shadow(0px 1px 2px rgba(0, 0, 0, 0.3));\n",
              "      fill: #FFFFFF;\n",
              "    }\n",
              "  </style>\n",
              "\n",
              "      <script>\n",
              "        const buttonEl =\n",
              "          document.querySelector('#df-2016d942-e944-487d-8b95-104ced289ef2 button.colab-df-convert');\n",
              "        buttonEl.style.display =\n",
              "          google.colab.kernel.accessAllowed ? 'block' : 'none';\n",
              "\n",
              "        async function convertToInteractive(key) {\n",
              "          const element = document.querySelector('#df-2016d942-e944-487d-8b95-104ced289ef2');\n",
              "          const dataTable =\n",
              "            await google.colab.kernel.invokeFunction('convertToInteractive',\n",
              "                                                     [key], {});\n",
              "          if (!dataTable) return;\n",
              "\n",
              "          const docLinkHtml = 'Like what you see? Visit the ' +\n",
              "            '<a target=\"_blank\" href=https://colab.research.google.com/notebooks/data_table.ipynb>data table notebook</a>'\n",
              "            + ' to learn more about interactive tables.';\n",
              "          element.innerHTML = '';\n",
              "          dataTable['output_type'] = 'display_data';\n",
              "          await google.colab.output.renderOutput(dataTable, element);\n",
              "          const docLink = document.createElement('div');\n",
              "          docLink.innerHTML = docLinkHtml;\n",
              "          element.appendChild(docLink);\n",
              "        }\n",
              "      </script>\n",
              "    </div>\n",
              "  </div>\n",
              "  "
            ]
          },
          "metadata": {},
          "execution_count": 46
        }
      ]
    },
    {
      "cell_type": "markdown",
      "source": [
        "### 1. `title` drop"
      ],
      "metadata": {
        "id": "X2AQxxTP15D9"
      }
    },
    {
      "cell_type": "code",
      "source": [
        "#total.drop('title', axis=1, inplace=True)\n",
        "#total.head(3)"
      ],
      "metadata": {
        "colab": {
          "base_uri": "https://localhost:8080/",
          "height": 143
        },
        "id": "z6lIq-HIs7hb",
        "outputId": "f6b6f1b9-0035-447d-8a84-f1f5092e3338"
      },
      "execution_count": 32,
      "outputs": [
        {
          "output_type": "execute_result",
          "data": {
            "text/plain": [
              "  distributor   genre release_time  time screening_rat director  \\\n",
              "0      시네마서비스     느와르   2010-01-07   125      청소년 관람불가      김형준   \n",
              "1      (주)쇼박스  멜로/로맨스   2010-01-14   113       12세 관람가      이광재   \n",
              "2   CJ 엔터테인먼트     드라마   2010-01-28   115       12세 관람가      강대규   \n",
              "\n",
              "   dir_prev_bfnum  dir_prev_num  num_staff  num_actor  \n",
              "0    3.005290e+05             2        304          3  \n",
              "1    3.427002e+05             4        275          3  \n",
              "2    4.206611e+06             3        419          7  "
            ],
            "text/html": [
              "\n",
              "  <div id=\"df-83040bda-5707-4ed7-853b-7166cb4394bc\">\n",
              "    <div class=\"colab-df-container\">\n",
              "      <div>\n",
              "<style scoped>\n",
              "    .dataframe tbody tr th:only-of-type {\n",
              "        vertical-align: middle;\n",
              "    }\n",
              "\n",
              "    .dataframe tbody tr th {\n",
              "        vertical-align: top;\n",
              "    }\n",
              "\n",
              "    .dataframe thead th {\n",
              "        text-align: right;\n",
              "    }\n",
              "</style>\n",
              "<table border=\"1\" class=\"dataframe\">\n",
              "  <thead>\n",
              "    <tr style=\"text-align: right;\">\n",
              "      <th></th>\n",
              "      <th>distributor</th>\n",
              "      <th>genre</th>\n",
              "      <th>release_time</th>\n",
              "      <th>time</th>\n",
              "      <th>screening_rat</th>\n",
              "      <th>director</th>\n",
              "      <th>dir_prev_bfnum</th>\n",
              "      <th>dir_prev_num</th>\n",
              "      <th>num_staff</th>\n",
              "      <th>num_actor</th>\n",
              "    </tr>\n",
              "  </thead>\n",
              "  <tbody>\n",
              "    <tr>\n",
              "      <th>0</th>\n",
              "      <td>시네마서비스</td>\n",
              "      <td>느와르</td>\n",
              "      <td>2010-01-07</td>\n",
              "      <td>125</td>\n",
              "      <td>청소년 관람불가</td>\n",
              "      <td>김형준</td>\n",
              "      <td>3.005290e+05</td>\n",
              "      <td>2</td>\n",
              "      <td>304</td>\n",
              "      <td>3</td>\n",
              "    </tr>\n",
              "    <tr>\n",
              "      <th>1</th>\n",
              "      <td>(주)쇼박스</td>\n",
              "      <td>멜로/로맨스</td>\n",
              "      <td>2010-01-14</td>\n",
              "      <td>113</td>\n",
              "      <td>12세 관람가</td>\n",
              "      <td>이광재</td>\n",
              "      <td>3.427002e+05</td>\n",
              "      <td>4</td>\n",
              "      <td>275</td>\n",
              "      <td>3</td>\n",
              "    </tr>\n",
              "    <tr>\n",
              "      <th>2</th>\n",
              "      <td>CJ 엔터테인먼트</td>\n",
              "      <td>드라마</td>\n",
              "      <td>2010-01-28</td>\n",
              "      <td>115</td>\n",
              "      <td>12세 관람가</td>\n",
              "      <td>강대규</td>\n",
              "      <td>4.206611e+06</td>\n",
              "      <td>3</td>\n",
              "      <td>419</td>\n",
              "      <td>7</td>\n",
              "    </tr>\n",
              "  </tbody>\n",
              "</table>\n",
              "</div>\n",
              "      <button class=\"colab-df-convert\" onclick=\"convertToInteractive('df-83040bda-5707-4ed7-853b-7166cb4394bc')\"\n",
              "              title=\"Convert this dataframe to an interactive table.\"\n",
              "              style=\"display:none;\">\n",
              "        \n",
              "  <svg xmlns=\"http://www.w3.org/2000/svg\" height=\"24px\"viewBox=\"0 0 24 24\"\n",
              "       width=\"24px\">\n",
              "    <path d=\"M0 0h24v24H0V0z\" fill=\"none\"/>\n",
              "    <path d=\"M18.56 5.44l.94 2.06.94-2.06 2.06-.94-2.06-.94-.94-2.06-.94 2.06-2.06.94zm-11 1L8.5 8.5l.94-2.06 2.06-.94-2.06-.94L8.5 2.5l-.94 2.06-2.06.94zm10 10l.94 2.06.94-2.06 2.06-.94-2.06-.94-.94-2.06-.94 2.06-2.06.94z\"/><path d=\"M17.41 7.96l-1.37-1.37c-.4-.4-.92-.59-1.43-.59-.52 0-1.04.2-1.43.59L10.3 9.45l-7.72 7.72c-.78.78-.78 2.05 0 2.83L4 21.41c.39.39.9.59 1.41.59.51 0 1.02-.2 1.41-.59l7.78-7.78 2.81-2.81c.8-.78.8-2.07 0-2.86zM5.41 20L4 18.59l7.72-7.72 1.47 1.35L5.41 20z\"/>\n",
              "  </svg>\n",
              "      </button>\n",
              "      \n",
              "  <style>\n",
              "    .colab-df-container {\n",
              "      display:flex;\n",
              "      flex-wrap:wrap;\n",
              "      gap: 12px;\n",
              "    }\n",
              "\n",
              "    .colab-df-convert {\n",
              "      background-color: #E8F0FE;\n",
              "      border: none;\n",
              "      border-radius: 50%;\n",
              "      cursor: pointer;\n",
              "      display: none;\n",
              "      fill: #1967D2;\n",
              "      height: 32px;\n",
              "      padding: 0 0 0 0;\n",
              "      width: 32px;\n",
              "    }\n",
              "\n",
              "    .colab-df-convert:hover {\n",
              "      background-color: #E2EBFA;\n",
              "      box-shadow: 0px 1px 2px rgba(60, 64, 67, 0.3), 0px 1px 3px 1px rgba(60, 64, 67, 0.15);\n",
              "      fill: #174EA6;\n",
              "    }\n",
              "\n",
              "    [theme=dark] .colab-df-convert {\n",
              "      background-color: #3B4455;\n",
              "      fill: #D2E3FC;\n",
              "    }\n",
              "\n",
              "    [theme=dark] .colab-df-convert:hover {\n",
              "      background-color: #434B5C;\n",
              "      box-shadow: 0px 1px 3px 1px rgba(0, 0, 0, 0.15);\n",
              "      filter: drop-shadow(0px 1px 2px rgba(0, 0, 0, 0.3));\n",
              "      fill: #FFFFFF;\n",
              "    }\n",
              "  </style>\n",
              "\n",
              "      <script>\n",
              "        const buttonEl =\n",
              "          document.querySelector('#df-83040bda-5707-4ed7-853b-7166cb4394bc button.colab-df-convert');\n",
              "        buttonEl.style.display =\n",
              "          google.colab.kernel.accessAllowed ? 'block' : 'none';\n",
              "\n",
              "        async function convertToInteractive(key) {\n",
              "          const element = document.querySelector('#df-83040bda-5707-4ed7-853b-7166cb4394bc');\n",
              "          const dataTable =\n",
              "            await google.colab.kernel.invokeFunction('convertToInteractive',\n",
              "                                                     [key], {});\n",
              "          if (!dataTable) return;\n",
              "\n",
              "          const docLinkHtml = 'Like what you see? Visit the ' +\n",
              "            '<a target=\"_blank\" href=https://colab.research.google.com/notebooks/data_table.ipynb>data table notebook</a>'\n",
              "            + ' to learn more about interactive tables.';\n",
              "          element.innerHTML = '';\n",
              "          dataTable['output_type'] = 'display_data';\n",
              "          await google.colab.output.renderOutput(dataTable, element);\n",
              "          const docLink = document.createElement('div');\n",
              "          docLink.innerHTML = docLinkHtml;\n",
              "          element.appendChild(docLink);\n",
              "        }\n",
              "      </script>\n",
              "    </div>\n",
              "  </div>\n",
              "  "
            ]
          },
          "metadata": {},
          "execution_count": 32
        }
      ]
    },
    {
      "cell_type": "markdown",
      "source": [
        "### 2. `distributor`, `genre`, `screening_rat`, `director` 범주형 변수 살펴보기 → 라벨 인코딩/원핫 인코딩 둘중 \n",
        "- `distributor`: 배급사"
      ],
      "metadata": {
        "id": "i5GvHUsC3MsP"
      }
    },
    {
      "cell_type": "code",
      "source": [
        "total['distributor'].value_counts().sort_values(ascending=False)[total['distributor'].value_counts().sort_values(ascending=False)>=10]"
      ],
      "metadata": {
        "colab": {
          "base_uri": "https://localhost:8080/"
        },
        "id": "SZO-ZwLCs4M8",
        "outputId": "47632a6c-828b-4610-8510-f300bd969f65"
      },
      "execution_count": 83,
      "outputs": [
        {
          "output_type": "execute_result",
          "data": {
            "text/plain": [
              "CJ            102\n",
              "롯데             77\n",
              "마운틴픽쳐스         49\n",
              "NEW            48\n",
              "쇼박스            42\n",
              "인디스토리          37\n",
              "골든타이드픽처스       27\n",
              "시네마달           25\n",
              "(주) 케이알씨지      19\n",
              "KT             17\n",
              "(주)키노아이        15\n",
              "어뮤즈            13\n",
              "영화사 진진         12\n",
              "인디플러그          12\n",
              "인벤트 디          12\n",
              "리틀빅픽쳐스         12\n",
              "(주) 영화사조제      12\n",
              "시너지            11\n",
              "(주)팝엔터테인먼트     10\n",
              "Name: distributor, dtype: int64"
            ]
          },
          "metadata": {},
          "execution_count": 83
        }
      ]
    },
    {
      "cell_type": "code",
      "source": [
        "total['distributor'].unique()"
      ],
      "metadata": {
        "colab": {
          "base_uri": "https://localhost:8080/"
        },
        "id": "QPZzrCaBolp5",
        "outputId": "3c0e6cb1-8051-4260-c889-d3836023d1e2"
      },
      "execution_count": 56,
      "outputs": [
        {
          "output_type": "execute_result",
          "data": {
            "text/plain": [
              "array(['롯데엔터테인먼트', '(주)쇼박스', '(주)NEW', '쇼박스(주)미디어플렉스', '백두대간',\n",
              "       '유니버설픽쳐스인터내셔널코리아', '(주)두타연', '(주) 케이알씨지', '(주)콘텐츠 윙', '(주)키노아이',\n",
              "       '(주)팝 파트너스', 'CJ E&M 영화부문', '(주) 영화제작전원사', 'CJ E&M Pictures',\n",
              "       'CGV 무비꼴라쥬', '리틀빅픽처스', '스폰지', 'CJ 엔터테인먼트', 'CGV아트하우스', '조이앤시네마',\n",
              "       '인디플러그', '콘텐츠판다', '인디스토리', '(주)팝엔터테인먼트', '시네마서비스', '웃기씨네',\n",
              "       '영화사 진진', '(주)레인보우 팩토리', '김기덕 필름', 'NEW', 'CJ CGV',\n",
              "       '동국대학교 충무로영상제작센터', 'BoXoo 엔터테인먼트', '(주)마운틴픽쳐스', 'CGV 아트하우스',\n",
              "       '메가박스(주)플러스엠', '골든타이드픽처스', '파이오니아21', '디 씨드', '드림팩트 엔터테인먼트', '시너지',\n",
              "       '디마엔터테인먼트', '판다미디어', '(주)스톰픽쳐스코리아', '(주)예지림 엔터테인먼트', '(주) 영화사조제',\n",
              "       '보람엔터테인먼트', '(주)시네마달', '노바엔터테인먼트', '(주)패스파인더씨앤씨', '(주)대명문화공장',\n",
              "       '(주)온비즈넷', 'KT&G 상상마당', '무비꼴라쥬', '인벤트 디', '씨네그루(주)키다리이엔티',\n",
              "       '스튜디오후크', '시네마 달', '나이너스엔터테인먼트(주)', 'THE 픽쳐스', '영구아트무비', '리틀빅픽쳐스',\n",
              "       '어뮤즈', '이모션 픽처스', '(주)이스트스카이필름', '필라멘트 픽쳐스', '조이앤컨텐츠그룹', '타임스토리그룹',\n",
              "       '마운틴 픽처스', '(주)휘엔터테인먼트', '이십세기폭스코리아(주)', '(주)피터팬픽쳐스', '에스와이코마드',\n",
              "       '(주)더픽쳐스', '오퍼스픽쳐스', '(주)고앤고 필름', '사람과 사람들', '(주)JK필름',\n",
              "       '씨너스엔터테인먼트(주)', 'KT', '싸이더스FNH', '(주)프레인글로벌', '나우콘텐츠', '홀리가든',\n",
              "       '(주) 브릿지웍스', '(주)엣나인필름', '위더스필름', '시네마달', '(주)에이원 엔터테인먼트',\n",
              "       'OAL(올)', '싸이더스', '전망좋은영화사', '스토리셋', '이상우필름', '씨네굿필름', '영희야놀자',\n",
              "       '찬란', '어썸 피플', '아방가르드 필름', '스크린조이', '와이드릴리즈(주)', 'tvN',\n",
              "       '(주) 액티버스엔터테인먼트', '더픽쳐스/(주)마운틴픽쳐스', '제나두 엔터테인먼트', '(주)아이필름코퍼레이션',\n",
              "       '쟈비스미디어', '트리필름', '에스피엠', '(주)리틀빅픽처스', '건시네마', '키노엔터테인먼트',\n",
              "       '(주)아우라픽처스', '에이블엔터테인먼트', '드림로드', '인피니티엔터테인먼트', '새인컴퍼니',\n",
              "       '스튜디오 느림보', '와이드 릴리즈(주)', '필름라인', 'M2픽처스', '고구마공작소', '(주)미디어데이',\n",
              "       '마노엔터테인먼트', '화앤담이엔티', '(주)스마일이엔티', '(주)패뷸러스', '싸이더스 FNH', '영화사 조아',\n",
              "       '판씨네마(주)', '두 엔터테인먼트', '(주)마인스 엔터테인먼트', '전주국제영화제', '(주)마인스엔터테인먼트',\n",
              "       '상구네 필름', '케이엠스타', '(주)유비네트워크', '한국YWCA연합회', 'KBS미디어(주)', '더 피플',\n",
              "       '위드시네마', '팜코리아미디어', '(주)씨엠닉스', 'SBS콘텐츠허브', '인터콘미디어', '(주)유비콘텐츠',\n",
              "       '프로젝트 엠피', '하준사', '(주)노버스엔터테인먼트', '주머니필름', '롤러코스터 프로덕션', 'SK플래닛',\n",
              "       '서울독립영화제', '스튜디오 블루', '(주)랠리버튼', '(주)드림팩트엔터테인먼트', '에이원 엔터테인먼트',\n",
              "       '머스트 씨 무비', 'SK텔레콤(주)', '마법사필름', '스폰지이엔티', '(주)로드하우스', '미라클 필름',\n",
              "       '프리비젼 엔터테인먼트', '영화사 廊', '크리에이티브컴즈(주)', 'ysfilm', '이달투', '퍼스트런',\n",
              "       '모쿠슈라', '(주)루믹스미디어', '마운틴픽쳐스', '롯데쇼핑(주)롯데엔터테인먼트', '노근리 프로덕션',\n",
              "       '리얼라이즈픽쳐스', '청년필름', '리아코어콘텐츠', '핑크로봇 필름', 'Cinema SAM', '갑종필름',\n",
              "       '필마픽쳐스', '오픈유컬쳐', '(주)드림웨스트픽쳐스', '미로비젼', '명필름', '프리비젼', '굿픽처스',\n",
              "       '레몬트리', '타임스토리', '(주)영화사 빅', '유나이티드 픽처스', '(유)영화사 화수분', '늘푸른시네마',\n",
              "       '(주)디씨드', '(주)루스이소니도스', '애니메이션 배급', '와우픽쳐스', '메가박스중앙(주)플러스엠',\n",
              "       '미디어로그', '비에이치제이 시네마', '(주)다세포클럽', '디씨드', '(주)컨텐츠온미디어',\n",
              "       '(주)씨타마운틴픽쳐스'], dtype=object)"
            ]
          },
          "metadata": {},
          "execution_count": 56
        }
      ]
    },
    {
      "cell_type": "markdown",
      "source": [
        "- 똑같은 배급사가 다르게 표기된 경우가 있음 ex. '(주)' 앞/뒤 혹은 없음 중복, 띄어쓰기 등\n",
        "- 겹치는 배급사가 많은 것 위주로 찾아보자\n",
        "  - 'CJ 엔터테인먼트' 'CJ E&M Pictures' 'CJ E&M 영화부문' 'CJ CGV' 'CGV 아트하우스' 'CGV아트하우스' 'CGV 무비꼴라쥬' → `'CJ'`\n",
        "  - '마운틴 픽처스' '더픽쳐스/(주)마운틴픽쳐스' '(주)마운틴픽쳐스' '마운틴픽쳐스' '(주)씨타마운틴픽쳐스' → `'마운틴픽쳐스'`\n",
        "  - '(주)쇼박스' '쇼박스(주)미디어플렉스' → `'쇼박스'`\n",
        "  - '(주)NEW' 'NEW' → `'NEW'`\n",
        "  - 'KT&G 상상마당' 'KT' → `'KT'`\n",
        "  - '롯데엔터테인먼트' '롯데쇼핑(주)롯데엔터테인먼트' → `'롯데'`\n",
        "  - '싸이더스FNH' '싸이더스' '싸이더스 FNH' → `'싸이더스'`\n",
        "  - '(주)리틀빅픽처스' '리틀빅픽처스' '리틀빅픽쳐스' → `'리틀빅픽처스'`\n",
        "  - '(주)마인스엔터테인먼트' '(주)마인스 엔터테인먼트' → `'마인스엔터테인먼트'`\n",
        "  - 'SK플래닛' 'SK텔레콤(주)' → `'SK'`\n",
        "  - '(주)시네마달' '시네마 달' '시네마달' → `시네마달'`\n",
        "  - 'THE 픽쳐스' '(주)더픽쳐스' → `'더픽쳐스'`\n",
        "  - '메가박스중앙(주)플러스엠' '메가박스(주)플러스엠' → `'메가박스'`\n",
        "  - '(주)디씨드' '디씨드' '디 씨드' → `'디씨드'`"
      ],
      "metadata": {
        "id": "OUYaTO-Yo8tA"
      }
    },
    {
      "cell_type": "code",
      "source": [
        "total['distributor'] = total['distributor'].replace(['CJ 엔터테인먼트', 'CJ E&M Pictures', 'CJ E&M 영화부문', 'CJ CGV', 'CGV 아트하우스', 'CGV아트하우스', 'CGV 무비꼴라쥬'], ['CJ']*7)\n",
        "total['distributor'] = total['distributor'].replace(['마운틴 픽처스', '더픽쳐스/(주)마운틴픽쳐스', '(주)마운틴픽쳐스', '마운틴픽쳐스', '(주)씨타마운틴픽쳐스'], ['마운틴픽쳐스']*5)\n",
        "total['distributor'] = total['distributor'].replace(['(주)쇼박스', '쇼박스(주)미디어플렉스' ], ['쇼박스']*2)\n",
        "total['distributor'] = total['distributor'].replace(['(주)NEW', 'NEW' ], ['NEW']*2)\n",
        "total['distributor'] = total['distributor'].replace(['KT&G 상상마당', 'KT' ], ['KT']*2)\n",
        "total['distributor'] = total['distributor'].replace(['롯데엔터테인먼트', '롯데쇼핑(주)롯데엔터테인먼트' ], ['롯데']*2)\n",
        "total['distributor'] = total['distributor'].replace(['싸이더스FNH', '싸이더스', '싸이더스 FNH'], ['싸이더스']*3)\n",
        "total['distributor'] = total['distributor'].replace(['(주)리틀빅픽처스', '리틀빅픽처스', '리틀빅픽쳐스' ], ['리틀빅픽쳐스']*3)\n",
        "total['distributor'] = total['distributor'].replace(['(주)마인스엔터테인먼트', '(주)마인스 엔터테인먼트' ], ['마인스엔터테인먼트']*2)\n",
        "total['distributor'] = total['distributor'].replace(['SK플래닛', 'SK텔레콤(주)' ], ['SK']*2)\n",
        "total['distributor'] = total['distributor'].replace(['(주)시네마달', '시네마 달', '시네마달' ], ['시네마달']*3)\n",
        "total['distributor'] = total['distributor'].replace(['THE 픽쳐스', '(주)더픽쳐스' ], ['더픽쳐스']*2)\n",
        "total['distributor'] = total['distributor'].replace(['메가박스중앙(주)플러스엠', '메가박스(주)플러스엠' ], ['메가박스']*2)\n",
        "total['distributor'] = total['distributor'].replace(['(주)디씨드', '디씨드', '디 씨드' ], ['디씨드']*3)"
      ],
      "metadata": {
        "id": "UhociBHG7rXf"
      },
      "execution_count": 72,
      "outputs": []
    },
    {
      "cell_type": "code",
      "source": [
        "# 1개 이상 영화 배급사\n",
        "total['distributor'].value_counts().sort_values(ascending=False)[total['distributor'].value_counts().sort_values()>1]"
      ],
      "metadata": {
        "colab": {
          "base_uri": "https://localhost:8080/"
        },
        "id": "Y1wzNqkF4qGB",
        "outputId": "2664f066-1042-4893-d85c-1f60e042ad44"
      },
      "execution_count": 84,
      "outputs": [
        {
          "output_type": "execute_result",
          "data": {
            "text/plain": [
              "CJ            102\n",
              "롯데             77\n",
              "마운틴픽쳐스         49\n",
              "NEW            48\n",
              "쇼박스            42\n",
              "             ... \n",
              "서울독립영화제         2\n",
              "(주)프레인글로벌       2\n",
              "SK              2\n",
              "씨네굿필름           2\n",
              "에이원 엔터테인먼트      2\n",
              "Name: distributor, Length: 71, dtype: int64"
            ]
          },
          "metadata": {},
          "execution_count": 84
        }
      ]
    },
    {
      "cell_type": "markdown",
      "source": [
        "- `genre`: 장르 → 전처리 할거 없음, 굳이 한다면 서스펜스랑 미스터리 합치는거? "
      ],
      "metadata": {
        "id": "8LmKwo_g_wqd"
      }
    },
    {
      "cell_type": "code",
      "source": [
        "total['genre'].value_counts().sort_values(ascending=False)"
      ],
      "metadata": {
        "colab": {
          "base_uri": "https://localhost:8080/"
        },
        "id": "v-Kxp6FNCD5e",
        "outputId": "114a354b-01f6-4beb-a2c4-cc69929a568f"
      },
      "execution_count": 85,
      "outputs": [
        {
          "output_type": "execute_result",
          "data": {
            "text/plain": [
              "드라마       299\n",
              "다큐멘터리     126\n",
              "멜로/로맨스    117\n",
              "코미디        76\n",
              "공포         61\n",
              "액션         49\n",
              "느와르        39\n",
              "애니메이션      29\n",
              "미스터리       24\n",
              "SF         14\n",
              "뮤지컬         6\n",
              "서스펜스        3\n",
              "Name: genre, dtype: int64"
            ]
          },
          "metadata": {},
          "execution_count": 85
        }
      ]
    },
    {
      "cell_type": "code",
      "source": [
        "total[total['genre']=='서스펜스']"
      ],
      "metadata": {
        "colab": {
          "base_uri": "https://localhost:8080/",
          "height": 259
        },
        "id": "TXTWrPWgFqZb",
        "outputId": "761a5c5b-0eb9-490e-f242-0237c8191c33"
      },
      "execution_count": 92,
      "outputs": [
        {
          "output_type": "execute_result",
          "data": {
            "text/plain": [
              "    title distributor genre release_time  time screening_rat director  \\\n",
              "13      짓   (주)팝 파트너스  서스펜스   2013-09-25   107      청소년 관람불가      한종훈   \n",
              "269    가시       인벤트 디  서스펜스   2014-04-10   117      청소년 관람불가      김태균   \n",
              "52     링크     (주)키노아이  서스펜스   2011-07-28   105      청소년 관람불가     우디 한   \n",
              "\n",
              "     dir_prev_bfnum  dir_prev_num  num_staff  num_actor  box_off_num   from  \n",
              "13         534232.5             2         15          4      23052.0  train  \n",
              "269             NaN             0        207          2     142170.0  train  \n",
              "52              NaN             0         96          5          NaN   test  "
            ],
            "text/html": [
              "\n",
              "  <div id=\"df-4159c702-eb09-4d55-983c-e17a59cf96e6\">\n",
              "    <div class=\"colab-df-container\">\n",
              "      <div>\n",
              "<style scoped>\n",
              "    .dataframe tbody tr th:only-of-type {\n",
              "        vertical-align: middle;\n",
              "    }\n",
              "\n",
              "    .dataframe tbody tr th {\n",
              "        vertical-align: top;\n",
              "    }\n",
              "\n",
              "    .dataframe thead th {\n",
              "        text-align: right;\n",
              "    }\n",
              "</style>\n",
              "<table border=\"1\" class=\"dataframe\">\n",
              "  <thead>\n",
              "    <tr style=\"text-align: right;\">\n",
              "      <th></th>\n",
              "      <th>title</th>\n",
              "      <th>distributor</th>\n",
              "      <th>genre</th>\n",
              "      <th>release_time</th>\n",
              "      <th>time</th>\n",
              "      <th>screening_rat</th>\n",
              "      <th>director</th>\n",
              "      <th>dir_prev_bfnum</th>\n",
              "      <th>dir_prev_num</th>\n",
              "      <th>num_staff</th>\n",
              "      <th>num_actor</th>\n",
              "      <th>box_off_num</th>\n",
              "      <th>from</th>\n",
              "    </tr>\n",
              "  </thead>\n",
              "  <tbody>\n",
              "    <tr>\n",
              "      <th>13</th>\n",
              "      <td>짓</td>\n",
              "      <td>(주)팝 파트너스</td>\n",
              "      <td>서스펜스</td>\n",
              "      <td>2013-09-25</td>\n",
              "      <td>107</td>\n",
              "      <td>청소년 관람불가</td>\n",
              "      <td>한종훈</td>\n",
              "      <td>534232.5</td>\n",
              "      <td>2</td>\n",
              "      <td>15</td>\n",
              "      <td>4</td>\n",
              "      <td>23052.0</td>\n",
              "      <td>train</td>\n",
              "    </tr>\n",
              "    <tr>\n",
              "      <th>269</th>\n",
              "      <td>가시</td>\n",
              "      <td>인벤트 디</td>\n",
              "      <td>서스펜스</td>\n",
              "      <td>2014-04-10</td>\n",
              "      <td>117</td>\n",
              "      <td>청소년 관람불가</td>\n",
              "      <td>김태균</td>\n",
              "      <td>NaN</td>\n",
              "      <td>0</td>\n",
              "      <td>207</td>\n",
              "      <td>2</td>\n",
              "      <td>142170.0</td>\n",
              "      <td>train</td>\n",
              "    </tr>\n",
              "    <tr>\n",
              "      <th>52</th>\n",
              "      <td>링크</td>\n",
              "      <td>(주)키노아이</td>\n",
              "      <td>서스펜스</td>\n",
              "      <td>2011-07-28</td>\n",
              "      <td>105</td>\n",
              "      <td>청소년 관람불가</td>\n",
              "      <td>우디 한</td>\n",
              "      <td>NaN</td>\n",
              "      <td>0</td>\n",
              "      <td>96</td>\n",
              "      <td>5</td>\n",
              "      <td>NaN</td>\n",
              "      <td>test</td>\n",
              "    </tr>\n",
              "  </tbody>\n",
              "</table>\n",
              "</div>\n",
              "      <button class=\"colab-df-convert\" onclick=\"convertToInteractive('df-4159c702-eb09-4d55-983c-e17a59cf96e6')\"\n",
              "              title=\"Convert this dataframe to an interactive table.\"\n",
              "              style=\"display:none;\">\n",
              "        \n",
              "  <svg xmlns=\"http://www.w3.org/2000/svg\" height=\"24px\"viewBox=\"0 0 24 24\"\n",
              "       width=\"24px\">\n",
              "    <path d=\"M0 0h24v24H0V0z\" fill=\"none\"/>\n",
              "    <path d=\"M18.56 5.44l.94 2.06.94-2.06 2.06-.94-2.06-.94-.94-2.06-.94 2.06-2.06.94zm-11 1L8.5 8.5l.94-2.06 2.06-.94-2.06-.94L8.5 2.5l-.94 2.06-2.06.94zm10 10l.94 2.06.94-2.06 2.06-.94-2.06-.94-.94-2.06-.94 2.06-2.06.94z\"/><path d=\"M17.41 7.96l-1.37-1.37c-.4-.4-.92-.59-1.43-.59-.52 0-1.04.2-1.43.59L10.3 9.45l-7.72 7.72c-.78.78-.78 2.05 0 2.83L4 21.41c.39.39.9.59 1.41.59.51 0 1.02-.2 1.41-.59l7.78-7.78 2.81-2.81c.8-.78.8-2.07 0-2.86zM5.41 20L4 18.59l7.72-7.72 1.47 1.35L5.41 20z\"/>\n",
              "  </svg>\n",
              "      </button>\n",
              "      \n",
              "  <style>\n",
              "    .colab-df-container {\n",
              "      display:flex;\n",
              "      flex-wrap:wrap;\n",
              "      gap: 12px;\n",
              "    }\n",
              "\n",
              "    .colab-df-convert {\n",
              "      background-color: #E8F0FE;\n",
              "      border: none;\n",
              "      border-radius: 50%;\n",
              "      cursor: pointer;\n",
              "      display: none;\n",
              "      fill: #1967D2;\n",
              "      height: 32px;\n",
              "      padding: 0 0 0 0;\n",
              "      width: 32px;\n",
              "    }\n",
              "\n",
              "    .colab-df-convert:hover {\n",
              "      background-color: #E2EBFA;\n",
              "      box-shadow: 0px 1px 2px rgba(60, 64, 67, 0.3), 0px 1px 3px 1px rgba(60, 64, 67, 0.15);\n",
              "      fill: #174EA6;\n",
              "    }\n",
              "\n",
              "    [theme=dark] .colab-df-convert {\n",
              "      background-color: #3B4455;\n",
              "      fill: #D2E3FC;\n",
              "    }\n",
              "\n",
              "    [theme=dark] .colab-df-convert:hover {\n",
              "      background-color: #434B5C;\n",
              "      box-shadow: 0px 1px 3px 1px rgba(0, 0, 0, 0.15);\n",
              "      filter: drop-shadow(0px 1px 2px rgba(0, 0, 0, 0.3));\n",
              "      fill: #FFFFFF;\n",
              "    }\n",
              "  </style>\n",
              "\n",
              "      <script>\n",
              "        const buttonEl =\n",
              "          document.querySelector('#df-4159c702-eb09-4d55-983c-e17a59cf96e6 button.colab-df-convert');\n",
              "        buttonEl.style.display =\n",
              "          google.colab.kernel.accessAllowed ? 'block' : 'none';\n",
              "\n",
              "        async function convertToInteractive(key) {\n",
              "          const element = document.querySelector('#df-4159c702-eb09-4d55-983c-e17a59cf96e6');\n",
              "          const dataTable =\n",
              "            await google.colab.kernel.invokeFunction('convertToInteractive',\n",
              "                                                     [key], {});\n",
              "          if (!dataTable) return;\n",
              "\n",
              "          const docLinkHtml = 'Like what you see? Visit the ' +\n",
              "            '<a target=\"_blank\" href=https://colab.research.google.com/notebooks/data_table.ipynb>data table notebook</a>'\n",
              "            + ' to learn more about interactive tables.';\n",
              "          element.innerHTML = '';\n",
              "          dataTable['output_type'] = 'display_data';\n",
              "          await google.colab.output.renderOutput(dataTable, element);\n",
              "          const docLink = document.createElement('div');\n",
              "          docLink.innerHTML = docLinkHtml;\n",
              "          element.appendChild(docLink);\n",
              "        }\n",
              "      </script>\n",
              "    </div>\n",
              "  </div>\n",
              "  "
            ]
          },
          "metadata": {},
          "execution_count": 92
        }
      ]
    },
    {
      "cell_type": "markdown",
      "source": [
        "- `screening_rat`: 상영등급 → 전처리 할거 없음"
      ],
      "metadata": {
        "id": "g90y7wT0_4gp"
      }
    },
    {
      "cell_type": "code",
      "source": [
        "total['screening_rat'].value_counts().sort_values(ascending=False)"
      ],
      "metadata": {
        "colab": {
          "base_uri": "https://localhost:8080/"
        },
        "id": "xducLBkcGToy",
        "outputId": "786c3abe-575c-47bb-d4c0-bc32152b1359"
      },
      "execution_count": 93,
      "outputs": [
        {
          "output_type": "execute_result",
          "data": {
            "text/plain": [
              "청소년 관람불가    297\n",
              "15세 관람가     275\n",
              "12세 관람가     142\n",
              "전체 관람가      129\n",
              "Name: screening_rat, dtype: int64"
            ]
          },
          "metadata": {},
          "execution_count": 93
        }
      ]
    },
    {
      "cell_type": "markdown",
      "source": [
        "- `director`: 감독이름 → 범주가 너무 많아 drop 고려\n",
        "  - 총 843개 데이터 중 458개는 감독 unique\n",
        "  - 한 감독 당 3개 이상 영화는 총 169개 데이터"
      ],
      "metadata": {
        "id": "B6HBUNb5AASD"
      }
    },
    {
      "cell_type": "code",
      "source": [
        "total['director'].value_counts().sort_values(ascending=False)[total['director'].value_counts().sort_values()==1]"
      ],
      "metadata": {
        "colab": {
          "base_uri": "https://localhost:8080/"
        },
        "id": "Mqwj6QDfGcqr",
        "outputId": "ed1ab15d-4439-4585-8fbe-10062042de1f"
      },
      "execution_count": 97,
      "outputs": [
        {
          "output_type": "execute_result",
          "data": {
            "text/plain": [
              "배광수    1\n",
              "임상윤    1\n",
              "박진표    1\n",
              "권혁만    1\n",
              "심형래    1\n",
              "      ..\n",
              "조용선    1\n",
              "양지은    1\n",
              "김지곤    1\n",
              "이제락    1\n",
              "송동윤    1\n",
              "Name: director, Length: 458, dtype: int64"
            ]
          },
          "metadata": {},
          "execution_count": 97
        }
      ]
    },
    {
      "cell_type": "code",
      "source": [
        "total['director'].value_counts().sort_values(ascending=False)[total['director'].value_counts().sort_values()>2].sum()"
      ],
      "metadata": {
        "colab": {
          "base_uri": "https://localhost:8080/"
        },
        "id": "aM9e_YiAGs--",
        "outputId": "32a6fc69-3ef7-4ef4-bfdf-964148aa5815"
      },
      "execution_count": 101,
      "outputs": [
        {
          "output_type": "execute_result",
          "data": {
            "text/plain": [
              "169"
            ]
          },
          "metadata": {},
          "execution_count": 101
        }
      ]
    },
    {
      "cell_type": "code",
      "source": [
        "total['director'].value_counts().sort_values(ascending=False)[total['director'].value_counts().sort_values()>3]"
      ],
      "metadata": {
        "colab": {
          "base_uri": "https://localhost:8080/"
        },
        "id": "ffpz4351HH12",
        "outputId": "e08b55a8-9961-410a-f3cd-5130bad09a0e"
      },
      "execution_count": 104,
      "outputs": [
        {
          "output_type": "execute_result",
          "data": {
            "text/plain": [
              "홍상수    8\n",
              "전규환    6\n",
              "조성규    6\n",
              "우민호    4\n",
              "오멸     4\n",
              "민규동    4\n",
              "장진     4\n",
              "윤여창    4\n",
              "이준익    4\n",
              "노진수    4\n",
              "곽경택    4\n",
              "신연식    4\n",
              "이상우    4\n",
              "장률     4\n",
              "김성훈    4\n",
              "신재호    4\n",
              "김봉은    4\n",
              "Name: director, dtype: int64"
            ]
          },
          "metadata": {},
          "execution_count": 104
        }
      ]
    },
    {
      "cell_type": "markdown",
      "source": [
        "### 3. `release_time`: 개봉날짜\n",
        "datetime형으로 바꾸고 날짜(365일)보다는 분기(계절), 휴일/평일이 관객 수와 더 연관있어 보임 → 계절, 휴일 여부에 관련한 새로운 칼럼 생성\n",
        "- datetime에서 month 추출\n",
        "- 한국 기준 공휴일, 주말/평일 추출\n"
      ],
      "metadata": {
        "id": "eWHqOOcgHuKQ"
      }
    },
    {
      "cell_type": "code",
      "source": [
        "# datetime형으로 바꾸기\n",
        "from datetime import datetime\n",
        "\n",
        "total['release_time'] = pd.to_datetime(total['release_time']) \n",
        "total.info()"
      ],
      "metadata": {
        "colab": {
          "base_uri": "https://localhost:8080/"
        },
        "id": "A9AD-xG3H3zi",
        "outputId": "6bf4f1cc-2ebb-40a1-b02a-a53f94edce39"
      },
      "execution_count": 106,
      "outputs": [
        {
          "output_type": "stream",
          "name": "stdout",
          "text": [
            "<class 'pandas.core.frame.DataFrame'>\n",
            "Int64Index: 843 entries, 0 to 242\n",
            "Data columns (total 13 columns):\n",
            " #   Column          Non-Null Count  Dtype         \n",
            "---  ------          --------------  -----         \n",
            " 0   title           843 non-null    object        \n",
            " 1   distributor     843 non-null    object        \n",
            " 2   genre           843 non-null    object        \n",
            " 3   release_time    843 non-null    datetime64[ns]\n",
            " 4   time            843 non-null    int64         \n",
            " 5   screening_rat   843 non-null    object        \n",
            " 6   director        843 non-null    object        \n",
            " 7   dir_prev_bfnum  377 non-null    float64       \n",
            " 8   dir_prev_num    843 non-null    int64         \n",
            " 9   num_staff       843 non-null    int64         \n",
            " 10  num_actor       843 non-null    int64         \n",
            " 11  box_off_num     600 non-null    float64       \n",
            " 12  from            843 non-null    object        \n",
            "dtypes: datetime64[ns](1), float64(2), int64(4), object(6)\n",
            "memory usage: 124.5+ KB\n"
          ]
        }
      ]
    },
    {
      "cell_type": "code",
      "source": [
        "total.head()"
      ],
      "metadata": {
        "colab": {
          "base_uri": "https://localhost:8080/",
          "height": 392
        },
        "id": "PwBT880TKTec",
        "outputId": "ce196db5-f8bb-4f27-88fd-beffcaa24c55"
      },
      "execution_count": 107,
      "outputs": [
        {
          "output_type": "execute_result",
          "data": {
            "text/plain": [
              "       title distributor genre release_time  time screening_rat director  \\\n",
              "0     개들의 전쟁          롯데    액션   2012-11-22    96      청소년 관람불가      조병옥   \n",
              "1       내부자들         쇼박스   느와르   2015-11-19   130      청소년 관람불가      우민호   \n",
              "2  은밀하게 위대하게         쇼박스    액션   2013-06-05   123       15세 관람가      장철수   \n",
              "3   나는 공무원이다         NEW   코미디   2012-07-12   101        전체 관람가      구자홍   \n",
              "4       불량남녀         쇼박스   코미디   2010-11-04   108       15세 관람가      신근호   \n",
              "\n",
              "   dir_prev_bfnum  dir_prev_num  num_staff  num_actor  box_off_num   from  \n",
              "0             NaN             0         91          2      23398.0  train  \n",
              "1      1161602.50             2        387          3    7072501.0  train  \n",
              "2       220775.25             4        343          4    6959083.0  train  \n",
              "3        23894.00             2         20          6     217866.0  train  \n",
              "4            1.00             1        251          2     483387.0  train  "
            ],
            "text/html": [
              "\n",
              "  <div id=\"df-8981bbeb-fe72-416e-ba8b-51bd7db97698\">\n",
              "    <div class=\"colab-df-container\">\n",
              "      <div>\n",
              "<style scoped>\n",
              "    .dataframe tbody tr th:only-of-type {\n",
              "        vertical-align: middle;\n",
              "    }\n",
              "\n",
              "    .dataframe tbody tr th {\n",
              "        vertical-align: top;\n",
              "    }\n",
              "\n",
              "    .dataframe thead th {\n",
              "        text-align: right;\n",
              "    }\n",
              "</style>\n",
              "<table border=\"1\" class=\"dataframe\">\n",
              "  <thead>\n",
              "    <tr style=\"text-align: right;\">\n",
              "      <th></th>\n",
              "      <th>title</th>\n",
              "      <th>distributor</th>\n",
              "      <th>genre</th>\n",
              "      <th>release_time</th>\n",
              "      <th>time</th>\n",
              "      <th>screening_rat</th>\n",
              "      <th>director</th>\n",
              "      <th>dir_prev_bfnum</th>\n",
              "      <th>dir_prev_num</th>\n",
              "      <th>num_staff</th>\n",
              "      <th>num_actor</th>\n",
              "      <th>box_off_num</th>\n",
              "      <th>from</th>\n",
              "    </tr>\n",
              "  </thead>\n",
              "  <tbody>\n",
              "    <tr>\n",
              "      <th>0</th>\n",
              "      <td>개들의 전쟁</td>\n",
              "      <td>롯데</td>\n",
              "      <td>액션</td>\n",
              "      <td>2012-11-22</td>\n",
              "      <td>96</td>\n",
              "      <td>청소년 관람불가</td>\n",
              "      <td>조병옥</td>\n",
              "      <td>NaN</td>\n",
              "      <td>0</td>\n",
              "      <td>91</td>\n",
              "      <td>2</td>\n",
              "      <td>23398.0</td>\n",
              "      <td>train</td>\n",
              "    </tr>\n",
              "    <tr>\n",
              "      <th>1</th>\n",
              "      <td>내부자들</td>\n",
              "      <td>쇼박스</td>\n",
              "      <td>느와르</td>\n",
              "      <td>2015-11-19</td>\n",
              "      <td>130</td>\n",
              "      <td>청소년 관람불가</td>\n",
              "      <td>우민호</td>\n",
              "      <td>1161602.50</td>\n",
              "      <td>2</td>\n",
              "      <td>387</td>\n",
              "      <td>3</td>\n",
              "      <td>7072501.0</td>\n",
              "      <td>train</td>\n",
              "    </tr>\n",
              "    <tr>\n",
              "      <th>2</th>\n",
              "      <td>은밀하게 위대하게</td>\n",
              "      <td>쇼박스</td>\n",
              "      <td>액션</td>\n",
              "      <td>2013-06-05</td>\n",
              "      <td>123</td>\n",
              "      <td>15세 관람가</td>\n",
              "      <td>장철수</td>\n",
              "      <td>220775.25</td>\n",
              "      <td>4</td>\n",
              "      <td>343</td>\n",
              "      <td>4</td>\n",
              "      <td>6959083.0</td>\n",
              "      <td>train</td>\n",
              "    </tr>\n",
              "    <tr>\n",
              "      <th>3</th>\n",
              "      <td>나는 공무원이다</td>\n",
              "      <td>NEW</td>\n",
              "      <td>코미디</td>\n",
              "      <td>2012-07-12</td>\n",
              "      <td>101</td>\n",
              "      <td>전체 관람가</td>\n",
              "      <td>구자홍</td>\n",
              "      <td>23894.00</td>\n",
              "      <td>2</td>\n",
              "      <td>20</td>\n",
              "      <td>6</td>\n",
              "      <td>217866.0</td>\n",
              "      <td>train</td>\n",
              "    </tr>\n",
              "    <tr>\n",
              "      <th>4</th>\n",
              "      <td>불량남녀</td>\n",
              "      <td>쇼박스</td>\n",
              "      <td>코미디</td>\n",
              "      <td>2010-11-04</td>\n",
              "      <td>108</td>\n",
              "      <td>15세 관람가</td>\n",
              "      <td>신근호</td>\n",
              "      <td>1.00</td>\n",
              "      <td>1</td>\n",
              "      <td>251</td>\n",
              "      <td>2</td>\n",
              "      <td>483387.0</td>\n",
              "      <td>train</td>\n",
              "    </tr>\n",
              "  </tbody>\n",
              "</table>\n",
              "</div>\n",
              "      <button class=\"colab-df-convert\" onclick=\"convertToInteractive('df-8981bbeb-fe72-416e-ba8b-51bd7db97698')\"\n",
              "              title=\"Convert this dataframe to an interactive table.\"\n",
              "              style=\"display:none;\">\n",
              "        \n",
              "  <svg xmlns=\"http://www.w3.org/2000/svg\" height=\"24px\"viewBox=\"0 0 24 24\"\n",
              "       width=\"24px\">\n",
              "    <path d=\"M0 0h24v24H0V0z\" fill=\"none\"/>\n",
              "    <path d=\"M18.56 5.44l.94 2.06.94-2.06 2.06-.94-2.06-.94-.94-2.06-.94 2.06-2.06.94zm-11 1L8.5 8.5l.94-2.06 2.06-.94-2.06-.94L8.5 2.5l-.94 2.06-2.06.94zm10 10l.94 2.06.94-2.06 2.06-.94-2.06-.94-.94-2.06-.94 2.06-2.06.94z\"/><path d=\"M17.41 7.96l-1.37-1.37c-.4-.4-.92-.59-1.43-.59-.52 0-1.04.2-1.43.59L10.3 9.45l-7.72 7.72c-.78.78-.78 2.05 0 2.83L4 21.41c.39.39.9.59 1.41.59.51 0 1.02-.2 1.41-.59l7.78-7.78 2.81-2.81c.8-.78.8-2.07 0-2.86zM5.41 20L4 18.59l7.72-7.72 1.47 1.35L5.41 20z\"/>\n",
              "  </svg>\n",
              "      </button>\n",
              "      \n",
              "  <style>\n",
              "    .colab-df-container {\n",
              "      display:flex;\n",
              "      flex-wrap:wrap;\n",
              "      gap: 12px;\n",
              "    }\n",
              "\n",
              "    .colab-df-convert {\n",
              "      background-color: #E8F0FE;\n",
              "      border: none;\n",
              "      border-radius: 50%;\n",
              "      cursor: pointer;\n",
              "      display: none;\n",
              "      fill: #1967D2;\n",
              "      height: 32px;\n",
              "      padding: 0 0 0 0;\n",
              "      width: 32px;\n",
              "    }\n",
              "\n",
              "    .colab-df-convert:hover {\n",
              "      background-color: #E2EBFA;\n",
              "      box-shadow: 0px 1px 2px rgba(60, 64, 67, 0.3), 0px 1px 3px 1px rgba(60, 64, 67, 0.15);\n",
              "      fill: #174EA6;\n",
              "    }\n",
              "\n",
              "    [theme=dark] .colab-df-convert {\n",
              "      background-color: #3B4455;\n",
              "      fill: #D2E3FC;\n",
              "    }\n",
              "\n",
              "    [theme=dark] .colab-df-convert:hover {\n",
              "      background-color: #434B5C;\n",
              "      box-shadow: 0px 1px 3px 1px rgba(0, 0, 0, 0.15);\n",
              "      filter: drop-shadow(0px 1px 2px rgba(0, 0, 0, 0.3));\n",
              "      fill: #FFFFFF;\n",
              "    }\n",
              "  </style>\n",
              "\n",
              "      <script>\n",
              "        const buttonEl =\n",
              "          document.querySelector('#df-8981bbeb-fe72-416e-ba8b-51bd7db97698 button.colab-df-convert');\n",
              "        buttonEl.style.display =\n",
              "          google.colab.kernel.accessAllowed ? 'block' : 'none';\n",
              "\n",
              "        async function convertToInteractive(key) {\n",
              "          const element = document.querySelector('#df-8981bbeb-fe72-416e-ba8b-51bd7db97698');\n",
              "          const dataTable =\n",
              "            await google.colab.kernel.invokeFunction('convertToInteractive',\n",
              "                                                     [key], {});\n",
              "          if (!dataTable) return;\n",
              "\n",
              "          const docLinkHtml = 'Like what you see? Visit the ' +\n",
              "            '<a target=\"_blank\" href=https://colab.research.google.com/notebooks/data_table.ipynb>data table notebook</a>'\n",
              "            + ' to learn more about interactive tables.';\n",
              "          element.innerHTML = '';\n",
              "          dataTable['output_type'] = 'display_data';\n",
              "          await google.colab.output.renderOutput(dataTable, element);\n",
              "          const docLink = document.createElement('div');\n",
              "          docLink.innerHTML = docLinkHtml;\n",
              "          element.appendChild(docLink);\n",
              "        }\n",
              "      </script>\n",
              "    </div>\n",
              "  </div>\n",
              "  "
            ]
          },
          "metadata": {},
          "execution_count": 107
        }
      ]
    },
    {
      "cell_type": "code",
      "source": [
        "# year, month 추출해서 새로운 컬럼으로 \n",
        "total[\"year\"] = total[\"release_time\"].dt.year\n",
        "total[\"month\"] = total[\"release_time\"].dt.month\n",
        "total.head()"
      ],
      "metadata": {
        "colab": {
          "base_uri": "https://localhost:8080/",
          "height": 392
        },
        "id": "NNl7IpPSKnMO",
        "outputId": "1235751c-e445-4bb9-bc7a-6e7df5ee4b40"
      },
      "execution_count": 108,
      "outputs": [
        {
          "output_type": "execute_result",
          "data": {
            "text/plain": [
              "       title distributor genre release_time  time screening_rat director  \\\n",
              "0     개들의 전쟁          롯데    액션   2012-11-22    96      청소년 관람불가      조병옥   \n",
              "1       내부자들         쇼박스   느와르   2015-11-19   130      청소년 관람불가      우민호   \n",
              "2  은밀하게 위대하게         쇼박스    액션   2013-06-05   123       15세 관람가      장철수   \n",
              "3   나는 공무원이다         NEW   코미디   2012-07-12   101        전체 관람가      구자홍   \n",
              "4       불량남녀         쇼박스   코미디   2010-11-04   108       15세 관람가      신근호   \n",
              "\n",
              "   dir_prev_bfnum  dir_prev_num  num_staff  num_actor  box_off_num   from  \\\n",
              "0             NaN             0         91          2      23398.0  train   \n",
              "1      1161602.50             2        387          3    7072501.0  train   \n",
              "2       220775.25             4        343          4    6959083.0  train   \n",
              "3        23894.00             2         20          6     217866.0  train   \n",
              "4            1.00             1        251          2     483387.0  train   \n",
              "\n",
              "   year  month  \n",
              "0  2012     11  \n",
              "1  2015     11  \n",
              "2  2013      6  \n",
              "3  2012      7  \n",
              "4  2010     11  "
            ],
            "text/html": [
              "\n",
              "  <div id=\"df-388b3dbe-0fc9-4403-893b-31e0668afc43\">\n",
              "    <div class=\"colab-df-container\">\n",
              "      <div>\n",
              "<style scoped>\n",
              "    .dataframe tbody tr th:only-of-type {\n",
              "        vertical-align: middle;\n",
              "    }\n",
              "\n",
              "    .dataframe tbody tr th {\n",
              "        vertical-align: top;\n",
              "    }\n",
              "\n",
              "    .dataframe thead th {\n",
              "        text-align: right;\n",
              "    }\n",
              "</style>\n",
              "<table border=\"1\" class=\"dataframe\">\n",
              "  <thead>\n",
              "    <tr style=\"text-align: right;\">\n",
              "      <th></th>\n",
              "      <th>title</th>\n",
              "      <th>distributor</th>\n",
              "      <th>genre</th>\n",
              "      <th>release_time</th>\n",
              "      <th>time</th>\n",
              "      <th>screening_rat</th>\n",
              "      <th>director</th>\n",
              "      <th>dir_prev_bfnum</th>\n",
              "      <th>dir_prev_num</th>\n",
              "      <th>num_staff</th>\n",
              "      <th>num_actor</th>\n",
              "      <th>box_off_num</th>\n",
              "      <th>from</th>\n",
              "      <th>year</th>\n",
              "      <th>month</th>\n",
              "    </tr>\n",
              "  </thead>\n",
              "  <tbody>\n",
              "    <tr>\n",
              "      <th>0</th>\n",
              "      <td>개들의 전쟁</td>\n",
              "      <td>롯데</td>\n",
              "      <td>액션</td>\n",
              "      <td>2012-11-22</td>\n",
              "      <td>96</td>\n",
              "      <td>청소년 관람불가</td>\n",
              "      <td>조병옥</td>\n",
              "      <td>NaN</td>\n",
              "      <td>0</td>\n",
              "      <td>91</td>\n",
              "      <td>2</td>\n",
              "      <td>23398.0</td>\n",
              "      <td>train</td>\n",
              "      <td>2012</td>\n",
              "      <td>11</td>\n",
              "    </tr>\n",
              "    <tr>\n",
              "      <th>1</th>\n",
              "      <td>내부자들</td>\n",
              "      <td>쇼박스</td>\n",
              "      <td>느와르</td>\n",
              "      <td>2015-11-19</td>\n",
              "      <td>130</td>\n",
              "      <td>청소년 관람불가</td>\n",
              "      <td>우민호</td>\n",
              "      <td>1161602.50</td>\n",
              "      <td>2</td>\n",
              "      <td>387</td>\n",
              "      <td>3</td>\n",
              "      <td>7072501.0</td>\n",
              "      <td>train</td>\n",
              "      <td>2015</td>\n",
              "      <td>11</td>\n",
              "    </tr>\n",
              "    <tr>\n",
              "      <th>2</th>\n",
              "      <td>은밀하게 위대하게</td>\n",
              "      <td>쇼박스</td>\n",
              "      <td>액션</td>\n",
              "      <td>2013-06-05</td>\n",
              "      <td>123</td>\n",
              "      <td>15세 관람가</td>\n",
              "      <td>장철수</td>\n",
              "      <td>220775.25</td>\n",
              "      <td>4</td>\n",
              "      <td>343</td>\n",
              "      <td>4</td>\n",
              "      <td>6959083.0</td>\n",
              "      <td>train</td>\n",
              "      <td>2013</td>\n",
              "      <td>6</td>\n",
              "    </tr>\n",
              "    <tr>\n",
              "      <th>3</th>\n",
              "      <td>나는 공무원이다</td>\n",
              "      <td>NEW</td>\n",
              "      <td>코미디</td>\n",
              "      <td>2012-07-12</td>\n",
              "      <td>101</td>\n",
              "      <td>전체 관람가</td>\n",
              "      <td>구자홍</td>\n",
              "      <td>23894.00</td>\n",
              "      <td>2</td>\n",
              "      <td>20</td>\n",
              "      <td>6</td>\n",
              "      <td>217866.0</td>\n",
              "      <td>train</td>\n",
              "      <td>2012</td>\n",
              "      <td>7</td>\n",
              "    </tr>\n",
              "    <tr>\n",
              "      <th>4</th>\n",
              "      <td>불량남녀</td>\n",
              "      <td>쇼박스</td>\n",
              "      <td>코미디</td>\n",
              "      <td>2010-11-04</td>\n",
              "      <td>108</td>\n",
              "      <td>15세 관람가</td>\n",
              "      <td>신근호</td>\n",
              "      <td>1.00</td>\n",
              "      <td>1</td>\n",
              "      <td>251</td>\n",
              "      <td>2</td>\n",
              "      <td>483387.0</td>\n",
              "      <td>train</td>\n",
              "      <td>2010</td>\n",
              "      <td>11</td>\n",
              "    </tr>\n",
              "  </tbody>\n",
              "</table>\n",
              "</div>\n",
              "      <button class=\"colab-df-convert\" onclick=\"convertToInteractive('df-388b3dbe-0fc9-4403-893b-31e0668afc43')\"\n",
              "              title=\"Convert this dataframe to an interactive table.\"\n",
              "              style=\"display:none;\">\n",
              "        \n",
              "  <svg xmlns=\"http://www.w3.org/2000/svg\" height=\"24px\"viewBox=\"0 0 24 24\"\n",
              "       width=\"24px\">\n",
              "    <path d=\"M0 0h24v24H0V0z\" fill=\"none\"/>\n",
              "    <path d=\"M18.56 5.44l.94 2.06.94-2.06 2.06-.94-2.06-.94-.94-2.06-.94 2.06-2.06.94zm-11 1L8.5 8.5l.94-2.06 2.06-.94-2.06-.94L8.5 2.5l-.94 2.06-2.06.94zm10 10l.94 2.06.94-2.06 2.06-.94-2.06-.94-.94-2.06-.94 2.06-2.06.94z\"/><path d=\"M17.41 7.96l-1.37-1.37c-.4-.4-.92-.59-1.43-.59-.52 0-1.04.2-1.43.59L10.3 9.45l-7.72 7.72c-.78.78-.78 2.05 0 2.83L4 21.41c.39.39.9.59 1.41.59.51 0 1.02-.2 1.41-.59l7.78-7.78 2.81-2.81c.8-.78.8-2.07 0-2.86zM5.41 20L4 18.59l7.72-7.72 1.47 1.35L5.41 20z\"/>\n",
              "  </svg>\n",
              "      </button>\n",
              "      \n",
              "  <style>\n",
              "    .colab-df-container {\n",
              "      display:flex;\n",
              "      flex-wrap:wrap;\n",
              "      gap: 12px;\n",
              "    }\n",
              "\n",
              "    .colab-df-convert {\n",
              "      background-color: #E8F0FE;\n",
              "      border: none;\n",
              "      border-radius: 50%;\n",
              "      cursor: pointer;\n",
              "      display: none;\n",
              "      fill: #1967D2;\n",
              "      height: 32px;\n",
              "      padding: 0 0 0 0;\n",
              "      width: 32px;\n",
              "    }\n",
              "\n",
              "    .colab-df-convert:hover {\n",
              "      background-color: #E2EBFA;\n",
              "      box-shadow: 0px 1px 2px rgba(60, 64, 67, 0.3), 0px 1px 3px 1px rgba(60, 64, 67, 0.15);\n",
              "      fill: #174EA6;\n",
              "    }\n",
              "\n",
              "    [theme=dark] .colab-df-convert {\n",
              "      background-color: #3B4455;\n",
              "      fill: #D2E3FC;\n",
              "    }\n",
              "\n",
              "    [theme=dark] .colab-df-convert:hover {\n",
              "      background-color: #434B5C;\n",
              "      box-shadow: 0px 1px 3px 1px rgba(0, 0, 0, 0.15);\n",
              "      filter: drop-shadow(0px 1px 2px rgba(0, 0, 0, 0.3));\n",
              "      fill: #FFFFFF;\n",
              "    }\n",
              "  </style>\n",
              "\n",
              "      <script>\n",
              "        const buttonEl =\n",
              "          document.querySelector('#df-388b3dbe-0fc9-4403-893b-31e0668afc43 button.colab-df-convert');\n",
              "        buttonEl.style.display =\n",
              "          google.colab.kernel.accessAllowed ? 'block' : 'none';\n",
              "\n",
              "        async function convertToInteractive(key) {\n",
              "          const element = document.querySelector('#df-388b3dbe-0fc9-4403-893b-31e0668afc43');\n",
              "          const dataTable =\n",
              "            await google.colab.kernel.invokeFunction('convertToInteractive',\n",
              "                                                     [key], {});\n",
              "          if (!dataTable) return;\n",
              "\n",
              "          const docLinkHtml = 'Like what you see? Visit the ' +\n",
              "            '<a target=\"_blank\" href=https://colab.research.google.com/notebooks/data_table.ipynb>data table notebook</a>'\n",
              "            + ' to learn more about interactive tables.';\n",
              "          element.innerHTML = '';\n",
              "          dataTable['output_type'] = 'display_data';\n",
              "          await google.colab.output.renderOutput(dataTable, element);\n",
              "          const docLink = document.createElement('div');\n",
              "          docLink.innerHTML = docLinkHtml;\n",
              "          element.appendChild(docLink);\n",
              "        }\n",
              "      </script>\n",
              "    </div>\n",
              "  </div>\n",
              "  "
            ]
          },
          "metadata": {},
          "execution_count": 108
        }
      ]
    },
    {
      "cell_type": "code",
      "source": [
        "total['year'].unique()"
      ],
      "metadata": {
        "colab": {
          "base_uri": "https://localhost:8080/"
        },
        "id": "M6wNdYWdMoPC",
        "outputId": "c9383b3d-06ab-4a15-83a5-7466fc96482b"
      },
      "execution_count": 110,
      "outputs": [
        {
          "output_type": "execute_result",
          "data": {
            "text/plain": [
              "array([2012, 2015, 2013, 2010, 2014, 2011])"
            ]
          },
          "metadata": {},
          "execution_count": 110
        }
      ]
    },
    {
      "cell_type": "markdown",
      "source": [
        "- 해당 데이터는 2010년부터 2015년까지있음"
      ],
      "metadata": {
        "id": "r7K3StO0MsFD"
      }
    },
    {
      "cell_type": "code",
      "source": [
        "# 주말/평일 구분 --> x \n",
        "from datetime import datetime, date\n",
        "\n",
        "#def is_weekend(date):\n",
        "#    return date.weekday() > 4\n",
        "#\n",
        "#weekend = []\n",
        "#for i in total['release_time']:\n",
        "#  a = is_weekend(i)\n",
        "#  weekend.append(a)\n",
        "#\n",
        "#total['weekend'] = weekend\n",
        "#total['weekend'].value_counts()\n",
        "\n",
        "total['release_time'].dt.weekday.value_counts() # 0이 월요일, 6이 일요일\n",
        "# 주말이 2개 뿐..."
      ],
      "metadata": {
        "colab": {
          "base_uri": "https://localhost:8080/"
        },
        "id": "SLYhAluaNTbO",
        "outputId": "90a7415c-a3bb-4651-8481-0d97d73de218"
      },
      "execution_count": 133,
      "outputs": [
        {
          "output_type": "execute_result",
          "data": {
            "text/plain": [
              "3    675\n",
              "2    156\n",
              "0      4\n",
              "1      4\n",
              "4      2\n",
              "5      1\n",
              "6      1\n",
              "Name: release_time, dtype: int64"
            ]
          },
          "metadata": {},
          "execution_count": 133
        }
      ]
    },
    {
      "cell_type": "code",
      "source": [
        "! pip install pytimekr"
      ],
      "metadata": {
        "colab": {
          "base_uri": "https://localhost:8080/"
        },
        "id": "OSGeNZAhIima",
        "outputId": "a584f71a-a509-48f5-90a7-0f789d7b16bd"
      },
      "execution_count": 5,
      "outputs": [
        {
          "output_type": "stream",
          "name": "stdout",
          "text": [
            "Looking in indexes: https://pypi.org/simple, https://us-python.pkg.dev/colab-wheels/public/simple/\n",
            "Collecting pytimekr\n",
            "  Downloading pytimekr-0.1.0.tar.gz (7.3 kB)\n",
            "Collecting lunardate>=0.1.5\n",
            "  Downloading lunardate-0.2.0-py3-none-any.whl (5.6 kB)\n",
            "Building wheels for collected packages: pytimekr\n",
            "  Building wheel for pytimekr (setup.py) ... \u001b[?25l\u001b[?25hdone\n",
            "  Created wheel for pytimekr: filename=pytimekr-0.1.0-py3-none-any.whl size=7941 sha256=7f851771498959f18cc8a3e5af2ce70ea320b1a9a3f3c7bb630b508eb721a13b\n",
            "  Stored in directory: /root/.cache/pip/wheels/f4/b3/6a/4a916f486c95f31b533d394ea247a35dd3496a75cc74a562d9\n",
            "Successfully built pytimekr\n",
            "Installing collected packages: lunardate, pytimekr\n",
            "Successfully installed lunardate-0.2.0 pytimekr-0.1.0\n"
          ]
        }
      ]
    },
    {
      "cell_type": "code",
      "source": [
        "from pytimekr import pytimekr\n",
        "# 한국 공유일: 추석, 설날, 한글날, 어린이날, 광복절, 현충일, 석가탄신일, 삼일절, 제헌절 \n",
        "# 추석, 설날, 어린이날 관객수 높은 상관관계 예상\n",
        "\n",
        "# 연도별 공유일 날짜 구하기\n",
        "holiday = []\n",
        "for i in range(2010, 2015):\n",
        "    new = pytimekr.lunar_newyear(i) # 설날\n",
        "    holiday.append(new)\n",
        "    chi = pytimekr.children(i) # 어린이날\n",
        "    holiday.append(chi)\n",
        "    han = pytimekr.hangul(i) # 한글날\n",
        "    holiday.append(han)\n",
        "    ind = pytimekr.independence(i) # 광복절\n",
        "    holiday.append(ind)\n",
        "    chu = pytimekr.chuseok(i) # 추석\n",
        "    holiday.append(chu)\n",
        "    mem = pytimekr.memorial(i) # 헌충일\n",
        "    holiday.append(mem)\n",
        "    bud = pytimekr.buddha(i) # 석가탄신일\n",
        "    holiday.append(bud)\n",
        "    sam = pytimekr.samiljeol(i) # 삼일절\n",
        "    holiday.append(sam)\n",
        "    con = pytimekr.constitution(i) # 제헌절\n",
        "    holiday.append(con)\n",
        "\n",
        "def is_holiday(date):\n",
        "  if date in holiday:\n",
        "    return 1 # 공휴일이면 1\n",
        "  else:\n",
        "    return 0 # 아니면 0\n",
        "\n",
        "holidays = []\n",
        "for i in total['release_time']:\n",
        "  a = is_holiday(i)\n",
        "  holidays.append(a)\n",
        "\n",
        "total['holiday'] = holidays\n",
        "total['holiday'].value_counts() # 15개 데이터가 공휴일에 개봉"
      ],
      "metadata": {
        "colab": {
          "base_uri": "https://localhost:8080/"
        },
        "id": "RE-QmumaR4nK",
        "outputId": "d53b6e61-aa60-4c56-fdba-63cd420813e4"
      },
      "execution_count": 6,
      "outputs": [
        {
          "output_type": "execute_result",
          "data": {
            "text/plain": [
              "0    828\n",
              "1     15\n",
              "Name: holiday, dtype: int64"
            ]
          },
          "metadata": {},
          "execution_count": 6
        }
      ]
    },
    {
      "cell_type": "code",
      "source": [
        "# release_time 컬럼 drop\n",
        "total.drop(columns=\"release_time\", axis=1, inplace=True)\n",
        "total.head()"
      ],
      "metadata": {
        "colab": {
          "base_uri": "https://localhost:8080/",
          "height": 270
        },
        "id": "fNVLAiy1MFCG",
        "outputId": "19349ffd-0da6-47db-98b2-5e113517ef93"
      },
      "execution_count": 151,
      "outputs": [
        {
          "output_type": "execute_result",
          "data": {
            "text/plain": [
              "  distributor genre  time screening_rat director  dir_prev_bfnum  \\\n",
              "0          롯데    액션    96      청소년 관람불가      조병옥             NaN   \n",
              "1         쇼박스   느와르   130      청소년 관람불가      우민호      1161602.50   \n",
              "2         쇼박스    액션   123       15세 관람가      장철수       220775.25   \n",
              "3         NEW   코미디   101        전체 관람가      구자홍        23894.00   \n",
              "4         쇼박스   코미디   108       15세 관람가      신근호            1.00   \n",
              "\n",
              "   dir_prev_num  num_staff  num_actor  box_off_num   from  year  month  \\\n",
              "0             0         91          2      23398.0  train  2012     11   \n",
              "1             2        387          3    7072501.0  train  2015     11   \n",
              "2             4        343          4    6959083.0  train  2013      6   \n",
              "3             2         20          6     217866.0  train  2012      7   \n",
              "4             1        251          2     483387.0  train  2010     11   \n",
              "\n",
              "   holiday  \n",
              "0        0  \n",
              "1        0  \n",
              "2        0  \n",
              "3        0  \n",
              "4        0  "
            ],
            "text/html": [
              "\n",
              "  <div id=\"df-76e30020-5d33-4f1c-b7d0-54ea0d369a07\">\n",
              "    <div class=\"colab-df-container\">\n",
              "      <div>\n",
              "<style scoped>\n",
              "    .dataframe tbody tr th:only-of-type {\n",
              "        vertical-align: middle;\n",
              "    }\n",
              "\n",
              "    .dataframe tbody tr th {\n",
              "        vertical-align: top;\n",
              "    }\n",
              "\n",
              "    .dataframe thead th {\n",
              "        text-align: right;\n",
              "    }\n",
              "</style>\n",
              "<table border=\"1\" class=\"dataframe\">\n",
              "  <thead>\n",
              "    <tr style=\"text-align: right;\">\n",
              "      <th></th>\n",
              "      <th>distributor</th>\n",
              "      <th>genre</th>\n",
              "      <th>time</th>\n",
              "      <th>screening_rat</th>\n",
              "      <th>director</th>\n",
              "      <th>dir_prev_bfnum</th>\n",
              "      <th>dir_prev_num</th>\n",
              "      <th>num_staff</th>\n",
              "      <th>num_actor</th>\n",
              "      <th>box_off_num</th>\n",
              "      <th>from</th>\n",
              "      <th>year</th>\n",
              "      <th>month</th>\n",
              "      <th>holiday</th>\n",
              "    </tr>\n",
              "  </thead>\n",
              "  <tbody>\n",
              "    <tr>\n",
              "      <th>0</th>\n",
              "      <td>롯데</td>\n",
              "      <td>액션</td>\n",
              "      <td>96</td>\n",
              "      <td>청소년 관람불가</td>\n",
              "      <td>조병옥</td>\n",
              "      <td>NaN</td>\n",
              "      <td>0</td>\n",
              "      <td>91</td>\n",
              "      <td>2</td>\n",
              "      <td>23398.0</td>\n",
              "      <td>train</td>\n",
              "      <td>2012</td>\n",
              "      <td>11</td>\n",
              "      <td>0</td>\n",
              "    </tr>\n",
              "    <tr>\n",
              "      <th>1</th>\n",
              "      <td>쇼박스</td>\n",
              "      <td>느와르</td>\n",
              "      <td>130</td>\n",
              "      <td>청소년 관람불가</td>\n",
              "      <td>우민호</td>\n",
              "      <td>1161602.50</td>\n",
              "      <td>2</td>\n",
              "      <td>387</td>\n",
              "      <td>3</td>\n",
              "      <td>7072501.0</td>\n",
              "      <td>train</td>\n",
              "      <td>2015</td>\n",
              "      <td>11</td>\n",
              "      <td>0</td>\n",
              "    </tr>\n",
              "    <tr>\n",
              "      <th>2</th>\n",
              "      <td>쇼박스</td>\n",
              "      <td>액션</td>\n",
              "      <td>123</td>\n",
              "      <td>15세 관람가</td>\n",
              "      <td>장철수</td>\n",
              "      <td>220775.25</td>\n",
              "      <td>4</td>\n",
              "      <td>343</td>\n",
              "      <td>4</td>\n",
              "      <td>6959083.0</td>\n",
              "      <td>train</td>\n",
              "      <td>2013</td>\n",
              "      <td>6</td>\n",
              "      <td>0</td>\n",
              "    </tr>\n",
              "    <tr>\n",
              "      <th>3</th>\n",
              "      <td>NEW</td>\n",
              "      <td>코미디</td>\n",
              "      <td>101</td>\n",
              "      <td>전체 관람가</td>\n",
              "      <td>구자홍</td>\n",
              "      <td>23894.00</td>\n",
              "      <td>2</td>\n",
              "      <td>20</td>\n",
              "      <td>6</td>\n",
              "      <td>217866.0</td>\n",
              "      <td>train</td>\n",
              "      <td>2012</td>\n",
              "      <td>7</td>\n",
              "      <td>0</td>\n",
              "    </tr>\n",
              "    <tr>\n",
              "      <th>4</th>\n",
              "      <td>쇼박스</td>\n",
              "      <td>코미디</td>\n",
              "      <td>108</td>\n",
              "      <td>15세 관람가</td>\n",
              "      <td>신근호</td>\n",
              "      <td>1.00</td>\n",
              "      <td>1</td>\n",
              "      <td>251</td>\n",
              "      <td>2</td>\n",
              "      <td>483387.0</td>\n",
              "      <td>train</td>\n",
              "      <td>2010</td>\n",
              "      <td>11</td>\n",
              "      <td>0</td>\n",
              "    </tr>\n",
              "  </tbody>\n",
              "</table>\n",
              "</div>\n",
              "      <button class=\"colab-df-convert\" onclick=\"convertToInteractive('df-76e30020-5d33-4f1c-b7d0-54ea0d369a07')\"\n",
              "              title=\"Convert this dataframe to an interactive table.\"\n",
              "              style=\"display:none;\">\n",
              "        \n",
              "  <svg xmlns=\"http://www.w3.org/2000/svg\" height=\"24px\"viewBox=\"0 0 24 24\"\n",
              "       width=\"24px\">\n",
              "    <path d=\"M0 0h24v24H0V0z\" fill=\"none\"/>\n",
              "    <path d=\"M18.56 5.44l.94 2.06.94-2.06 2.06-.94-2.06-.94-.94-2.06-.94 2.06-2.06.94zm-11 1L8.5 8.5l.94-2.06 2.06-.94-2.06-.94L8.5 2.5l-.94 2.06-2.06.94zm10 10l.94 2.06.94-2.06 2.06-.94-2.06-.94-.94-2.06-.94 2.06-2.06.94z\"/><path d=\"M17.41 7.96l-1.37-1.37c-.4-.4-.92-.59-1.43-.59-.52 0-1.04.2-1.43.59L10.3 9.45l-7.72 7.72c-.78.78-.78 2.05 0 2.83L4 21.41c.39.39.9.59 1.41.59.51 0 1.02-.2 1.41-.59l7.78-7.78 2.81-2.81c.8-.78.8-2.07 0-2.86zM5.41 20L4 18.59l7.72-7.72 1.47 1.35L5.41 20z\"/>\n",
              "  </svg>\n",
              "      </button>\n",
              "      \n",
              "  <style>\n",
              "    .colab-df-container {\n",
              "      display:flex;\n",
              "      flex-wrap:wrap;\n",
              "      gap: 12px;\n",
              "    }\n",
              "\n",
              "    .colab-df-convert {\n",
              "      background-color: #E8F0FE;\n",
              "      border: none;\n",
              "      border-radius: 50%;\n",
              "      cursor: pointer;\n",
              "      display: none;\n",
              "      fill: #1967D2;\n",
              "      height: 32px;\n",
              "      padding: 0 0 0 0;\n",
              "      width: 32px;\n",
              "    }\n",
              "\n",
              "    .colab-df-convert:hover {\n",
              "      background-color: #E2EBFA;\n",
              "      box-shadow: 0px 1px 2px rgba(60, 64, 67, 0.3), 0px 1px 3px 1px rgba(60, 64, 67, 0.15);\n",
              "      fill: #174EA6;\n",
              "    }\n",
              "\n",
              "    [theme=dark] .colab-df-convert {\n",
              "      background-color: #3B4455;\n",
              "      fill: #D2E3FC;\n",
              "    }\n",
              "\n",
              "    [theme=dark] .colab-df-convert:hover {\n",
              "      background-color: #434B5C;\n",
              "      box-shadow: 0px 1px 3px 1px rgba(0, 0, 0, 0.15);\n",
              "      filter: drop-shadow(0px 1px 2px rgba(0, 0, 0, 0.3));\n",
              "      fill: #FFFFFF;\n",
              "    }\n",
              "  </style>\n",
              "\n",
              "      <script>\n",
              "        const buttonEl =\n",
              "          document.querySelector('#df-76e30020-5d33-4f1c-b7d0-54ea0d369a07 button.colab-df-convert');\n",
              "        buttonEl.style.display =\n",
              "          google.colab.kernel.accessAllowed ? 'block' : 'none';\n",
              "\n",
              "        async function convertToInteractive(key) {\n",
              "          const element = document.querySelector('#df-76e30020-5d33-4f1c-b7d0-54ea0d369a07');\n",
              "          const dataTable =\n",
              "            await google.colab.kernel.invokeFunction('convertToInteractive',\n",
              "                                                     [key], {});\n",
              "          if (!dataTable) return;\n",
              "\n",
              "          const docLinkHtml = 'Like what you see? Visit the ' +\n",
              "            '<a target=\"_blank\" href=https://colab.research.google.com/notebooks/data_table.ipynb>data table notebook</a>'\n",
              "            + ' to learn more about interactive tables.';\n",
              "          element.innerHTML = '';\n",
              "          dataTable['output_type'] = 'display_data';\n",
              "          await google.colab.output.renderOutput(dataTable, element);\n",
              "          const docLink = document.createElement('div');\n",
              "          docLink.innerHTML = docLinkHtml;\n",
              "          element.appendChild(docLink);\n",
              "        }\n",
              "      </script>\n",
              "    </div>\n",
              "  </div>\n",
              "  "
            ]
          },
          "metadata": {},
          "execution_count": 151
        }
      ]
    },
    {
      "cell_type": "markdown",
      "source": [
        "### 4. train과 test 모두 `dir_prev_bfnum` 변수에 결측값 → 결측치 처리 방법 고민\n",
        "`dir_prev_bfnum`: 해당 감독이 이 영화를 만들기 전 제작에 참여한 영화에서의 평균 관객수(단 관객수가 알려지지 않은 영화 제외)\n",
        "\n",
        "`dir_prev_num` : 해당 감독이 이 영화를 만들기 전 제작에 참여한 영화의 개수(단 관객수가 알려지지 않은 영화 제외)\n",
        "- 466 개 너무 많음\n",
        "- drop 고민..\n",
        "- 감독이 겹치는 결측치 고려\n",
        "- 안겹치면 → `0`\n"
      ],
      "metadata": {
        "id": "mK22h7Pr4zo5"
      }
    },
    {
      "cell_type": "code",
      "source": [
        "total[total.dir_prev_bfnum.isna()]"
      ],
      "metadata": {
        "colab": {
          "base_uri": "https://localhost:8080/",
          "height": 731
        },
        "id": "B-yWdhNm41J2",
        "outputId": "26f84931-de49-478c-a94e-a0cc645d8f0b"
      },
      "execution_count": 9,
      "outputs": [
        {
          "output_type": "execute_result",
          "data": {
            "text/plain": [
              "               title      distributor   genre  time screening_rat director  \\\n",
              "0             개들의 전쟁               롯데      액션    96      청소년 관람불가      조병옥   \n",
              "6               길위에서             백두대간   다큐멘터리   104        전체 관람가      이창재   \n",
              "8    1789, 바스티유의 연인들  유니버설픽쳐스인터내셔널코리아     뮤지컬   129        전체 관람가      정성복   \n",
              "9              청춘그루브           (주)두타연     드라마    94       15세 관람가      변성현   \n",
              "10            AV 아이돌        (주) 케이알씨지  멜로/로맨스    89      청소년 관람불가   조조 히데오   \n",
              "..               ...              ...     ...   ...           ...      ...   \n",
              "235              타이밍      (주)스톰픽쳐스코리아   애니메이션   100       15세 관람가      민경조   \n",
              "237           어떤이의 꿈              하준사     드라마    72       12세 관람가      조성규   \n",
              "239           울보 권투부            인디스토리   다큐멘터리    86       12세 관람가      이일하   \n",
              "240             어떤살인       (주)컨텐츠온미디어     느와르   107      청소년 관람불가      안용훈   \n",
              "242  조선안방 스캔들-칠거지악 2        (주) 케이알씨지  멜로/로맨스    76      청소년 관람불가       이전   \n",
              "\n",
              "     dir_prev_bfnum  dir_prev_num  num_staff  num_actor  box_off_num   from  \\\n",
              "0               NaN             0         91          2      23398.0  train   \n",
              "6               NaN             0         32          5      53526.0  train   \n",
              "8               NaN             0          3          5       4778.0  train   \n",
              "9               NaN             0        138          3        868.0  train   \n",
              "10              NaN             0          0          4        745.0  train   \n",
              "..              ...           ...        ...        ...          ...    ...   \n",
              "235             NaN             0         56          1          NaN   test   \n",
              "237             NaN             0         29          3          NaN   test   \n",
              "239             NaN             0         18          2          NaN   test   \n",
              "240             NaN             0        224          4          NaN   test   \n",
              "242             NaN             0         10          4          NaN   test   \n",
              "\n",
              "     year  month  holiday  \n",
              "0    2012     11    False  \n",
              "6    2013      5    False  \n",
              "8    2014      9    False  \n",
              "9    2012      3    False  \n",
              "10   2015      7    False  \n",
              "..    ...    ...      ...  \n",
              "235  2015     12    False  \n",
              "237  2015     11    False  \n",
              "239  2015     10    False  \n",
              "240  2015     10    False  \n",
              "242  2015     10    False  \n",
              "\n",
              "[466 rows x 15 columns]"
            ],
            "text/html": [
              "\n",
              "  <div id=\"df-32274e0f-f164-4190-8b17-a003328d8035\">\n",
              "    <div class=\"colab-df-container\">\n",
              "      <div>\n",
              "<style scoped>\n",
              "    .dataframe tbody tr th:only-of-type {\n",
              "        vertical-align: middle;\n",
              "    }\n",
              "\n",
              "    .dataframe tbody tr th {\n",
              "        vertical-align: top;\n",
              "    }\n",
              "\n",
              "    .dataframe thead th {\n",
              "        text-align: right;\n",
              "    }\n",
              "</style>\n",
              "<table border=\"1\" class=\"dataframe\">\n",
              "  <thead>\n",
              "    <tr style=\"text-align: right;\">\n",
              "      <th></th>\n",
              "      <th>title</th>\n",
              "      <th>distributor</th>\n",
              "      <th>genre</th>\n",
              "      <th>time</th>\n",
              "      <th>screening_rat</th>\n",
              "      <th>director</th>\n",
              "      <th>dir_prev_bfnum</th>\n",
              "      <th>dir_prev_num</th>\n",
              "      <th>num_staff</th>\n",
              "      <th>num_actor</th>\n",
              "      <th>box_off_num</th>\n",
              "      <th>from</th>\n",
              "      <th>year</th>\n",
              "      <th>month</th>\n",
              "      <th>holiday</th>\n",
              "    </tr>\n",
              "  </thead>\n",
              "  <tbody>\n",
              "    <tr>\n",
              "      <th>0</th>\n",
              "      <td>개들의 전쟁</td>\n",
              "      <td>롯데</td>\n",
              "      <td>액션</td>\n",
              "      <td>96</td>\n",
              "      <td>청소년 관람불가</td>\n",
              "      <td>조병옥</td>\n",
              "      <td>NaN</td>\n",
              "      <td>0</td>\n",
              "      <td>91</td>\n",
              "      <td>2</td>\n",
              "      <td>23398.0</td>\n",
              "      <td>train</td>\n",
              "      <td>2012</td>\n",
              "      <td>11</td>\n",
              "      <td>False</td>\n",
              "    </tr>\n",
              "    <tr>\n",
              "      <th>6</th>\n",
              "      <td>길위에서</td>\n",
              "      <td>백두대간</td>\n",
              "      <td>다큐멘터리</td>\n",
              "      <td>104</td>\n",
              "      <td>전체 관람가</td>\n",
              "      <td>이창재</td>\n",
              "      <td>NaN</td>\n",
              "      <td>0</td>\n",
              "      <td>32</td>\n",
              "      <td>5</td>\n",
              "      <td>53526.0</td>\n",
              "      <td>train</td>\n",
              "      <td>2013</td>\n",
              "      <td>5</td>\n",
              "      <td>False</td>\n",
              "    </tr>\n",
              "    <tr>\n",
              "      <th>8</th>\n",
              "      <td>1789, 바스티유의 연인들</td>\n",
              "      <td>유니버설픽쳐스인터내셔널코리아</td>\n",
              "      <td>뮤지컬</td>\n",
              "      <td>129</td>\n",
              "      <td>전체 관람가</td>\n",
              "      <td>정성복</td>\n",
              "      <td>NaN</td>\n",
              "      <td>0</td>\n",
              "      <td>3</td>\n",
              "      <td>5</td>\n",
              "      <td>4778.0</td>\n",
              "      <td>train</td>\n",
              "      <td>2014</td>\n",
              "      <td>9</td>\n",
              "      <td>False</td>\n",
              "    </tr>\n",
              "    <tr>\n",
              "      <th>9</th>\n",
              "      <td>청춘그루브</td>\n",
              "      <td>(주)두타연</td>\n",
              "      <td>드라마</td>\n",
              "      <td>94</td>\n",
              "      <td>15세 관람가</td>\n",
              "      <td>변성현</td>\n",
              "      <td>NaN</td>\n",
              "      <td>0</td>\n",
              "      <td>138</td>\n",
              "      <td>3</td>\n",
              "      <td>868.0</td>\n",
              "      <td>train</td>\n",
              "      <td>2012</td>\n",
              "      <td>3</td>\n",
              "      <td>False</td>\n",
              "    </tr>\n",
              "    <tr>\n",
              "      <th>10</th>\n",
              "      <td>AV 아이돌</td>\n",
              "      <td>(주) 케이알씨지</td>\n",
              "      <td>멜로/로맨스</td>\n",
              "      <td>89</td>\n",
              "      <td>청소년 관람불가</td>\n",
              "      <td>조조 히데오</td>\n",
              "      <td>NaN</td>\n",
              "      <td>0</td>\n",
              "      <td>0</td>\n",
              "      <td>4</td>\n",
              "      <td>745.0</td>\n",
              "      <td>train</td>\n",
              "      <td>2015</td>\n",
              "      <td>7</td>\n",
              "      <td>False</td>\n",
              "    </tr>\n",
              "    <tr>\n",
              "      <th>...</th>\n",
              "      <td>...</td>\n",
              "      <td>...</td>\n",
              "      <td>...</td>\n",
              "      <td>...</td>\n",
              "      <td>...</td>\n",
              "      <td>...</td>\n",
              "      <td>...</td>\n",
              "      <td>...</td>\n",
              "      <td>...</td>\n",
              "      <td>...</td>\n",
              "      <td>...</td>\n",
              "      <td>...</td>\n",
              "      <td>...</td>\n",
              "      <td>...</td>\n",
              "      <td>...</td>\n",
              "    </tr>\n",
              "    <tr>\n",
              "      <th>235</th>\n",
              "      <td>타이밍</td>\n",
              "      <td>(주)스톰픽쳐스코리아</td>\n",
              "      <td>애니메이션</td>\n",
              "      <td>100</td>\n",
              "      <td>15세 관람가</td>\n",
              "      <td>민경조</td>\n",
              "      <td>NaN</td>\n",
              "      <td>0</td>\n",
              "      <td>56</td>\n",
              "      <td>1</td>\n",
              "      <td>NaN</td>\n",
              "      <td>test</td>\n",
              "      <td>2015</td>\n",
              "      <td>12</td>\n",
              "      <td>False</td>\n",
              "    </tr>\n",
              "    <tr>\n",
              "      <th>237</th>\n",
              "      <td>어떤이의 꿈</td>\n",
              "      <td>하준사</td>\n",
              "      <td>드라마</td>\n",
              "      <td>72</td>\n",
              "      <td>12세 관람가</td>\n",
              "      <td>조성규</td>\n",
              "      <td>NaN</td>\n",
              "      <td>0</td>\n",
              "      <td>29</td>\n",
              "      <td>3</td>\n",
              "      <td>NaN</td>\n",
              "      <td>test</td>\n",
              "      <td>2015</td>\n",
              "      <td>11</td>\n",
              "      <td>False</td>\n",
              "    </tr>\n",
              "    <tr>\n",
              "      <th>239</th>\n",
              "      <td>울보 권투부</td>\n",
              "      <td>인디스토리</td>\n",
              "      <td>다큐멘터리</td>\n",
              "      <td>86</td>\n",
              "      <td>12세 관람가</td>\n",
              "      <td>이일하</td>\n",
              "      <td>NaN</td>\n",
              "      <td>0</td>\n",
              "      <td>18</td>\n",
              "      <td>2</td>\n",
              "      <td>NaN</td>\n",
              "      <td>test</td>\n",
              "      <td>2015</td>\n",
              "      <td>10</td>\n",
              "      <td>False</td>\n",
              "    </tr>\n",
              "    <tr>\n",
              "      <th>240</th>\n",
              "      <td>어떤살인</td>\n",
              "      <td>(주)컨텐츠온미디어</td>\n",
              "      <td>느와르</td>\n",
              "      <td>107</td>\n",
              "      <td>청소년 관람불가</td>\n",
              "      <td>안용훈</td>\n",
              "      <td>NaN</td>\n",
              "      <td>0</td>\n",
              "      <td>224</td>\n",
              "      <td>4</td>\n",
              "      <td>NaN</td>\n",
              "      <td>test</td>\n",
              "      <td>2015</td>\n",
              "      <td>10</td>\n",
              "      <td>False</td>\n",
              "    </tr>\n",
              "    <tr>\n",
              "      <th>242</th>\n",
              "      <td>조선안방 스캔들-칠거지악 2</td>\n",
              "      <td>(주) 케이알씨지</td>\n",
              "      <td>멜로/로맨스</td>\n",
              "      <td>76</td>\n",
              "      <td>청소년 관람불가</td>\n",
              "      <td>이전</td>\n",
              "      <td>NaN</td>\n",
              "      <td>0</td>\n",
              "      <td>10</td>\n",
              "      <td>4</td>\n",
              "      <td>NaN</td>\n",
              "      <td>test</td>\n",
              "      <td>2015</td>\n",
              "      <td>10</td>\n",
              "      <td>False</td>\n",
              "    </tr>\n",
              "  </tbody>\n",
              "</table>\n",
              "<p>466 rows × 15 columns</p>\n",
              "</div>\n",
              "      <button class=\"colab-df-convert\" onclick=\"convertToInteractive('df-32274e0f-f164-4190-8b17-a003328d8035')\"\n",
              "              title=\"Convert this dataframe to an interactive table.\"\n",
              "              style=\"display:none;\">\n",
              "        \n",
              "  <svg xmlns=\"http://www.w3.org/2000/svg\" height=\"24px\"viewBox=\"0 0 24 24\"\n",
              "       width=\"24px\">\n",
              "    <path d=\"M0 0h24v24H0V0z\" fill=\"none\"/>\n",
              "    <path d=\"M18.56 5.44l.94 2.06.94-2.06 2.06-.94-2.06-.94-.94-2.06-.94 2.06-2.06.94zm-11 1L8.5 8.5l.94-2.06 2.06-.94-2.06-.94L8.5 2.5l-.94 2.06-2.06.94zm10 10l.94 2.06.94-2.06 2.06-.94-2.06-.94-.94-2.06-.94 2.06-2.06.94z\"/><path d=\"M17.41 7.96l-1.37-1.37c-.4-.4-.92-.59-1.43-.59-.52 0-1.04.2-1.43.59L10.3 9.45l-7.72 7.72c-.78.78-.78 2.05 0 2.83L4 21.41c.39.39.9.59 1.41.59.51 0 1.02-.2 1.41-.59l7.78-7.78 2.81-2.81c.8-.78.8-2.07 0-2.86zM5.41 20L4 18.59l7.72-7.72 1.47 1.35L5.41 20z\"/>\n",
              "  </svg>\n",
              "      </button>\n",
              "      \n",
              "  <style>\n",
              "    .colab-df-container {\n",
              "      display:flex;\n",
              "      flex-wrap:wrap;\n",
              "      gap: 12px;\n",
              "    }\n",
              "\n",
              "    .colab-df-convert {\n",
              "      background-color: #E8F0FE;\n",
              "      border: none;\n",
              "      border-radius: 50%;\n",
              "      cursor: pointer;\n",
              "      display: none;\n",
              "      fill: #1967D2;\n",
              "      height: 32px;\n",
              "      padding: 0 0 0 0;\n",
              "      width: 32px;\n",
              "    }\n",
              "\n",
              "    .colab-df-convert:hover {\n",
              "      background-color: #E2EBFA;\n",
              "      box-shadow: 0px 1px 2px rgba(60, 64, 67, 0.3), 0px 1px 3px 1px rgba(60, 64, 67, 0.15);\n",
              "      fill: #174EA6;\n",
              "    }\n",
              "\n",
              "    [theme=dark] .colab-df-convert {\n",
              "      background-color: #3B4455;\n",
              "      fill: #D2E3FC;\n",
              "    }\n",
              "\n",
              "    [theme=dark] .colab-df-convert:hover {\n",
              "      background-color: #434B5C;\n",
              "      box-shadow: 0px 1px 3px 1px rgba(0, 0, 0, 0.15);\n",
              "      filter: drop-shadow(0px 1px 2px rgba(0, 0, 0, 0.3));\n",
              "      fill: #FFFFFF;\n",
              "    }\n",
              "  </style>\n",
              "\n",
              "      <script>\n",
              "        const buttonEl =\n",
              "          document.querySelector('#df-32274e0f-f164-4190-8b17-a003328d8035 button.colab-df-convert');\n",
              "        buttonEl.style.display =\n",
              "          google.colab.kernel.accessAllowed ? 'block' : 'none';\n",
              "\n",
              "        async function convertToInteractive(key) {\n",
              "          const element = document.querySelector('#df-32274e0f-f164-4190-8b17-a003328d8035');\n",
              "          const dataTable =\n",
              "            await google.colab.kernel.invokeFunction('convertToInteractive',\n",
              "                                                     [key], {});\n",
              "          if (!dataTable) return;\n",
              "\n",
              "          const docLinkHtml = 'Like what you see? Visit the ' +\n",
              "            '<a target=\"_blank\" href=https://colab.research.google.com/notebooks/data_table.ipynb>data table notebook</a>'\n",
              "            + ' to learn more about interactive tables.';\n",
              "          element.innerHTML = '';\n",
              "          dataTable['output_type'] = 'display_data';\n",
              "          await google.colab.output.renderOutput(dataTable, element);\n",
              "          const docLink = document.createElement('div');\n",
              "          docLink.innerHTML = docLinkHtml;\n",
              "          element.appendChild(docLink);\n",
              "        }\n",
              "      </script>\n",
              "    </div>\n",
              "  </div>\n",
              "  "
            ]
          },
          "metadata": {},
          "execution_count": 9
        }
      ]
    },
    {
      "cell_type": "code",
      "source": [
        "total[total.dir_prev_bfnum.isna()]['director'].value_counts().sort_values(ascending=False)[total[total.dir_prev_bfnum.isna()]['director'].value_counts()>1]"
      ],
      "metadata": {
        "colab": {
          "base_uri": "https://localhost:8080/"
        },
        "id": "-k5hIbdy5wFW",
        "outputId": "48a35262-1345-48f0-ef21-5f33a0c4eea8"
      },
      "execution_count": 14,
      "outputs": [
        {
          "output_type": "execute_result",
          "data": {
            "text/plain": [
              "홍상수    7\n",
              "조성규    6\n",
              "전규환    6\n",
              "장률     4\n",
              "노진수    4\n",
              "      ..\n",
              "박정범    2\n",
              "방현준    2\n",
              "백승화    2\n",
              "민용근    2\n",
              "이병헌    2\n",
              "Name: director, Length: 70, dtype: int64"
            ]
          },
          "metadata": {},
          "execution_count": 14
        }
      ]
    },
    {
      "cell_type": "code",
      "source": [
        "# 홍상수 8개 영화 데이터 중 7개만 null 값\n",
        "total[total['director']=='홍상수']"
      ],
      "metadata": {
        "colab": {
          "base_uri": "https://localhost:8080/",
          "height": 538
        },
        "id": "eDC-VbHL6aki",
        "outputId": "15607e97-8afd-4390-b892-f75e788e1486"
      },
      "execution_count": 15,
      "outputs": [
        {
          "output_type": "execute_result",
          "data": {
            "text/plain": [
              "            title  distributor genre  time screening_rat director  \\\n",
              "15         자유의 언덕  (주) 영화제작전원사   드라마    67      청소년 관람불가      홍상수   \n",
              "19            하하하          스폰지   드라마   115      청소년 관람불가      홍상수   \n",
              "115          북촌방향    (주) 영화사조제   드라마    79      청소년 관람불가      홍상수   \n",
              "164   지금은맞고그때는틀리다          NEW   드라마   121      청소년 관람불가      홍상수   \n",
              "331        다른나라에서  (주) 영화제작전원사   드라마    89      청소년 관람불가      홍상수   \n",
              "506         우리 선희  (주) 영화제작전원사   드라마    89      청소년 관람불가      홍상수   \n",
              "523        옥희의 영화          스폰지   드라마    80      청소년 관람불가      홍상수   \n",
              "107  누구의 딸도 아닌 해원  (주) 영화제작전원사   드라마    90      청소년 관람불가      홍상수   \n",
              "\n",
              "     dir_prev_bfnum  dir_prev_num  num_staff  num_actor  box_off_num   from  \\\n",
              "15              NaN             0         52          3      39317.0  train   \n",
              "19              NaN             0         74          9      57029.0  train   \n",
              "115             NaN             0         55          5      46212.0  train   \n",
              "164         39317.0             1         16          2      80734.0  train   \n",
              "331             NaN             0         70          2      31101.0  train   \n",
              "506             NaN             0          8          6      69122.0  train   \n",
              "523             NaN             0         57          3      37122.0  train   \n",
              "107             NaN             0         56          3          NaN   test   \n",
              "\n",
              "     year  month  holiday  \n",
              "15   2014      9    False  \n",
              "19   2010      5     True  \n",
              "115  2011      9    False  \n",
              "164  2015      9    False  \n",
              "331  2012      5    False  \n",
              "506  2013      9    False  \n",
              "523  2010      9    False  \n",
              "107  2013      2    False  "
            ],
            "text/html": [
              "\n",
              "  <div id=\"df-4eb8cdce-4dd6-4f3b-a705-26e090dc7955\">\n",
              "    <div class=\"colab-df-container\">\n",
              "      <div>\n",
              "<style scoped>\n",
              "    .dataframe tbody tr th:only-of-type {\n",
              "        vertical-align: middle;\n",
              "    }\n",
              "\n",
              "    .dataframe tbody tr th {\n",
              "        vertical-align: top;\n",
              "    }\n",
              "\n",
              "    .dataframe thead th {\n",
              "        text-align: right;\n",
              "    }\n",
              "</style>\n",
              "<table border=\"1\" class=\"dataframe\">\n",
              "  <thead>\n",
              "    <tr style=\"text-align: right;\">\n",
              "      <th></th>\n",
              "      <th>title</th>\n",
              "      <th>distributor</th>\n",
              "      <th>genre</th>\n",
              "      <th>time</th>\n",
              "      <th>screening_rat</th>\n",
              "      <th>director</th>\n",
              "      <th>dir_prev_bfnum</th>\n",
              "      <th>dir_prev_num</th>\n",
              "      <th>num_staff</th>\n",
              "      <th>num_actor</th>\n",
              "      <th>box_off_num</th>\n",
              "      <th>from</th>\n",
              "      <th>year</th>\n",
              "      <th>month</th>\n",
              "      <th>holiday</th>\n",
              "    </tr>\n",
              "  </thead>\n",
              "  <tbody>\n",
              "    <tr>\n",
              "      <th>15</th>\n",
              "      <td>자유의 언덕</td>\n",
              "      <td>(주) 영화제작전원사</td>\n",
              "      <td>드라마</td>\n",
              "      <td>67</td>\n",
              "      <td>청소년 관람불가</td>\n",
              "      <td>홍상수</td>\n",
              "      <td>NaN</td>\n",
              "      <td>0</td>\n",
              "      <td>52</td>\n",
              "      <td>3</td>\n",
              "      <td>39317.0</td>\n",
              "      <td>train</td>\n",
              "      <td>2014</td>\n",
              "      <td>9</td>\n",
              "      <td>False</td>\n",
              "    </tr>\n",
              "    <tr>\n",
              "      <th>19</th>\n",
              "      <td>하하하</td>\n",
              "      <td>스폰지</td>\n",
              "      <td>드라마</td>\n",
              "      <td>115</td>\n",
              "      <td>청소년 관람불가</td>\n",
              "      <td>홍상수</td>\n",
              "      <td>NaN</td>\n",
              "      <td>0</td>\n",
              "      <td>74</td>\n",
              "      <td>9</td>\n",
              "      <td>57029.0</td>\n",
              "      <td>train</td>\n",
              "      <td>2010</td>\n",
              "      <td>5</td>\n",
              "      <td>True</td>\n",
              "    </tr>\n",
              "    <tr>\n",
              "      <th>115</th>\n",
              "      <td>북촌방향</td>\n",
              "      <td>(주) 영화사조제</td>\n",
              "      <td>드라마</td>\n",
              "      <td>79</td>\n",
              "      <td>청소년 관람불가</td>\n",
              "      <td>홍상수</td>\n",
              "      <td>NaN</td>\n",
              "      <td>0</td>\n",
              "      <td>55</td>\n",
              "      <td>5</td>\n",
              "      <td>46212.0</td>\n",
              "      <td>train</td>\n",
              "      <td>2011</td>\n",
              "      <td>9</td>\n",
              "      <td>False</td>\n",
              "    </tr>\n",
              "    <tr>\n",
              "      <th>164</th>\n",
              "      <td>지금은맞고그때는틀리다</td>\n",
              "      <td>NEW</td>\n",
              "      <td>드라마</td>\n",
              "      <td>121</td>\n",
              "      <td>청소년 관람불가</td>\n",
              "      <td>홍상수</td>\n",
              "      <td>39317.0</td>\n",
              "      <td>1</td>\n",
              "      <td>16</td>\n",
              "      <td>2</td>\n",
              "      <td>80734.0</td>\n",
              "      <td>train</td>\n",
              "      <td>2015</td>\n",
              "      <td>9</td>\n",
              "      <td>False</td>\n",
              "    </tr>\n",
              "    <tr>\n",
              "      <th>331</th>\n",
              "      <td>다른나라에서</td>\n",
              "      <td>(주) 영화제작전원사</td>\n",
              "      <td>드라마</td>\n",
              "      <td>89</td>\n",
              "      <td>청소년 관람불가</td>\n",
              "      <td>홍상수</td>\n",
              "      <td>NaN</td>\n",
              "      <td>0</td>\n",
              "      <td>70</td>\n",
              "      <td>2</td>\n",
              "      <td>31101.0</td>\n",
              "      <td>train</td>\n",
              "      <td>2012</td>\n",
              "      <td>5</td>\n",
              "      <td>False</td>\n",
              "    </tr>\n",
              "    <tr>\n",
              "      <th>506</th>\n",
              "      <td>우리 선희</td>\n",
              "      <td>(주) 영화제작전원사</td>\n",
              "      <td>드라마</td>\n",
              "      <td>89</td>\n",
              "      <td>청소년 관람불가</td>\n",
              "      <td>홍상수</td>\n",
              "      <td>NaN</td>\n",
              "      <td>0</td>\n",
              "      <td>8</td>\n",
              "      <td>6</td>\n",
              "      <td>69122.0</td>\n",
              "      <td>train</td>\n",
              "      <td>2013</td>\n",
              "      <td>9</td>\n",
              "      <td>False</td>\n",
              "    </tr>\n",
              "    <tr>\n",
              "      <th>523</th>\n",
              "      <td>옥희의 영화</td>\n",
              "      <td>스폰지</td>\n",
              "      <td>드라마</td>\n",
              "      <td>80</td>\n",
              "      <td>청소년 관람불가</td>\n",
              "      <td>홍상수</td>\n",
              "      <td>NaN</td>\n",
              "      <td>0</td>\n",
              "      <td>57</td>\n",
              "      <td>3</td>\n",
              "      <td>37122.0</td>\n",
              "      <td>train</td>\n",
              "      <td>2010</td>\n",
              "      <td>9</td>\n",
              "      <td>False</td>\n",
              "    </tr>\n",
              "    <tr>\n",
              "      <th>107</th>\n",
              "      <td>누구의 딸도 아닌 해원</td>\n",
              "      <td>(주) 영화제작전원사</td>\n",
              "      <td>드라마</td>\n",
              "      <td>90</td>\n",
              "      <td>청소년 관람불가</td>\n",
              "      <td>홍상수</td>\n",
              "      <td>NaN</td>\n",
              "      <td>0</td>\n",
              "      <td>56</td>\n",
              "      <td>3</td>\n",
              "      <td>NaN</td>\n",
              "      <td>test</td>\n",
              "      <td>2013</td>\n",
              "      <td>2</td>\n",
              "      <td>False</td>\n",
              "    </tr>\n",
              "  </tbody>\n",
              "</table>\n",
              "</div>\n",
              "      <button class=\"colab-df-convert\" onclick=\"convertToInteractive('df-4eb8cdce-4dd6-4f3b-a705-26e090dc7955')\"\n",
              "              title=\"Convert this dataframe to an interactive table.\"\n",
              "              style=\"display:none;\">\n",
              "        \n",
              "  <svg xmlns=\"http://www.w3.org/2000/svg\" height=\"24px\"viewBox=\"0 0 24 24\"\n",
              "       width=\"24px\">\n",
              "    <path d=\"M0 0h24v24H0V0z\" fill=\"none\"/>\n",
              "    <path d=\"M18.56 5.44l.94 2.06.94-2.06 2.06-.94-2.06-.94-.94-2.06-.94 2.06-2.06.94zm-11 1L8.5 8.5l.94-2.06 2.06-.94-2.06-.94L8.5 2.5l-.94 2.06-2.06.94zm10 10l.94 2.06.94-2.06 2.06-.94-2.06-.94-.94-2.06-.94 2.06-2.06.94z\"/><path d=\"M17.41 7.96l-1.37-1.37c-.4-.4-.92-.59-1.43-.59-.52 0-1.04.2-1.43.59L10.3 9.45l-7.72 7.72c-.78.78-.78 2.05 0 2.83L4 21.41c.39.39.9.59 1.41.59.51 0 1.02-.2 1.41-.59l7.78-7.78 2.81-2.81c.8-.78.8-2.07 0-2.86zM5.41 20L4 18.59l7.72-7.72 1.47 1.35L5.41 20z\"/>\n",
              "  </svg>\n",
              "      </button>\n",
              "      \n",
              "  <style>\n",
              "    .colab-df-container {\n",
              "      display:flex;\n",
              "      flex-wrap:wrap;\n",
              "      gap: 12px;\n",
              "    }\n",
              "\n",
              "    .colab-df-convert {\n",
              "      background-color: #E8F0FE;\n",
              "      border: none;\n",
              "      border-radius: 50%;\n",
              "      cursor: pointer;\n",
              "      display: none;\n",
              "      fill: #1967D2;\n",
              "      height: 32px;\n",
              "      padding: 0 0 0 0;\n",
              "      width: 32px;\n",
              "    }\n",
              "\n",
              "    .colab-df-convert:hover {\n",
              "      background-color: #E2EBFA;\n",
              "      box-shadow: 0px 1px 2px rgba(60, 64, 67, 0.3), 0px 1px 3px 1px rgba(60, 64, 67, 0.15);\n",
              "      fill: #174EA6;\n",
              "    }\n",
              "\n",
              "    [theme=dark] .colab-df-convert {\n",
              "      background-color: #3B4455;\n",
              "      fill: #D2E3FC;\n",
              "    }\n",
              "\n",
              "    [theme=dark] .colab-df-convert:hover {\n",
              "      background-color: #434B5C;\n",
              "      box-shadow: 0px 1px 3px 1px rgba(0, 0, 0, 0.15);\n",
              "      filter: drop-shadow(0px 1px 2px rgba(0, 0, 0, 0.3));\n",
              "      fill: #FFFFFF;\n",
              "    }\n",
              "  </style>\n",
              "\n",
              "      <script>\n",
              "        const buttonEl =\n",
              "          document.querySelector('#df-4eb8cdce-4dd6-4f3b-a705-26e090dc7955 button.colab-df-convert');\n",
              "        buttonEl.style.display =\n",
              "          google.colab.kernel.accessAllowed ? 'block' : 'none';\n",
              "\n",
              "        async function convertToInteractive(key) {\n",
              "          const element = document.querySelector('#df-4eb8cdce-4dd6-4f3b-a705-26e090dc7955');\n",
              "          const dataTable =\n",
              "            await google.colab.kernel.invokeFunction('convertToInteractive',\n",
              "                                                     [key], {});\n",
              "          if (!dataTable) return;\n",
              "\n",
              "          const docLinkHtml = 'Like what you see? Visit the ' +\n",
              "            '<a target=\"_blank\" href=https://colab.research.google.com/notebooks/data_table.ipynb>data table notebook</a>'\n",
              "            + ' to learn more about interactive tables.';\n",
              "          element.innerHTML = '';\n",
              "          dataTable['output_type'] = 'display_data';\n",
              "          await google.colab.output.renderOutput(dataTable, element);\n",
              "          const docLink = document.createElement('div');\n",
              "          docLink.innerHTML = docLinkHtml;\n",
              "          element.appendChild(docLink);\n",
              "        }\n",
              "      </script>\n",
              "    </div>\n",
              "  </div>\n",
              "  "
            ]
          },
          "metadata": {},
          "execution_count": 15
        }
      ]
    },
    {
      "cell_type": "markdown",
      "source": [
        "- 해당 감독이 이 영화를 만들기 전 제작에 참여한 영화의 개수 (알려지지 않은 경우 포함) = 0  →  `dir_prev_bfnum` null 값? 전부.. 0으로 채워도 될 듯"
      ],
      "metadata": {
        "id": "PGXuW8ns9smk"
      }
    },
    {
      "cell_type": "code",
      "source": [
        "total[total.dir_prev_bfnum.isna()][total[total.dir_prev_bfnum.isna()]['dir_prev_num']==0]"
      ],
      "metadata": {
        "colab": {
          "base_uri": "https://localhost:8080/",
          "height": 731
        },
        "id": "vYAYwmD1-BLq",
        "outputId": "edd138cb-5728-4d1e-dcd6-804b01cbcadf"
      },
      "execution_count": 16,
      "outputs": [
        {
          "output_type": "execute_result",
          "data": {
            "text/plain": [
              "               title      distributor   genre  time screening_rat director  \\\n",
              "0             개들의 전쟁               롯데      액션    96      청소년 관람불가      조병옥   \n",
              "6               길위에서             백두대간   다큐멘터리   104        전체 관람가      이창재   \n",
              "8    1789, 바스티유의 연인들  유니버설픽쳐스인터내셔널코리아     뮤지컬   129        전체 관람가      정성복   \n",
              "9              청춘그루브           (주)두타연     드라마    94       15세 관람가      변성현   \n",
              "10            AV 아이돌        (주) 케이알씨지  멜로/로맨스    89      청소년 관람불가   조조 히데오   \n",
              "..               ...              ...     ...   ...           ...      ...   \n",
              "235              타이밍      (주)스톰픽쳐스코리아   애니메이션   100       15세 관람가      민경조   \n",
              "237           어떤이의 꿈              하준사     드라마    72       12세 관람가      조성규   \n",
              "239           울보 권투부            인디스토리   다큐멘터리    86       12세 관람가      이일하   \n",
              "240             어떤살인       (주)컨텐츠온미디어     느와르   107      청소년 관람불가      안용훈   \n",
              "242  조선안방 스캔들-칠거지악 2        (주) 케이알씨지  멜로/로맨스    76      청소년 관람불가       이전   \n",
              "\n",
              "     dir_prev_bfnum  dir_prev_num  num_staff  num_actor  box_off_num   from  \\\n",
              "0               NaN             0         91          2      23398.0  train   \n",
              "6               NaN             0         32          5      53526.0  train   \n",
              "8               NaN             0          3          5       4778.0  train   \n",
              "9               NaN             0        138          3        868.0  train   \n",
              "10              NaN             0          0          4        745.0  train   \n",
              "..              ...           ...        ...        ...          ...    ...   \n",
              "235             NaN             0         56          1          NaN   test   \n",
              "237             NaN             0         29          3          NaN   test   \n",
              "239             NaN             0         18          2          NaN   test   \n",
              "240             NaN             0        224          4          NaN   test   \n",
              "242             NaN             0         10          4          NaN   test   \n",
              "\n",
              "     year  month  holiday  \n",
              "0    2012     11    False  \n",
              "6    2013      5    False  \n",
              "8    2014      9    False  \n",
              "9    2012      3    False  \n",
              "10   2015      7    False  \n",
              "..    ...    ...      ...  \n",
              "235  2015     12    False  \n",
              "237  2015     11    False  \n",
              "239  2015     10    False  \n",
              "240  2015     10    False  \n",
              "242  2015     10    False  \n",
              "\n",
              "[466 rows x 15 columns]"
            ],
            "text/html": [
              "\n",
              "  <div id=\"df-2e8760b7-ee70-40db-8811-4ec3fa9eb4a3\">\n",
              "    <div class=\"colab-df-container\">\n",
              "      <div>\n",
              "<style scoped>\n",
              "    .dataframe tbody tr th:only-of-type {\n",
              "        vertical-align: middle;\n",
              "    }\n",
              "\n",
              "    .dataframe tbody tr th {\n",
              "        vertical-align: top;\n",
              "    }\n",
              "\n",
              "    .dataframe thead th {\n",
              "        text-align: right;\n",
              "    }\n",
              "</style>\n",
              "<table border=\"1\" class=\"dataframe\">\n",
              "  <thead>\n",
              "    <tr style=\"text-align: right;\">\n",
              "      <th></th>\n",
              "      <th>title</th>\n",
              "      <th>distributor</th>\n",
              "      <th>genre</th>\n",
              "      <th>time</th>\n",
              "      <th>screening_rat</th>\n",
              "      <th>director</th>\n",
              "      <th>dir_prev_bfnum</th>\n",
              "      <th>dir_prev_num</th>\n",
              "      <th>num_staff</th>\n",
              "      <th>num_actor</th>\n",
              "      <th>box_off_num</th>\n",
              "      <th>from</th>\n",
              "      <th>year</th>\n",
              "      <th>month</th>\n",
              "      <th>holiday</th>\n",
              "    </tr>\n",
              "  </thead>\n",
              "  <tbody>\n",
              "    <tr>\n",
              "      <th>0</th>\n",
              "      <td>개들의 전쟁</td>\n",
              "      <td>롯데</td>\n",
              "      <td>액션</td>\n",
              "      <td>96</td>\n",
              "      <td>청소년 관람불가</td>\n",
              "      <td>조병옥</td>\n",
              "      <td>NaN</td>\n",
              "      <td>0</td>\n",
              "      <td>91</td>\n",
              "      <td>2</td>\n",
              "      <td>23398.0</td>\n",
              "      <td>train</td>\n",
              "      <td>2012</td>\n",
              "      <td>11</td>\n",
              "      <td>False</td>\n",
              "    </tr>\n",
              "    <tr>\n",
              "      <th>6</th>\n",
              "      <td>길위에서</td>\n",
              "      <td>백두대간</td>\n",
              "      <td>다큐멘터리</td>\n",
              "      <td>104</td>\n",
              "      <td>전체 관람가</td>\n",
              "      <td>이창재</td>\n",
              "      <td>NaN</td>\n",
              "      <td>0</td>\n",
              "      <td>32</td>\n",
              "      <td>5</td>\n",
              "      <td>53526.0</td>\n",
              "      <td>train</td>\n",
              "      <td>2013</td>\n",
              "      <td>5</td>\n",
              "      <td>False</td>\n",
              "    </tr>\n",
              "    <tr>\n",
              "      <th>8</th>\n",
              "      <td>1789, 바스티유의 연인들</td>\n",
              "      <td>유니버설픽쳐스인터내셔널코리아</td>\n",
              "      <td>뮤지컬</td>\n",
              "      <td>129</td>\n",
              "      <td>전체 관람가</td>\n",
              "      <td>정성복</td>\n",
              "      <td>NaN</td>\n",
              "      <td>0</td>\n",
              "      <td>3</td>\n",
              "      <td>5</td>\n",
              "      <td>4778.0</td>\n",
              "      <td>train</td>\n",
              "      <td>2014</td>\n",
              "      <td>9</td>\n",
              "      <td>False</td>\n",
              "    </tr>\n",
              "    <tr>\n",
              "      <th>9</th>\n",
              "      <td>청춘그루브</td>\n",
              "      <td>(주)두타연</td>\n",
              "      <td>드라마</td>\n",
              "      <td>94</td>\n",
              "      <td>15세 관람가</td>\n",
              "      <td>변성현</td>\n",
              "      <td>NaN</td>\n",
              "      <td>0</td>\n",
              "      <td>138</td>\n",
              "      <td>3</td>\n",
              "      <td>868.0</td>\n",
              "      <td>train</td>\n",
              "      <td>2012</td>\n",
              "      <td>3</td>\n",
              "      <td>False</td>\n",
              "    </tr>\n",
              "    <tr>\n",
              "      <th>10</th>\n",
              "      <td>AV 아이돌</td>\n",
              "      <td>(주) 케이알씨지</td>\n",
              "      <td>멜로/로맨스</td>\n",
              "      <td>89</td>\n",
              "      <td>청소년 관람불가</td>\n",
              "      <td>조조 히데오</td>\n",
              "      <td>NaN</td>\n",
              "      <td>0</td>\n",
              "      <td>0</td>\n",
              "      <td>4</td>\n",
              "      <td>745.0</td>\n",
              "      <td>train</td>\n",
              "      <td>2015</td>\n",
              "      <td>7</td>\n",
              "      <td>False</td>\n",
              "    </tr>\n",
              "    <tr>\n",
              "      <th>...</th>\n",
              "      <td>...</td>\n",
              "      <td>...</td>\n",
              "      <td>...</td>\n",
              "      <td>...</td>\n",
              "      <td>...</td>\n",
              "      <td>...</td>\n",
              "      <td>...</td>\n",
              "      <td>...</td>\n",
              "      <td>...</td>\n",
              "      <td>...</td>\n",
              "      <td>...</td>\n",
              "      <td>...</td>\n",
              "      <td>...</td>\n",
              "      <td>...</td>\n",
              "      <td>...</td>\n",
              "    </tr>\n",
              "    <tr>\n",
              "      <th>235</th>\n",
              "      <td>타이밍</td>\n",
              "      <td>(주)스톰픽쳐스코리아</td>\n",
              "      <td>애니메이션</td>\n",
              "      <td>100</td>\n",
              "      <td>15세 관람가</td>\n",
              "      <td>민경조</td>\n",
              "      <td>NaN</td>\n",
              "      <td>0</td>\n",
              "      <td>56</td>\n",
              "      <td>1</td>\n",
              "      <td>NaN</td>\n",
              "      <td>test</td>\n",
              "      <td>2015</td>\n",
              "      <td>12</td>\n",
              "      <td>False</td>\n",
              "    </tr>\n",
              "    <tr>\n",
              "      <th>237</th>\n",
              "      <td>어떤이의 꿈</td>\n",
              "      <td>하준사</td>\n",
              "      <td>드라마</td>\n",
              "      <td>72</td>\n",
              "      <td>12세 관람가</td>\n",
              "      <td>조성규</td>\n",
              "      <td>NaN</td>\n",
              "      <td>0</td>\n",
              "      <td>29</td>\n",
              "      <td>3</td>\n",
              "      <td>NaN</td>\n",
              "      <td>test</td>\n",
              "      <td>2015</td>\n",
              "      <td>11</td>\n",
              "      <td>False</td>\n",
              "    </tr>\n",
              "    <tr>\n",
              "      <th>239</th>\n",
              "      <td>울보 권투부</td>\n",
              "      <td>인디스토리</td>\n",
              "      <td>다큐멘터리</td>\n",
              "      <td>86</td>\n",
              "      <td>12세 관람가</td>\n",
              "      <td>이일하</td>\n",
              "      <td>NaN</td>\n",
              "      <td>0</td>\n",
              "      <td>18</td>\n",
              "      <td>2</td>\n",
              "      <td>NaN</td>\n",
              "      <td>test</td>\n",
              "      <td>2015</td>\n",
              "      <td>10</td>\n",
              "      <td>False</td>\n",
              "    </tr>\n",
              "    <tr>\n",
              "      <th>240</th>\n",
              "      <td>어떤살인</td>\n",
              "      <td>(주)컨텐츠온미디어</td>\n",
              "      <td>느와르</td>\n",
              "      <td>107</td>\n",
              "      <td>청소년 관람불가</td>\n",
              "      <td>안용훈</td>\n",
              "      <td>NaN</td>\n",
              "      <td>0</td>\n",
              "      <td>224</td>\n",
              "      <td>4</td>\n",
              "      <td>NaN</td>\n",
              "      <td>test</td>\n",
              "      <td>2015</td>\n",
              "      <td>10</td>\n",
              "      <td>False</td>\n",
              "    </tr>\n",
              "    <tr>\n",
              "      <th>242</th>\n",
              "      <td>조선안방 스캔들-칠거지악 2</td>\n",
              "      <td>(주) 케이알씨지</td>\n",
              "      <td>멜로/로맨스</td>\n",
              "      <td>76</td>\n",
              "      <td>청소년 관람불가</td>\n",
              "      <td>이전</td>\n",
              "      <td>NaN</td>\n",
              "      <td>0</td>\n",
              "      <td>10</td>\n",
              "      <td>4</td>\n",
              "      <td>NaN</td>\n",
              "      <td>test</td>\n",
              "      <td>2015</td>\n",
              "      <td>10</td>\n",
              "      <td>False</td>\n",
              "    </tr>\n",
              "  </tbody>\n",
              "</table>\n",
              "<p>466 rows × 15 columns</p>\n",
              "</div>\n",
              "      <button class=\"colab-df-convert\" onclick=\"convertToInteractive('df-2e8760b7-ee70-40db-8811-4ec3fa9eb4a3')\"\n",
              "              title=\"Convert this dataframe to an interactive table.\"\n",
              "              style=\"display:none;\">\n",
              "        \n",
              "  <svg xmlns=\"http://www.w3.org/2000/svg\" height=\"24px\"viewBox=\"0 0 24 24\"\n",
              "       width=\"24px\">\n",
              "    <path d=\"M0 0h24v24H0V0z\" fill=\"none\"/>\n",
              "    <path d=\"M18.56 5.44l.94 2.06.94-2.06 2.06-.94-2.06-.94-.94-2.06-.94 2.06-2.06.94zm-11 1L8.5 8.5l.94-2.06 2.06-.94-2.06-.94L8.5 2.5l-.94 2.06-2.06.94zm10 10l.94 2.06.94-2.06 2.06-.94-2.06-.94-.94-2.06-.94 2.06-2.06.94z\"/><path d=\"M17.41 7.96l-1.37-1.37c-.4-.4-.92-.59-1.43-.59-.52 0-1.04.2-1.43.59L10.3 9.45l-7.72 7.72c-.78.78-.78 2.05 0 2.83L4 21.41c.39.39.9.59 1.41.59.51 0 1.02-.2 1.41-.59l7.78-7.78 2.81-2.81c.8-.78.8-2.07 0-2.86zM5.41 20L4 18.59l7.72-7.72 1.47 1.35L5.41 20z\"/>\n",
              "  </svg>\n",
              "      </button>\n",
              "      \n",
              "  <style>\n",
              "    .colab-df-container {\n",
              "      display:flex;\n",
              "      flex-wrap:wrap;\n",
              "      gap: 12px;\n",
              "    }\n",
              "\n",
              "    .colab-df-convert {\n",
              "      background-color: #E8F0FE;\n",
              "      border: none;\n",
              "      border-radius: 50%;\n",
              "      cursor: pointer;\n",
              "      display: none;\n",
              "      fill: #1967D2;\n",
              "      height: 32px;\n",
              "      padding: 0 0 0 0;\n",
              "      width: 32px;\n",
              "    }\n",
              "\n",
              "    .colab-df-convert:hover {\n",
              "      background-color: #E2EBFA;\n",
              "      box-shadow: 0px 1px 2px rgba(60, 64, 67, 0.3), 0px 1px 3px 1px rgba(60, 64, 67, 0.15);\n",
              "      fill: #174EA6;\n",
              "    }\n",
              "\n",
              "    [theme=dark] .colab-df-convert {\n",
              "      background-color: #3B4455;\n",
              "      fill: #D2E3FC;\n",
              "    }\n",
              "\n",
              "    [theme=dark] .colab-df-convert:hover {\n",
              "      background-color: #434B5C;\n",
              "      box-shadow: 0px 1px 3px 1px rgba(0, 0, 0, 0.15);\n",
              "      filter: drop-shadow(0px 1px 2px rgba(0, 0, 0, 0.3));\n",
              "      fill: #FFFFFF;\n",
              "    }\n",
              "  </style>\n",
              "\n",
              "      <script>\n",
              "        const buttonEl =\n",
              "          document.querySelector('#df-2e8760b7-ee70-40db-8811-4ec3fa9eb4a3 button.colab-df-convert');\n",
              "        buttonEl.style.display =\n",
              "          google.colab.kernel.accessAllowed ? 'block' : 'none';\n",
              "\n",
              "        async function convertToInteractive(key) {\n",
              "          const element = document.querySelector('#df-2e8760b7-ee70-40db-8811-4ec3fa9eb4a3');\n",
              "          const dataTable =\n",
              "            await google.colab.kernel.invokeFunction('convertToInteractive',\n",
              "                                                     [key], {});\n",
              "          if (!dataTable) return;\n",
              "\n",
              "          const docLinkHtml = 'Like what you see? Visit the ' +\n",
              "            '<a target=\"_blank\" href=https://colab.research.google.com/notebooks/data_table.ipynb>data table notebook</a>'\n",
              "            + ' to learn more about interactive tables.';\n",
              "          element.innerHTML = '';\n",
              "          dataTable['output_type'] = 'display_data';\n",
              "          await google.colab.output.renderOutput(dataTable, element);\n",
              "          const docLink = document.createElement('div');\n",
              "          docLink.innerHTML = docLinkHtml;\n",
              "          element.appendChild(docLink);\n",
              "        }\n",
              "      </script>\n",
              "    </div>\n",
              "  </div>\n",
              "  "
            ]
          },
          "metadata": {},
          "execution_count": 16
        }
      ]
    },
    {
      "cell_type": "code",
      "source": [
        "total['dir_prev_bfnum']=total['dir_prev_bfnum'].fillna(0)"
      ],
      "metadata": {
        "id": "MCR40E2m_6pE"
      },
      "execution_count": 17,
      "outputs": []
    },
    {
      "cell_type": "code",
      "source": [
        "total.info()"
      ],
      "metadata": {
        "colab": {
          "base_uri": "https://localhost:8080/"
        },
        "id": "1JLhlCngABxL",
        "outputId": "0d6d8e6d-658b-4775-db44-5c59eda1e831"
      },
      "execution_count": 18,
      "outputs": [
        {
          "output_type": "stream",
          "name": "stdout",
          "text": [
            "<class 'pandas.core.frame.DataFrame'>\n",
            "Int64Index: 843 entries, 0 to 242\n",
            "Data columns (total 15 columns):\n",
            " #   Column          Non-Null Count  Dtype  \n",
            "---  ------          --------------  -----  \n",
            " 0   title           843 non-null    object \n",
            " 1   distributor     843 non-null    object \n",
            " 2   genre           843 non-null    object \n",
            " 3   time            843 non-null    int64  \n",
            " 4   screening_rat   843 non-null    object \n",
            " 5   director        843 non-null    object \n",
            " 6   dir_prev_bfnum  843 non-null    float64\n",
            " 7   dir_prev_num    843 non-null    int64  \n",
            " 8   num_staff       843 non-null    int64  \n",
            " 9   num_actor       843 non-null    int64  \n",
            " 10  box_off_num     600 non-null    float64\n",
            " 11  from            843 non-null    object \n",
            " 12  year            843 non-null    int64  \n",
            " 13  month           843 non-null    int64  \n",
            " 14  holiday         843 non-null    bool   \n",
            "dtypes: bool(1), float64(2), int64(6), object(6)\n",
            "memory usage: 99.6+ KB\n"
          ]
        }
      ]
    },
    {
      "cell_type": "markdown",
      "source": [
        "## | EDA\n",
        "---\n",
        "+ title : 영화의 제목\n",
        "+ distributor : 배급사\n",
        "+ genre : 장르\n",
        "+ time : 상영시간(분)\n",
        "+ screening_rat : 상영등급\n",
        "+ director : 감독이름\n",
        "+ dir_prev_bfnum : 해당 감독이 이 영화를 만들기 전 제작에 참여한 영화에서의 평균 관객수(단 관객수가 알려지지 않은 영화 제외)\n",
        "+ dir_prev_num : 해당 감독이 이 영화를 만들기 전 제작에 참여한 영화의 개수(단 관객수가 알려지지 않은 영화 제외)\n",
        "+ num_staff : 스텝수\n",
        "+ num_actor : 주연배우수\n",
        "+ box_off_num : 관객수 (target)\n",
        "+ from : train, test 구분\n",
        "+ year : 개봉 년도\n",
        "+ month : 개봉 월\n",
        "+ holiday : 개봉일이 공휴일이였는지 여부 (1: yes, 0: no)\n",
        "\n",
        "1. `dir_prev_bfnum`와 `dir_prev_num` 간 상관관계\n",
        "2. `release_time` 관련해서 새로 만든 변수 `box_off_num` 상관 있는지\n"
      ],
      "metadata": {
        "id": "W3M8S3eJsh2E"
      }
    },
    {
      "cell_type": "code",
      "source": [
        "total.head()"
      ],
      "metadata": {
        "colab": {
          "base_uri": "https://localhost:8080/",
          "height": 392
        },
        "id": "6UhOKyrBsK_S",
        "outputId": "ef5e2048-68c6-45c2-cf08-923f852643f8"
      },
      "execution_count": 19,
      "outputs": [
        {
          "output_type": "execute_result",
          "data": {
            "text/plain": [
              "       title distributor genre  time screening_rat director  dir_prev_bfnum  \\\n",
              "0     개들의 전쟁          롯데    액션    96      청소년 관람불가      조병옥            0.00   \n",
              "1       내부자들         쇼박스   느와르   130      청소년 관람불가      우민호      1161602.50   \n",
              "2  은밀하게 위대하게         쇼박스    액션   123       15세 관람가      장철수       220775.25   \n",
              "3   나는 공무원이다         NEW   코미디   101        전체 관람가      구자홍        23894.00   \n",
              "4       불량남녀         쇼박스   코미디   108       15세 관람가      신근호            1.00   \n",
              "\n",
              "   dir_prev_num  num_staff  num_actor  box_off_num   from  year  month  \\\n",
              "0             0         91          2      23398.0  train  2012     11   \n",
              "1             2        387          3    7072501.0  train  2015     11   \n",
              "2             4        343          4    6959083.0  train  2013      6   \n",
              "3             2         20          6     217866.0  train  2012      7   \n",
              "4             1        251          2     483387.0  train  2010     11   \n",
              "\n",
              "   holiday  \n",
              "0    False  \n",
              "1    False  \n",
              "2    False  \n",
              "3    False  \n",
              "4    False  "
            ],
            "text/html": [
              "\n",
              "  <div id=\"df-738502e5-0765-466a-9381-423aad747d09\">\n",
              "    <div class=\"colab-df-container\">\n",
              "      <div>\n",
              "<style scoped>\n",
              "    .dataframe tbody tr th:only-of-type {\n",
              "        vertical-align: middle;\n",
              "    }\n",
              "\n",
              "    .dataframe tbody tr th {\n",
              "        vertical-align: top;\n",
              "    }\n",
              "\n",
              "    .dataframe thead th {\n",
              "        text-align: right;\n",
              "    }\n",
              "</style>\n",
              "<table border=\"1\" class=\"dataframe\">\n",
              "  <thead>\n",
              "    <tr style=\"text-align: right;\">\n",
              "      <th></th>\n",
              "      <th>title</th>\n",
              "      <th>distributor</th>\n",
              "      <th>genre</th>\n",
              "      <th>time</th>\n",
              "      <th>screening_rat</th>\n",
              "      <th>director</th>\n",
              "      <th>dir_prev_bfnum</th>\n",
              "      <th>dir_prev_num</th>\n",
              "      <th>num_staff</th>\n",
              "      <th>num_actor</th>\n",
              "      <th>box_off_num</th>\n",
              "      <th>from</th>\n",
              "      <th>year</th>\n",
              "      <th>month</th>\n",
              "      <th>holiday</th>\n",
              "    </tr>\n",
              "  </thead>\n",
              "  <tbody>\n",
              "    <tr>\n",
              "      <th>0</th>\n",
              "      <td>개들의 전쟁</td>\n",
              "      <td>롯데</td>\n",
              "      <td>액션</td>\n",
              "      <td>96</td>\n",
              "      <td>청소년 관람불가</td>\n",
              "      <td>조병옥</td>\n",
              "      <td>0.00</td>\n",
              "      <td>0</td>\n",
              "      <td>91</td>\n",
              "      <td>2</td>\n",
              "      <td>23398.0</td>\n",
              "      <td>train</td>\n",
              "      <td>2012</td>\n",
              "      <td>11</td>\n",
              "      <td>False</td>\n",
              "    </tr>\n",
              "    <tr>\n",
              "      <th>1</th>\n",
              "      <td>내부자들</td>\n",
              "      <td>쇼박스</td>\n",
              "      <td>느와르</td>\n",
              "      <td>130</td>\n",
              "      <td>청소년 관람불가</td>\n",
              "      <td>우민호</td>\n",
              "      <td>1161602.50</td>\n",
              "      <td>2</td>\n",
              "      <td>387</td>\n",
              "      <td>3</td>\n",
              "      <td>7072501.0</td>\n",
              "      <td>train</td>\n",
              "      <td>2015</td>\n",
              "      <td>11</td>\n",
              "      <td>False</td>\n",
              "    </tr>\n",
              "    <tr>\n",
              "      <th>2</th>\n",
              "      <td>은밀하게 위대하게</td>\n",
              "      <td>쇼박스</td>\n",
              "      <td>액션</td>\n",
              "      <td>123</td>\n",
              "      <td>15세 관람가</td>\n",
              "      <td>장철수</td>\n",
              "      <td>220775.25</td>\n",
              "      <td>4</td>\n",
              "      <td>343</td>\n",
              "      <td>4</td>\n",
              "      <td>6959083.0</td>\n",
              "      <td>train</td>\n",
              "      <td>2013</td>\n",
              "      <td>6</td>\n",
              "      <td>False</td>\n",
              "    </tr>\n",
              "    <tr>\n",
              "      <th>3</th>\n",
              "      <td>나는 공무원이다</td>\n",
              "      <td>NEW</td>\n",
              "      <td>코미디</td>\n",
              "      <td>101</td>\n",
              "      <td>전체 관람가</td>\n",
              "      <td>구자홍</td>\n",
              "      <td>23894.00</td>\n",
              "      <td>2</td>\n",
              "      <td>20</td>\n",
              "      <td>6</td>\n",
              "      <td>217866.0</td>\n",
              "      <td>train</td>\n",
              "      <td>2012</td>\n",
              "      <td>7</td>\n",
              "      <td>False</td>\n",
              "    </tr>\n",
              "    <tr>\n",
              "      <th>4</th>\n",
              "      <td>불량남녀</td>\n",
              "      <td>쇼박스</td>\n",
              "      <td>코미디</td>\n",
              "      <td>108</td>\n",
              "      <td>15세 관람가</td>\n",
              "      <td>신근호</td>\n",
              "      <td>1.00</td>\n",
              "      <td>1</td>\n",
              "      <td>251</td>\n",
              "      <td>2</td>\n",
              "      <td>483387.0</td>\n",
              "      <td>train</td>\n",
              "      <td>2010</td>\n",
              "      <td>11</td>\n",
              "      <td>False</td>\n",
              "    </tr>\n",
              "  </tbody>\n",
              "</table>\n",
              "</div>\n",
              "      <button class=\"colab-df-convert\" onclick=\"convertToInteractive('df-738502e5-0765-466a-9381-423aad747d09')\"\n",
              "              title=\"Convert this dataframe to an interactive table.\"\n",
              "              style=\"display:none;\">\n",
              "        \n",
              "  <svg xmlns=\"http://www.w3.org/2000/svg\" height=\"24px\"viewBox=\"0 0 24 24\"\n",
              "       width=\"24px\">\n",
              "    <path d=\"M0 0h24v24H0V0z\" fill=\"none\"/>\n",
              "    <path d=\"M18.56 5.44l.94 2.06.94-2.06 2.06-.94-2.06-.94-.94-2.06-.94 2.06-2.06.94zm-11 1L8.5 8.5l.94-2.06 2.06-.94-2.06-.94L8.5 2.5l-.94 2.06-2.06.94zm10 10l.94 2.06.94-2.06 2.06-.94-2.06-.94-.94-2.06-.94 2.06-2.06.94z\"/><path d=\"M17.41 7.96l-1.37-1.37c-.4-.4-.92-.59-1.43-.59-.52 0-1.04.2-1.43.59L10.3 9.45l-7.72 7.72c-.78.78-.78 2.05 0 2.83L4 21.41c.39.39.9.59 1.41.59.51 0 1.02-.2 1.41-.59l7.78-7.78 2.81-2.81c.8-.78.8-2.07 0-2.86zM5.41 20L4 18.59l7.72-7.72 1.47 1.35L5.41 20z\"/>\n",
              "  </svg>\n",
              "      </button>\n",
              "      \n",
              "  <style>\n",
              "    .colab-df-container {\n",
              "      display:flex;\n",
              "      flex-wrap:wrap;\n",
              "      gap: 12px;\n",
              "    }\n",
              "\n",
              "    .colab-df-convert {\n",
              "      background-color: #E8F0FE;\n",
              "      border: none;\n",
              "      border-radius: 50%;\n",
              "      cursor: pointer;\n",
              "      display: none;\n",
              "      fill: #1967D2;\n",
              "      height: 32px;\n",
              "      padding: 0 0 0 0;\n",
              "      width: 32px;\n",
              "    }\n",
              "\n",
              "    .colab-df-convert:hover {\n",
              "      background-color: #E2EBFA;\n",
              "      box-shadow: 0px 1px 2px rgba(60, 64, 67, 0.3), 0px 1px 3px 1px rgba(60, 64, 67, 0.15);\n",
              "      fill: #174EA6;\n",
              "    }\n",
              "\n",
              "    [theme=dark] .colab-df-convert {\n",
              "      background-color: #3B4455;\n",
              "      fill: #D2E3FC;\n",
              "    }\n",
              "\n",
              "    [theme=dark] .colab-df-convert:hover {\n",
              "      background-color: #434B5C;\n",
              "      box-shadow: 0px 1px 3px 1px rgba(0, 0, 0, 0.15);\n",
              "      filter: drop-shadow(0px 1px 2px rgba(0, 0, 0, 0.3));\n",
              "      fill: #FFFFFF;\n",
              "    }\n",
              "  </style>\n",
              "\n",
              "      <script>\n",
              "        const buttonEl =\n",
              "          document.querySelector('#df-738502e5-0765-466a-9381-423aad747d09 button.colab-df-convert');\n",
              "        buttonEl.style.display =\n",
              "          google.colab.kernel.accessAllowed ? 'block' : 'none';\n",
              "\n",
              "        async function convertToInteractive(key) {\n",
              "          const element = document.querySelector('#df-738502e5-0765-466a-9381-423aad747d09');\n",
              "          const dataTable =\n",
              "            await google.colab.kernel.invokeFunction('convertToInteractive',\n",
              "                                                     [key], {});\n",
              "          if (!dataTable) return;\n",
              "\n",
              "          const docLinkHtml = 'Like what you see? Visit the ' +\n",
              "            '<a target=\"_blank\" href=https://colab.research.google.com/notebooks/data_table.ipynb>data table notebook</a>'\n",
              "            + ' to learn more about interactive tables.';\n",
              "          element.innerHTML = '';\n",
              "          dataTable['output_type'] = 'display_data';\n",
              "          await google.colab.output.renderOutput(dataTable, element);\n",
              "          const docLink = document.createElement('div');\n",
              "          docLink.innerHTML = docLinkHtml;\n",
              "          element.appendChild(docLink);\n",
              "        }\n",
              "      </script>\n",
              "    </div>\n",
              "  </div>\n",
              "  "
            ]
          },
          "metadata": {},
          "execution_count": 19
        }
      ]
    },
    {
      "cell_type": "markdown",
      "source": [
        "## 1. 숫자형 변수\n",
        "+ time : 상영시간(분)\n",
        "+ dir_prev_bfnum : 해당 감독이 이 영화를 만들기 전 제작에 참여한 영화에서의 평균 관객수(단 관객수가 알려지지 않은 영화 제외)\n",
        "+ dir_prev_num : 해당 감독이 이 영화를 만들기 전 제작에 참여한 영화의 개수(단 관객수가 알려지지 않은 영화 제외)\n",
        "+ num_staff : 스텝수\n",
        "+ num_actor : 주연배우수\n",
        "\n",
        "+ box_off_num : 관객수 (target)\n"
      ],
      "metadata": {
        "id": "-CxRMWByDW1P"
      }
    },
    {
      "cell_type": "markdown",
      "source": [
        "#### 1) time"
      ],
      "metadata": {
        "id": "JfNWie8LJjzb"
      }
    },
    {
      "cell_type": "code",
      "source": [
        "sns.histplot(total['time'])"
      ],
      "metadata": {
        "colab": {
          "base_uri": "https://localhost:8080/",
          "height": 297
        },
        "id": "MCMd68wQEphb",
        "outputId": "2a026d9a-7a2c-48b3-ae83-a08b4a162734"
      },
      "execution_count": 30,
      "outputs": [
        {
          "output_type": "execute_result",
          "data": {
            "text/plain": [
              "<matplotlib.axes._subplots.AxesSubplot at 0x7f20cf13b790>"
            ]
          },
          "metadata": {},
          "execution_count": 30
        },
        {
          "output_type": "display_data",
          "data": {
            "text/plain": [
              "<Figure size 432x288 with 1 Axes>"
            ],
            "image/png": "[encoded data removed]"
          },
          "metadata": {
            "needs_background": "light"
          }
        }
      ]
    },
    {
      "cell_type": "markdown",
      "source": [
        "+ 이상치 있음\n",
        "+ time변수 skewed "
      ],
      "metadata": {
        "id": "qjkgg4r9F0Oy"
      }
    },
    {
      "cell_type": "code",
      "source": [
        "total['time'].sort_values(ascending=False)"
      ],
      "metadata": {
        "colab": {
          "base_uri": "https://localhost:8080/"
        },
        "id": "ItD90LDoH-4y",
        "outputId": "969e74d6-fdec-40e9-e7db-2ed5922a8307"
      },
      "execution_count": 33,
      "outputs": [
        {
          "output_type": "execute_result",
          "data": {
            "text/plain": [
              "224    2015\n",
              "33      198\n",
              "377     180\n",
              "438     166\n",
              "209     163\n",
              "       ... \n",
              "319      60\n",
              "201      60\n",
              "130      50\n",
              "545      45\n",
              "140      40\n",
              "Name: time, Length: 843, dtype: int64"
            ]
          },
          "metadata": {},
          "execution_count": 33
        }
      ]
    },
    {
      "cell_type": "code",
      "source": [
        "# 데이터 한 값이 너무 큼\n",
        "total[total['time']==2015]"
      ],
      "metadata": {
        "colab": {
          "base_uri": "https://localhost:8080/",
          "height": 179
        },
        "id": "hIZ2KDqIIH3W",
        "outputId": "17b435a5-092a-457f-dd60-f2cbc390864b"
      },
      "execution_count": 34,
      "outputs": [
        {
          "output_type": "execute_result",
          "data": {
            "text/plain": [
              "        title    distributor  genre  time screening_rat director  \\\n",
              "224  슈퍼레이서 엔지  (주)에이원 엔터테인먼트  애니메이션  2015        전체 관람가       허선   \n",
              "\n",
              "     dir_prev_bfnum  dir_prev_num  num_staff  num_actor  box_off_num  from  \\\n",
              "224             0.0             0          4          5          NaN  test   \n",
              "\n",
              "     year  month  holiday  \n",
              "224  2015      9    False  "
            ],
            "text/html": [
              "\n",
              "  <div id=\"df-d1d95bb9-b8ba-463c-8659-a78699b4d9df\">\n",
              "    <div class=\"colab-df-container\">\n",
              "      <div>\n",
              "<style scoped>\n",
              "    .dataframe tbody tr th:only-of-type {\n",
              "        vertical-align: middle;\n",
              "    }\n",
              "\n",
              "    .dataframe tbody tr th {\n",
              "        vertical-align: top;\n",
              "    }\n",
              "\n",
              "    .dataframe thead th {\n",
              "        text-align: right;\n",
              "    }\n",
              "</style>\n",
              "<table border=\"1\" class=\"dataframe\">\n",
              "  <thead>\n",
              "    <tr style=\"text-align: right;\">\n",
              "      <th></th>\n",
              "      <th>title</th>\n",
              "      <th>distributor</th>\n",
              "      <th>genre</th>\n",
              "      <th>time</th>\n",
              "      <th>screening_rat</th>\n",
              "      <th>director</th>\n",
              "      <th>dir_prev_bfnum</th>\n",
              "      <th>dir_prev_num</th>\n",
              "      <th>num_staff</th>\n",
              "      <th>num_actor</th>\n",
              "      <th>box_off_num</th>\n",
              "      <th>from</th>\n",
              "      <th>year</th>\n",
              "      <th>month</th>\n",
              "      <th>holiday</th>\n",
              "    </tr>\n",
              "  </thead>\n",
              "  <tbody>\n",
              "    <tr>\n",
              "      <th>224</th>\n",
              "      <td>슈퍼레이서 엔지</td>\n",
              "      <td>(주)에이원 엔터테인먼트</td>\n",
              "      <td>애니메이션</td>\n",
              "      <td>2015</td>\n",
              "      <td>전체 관람가</td>\n",
              "      <td>허선</td>\n",
              "      <td>0.0</td>\n",
              "      <td>0</td>\n",
              "      <td>4</td>\n",
              "      <td>5</td>\n",
              "      <td>NaN</td>\n",
              "      <td>test</td>\n",
              "      <td>2015</td>\n",
              "      <td>9</td>\n",
              "      <td>False</td>\n",
              "    </tr>\n",
              "  </tbody>\n",
              "</table>\n",
              "</div>\n",
              "      <button class=\"colab-df-convert\" onclick=\"convertToInteractive('df-d1d95bb9-b8ba-463c-8659-a78699b4d9df')\"\n",
              "              title=\"Convert this dataframe to an interactive table.\"\n",
              "              style=\"display:none;\">\n",
              "        \n",
              "  <svg xmlns=\"http://www.w3.org/2000/svg\" height=\"24px\"viewBox=\"0 0 24 24\"\n",
              "       width=\"24px\">\n",
              "    <path d=\"M0 0h24v24H0V0z\" fill=\"none\"/>\n",
              "    <path d=\"M18.56 5.44l.94 2.06.94-2.06 2.06-.94-2.06-.94-.94-2.06-.94 2.06-2.06.94zm-11 1L8.5 8.5l.94-2.06 2.06-.94-2.06-.94L8.5 2.5l-.94 2.06-2.06.94zm10 10l.94 2.06.94-2.06 2.06-.94-2.06-.94-.94-2.06-.94 2.06-2.06.94z\"/><path d=\"M17.41 7.96l-1.37-1.37c-.4-.4-.92-.59-1.43-.59-.52 0-1.04.2-1.43.59L10.3 9.45l-7.72 7.72c-.78.78-.78 2.05 0 2.83L4 21.41c.39.39.9.59 1.41.59.51 0 1.02-.2 1.41-.59l7.78-7.78 2.81-2.81c.8-.78.8-2.07 0-2.86zM5.41 20L4 18.59l7.72-7.72 1.47 1.35L5.41 20z\"/>\n",
              "  </svg>\n",
              "      </button>\n",
              "      \n",
              "  <style>\n",
              "    .colab-df-container {\n",
              "      display:flex;\n",
              "      flex-wrap:wrap;\n",
              "      gap: 12px;\n",
              "    }\n",
              "\n",
              "    .colab-df-convert {\n",
              "      background-color: #E8F0FE;\n",
              "      border: none;\n",
              "      border-radius: 50%;\n",
              "      cursor: pointer;\n",
              "      display: none;\n",
              "      fill: #1967D2;\n",
              "      height: 32px;\n",
              "      padding: 0 0 0 0;\n",
              "      width: 32px;\n",
              "    }\n",
              "\n",
              "    .colab-df-convert:hover {\n",
              "      background-color: #E2EBFA;\n",
              "      box-shadow: 0px 1px 2px rgba(60, 64, 67, 0.3), 0px 1px 3px 1px rgba(60, 64, 67, 0.15);\n",
              "      fill: #174EA6;\n",
              "    }\n",
              "\n",
              "    [theme=dark] .colab-df-convert {\n",
              "      background-color: #3B4455;\n",
              "      fill: #D2E3FC;\n",
              "    }\n",
              "\n",
              "    [theme=dark] .colab-df-convert:hover {\n",
              "      background-color: #434B5C;\n",
              "      box-shadow: 0px 1px 3px 1px rgba(0, 0, 0, 0.15);\n",
              "      filter: drop-shadow(0px 1px 2px rgba(0, 0, 0, 0.3));\n",
              "      fill: #FFFFFF;\n",
              "    }\n",
              "  </style>\n",
              "\n",
              "      <script>\n",
              "        const buttonEl =\n",
              "          document.querySelector('#df-d1d95bb9-b8ba-463c-8659-a78699b4d9df button.colab-df-convert');\n",
              "        buttonEl.style.display =\n",
              "          google.colab.kernel.accessAllowed ? 'block' : 'none';\n",
              "\n",
              "        async function convertToInteractive(key) {\n",
              "          const element = document.querySelector('#df-d1d95bb9-b8ba-463c-8659-a78699b4d9df');\n",
              "          const dataTable =\n",
              "            await google.colab.kernel.invokeFunction('convertToInteractive',\n",
              "                                                     [key], {});\n",
              "          if (!dataTable) return;\n",
              "\n",
              "          const docLinkHtml = 'Like what you see? Visit the ' +\n",
              "            '<a target=\"_blank\" href=https://colab.research.google.com/notebooks/data_table.ipynb>data table notebook</a>'\n",
              "            + ' to learn more about interactive tables.';\n",
              "          element.innerHTML = '';\n",
              "          dataTable['output_type'] = 'display_data';\n",
              "          await google.colab.output.renderOutput(dataTable, element);\n",
              "          const docLink = document.createElement('div');\n",
              "          docLink.innerHTML = docLinkHtml;\n",
              "          element.appendChild(docLink);\n",
              "        }\n",
              "      </script>\n",
              "    </div>\n",
              "  </div>\n",
              "  "
            ]
          },
          "metadata": {},
          "execution_count": 34
        }
      ]
    },
    {
      "cell_type": "markdown",
      "source": [
        "+ 영화 '슈퍼레이서 엔지'의 경우 2015년 개봉, 1시간 3분 런닝 타임으로 데이터 잘못 입력됨을 확인 -> `time = 63`으로 고쳐"
      ],
      "metadata": {
        "id": "xv-pwO_JIZu9"
      }
    },
    {
      "cell_type": "code",
      "source": [
        "# 이상치 셀 값 바꾸기\n",
        "total.loc[total['time']==2015, 'time'] = 63"
      ],
      "metadata": {
        "id": "3g1He9bCIgus"
      },
      "execution_count": 39,
      "outputs": []
    },
    {
      "cell_type": "code",
      "source": [
        "total[total['title']=='슈퍼레이서 엔지']"
      ],
      "metadata": {
        "colab": {
          "base_uri": "https://localhost:8080/",
          "height": 179
        },
        "id": "rKGyiWIUJDAI",
        "outputId": "61f9b191-7eec-4f33-aee5-fd445110bb37"
      },
      "execution_count": 40,
      "outputs": [
        {
          "output_type": "execute_result",
          "data": {
            "text/plain": [
              "        title    distributor  genre  time screening_rat director  \\\n",
              "224  슈퍼레이서 엔지  (주)에이원 엔터테인먼트  애니메이션    63        전체 관람가       허선   \n",
              "\n",
              "     dir_prev_bfnum  dir_prev_num  num_staff  num_actor  box_off_num  from  \\\n",
              "224             0.0             0          4          5          NaN  test   \n",
              "\n",
              "     year  month  holiday  \n",
              "224  2015      9    False  "
            ],
            "text/html": [
              "\n",
              "  <div id=\"df-ef1c15ab-9aa5-45e5-bc50-362aa5c62d30\">\n",
              "    <div class=\"colab-df-container\">\n",
              "      <div>\n",
              "<style scoped>\n",
              "    .dataframe tbody tr th:only-of-type {\n",
              "        vertical-align: middle;\n",
              "    }\n",
              "\n",
              "    .dataframe tbody tr th {\n",
              "        vertical-align: top;\n",
              "    }\n",
              "\n",
              "    .dataframe thead th {\n",
              "        text-align: right;\n",
              "    }\n",
              "</style>\n",
              "<table border=\"1\" class=\"dataframe\">\n",
              "  <thead>\n",
              "    <tr style=\"text-align: right;\">\n",
              "      <th></th>\n",
              "      <th>title</th>\n",
              "      <th>distributor</th>\n",
              "      <th>genre</th>\n",
              "      <th>time</th>\n",
              "      <th>screening_rat</th>\n",
              "      <th>director</th>\n",
              "      <th>dir_prev_bfnum</th>\n",
              "      <th>dir_prev_num</th>\n",
              "      <th>num_staff</th>\n",
              "      <th>num_actor</th>\n",
              "      <th>box_off_num</th>\n",
              "      <th>from</th>\n",
              "      <th>year</th>\n",
              "      <th>month</th>\n",
              "      <th>holiday</th>\n",
              "    </tr>\n",
              "  </thead>\n",
              "  <tbody>\n",
              "    <tr>\n",
              "      <th>224</th>\n",
              "      <td>슈퍼레이서 엔지</td>\n",
              "      <td>(주)에이원 엔터테인먼트</td>\n",
              "      <td>애니메이션</td>\n",
              "      <td>63</td>\n",
              "      <td>전체 관람가</td>\n",
              "      <td>허선</td>\n",
              "      <td>0.0</td>\n",
              "      <td>0</td>\n",
              "      <td>4</td>\n",
              "      <td>5</td>\n",
              "      <td>NaN</td>\n",
              "      <td>test</td>\n",
              "      <td>2015</td>\n",
              "      <td>9</td>\n",
              "      <td>False</td>\n",
              "    </tr>\n",
              "  </tbody>\n",
              "</table>\n",
              "</div>\n",
              "      <button class=\"colab-df-convert\" onclick=\"convertToInteractive('df-ef1c15ab-9aa5-45e5-bc50-362aa5c62d30')\"\n",
              "              title=\"Convert this dataframe to an interactive table.\"\n",
              "              style=\"display:none;\">\n",
              "        \n",
              "  <svg xmlns=\"http://www.w3.org/2000/svg\" height=\"24px\"viewBox=\"0 0 24 24\"\n",
              "       width=\"24px\">\n",
              "    <path d=\"M0 0h24v24H0V0z\" fill=\"none\"/>\n",
              "    <path d=\"M18.56 5.44l.94 2.06.94-2.06 2.06-.94-2.06-.94-.94-2.06-.94 2.06-2.06.94zm-11 1L8.5 8.5l.94-2.06 2.06-.94-2.06-.94L8.5 2.5l-.94 2.06-2.06.94zm10 10l.94 2.06.94-2.06 2.06-.94-2.06-.94-.94-2.06-.94 2.06-2.06.94z\"/><path d=\"M17.41 7.96l-1.37-1.37c-.4-.4-.92-.59-1.43-.59-.52 0-1.04.2-1.43.59L10.3 9.45l-7.72 7.72c-.78.78-.78 2.05 0 2.83L4 21.41c.39.39.9.59 1.41.59.51 0 1.02-.2 1.41-.59l7.78-7.78 2.81-2.81c.8-.78.8-2.07 0-2.86zM5.41 20L4 18.59l7.72-7.72 1.47 1.35L5.41 20z\"/>\n",
              "  </svg>\n",
              "      </button>\n",
              "      \n",
              "  <style>\n",
              "    .colab-df-container {\n",
              "      display:flex;\n",
              "      flex-wrap:wrap;\n",
              "      gap: 12px;\n",
              "    }\n",
              "\n",
              "    .colab-df-convert {\n",
              "      background-color: #E8F0FE;\n",
              "      border: none;\n",
              "      border-radius: 50%;\n",
              "      cursor: pointer;\n",
              "      display: none;\n",
              "      fill: #1967D2;\n",
              "      height: 32px;\n",
              "      padding: 0 0 0 0;\n",
              "      width: 32px;\n",
              "    }\n",
              "\n",
              "    .colab-df-convert:hover {\n",
              "      background-color: #E2EBFA;\n",
              "      box-shadow: 0px 1px 2px rgba(60, 64, 67, 0.3), 0px 1px 3px 1px rgba(60, 64, 67, 0.15);\n",
              "      fill: #174EA6;\n",
              "    }\n",
              "\n",
              "    [theme=dark] .colab-df-convert {\n",
              "      background-color: #3B4455;\n",
              "      fill: #D2E3FC;\n",
              "    }\n",
              "\n",
              "    [theme=dark] .colab-df-convert:hover {\n",
              "      background-color: #434B5C;\n",
              "      box-shadow: 0px 1px 3px 1px rgba(0, 0, 0, 0.15);\n",
              "      filter: drop-shadow(0px 1px 2px rgba(0, 0, 0, 0.3));\n",
              "      fill: #FFFFFF;\n",
              "    }\n",
              "  </style>\n",
              "\n",
              "      <script>\n",
              "        const buttonEl =\n",
              "          document.querySelector('#df-ef1c15ab-9aa5-45e5-bc50-362aa5c62d30 button.colab-df-convert');\n",
              "        buttonEl.style.display =\n",
              "          google.colab.kernel.accessAllowed ? 'block' : 'none';\n",
              "\n",
              "        async function convertToInteractive(key) {\n",
              "          const element = document.querySelector('#df-ef1c15ab-9aa5-45e5-bc50-362aa5c62d30');\n",
              "          const dataTable =\n",
              "            await google.colab.kernel.invokeFunction('convertToInteractive',\n",
              "                                                     [key], {});\n",
              "          if (!dataTable) return;\n",
              "\n",
              "          const docLinkHtml = 'Like what you see? Visit the ' +\n",
              "            '<a target=\"_blank\" href=https://colab.research.google.com/notebooks/data_table.ipynb>data table notebook</a>'\n",
              "            + ' to learn more about interactive tables.';\n",
              "          element.innerHTML = '';\n",
              "          dataTable['output_type'] = 'display_data';\n",
              "          await google.colab.output.renderOutput(dataTable, element);\n",
              "          const docLink = document.createElement('div');\n",
              "          docLink.innerHTML = docLinkHtml;\n",
              "          element.appendChild(docLink);\n",
              "        }\n",
              "      </script>\n",
              "    </div>\n",
              "  </div>\n",
              "  "
            ]
          },
          "metadata": {},
          "execution_count": 40
        }
      ]
    },
    {
      "cell_type": "code",
      "source": [
        "sns.histplot(total['time'])"
      ],
      "metadata": {
        "colab": {
          "base_uri": "https://localhost:8080/",
          "height": 297
        },
        "id": "RNjvzLRmJsf3",
        "outputId": "82a1baa1-5424-4aa3-9ec9-1a99a01d5eba"
      },
      "execution_count": 41,
      "outputs": [
        {
          "output_type": "execute_result",
          "data": {
            "text/plain": [
              "<matplotlib.axes._subplots.AxesSubplot at 0x7f20ce8a6df0>"
            ]
          },
          "metadata": {},
          "execution_count": 41
        },
        {
          "output_type": "display_data",
          "data": {
            "text/plain": [
              "<Figure size 432x288 with 1 Axes>"
            ],
            "image/png": "[encoded data removed]"
          },
          "metadata": {
            "needs_background": "light"
          }
        }
      ]
    },
    {
      "cell_type": "markdown",
      "source": [
        "+ time --> 정규화"
      ],
      "metadata": {
        "id": "KuNk8YknKGWz"
      }
    },
    {
      "cell_type": "markdown",
      "source": [
        "#### 2) dir_prev_bfnum"
      ],
      "metadata": {
        "id": "S5_ZkPywJnAg"
      }
    },
    {
      "cell_type": "code",
      "source": [
        "sns.histplot(total['dir_prev_bfnum'])"
      ],
      "metadata": {
        "colab": {
          "base_uri": "https://localhost:8080/",
          "height": 298
        },
        "id": "iX1Xvf8-EnMU",
        "outputId": "2de563dc-beb1-45af-d396-fcebbf958c5d"
      },
      "execution_count": 29,
      "outputs": [
        {
          "output_type": "execute_result",
          "data": {
            "text/plain": [
              "<matplotlib.axes._subplots.AxesSubplot at 0x7f20cf0ddaf0>"
            ]
          },
          "metadata": {},
          "execution_count": 29
        },
        {
          "output_type": "display_data",
          "data": {
            "text/plain": [
              "<Figure size 432x288 with 1 Axes>"
            ],
            "image/png": "[encoded data removed]"
          },
          "metadata": {
            "needs_background": "light"
          }
        }
      ]
    },
    {
      "cell_type": "code",
      "source": [
        "total['dir_prev_bfnum'].sort_values(ascending=False)"
      ],
      "metadata": {
        "colab": {
          "base_uri": "https://localhost:8080/"
        },
        "id": "HLXo9_dpLDuo",
        "outputId": "5853cd84-0e79-4579-aa4a-b37a0e5fd043"
      },
      "execution_count": 42,
      "outputs": [
        {
          "output_type": "execute_result",
          "data": {
            "text/plain": [
              "338    17615314.0\n",
              "214     8801639.0\n",
              "16      8223342.0\n",
              "118     7855474.0\n",
              "409     7838528.5\n",
              "          ...    \n",
              "364           0.0\n",
              "365           0.0\n",
              "366           0.0\n",
              "368           0.0\n",
              "242           0.0\n",
              "Name: dir_prev_bfnum, Length: 843, dtype: float64"
            ]
          },
          "metadata": {},
          "execution_count": 42
        }
      ]
    },
    {
      "cell_type": "markdown",
      "source": [
        "+ dir_prev_bfnum 변수 skewed -> log 변환"
      ],
      "metadata": {
        "id": "JbLwapw7F7nG"
      }
    },
    {
      "cell_type": "markdown",
      "source": [
        "#### 3) dir_prev_num "
      ],
      "metadata": {
        "id": "FIkAzO8qLMF1"
      }
    },
    {
      "cell_type": "code",
      "source": [
        "sns.histplot(total['dir_prev_num'])"
      ],
      "metadata": {
        "colab": {
          "base_uri": "https://localhost:8080/",
          "height": 298
        },
        "id": "ePd9OkxEEk0a",
        "outputId": "2fdecfb0-5056-4211-9c83-7d67d8c71a19"
      },
      "execution_count": 28,
      "outputs": [
        {
          "output_type": "execute_result",
          "data": {
            "text/plain": [
              "<matplotlib.axes._subplots.AxesSubplot at 0x7f20cf14c940>"
            ]
          },
          "metadata": {},
          "execution_count": 28
        },
        {
          "output_type": "display_data",
          "data": {
            "text/plain": [
              "<Figure size 432x288 with 1 Axes>"
            ],
            "image/png": "[encoded data removed]"
          },
          "metadata": {
            "needs_background": "light"
          }
        }
      ]
    },
    {
      "cell_type": "markdown",
      "source": [
        "+ equal constant length 1\n",
        "+ scaling 고민... -> Min-Max scaler"
      ],
      "metadata": {
        "id": "l4Hv-DJoMbwA"
      }
    },
    {
      "cell_type": "markdown",
      "source": [
        "#### 4) num_staff"
      ],
      "metadata": {
        "id": "gqO8wvTEMnJ2"
      }
    },
    {
      "cell_type": "code",
      "source": [
        "sns.histplot(total['num_staff'])"
      ],
      "metadata": {
        "colab": {
          "base_uri": "https://localhost:8080/",
          "height": 299
        },
        "id": "ZeiAY8sPDWMW",
        "outputId": "d00a9907-c2dd-4927-9f51-984d3a56196d"
      },
      "execution_count": 27,
      "outputs": [
        {
          "output_type": "execute_result",
          "data": {
            "text/plain": [
              "<matplotlib.axes._subplots.AxesSubplot at 0x7f20cf1e4e80>"
            ]
          },
          "metadata": {},
          "execution_count": 27
        },
        {
          "output_type": "display_data",
          "data": {
            "text/plain": [
              "<Figure size 432x288 with 1 Axes>"
            ],
            "image/png": "[encoded data removed]"
          },
          "metadata": {
            "needs_background": "light"
          }
        }
      ]
    },
    {
      "cell_type": "markdown",
      "source": [
        "+ num_staff 변수 skewed -> log 변환"
      ],
      "metadata": {
        "id": "AmGV-gVQHiwb"
      }
    },
    {
      "cell_type": "markdown",
      "source": [
        "#### 5) num_actor"
      ],
      "metadata": {
        "id": "ygMgaf8NMqUr"
      }
    },
    {
      "cell_type": "code",
      "source": [
        "sns.histplot(total['num_actor'])"
      ],
      "metadata": {
        "colab": {
          "base_uri": "https://localhost:8080/",
          "height": 298
        },
        "id": "vw9asiiMDAO5",
        "outputId": "9608c058-ca5a-449d-a486-3cb2e1f107fc"
      },
      "execution_count": 26,
      "outputs": [
        {
          "output_type": "execute_result",
          "data": {
            "text/plain": [
              "<matplotlib.axes._subplots.AxesSubplot at 0x7f20cf3faac0>"
            ]
          },
          "metadata": {},
          "execution_count": 26
        },
        {
          "output_type": "display_data",
          "data": {
            "text/plain": [
              "<Figure size 432x288 with 1 Axes>"
            ],
            "image/png": "[encoded data removed]"
          },
          "metadata": {
            "needs_background": "light"
          }
        }
      ]
    },
    {
      "cell_type": "markdown",
      "source": [
        "+ num_actor skewed 정도가 심하지 않으나 정규화 -> standard scaler"
      ],
      "metadata": {
        "id": "LsSW6-_DHX14"
      }
    },
    {
      "cell_type": "markdown",
      "source": [
        "6) box_off_num (target)"
      ],
      "metadata": {
        "id": "NunQyZL1M0L1"
      }
    },
    {
      "cell_type": "code",
      "source": [
        "sns.histplot(total['box_off_num'])"
      ],
      "metadata": {
        "colab": {
          "base_uri": "https://localhost:8080/",
          "height": 298
        },
        "id": "Olne5xoiExK-",
        "outputId": "3b8f4acc-7f69-4635-f522-753514900978"
      },
      "execution_count": 31,
      "outputs": [
        {
          "output_type": "execute_result",
          "data": {
            "text/plain": [
              "<matplotlib.axes._subplots.AxesSubplot at 0x7f20cea5d430>"
            ]
          },
          "metadata": {},
          "execution_count": 31
        },
        {
          "output_type": "display_data",
          "data": {
            "text/plain": [
              "<Figure size 432x288 with 1 Axes>"
            ],
            "image/png": "[encoded data removed]"
          },
          "metadata": {
            "needs_background": "light"
          }
        }
      ]
    },
    {
      "cell_type": "markdown",
      "source": [
        "+ box_off_num 변수 skewed -> log 변환"
      ],
      "metadata": {
        "id": "2Nd1Z0otHBZg"
      }
    },
    {
      "cell_type": "code",
      "source": [
        "# numerical 변수 scaling\n",
        "log_col = ['box_off_num', 'num_staff', 'dir_prev_num', 'dir_prev_bfnum']\n",
        "standard_col = ['num_actor', 'time']\n",
        "minmax_col = 'dir_prev_num'\n",
        "\n",
        "# 로그 변환\n",
        "total[log_col] = np.log1p(total[log_col])\n",
        "# standardization\n",
        "from sklearn.preprocessing import StandardScaler, MinMaxScaler\n",
        "standard_scaler = StandardScaler()\n",
        "standard_scaler.fit(total[standard_col])\n",
        "total[standard_col] = standard_scaler.transform(total[standard_col])\n",
        "# min max scaling\n",
        "minmax_scaler = MinMaxScaler()\n",
        "minmax_scaler.fit(total[[minmax_col]]) # caution: single col은 series말고 dataframe으로 \n",
        "total[[minmax_col]] = minmax_scaler.transform(total[[minmax_col]])"
      ],
      "metadata": {
        "id": "B7kdc0uMHt3o"
      },
      "execution_count": 24,
      "outputs": []
    },
    {
      "cell_type": "code",
      "source": [
        "numerical = log_col + standard_col + [minmax_col]\n",
        "_ = total.hist(bins=50, figsize=(20, 18))"
      ],
      "metadata": {
        "colab": {
          "base_uri": "https://localhost:8080/",
          "height": 1000
        },
        "id": "XXEGKY6SIP4l",
        "outputId": "cf4ba250-d6b2-4cdd-ac0a-4c7bc07715d2"
      },
      "execution_count": 26,
      "outputs": [
        {
          "output_type": "display_data",
          "data": {
            "text/plain": [
              "<Figure size 1440x1296 with 9 Axes>"
            ],
            "image/png": "[encoded data removed]"
          },
          "metadata": {
            "needs_background": "light"
          }
        }
      ]
    },
    {
      "cell_type": "code",
      "source": [
        "corr = total[numerical].corr()\n",
        "plt.figure(figsize=(7,7))\n",
        "sns.heatmap(corr, fmt = '.lg')"
      ],
      "metadata": {
        "colab": {
          "base_uri": "https://localhost:8080/",
          "height": 518
        },
        "id": "HjFYH-nkKBqO",
        "outputId": "c798cedc-e702-4aab-bfca-1be3aca03be3"
      },
      "execution_count": 31,
      "outputs": [
        {
          "output_type": "execute_result",
          "data": {
            "text/plain": [
              "<matplotlib.axes._subplots.AxesSubplot at 0x7fba7f5d8bb0>"
            ]
          },
          "metadata": {},
          "execution_count": 31
        },
        {
          "output_type": "display_data",
          "data": {
            "text/plain": [
              "<Figure size 504x504 with 2 Axes>"
            ],
            "image/png": "[encoded data removed]"
          },
          "metadata": {
            "needs_background": "light"
          }
        }
      ]
    },
    {
      "cell_type": "markdown",
      "source": [
        "+ dir_prev_num & dir_prev_bfnum 높은 상관관계\n",
        "+ box_off_num의 경우 num_staff와 time이 높은 상관관계를 가지며 num_actor과는 낮은 상관관계를 가짐\n"
      ],
      "metadata": {
        "id": "Txq8EvkgKi0e"
      }
    },
    {
      "cell_type": "markdown",
      "source": [
        "### 2. 범주형 변수\n",
        "label_encoding 혹은 one_hot_encoding?\n",
        "+ distributor : 배급사\n",
        "+ genre : 장르\n",
        "+ screening_rat : 상영등급\n",
        "+ director : 감독이름\n",
        "+ year : 개봉 년도\n",
        "+ month : 개봉 월\n",
        "+ holiday : 개봉일이 공휴일이였는지 여부 (1: yes, 0: no)\n"
      ],
      "metadata": {
        "id": "z--3wL3jDF8w"
      }
    },
    {
      "cell_type": "markdown",
      "source": [
        "#### 1) distributor"
      ],
      "metadata": {
        "id": "Q3hOK3B2OVNg"
      }
    },
    {
      "cell_type": "code",
      "source": [
        "total.distributor.unique()"
      ],
      "metadata": {
        "colab": {
          "base_uri": "https://localhost:8080/"
        },
        "id": "-FwBXpzvLRBv",
        "outputId": "d3794531-01fd-4ca0-d121-33706627ce97"
      },
      "execution_count": 33,
      "outputs": [
        {
          "output_type": "execute_result",
          "data": {
            "text/plain": [
              "array(['롯데', '쇼박스', 'NEW', '백두대간', '유니버설픽쳐스인터내셔널코리아', '(주)두타연',\n",
              "       '(주) 케이알씨지', '(주)콘텐츠 윙', '(주)키노아이', '(주)팝 파트너스', 'CJ',\n",
              "       '(주) 영화제작전원사', '리틀빅픽쳐스', '스폰지', '조이앤시네마', '인디플러그', '콘텐츠판다',\n",
              "       '인디스토리', '(주)팝엔터테인먼트', '시네마서비스', '웃기씨네', '영화사 진진', '(주)레인보우 팩토리',\n",
              "       '김기덕 필름', '동국대학교 충무로영상제작센터', 'BoXoo 엔터테인먼트', '마운틴픽쳐스', '메가박스',\n",
              "       '골든타이드픽처스', '파이오니아21', '디씨드', '드림팩트 엔터테인먼트', '시너지', '디마엔터테인먼트',\n",
              "       '판다미디어', '(주)스톰픽쳐스코리아', '(주)예지림 엔터테인먼트', '(주) 영화사조제', '보람엔터테인먼트',\n",
              "       '시네마달', '노바엔터테인먼트', '(주)패스파인더씨앤씨', '(주)대명문화공장', '(주)온비즈넷', 'KT',\n",
              "       '무비꼴라쥬', '인벤트 디', '씨네그루(주)키다리이엔티', '스튜디오후크', '나이너스엔터테인먼트(주)',\n",
              "       '더픽쳐스', '영구아트무비', '어뮤즈', '이모션 픽처스', '(주)이스트스카이필름', '필라멘트 픽쳐스',\n",
              "       '조이앤컨텐츠그룹', '타임스토리그룹', '(주)휘엔터테인먼트', '이십세기폭스코리아(주)', '(주)피터팬픽쳐스',\n",
              "       '에스와이코마드', '오퍼스픽쳐스', '(주)고앤고 필름', '사람과 사람들', '(주)JK필름',\n",
              "       '씨너스엔터테인먼트(주)', '싸이더스', '(주)프레인글로벌', '나우콘텐츠', '홀리가든', '(주) 브릿지웍스',\n",
              "       '(주)엣나인필름', '위더스필름', '(주)에이원 엔터테인먼트', 'OAL(올)', '전망좋은영화사', '스토리셋',\n",
              "       '이상우필름', '씨네굿필름', '영희야놀자', '찬란', '어썸 피플', '아방가르드 필름', '스크린조이',\n",
              "       '와이드릴리즈(주)', 'tvN', '(주) 액티버스엔터테인먼트', '제나두 엔터테인먼트', '(주)아이필름코퍼레이션',\n",
              "       '쟈비스미디어', '트리필름', '에스피엠', '건시네마', '키노엔터테인먼트', '(주)아우라픽처스',\n",
              "       '에이블엔터테인먼트', '드림로드', '인피니티엔터테인먼트', '새인컴퍼니', '스튜디오 느림보',\n",
              "       '와이드 릴리즈(주)', '필름라인', 'M2픽처스', '고구마공작소', '(주)미디어데이', '마노엔터테인먼트',\n",
              "       '화앤담이엔티', '(주)스마일이엔티', '(주)패뷸러스', '영화사 조아', '판씨네마(주)', '두 엔터테인먼트',\n",
              "       '마인스엔터테인먼트', '전주국제영화제', '상구네 필름', '케이엠스타', '(주)유비네트워크',\n",
              "       '한국YWCA연합회', 'KBS미디어(주)', '더 피플', '위드시네마', '팜코리아미디어', '(주)씨엠닉스',\n",
              "       'SBS콘텐츠허브', '인터콘미디어', '(주)유비콘텐츠', '프로젝트 엠피', '하준사', '(주)노버스엔터테인먼트',\n",
              "       '주머니필름', '롤러코스터 프로덕션', 'SK', '서울독립영화제', '스튜디오 블루', '(주)랠리버튼',\n",
              "       '(주)드림팩트엔터테인먼트', '에이원 엔터테인먼트', '머스트 씨 무비', '마법사필름', '스폰지이엔티',\n",
              "       '(주)로드하우스', '미라클 필름', '프리비젼 엔터테인먼트', '영화사 廊', '크리에이티브컴즈(주)',\n",
              "       'ysfilm', '이달투', '퍼스트런', '모쿠슈라', '(주)루믹스미디어', '노근리 프로덕션',\n",
              "       '리얼라이즈픽쳐스', '청년필름', '리아코어콘텐츠', '핑크로봇 필름', 'Cinema SAM', '갑종필름',\n",
              "       '필마픽쳐스', '오픈유컬쳐', '(주)드림웨스트픽쳐스', '미로비젼', '명필름', '프리비젼', '굿픽처스',\n",
              "       '레몬트리', '타임스토리', '(주)영화사 빅', '유나이티드 픽처스', '(유)영화사 화수분', '늘푸른시네마',\n",
              "       '(주)루스이소니도스', '애니메이션 배급', '와우픽쳐스', '미디어로그', '비에이치제이 시네마',\n",
              "       '(주)다세포클럽', '(주)컨텐츠온미디어'], dtype=object)"
            ]
          },
          "metadata": {},
          "execution_count": 33
        }
      ]
    },
    {
      "cell_type": "code",
      "source": [
        "total.distributor.value_counts()[total.distributor.value_counts()>5].sum()"
      ],
      "metadata": {
        "colab": {
          "base_uri": "https://localhost:8080/"
        },
        "id": "bUBErejzOYaZ",
        "outputId": "e25c3575-9787-49e1-92bf-8ad16fc3f0ce"
      },
      "execution_count": 52,
      "outputs": [
        {
          "output_type": "execute_result",
          "data": {
            "text/plain": [
              "616"
            ]
          },
          "metadata": {},
          "execution_count": 52
        }
      ]
    },
    {
      "cell_type": "code",
      "source": [
        "total.distributor.value_counts().sort_values(ascending=False)[total.distributor.value_counts()>5]"
      ],
      "metadata": {
        "colab": {
          "base_uri": "https://localhost:8080/"
        },
        "id": "VHAzyyG6QYmW",
        "outputId": "4e3a5f9b-da8f-4c22-fa93-cab420ecd778"
      },
      "execution_count": 54,
      "outputs": [
        {
          "output_type": "execute_result",
          "data": {
            "text/plain": [
              "CJ               102\n",
              "롯데                77\n",
              "마운틴픽쳐스            49\n",
              "NEW               48\n",
              "쇼박스               42\n",
              "인디스토리             37\n",
              "골든타이드픽처스          27\n",
              "시네마달              25\n",
              "(주) 케이알씨지         19\n",
              "KT                17\n",
              "(주)키노아이           15\n",
              "어뮤즈               13\n",
              "영화사 진진            12\n",
              "인디플러그             12\n",
              "인벤트 디             12\n",
              "리틀빅픽쳐스            12\n",
              "(주) 영화사조제         12\n",
              "시너지               11\n",
              "(주)팝엔터테인먼트        10\n",
              "무비꼴라쥬              9\n",
              "BoXoo 엔터테인먼트       8\n",
              "시네마서비스             7\n",
              "스폰지                7\n",
              "필라멘트 픽쳐스           7\n",
              "싸이더스               7\n",
              "나이너스엔터테인먼트(주)      7\n",
              "메가박스               6\n",
              "마인스엔터테인먼트          6\n",
              "Name: distributor, dtype: int64"
            ]
          },
          "metadata": {},
          "execution_count": 54
        }
      ]
    },
    {
      "cell_type": "code",
      "source": [
        "# 5개 이하 영화 배급사\n",
        "below5 = total.distributor.value_counts()<=5\n",
        "below5 = below5[below5==True]\n",
        "below5 = below5.index.tolist()\n",
        "for i in below5:\n",
        "  total.loc[total['distributor']==i, 'distributor'] = 'below5'"
      ],
      "metadata": {
        "id": "07uDfChcRcNf"
      },
      "execution_count": 84,
      "outputs": []
    },
    {
      "cell_type": "code",
      "source": [
        "total.distributor.value_counts().sort_values(ascending=False)"
      ],
      "metadata": {
        "colab": {
          "base_uri": "https://localhost:8080/"
        },
        "id": "UQdjzp94TuD-",
        "outputId": "c28c6d65-8d15-4d21-914a-05e5fb2c274b"
      },
      "execution_count": 85,
      "outputs": [
        {
          "output_type": "execute_result",
          "data": {
            "text/plain": [
              "below5           227\n",
              "CJ               102\n",
              "롯데                77\n",
              "마운틴픽쳐스            49\n",
              "NEW               48\n",
              "쇼박스               42\n",
              "인디스토리             37\n",
              "골든타이드픽처스          27\n",
              "시네마달              25\n",
              "(주) 케이알씨지         19\n",
              "KT                17\n",
              "(주)키노아이           15\n",
              "어뮤즈               13\n",
              "영화사 진진            12\n",
              "(주) 영화사조제         12\n",
              "인디플러그             12\n",
              "인벤트 디             12\n",
              "리틀빅픽쳐스            12\n",
              "시너지               11\n",
              "(주)팝엔터테인먼트        10\n",
              "무비꼴라쥬              9\n",
              "BoXoo 엔터테인먼트       8\n",
              "시네마서비스             7\n",
              "나이너스엔터테인먼트(주)      7\n",
              "스폰지                7\n",
              "필라멘트 픽쳐스           7\n",
              "싸이더스               7\n",
              "메가박스               6\n",
              "마인스엔터테인먼트          6\n",
              "Name: distributor, dtype: int64"
            ]
          },
          "metadata": {},
          "execution_count": 85
        }
      ]
    },
    {
      "cell_type": "markdown",
      "source": [
        "+ 배급사 당 6개 영화 이상의 데이터만 one-hot encoding\n",
        "+ 나머지는 동일한 범주로 처리 --> `below5`"
      ],
      "metadata": {
        "id": "WxI59JMRREou"
      }
    },
    {
      "cell_type": "markdown",
      "source": [
        "#### 2) genre\n",
        "+ one-hot encoding"
      ],
      "metadata": {
        "id": "XArO0SsuVrei"
      }
    },
    {
      "cell_type": "code",
      "source": [
        "total['genre'].value_counts().sort_values().plot(kind='bar')"
      ],
      "metadata": {
        "colab": {
          "base_uri": "https://localhost:8080/",
          "height": 322
        },
        "id": "AT-E-yV9WGDz",
        "outputId": "5533b828-4b25-4f76-e2c3-0f0ae6b6f976"
      },
      "execution_count": 3,
      "outputs": [
        {
          "output_type": "execute_result",
          "data": {
            "text/plain": [
              "<matplotlib.axes._subplots.AxesSubplot at 0x7f08e258c2b0>"
            ]
          },
          "metadata": {},
          "execution_count": 3
        },
        {
          "output_type": "display_data",
          "data": {
            "text/plain": [
              "<Figure size 432x288 with 1 Axes>"
            ],
            "image/png": "[encoded data removed]"
          },
          "metadata": {
            "needs_background": "light"
          }
        }
      ]
    },
    {
      "cell_type": "markdown",
      "source": [
        "#### 3) screening_rat\n",
        "+ label-encoding: 연령별이기 때문에 순서형 가능"
      ],
      "metadata": {
        "id": "ofkZ6c3VXJnF"
      }
    },
    {
      "cell_type": "code",
      "source": [
        "total['screening_rat'].value_counts().sort_values().plot(kind='bar')"
      ],
      "metadata": {
        "colab": {
          "base_uri": "https://localhost:8080/",
          "height": 338
        },
        "id": "zDqVVyAxXJEP",
        "outputId": "df2e7f6e-136c-428a-ea2c-0c21dade8beb"
      },
      "execution_count": 4,
      "outputs": [
        {
          "output_type": "execute_result",
          "data": {
            "text/plain": [
              "<matplotlib.axes._subplots.AxesSubplot at 0x7f08e2572ee0>"
            ]
          },
          "metadata": {},
          "execution_count": 4
        },
        {
          "output_type": "display_data",
          "data": {
            "text/plain": [
              "<Figure size 432x288 with 1 Axes>"
            ],
            "image/png": "[encoded data removed]"
          },
          "metadata": {
            "needs_background": "light"
          }
        }
      ]
    },
    {
      "cell_type": "markdown",
      "source": [
        "+ `전체 관람가` -> `1`\n",
        "+ `12세 관람가` -> `12`\n",
        "+ `15세 관람가` -> `15`\n",
        "+ `청소년 관람불가` -> `19`"
      ],
      "metadata": {
        "id": "rkKhpuacZUIR"
      }
    },
    {
      "cell_type": "code",
      "source": [
        "size_mapping = {'전체 관람가':1,'12세 관람가':12,'15세 관람가':15, '청소년 관람불가':19}\n",
        "total['screening_rat'] = total['screening_rat'].map(size_mapping)\n",
        "\n",
        "total['screening_rat'].value_counts()"
      ],
      "metadata": {
        "colab": {
          "base_uri": "https://localhost:8080/"
        },
        "id": "TFOcdmjhZc7p",
        "outputId": "2135ca88-267a-4182-cb85-4f416565528f"
      },
      "execution_count": 5,
      "outputs": [
        {
          "output_type": "execute_result",
          "data": {
            "text/plain": [
              "19    297\n",
              "15    275\n",
              "12    142\n",
              "1     129\n",
              "Name: screening_rat, dtype: int64"
            ]
          },
          "metadata": {},
          "execution_count": 5
        }
      ]
    },
    {
      "cell_type": "markdown",
      "source": [
        "#### 4) director -> drop\n",
        "+ uniqueness가 너무 크다"
      ],
      "metadata": {
        "id": "QJPLG1dcaLPc"
      }
    },
    {
      "cell_type": "code",
      "source": [
        "total.drop('director', axis=1, inplace=True)"
      ],
      "metadata": {
        "id": "fX3yRmMMb3VW"
      },
      "execution_count": 17,
      "outputs": []
    },
    {
      "cell_type": "markdown",
      "source": [
        "#### 5) year, month, holiday"
      ],
      "metadata": {
        "id": "aoUb3xcJaQ4r"
      }
    },
    {
      "cell_type": "code",
      "source": [
        "total['year'].value_counts().plot(kind='bar')"
      ],
      "metadata": {
        "colab": {
          "base_uri": "https://localhost:8080/",
          "height": 297
        },
        "id": "nto5Di82aX4c",
        "outputId": "5e6c9769-6c5d-486b-e13f-932a330d1b41"
      },
      "execution_count": 6,
      "outputs": [
        {
          "output_type": "execute_result",
          "data": {
            "text/plain": [
              "<matplotlib.axes._subplots.AxesSubplot at 0x7f08e1f11340>"
            ]
          },
          "metadata": {},
          "execution_count": 6
        },
        {
          "output_type": "display_data",
          "data": {
            "text/plain": [
              "<Figure size 432x288 with 1 Axes>"
            ],
            "image/png": "[encoded data removed]"
          },
          "metadata": {
            "needs_background": "light"
          }
        }
      ]
    },
    {
      "cell_type": "code",
      "source": [
        "total['month'].value_counts().plot(kind='bar')"
      ],
      "metadata": {
        "colab": {
          "base_uri": "https://localhost:8080/",
          "height": 285
        },
        "id": "ZAg_NcCjab7M",
        "outputId": "ee07f801-332a-4f37-9771-7af5bf854262"
      },
      "execution_count": 7,
      "outputs": [
        {
          "output_type": "execute_result",
          "data": {
            "text/plain": [
              "<matplotlib.axes._subplots.AxesSubplot at 0x7f08e13e7e50>"
            ]
          },
          "metadata": {},
          "execution_count": 7
        },
        {
          "output_type": "display_data",
          "data": {
            "text/plain": [
              "<Figure size 432x288 with 1 Axes>"
            ],
            "image/png": "[encoded data removed]"
          },
          "metadata": {
            "needs_background": "light"
          }
        }
      ]
    },
    {
      "cell_type": "code",
      "source": [
        "total['holiday'].value_counts()"
      ],
      "metadata": {
        "colab": {
          "base_uri": "https://localhost:8080/"
        },
        "id": "FY5YMaLuad7u",
        "outputId": "d94a1ec8-199b-4c00-cde7-022e74cd0160"
      },
      "execution_count": 9,
      "outputs": [
        {
          "output_type": "execute_result",
          "data": {
            "text/plain": [
              "False    828\n",
              "True      15\n",
              "Name: holiday, dtype: int64"
            ]
          },
          "metadata": {},
          "execution_count": 9
        }
      ]
    },
    {
      "cell_type": "code",
      "source": [
        "train = total[total['from']=='train'].drop('from', axis=1)\n",
        "baxplot=plt.subplots()\n",
        "boxplot=sns.boxplot(x='month', y='box_off_num', data=train)"
      ],
      "metadata": {
        "colab": {
          "base_uri": "https://localhost:8080/",
          "height": 279
        },
        "id": "JLVU2MiVamSU",
        "outputId": "5504e2bd-f174-48e8-d2a3-59bf7f9a9ba9"
      },
      "execution_count": 14,
      "outputs": [
        {
          "output_type": "display_data",
          "data": {
            "text/plain": [
              "<Figure size 432x288 with 1 Axes>"
            ],
            "image/png": "[encoded data removed]"
          },
          "metadata": {
            "needs_background": "light"
          }
        }
      ]
    },
    {
      "cell_type": "code",
      "source": [
        "baxplot=plt.subplots()\n",
        "boxplot=sns.boxplot(x='year', y='box_off_num', data=train)"
      ],
      "metadata": {
        "colab": {
          "base_uri": "https://localhost:8080/",
          "height": 279
        },
        "id": "szNxR0dYbPzN",
        "outputId": "e75a2f17-de8b-4234-b7c7-7eb55527f138"
      },
      "execution_count": 15,
      "outputs": [
        {
          "output_type": "display_data",
          "data": {
            "text/plain": [
              "<Figure size 432x288 with 1 Axes>"
            ],
            "image/png": "[encoded data removed]"
          },
          "metadata": {
            "needs_background": "light"
          }
        }
      ]
    },
    {
      "cell_type": "markdown",
      "source": [
        "+ 년도는 box_off_num에 크게 영향 주지 않음 --> drop"
      ],
      "metadata": {
        "id": "gRJqjBnOjgQL"
      }
    },
    {
      "cell_type": "code",
      "source": [
        "total.drop('year', axis=1, inplace=True)"
      ],
      "metadata": {
        "id": "buoX4VG2js5f"
      },
      "execution_count": 41,
      "outputs": []
    },
    {
      "cell_type": "code",
      "source": [
        "baxplot=plt.subplots()\n",
        "boxplot=sns.boxplot(x='holiday', y='box_off_num', data=train)"
      ],
      "metadata": {
        "colab": {
          "base_uri": "https://localhost:8080/",
          "height": 279
        },
        "id": "unPr_BUcbW-w",
        "outputId": "65452361-49de-4213-c71d-2e8a99543d82"
      },
      "execution_count": 16,
      "outputs": [
        {
          "output_type": "display_data",
          "data": {
            "text/plain": [
              "<Figure size 432x288 with 1 Axes>"
            ],
            "image/png": "[encoded data removed]"
          },
          "metadata": {
            "needs_background": "light"
          }
        }
      ]
    },
    {
      "cell_type": "code",
      "source": [
        "# 나눔 폰트 설치\n",
        "#!sudo apt-get install -y fonts-nanum\n",
        "#!sudo fc-cache -fv\n",
        "#!rm ~/.cache/matplotlib -rf\n",
        "\n",
        "# import packages\n",
        "import pandas as pd\n",
        "import numpy as np\n",
        "import seaborn as sns\n",
        "import matplotlib.pyplot as plt\n",
        "plt.rc('font', family='NanumBarunGothic') #matplotlib 한글 깨짐 방지\n",
        "# 출력 결과를 셀 아래 inline으로 표시\n",
        "%matplotlib inline \n",
        "import warnings\n",
        "warnings.filterwarnings(action='ignore')\n",
        "\n",
        "# mount drive\n",
        "from google.colab import drive\n",
        "drive.mount('/content/drive')\n",
        "\n",
        "! pip install pytimekr\n",
        "\n",
        "# 전처리 모음\n",
        "train = pd.read_csv(\"/content/drive/MyDrive/esaa_data/movies/movies_train.csv\")\n",
        "test = pd.read_csv(\"/content/drive/MyDrive/esaa_data/movies/movies_test.csv\")\n",
        "train['from'] = 'train'\n",
        "test['from'] = 'test'\n",
        "total = train.append(test)\n",
        "\n",
        "total.drop('title', axis=1, inplace=True)\n",
        "\n",
        "total['distributor'] = total['distributor'].replace(['CJ 엔터테인먼트', 'CJ E&M Pictures', 'CJ E&M 영화부문', 'CJ CGV', 'CGV 아트하우스', 'CGV아트하우스', 'CGV 무비꼴라쥬'], ['CJ']*7)\n",
        "total['distributor'] = total['distributor'].replace(['마운틴 픽처스', '더픽쳐스/(주)마운틴픽쳐스', '(주)마운틴픽쳐스', '마운틴픽쳐스', '(주)씨타마운틴픽쳐스'], ['마운틴픽쳐스']*5)\n",
        "total['distributor'] = total['distributor'].replace(['(주)쇼박스', '쇼박스(주)미디어플렉스' ], ['쇼박스']*2)\n",
        "total['distributor'] = total['distributor'].replace(['(주)NEW', 'NEW' ], ['NEW']*2)\n",
        "total['distributor'] = total['distributor'].replace(['KT&G 상상마당', 'KT' ], ['KT']*2)\n",
        "total['distributor'] = total['distributor'].replace(['롯데엔터테인먼트', '롯데쇼핑(주)롯데엔터테인먼트' ], ['롯데']*2)\n",
        "total['distributor'] = total['distributor'].replace(['싸이더스FNH', '싸이더스', '싸이더스 FNH'], ['싸이더스']*3)\n",
        "total['distributor'] = total['distributor'].replace(['(주)리틀빅픽처스', '리틀빅픽처스', '리틀빅픽쳐스' ], ['리틀빅픽쳐스']*3)\n",
        "total['distributor'] = total['distributor'].replace(['(주)마인스엔터테인먼트', '(주)마인스 엔터테인먼트' ], ['마인스엔터테인먼트']*2)\n",
        "total['distributor'] = total['distributor'].replace(['SK플래닛', 'SK텔레콤(주)' ], ['SK']*2)\n",
        "total['distributor'] = total['distributor'].replace(['(주)시네마달', '시네마 달', '시네마달' ], ['시네마달']*3)\n",
        "total['distributor'] = total['distributor'].replace(['THE 픽쳐스', '(주)더픽쳐스' ], ['더픽쳐스']*2)\n",
        "total['distributor'] = total['distributor'].replace(['메가박스중앙(주)플러스엠', '메가박스(주)플러스엠' ], ['메가박스']*2)\n",
        "total['distributor'] = total['distributor'].replace(['(주)디씨드', '디씨드', '디 씨드' ], ['디씨드']*3)\n",
        "\n",
        "total['release_time'] = pd.to_datetime(total['release_time']) \n",
        "total[\"year\"] = total[\"release_time\"].dt.year\n",
        "total[\"month\"] = total[\"release_time\"].dt.month\n",
        "from pytimekr import pytimekr\n",
        "holiday = []\n",
        "for i in range(2010, 2015):\n",
        "    new = pytimekr.lunar_newyear(i) # 설날\n",
        "    holiday.append(new)\n",
        "    chi = pytimekr.children(i) # 어린이날\n",
        "    holiday.append(chi)\n",
        "    han = pytimekr.hangul(i) # 한글날\n",
        "    holiday.append(han)\n",
        "    ind = pytimekr.independence(i) # 광복절\n",
        "    holiday.append(ind)\n",
        "    chu = pytimekr.chuseok(i) # 추석\n",
        "    holiday.append(chu)\n",
        "    mem = pytimekr.memorial(i) # 헌충일\n",
        "    holiday.append(mem)\n",
        "    bud = pytimekr.buddha(i) # 석가탄신일\n",
        "    holiday.append(bud)\n",
        "    sam = pytimekr.samiljeol(i) # 삼일절\n",
        "    holiday.append(sam)\n",
        "    con = pytimekr.constitution(i) # 제헌절\n",
        "    holiday.append(con)\n",
        "def is_holiday(date):\n",
        "  if date in holiday:\n",
        "    return True\n",
        "  else:\n",
        "    return False\n",
        "holidays = []\n",
        "for i in total['release_time']:\n",
        "  a = is_holiday(i)\n",
        "  holidays.append(a)\n",
        "total['holiday'] = holidays\n",
        "total.drop(columns=\"release_time\", axis=1, inplace=True)\n",
        "\n",
        "total['dir_prev_bfnum']=total['dir_prev_bfnum'].fillna(0)\n",
        "\n",
        "# 이상치\n",
        "total.loc[total['time']==2015, 'time'] = 63\n",
        "\n",
        "# numerical 변수 scaling\n",
        "log_col = ['box_off_num', 'num_staff', 'dir_prev_num', 'dir_prev_bfnum']\n",
        "standard_col = ['num_actor', 'time']\n",
        "minmax_col = 'dir_prev_num'\n",
        "\n",
        "# 로그 변환\n",
        "total[log_col] = np.log1p(total[log_col])\n",
        "# standardization\n",
        "from sklearn.preprocessing import StandardScaler, MinMaxScaler\n",
        "standard_scaler = StandardScaler()\n",
        "standard_scaler.fit(total[standard_col])\n",
        "total[standard_col] = standard_scaler.transform(total[standard_col])\n",
        "# min max scaling\n",
        "#minmax_scaler = MinMaxScaler()\n",
        "#minmax_scaler.fit(total[[minmax_col]]) # caution: single col은 series말고 dataframe으로 \n",
        "#total[[minmax_col]] = minmax_scaler.transform(total[[minmax_col]])\n",
        "\n",
        "# 5개 이하 영화 배급사\n",
        "below5 = total.distributor.value_counts()<=5\n",
        "below5 = below5[below5==True]\n",
        "below5 = below5.index.tolist()\n",
        "for i in below5:\n",
        "  total.loc[total['distributor']==i, 'distributor'] = 'below5'\n",
        "\n",
        "# screeing_rat label encoding\n",
        "size_mapping = {'전체 관람가':1,'12세 관람가':12,'15세 관람가':15, '청소년 관람불가':19}\n",
        "total['screening_rat'] = total['screening_rat'].map(size_mapping)\n",
        "\n",
        "total.drop('year', axis=1, inplace=True)\n",
        "total.drop('director', axis=1, inplace=True)"
      ],
      "metadata": {
        "colab": {
          "base_uri": "https://localhost:8080/"
        },
        "id": "ZXmiu3pF3TxW",
        "outputId": "929e0af0-2c1a-42ca-9727-6639a6790118"
      },
      "execution_count": 1,
      "outputs": [
        {
          "output_type": "stream",
          "name": "stdout",
          "text": [
            "Drive already mounted at /content/drive; to attempt to forcibly remount, call drive.mount(\"/content/drive\", force_remount=True).\n",
            "Looking in indexes: https://pypi.org/simple, https://us-python.pkg.dev/colab-wheels/public/simple/\n",
            "Requirement already satisfied: pytimekr in /usr/local/lib/python3.8/dist-packages (0.1.0)\n",
            "Requirement already satisfied: lunardate>=0.1.5 in /usr/local/lib/python3.8/dist-packages (from pytimekr) (0.2.0)\n"
          ]
        }
      ]
    },
    {
      "cell_type": "code",
      "source": [
        "total =pd.get_dummies(data=total, columns = ['distributor', 'genre'])\n",
        "total.head()"
      ],
      "metadata": {
        "colab": {
          "base_uri": "https://localhost:8080/",
          "height": 334
        },
        "id": "lHztsSyMbubU",
        "outputId": "f021a5f9-9428-43bf-90dc-2bcfc134a1cd"
      },
      "execution_count": 2,
      "outputs": [
        {
          "output_type": "execute_result",
          "data": {
            "text/plain": [
              "       time  screening_rat  dir_prev_bfnum  dir_prev_num  num_staff  \\\n",
              "0 -0.283459             19        0.000000      0.000000   4.521789   \n",
              "1  1.597646             19       13.965312      1.098612   5.961005   \n",
              "2  1.210360             15       12.304905      1.609438   5.840642   \n",
              "3 -0.006826              1       10.081425      1.098612   3.044522   \n",
              "4  0.380461             15        0.693147      0.693147   5.529429   \n",
              "\n",
              "   num_actor  box_off_num   from  month  holiday  ...  genre_느와르  genre_다큐멘터리  \\\n",
              "0  -0.696722    10.060449  train     11    False  ...          0            0   \n",
              "1  -0.272039    15.771725  train     11    False  ...          1            0   \n",
              "2   0.152644    15.755558  train      6    False  ...          0            0   \n",
              "3   1.002011    12.291640  train      7    False  ...          0            0   \n",
              "4  -0.696722    13.088575  train     11    False  ...          0            0   \n",
              "\n",
              "   genre_드라마  genre_멜로/로맨스  genre_뮤지컬  genre_미스터리  genre_서스펜스  genre_애니메이션  \\\n",
              "0          0             0          0           0           0            0   \n",
              "1          0             0          0           0           0            0   \n",
              "2          0             0          0           0           0            0   \n",
              "3          0             0          0           0           0            0   \n",
              "4          0             0          0           0           0            0   \n",
              "\n",
              "   genre_액션  genre_코미디  \n",
              "0         1          0  \n",
              "1         0          0  \n",
              "2         1          0  \n",
              "3         0          1  \n",
              "4         0          1  \n",
              "\n",
              "[5 rows x 51 columns]"
            ],
            "text/html": [
              "\n",
              "  <div id=\"df-f32d54d3-d4b5-44e3-8c3c-c1a5347eaadf\">\n",
              "    <div class=\"colab-df-container\">\n",
              "      <div>\n",
              "<style scoped>\n",
              "    .dataframe tbody tr th:only-of-type {\n",
              "        vertical-align: middle;\n",
              "    }\n",
              "\n",
              "    .dataframe tbody tr th {\n",
              "        vertical-align: top;\n",
              "    }\n",
              "\n",
              "    .dataframe thead th {\n",
              "        text-align: right;\n",
              "    }\n",
              "</style>\n",
              "<table border=\"1\" class=\"dataframe\">\n",
              "  <thead>\n",
              "    <tr style=\"text-align: right;\">\n",
              "      <th></th>\n",
              "      <th>time</th>\n",
              "      <th>screening_rat</th>\n",
              "      <th>dir_prev_bfnum</th>\n",
              "      <th>dir_prev_num</th>\n",
              "      <th>num_staff</th>\n",
              "      <th>num_actor</th>\n",
              "      <th>box_off_num</th>\n",
              "      <th>from</th>\n",
              "      <th>month</th>\n",
              "      <th>holiday</th>\n",
              "      <th>...</th>\n",
              "      <th>genre_느와르</th>\n",
              "      <th>genre_다큐멘터리</th>\n",
              "      <th>genre_드라마</th>\n",
              "      <th>genre_멜로/로맨스</th>\n",
              "      <th>genre_뮤지컬</th>\n",
              "      <th>genre_미스터리</th>\n",
              "      <th>genre_서스펜스</th>\n",
              "      <th>genre_애니메이션</th>\n",
              "      <th>genre_액션</th>\n",
              "      <th>genre_코미디</th>\n",
              "    </tr>\n",
              "  </thead>\n",
              "  <tbody>\n",
              "    <tr>\n",
              "      <th>0</th>\n",
              "      <td>-0.283459</td>\n",
              "      <td>19</td>\n",
              "      <td>0.000000</td>\n",
              "      <td>0.000000</td>\n",
              "      <td>4.521789</td>\n",
              "      <td>-0.696722</td>\n",
              "      <td>10.060449</td>\n",
              "      <td>train</td>\n",
              "      <td>11</td>\n",
              "      <td>False</td>\n",
              "      <td>...</td>\n",
              "      <td>0</td>\n",
              "      <td>0</td>\n",
              "      <td>0</td>\n",
              "      <td>0</td>\n",
              "      <td>0</td>\n",
              "      <td>0</td>\n",
              "      <td>0</td>\n",
              "      <td>0</td>\n",
              "      <td>1</td>\n",
              "      <td>0</td>\n",
              "    </tr>\n",
              "    <tr>\n",
              "      <th>1</th>\n",
              "      <td>1.597646</td>\n",
              "      <td>19</td>\n",
              "      <td>13.965312</td>\n",
              "      <td>1.098612</td>\n",
              "      <td>5.961005</td>\n",
              "      <td>-0.272039</td>\n",
              "      <td>15.771725</td>\n",
              "      <td>train</td>\n",
              "      <td>11</td>\n",
              "      <td>False</td>\n",
              "      <td>...</td>\n",
              "      <td>1</td>\n",
              "      <td>0</td>\n",
              "      <td>0</td>\n",
              "      <td>0</td>\n",
              "      <td>0</td>\n",
              "      <td>0</td>\n",
              "      <td>0</td>\n",
              "      <td>0</td>\n",
              "      <td>0</td>\n",
              "      <td>0</td>\n",
              "    </tr>\n",
              "    <tr>\n",
              "      <th>2</th>\n",
              "      <td>1.210360</td>\n",
              "      <td>15</td>\n",
              "      <td>12.304905</td>\n",
              "      <td>1.609438</td>\n",
              "      <td>5.840642</td>\n",
              "      <td>0.152644</td>\n",
              "      <td>15.755558</td>\n",
              "      <td>train</td>\n",
              "      <td>6</td>\n",
              "      <td>False</td>\n",
              "      <td>...</td>\n",
              "      <td>0</td>\n",
              "      <td>0</td>\n",
              "      <td>0</td>\n",
              "      <td>0</td>\n",
              "      <td>0</td>\n",
              "      <td>0</td>\n",
              "      <td>0</td>\n",
              "      <td>0</td>\n",
              "      <td>1</td>\n",
              "      <td>0</td>\n",
              "    </tr>\n",
              "    <tr>\n",
              "      <th>3</th>\n",
              "      <td>-0.006826</td>\n",
              "      <td>1</td>\n",
              "      <td>10.081425</td>\n",
              "      <td>1.098612</td>\n",
              "      <td>3.044522</td>\n",
              "      <td>1.002011</td>\n",
              "      <td>12.291640</td>\n",
              "      <td>train</td>\n",
              "      <td>7</td>\n",
              "      <td>False</td>\n",
              "      <td>...</td>\n",
              "      <td>0</td>\n",
              "      <td>0</td>\n",
              "      <td>0</td>\n",
              "      <td>0</td>\n",
              "      <td>0</td>\n",
              "      <td>0</td>\n",
              "      <td>0</td>\n",
              "      <td>0</td>\n",
              "      <td>0</td>\n",
              "      <td>1</td>\n",
              "    </tr>\n",
              "    <tr>\n",
              "      <th>4</th>\n",
              "      <td>0.380461</td>\n",
              "      <td>15</td>\n",
              "      <td>0.693147</td>\n",
              "      <td>0.693147</td>\n",
              "      <td>5.529429</td>\n",
              "      <td>-0.696722</td>\n",
              "      <td>13.088575</td>\n",
              "      <td>train</td>\n",
              "      <td>11</td>\n",
              "      <td>False</td>\n",
              "      <td>...</td>\n",
              "      <td>0</td>\n",
              "      <td>0</td>\n",
              "      <td>0</td>\n",
              "      <td>0</td>\n",
              "      <td>0</td>\n",
              "      <td>0</td>\n",
              "      <td>0</td>\n",
              "      <td>0</td>\n",
              "      <td>0</td>\n",
              "      <td>1</td>\n",
              "    </tr>\n",
              "  </tbody>\n",
              "</table>\n",
              "<p>5 rows × 51 columns</p>\n",
              "</div>\n",
              "      <button class=\"colab-df-convert\" onclick=\"convertToInteractive('df-f32d54d3-d4b5-44e3-8c3c-c1a5347eaadf')\"\n",
              "              title=\"Convert this dataframe to an interactive table.\"\n",
              "              style=\"display:none;\">\n",
              "        \n",
              "  <svg xmlns=\"http://www.w3.org/2000/svg\" height=\"24px\"viewBox=\"0 0 24 24\"\n",
              "       width=\"24px\">\n",
              "    <path d=\"M0 0h24v24H0V0z\" fill=\"none\"/>\n",
              "    <path d=\"M18.56 5.44l.94 2.06.94-2.06 2.06-.94-2.06-.94-.94-2.06-.94 2.06-2.06.94zm-11 1L8.5 8.5l.94-2.06 2.06-.94-2.06-.94L8.5 2.5l-.94 2.06-2.06.94zm10 10l.94 2.06.94-2.06 2.06-.94-2.06-.94-.94-2.06-.94 2.06-2.06.94z\"/><path d=\"M17.41 7.96l-1.37-1.37c-.4-.4-.92-.59-1.43-.59-.52 0-1.04.2-1.43.59L10.3 9.45l-7.72 7.72c-.78.78-.78 2.05 0 2.83L4 21.41c.39.39.9.59 1.41.59.51 0 1.02-.2 1.41-.59l7.78-7.78 2.81-2.81c.8-.78.8-2.07 0-2.86zM5.41 20L4 18.59l7.72-7.72 1.47 1.35L5.41 20z\"/>\n",
              "  </svg>\n",
              "      </button>\n",
              "      \n",
              "  <style>\n",
              "    .colab-df-container {\n",
              "      display:flex;\n",
              "      flex-wrap:wrap;\n",
              "      gap: 12px;\n",
              "    }\n",
              "\n",
              "    .colab-df-convert {\n",
              "      background-color: #E8F0FE;\n",
              "      border: none;\n",
              "      border-radius: 50%;\n",
              "      cursor: pointer;\n",
              "      display: none;\n",
              "      fill: #1967D2;\n",
              "      height: 32px;\n",
              "      padding: 0 0 0 0;\n",
              "      width: 32px;\n",
              "    }\n",
              "\n",
              "    .colab-df-convert:hover {\n",
              "      background-color: #E2EBFA;\n",
              "      box-shadow: 0px 1px 2px rgba(60, 64, 67, 0.3), 0px 1px 3px 1px rgba(60, 64, 67, 0.15);\n",
              "      fill: #174EA6;\n",
              "    }\n",
              "\n",
              "    [theme=dark] .colab-df-convert {\n",
              "      background-color: #3B4455;\n",
              "      fill: #D2E3FC;\n",
              "    }\n",
              "\n",
              "    [theme=dark] .colab-df-convert:hover {\n",
              "      background-color: #434B5C;\n",
              "      box-shadow: 0px 1px 3px 1px rgba(0, 0, 0, 0.15);\n",
              "      filter: drop-shadow(0px 1px 2px rgba(0, 0, 0, 0.3));\n",
              "      fill: #FFFFFF;\n",
              "    }\n",
              "  </style>\n",
              "\n",
              "      <script>\n",
              "        const buttonEl =\n",
              "          document.querySelector('#df-f32d54d3-d4b5-44e3-8c3c-c1a5347eaadf button.colab-df-convert');\n",
              "        buttonEl.style.display =\n",
              "          google.colab.kernel.accessAllowed ? 'block' : 'none';\n",
              "\n",
              "        async function convertToInteractive(key) {\n",
              "          const element = document.querySelector('#df-f32d54d3-d4b5-44e3-8c3c-c1a5347eaadf');\n",
              "          const dataTable =\n",
              "            await google.colab.kernel.invokeFunction('convertToInteractive',\n",
              "                                                     [key], {});\n",
              "          if (!dataTable) return;\n",
              "\n",
              "          const docLinkHtml = 'Like what you see? Visit the ' +\n",
              "            '<a target=\"_blank\" href=https://colab.research.google.com/notebooks/data_table.ipynb>data table notebook</a>'\n",
              "            + ' to learn more about interactive tables.';\n",
              "          element.innerHTML = '';\n",
              "          dataTable['output_type'] = 'display_data';\n",
              "          await google.colab.output.renderOutput(dataTable, element);\n",
              "          const docLink = document.createElement('div');\n",
              "          docLink.innerHTML = docLinkHtml;\n",
              "          element.appendChild(docLink);\n",
              "        }\n",
              "      </script>\n",
              "    </div>\n",
              "  </div>\n",
              "  "
            ]
          },
          "metadata": {},
          "execution_count": 2
        }
      ]
    },
    {
      "cell_type": "code",
      "source": [
        "total.columns"
      ],
      "metadata": {
        "colab": {
          "base_uri": "https://localhost:8080/"
        },
        "id": "uCF9EXy3kcPI",
        "outputId": "cc865823-eb30-4e56-bf57-81ac13c83ed8"
      },
      "execution_count": 3,
      "outputs": [
        {
          "output_type": "execute_result",
          "data": {
            "text/plain": [
              "Index(['time', 'screening_rat', 'dir_prev_bfnum', 'dir_prev_num', 'num_staff',\n",
              "       'num_actor', 'box_off_num', 'from', 'month', 'holiday',\n",
              "       'distributor_(주) 영화사조제', 'distributor_(주) 케이알씨지', 'distributor_(주)키노아이',\n",
              "       'distributor_(주)팝엔터테인먼트', 'distributor_BoXoo 엔터테인먼트', 'distributor_CJ',\n",
              "       'distributor_KT', 'distributor_NEW', 'distributor_below5',\n",
              "       'distributor_골든타이드픽처스', 'distributor_나이너스엔터테인먼트(주)', 'distributor_롯데',\n",
              "       'distributor_리틀빅픽쳐스', 'distributor_마운틴픽쳐스', 'distributor_마인스엔터테인먼트',\n",
              "       'distributor_메가박스', 'distributor_무비꼴라쥬', 'distributor_쇼박스',\n",
              "       'distributor_스폰지', 'distributor_시너지', 'distributor_시네마달',\n",
              "       'distributor_시네마서비스', 'distributor_싸이더스', 'distributor_어뮤즈',\n",
              "       'distributor_영화사 진진', 'distributor_인디스토리', 'distributor_인디플러그',\n",
              "       'distributor_인벤트 디', 'distributor_필라멘트 픽쳐스', 'genre_SF', 'genre_공포',\n",
              "       'genre_느와르', 'genre_다큐멘터리', 'genre_드라마', 'genre_멜로/로맨스', 'genre_뮤지컬',\n",
              "       'genre_미스터리', 'genre_서스펜스', 'genre_애니메이션', 'genre_액션', 'genre_코미디'],\n",
              "      dtype='object')"
            ]
          },
          "metadata": {},
          "execution_count": 3
        }
      ]
    },
    {
      "cell_type": "markdown",
      "source": [
        "## | 모델링\n",
        "---\n"
      ],
      "metadata": {
        "id": "SgLWO_2ek9XT"
      }
    },
    {
      "cell_type": "code",
      "source": [
        "train = total[total['from']=='train'].drop('from', axis=1)\n",
        "test = total[total['from']=='test'].drop('from', axis=1)\n",
        "\n",
        "X_features = train.drop('box_off_num', axis=1)\n",
        "y_target = train['box_off_num'] # 로그 변환된 값\n",
        "\n",
        "X_test = test.drop('box_off_num', axis=1)"
      ],
      "metadata": {
        "id": "FyisHd9dlHCX"
      },
      "execution_count": 3,
      "outputs": []
    },
    {
      "cell_type": "code",
      "source": [
        "X_features.shape"
      ],
      "metadata": {
        "colab": {
          "base_uri": "https://localhost:8080/"
        },
        "id": "BX7yTob7mUu5",
        "outputId": "f8a0448e-4d82-4151-a60f-d8fe2f23e286"
      },
      "execution_count": 5,
      "outputs": [
        {
          "output_type": "execute_result",
          "data": {
            "text/plain": [
              "(600, 49)"
            ]
          },
          "metadata": {},
          "execution_count": 5
        }
      ]
    },
    {
      "cell_type": "code",
      "source": [
        "y_target.shape"
      ],
      "metadata": {
        "colab": {
          "base_uri": "https://localhost:8080/"
        },
        "id": "Iip2kfwfmWN-",
        "outputId": "c9b96d54-fb6d-4102-ad10-34017f56a796"
      },
      "execution_count": 6,
      "outputs": [
        {
          "output_type": "execute_result",
          "data": {
            "text/plain": [
              "(600,)"
            ]
          },
          "metadata": {},
          "execution_count": 6
        }
      ]
    },
    {
      "cell_type": "code",
      "source": [
        "X_test.shape"
      ],
      "metadata": {
        "colab": {
          "base_uri": "https://localhost:8080/"
        },
        "id": "Mwa6N3eimX-I",
        "outputId": "258b7b96-014c-4799-9257-0e200eb5500e"
      },
      "execution_count": 7,
      "outputs": [
        {
          "output_type": "execute_result",
          "data": {
            "text/plain": [
              "(243, 49)"
            ]
          },
          "metadata": {},
          "execution_count": 7
        }
      ]
    },
    {
      "cell_type": "markdown",
      "source": [
        "## LinearRegression, Ridge, Lasso"
      ],
      "metadata": {
        "id": "omQZ7I7RpKp8"
      }
    },
    {
      "cell_type": "code",
      "source": [
        "!sudo apt-get install -y fonts-nanum\n",
        "!sudo fc-cache -fv\n",
        "!rm ~/.cache/matplotlib -rf"
      ],
      "metadata": {
        "colab": {
          "base_uri": "https://localhost:8080/"
        },
        "id": "2Wwjnsq8_RB4",
        "outputId": "b8e173e7-e806-4d47-decb-d6f486c70474"
      },
      "execution_count": 18,
      "outputs": [
        {
          "output_type": "stream",
          "name": "stdout",
          "text": [
            "Reading package lists... Done\n",
            "Building dependency tree       \n",
            "Reading state information... Done\n",
            "The following package was automatically installed and is no longer required:\n",
            "  libnvidia-common-460\n",
            "Use 'sudo apt autoremove' to remove it.\n",
            "The following NEW packages will be installed:\n",
            "  fonts-nanum\n",
            "0 upgraded, 1 newly installed, 0 to remove and 20 not upgraded.\n",
            "Need to get 9,604 kB of archives.\n",
            "After this operation, 29.5 MB of additional disk space will be used.\n",
            "Get:1 http://archive.ubuntu.com/ubuntu bionic/universe amd64 fonts-nanum all 20170925-1 [9,604 kB]\n",
            "Fetched 9,604 kB in 1s (10.8 MB/s)\n",
            "debconf: unable to initialize frontend: Dialog\n",
            "debconf: (No usable dialog-like program is installed, so the dialog based frontend cannot be used. at /usr/share/perl5/Debconf/FrontEnd/Dialog.pm line 76, <> line 1.)\n",
            "debconf: falling back to frontend: Readline\n",
            "debconf: unable to initialize frontend: Readline\n",
            "debconf: (This frontend requires a controlling tty.)\n",
            "debconf: falling back to frontend: Teletype\n",
            "dpkg-preconfigure: unable to re-open stdin: \n",
            "Selecting previously unselected package fonts-nanum.\n",
            "(Reading database ... 124016 files and directories currently installed.)\n",
            "Preparing to unpack .../fonts-nanum_20170925-1_all.deb ...\n",
            "Unpacking fonts-nanum (20170925-1) ...\n",
            "Setting up fonts-nanum (20170925-1) ...\n",
            "Processing triggers for fontconfig (2.12.6-0ubuntu2) ...\n",
            "/usr/share/fonts: caching, new cache contents: 0 fonts, 1 dirs\n",
            "/usr/share/fonts/truetype: caching, new cache contents: 0 fonts, 3 dirs\n",
            "/usr/share/fonts/truetype/humor-sans: caching, new cache contents: 1 fonts, 0 dirs\n",
            "/usr/share/fonts/truetype/liberation: caching, new cache contents: 16 fonts, 0 dirs\n",
            "/usr/share/fonts/truetype/nanum: caching, new cache contents: 10 fonts, 0 dirs\n",
            "/usr/local/share/fonts: caching, new cache contents: 0 fonts, 0 dirs\n",
            "/root/.local/share/fonts: skipping, no such directory\n",
            "/root/.fonts: skipping, no such directory\n",
            "/var/cache/fontconfig: cleaning cache directory\n",
            "/root/.cache/fontconfig: not cleaning non-existent cache directory\n",
            "/root/.fontconfig: not cleaning non-existent cache directory\n",
            "fc-cache: succeeded\n"
          ]
        }
      ]
    },
    {
      "cell_type": "code",
      "source": [
        "from sklearn.metrics import mean_squared_error, mean_absolute_error\n",
        "\n",
        "# log 값 변환 시 NaN등의 이슈로 log()가 아닌 log1p()를 이용하여 RMSLE 계산\n",
        "def rmsle(y, pred):\n",
        "  # 로그 변환\n",
        "  log_y = np.log1p(y)\n",
        "  log_pred = np.log1p(pred)\n",
        "  \n",
        "  # 오차 제곱 계산\n",
        "  squared_error = (log_y - log_pred) ** 2\n",
        "  rmsle = np.sqrt(np.mean(squared_error))\n",
        "\n",
        "  return rmsle\n",
        "\n",
        "# 사이킷런의 mean_square_error()를 이용하여 RMSE 계산\n",
        "def rmse(y, pred):\n",
        "  return np.sqrt(mean_squared_error(y, pred))\n",
        "\n",
        "# MAE, RMSE, RMSLE를 모두 계산하는 성능 평가 함수\n",
        "def evaluate_regr(y,pred):\n",
        "  # RMLE, RMSE\n",
        "  rmsle_val = rmsle(y,pred)\n",
        "  rmse_val = rmse(y,pred)\n",
        "\n",
        "  # MAE는 사이킷런의 mean_absolute_error()로 계산\n",
        "  mae_val = mean_absolute_error(y,pred)\n",
        "\n",
        "  print('RMSLE : {0:.3f}, RMSE : {1:.3F}, MAE : {2:.3F}'.format(rmsle_val, rmse_val, mae_val))"
      ],
      "metadata": {
        "id": "LN9h9EoM83H6"
      },
      "execution_count": 4,
      "outputs": []
    },
    {
      "cell_type": "code",
      "source": [
        "from sklearn.model_selection import train_test_split, GridSearchCV\n",
        "from sklearn.linear_model import LinearRegression, Ridge, Lasso\n",
        "\n",
        "# 학습/테스트 데이터셋 분리\n",
        "X_train, X_valid, y_train, y_valid = train_test_split(X_features, y_target, test_size = 0.3, random_state = 0)\n",
        "\n",
        "# model fitting\n",
        "lr_reg = LinearRegression()\n",
        "lr_reg.fit(X_train, y_train)\n",
        "pred = lr_reg.predict(X_valid)\n",
        "\n",
        "# model test\n",
        "evaluate_regr(y_valid, pred)"
      ],
      "metadata": {
        "colab": {
          "base_uri": "https://localhost:8080/"
        },
        "id": "1rPjy5ff71GD",
        "outputId": "89c27dcb-44a6-4e26-d7b3-1289ee2db8c2"
      },
      "execution_count": 5,
      "outputs": [
        {
          "output_type": "stream",
          "name": "stdout",
          "text": [
            "RMSLE : 0.228, RMSE : 2.027, MAE : 1.563\n"
          ]
        }
      ]
    },
    {
      "cell_type": "code",
      "source": [
        "y_target.hist()"
      ],
      "metadata": {
        "colab": {
          "base_uri": "https://localhost:8080/",
          "height": 283
        },
        "id": "QzdEDpkR8jgb",
        "outputId": "b5f71058-95e2-4b4a-a084-72fc2dfc52d9"
      },
      "execution_count": 14,
      "outputs": [
        {
          "output_type": "execute_result",
          "data": {
            "text/plain": [
              "<matplotlib.axes._subplots.AxesSubplot at 0x7f7ea42fcbb0>"
            ]
          },
          "metadata": {},
          "execution_count": 14
        },
        {
          "output_type": "display_data",
          "data": {
            "text/plain": [
              "<Figure size 432x288 with 1 Axes>"
            ],
            "image/png": "[encoded data removed]"
          },
          "metadata": {
            "needs_background": "light"
          }
        }
      ]
    },
    {
      "cell_type": "code",
      "source": [
        "coef = pd.Series(lr_reg.coef_, index = X_features.columns)\n",
        "coef_sort = coef.sort_values(ascending = False)[:30]\n",
        "sns.barplot(x = coef_sort.values, y = coef_sort.index)"
      ],
      "metadata": {
        "colab": {
          "base_uri": "https://localhost:8080/",
          "height": 283
        },
        "id": "tK2luRWM_DX1",
        "outputId": "668fdc1d-1448-4d7d-8494-3ecdf25ff2c5"
      },
      "execution_count": 7,
      "outputs": [
        {
          "output_type": "execute_result",
          "data": {
            "text/plain": [
              "<matplotlib.axes._subplots.AxesSubplot at 0x7fb0cf79dd60>"
            ]
          },
          "metadata": {},
          "execution_count": 7
        },
        {
          "output_type": "display_data",
          "data": {
            "text/plain": [
              "<Figure size 432x288 with 1 Axes>"
            ],
            "image/png": "[encoded data removed]"
          },
          "metadata": {
            "needs_background": "light"
          }
        }
      ]
    },
    {
      "cell_type": "code",
      "source": [
        "from sklearn.linear_model import Ridge\n",
        "from sklearn.model_selection import cross_val_score\n",
        "\n",
        "# Ridge에 사용될 alpha 파라미터의 값들을 정의\n",
        "alphas = [0, 0.1, 1, 10, 100]\n",
        "\n",
        "# alphas list 값을 반복하면서 alpha에 따른 평균 rmse 구함\n",
        "for alpha in alphas :\n",
        "    ridge = Ridge(alpha = alpha)\n",
        "\n",
        "    # cross_val_score를 이용하여 5 fold의 평균 RMSE 계산\n",
        "    neg_mse_scores = cross_val_score(ridge, X_features, y_target, scoring = \"neg_mean_squared_error\", cv = 5)\n",
        "    avg_rmse = np.mean(np.sqrt(-1 * neg_mse_scores))\n",
        "    print('alpha {0} 일 때 5 folds의 평균 RMSE : {1:.3f} '.format(alpha,avg_rmse))"
      ],
      "metadata": {
        "colab": {
          "base_uri": "https://localhost:8080/"
        },
        "id": "CSm2fcpaBmLW",
        "outputId": "67e10ba5-d16b-48ca-8a97-ae73068af22f"
      },
      "execution_count": 10,
      "outputs": [
        {
          "output_type": "stream",
          "name": "stdout",
          "text": [
            "alpha 0 일 때 5 folds의 평균 RMSE : 1.968 \n",
            "alpha 0.1 일 때 5 folds의 평균 RMSE : 1.965 \n",
            "alpha 1 일 때 5 folds의 평균 RMSE : 1.951 \n",
            "alpha 10 일 때 5 folds의 평균 RMSE : 1.975 \n",
            "alpha 100 일 때 5 folds의 평균 RMSE : 2.137 \n"
          ]
        }
      ]
    },
    {
      "cell_type": "markdown",
      "source": [
        "+ alpha가 1일 때, 평균 RMSE가 가장 작다. "
      ],
      "metadata": {
        "id": "juo8sSWGCC-k"
      }
    },
    {
      "cell_type": "code",
      "source": [
        "from sklearn.linear_model import Lasso, ElasticNet\n",
        "\n",
        "# alpha값에 따른 회귀 모델의 폴드 평균 RMSE를 출력하고 회귀 계수값들을 DataFrame으로 반환 \n",
        "def get_linear_reg_eval(model_name, params=None, X_data_n=None, y_target_n=None, \n",
        "                        verbose=True, return_coeff=True):\n",
        "    coeff_df = pd.DataFrame()\n",
        "    if verbose : print('####### ', model_name , '#######')\n",
        "    for param in params:\n",
        "        if model_name =='Ridge': model = Ridge(alpha = param)\n",
        "        elif model_name =='Lasso': model = Lasso(alpha = param)\n",
        "        elif model_name =='ElasticNet': model = ElasticNet(alpha = param, l1_ratio = 0.7)\n",
        "        neg_mse_scores = cross_val_score(model, X_data_n, y_target_n, scoring = \"neg_mean_squared_error\", cv = 5)\n",
        "        avg_rmse = np.mean(np.sqrt(-1 * neg_mse_scores))\n",
        "        print('alpha {0}일 때 5 폴드 세트의 평균 RMSE : {1:.3f} '.format(param, avg_rmse))\n",
        "        # cross_val_score는 evaluation metric만 반환하므로 모델을 다시 학습하여 회귀 계수 추출\n",
        "        \n",
        "        model.fit(X_data_n , y_target_n)\n",
        "        if return_coeff:\n",
        "            # alpha에 따른 피처별 회귀 계수를 Series로 변환하고 이를 DataFrame의 컬럼으로 추가. \n",
        "            coeff = pd.Series(data = model.coef_ , index = X_data_n.columns )\n",
        "            colname ='alpha : ' + str(param)\n",
        "            coeff_df[colname] = coeff\n",
        "    \n",
        "    return coeff_df\n",
        "# end of get_linear_regre_eval"
      ],
      "metadata": {
        "id": "Cehjg529CUHu"
      },
      "execution_count": 11,
      "outputs": []
    },
    {
      "cell_type": "code",
      "source": [
        "# 라쏘에 사용될 alpha 파라미터의 값들을 정의하고 get_linear_reg_eval() 함수 호출\n",
        "lasso_alphas = [0.001, 0.003, 0.005,0.007, 0.01,0.03,0.05, 0.07, 0.1, 0.5, 1, 3]\n",
        "coeff_lasso_df = get_linear_reg_eval('Lasso', params = lasso_alphas, X_data_n = X_features, y_target_n = y_target)"
      ],
      "metadata": {
        "colab": {
          "base_uri": "https://localhost:8080/"
        },
        "id": "pQY5kK7vCU0s",
        "outputId": "a08a81dc-a3d4-4ccd-ef84-3073684d3549"
      },
      "execution_count": 18,
      "outputs": [
        {
          "output_type": "stream",
          "name": "stdout",
          "text": [
            "#######  Lasso #######\n",
            "alpha 0.001일 때 5 폴드 세트의 평균 RMSE : 1.961 \n",
            "alpha 0.003일 때 5 폴드 세트의 평균 RMSE : 1.950 \n",
            "alpha 0.005일 때 5 폴드 세트의 평균 RMSE : 1.948 \n",
            "alpha 0.007일 때 5 폴드 세트의 평균 RMSE : 1.952 \n",
            "alpha 0.01일 때 5 폴드 세트의 평균 RMSE : 1.962 \n",
            "alpha 0.03일 때 5 폴드 세트의 평균 RMSE : 2.017 \n",
            "alpha 0.05일 때 5 폴드 세트의 평균 RMSE : 2.082 \n",
            "alpha 0.07일 때 5 폴드 세트의 평균 RMSE : 2.145 \n",
            "alpha 0.1일 때 5 폴드 세트의 평균 RMSE : 2.208 \n",
            "alpha 0.5일 때 5 폴드 세트의 평균 RMSE : 2.331 \n",
            "alpha 1일 때 5 폴드 세트의 평균 RMSE : 2.507 \n",
            "alpha 3일 때 5 폴드 세트의 평균 RMSE : 3.008 \n"
          ]
        }
      ]
    },
    {
      "cell_type": "markdown",
      "source": [
        "+ alpha가 0.005일 때 평균 rMSE값이 가장 작다. "
      ],
      "metadata": {
        "id": "HPujs4jrCZp0"
      }
    },
    {
      "cell_type": "code",
      "source": [
        "# 모델과 학습/테스트 데이터셋을 입력하면 성능 평가 수치를 반환\n",
        "def get_model_predict(model, X_train, X_test, y_train, y_test, is_expm1=False):\n",
        "  # model fitting\n",
        "  model.fit(X_train, y_train)\n",
        "  pred = model.predict(X_test)\n",
        "\n",
        "  # 원래 값으로 scale 변환\n",
        "  if is_expm1 :\n",
        "    y_test = np.expm1(y_test)\n",
        "    pred = np.expm1(pred)\n",
        "\n",
        "  print('###',model.__class__.__name__,'###')\n",
        "\n",
        "  # model test\n",
        "  evaluate_regr(y_test, pred)\n",
        "  \n",
        "# model별로 평가 수행\n",
        "lr_reg = LinearRegression()\n",
        "ridge_reg = Ridge(alpha = 1)\n",
        "lasso_reg = Lasso(alpha = 0.005)\n",
        "\n",
        "for model in [lr_reg, ridge_reg, lasso_reg]:\n",
        "    get_model_predict(model, X_train, X_valid, y_train, y_valid, is_expm1 = True)"
      ],
      "metadata": {
        "colab": {
          "base_uri": "https://localhost:8080/"
        },
        "id": "2FIIS7oLF6fk",
        "outputId": "320bf674-5604-4cf0-eebc-b0055a667a2d"
      },
      "execution_count": 21,
      "outputs": [
        {
          "output_type": "stream",
          "name": "stdout",
          "text": [
            "### LinearRegression ###\n",
            "RMSLE : 2.027, RMSE : 2377260.708, MAE : 621732.384\n",
            "### Ridge ###\n",
            "RMSLE : 2.027, RMSE : 2385032.631, MAE : 618818.444\n",
            "### Lasso ###\n",
            "RMSLE : 2.047, RMSE : 2336094.512, MAE : 612783.682\n"
          ]
        }
      ]
    },
    {
      "cell_type": "code",
      "source": [
        "ridge_reg.fit(X_features, y_target)\n",
        "pred = ridge_reg.predict(X_test)\n",
        "pred = np.expm1(pred)"
      ],
      "metadata": {
        "id": "h-N8zPxiJHDN"
      },
      "execution_count": 26,
      "outputs": []
    },
    {
      "cell_type": "code",
      "source": [
        "sub = pd.read_csv(\"/content/drive/MyDrive/esaa_data/movies/submission.csv\")\n",
        "sub['box_off_num'] = pred\n",
        "sub.head()"
      ],
      "metadata": {
        "colab": {
          "base_uri": "https://localhost:8080/",
          "height": 206
        },
        "id": "p1OYSuS6KsgT",
        "outputId": "c3d802c5-0b5c-4b08-8869-4e7d97ff341b"
      },
      "execution_count": 29,
      "outputs": [
        {
          "output_type": "execute_result",
          "data": {
            "text/plain": [
              "         title   box_off_num\n",
              "0       용서는 없다  7.868030e+05\n",
              "1  아빠가 여자를 좋아해  8.695272e+05\n",
              "2          하모니  4.945227e+05\n",
              "3          의형제  2.583143e+06\n",
              "4        평행 이론  8.214887e+05"
            ],
            "text/html": [
              "\n",
              "  <div id=\"df-3838313c-f7b6-40e7-b744-0d5d7f4f4e65\">\n",
              "    <div class=\"colab-df-container\">\n",
              "      <div>\n",
              "<style scoped>\n",
              "    .dataframe tbody tr th:only-of-type {\n",
              "        vertical-align: middle;\n",
              "    }\n",
              "\n",
              "    .dataframe tbody tr th {\n",
              "        vertical-align: top;\n",
              "    }\n",
              "\n",
              "    .dataframe thead th {\n",
              "        text-align: right;\n",
              "    }\n",
              "</style>\n",
              "<table border=\"1\" class=\"dataframe\">\n",
              "  <thead>\n",
              "    <tr style=\"text-align: right;\">\n",
              "      <th></th>\n",
              "      <th>title</th>\n",
              "      <th>box_off_num</th>\n",
              "    </tr>\n",
              "  </thead>\n",
              "  <tbody>\n",
              "    <tr>\n",
              "      <th>0</th>\n",
              "      <td>용서는 없다</td>\n",
              "      <td>7.868030e+05</td>\n",
              "    </tr>\n",
              "    <tr>\n",
              "      <th>1</th>\n",
              "      <td>아빠가 여자를 좋아해</td>\n",
              "      <td>8.695272e+05</td>\n",
              "    </tr>\n",
              "    <tr>\n",
              "      <th>2</th>\n",
              "      <td>하모니</td>\n",
              "      <td>4.945227e+05</td>\n",
              "    </tr>\n",
              "    <tr>\n",
              "      <th>3</th>\n",
              "      <td>의형제</td>\n",
              "      <td>2.583143e+06</td>\n",
              "    </tr>\n",
              "    <tr>\n",
              "      <th>4</th>\n",
              "      <td>평행 이론</td>\n",
              "      <td>8.214887e+05</td>\n",
              "    </tr>\n",
              "  </tbody>\n",
              "</table>\n",
              "</div>\n",
              "      <button class=\"colab-df-convert\" onclick=\"convertToInteractive('df-3838313c-f7b6-40e7-b744-0d5d7f4f4e65')\"\n",
              "              title=\"Convert this dataframe to an interactive table.\"\n",
              "              style=\"display:none;\">\n",
              "        \n",
              "  <svg xmlns=\"http://www.w3.org/2000/svg\" height=\"24px\"viewBox=\"0 0 24 24\"\n",
              "       width=\"24px\">\n",
              "    <path d=\"M0 0h24v24H0V0z\" fill=\"none\"/>\n",
              "    <path d=\"M18.56 5.44l.94 2.06.94-2.06 2.06-.94-2.06-.94-.94-2.06-.94 2.06-2.06.94zm-11 1L8.5 8.5l.94-2.06 2.06-.94-2.06-.94L8.5 2.5l-.94 2.06-2.06.94zm10 10l.94 2.06.94-2.06 2.06-.94-2.06-.94-.94-2.06-.94 2.06-2.06.94z\"/><path d=\"M17.41 7.96l-1.37-1.37c-.4-.4-.92-.59-1.43-.59-.52 0-1.04.2-1.43.59L10.3 9.45l-7.72 7.72c-.78.78-.78 2.05 0 2.83L4 21.41c.39.39.9.59 1.41.59.51 0 1.02-.2 1.41-.59l7.78-7.78 2.81-2.81c.8-.78.8-2.07 0-2.86zM5.41 20L4 18.59l7.72-7.72 1.47 1.35L5.41 20z\"/>\n",
              "  </svg>\n",
              "      </button>\n",
              "      \n",
              "  <style>\n",
              "    .colab-df-container {\n",
              "      display:flex;\n",
              "      flex-wrap:wrap;\n",
              "      gap: 12px;\n",
              "    }\n",
              "\n",
              "    .colab-df-convert {\n",
              "      background-color: #E8F0FE;\n",
              "      border: none;\n",
              "      border-radius: 50%;\n",
              "      cursor: pointer;\n",
              "      display: none;\n",
              "      fill: #1967D2;\n",
              "      height: 32px;\n",
              "      padding: 0 0 0 0;\n",
              "      width: 32px;\n",
              "    }\n",
              "\n",
              "    .colab-df-convert:hover {\n",
              "      background-color: #E2EBFA;\n",
              "      box-shadow: 0px 1px 2px rgba(60, 64, 67, 0.3), 0px 1px 3px 1px rgba(60, 64, 67, 0.15);\n",
              "      fill: #174EA6;\n",
              "    }\n",
              "\n",
              "    [theme=dark] .colab-df-convert {\n",
              "      background-color: #3B4455;\n",
              "      fill: #D2E3FC;\n",
              "    }\n",
              "\n",
              "    [theme=dark] .colab-df-convert:hover {\n",
              "      background-color: #434B5C;\n",
              "      box-shadow: 0px 1px 3px 1px rgba(0, 0, 0, 0.15);\n",
              "      filter: drop-shadow(0px 1px 2px rgba(0, 0, 0, 0.3));\n",
              "      fill: #FFFFFF;\n",
              "    }\n",
              "  </style>\n",
              "\n",
              "      <script>\n",
              "        const buttonEl =\n",
              "          document.querySelector('#df-3838313c-f7b6-40e7-b744-0d5d7f4f4e65 button.colab-df-convert');\n",
              "        buttonEl.style.display =\n",
              "          google.colab.kernel.accessAllowed ? 'block' : 'none';\n",
              "\n",
              "        async function convertToInteractive(key) {\n",
              "          const element = document.querySelector('#df-3838313c-f7b6-40e7-b744-0d5d7f4f4e65');\n",
              "          const dataTable =\n",
              "            await google.colab.kernel.invokeFunction('convertToInteractive',\n",
              "                                                     [key], {});\n",
              "          if (!dataTable) return;\n",
              "\n",
              "          const docLinkHtml = 'Like what you see? Visit the ' +\n",
              "            '<a target=\"_blank\" href=https://colab.research.google.com/notebooks/data_table.ipynb>data table notebook</a>'\n",
              "            + ' to learn more about interactive tables.';\n",
              "          element.innerHTML = '';\n",
              "          dataTable['output_type'] = 'display_data';\n",
              "          await google.colab.output.renderOutput(dataTable, element);\n",
              "          const docLink = document.createElement('div');\n",
              "          docLink.innerHTML = docLinkHtml;\n",
              "          element.appendChild(docLink);\n",
              "        }\n",
              "      </script>\n",
              "    </div>\n",
              "  </div>\n",
              "  "
            ]
          },
          "metadata": {},
          "execution_count": 29
        }
      ]
    },
    {
      "cell_type": "code",
      "source": [
        "sub.to_csv('/content/drive/MyDrive/esaa_data/movies/submission.csv', index=False)"
      ],
      "metadata": {
        "id": "kDJbGJd2K9G5"
      },
      "execution_count": 30,
      "outputs": []
    },
    {
      "cell_type": "markdown",
      "source": [
        "+ 리더보드: 1570572.578222662"
      ],
      "metadata": {
        "id": "1yw6nO9uGf5L"
      }
    },
    {
      "cell_type": "code",
      "source": [
        "from sklearn.tree import DecisionTreeRegressor\n",
        "from sklearn.ensemble import GradientBoostingRegressor\n",
        "from xgboost import XGBRegressor\n",
        "from lightgbm import LGBMRegressor\n",
        "from sklearn.ensemble import RandomForestRegressor"
      ],
      "metadata": {
        "id": "sEk4fuVNGtjQ"
      },
      "execution_count": 23,
      "outputs": []
    },
    {
      "cell_type": "code",
      "source": [
        "def get_model_cv_prediction(model, X_data, y_target):\n",
        "    neg_mse_scores = cross_val_score(model, X_data, y_target, scoring = \"neg_mean_squared_error\", cv = 5)\n",
        "    rmse_scores  = np.sqrt(-1 * neg_mse_scores)\n",
        "    avg_rmse = np.mean(rmse_scores)\n",
        "\n",
        "    print('##### ', model.__class__.__name__ , ' #####')\n",
        "    print(' 5 교차 검증의 평균 RMSE : {0:.3f} '.format(avg_rmse))\n",
        "    \n",
        "dt_reg = DecisionTreeRegressor(random_state = 0, max_depth = 4)\n",
        "rf_reg = RandomForestRegressor(random_state = 0, n_estimators = 1000)\n",
        "gb_reg = GradientBoostingRegressor(random_state = 0, n_estimators = 1000)\n",
        "xgb_reg = XGBRegressor(n_estimators = 1000)\n",
        "lgb_reg = LGBMRegressor(n_estimators = 1000)\n",
        "\n",
        "# 트리 기반의 회귀 모델을 반복하면서 평가 수행 \n",
        "models = [dt_reg, rf_reg, gb_reg, xgb_reg, lgb_reg]\n",
        "\n",
        "for model in models:  \n",
        "    get_model_cv_prediction(model, X_features, y_target)"
      ],
      "metadata": {
        "colab": {
          "base_uri": "https://localhost:8080/"
        },
        "id": "KrLViYGpGwtj",
        "outputId": "93a00d02-049c-4fae-ae6e-59590a1399aa"
      },
      "execution_count": 24,
      "outputs": [
        {
          "output_type": "stream",
          "name": "stdout",
          "text": [
            "#####  DecisionTreeRegressor  #####\n",
            " 5 교차 검증의 평균 RMSE : 2.115 \n",
            "#####  RandomForestRegressor  #####\n",
            " 5 교차 검증의 평균 RMSE : 1.892 \n",
            "#####  GradientBoostingRegressor  #####\n",
            " 5 교차 검증의 평균 RMSE : 2.065 \n",
            "[08:18:05] WARNING: /workspace/src/objective/regression_obj.cu:152: reg:linear is now deprecated in favor of reg:squarederror.\n",
            "[08:18:05] WARNING: /workspace/src/objective/regression_obj.cu:152: reg:linear is now deprecated in favor of reg:squarederror.\n",
            "[08:18:06] WARNING: /workspace/src/objective/regression_obj.cu:152: reg:linear is now deprecated in favor of reg:squarederror.\n",
            "[08:18:07] WARNING: /workspace/src/objective/regression_obj.cu:152: reg:linear is now deprecated in favor of reg:squarederror.\n",
            "[08:18:07] WARNING: /workspace/src/objective/regression_obj.cu:152: reg:linear is now deprecated in favor of reg:squarederror.\n",
            "#####  XGBRegressor  #####\n",
            " 5 교차 검증의 평균 RMSE : 2.043 \n",
            "#####  LGBMRegressor  #####\n",
            " 5 교차 검증의 평균 RMSE : 2.082 \n"
          ]
        }
      ]
    },
    {
      "cell_type": "code",
      "source": [
        "rf_reg = RandomForestRegressor(random_state = 0, n_estimators = 1000)\n",
        "rf_reg.fit(X_features, y_target)\n",
        "rf_reg_pred = rf_reg.predict(X_test)\n",
        "rf_reg_pred = np.expm1(rf_reg_pred)"
      ],
      "metadata": {
        "id": "uHwwWMgsSdXA"
      },
      "execution_count": 31,
      "outputs": []
    },
    {
      "cell_type": "code",
      "source": [
        "sub['box_off_num'] = rf_reg_pred\n",
        "sub.to_csv('/content/drive/MyDrive/esaa_data/movies/submission.csv', index=False)"
      ],
      "metadata": {
        "id": "Bat-if1UIjGl"
      },
      "execution_count": 33,
      "outputs": []
    },
    {
      "cell_type": "markdown",
      "source": [
        "+ 리더보드: \t1377208.1989272085\t"
      ],
      "metadata": {
        "id": "uEdsylOTZHa-"
      }
    },
    {
      "cell_type": "code",
      "source": [
        "from sklearn.model_selection import GridSearchCV\n",
        "rf_reg = RandomForestRegressor()\n",
        "\n",
        "params = {'n_estimators':[700, 800, 900, 1000, 1100],\n",
        "    'max_depth':[3, 5, 7]}\n",
        "\n",
        "gridcv = GridSearchCV(rf_reg, params)\n",
        "gridcv.fit(X_features, y_target)\n",
        "\n",
        "print('GridSearchCV 최적 파라미터:', gridcv.best_params_) "
      ],
      "metadata": {
        "colab": {
          "base_uri": "https://localhost:8080/"
        },
        "id": "BFqM0bk4ZKiz",
        "outputId": "f575ae8b-6c4d-427e-a5ea-a627cfa52782"
      },
      "execution_count": 42,
      "outputs": [
        {
          "output_type": "stream",
          "name": "stdout",
          "text": [
            "GridSearchCV 최적 파라미터: {'max_depth': 7, 'n_estimators': 800}\n"
          ]
        }
      ]
    },
    {
      "cell_type": "code",
      "source": [
        "rf_best = gridcv.best_estimator_\n",
        "rf_best.fit(X_features, y_target)\n",
        "rf_pred = rf_best.predict(X_test)\n",
        "rf_pred = np.expm1(rf_pred)\n",
        "\n",
        "sub['box_off_num'] = rf_pred\n",
        "sub.to_csv('/content/drive/MyDrive/esaa_data/movies/submission.csv', index=False)"
      ],
      "metadata": {
        "id": "5Rh08mzBbLo7"
      },
      "execution_count": 41,
      "outputs": []
    }
  ]
}