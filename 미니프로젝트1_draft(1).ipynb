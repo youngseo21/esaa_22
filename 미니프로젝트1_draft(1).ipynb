{
  "nbformat": 4,
  "nbformat_minor": 0,
  "metadata": {
    "colab": {
      "provenance": [],
      "authorship_tag": "ABX9TyODIfUoex1XovCU03jA2KAh",
      "include_colab_link": true
    },
    "kernelspec": {
      "name": "python3",
      "display_name": "Python 3"
    },
    "language_info": {
      "name": "python"
    }
  },
  "cells": [
    {
      "cell_type": "markdown",
      "metadata": {
        "id": "view-in-github",
        "colab_type": "text"
      },
      "source": [
        "<a href=\"https://colab.research.google.com/github/youngseo21/esaa_22/blob/main/%EB%AF%B8%EB%8B%88%ED%94%84%EB%A1%9C%EC%A0%9D%ED%8A%B81_draft(1).ipynb\" target=\"_parent\"><img src=\"https://colab.research.google.com/assets/colab-badge.svg\" alt=\"Open In Colab\"/></a>"
      ]
    },
    {
      "cell_type": "markdown",
      "source": [
        "# 미니 프로젝트1 YB3조: Movies\n",
        "## 1. 라이브러리 및 데이터 불러오기\n",
        "---"
      ],
      "metadata": {
        "id": "KGqn2NtzE0kg"
      }
    },
    {
      "cell_type": "code",
      "source": [
        "# 나눔 폰트 설치\n",
        "!sudo apt-get install -y fonts-nanum\n",
        "!sudo fc-cache -fv\n",
        "!rm ~/.cache/matplotlib -rf"
      ],
      "metadata": {
        "colab": {
          "base_uri": "https://localhost:8080/"
        },
        "id": "ds6iaikrFLSI",
        "outputId": "674ba1c6-2048-459d-88d5-54be3f935e71"
      },
      "execution_count": 8,
      "outputs": [
        {
          "output_type": "stream",
          "name": "stdout",
          "text": [
            "Reading package lists... Done\n",
            "Building dependency tree       \n",
            "Reading state information... Done\n",
            "The following package was automatically installed and is no longer required:\n",
            "  libnvidia-common-460\n",
            "Use 'sudo apt autoremove' to remove it.\n",
            "The following NEW packages will be installed:\n",
            "  fonts-nanum\n",
            "0 upgraded, 1 newly installed, 0 to remove and 20 not upgraded.\n",
            "Need to get 9,604 kB of archives.\n",
            "After this operation, 29.5 MB of additional disk space will be used.\n",
            "Get:1 http://archive.ubuntu.com/ubuntu bionic/universe amd64 fonts-nanum all 20170925-1 [9,604 kB]\n",
            "Fetched 9,604 kB in 1s (8,963 kB/s)\n",
            "debconf: unable to initialize frontend: Dialog\n",
            "debconf: (No usable dialog-like program is installed, so the dialog based frontend cannot be used. at /usr/share/perl5/Debconf/FrontEnd/Dialog.pm line 76, <> line 1.)\n",
            "debconf: falling back to frontend: Readline\n",
            "debconf: unable to initialize frontend: Readline\n",
            "debconf: (This frontend requires a controlling tty.)\n",
            "debconf: falling back to frontend: Teletype\n",
            "dpkg-preconfigure: unable to re-open stdin: \n",
            "Selecting previously unselected package fonts-nanum.\n",
            "(Reading database ... 159447 files and directories currently installed.)\n",
            "Preparing to unpack .../fonts-nanum_20170925-1_all.deb ...\n",
            "Unpacking fonts-nanum (20170925-1) ...\n",
            "Setting up fonts-nanum (20170925-1) ...\n",
            "Processing triggers for fontconfig (2.12.6-0ubuntu2) ...\n",
            "/usr/share/fonts: caching, new cache contents: 0 fonts, 1 dirs\n",
            "/usr/share/fonts/truetype: caching, new cache contents: 0 fonts, 3 dirs\n",
            "/usr/share/fonts/truetype/humor-sans: caching, new cache contents: 1 fonts, 0 dirs\n",
            "/usr/share/fonts/truetype/liberation: caching, new cache contents: 16 fonts, 0 dirs\n",
            "/usr/share/fonts/truetype/nanum: caching, new cache contents: 10 fonts, 0 dirs\n",
            "/usr/local/share/fonts: caching, new cache contents: 0 fonts, 0 dirs\n",
            "/root/.local/share/fonts: skipping, no such directory\n",
            "/root/.fonts: skipping, no such directory\n",
            "/var/cache/fontconfig: cleaning cache directory\n",
            "/root/.cache/fontconfig: not cleaning non-existent cache directory\n",
            "/root/.fontconfig: not cleaning non-existent cache directory\n",
            "fc-cache: succeeded\n"
          ]
        }
      ]
    },
    {
      "cell_type": "code",
      "execution_count": 1,
      "metadata": {
        "id": "nDJ_xiYg348Q"
      },
      "outputs": [],
      "source": [
        "import pandas as pd\n",
        "import numpy as np\n",
        "import seaborn as sns\n",
        "import matplotlib.pyplot as plt\n",
        "plt.rc('font', family='NanumBarunGothic') #matplotlib 한글 깨짐 방지\n",
        "\n",
        "# 출력 결과를 셀 아래 inline으로 표시\n",
        "%matplotlib inline \n",
        "\n",
        "import warnings\n",
        "warnings.filterwarnings(action='ignore')"
      ]
    },
    {
      "cell_type": "code",
      "source": [
        "from google.colab import drive\n",
        "drive.mount('/content/drive')"
      ],
      "metadata": {
        "colab": {
          "base_uri": "https://localhost:8080/"
        },
        "id": "YKfhFJUp4Qqz",
        "outputId": "1c89b1d7-7f4d-45c3-87f2-3329b47d45fd"
      },
      "execution_count": 3,
      "outputs": [
        {
          "output_type": "stream",
          "name": "stdout",
          "text": [
            "Mounted at /content/drive\n"
          ]
        }
      ]
    },
    {
      "cell_type": "code",
      "source": [
        "movies = pd.read_csv('/content/drive/MyDrive/movies_train.csv')"
      ],
      "metadata": {
        "id": "AF4OmB2z4Sr1"
      },
      "execution_count": 3,
      "outputs": []
    },
    {
      "cell_type": "markdown",
      "source": [
        "## 2. 탐색적 자료분석(EDA)\n",
        "---\n",
        "###1) 일부 데이터 미리보기\n",
        "+ title : 영화의 제목\n",
        "+ distributor : 배급사\n",
        "+ genre : 장르\n",
        "+ release_time : 개봉일\n",
        "+ time : 상영시간(분)\n",
        "+ screening_rat : 상영등급\n",
        "+ director : 감독이름\n",
        "+ dir_prev_bfnum : 해당 감독이 이 영화를 만들기 전 제작에 참여한 영화에서의 평균 관객수(단 관객수가 알려지지 않은 영화 제외)\n",
        "+ dir_prev_num : 해당 감독이 이 영화를 만들기 전 제작에 참여한 영화의 개수(단 관객수가 알려지지 않은 영화 제외)\n",
        "+ num_staff : 스텝수\n",
        "+ num_actor : 주연배우수\n",
        "+ box_off_num : 관객수"
      ],
      "metadata": {
        "id": "BYERDdzcgw-E"
      }
    },
    {
      "cell_type": "code",
      "source": [
        "movies.head()"
      ],
      "metadata": {
        "colab": {
          "base_uri": "https://localhost:8080/",
          "height": 392
        },
        "id": "euths5zdhGSt",
        "outputId": "990eb65c-48a2-401c-f6b4-9e65a776a6b9"
      },
      "execution_count": null,
      "outputs": [
        {
          "output_type": "execute_result",
          "data": {
            "text/plain": [
              "       title   distributor genre release_time  time screening_rat director  \\\n",
              "0     개들의 전쟁      롯데엔터테인먼트    액션   2012-11-22    96      청소년 관람불가      조병옥   \n",
              "1       내부자들        (주)쇼박스   느와르   2015-11-19   130      청소년 관람불가      우민호   \n",
              "2  은밀하게 위대하게        (주)쇼박스    액션   2013-06-05   123       15세 관람가      장철수   \n",
              "3   나는 공무원이다        (주)NEW   코미디   2012-07-12   101        전체 관람가      구자홍   \n",
              "4       불량남녀  쇼박스(주)미디어플렉스   코미디   2010-11-04   108       15세 관람가      신근호   \n",
              "\n",
              "   dir_prev_bfnum  dir_prev_num  num_staff  num_actor  box_off_num  \n",
              "0             NaN             0         91          2        23398  \n",
              "1      1161602.50             2        387          3      7072501  \n",
              "2       220775.25             4        343          4      6959083  \n",
              "3        23894.00             2         20          6       217866  \n",
              "4            1.00             1        251          2       483387  "
            ],
            "text/html": [
              "\n",
              "  <div id=\"df-2febde77-6ff0-473d-bb25-6577d1d1c2f1\">\n",
              "    <div class=\"colab-df-container\">\n",
              "      <div>\n",
              "<style scoped>\n",
              "    .dataframe tbody tr th:only-of-type {\n",
              "        vertical-align: middle;\n",
              "    }\n",
              "\n",
              "    .dataframe tbody tr th {\n",
              "        vertical-align: top;\n",
              "    }\n",
              "\n",
              "    .dataframe thead th {\n",
              "        text-align: right;\n",
              "    }\n",
              "</style>\n",
              "<table border=\"1\" class=\"dataframe\">\n",
              "  <thead>\n",
              "    <tr style=\"text-align: right;\">\n",
              "      <th></th>\n",
              "      <th>title</th>\n",
              "      <th>distributor</th>\n",
              "      <th>genre</th>\n",
              "      <th>release_time</th>\n",
              "      <th>time</th>\n",
              "      <th>screening_rat</th>\n",
              "      <th>director</th>\n",
              "      <th>dir_prev_bfnum</th>\n",
              "      <th>dir_prev_num</th>\n",
              "      <th>num_staff</th>\n",
              "      <th>num_actor</th>\n",
              "      <th>box_off_num</th>\n",
              "    </tr>\n",
              "  </thead>\n",
              "  <tbody>\n",
              "    <tr>\n",
              "      <th>0</th>\n",
              "      <td>개들의 전쟁</td>\n",
              "      <td>롯데엔터테인먼트</td>\n",
              "      <td>액션</td>\n",
              "      <td>2012-11-22</td>\n",
              "      <td>96</td>\n",
              "      <td>청소년 관람불가</td>\n",
              "      <td>조병옥</td>\n",
              "      <td>NaN</td>\n",
              "      <td>0</td>\n",
              "      <td>91</td>\n",
              "      <td>2</td>\n",
              "      <td>23398</td>\n",
              "    </tr>\n",
              "    <tr>\n",
              "      <th>1</th>\n",
              "      <td>내부자들</td>\n",
              "      <td>(주)쇼박스</td>\n",
              "      <td>느와르</td>\n",
              "      <td>2015-11-19</td>\n",
              "      <td>130</td>\n",
              "      <td>청소년 관람불가</td>\n",
              "      <td>우민호</td>\n",
              "      <td>1161602.50</td>\n",
              "      <td>2</td>\n",
              "      <td>387</td>\n",
              "      <td>3</td>\n",
              "      <td>7072501</td>\n",
              "    </tr>\n",
              "    <tr>\n",
              "      <th>2</th>\n",
              "      <td>은밀하게 위대하게</td>\n",
              "      <td>(주)쇼박스</td>\n",
              "      <td>액션</td>\n",
              "      <td>2013-06-05</td>\n",
              "      <td>123</td>\n",
              "      <td>15세 관람가</td>\n",
              "      <td>장철수</td>\n",
              "      <td>220775.25</td>\n",
              "      <td>4</td>\n",
              "      <td>343</td>\n",
              "      <td>4</td>\n",
              "      <td>6959083</td>\n",
              "    </tr>\n",
              "    <tr>\n",
              "      <th>3</th>\n",
              "      <td>나는 공무원이다</td>\n",
              "      <td>(주)NEW</td>\n",
              "      <td>코미디</td>\n",
              "      <td>2012-07-12</td>\n",
              "      <td>101</td>\n",
              "      <td>전체 관람가</td>\n",
              "      <td>구자홍</td>\n",
              "      <td>23894.00</td>\n",
              "      <td>2</td>\n",
              "      <td>20</td>\n",
              "      <td>6</td>\n",
              "      <td>217866</td>\n",
              "    </tr>\n",
              "    <tr>\n",
              "      <th>4</th>\n",
              "      <td>불량남녀</td>\n",
              "      <td>쇼박스(주)미디어플렉스</td>\n",
              "      <td>코미디</td>\n",
              "      <td>2010-11-04</td>\n",
              "      <td>108</td>\n",
              "      <td>15세 관람가</td>\n",
              "      <td>신근호</td>\n",
              "      <td>1.00</td>\n",
              "      <td>1</td>\n",
              "      <td>251</td>\n",
              "      <td>2</td>\n",
              "      <td>483387</td>\n",
              "    </tr>\n",
              "  </tbody>\n",
              "</table>\n",
              "</div>\n",
              "      <button class=\"colab-df-convert\" onclick=\"convertToInteractive('df-2febde77-6ff0-473d-bb25-6577d1d1c2f1')\"\n",
              "              title=\"Convert this dataframe to an interactive table.\"\n",
              "              style=\"display:none;\">\n",
              "        \n",
              "  <svg xmlns=\"http://www.w3.org/2000/svg\" height=\"24px\"viewBox=\"0 0 24 24\"\n",
              "       width=\"24px\">\n",
              "    <path d=\"M0 0h24v24H0V0z\" fill=\"none\"/>\n",
              "    <path d=\"M18.56 5.44l.94 2.06.94-2.06 2.06-.94-2.06-.94-.94-2.06-.94 2.06-2.06.94zm-11 1L8.5 8.5l.94-2.06 2.06-.94-2.06-.94L8.5 2.5l-.94 2.06-2.06.94zm10 10l.94 2.06.94-2.06 2.06-.94-2.06-.94-.94-2.06-.94 2.06-2.06.94z\"/><path d=\"M17.41 7.96l-1.37-1.37c-.4-.4-.92-.59-1.43-.59-.52 0-1.04.2-1.43.59L10.3 9.45l-7.72 7.72c-.78.78-.78 2.05 0 2.83L4 21.41c.39.39.9.59 1.41.59.51 0 1.02-.2 1.41-.59l7.78-7.78 2.81-2.81c.8-.78.8-2.07 0-2.86zM5.41 20L4 18.59l7.72-7.72 1.47 1.35L5.41 20z\"/>\n",
              "  </svg>\n",
              "      </button>\n",
              "      \n",
              "  <style>\n",
              "    .colab-df-container {\n",
              "      display:flex;\n",
              "      flex-wrap:wrap;\n",
              "      gap: 12px;\n",
              "    }\n",
              "\n",
              "    .colab-df-convert {\n",
              "      background-color: #E8F0FE;\n",
              "      border: none;\n",
              "      border-radius: 50%;\n",
              "      cursor: pointer;\n",
              "      display: none;\n",
              "      fill: #1967D2;\n",
              "      height: 32px;\n",
              "      padding: 0 0 0 0;\n",
              "      width: 32px;\n",
              "    }\n",
              "\n",
              "    .colab-df-convert:hover {\n",
              "      background-color: #E2EBFA;\n",
              "      box-shadow: 0px 1px 2px rgba(60, 64, 67, 0.3), 0px 1px 3px 1px rgba(60, 64, 67, 0.15);\n",
              "      fill: #174EA6;\n",
              "    }\n",
              "\n",
              "    [theme=dark] .colab-df-convert {\n",
              "      background-color: #3B4455;\n",
              "      fill: #D2E3FC;\n",
              "    }\n",
              "\n",
              "    [theme=dark] .colab-df-convert:hover {\n",
              "      background-color: #434B5C;\n",
              "      box-shadow: 0px 1px 3px 1px rgba(0, 0, 0, 0.15);\n",
              "      filter: drop-shadow(0px 1px 2px rgba(0, 0, 0, 0.3));\n",
              "      fill: #FFFFFF;\n",
              "    }\n",
              "  </style>\n",
              "\n",
              "      <script>\n",
              "        const buttonEl =\n",
              "          document.querySelector('#df-2febde77-6ff0-473d-bb25-6577d1d1c2f1 button.colab-df-convert');\n",
              "        buttonEl.style.display =\n",
              "          google.colab.kernel.accessAllowed ? 'block' : 'none';\n",
              "\n",
              "        async function convertToInteractive(key) {\n",
              "          const element = document.querySelector('#df-2febde77-6ff0-473d-bb25-6577d1d1c2f1');\n",
              "          const dataTable =\n",
              "            await google.colab.kernel.invokeFunction('convertToInteractive',\n",
              "                                                     [key], {});\n",
              "          if (!dataTable) return;\n",
              "\n",
              "          const docLinkHtml = 'Like what you see? Visit the ' +\n",
              "            '<a target=\"_blank\" href=https://colab.research.google.com/notebooks/data_table.ipynb>data table notebook</a>'\n",
              "            + ' to learn more about interactive tables.';\n",
              "          element.innerHTML = '';\n",
              "          dataTable['output_type'] = 'display_data';\n",
              "          await google.colab.output.renderOutput(dataTable, element);\n",
              "          const docLink = document.createElement('div');\n",
              "          docLink.innerHTML = docLinkHtml;\n",
              "          element.appendChild(docLink);\n",
              "        }\n",
              "      </script>\n",
              "    </div>\n",
              "  </div>\n",
              "  "
            ]
          },
          "metadata": {},
          "execution_count": 7
        }
      ]
    },
    {
      "cell_type": "code",
      "source": [
        "movies.tail()"
      ],
      "metadata": {
        "colab": {
          "base_uri": "https://localhost:8080/",
          "height": 340
        },
        "id": "WKQCmrnrhQ29",
        "outputId": "9ece49b0-d8f6-47ec-d76c-0ed199256c62"
      },
      "execution_count": null,
      "outputs": [
        {
          "output_type": "execute_result",
          "data": {
            "text/plain": [
              "      title distributor genre release_time  time screening_rat director  \\\n",
              "595      해무      (주)NEW   드라마   2014-08-13   111      청소년 관람불가      심성보   \n",
              "596    파파로티      (주)쇼박스   드라마   2013-03-14   127       15세 관람가      윤종찬   \n",
              "597   살인의 강   (주)마운틴픽쳐스    공포   2010-09-30    99      청소년 관람불가      김대현   \n",
              "598  악의 연대기   CJ 엔터테인먼트   느와르   2015-05-14   102       15세 관람가      백운학   \n",
              "599     베를린   CJ 엔터테인먼트    액션   2013-01-30   120       15세 관람가      류승완   \n",
              "\n",
              "     dir_prev_bfnum  dir_prev_num  num_staff  num_actor  box_off_num  \n",
              "595          3833.0             1        510          7      1475091  \n",
              "596        496061.0             1        286          6      1716438  \n",
              "597             NaN             0        123          4         2475  \n",
              "598             NaN             0        431          4      2192525  \n",
              "599             NaN             0        363          5      7166532  "
            ],
            "text/html": [
              "\n",
              "  <div id=\"df-9fdbdbe8-a5c5-4cbf-9090-d200d4cbb696\">\n",
              "    <div class=\"colab-df-container\">\n",
              "      <div>\n",
              "<style scoped>\n",
              "    .dataframe tbody tr th:only-of-type {\n",
              "        vertical-align: middle;\n",
              "    }\n",
              "\n",
              "    .dataframe tbody tr th {\n",
              "        vertical-align: top;\n",
              "    }\n",
              "\n",
              "    .dataframe thead th {\n",
              "        text-align: right;\n",
              "    }\n",
              "</style>\n",
              "<table border=\"1\" class=\"dataframe\">\n",
              "  <thead>\n",
              "    <tr style=\"text-align: right;\">\n",
              "      <th></th>\n",
              "      <th>title</th>\n",
              "      <th>distributor</th>\n",
              "      <th>genre</th>\n",
              "      <th>release_time</th>\n",
              "      <th>time</th>\n",
              "      <th>screening_rat</th>\n",
              "      <th>director</th>\n",
              "      <th>dir_prev_bfnum</th>\n",
              "      <th>dir_prev_num</th>\n",
              "      <th>num_staff</th>\n",
              "      <th>num_actor</th>\n",
              "      <th>box_off_num</th>\n",
              "    </tr>\n",
              "  </thead>\n",
              "  <tbody>\n",
              "    <tr>\n",
              "      <th>595</th>\n",
              "      <td>해무</td>\n",
              "      <td>(주)NEW</td>\n",
              "      <td>드라마</td>\n",
              "      <td>2014-08-13</td>\n",
              "      <td>111</td>\n",
              "      <td>청소년 관람불가</td>\n",
              "      <td>심성보</td>\n",
              "      <td>3833.0</td>\n",
              "      <td>1</td>\n",
              "      <td>510</td>\n",
              "      <td>7</td>\n",
              "      <td>1475091</td>\n",
              "    </tr>\n",
              "    <tr>\n",
              "      <th>596</th>\n",
              "      <td>파파로티</td>\n",
              "      <td>(주)쇼박스</td>\n",
              "      <td>드라마</td>\n",
              "      <td>2013-03-14</td>\n",
              "      <td>127</td>\n",
              "      <td>15세 관람가</td>\n",
              "      <td>윤종찬</td>\n",
              "      <td>496061.0</td>\n",
              "      <td>1</td>\n",
              "      <td>286</td>\n",
              "      <td>6</td>\n",
              "      <td>1716438</td>\n",
              "    </tr>\n",
              "    <tr>\n",
              "      <th>597</th>\n",
              "      <td>살인의 강</td>\n",
              "      <td>(주)마운틴픽쳐스</td>\n",
              "      <td>공포</td>\n",
              "      <td>2010-09-30</td>\n",
              "      <td>99</td>\n",
              "      <td>청소년 관람불가</td>\n",
              "      <td>김대현</td>\n",
              "      <td>NaN</td>\n",
              "      <td>0</td>\n",
              "      <td>123</td>\n",
              "      <td>4</td>\n",
              "      <td>2475</td>\n",
              "    </tr>\n",
              "    <tr>\n",
              "      <th>598</th>\n",
              "      <td>악의 연대기</td>\n",
              "      <td>CJ 엔터테인먼트</td>\n",
              "      <td>느와르</td>\n",
              "      <td>2015-05-14</td>\n",
              "      <td>102</td>\n",
              "      <td>15세 관람가</td>\n",
              "      <td>백운학</td>\n",
              "      <td>NaN</td>\n",
              "      <td>0</td>\n",
              "      <td>431</td>\n",
              "      <td>4</td>\n",
              "      <td>2192525</td>\n",
              "    </tr>\n",
              "    <tr>\n",
              "      <th>599</th>\n",
              "      <td>베를린</td>\n",
              "      <td>CJ 엔터테인먼트</td>\n",
              "      <td>액션</td>\n",
              "      <td>2013-01-30</td>\n",
              "      <td>120</td>\n",
              "      <td>15세 관람가</td>\n",
              "      <td>류승완</td>\n",
              "      <td>NaN</td>\n",
              "      <td>0</td>\n",
              "      <td>363</td>\n",
              "      <td>5</td>\n",
              "      <td>7166532</td>\n",
              "    </tr>\n",
              "  </tbody>\n",
              "</table>\n",
              "</div>\n",
              "      <button class=\"colab-df-convert\" onclick=\"convertToInteractive('df-9fdbdbe8-a5c5-4cbf-9090-d200d4cbb696')\"\n",
              "              title=\"Convert this dataframe to an interactive table.\"\n",
              "              style=\"display:none;\">\n",
              "        \n",
              "  <svg xmlns=\"http://www.w3.org/2000/svg\" height=\"24px\"viewBox=\"0 0 24 24\"\n",
              "       width=\"24px\">\n",
              "    <path d=\"M0 0h24v24H0V0z\" fill=\"none\"/>\n",
              "    <path d=\"M18.56 5.44l.94 2.06.94-2.06 2.06-.94-2.06-.94-.94-2.06-.94 2.06-2.06.94zm-11 1L8.5 8.5l.94-2.06 2.06-.94-2.06-.94L8.5 2.5l-.94 2.06-2.06.94zm10 10l.94 2.06.94-2.06 2.06-.94-2.06-.94-.94-2.06-.94 2.06-2.06.94z\"/><path d=\"M17.41 7.96l-1.37-1.37c-.4-.4-.92-.59-1.43-.59-.52 0-1.04.2-1.43.59L10.3 9.45l-7.72 7.72c-.78.78-.78 2.05 0 2.83L4 21.41c.39.39.9.59 1.41.59.51 0 1.02-.2 1.41-.59l7.78-7.78 2.81-2.81c.8-.78.8-2.07 0-2.86zM5.41 20L4 18.59l7.72-7.72 1.47 1.35L5.41 20z\"/>\n",
              "  </svg>\n",
              "      </button>\n",
              "      \n",
              "  <style>\n",
              "    .colab-df-container {\n",
              "      display:flex;\n",
              "      flex-wrap:wrap;\n",
              "      gap: 12px;\n",
              "    }\n",
              "\n",
              "    .colab-df-convert {\n",
              "      background-color: #E8F0FE;\n",
              "      border: none;\n",
              "      border-radius: 50%;\n",
              "      cursor: pointer;\n",
              "      display: none;\n",
              "      fill: #1967D2;\n",
              "      height: 32px;\n",
              "      padding: 0 0 0 0;\n",
              "      width: 32px;\n",
              "    }\n",
              "\n",
              "    .colab-df-convert:hover {\n",
              "      background-color: #E2EBFA;\n",
              "      box-shadow: 0px 1px 2px rgba(60, 64, 67, 0.3), 0px 1px 3px 1px rgba(60, 64, 67, 0.15);\n",
              "      fill: #174EA6;\n",
              "    }\n",
              "\n",
              "    [theme=dark] .colab-df-convert {\n",
              "      background-color: #3B4455;\n",
              "      fill: #D2E3FC;\n",
              "    }\n",
              "\n",
              "    [theme=dark] .colab-df-convert:hover {\n",
              "      background-color: #434B5C;\n",
              "      box-shadow: 0px 1px 3px 1px rgba(0, 0, 0, 0.15);\n",
              "      filter: drop-shadow(0px 1px 2px rgba(0, 0, 0, 0.3));\n",
              "      fill: #FFFFFF;\n",
              "    }\n",
              "  </style>\n",
              "\n",
              "      <script>\n",
              "        const buttonEl =\n",
              "          document.querySelector('#df-9fdbdbe8-a5c5-4cbf-9090-d200d4cbb696 button.colab-df-convert');\n",
              "        buttonEl.style.display =\n",
              "          google.colab.kernel.accessAllowed ? 'block' : 'none';\n",
              "\n",
              "        async function convertToInteractive(key) {\n",
              "          const element = document.querySelector('#df-9fdbdbe8-a5c5-4cbf-9090-d200d4cbb696');\n",
              "          const dataTable =\n",
              "            await google.colab.kernel.invokeFunction('convertToInteractive',\n",
              "                                                     [key], {});\n",
              "          if (!dataTable) return;\n",
              "\n",
              "          const docLinkHtml = 'Like what you see? Visit the ' +\n",
              "            '<a target=\"_blank\" href=https://colab.research.google.com/notebooks/data_table.ipynb>data table notebook</a>'\n",
              "            + ' to learn more about interactive tables.';\n",
              "          element.innerHTML = '';\n",
              "          dataTable['output_type'] = 'display_data';\n",
              "          await google.colab.output.renderOutput(dataTable, element);\n",
              "          const docLink = document.createElement('div');\n",
              "          docLink.innerHTML = docLinkHtml;\n",
              "          element.appendChild(docLink);\n",
              "        }\n",
              "      </script>\n",
              "    </div>\n",
              "  </div>\n",
              "  "
            ]
          },
          "metadata": {},
          "execution_count": 11
        }
      ]
    },
    {
      "cell_type": "markdown",
      "source": [
        "### 2) 데이터 요약\n",
        "+ 600개의 데이터와 12개의 변수 "
      ],
      "metadata": {
        "id": "75FotnSJhY03"
      }
    },
    {
      "cell_type": "code",
      "source": [
        "movies.shape"
      ],
      "metadata": {
        "colab": {
          "base_uri": "https://localhost:8080/"
        },
        "id": "mI3A_aG7ha_M",
        "outputId": "413c767b-4aab-4228-a27d-dac9ffa14424"
      },
      "execution_count": null,
      "outputs": [
        {
          "output_type": "execute_result",
          "data": {
            "text/plain": [
              "(600, 12)"
            ]
          },
          "metadata": {},
          "execution_count": 12
        }
      ]
    },
    {
      "cell_type": "code",
      "source": [
        "movies.info()"
      ],
      "metadata": {
        "colab": {
          "base_uri": "https://localhost:8080/"
        },
        "id": "Yr2qS2vEhfFb",
        "outputId": "0ecdc5a4-c275-439d-cde6-ffa09c6b8204"
      },
      "execution_count": null,
      "outputs": [
        {
          "output_type": "stream",
          "name": "stdout",
          "text": [
            "<class 'pandas.core.frame.DataFrame'>\n",
            "RangeIndex: 600 entries, 0 to 599\n",
            "Data columns (total 12 columns):\n",
            " #   Column          Non-Null Count  Dtype  \n",
            "---  ------          --------------  -----  \n",
            " 0   title           600 non-null    object \n",
            " 1   distributor     600 non-null    object \n",
            " 2   genre           600 non-null    object \n",
            " 3   release_time    600 non-null    object \n",
            " 4   time            600 non-null    int64  \n",
            " 5   screening_rat   600 non-null    object \n",
            " 6   director        600 non-null    object \n",
            " 7   dir_prev_bfnum  270 non-null    float64\n",
            " 8   dir_prev_num    600 non-null    int64  \n",
            " 9   num_staff       600 non-null    int64  \n",
            " 10  num_actor       600 non-null    int64  \n",
            " 11  box_off_num     600 non-null    int64  \n",
            "dtypes: float64(1), int64(5), object(6)\n",
            "memory usage: 56.4+ KB\n"
          ]
        }
      ]
    },
    {
      "cell_type": "markdown",
      "source": [
        "### 3) 데이터의 요약통계량 확인"
      ],
      "metadata": {
        "id": "j50tMgoYiPVu"
      }
    },
    {
      "cell_type": "code",
      "source": [
        "pd.options.display.float_format = '{:.1f}'.format"
      ],
      "metadata": {
        "id": "4mJUHUn9iO3w"
      },
      "execution_count": null,
      "outputs": []
    },
    {
      "cell_type": "code",
      "source": [
        "movies.describe()"
      ],
      "metadata": {
        "colab": {
          "base_uri": "https://localhost:8080/",
          "height": 300
        },
        "id": "zRm4FNOrijZx",
        "outputId": "3c547b5a-23e3-4e94-b796-37661fee42a2"
      },
      "execution_count": null,
      "outputs": [
        {
          "output_type": "execute_result",
          "data": {
            "text/plain": [
              "       time  dir_prev_bfnum  dir_prev_num  num_staff  num_actor  box_off_num\n",
              "count 600.0           270.0         600.0      600.0      600.0        600.0\n",
              "mean  100.9       1050442.9           0.9      151.1        3.7     708181.8\n",
              "std    18.1       1791408.3           1.2      165.7        2.4    1828005.9\n",
              "min    45.0             1.0           0.0        0.0        0.0          1.0\n",
              "25%    89.0         20380.0           0.0       17.0        2.0       1297.2\n",
              "50%   100.0        478423.6           0.0       82.5        3.0      12591.0\n",
              "75%   114.0       1286568.6           2.0      264.0        4.0     479886.8\n",
              "max   180.0      17615314.0           5.0      869.0       25.0   14262766.0"
            ],
            "text/html": [
              "\n",
              "  <div id=\"df-3684249c-d61c-4df8-878b-8d5be4f45747\">\n",
              "    <div class=\"colab-df-container\">\n",
              "      <div>\n",
              "<style scoped>\n",
              "    .dataframe tbody tr th:only-of-type {\n",
              "        vertical-align: middle;\n",
              "    }\n",
              "\n",
              "    .dataframe tbody tr th {\n",
              "        vertical-align: top;\n",
              "    }\n",
              "\n",
              "    .dataframe thead th {\n",
              "        text-align: right;\n",
              "    }\n",
              "</style>\n",
              "<table border=\"1\" class=\"dataframe\">\n",
              "  <thead>\n",
              "    <tr style=\"text-align: right;\">\n",
              "      <th></th>\n",
              "      <th>time</th>\n",
              "      <th>dir_prev_bfnum</th>\n",
              "      <th>dir_prev_num</th>\n",
              "      <th>num_staff</th>\n",
              "      <th>num_actor</th>\n",
              "      <th>box_off_num</th>\n",
              "    </tr>\n",
              "  </thead>\n",
              "  <tbody>\n",
              "    <tr>\n",
              "      <th>count</th>\n",
              "      <td>600.0</td>\n",
              "      <td>270.0</td>\n",
              "      <td>600.0</td>\n",
              "      <td>600.0</td>\n",
              "      <td>600.0</td>\n",
              "      <td>600.0</td>\n",
              "    </tr>\n",
              "    <tr>\n",
              "      <th>mean</th>\n",
              "      <td>100.9</td>\n",
              "      <td>1050442.9</td>\n",
              "      <td>0.9</td>\n",
              "      <td>151.1</td>\n",
              "      <td>3.7</td>\n",
              "      <td>708181.8</td>\n",
              "    </tr>\n",
              "    <tr>\n",
              "      <th>std</th>\n",
              "      <td>18.1</td>\n",
              "      <td>1791408.3</td>\n",
              "      <td>1.2</td>\n",
              "      <td>165.7</td>\n",
              "      <td>2.4</td>\n",
              "      <td>1828005.9</td>\n",
              "    </tr>\n",
              "    <tr>\n",
              "      <th>min</th>\n",
              "      <td>45.0</td>\n",
              "      <td>1.0</td>\n",
              "      <td>0.0</td>\n",
              "      <td>0.0</td>\n",
              "      <td>0.0</td>\n",
              "      <td>1.0</td>\n",
              "    </tr>\n",
              "    <tr>\n",
              "      <th>25%</th>\n",
              "      <td>89.0</td>\n",
              "      <td>20380.0</td>\n",
              "      <td>0.0</td>\n",
              "      <td>17.0</td>\n",
              "      <td>2.0</td>\n",
              "      <td>1297.2</td>\n",
              "    </tr>\n",
              "    <tr>\n",
              "      <th>50%</th>\n",
              "      <td>100.0</td>\n",
              "      <td>478423.6</td>\n",
              "      <td>0.0</td>\n",
              "      <td>82.5</td>\n",
              "      <td>3.0</td>\n",
              "      <td>12591.0</td>\n",
              "    </tr>\n",
              "    <tr>\n",
              "      <th>75%</th>\n",
              "      <td>114.0</td>\n",
              "      <td>1286568.6</td>\n",
              "      <td>2.0</td>\n",
              "      <td>264.0</td>\n",
              "      <td>4.0</td>\n",
              "      <td>479886.8</td>\n",
              "    </tr>\n",
              "    <tr>\n",
              "      <th>max</th>\n",
              "      <td>180.0</td>\n",
              "      <td>17615314.0</td>\n",
              "      <td>5.0</td>\n",
              "      <td>869.0</td>\n",
              "      <td>25.0</td>\n",
              "      <td>14262766.0</td>\n",
              "    </tr>\n",
              "  </tbody>\n",
              "</table>\n",
              "</div>\n",
              "      <button class=\"colab-df-convert\" onclick=\"convertToInteractive('df-3684249c-d61c-4df8-878b-8d5be4f45747')\"\n",
              "              title=\"Convert this dataframe to an interactive table.\"\n",
              "              style=\"display:none;\">\n",
              "        \n",
              "  <svg xmlns=\"http://www.w3.org/2000/svg\" height=\"24px\"viewBox=\"0 0 24 24\"\n",
              "       width=\"24px\">\n",
              "    <path d=\"M0 0h24v24H0V0z\" fill=\"none\"/>\n",
              "    <path d=\"M18.56 5.44l.94 2.06.94-2.06 2.06-.94-2.06-.94-.94-2.06-.94 2.06-2.06.94zm-11 1L8.5 8.5l.94-2.06 2.06-.94-2.06-.94L8.5 2.5l-.94 2.06-2.06.94zm10 10l.94 2.06.94-2.06 2.06-.94-2.06-.94-.94-2.06-.94 2.06-2.06.94z\"/><path d=\"M17.41 7.96l-1.37-1.37c-.4-.4-.92-.59-1.43-.59-.52 0-1.04.2-1.43.59L10.3 9.45l-7.72 7.72c-.78.78-.78 2.05 0 2.83L4 21.41c.39.39.9.59 1.41.59.51 0 1.02-.2 1.41-.59l7.78-7.78 2.81-2.81c.8-.78.8-2.07 0-2.86zM5.41 20L4 18.59l7.72-7.72 1.47 1.35L5.41 20z\"/>\n",
              "  </svg>\n",
              "      </button>\n",
              "      \n",
              "  <style>\n",
              "    .colab-df-container {\n",
              "      display:flex;\n",
              "      flex-wrap:wrap;\n",
              "      gap: 12px;\n",
              "    }\n",
              "\n",
              "    .colab-df-convert {\n",
              "      background-color: #E8F0FE;\n",
              "      border: none;\n",
              "      border-radius: 50%;\n",
              "      cursor: pointer;\n",
              "      display: none;\n",
              "      fill: #1967D2;\n",
              "      height: 32px;\n",
              "      padding: 0 0 0 0;\n",
              "      width: 32px;\n",
              "    }\n",
              "\n",
              "    .colab-df-convert:hover {\n",
              "      background-color: #E2EBFA;\n",
              "      box-shadow: 0px 1px 2px rgba(60, 64, 67, 0.3), 0px 1px 3px 1px rgba(60, 64, 67, 0.15);\n",
              "      fill: #174EA6;\n",
              "    }\n",
              "\n",
              "    [theme=dark] .colab-df-convert {\n",
              "      background-color: #3B4455;\n",
              "      fill: #D2E3FC;\n",
              "    }\n",
              "\n",
              "    [theme=dark] .colab-df-convert:hover {\n",
              "      background-color: #434B5C;\n",
              "      box-shadow: 0px 1px 3px 1px rgba(0, 0, 0, 0.15);\n",
              "      filter: drop-shadow(0px 1px 2px rgba(0, 0, 0, 0.3));\n",
              "      fill: #FFFFFF;\n",
              "    }\n",
              "  </style>\n",
              "\n",
              "      <script>\n",
              "        const buttonEl =\n",
              "          document.querySelector('#df-3684249c-d61c-4df8-878b-8d5be4f45747 button.colab-df-convert');\n",
              "        buttonEl.style.display =\n",
              "          google.colab.kernel.accessAllowed ? 'block' : 'none';\n",
              "\n",
              "        async function convertToInteractive(key) {\n",
              "          const element = document.querySelector('#df-3684249c-d61c-4df8-878b-8d5be4f45747');\n",
              "          const dataTable =\n",
              "            await google.colab.kernel.invokeFunction('convertToInteractive',\n",
              "                                                     [key], {});\n",
              "          if (!dataTable) return;\n",
              "\n",
              "          const docLinkHtml = 'Like what you see? Visit the ' +\n",
              "            '<a target=\"_blank\" href=https://colab.research.google.com/notebooks/data_table.ipynb>data table notebook</a>'\n",
              "            + ' to learn more about interactive tables.';\n",
              "          element.innerHTML = '';\n",
              "          dataTable['output_type'] = 'display_data';\n",
              "          await google.colab.output.renderOutput(dataTable, element);\n",
              "          const docLink = document.createElement('div');\n",
              "          docLink.innerHTML = docLinkHtml;\n",
              "          element.appendChild(docLink);\n",
              "        }\n",
              "      </script>\n",
              "    </div>\n",
              "  </div>\n",
              "  "
            ]
          },
          "metadata": {},
          "execution_count": 35
        }
      ]
    },
    {
      "cell_type": "markdown",
      "source": [
        "### 4) 결측치 확인 및 데이터 전처리"
      ],
      "metadata": {
        "id": "9Ji7Q3xPio1q"
      }
    },
    {
      "cell_type": "code",
      "source": [
        "movies.isna().sum()"
      ],
      "metadata": {
        "colab": {
          "base_uri": "https://localhost:8080/"
        },
        "id": "38iAU3_AioTt",
        "outputId": "df4900cd-060a-4e1e-fd75-4f16e6c1dda2"
      },
      "execution_count": null,
      "outputs": [
        {
          "output_type": "execute_result",
          "data": {
            "text/plain": [
              "title               0\n",
              "distributor         0\n",
              "genre               0\n",
              "release_time        0\n",
              "time                0\n",
              "screening_rat       0\n",
              "director            0\n",
              "dir_prev_bfnum    330\n",
              "dir_prev_num        0\n",
              "num_staff           0\n",
              "num_actor           0\n",
              "box_off_num         0\n",
              "dtype: int64"
            ]
          },
          "metadata": {},
          "execution_count": 16
        }
      ]
    },
    {
      "cell_type": "markdown",
      "source": [
        "- dir_prev_bfnum 변수에 결측값이 존재한다."
      ],
      "metadata": {
        "id": "IGsArz5Ti0Ad"
      }
    },
    {
      "cell_type": "code",
      "source": [
        "# 결측값의 특성 확인\n",
        "movies[movies['dir_prev_bfnum'].isna()].head(3)"
      ],
      "metadata": {
        "colab": {
          "base_uri": "https://localhost:8080/",
          "height": 294
        },
        "id": "wAusPwkti3oA",
        "outputId": "185885e4-4064-4bea-893b-821c069c4fc9"
      },
      "execution_count": null,
      "outputs": [
        {
          "output_type": "execute_result",
          "data": {
            "text/plain": [
              "             title      distributor  genre release_time  time screening_rat  \\\n",
              "0           개들의 전쟁         롯데엔터테인먼트     액션   2012-11-22    96      청소년 관람불가   \n",
              "6             길위에서             백두대간  다큐멘터리   2013-05-23   104        전체 관람가   \n",
              "8  1789, 바스티유의 연인들  유니버설픽쳐스인터내셔널코리아    뮤지컬   2014-09-18   129        전체 관람가   \n",
              "\n",
              "  director  dir_prev_bfnum  dir_prev_num  num_staff  num_actor  box_off_num  \n",
              "0      조병옥             NaN             0         91          2        23398  \n",
              "6      이창재             NaN             0         32          5        53526  \n",
              "8      정성복             NaN             0          3          5         4778  "
            ],
            "text/html": [
              "\n",
              "  <div id=\"df-22d3e033-2703-42f0-8cdf-c9181893f393\">\n",
              "    <div class=\"colab-df-container\">\n",
              "      <div>\n",
              "<style scoped>\n",
              "    .dataframe tbody tr th:only-of-type {\n",
              "        vertical-align: middle;\n",
              "    }\n",
              "\n",
              "    .dataframe tbody tr th {\n",
              "        vertical-align: top;\n",
              "    }\n",
              "\n",
              "    .dataframe thead th {\n",
              "        text-align: right;\n",
              "    }\n",
              "</style>\n",
              "<table border=\"1\" class=\"dataframe\">\n",
              "  <thead>\n",
              "    <tr style=\"text-align: right;\">\n",
              "      <th></th>\n",
              "      <th>title</th>\n",
              "      <th>distributor</th>\n",
              "      <th>genre</th>\n",
              "      <th>release_time</th>\n",
              "      <th>time</th>\n",
              "      <th>screening_rat</th>\n",
              "      <th>director</th>\n",
              "      <th>dir_prev_bfnum</th>\n",
              "      <th>dir_prev_num</th>\n",
              "      <th>num_staff</th>\n",
              "      <th>num_actor</th>\n",
              "      <th>box_off_num</th>\n",
              "    </tr>\n",
              "  </thead>\n",
              "  <tbody>\n",
              "    <tr>\n",
              "      <th>0</th>\n",
              "      <td>개들의 전쟁</td>\n",
              "      <td>롯데엔터테인먼트</td>\n",
              "      <td>액션</td>\n",
              "      <td>2012-11-22</td>\n",
              "      <td>96</td>\n",
              "      <td>청소년 관람불가</td>\n",
              "      <td>조병옥</td>\n",
              "      <td>NaN</td>\n",
              "      <td>0</td>\n",
              "      <td>91</td>\n",
              "      <td>2</td>\n",
              "      <td>23398</td>\n",
              "    </tr>\n",
              "    <tr>\n",
              "      <th>6</th>\n",
              "      <td>길위에서</td>\n",
              "      <td>백두대간</td>\n",
              "      <td>다큐멘터리</td>\n",
              "      <td>2013-05-23</td>\n",
              "      <td>104</td>\n",
              "      <td>전체 관람가</td>\n",
              "      <td>이창재</td>\n",
              "      <td>NaN</td>\n",
              "      <td>0</td>\n",
              "      <td>32</td>\n",
              "      <td>5</td>\n",
              "      <td>53526</td>\n",
              "    </tr>\n",
              "    <tr>\n",
              "      <th>8</th>\n",
              "      <td>1789, 바스티유의 연인들</td>\n",
              "      <td>유니버설픽쳐스인터내셔널코리아</td>\n",
              "      <td>뮤지컬</td>\n",
              "      <td>2014-09-18</td>\n",
              "      <td>129</td>\n",
              "      <td>전체 관람가</td>\n",
              "      <td>정성복</td>\n",
              "      <td>NaN</td>\n",
              "      <td>0</td>\n",
              "      <td>3</td>\n",
              "      <td>5</td>\n",
              "      <td>4778</td>\n",
              "    </tr>\n",
              "  </tbody>\n",
              "</table>\n",
              "</div>\n",
              "      <button class=\"colab-df-convert\" onclick=\"convertToInteractive('df-22d3e033-2703-42f0-8cdf-c9181893f393')\"\n",
              "              title=\"Convert this dataframe to an interactive table.\"\n",
              "              style=\"display:none;\">\n",
              "        \n",
              "  <svg xmlns=\"http://www.w3.org/2000/svg\" height=\"24px\"viewBox=\"0 0 24 24\"\n",
              "       width=\"24px\">\n",
              "    <path d=\"M0 0h24v24H0V0z\" fill=\"none\"/>\n",
              "    <path d=\"M18.56 5.44l.94 2.06.94-2.06 2.06-.94-2.06-.94-.94-2.06-.94 2.06-2.06.94zm-11 1L8.5 8.5l.94-2.06 2.06-.94-2.06-.94L8.5 2.5l-.94 2.06-2.06.94zm10 10l.94 2.06.94-2.06 2.06-.94-2.06-.94-.94-2.06-.94 2.06-2.06.94z\"/><path d=\"M17.41 7.96l-1.37-1.37c-.4-.4-.92-.59-1.43-.59-.52 0-1.04.2-1.43.59L10.3 9.45l-7.72 7.72c-.78.78-.78 2.05 0 2.83L4 21.41c.39.39.9.59 1.41.59.51 0 1.02-.2 1.41-.59l7.78-7.78 2.81-2.81c.8-.78.8-2.07 0-2.86zM5.41 20L4 18.59l7.72-7.72 1.47 1.35L5.41 20z\"/>\n",
              "  </svg>\n",
              "      </button>\n",
              "      \n",
              "  <style>\n",
              "    .colab-df-container {\n",
              "      display:flex;\n",
              "      flex-wrap:wrap;\n",
              "      gap: 12px;\n",
              "    }\n",
              "\n",
              "    .colab-df-convert {\n",
              "      background-color: #E8F0FE;\n",
              "      border: none;\n",
              "      border-radius: 50%;\n",
              "      cursor: pointer;\n",
              "      display: none;\n",
              "      fill: #1967D2;\n",
              "      height: 32px;\n",
              "      padding: 0 0 0 0;\n",
              "      width: 32px;\n",
              "    }\n",
              "\n",
              "    .colab-df-convert:hover {\n",
              "      background-color: #E2EBFA;\n",
              "      box-shadow: 0px 1px 2px rgba(60, 64, 67, 0.3), 0px 1px 3px 1px rgba(60, 64, 67, 0.15);\n",
              "      fill: #174EA6;\n",
              "    }\n",
              "\n",
              "    [theme=dark] .colab-df-convert {\n",
              "      background-color: #3B4455;\n",
              "      fill: #D2E3FC;\n",
              "    }\n",
              "\n",
              "    [theme=dark] .colab-df-convert:hover {\n",
              "      background-color: #434B5C;\n",
              "      box-shadow: 0px 1px 3px 1px rgba(0, 0, 0, 0.15);\n",
              "      filter: drop-shadow(0px 1px 2px rgba(0, 0, 0, 0.3));\n",
              "      fill: #FFFFFF;\n",
              "    }\n",
              "  </style>\n",
              "\n",
              "      <script>\n",
              "        const buttonEl =\n",
              "          document.querySelector('#df-22d3e033-2703-42f0-8cdf-c9181893f393 button.colab-df-convert');\n",
              "        buttonEl.style.display =\n",
              "          google.colab.kernel.accessAllowed ? 'block' : 'none';\n",
              "\n",
              "        async function convertToInteractive(key) {\n",
              "          const element = document.querySelector('#df-22d3e033-2703-42f0-8cdf-c9181893f393');\n",
              "          const dataTable =\n",
              "            await google.colab.kernel.invokeFunction('convertToInteractive',\n",
              "                                                     [key], {});\n",
              "          if (!dataTable) return;\n",
              "\n",
              "          const docLinkHtml = 'Like what you see? Visit the ' +\n",
              "            '<a target=\"_blank\" href=https://colab.research.google.com/notebooks/data_table.ipynb>data table notebook</a>'\n",
              "            + ' to learn more about interactive tables.';\n",
              "          element.innerHTML = '';\n",
              "          dataTable['output_type'] = 'display_data';\n",
              "          await google.colab.output.renderOutput(dataTable, element);\n",
              "          const docLink = document.createElement('div');\n",
              "          docLink.innerHTML = docLinkHtml;\n",
              "          element.appendChild(docLink);\n",
              "        }\n",
              "      </script>\n",
              "    </div>\n",
              "  </div>\n",
              "  "
            ]
          },
          "metadata": {},
          "execution_count": 18
        }
      ]
    },
    {
      "cell_type": "markdown",
      "source": [
        "- dir_prev_bfnum이 결측값으로 존재하는 데이터들은 전부 dir_prev_num이 0인 영화들이다. 즉, 감독의 이전작품이 존재 하지 않은 경우이다. 따라서 dir_prev_bfnum에 있는 결측값은 전부 0으로 채운다."
      ],
      "metadata": {
        "id": "MONYqVlSjuaQ"
      }
    },
    {
      "cell_type": "code",
      "source": [
        "movies['dir_prev_bfnum'].fillna(0, inplace=True)"
      ],
      "metadata": {
        "id": "9-tIgKz9jx49"
      },
      "execution_count": 4,
      "outputs": []
    },
    {
      "cell_type": "markdown",
      "source": [
        "+ release_time은 시간에 관련된 데이터인데 int형으로 인식되고 있다. release_time을 datetime형식으로 변환한다."
      ],
      "metadata": {
        "id": "TjSiDELXj2E6"
      }
    },
    {
      "cell_type": "code",
      "source": [
        "movies['release_time']=pd.to_datetime(movies['release_time'])"
      ],
      "metadata": {
        "id": "pneP70wvj48p"
      },
      "execution_count": 5,
      "outputs": []
    },
    {
      "cell_type": "markdown",
      "source": [
        "### 5) 데이터 시각화 및 분석"
      ],
      "metadata": {
        "id": "h4c6WSB4kUYu"
      }
    },
    {
      "cell_type": "markdown",
      "source": [
        "(김서영)\n",
        "\n",
        "상영시간 별 관객 수\n",
        "\n",
        "상영시간 별 주연배우 수\n",
        "\n",
        "상영등급 별 관객 수\n",
        "\n",
        "상영등급 별 상영시간"
      ],
      "metadata": {
        "id": "bJ0zY1xE8s2i"
      }
    },
    {
      "cell_type": "markdown",
      "source": [
        "#### 5-1) 상영시간 별 관객 수\n",
        "+ 사용한 변수: `time`, `box_off_num`"
      ],
      "metadata": {
        "id": "g7NlNKqBrMwR"
      }
    },
    {
      "cell_type": "code",
      "source": [
        "ax = plt.subplots(figsize = (15,10))\n",
        "ax = sns.regplot(x = movies.time, y = movies.box_off_num)\n",
        "ax.set_title('상영시간과 관객 수의 관계', fontsize=15)\n",
        "ax.set_xlabel('상영시간', fontsize=15)\n",
        "ax.set_ylabel('관객 수', fontsize=15)"
      ],
      "metadata": {
        "colab": {
          "base_uri": "https://localhost:8080/",
          "height": 647
        },
        "id": "rODRWcKTyR3Q",
        "outputId": "4e4c5da1-3f89-4cf3-8a8a-fa9bf3b4c52a"
      },
      "execution_count": null,
      "outputs": [
        {
          "output_type": "execute_result",
          "data": {
            "text/plain": [
              "Text(0, 0.5, '관객 수')"
            ]
          },
          "metadata": {},
          "execution_count": 52
        },
        {
          "output_type": "display_data",
          "data": {
            "text/plain": [
              "<Figure size 1080x720 with 1 Axes>"
            ],
            "image/png": "[encoded data removed]"
          },
          "metadata": {
            "needs_background": "light"
          }
        }
      ]
    },
    {
      "cell_type": "markdown",
      "source": [
        "상영시간이 120-140분 사이인 경우 관객수가 높은 영화가 분포함을 알 수 있다. 상영시간이 100분 이하인 경우 급격히 감소함을 알 수 있다. 상영시간이 140분 이상인 경우 역시 높은 관객 수의 영화가 거의 없음을 알 수 있다. "
      ],
      "metadata": {
        "id": "179EDiwfWBEi"
      }
    },
    {
      "cell_type": "markdown",
      "source": [
        "#### 5-2) 상영시간 별 주연배우 수 \n",
        "+ 사용한 변수: `time`, `num_actor`"
      ],
      "metadata": {
        "id": "FCINQLrEsLfd"
      }
    },
    {
      "cell_type": "code",
      "source": [
        "# 상영시간과 주연배우 수 산점도\n",
        "ax = plt.subplots(figsize = (15,10))\n",
        "ax = sns.regplot(x = movies.time, y = movies.num_actor)\n",
        "ax.set_title('상영시간과 주연배우 수의 관계', fontsize=15)\n",
        "ax.set_xlabel('상영시간', fontsize=15)\n",
        "ax.set_ylabel('주연배우 수', fontsize=15)"
      ],
      "metadata": {
        "colab": {
          "base_uri": "https://localhost:8080/",
          "height": 647
        },
        "id": "9qFA9QZ7ucn7",
        "outputId": "e2506852-6761-4495-9a70-2eacc3e47b5a"
      },
      "execution_count": null,
      "outputs": [
        {
          "output_type": "execute_result",
          "data": {
            "text/plain": [
              "Text(0, 0.5, '주연배우 수')"
            ]
          },
          "metadata": {},
          "execution_count": 49
        },
        {
          "output_type": "display_data",
          "data": {
            "text/plain": [
              "<Figure size 1080x720 with 1 Axes>"
            ],
            "image/png": "[encoded data removed]"
          },
          "metadata": {
            "needs_background": "light"
          }
        }
      ]
    },
    {
      "cell_type": "markdown",
      "source": [
        "상영시간과 주연배우의 수 사이의 유의한 상관관계가 없음을 알 수 있다. "
      ],
      "metadata": {
        "id": "QLXl09M4Xgqo"
      }
    },
    {
      "cell_type": "markdown",
      "source": [
        "####5-3) 상영등급 별 관객 수\n",
        "\n",
        "- 사용한 변수: `screening_rat`, `box_off_num`"
      ],
      "metadata": {
        "id": "p6TOZ8NB8RQr"
      }
    },
    {
      "cell_type": "code",
      "source": [
        "# 상영등급 개수 확인\n",
        "movies['screening_rat'].value_counts()"
      ],
      "metadata": {
        "colab": {
          "base_uri": "https://localhost:8080/"
        },
        "id": "qtiPKhwk8t1U",
        "outputId": "93f3436d-7d1d-4c04-da9b-5f8b70f41e28"
      },
      "execution_count": null,
      "outputs": [
        {
          "output_type": "execute_result",
          "data": {
            "text/plain": [
              "청소년 관람불가    204\n",
              "15세 관람가     202\n",
              "12세 관람가     102\n",
              "전체 관람가       92\n",
              "Name: screening_rat, dtype: int64"
            ]
          },
          "metadata": {},
          "execution_count": 38
        }
      ]
    },
    {
      "cell_type": "code",
      "source": [
        "# 상영등급별 평균 관객 수 구하기\n",
        "rate_aud = movies.groupby('screening_rat')['box_off_num'].mean()\n",
        "print(rate_aud)"
      ],
      "metadata": {
        "colab": {
          "base_uri": "https://localhost:8080/"
        },
        "id": "kPbZVO_087g1",
        "outputId": "58f2901e-961e-4e46-8efa-32ff462774e2"
      },
      "execution_count": null,
      "outputs": [
        {
          "output_type": "stream",
          "name": "stdout",
          "text": [
            "screening_rat\n",
            "12세 관람가     8.449809e+05\n",
            "15세 관람가     1.247519e+06\n",
            "전체 관람가      1.351005e+05\n",
            "청소년 관람불가    3.641813e+05\n",
            "Name: box_off_num, dtype: float64\n"
          ]
        }
      ]
    },
    {
      "cell_type": "code",
      "source": [
        "# barplot\n",
        "plt.figure(figsize = (15,10))\n",
        "rate_aud.plot(kind='bar')\n",
        "plt.title('상영등급별 평균 관객 수', fontsize=15)\n",
        "plt.xlabel('상영등급\u001d', fontsize=15)\n",
        "plt.ylabel('평균 관객 수', fontsize=15)\n",
        "plt.xticks(rotation=360, fontsize=15)\n",
        "plt.show()"
      ],
      "metadata": {
        "id": "5kO3qx8_9UAK",
        "colab": {
          "base_uri": "https://localhost:8080/",
          "height": 636
        },
        "outputId": "9ddd0beb-18b5-4fbe-dddf-5ad5f5678291"
      },
      "execution_count": null,
      "outputs": [
        {
          "output_type": "display_data",
          "data": {
            "text/plain": [
              "<Figure size 1080x720 with 1 Axes>"
            ],
            "image/png": "[encoded data removed]"
          },
          "metadata": {
            "needs_background": "light"
          }
        }
      ]
    },
    {
      "cell_type": "markdown",
      "source": [
        "+ 15세 관람가, 12세 관람가, 청소년 관람불가, 전체 관람가 순으로 평균 관객 수가 많음을 알 수 있다."
      ],
      "metadata": {
        "id": "EhDqhVtSA1Kq"
      }
    },
    {
      "cell_type": "markdown",
      "source": [
        "#### 5-4) 상영등급 별 상영시간"
      ],
      "metadata": {
        "id": "VnfS6P2as1RA"
      }
    },
    {
      "cell_type": "code",
      "source": [
        "rate_time = movies.groupby('screening_rat')['time'].mean()\n",
        "print(rate_time)"
      ],
      "metadata": {
        "colab": {
          "base_uri": "https://localhost:8080/"
        },
        "id": "5GIuWc15xgqD",
        "outputId": "fb8d74d2-3d6f-4947-f8c3-937a092e2f0d"
      },
      "execution_count": null,
      "outputs": [
        {
          "output_type": "stream",
          "name": "stdout",
          "text": [
            "screening_rat\n",
            "12세 관람가     101.549020\n",
            "15세 관람가     106.935644\n",
            "전체 관람가       89.847826\n",
            "청소년 관람불가     99.475490\n",
            "Name: time, dtype: float64\n"
          ]
        }
      ]
    },
    {
      "cell_type": "code",
      "source": [
        "# barplot\n",
        "plt.figure(figsize = (15,10))\n",
        "rate_time.plot(kind='bar')\n",
        "plt.title('상영등급별 평균 관객 수', fontsize=15)\n",
        "plt.xlabel('상영등급\u001d', fontsize=15)\n",
        "plt.ylabel('평균 상영시간', fontsize=15)\n",
        "plt.xticks(rotation=360, fontsize=15)\n",
        "plt.show()"
      ],
      "metadata": {
        "colab": {
          "base_uri": "https://localhost:8080/",
          "height": 636
        },
        "id": "40lfnfZ8BVWb",
        "outputId": "d9a4c857-5b3f-4b19-9177-36d8fe4386b7"
      },
      "execution_count": null,
      "outputs": [
        {
          "output_type": "display_data",
          "data": {
            "text/plain": [
              "<Figure size 1080x720 with 1 Axes>"
            ],
            "image/png": "[encoded data removed]"
          },
          "metadata": {
            "needs_background": "light"
          }
        }
      ]
    },
    {
      "cell_type": "markdown",
      "source": [
        "15세 관람가, 12세 관람가, 청소년 관람불가, 전체 관람가 순으로 평균 상영시간이 길다는 것을 알 수 있다. 이는 어린이와 청소년을 포함한 전체 관람가의 경우 타깃층을 고려해 상영시간이 적다는 점을 보아 타당하다. "
      ],
      "metadata": {
        "id": "nGh-JiMOX6jy"
      }
    },
    {
      "cell_type": "code",
      "source": [
        "plt.figure(figsize = (15,10))\n",
        "ax = sns.boxplot(x = 'screening_rat', y = 'time',data=movies)\n",
        "ax.set_title('상영등급에 따른 상영시간의 박스플롯',fontsize=15)\n",
        "ax.set_xlabel('상영등급',fontsize=15)\n",
        "ax.set_ylabel('상영시간',fontsize=15)\n",
        "plt.xticks(rotation=360, fontsize=15)\n",
        "plt.show()"
      ],
      "metadata": {
        "colab": {
          "base_uri": "https://localhost:8080/",
          "height": 636
        },
        "id": "5qcu8aL5BvkY",
        "outputId": "20eb4ef5-d856-4e58-a6d9-7b94774e8460"
      },
      "execution_count": 6,
      "outputs": [
        {
          "output_type": "display_data",
          "data": {
            "text/plain": [
              "<Figure size 1080x720 with 1 Axes>"
            ],
            "image/png": "[encoded data removed]"
          },
          "metadata": {
            "needs_background": "light"
          }
        }
      ]
    },
    {
      "cell_type": "markdown",
      "source": [
        "전체 관람가가 다른 상영등급에 비해 전반적인 상영시간이 짧음을 알 수 있다. 청소년 관람불가의 경우 아웃라이어 점들이 상영시간이 긴 쪽으로 여러개 있다는 것을 보아 상영시간의 variation이 넓음을 알 수 있다. "
      ],
      "metadata": {
        "id": "CLmiF04QYYel"
      }
    }
  ]
}