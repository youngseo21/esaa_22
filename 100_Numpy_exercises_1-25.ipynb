{
  "nbformat": 4,
  "nbformat_minor": 5,
  "metadata": {
    "colab": {
      "provenance": [],
      "collapsed_sections": [
        "51898680"
      ],
      "include_colab_link": true
    },
    "language_info": {
      "name": "python"
    },
    "kernelspec": {
      "name": "python3",
      "display_name": "Python 3"
    }
  },
  "cells": [
    {
      "cell_type": "markdown",
      "metadata": {
        "id": "view-in-github",
        "colab_type": "text"
      },
      "source": [
        "<a href=\"https://colab.research.google.com/github/youngseo21/esaa_22/blob/main/100_Numpy_exercises_1-25.ipynb\" target=\"_parent\"><img src=\"https://colab.research.google.com/assets/colab-badge.svg\" alt=\"Open In Colab\"/></a>"
      ]
    },
    {
      "cell_type": "markdown",
      "metadata": {
        "id": "bf79c78b"
      },
      "source": [
        "# 100 numpy exercises\n",
        "\n",
        "This is a collection of exercises that have been collected in the numpy mailing list, on stack overflow\n",
        "and in the numpy documentation. The goal of this collection is to offer a quick reference for both old\n",
        "and new users but also to provide a set of exercises for those who teach.\n",
        "\n",
        "\n",
        "If you find an error or think you've a better way to solve some of them, feel\n",
        "free to open an issue at <https://github.com/rougier/numpy-100>."
      ],
      "id": "bf79c78b"
    },
    {
      "cell_type": "markdown",
      "metadata": {
        "id": "8536e059"
      },
      "source": [
        "File automatically generated. See the documentation to update questions/answers/hints programmatically."
      ],
      "id": "8536e059"
    },
    {
      "cell_type": "markdown",
      "metadata": {
        "id": "e16ac60b"
      },
      "source": [
        "Run the `initialize.py` module, then for each question you can query the\n",
        "answer or an hint with `hint(n)` or `answer(n)` for `n` question number."
      ],
      "id": "e16ac60b"
    },
    {
      "cell_type": "code",
      "metadata": {
        "id": "a8453483",
        "colab": {
          "base_uri": "https://localhost:8080/"
        },
        "outputId": "a1fc2ca2-1f37-49ba-a1a4-52d773bb567a"
      },
      "source": [
        "%run initialise.py"
      ],
      "id": "a8453483",
      "execution_count": 2,
      "outputs": [
        {
          "output_type": "stream",
          "name": "stderr",
          "text": [
            "ERROR:root:File `'initialise.py'` not found.\n"
          ]
        }
      ]
    },
    {
      "cell_type": "code",
      "source": [
        "!pip install generators\n",
        "import numpy as np\n",
        "\n",
        "import generators as ge\n",
        "\n",
        "\n",
        "def question(n):\n",
        "    print(f'{n}. ' + ge.QHA[f'q{n}'])\n",
        "\n",
        "\n",
        "def hint(n):\n",
        "    print(ge.QHA[f'h{n}'])\n",
        "\n",
        "\n",
        "def answer(n):\n",
        "    print(ge.QHA[f'a{n}'])\n",
        "\n",
        "\n",
        "def pick():\n",
        "    n = np.random.randint(1, 100)\n",
        "    question(n)"
      ],
      "metadata": {
        "colab": {
          "base_uri": "https://localhost:8080/"
        },
        "id": "-vDM1yRapkE7",
        "outputId": "2d3c4fdd-6fd4-4cfd-f5e3-ecac11da5465"
      },
      "id": "-vDM1yRapkE7",
      "execution_count": 85,
      "outputs": [
        {
          "output_type": "stream",
          "name": "stdout",
          "text": [
            "Looking in indexes: https://pypi.org/simple, https://us-python.pkg.dev/colab-wheels/public/simple/\n",
            "Requirement already satisfied: generators in /usr/local/lib/python3.7/dist-packages (2020.4.27)\n",
            "Requirement already satisfied: strict-functions in /usr/local/lib/python3.7/dist-packages (from generators) (2020.2.4)\n"
          ]
        }
      ]
    },
    {
      "cell_type": "markdown",
      "metadata": {
        "id": "017db353"
      },
      "source": [
        "#### 1. Import the numpy package under the name `np` (★☆☆)"
      ],
      "id": "017db353"
    },
    {
      "cell_type": "code",
      "metadata": {
        "id": "68182a76"
      },
      "source": [
        "import numpy as np"
      ],
      "id": "68182a76",
      "execution_count": 7,
      "outputs": []
    },
    {
      "cell_type": "markdown",
      "metadata": {
        "id": "46950f4f"
      },
      "source": [
        "#### 2. Print the numpy version and the configuration (★☆☆)"
      ],
      "id": "46950f4f"
    },
    {
      "cell_type": "code",
      "metadata": {
        "id": "2a9f5838",
        "colab": {
          "base_uri": "https://localhost:8080/"
        },
        "outputId": "72309f70-38b2-4569-fe36-9b1a9e73a904"
      },
      "source": [
        "print(np.__version__)\n",
        "print(np.show_config())"
      ],
      "id": "2a9f5838",
      "execution_count": 8,
      "outputs": [
        {
          "output_type": "stream",
          "name": "stdout",
          "text": [
            "1.21.6\n",
            "blas_mkl_info:\n",
            "  NOT AVAILABLE\n",
            "blis_info:\n",
            "  NOT AVAILABLE\n",
            "openblas_info:\n",
            "    libraries = ['openblas', 'openblas']\n",
            "    library_dirs = ['/usr/local/lib']\n",
            "    language = c\n",
            "    define_macros = [('HAVE_CBLAS', None)]\n",
            "    runtime_library_dirs = ['/usr/local/lib']\n",
            "blas_opt_info:\n",
            "    libraries = ['openblas', 'openblas']\n",
            "    library_dirs = ['/usr/local/lib']\n",
            "    language = c\n",
            "    define_macros = [('HAVE_CBLAS', None)]\n",
            "    runtime_library_dirs = ['/usr/local/lib']\n",
            "lapack_mkl_info:\n",
            "  NOT AVAILABLE\n",
            "openblas_lapack_info:\n",
            "    libraries = ['openblas', 'openblas']\n",
            "    library_dirs = ['/usr/local/lib']\n",
            "    language = c\n",
            "    define_macros = [('HAVE_CBLAS', None)]\n",
            "    runtime_library_dirs = ['/usr/local/lib']\n",
            "lapack_opt_info:\n",
            "    libraries = ['openblas', 'openblas']\n",
            "    library_dirs = ['/usr/local/lib']\n",
            "    language = c\n",
            "    define_macros = [('HAVE_CBLAS', None)]\n",
            "    runtime_library_dirs = ['/usr/local/lib']\n",
            "Supported SIMD extensions in this NumPy install:\n",
            "    baseline = SSE,SSE2,SSE3\n",
            "    found = SSSE3,SSE41,POPCNT,SSE42,AVX,F16C,FMA3,AVX2\n",
            "    not found = AVX512F,AVX512CD,AVX512_KNL,AVX512_KNM,AVX512_SKX,AVX512_CLX,AVX512_CNL,AVX512_ICL\n",
            "None\n"
          ]
        }
      ]
    },
    {
      "cell_type": "markdown",
      "metadata": {
        "id": "e3c20b3d"
      },
      "source": [
        "#### 3. Create a null vector of size 10 (★☆☆)"
      ],
      "id": "e3c20b3d"
    },
    {
      "cell_type": "code",
      "metadata": {
        "id": "8a758bcf",
        "colab": {
          "base_uri": "https://localhost:8080/"
        },
        "outputId": "b5b1fdbf-ea11-41f5-94b4-36275495bc93"
      },
      "source": [
        "null = np.zeros(10)\n",
        "print(null)"
      ],
      "id": "8a758bcf",
      "execution_count": 10,
      "outputs": [
        {
          "output_type": "stream",
          "name": "stdout",
          "text": [
            "[0. 0. 0. 0. 0. 0. 0. 0. 0. 0.]\n"
          ]
        }
      ]
    },
    {
      "cell_type": "markdown",
      "metadata": {
        "id": "b15a879f"
      },
      "source": [
        "#### 4. How to find the memory size of any array (★☆☆)"
      ],
      "id": "b15a879f"
    },
    {
      "cell_type": "code",
      "metadata": {
        "id": "1cc3cbc5",
        "colab": {
          "base_uri": "https://localhost:8080/"
        },
        "outputId": "030c1197-2195-4b12-c848-c2eec3f756da"
      },
      "source": [
        "null.itemsize"
      ],
      "id": "1cc3cbc5",
      "execution_count": 16,
      "outputs": [
        {
          "output_type": "execute_result",
          "data": {
            "text/plain": [
              "8"
            ]
          },
          "metadata": {},
          "execution_count": 16
        }
      ]
    },
    {
      "cell_type": "markdown",
      "metadata": {
        "id": "0b16cd77"
      },
      "source": [
        "#### 5. Create a null vector of size 10 but the fifth value which is 1 (★☆☆)"
      ],
      "id": "0b16cd77"
    },
    {
      "cell_type": "code",
      "metadata": {
        "id": "4d9b5975",
        "colab": {
          "base_uri": "https://localhost:8080/"
        },
        "outputId": "1dd94c18-a904-4fa5-b2aa-a7b450cf3aba"
      },
      "source": [
        "null = np.zeros(10)\n",
        "null[4] = 1\n",
        "print(null)"
      ],
      "id": "4d9b5975",
      "execution_count": 14,
      "outputs": [
        {
          "output_type": "stream",
          "name": "stdout",
          "text": [
            "[0. 0. 0. 0. 1. 0. 0. 0. 0. 0.]\n"
          ]
        }
      ]
    },
    {
      "cell_type": "markdown",
      "metadata": {
        "id": "782d4c77"
      },
      "source": [
        "#### 6. Create a vector with values ranging from 10 to 49 (★☆☆)"
      ],
      "id": "782d4c77"
    },
    {
      "cell_type": "code",
      "metadata": {
        "id": "5dbe1a08",
        "colab": {
          "base_uri": "https://localhost:8080/"
        },
        "outputId": "7b636b43-8de8-44da-e749-4ddcc36a2fed"
      },
      "source": [
        "six = np.arange(10,50)\n",
        "print(six)"
      ],
      "id": "5dbe1a08",
      "execution_count": 15,
      "outputs": [
        {
          "output_type": "stream",
          "name": "stdout",
          "text": [
            "[10 11 12 13 14 15 16 17 18 19 20 21 22 23 24 25 26 27 28 29 30 31 32 33\n",
            " 34 35 36 37 38 39 40 41 42 43 44 45 46 47 48 49]\n"
          ]
        }
      ]
    },
    {
      "cell_type": "markdown",
      "metadata": {
        "id": "48d48f01"
      },
      "source": [
        "#### 7. Reverse a vector (first element becomes last) (★☆☆)"
      ],
      "id": "48d48f01"
    },
    {
      "cell_type": "code",
      "metadata": {
        "id": "3ed233e7",
        "colab": {
          "base_uri": "https://localhost:8080/"
        },
        "outputId": "17ab15fb-2025-4f9a-f142-b698ddb10a9b"
      },
      "source": [
        "print(six[::-1])"
      ],
      "id": "3ed233e7",
      "execution_count": 26,
      "outputs": [
        {
          "output_type": "stream",
          "name": "stdout",
          "text": [
            "[49 48 47 46 45 44 43 42 41 40 39 38 37 36 35 34 33 32 31 30 29 28 27 26\n",
            " 25 24 23 22 21 20 19 18 17 16 15 14 13 12 11 10]\n"
          ]
        }
      ]
    },
    {
      "cell_type": "markdown",
      "metadata": {
        "id": "4fa39382"
      },
      "source": [
        "#### 8. Create a 3x3 matrix with values ranging from 0 to 8 (★☆☆)"
      ],
      "id": "4fa39382"
    },
    {
      "cell_type": "code",
      "metadata": {
        "id": "c97757ec",
        "colab": {
          "base_uri": "https://localhost:8080/"
        },
        "outputId": "43ffe40b-a6b6-4e35-bb6f-2da100acb7c8"
      },
      "source": [
        "eight = np.arange(0,9).reshape(3,3)\n",
        "eight"
      ],
      "id": "c97757ec",
      "execution_count": 18,
      "outputs": [
        {
          "output_type": "execute_result",
          "data": {
            "text/plain": [
              "array([[0, 1, 2],\n",
              "       [3, 4, 5],\n",
              "       [6, 7, 8]])"
            ]
          },
          "metadata": {},
          "execution_count": 18
        }
      ]
    },
    {
      "cell_type": "markdown",
      "metadata": {
        "id": "da64551a"
      },
      "source": [
        "#### 9. Find indices of non-zero elements from [1,2,0,0,4,0] (★☆☆)"
      ],
      "id": "da64551a"
    },
    {
      "cell_type": "code",
      "metadata": {
        "id": "327f7adb",
        "colab": {
          "base_uri": "https://localhost:8080/"
        },
        "outputId": "97650966-79fd-4840-b5b3-45c1753ec679"
      },
      "source": [
        "nine = np.array([1,2,0,0,4,0])\n",
        "print(np.where(nine != 0))"
      ],
      "id": "327f7adb",
      "execution_count": 25,
      "outputs": [
        {
          "output_type": "stream",
          "name": "stdout",
          "text": [
            "(array([0, 1, 4]),)\n"
          ]
        }
      ]
    },
    {
      "cell_type": "markdown",
      "metadata": {
        "id": "f89d9c9e"
      },
      "source": [
        "#### 10. Create a 3x3 identity matrix (★☆☆)\n",
        "Hint : identity & eye, try to use 'help' to learn how to use two functions of numpy"
      ],
      "id": "f89d9c9e"
    },
    {
      "cell_type": "code",
      "metadata": {
        "id": "ba625832",
        "colab": {
          "base_uri": "https://localhost:8080/"
        },
        "outputId": "68cb0cd9-1fd3-4471-e992-c270887e503f"
      },
      "source": [
        "ten_identity = np.identity(3)\n",
        "ten_identity"
      ],
      "id": "ba625832",
      "execution_count": 28,
      "outputs": [
        {
          "output_type": "execute_result",
          "data": {
            "text/plain": [
              "array([[1., 0., 0.],\n",
              "       [0., 1., 0.],\n",
              "       [0., 0., 1.]])"
            ]
          },
          "metadata": {},
          "execution_count": 28
        }
      ]
    },
    {
      "cell_type": "code",
      "source": [
        "ten_eye = np.eye(3, dtype = int)\n",
        "ten_eye"
      ],
      "metadata": {
        "colab": {
          "base_uri": "https://localhost:8080/"
        },
        "id": "uc5UpQrEuUP0",
        "outputId": "bf600376-1a50-4efd-b90a-fa4ebb4076ac"
      },
      "id": "uc5UpQrEuUP0",
      "execution_count": 29,
      "outputs": [
        {
          "output_type": "execute_result",
          "data": {
            "text/plain": [
              "array([[1, 0, 0],\n",
              "       [0, 1, 0],\n",
              "       [0, 0, 1]])"
            ]
          },
          "metadata": {},
          "execution_count": 29
        }
      ]
    },
    {
      "cell_type": "markdown",
      "metadata": {
        "id": "7e44c6fa"
      },
      "source": [
        "#### 11. Create a 3x3x3 array with random values (★☆☆)\n",
        "Hint : numpy.random.random"
      ],
      "id": "7e44c6fa"
    },
    {
      "cell_type": "code",
      "metadata": {
        "id": "1cb3dddf",
        "colab": {
          "base_uri": "https://localhost:8080/"
        },
        "outputId": "28c9d65b-852c-4536-93b1-8619b3e6d7d3"
      },
      "source": [
        "eleven = np.random.random((3,3,3))\n",
        "eleven"
      ],
      "id": "1cb3dddf",
      "execution_count": 34,
      "outputs": [
        {
          "output_type": "execute_result",
          "data": {
            "text/plain": [
              "array([[[0.75991629, 0.70561144, 0.00874088],\n",
              "        [0.43388093, 0.03803645, 0.66555559],\n",
              "        [0.98080648, 0.02270383, 0.31315026]],\n",
              "\n",
              "       [[0.09429683, 0.33874701, 0.05948302],\n",
              "        [0.52406098, 0.04834236, 0.62819988],\n",
              "        [0.36579866, 0.75668131, 0.387893  ]],\n",
              "\n",
              "       [[0.91402132, 0.39879821, 0.61724981],\n",
              "        [0.9971554 , 0.59249165, 0.83761927],\n",
              "        [0.65208371, 0.94179146, 0.43286459]]])"
            ]
          },
          "metadata": {},
          "execution_count": 34
        }
      ]
    },
    {
      "cell_type": "markdown",
      "metadata": {
        "id": "13c5928c"
      },
      "source": [
        "#### 12. Create a 10x10 array with random values and find the **min**imum and **max**imum values (★☆☆)"
      ],
      "id": "13c5928c"
    },
    {
      "cell_type": "code",
      "metadata": {
        "id": "911c9b93",
        "colab": {
          "base_uri": "https://localhost:8080/"
        },
        "outputId": "6a37adc1-49c8-4bc8-92b8-e6b2ee8b6435"
      },
      "source": [
        "twelve = np.random.random((10,10))\n",
        "for i in twelve:\n",
        "  print(np.min(i), np.max(i))"
      ],
      "id": "911c9b93",
      "execution_count": 39,
      "outputs": [
        {
          "output_type": "stream",
          "name": "stdout",
          "text": [
            "0.028599565805721316 0.8061793750153344\n",
            "0.09710954408821415 0.9061006790559176\n",
            "0.033273586214070394 0.9051223615574387\n",
            "0.10496887192475679 0.9719731625285859\n",
            "0.09748977451312968 0.932050818176352\n",
            "0.09377428816156685 0.980229249252182\n",
            "0.058817070777438474 0.994848894900235\n",
            "0.056302767063807435 0.7495337071557461\n",
            "0.07475929479371379 0.9579564256235084\n",
            "0.0838260310906197 0.9578495167588048\n"
          ]
        }
      ]
    },
    {
      "cell_type": "markdown",
      "metadata": {
        "id": "3fa2e461"
      },
      "source": [
        "#### 13. Create a random vector of size 30 and find the **mean** value (★☆☆)"
      ],
      "id": "3fa2e461"
    },
    {
      "cell_type": "code",
      "metadata": {
        "id": "323eb38a",
        "colab": {
          "base_uri": "https://localhost:8080/"
        },
        "outputId": "ca2f08bc-5276-41c6-f83e-f1f1a81f5836"
      },
      "source": [
        "thirteen = np.random.random(30)\n",
        "np.mean(thirteen)"
      ],
      "id": "323eb38a",
      "execution_count": 41,
      "outputs": [
        {
          "output_type": "execute_result",
          "data": {
            "text/plain": [
              "0.537265125361966"
            ]
          },
          "metadata": {},
          "execution_count": 41
        }
      ]
    },
    {
      "cell_type": "markdown",
      "metadata": {
        "id": "73f7a549"
      },
      "source": [
        "#### 14. Create a 2d array with 1 on the border and 0 inside (★☆☆)"
      ],
      "id": "73f7a549"
    },
    {
      "cell_type": "code",
      "metadata": {
        "id": "e3a6807d",
        "colab": {
          "base_uri": "https://localhost:8080/"
        },
        "outputId": "6a891895-b54b-4d36-8bc2-92faafd27aaf"
      },
      "source": [
        "n = 5\n",
        "x = np.ones((n,n))\n",
        "x[1:-1,1:-1] = 0\n",
        "x"
      ],
      "id": "e3a6807d",
      "execution_count": 45,
      "outputs": [
        {
          "output_type": "execute_result",
          "data": {
            "text/plain": [
              "array([[1., 1., 1., 1., 1.],\n",
              "       [1., 0., 0., 0., 1.],\n",
              "       [1., 0., 0., 0., 1.],\n",
              "       [1., 0., 0., 0., 1.],\n",
              "       [1., 1., 1., 1., 1.]])"
            ]
          },
          "metadata": {},
          "execution_count": 45
        }
      ]
    },
    {
      "cell_type": "markdown",
      "metadata": {
        "id": "d6ad1a9f"
      },
      "source": [
        "#### 15. What is the result of the following expression? (★☆☆)\n",
        "```python\n",
        "0 * np.nan\n",
        "np.nan == np.nan\n",
        "np.inf > np.nan\n",
        "np.nan - np.nan\n",
        "np.nan in set([np.nan])\n",
        "0.3 == 3 * 0.1\n",
        "```"
      ],
      "id": "d6ad1a9f"
    },
    {
      "cell_type": "code",
      "source": [
        "0 * np.nan"
      ],
      "metadata": {
        "colab": {
          "base_uri": "https://localhost:8080/"
        },
        "id": "HXvzAa6_xJOv",
        "outputId": "193b460b-a2d4-494c-9b1c-4b81697330a2"
      },
      "id": "HXvzAa6_xJOv",
      "execution_count": 47,
      "outputs": [
        {
          "output_type": "execute_result",
          "data": {
            "text/plain": [
              "nan"
            ]
          },
          "metadata": {},
          "execution_count": 47
        }
      ]
    },
    {
      "cell_type": "code",
      "source": [
        "np.nan == np.nan"
      ],
      "metadata": {
        "colab": {
          "base_uri": "https://localhost:8080/"
        },
        "id": "Dp3_9jo1xLKi",
        "outputId": "b49e752a-471b-43d8-ddfc-b38cc9052671"
      },
      "id": "Dp3_9jo1xLKi",
      "execution_count": 48,
      "outputs": [
        {
          "output_type": "execute_result",
          "data": {
            "text/plain": [
              "False"
            ]
          },
          "metadata": {},
          "execution_count": 48
        }
      ]
    },
    {
      "cell_type": "code",
      "source": [
        "np.inf > np.nan"
      ],
      "metadata": {
        "colab": {
          "base_uri": "https://localhost:8080/"
        },
        "id": "l87DN1I_xM9A",
        "outputId": "4a634af5-f939-44cf-ea11-552f3696c216"
      },
      "id": "l87DN1I_xM9A",
      "execution_count": 49,
      "outputs": [
        {
          "output_type": "execute_result",
          "data": {
            "text/plain": [
              "False"
            ]
          },
          "metadata": {},
          "execution_count": 49
        }
      ]
    },
    {
      "cell_type": "code",
      "source": [
        "np.nan - np.nan"
      ],
      "metadata": {
        "colab": {
          "base_uri": "https://localhost:8080/"
        },
        "id": "IEQNZ2aixPAE",
        "outputId": "bc674298-9d96-4de4-d244-c336662022fa"
      },
      "id": "IEQNZ2aixPAE",
      "execution_count": 50,
      "outputs": [
        {
          "output_type": "execute_result",
          "data": {
            "text/plain": [
              "nan"
            ]
          },
          "metadata": {},
          "execution_count": 50
        }
      ]
    },
    {
      "cell_type": "code",
      "source": [
        "np.nan in set([np.nan])"
      ],
      "metadata": {
        "colab": {
          "base_uri": "https://localhost:8080/"
        },
        "id": "znzwlNDUxQni",
        "outputId": "fc76995b-c7ab-4332-999b-cf7fff423a5b"
      },
      "id": "znzwlNDUxQni",
      "execution_count": 51,
      "outputs": [
        {
          "output_type": "execute_result",
          "data": {
            "text/plain": [
              "True"
            ]
          },
          "metadata": {},
          "execution_count": 51
        }
      ]
    },
    {
      "cell_type": "code",
      "source": [
        "0.3 == 3 * 0.1"
      ],
      "metadata": {
        "colab": {
          "base_uri": "https://localhost:8080/"
        },
        "id": "3g7uTOOrxT4x",
        "outputId": "1eada8d7-464a-4323-ccbe-cfbf2f85246e"
      },
      "id": "3g7uTOOrxT4x",
      "execution_count": 53,
      "outputs": [
        {
          "output_type": "execute_result",
          "data": {
            "text/plain": [
              "False"
            ]
          },
          "metadata": {},
          "execution_count": 53
        }
      ]
    },
    {
      "cell_type": "markdown",
      "metadata": {
        "id": "e3a7ba7f"
      },
      "source": [
        "#### 16. Create a 5x5 matrix with values 1,2,3,4 just below the **diag**onal (★☆☆)"
      ],
      "id": "e3a7ba7f"
    },
    {
      "cell_type": "code",
      "metadata": {
        "id": "01d8e257",
        "colab": {
          "base_uri": "https://localhost:8080/"
        },
        "outputId": "e9775616-e0ab-4b10-e27c-dc8382394e3e"
      },
      "source": [
        "sixteen = np.diag([1,2,3,4], k = -1)\n",
        "sixteen"
      ],
      "id": "01d8e257",
      "execution_count": 56,
      "outputs": [
        {
          "output_type": "execute_result",
          "data": {
            "text/plain": [
              "array([[0, 0, 0, 0, 0],\n",
              "       [1, 0, 0, 0, 0],\n",
              "       [0, 2, 0, 0, 0],\n",
              "       [0, 0, 3, 0, 0],\n",
              "       [0, 0, 0, 4, 0]])"
            ]
          },
          "metadata": {},
          "execution_count": 56
        }
      ]
    },
    {
      "cell_type": "markdown",
      "metadata": {
        "id": "6d17ab5d"
      },
      "source": [
        "#### 17. Create a 8x8 matrix and fill it with a checkerboard pattern (★☆☆)"
      ],
      "id": "6d17ab5d"
    },
    {
      "cell_type": "code",
      "metadata": {
        "id": "841373cd",
        "colab": {
          "base_uri": "https://localhost:8080/"
        },
        "outputId": "34b8083d-a6f9-42c6-d5e6-238f9873e43a"
      },
      "source": [
        "x = np.zeros((8,8),dtype=int)\n",
        "x[1::2,::2] = 1\n",
        "x[::2,1::2] = 1\n",
        "x"
      ],
      "id": "841373cd",
      "execution_count": 92,
      "outputs": [
        {
          "output_type": "execute_result",
          "data": {
            "text/plain": [
              "array([[0, 0, 0, 0, 0, 0, 0, 0],\n",
              "       [1, 0, 1, 0, 1, 0, 1, 0],\n",
              "       [0, 0, 0, 0, 0, 0, 0, 0],\n",
              "       [1, 0, 1, 0, 1, 0, 1, 0],\n",
              "       [0, 0, 0, 0, 0, 0, 0, 0],\n",
              "       [1, 0, 1, 0, 1, 0, 1, 0],\n",
              "       [0, 0, 0, 0, 0, 0, 0, 0],\n",
              "       [1, 0, 1, 0, 1, 0, 1, 0]])"
            ]
          },
          "metadata": {},
          "execution_count": 92
        }
      ]
    },
    {
      "cell_type": "markdown",
      "metadata": {
        "id": "8837119b"
      },
      "source": [
        "#### 18. Consider a (6,7,8) shape array, what is the index (x,y,z) of the 100th element? (★☆☆)\n",
        "Hint : use 'numpy.unravel_index(value, (x, y, z))"
      ],
      "id": "8837119b"
    },
    {
      "cell_type": "code",
      "metadata": {
        "id": "2c0d16f1",
        "colab": {
          "base_uri": "https://localhost:8080/"
        },
        "outputId": "64bcd30c-756f-4fcd-aa34-8533d274e192"
      },
      "source": [
        "np.unravel_index(100, (6,7,8))"
      ],
      "id": "2c0d16f1",
      "execution_count": 87,
      "outputs": [
        {
          "output_type": "execute_result",
          "data": {
            "text/plain": [
              "(1, 5, 4)"
            ]
          },
          "metadata": {},
          "execution_count": 87
        }
      ]
    },
    {
      "cell_type": "markdown",
      "metadata": {
        "id": "391791e0"
      },
      "source": [
        "#### 19. Normalize a 5x5 random matrix (★☆☆)\n",
        "Hint : $Z = \\frac{X - \\overline{X}}{S}$"
      ],
      "id": "391791e0"
    },
    {
      "cell_type": "code",
      "metadata": {
        "id": "f6533d39",
        "colab": {
          "base_uri": "https://localhost:8080/"
        },
        "outputId": "477b47bc-9de7-45ec-b804-4f1b9a7b1679"
      },
      "source": [
        "nineteen = np.random.rand(5,5)\n",
        "(nineteen - np.mean(nineteen)) / np.std(nineteen)"
      ],
      "id": "f6533d39",
      "execution_count": 62,
      "outputs": [
        {
          "output_type": "execute_result",
          "data": {
            "text/plain": [
              "array([[-1.05184549, -0.68582092, -1.14725299,  0.08065648, -1.48148318],\n",
              "       [ 0.64388155, -0.16367474, -0.24658079,  0.77810241,  1.22841763],\n",
              "       [ 1.47278301, -1.20486195, -1.54421254, -0.38658709,  1.53100569],\n",
              "       [-0.18070473, -1.35985317,  0.95808919,  0.21511597,  1.49805231],\n",
              "       [-1.32934322,  0.29175908,  0.17899394,  0.93526506,  0.9700985 ]])"
            ]
          },
          "metadata": {},
          "execution_count": 62
        }
      ]
    },
    {
      "cell_type": "markdown",
      "metadata": {
        "id": "1e74d39e"
      },
      "source": [
        "#### 20. Create a custom dtype that describes a color as four unsigned bytes (RGBA) (★☆☆)\n",
        "Hint : modify the code below\n",
        "```python\n",
        "numpy.dtype([(value, numpy.ubyte), … , (value, numpy.ubyte)])\n",
        "```"
      ],
      "id": "1e74d39e"
    },
    {
      "cell_type": "code",
      "metadata": {
        "id": "3f639d33",
        "colab": {
          "base_uri": "https://localhost:8080/"
        },
        "outputId": "974844da-0c57-4d3d-eae9-86929bd796e1"
      },
      "source": [
        "color = np.dtype([(\"r\", np.ubyte, 1),\n",
        "                  (\"g\", np.ubyte, 1),\n",
        "                  (\"b\", np.ubyte, 1),\n",
        "                  (\"a\", np.ubyte, 1)]) # 몰라"
      ],
      "id": "3f639d33",
      "execution_count": 63,
      "outputs": [
        {
          "output_type": "stream",
          "name": "stderr",
          "text": [
            "/usr/local/lib/python3.7/dist-packages/ipykernel_launcher.py:4: FutureWarning: Passing (type, 1) or '1type' as a synonym of type is deprecated; in a future version of numpy, it will be understood as (type, (1,)) / '(1,)type'.\n",
            "  after removing the cwd from sys.path.\n"
          ]
        }
      ]
    },
    {
      "cell_type": "markdown",
      "metadata": {
        "id": "78250c14"
      },
      "source": [
        "#### 21. Multiply a 5x3 matrix by a 3x2 matrix (real matrix product) (★☆☆)"
      ],
      "id": "78250c14"
    },
    {
      "cell_type": "code",
      "metadata": {
        "id": "9fe729cb",
        "colab": {
          "base_uri": "https://localhost:8080/"
        },
        "outputId": "6294cfcd-f726-461c-d81e-5c9118419f69"
      },
      "source": [
        "a = np.random.random((5,3))\n",
        "b = np.random.random((3,2))\n",
        "np.dot(a,b)"
      ],
      "id": "9fe729cb",
      "execution_count": 64,
      "outputs": [
        {
          "output_type": "execute_result",
          "data": {
            "text/plain": [
              "array([[0.97497143, 0.09227209],\n",
              "       [0.70979826, 0.08810528],\n",
              "       [0.81206442, 0.1446568 ],\n",
              "       [0.89020834, 0.13664702],\n",
              "       [0.72505992, 0.28093666]])"
            ]
          },
          "metadata": {},
          "execution_count": 64
        }
      ]
    },
    {
      "cell_type": "markdown",
      "metadata": {
        "id": "51898680"
      },
      "source": [
        "#### 22. Given a 1D array, negate all elements which are between 3 and 8, in place. (★☆☆)"
      ],
      "id": "51898680"
    },
    {
      "cell_type": "code",
      "metadata": {
        "id": "51c90f2d",
        "colab": {
          "base_uri": "https://localhost:8080/"
        },
        "outputId": "28346e7e-842c-49d5-cc5e-93a6977369f5"
      },
      "source": [
        "twentytwo = np.arange(10)\n",
        "twentytwo[(twentytwo>2) & (twentytwo<8)] *= (-1)\n",
        "\n",
        "twentytwo"
      ],
      "id": "51c90f2d",
      "execution_count": 67,
      "outputs": [
        {
          "output_type": "execute_result",
          "data": {
            "text/plain": [
              "array([ 0,  1,  2, -3, -4, -5, -6, -7,  8,  9])"
            ]
          },
          "metadata": {},
          "execution_count": 67
        }
      ]
    },
    {
      "cell_type": "markdown",
      "metadata": {
        "id": "89e78048"
      },
      "source": [
        "#### 23. What is the output of the following script? (★☆☆)\n",
        "```python\n",
        "# Author: Jake VanderPlas\n",
        "\n",
        "print(sum(range(5),-1))\n",
        "from numpy import *\n",
        "print(sum(range(5),-1))\n",
        "```"
      ],
      "id": "89e78048"
    },
    {
      "cell_type": "code",
      "metadata": {
        "id": "b62e9d1c",
        "colab": {
          "base_uri": "https://localhost:8080/"
        },
        "outputId": "51436b39-c700-45b8-9503-b4d4a4938adb"
      },
      "source": [
        "sum(range(5),-1)  # range()"
      ],
      "id": "b62e9d1c",
      "execution_count": 68,
      "outputs": [
        {
          "output_type": "execute_result",
          "data": {
            "text/plain": [
              "9"
            ]
          },
          "metadata": {},
          "execution_count": 68
        }
      ]
    },
    {
      "cell_type": "code",
      "source": [
        "from numpy import *\n",
        "print(sum(range(5), -1))  # numpy패키지 안에 있는 sum()함수의 경우 "
      ],
      "metadata": {
        "colab": {
          "base_uri": "https://localhost:8080/"
        },
        "id": "xekBtD483TkD",
        "outputId": "f39efa45-9896-416d-91cf-af4b91372e79"
      },
      "id": "xekBtD483TkD",
      "execution_count": 94,
      "outputs": [
        {
          "output_type": "stream",
          "name": "stdout",
          "text": [
            "10\n"
          ]
        }
      ]
    },
    {
      "cell_type": "markdown",
      "metadata": {
        "id": "ebd10810"
      },
      "source": [
        "#### 24. Consider an integer vector Z, which of these expressions are legal? (★☆☆)\n",
        "```python\n",
        "Z**Z\n",
        "2 << Z >> 2\n",
        "Z <- Z\n",
        "1j*Z\n",
        "Z/1/1\n",
        "Z<Z>Z\n",
        "```"
      ],
      "id": "ebd10810"
    },
    {
      "cell_type": "code",
      "metadata": {
        "id": "6ada209f",
        "colab": {
          "base_uri": "https://localhost:8080/"
        },
        "outputId": "d4b2f1fa-892f-4586-8874-387dd9463820"
      },
      "source": [
        "z = [1,2,3]\n",
        "z<z>z"
      ],
      "id": "6ada209f",
      "execution_count": 83,
      "outputs": [
        {
          "output_type": "execute_result",
          "data": {
            "text/plain": [
              "False"
            ]
          },
          "metadata": {},
          "execution_count": 83
        }
      ]
    },
    {
      "cell_type": "markdown",
      "metadata": {
        "id": "c0e940f8"
      },
      "source": [
        "#### 25. What are the result of the following expressions? (★☆☆)\n",
        "```python\n",
        "np.array(0) / np.array(0)\n",
        "np.array(0) // np.array(0)\n",
        "np.array([np.nan]).astype(int).astype(float)\n",
        "```"
      ],
      "id": "c0e940f8"
    },
    {
      "cell_type": "code",
      "source": [
        "print(np.array(0))"
      ],
      "metadata": {
        "colab": {
          "base_uri": "https://localhost:8080/"
        },
        "id": "kVFkE7eLDzr-",
        "outputId": "d5c9398f-328a-4002-9c19-4ca10677a9bf"
      },
      "id": "kVFkE7eLDzr-",
      "execution_count": 75,
      "outputs": [
        {
          "output_type": "stream",
          "name": "stdout",
          "text": [
            "0\n"
          ]
        }
      ]
    },
    {
      "cell_type": "code",
      "metadata": {
        "id": "820dc7a5",
        "colab": {
          "base_uri": "https://localhost:8080/"
        },
        "outputId": "ef235ac6-231c-4915-905e-0761f6928dff"
      },
      "source": [
        "np.array(0) / np.array(0)"
      ],
      "id": "820dc7a5",
      "execution_count": 73,
      "outputs": [
        {
          "output_type": "stream",
          "name": "stderr",
          "text": [
            "/usr/local/lib/python3.7/dist-packages/ipykernel_launcher.py:1: RuntimeWarning: invalid value encountered in true_divide\n",
            "  \"\"\"Entry point for launching an IPython kernel.\n"
          ]
        },
        {
          "output_type": "execute_result",
          "data": {
            "text/plain": [
              "nan"
            ]
          },
          "metadata": {},
          "execution_count": 73
        }
      ]
    },
    {
      "cell_type": "code",
      "source": [
        "np.array(0) // np.array(0)"
      ],
      "metadata": {
        "colab": {
          "base_uri": "https://localhost:8080/"
        },
        "id": "_n2p3pN-460o",
        "outputId": "346cf32f-5da4-4687-bbad-178422d13e7e"
      },
      "id": "_n2p3pN-460o",
      "execution_count": 71,
      "outputs": [
        {
          "output_type": "stream",
          "name": "stderr",
          "text": [
            "/usr/local/lib/python3.7/dist-packages/ipykernel_launcher.py:1: RuntimeWarning: divide by zero encountered in floor_divide\n",
            "  \"\"\"Entry point for launching an IPython kernel.\n"
          ]
        },
        {
          "output_type": "execute_result",
          "data": {
            "text/plain": [
              "0"
            ]
          },
          "metadata": {},
          "execution_count": 71
        }
      ]
    },
    {
      "cell_type": "code",
      "source": [
        "np.array([np.nan]).astype(int).astype(float)"
      ],
      "metadata": {
        "colab": {
          "base_uri": "https://localhost:8080/"
        },
        "id": "S-W0cBlJD5Yg",
        "outputId": "377c496e-81a4-4536-fa77-3747d5e50fd3"
      },
      "id": "S-W0cBlJD5Yg",
      "execution_count": 76,
      "outputs": [
        {
          "output_type": "execute_result",
          "data": {
            "text/plain": [
              "array([-9.22337204e+18])"
            ]
          },
          "metadata": {},
          "execution_count": 76
        }
      ]
    },
    {
      "cell_type": "markdown",
      "metadata": {
        "id": "f1ae2c2d"
      },
      "source": [
        "#### 26. How to find common values between two arrays? (★☆☆)\n",
        "```python\n",
        "Z1 = np.random.randint(0,10,10)\n",
        "Z2 = np.random.randint(0,10,10)\n",
        "```\n",
        "Hint : use `numpy.random.randint(start, end, size)`"
      ],
      "id": "f1ae2c2d"
    },
    {
      "cell_type": "code",
      "metadata": {
        "id": "6801c73d"
      },
      "source": [],
      "id": "6801c73d",
      "execution_count": null,
      "outputs": []
    },
    {
      "cell_type": "markdown",
      "metadata": {
        "id": "37bc0973"
      },
      "source": [
        "#### 27. Is the following expressions true? (★☆☆)\n",
        "```python\n",
        "np.sqrt(-1) == np.emath.sqrt(-1)\n",
        "```"
      ],
      "id": "37bc0973"
    },
    {
      "cell_type": "code",
      "metadata": {
        "id": "c70cbabe"
      },
      "source": [],
      "id": "c70cbabe",
      "execution_count": null,
      "outputs": []
    },
    {
      "cell_type": "code",
      "source": [
        "import numpy as np"
      ],
      "metadata": {
        "id": "uFZqYO0BxrKi"
      },
      "id": "uFZqYO0BxrKi",
      "execution_count": null,
      "outputs": []
    },
    {
      "cell_type": "markdown",
      "metadata": {
        "id": "42f8b2f9"
      },
      "source": [
        "#### 28. How to get all the dates corresponding to the month of July 2016? (★★☆)\n",
        "Hint : modify the code below\n",
        "```python\n",
        "Z = np.arange('start', 'end', dtype='datetime64[D]')\n",
        "```"
      ],
      "id": "42f8b2f9"
    },
    {
      "cell_type": "code",
      "source": [],
      "metadata": {
        "id": "3kkl01x3x0NF"
      },
      "id": "3kkl01x3x0NF",
      "execution_count": null,
      "outputs": []
    },
    {
      "cell_type": "markdown",
      "metadata": {
        "id": "252c43e2"
      },
      "source": [
        "#### 29. How to compute ((A+B)*(-A/2)) in place (without copy)? (★★☆)\n",
        "Hint : use `numpy.add`, `numpy.divide`,`numpy.negative`, `numpy.multiply` and parameter `out` of the funtions"
      ],
      "id": "252c43e2"
    },
    {
      "cell_type": "code",
      "metadata": {
        "id": "f06ff615"
      },
      "source": [],
      "id": "f06ff615",
      "execution_count": null,
      "outputs": []
    },
    {
      "cell_type": "markdown",
      "metadata": {
        "id": "486df8ea"
      },
      "source": [
        "#### 30. Extract the integer part of a random array of positive numbers using 2 different methods (★★☆)\n",
        "Hint : `%`, `//`"
      ],
      "id": "486df8ea"
    },
    {
      "cell_type": "code",
      "metadata": {
        "id": "34b4fa08"
      },
      "source": [],
      "id": "34b4fa08",
      "execution_count": null,
      "outputs": []
    },
    {
      "cell_type": "markdown",
      "metadata": {
        "id": "649e89f9"
      },
      "source": [
        "#### 31. Create a 5x5 matrix with row values ranging from 0 to 4 (★★☆)"
      ],
      "id": "649e89f9"
    },
    {
      "cell_type": "code",
      "metadata": {
        "id": "663cc611"
      },
      "source": [],
      "id": "663cc611",
      "execution_count": null,
      "outputs": []
    },
    {
      "cell_type": "markdown",
      "metadata": {
        "id": "2d07be1c"
      },
      "source": [
        "#### 32. Create a random vector of size 10 and sort it (★★☆)"
      ],
      "id": "2d07be1c"
    },
    {
      "cell_type": "code",
      "metadata": {
        "id": "4f7cb3ad"
      },
      "source": [],
      "id": "4f7cb3ad",
      "execution_count": null,
      "outputs": []
    },
    {
      "cell_type": "markdown",
      "metadata": {
        "id": "fe043549"
      },
      "source": [
        "#### 33. Consider two random array A and B, check if they are equal (★★☆)\n",
        "```python\n",
        "A = np.random.randint(0,2,5)\n",
        "B = np.random.randint(0,2,5)\n",
        "```\n",
        "Hint : Use `numpy.array_equal()`"
      ],
      "id": "fe043549"
    },
    {
      "cell_type": "code",
      "metadata": {
        "id": "3326a686"
      },
      "source": [],
      "id": "3326a686",
      "execution_count": null,
      "outputs": []
    },
    {
      "cell_type": "markdown",
      "metadata": {
        "id": "2002cb03"
      },
      "source": [
        "#### 34. Consider a random 10x2 matrix representing cartesian coordinates, convert them to polar coordinates (★★☆)\n",
        "Hint 1 : Note that cartesian coodinate **(x, y)** can be represented as  polar coordinates **(distance from origin to (x,y), angle from the x-axis)**\n",
        "\n",
        "Hint 2 : Use `numpy.sqrt` and `numpy.arctan2`"
      ],
      "id": "2002cb03"
    },
    {
      "cell_type": "code",
      "metadata": {
        "id": "58be72bc"
      },
      "source": [],
      "id": "58be72bc",
      "execution_count": null,
      "outputs": []
    },
    {
      "cell_type": "markdown",
      "metadata": {
        "id": "b7109c9f"
      },
      "source": [
        "#### 35. Create random vector Z of size 10 and replace the maximum value by 0 (★★☆)\n",
        "Hint : We can see the index of maximum value using `Z.argmax()`"
      ],
      "id": "b7109c9f"
    },
    {
      "cell_type": "code",
      "metadata": {
        "id": "f79e79a7"
      },
      "source": [],
      "id": "f79e79a7",
      "execution_count": null,
      "outputs": []
    },
    {
      "cell_type": "markdown",
      "metadata": {
        "id": "e6e1ae2f"
      },
      "source": [
        "#### 36. How to find the closest value (to a given scalar v) in a vector Z? (★★☆)\n",
        "```python\n",
        "Z = np.arange(100)\n",
        "v = np.random.uniform(0,100)\n",
        "```\n",
        "Hint : Coumpute the distances between the each elements of Z and the scalar v. After that, we can see the index of minimum value using `argmin()`.  "
      ],
      "id": "e6e1ae2f"
    },
    {
      "cell_type": "code",
      "source": [],
      "metadata": {
        "id": "QkQ2Mii77FrE"
      },
      "id": "QkQ2Mii77FrE",
      "execution_count": null,
      "outputs": []
    },
    {
      "cell_type": "markdown",
      "metadata": {
        "id": "f98713a6"
      },
      "source": [
        "#### 37. What is the equivalent of enumerate for numpy arrays? (★★☆)\n",
        "Hint : Use `numpy.ndenumerate()`or `numpy.ndindex()`\n",
        "\n",
        "Example of the output :\n",
        "```python\n",
        "Z = np.arange(9).reshape(3,3)\n",
        "```\n",
        "```python\n",
        "# output\n",
        "(0, 0) 0\n",
        "(0, 1) 1\n",
        "(0, 2) 2\n",
        "(1, 0) 3\n",
        "(1, 1) 4\n",
        "(1, 2) 5\n",
        "(2, 0) 6\n",
        "(2, 1) 7\n",
        "(2, 2) 8\n",
        "```"
      ],
      "id": "f98713a6"
    },
    {
      "cell_type": "code",
      "metadata": {
        "id": "64795f84"
      },
      "source": [],
      "id": "64795f84",
      "execution_count": null,
      "outputs": []
    },
    {
      "cell_type": "markdown",
      "metadata": {
        "id": "0cf413ee"
      },
      "source": [
        "#### 38. How to randomly place p elements in a 2D array? (★★☆)\n",
        "Hint : modify the code below\n",
        "```python\n",
        "n = 'size of a 2D array'\n",
        "p = 'the number of elements that you want to place'\n",
        "Z = np.zeros((n,n))\n",
        "np.put(Z, np.random.choice(range(n*n), p, replace = False),'value that you want to place')\n",
        "print(Z)\n",
        "```"
      ],
      "id": "0cf413ee"
    },
    {
      "cell_type": "code",
      "metadata": {
        "id": "dfc57e06"
      },
      "source": [],
      "id": "dfc57e06",
      "execution_count": null,
      "outputs": []
    },
    {
      "cell_type": "markdown",
      "metadata": {
        "id": "c0cf37e0"
      },
      "source": [
        "#### 39. How to sort an array below by the nth column? (★★☆)\n",
        "```python\n",
        "Z = np.random.randint(0,10,(3,3))\n",
        "```"
      ],
      "id": "c0cf37e0"
    },
    {
      "cell_type": "code",
      "metadata": {
        "id": "9336ca5f"
      },
      "source": [
        "# column 1"
      ],
      "id": "9336ca5f",
      "execution_count": null,
      "outputs": []
    },
    {
      "cell_type": "code",
      "source": [
        "# column 2"
      ],
      "metadata": {
        "id": "0hZzZ6tn2K6V"
      },
      "id": "0hZzZ6tn2K6V",
      "execution_count": null,
      "outputs": []
    },
    {
      "cell_type": "code",
      "source": [
        "# column 3"
      ],
      "metadata": {
        "id": "z4zqQXvt2NaB"
      },
      "id": "z4zqQXvt2NaB",
      "execution_count": null,
      "outputs": []
    }
  ]
}