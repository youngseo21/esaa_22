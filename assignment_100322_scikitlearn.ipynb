{
  "nbformat": 4,
  "nbformat_minor": 0,
  "metadata": {
    "colab": {
      "provenance": [],
      "authorship_tag": "ABX9TyNDHCvnKQsBQh/fu1VApwJi",
      "include_colab_link": true
    },
    "kernelspec": {
      "name": "python3",
      "display_name": "Python 3"
    },
    "language_info": {
      "name": "python"
    }
  },
  "cells": [
    {
      "cell_type": "markdown",
      "metadata": {
        "id": "view-in-github",
        "colab_type": "text"
      },
      "source": [
        "<a href=\"https://colab.research.google.com/github/youngseo21/esaa_22/blob/main/assignment_100322_scikitlearn.ipynb\" target=\"_parent\"><img src=\"https://colab.research.google.com/assets/colab-badge.svg\" alt=\"Open In Colab\"/></a>"
      ]
    },
    {
      "cell_type": "markdown",
      "source": [
        "# 2. 사이킷런으로 시작하는 머신러닝\n",
        "---"
      ],
      "metadata": {
        "id": "i_C4_dTVeJ1E"
      }
    },
    {
      "cell_type": "code",
      "execution_count": 1,
      "metadata": {
        "colab": {
          "base_uri": "https://localhost:8080/"
        },
        "id": "EKUxDyvxdwBB",
        "outputId": "2712601e-97a8-456e-c784-50086270f351"
      },
      "outputs": [
        {
          "output_type": "stream",
          "name": "stdout",
          "text": [
            "Looking in indexes: https://pypi.org/simple, https://us-python.pkg.dev/colab-wheels/public/simple/\n",
            "Requirement already satisfied: scikit-learn in /usr/local/lib/python3.7/dist-packages (1.0.2)\n",
            "Requirement already satisfied: numpy>=1.14.6 in /usr/local/lib/python3.7/dist-packages (from scikit-learn) (1.21.6)\n",
            "Requirement already satisfied: joblib>=0.11 in /usr/local/lib/python3.7/dist-packages (from scikit-learn) (1.1.0)\n",
            "Requirement already satisfied: threadpoolctl>=2.0.0 in /usr/local/lib/python3.7/dist-packages (from scikit-learn) (3.1.0)\n",
            "Requirement already satisfied: scipy>=1.1.0 in /usr/local/lib/python3.7/dist-packages (from scikit-learn) (1.7.3)\n"
          ]
        }
      ],
      "source": [
        "# 사이킷런 설치\n",
        "!pip install scikit-learn"
      ]
    },
    {
      "cell_type": "code",
      "source": [
        "#import package\n",
        "import sklearn\n",
        "import pandas as pd\n",
        "import numpy as np"
      ],
      "metadata": {
        "id": "B18DtFVdeBYI"
      },
      "execution_count": 2,
      "outputs": []
    },
    {
      "cell_type": "markdown",
      "source": [
        "## 01 사이킷런 소개와 특징\n",
        "___\n",
        "- 사이킷런(scikit-learn)은 **파이썬 머신러닝 라이브러리** 중 가장 많이 사용되는 라이브러리\n",
        "- 사이킷런의 특징\n",
        "  1. 가장 쉽고 파이썬스러운 API를 제공한다.\n",
        "  2. 머신러닝을 위한 매우 다양한 알고리즘과 개발을 위한 편리한 프레임워크, API를 제공한다.\n",
        "  3. 오랜 기간 실전 환경에서 검증되어 매우 많은 환경에서 사용되는 라이브러리이다.\n",
        "- 사이킷런 패키지 import\n",
        "```python\n",
        "import sklearn\n",
        "```\n"
      ],
      "metadata": {
        "id": "jPdyi4OOedZp"
      }
    },
    {
      "cell_type": "code",
      "source": [
        "# 사이킷런 버전 확인\n",
        "print(sklearn.__version__)"
      ],
      "metadata": {
        "colab": {
          "base_uri": "https://localhost:8080/"
        },
        "id": "oz89PZVkec0R",
        "outputId": "44c0471b-2850-4cc5-9c90-8b8f8f0dc79f"
      },
      "execution_count": 3,
      "outputs": [
        {
          "output_type": "stream",
          "name": "stdout",
          "text": [
            "1.0.2\n"
          ]
        }
      ]
    },
    {
      "cell_type": "markdown",
      "source": [
        "## 02 첫 번째 머신러닝 만들어 보기 - 붓꽃 품종 예측하기\n",
        "___\n",
        "- **붓꽃 데이터 세트**로 붓꽃의 품종을 분류(Classification)\n",
        "- 붓꽃 데이터 세트 : 꽃잎의 길이와 너비, 꽃받침의 길이와 너비 피처(Feature)를 기반으로 꽃의 품종을 예측하기 위한 데이터\n",
        "- **분류(Classification)** :  대표적인 지도학습(Supervised Learning) 방법 중 하나\n",
        "  * 지도 학습은 학습을 위한 다양한 피처와 분류 결정값인 레이블(Label) 데이터로 모델을 학습한 뒤, 별도의 테스트 데이터 세트에서 미지의 레이블을 예측한다.\n",
        "  * 즉, 명확한 정답이 주어진 데이터를 먼저 학습한 뒤 미지의 정답을 예측한다\n",
        "  * 학습 데이터셋 : 학습을 위해 주어진 데이터셋\n",
        "  * 테스트 데이터셋 : 머신러닝 모델의 예측 성능을 평가하기 위해 별도로 주어진 데이터셋\n"
      ],
      "metadata": {
        "id": "q4Ydyx58e_Vm"
      }
    },
    {
      "cell_type": "markdown",
      "source": [
        "#### 1) 사이킷런에서 사용할 모듈을 import\n",
        "___\n",
        "  - `sklearn.datasets` : 사이킷런에서 자체적으로 제공하는 데이터셋을 생성하는 모듈의 모임\n",
        "  - `sklearn.tree` : 트리 기반 ML 알고리즘을 구현한 클래스의 모임\n",
        "  - `sklearn.model_selection` : 학습 데이터와 검증 데이터, 예측 데이터로 데이터를 불리하거나 최적의 하이퍼 파라미터로 평가하기 위한 다양한 모듈의 모임\n",
        "    + 하이퍼 파라미터 : 머신러닝 알고리즘 별로 최적의 학습을 위해 직접 입력하는 파라미터들\n",
        "    + 하이퍼 파라미터를 이용해 머신러닝 알고리즘의 성능을 조정할 수 있다.\n",
        "  - `load_iris()` : 붓꽃 데이터 세트 생성\n",
        "  - `DecisionTreeClassifier` : ML 알고리즘 중 의사 결정 트리(Decision Tree) 알고리즘을 적용\n",
        "  - `train_test_split()` : 데이터셋을 학습 데이터와 테스트 데이터로 분리\n"
      ],
      "metadata": {
        "id": "_9J-YG3NfCyR"
      }
    },
    {
      "cell_type": "code",
      "source": [
        "# 사용할 Module Import\n",
        "from sklearn.datasets import load_iris\n",
        "from sklearn.tree import DecisionTreeClassifier\n",
        "from sklearn.model_selection import train_test_split"
      ],
      "metadata": {
        "id": "XogTuFRWgv3w"
      },
      "execution_count": 3,
      "outputs": []
    },
    {
      "cell_type": "markdown",
      "source": [
        "#### 2) 붓꽃 데이터셋 로딩 및 DataFrame으로 변환\n",
        "___"
      ],
      "metadata": {
        "id": "SqVRZWluhDbq"
      }
    },
    {
      "cell_type": "code",
      "source": [
        "# load iris dataset\n",
        "iris = load_iris()"
      ],
      "metadata": {
        "id": "rthSidzZhKXm"
      },
      "execution_count": 4,
      "outputs": []
    },
    {
      "cell_type": "code",
      "source": [
        "# iris.data는 Iris 데이터셋에서 Feature만으로 된 데이터를 numpy로 가지고 있다.\n",
        "iris_data = iris.data"
      ],
      "metadata": {
        "id": "0v3dez5jhKyJ"
      },
      "execution_count": 5,
      "outputs": []
    },
    {
      "cell_type": "code",
      "source": [
        "# iris.target은 붓꽃 데이터셋에서 Label 데이터를 numpy로 가지고 있다.\n",
        "iris_label = iris.target\n",
        "print('iris target 값 : ', iris_label)\n",
        "print('iris target 명 : ', iris.target_names)"
      ],
      "metadata": {
        "colab": {
          "base_uri": "https://localhost:8080/"
        },
        "id": "_NFRrgchhhVx",
        "outputId": "0de79f4f-8f2c-4fe8-fdf1-7952668ecf10"
      },
      "execution_count": 6,
      "outputs": [
        {
          "output_type": "stream",
          "name": "stdout",
          "text": [
            "iris target 값 :  [0 0 0 0 0 0 0 0 0 0 0 0 0 0 0 0 0 0 0 0 0 0 0 0 0 0 0 0 0 0 0 0 0 0 0 0 0\n",
            " 0 0 0 0 0 0 0 0 0 0 0 0 0 1 1 1 1 1 1 1 1 1 1 1 1 1 1 1 1 1 1 1 1 1 1 1 1\n",
            " 1 1 1 1 1 1 1 1 1 1 1 1 1 1 1 1 1 1 1 1 1 1 1 1 1 1 2 2 2 2 2 2 2 2 2 2 2\n",
            " 2 2 2 2 2 2 2 2 2 2 2 2 2 2 2 2 2 2 2 2 2 2 2 2 2 2 2 2 2 2 2 2 2 2 2 2 2\n",
            " 2 2]\n",
            "iris target 명 :  ['setosa' 'versicolor' 'virginica']\n"
          ]
        }
      ]
    },
    {
      "cell_type": "code",
      "source": [
        "# 붓꽃 데이터셋을 DataFrame으로 변환\n",
        "iris_df = pd.DataFrame(data = iris_data, columns = iris.feature_names)\n",
        "iris_df['label'] = iris.target\n",
        "iris_df.head(3)"
      ],
      "metadata": {
        "colab": {
          "base_uri": "https://localhost:8080/",
          "height": 143
        },
        "id": "dnNQpe9DhtWu",
        "outputId": "c1142562-da9a-46e4-d819-b750c27a5821"
      },
      "execution_count": 7,
      "outputs": [
        {
          "output_type": "execute_result",
          "data": {
            "text/plain": [
              "   sepal length (cm)  sepal width (cm)  petal length (cm)  petal width (cm)  \\\n",
              "0                5.1               3.5                1.4               0.2   \n",
              "1                4.9               3.0                1.4               0.2   \n",
              "2                4.7               3.2                1.3               0.2   \n",
              "\n",
              "   label  \n",
              "0      0  \n",
              "1      0  \n",
              "2      0  "
            ],
            "text/html": [
              "\n",
              "  <div id=\"df-d6f04753-13fd-45ae-aaca-e686a293a42a\">\n",
              "    <div class=\"colab-df-container\">\n",
              "      <div>\n",
              "<style scoped>\n",
              "    .dataframe tbody tr th:only-of-type {\n",
              "        vertical-align: middle;\n",
              "    }\n",
              "\n",
              "    .dataframe tbody tr th {\n",
              "        vertical-align: top;\n",
              "    }\n",
              "\n",
              "    .dataframe thead th {\n",
              "        text-align: right;\n",
              "    }\n",
              "</style>\n",
              "<table border=\"1\" class=\"dataframe\">\n",
              "  <thead>\n",
              "    <tr style=\"text-align: right;\">\n",
              "      <th></th>\n",
              "      <th>sepal length (cm)</th>\n",
              "      <th>sepal width (cm)</th>\n",
              "      <th>petal length (cm)</th>\n",
              "      <th>petal width (cm)</th>\n",
              "      <th>label</th>\n",
              "    </tr>\n",
              "  </thead>\n",
              "  <tbody>\n",
              "    <tr>\n",
              "      <th>0</th>\n",
              "      <td>5.1</td>\n",
              "      <td>3.5</td>\n",
              "      <td>1.4</td>\n",
              "      <td>0.2</td>\n",
              "      <td>0</td>\n",
              "    </tr>\n",
              "    <tr>\n",
              "      <th>1</th>\n",
              "      <td>4.9</td>\n",
              "      <td>3.0</td>\n",
              "      <td>1.4</td>\n",
              "      <td>0.2</td>\n",
              "      <td>0</td>\n",
              "    </tr>\n",
              "    <tr>\n",
              "      <th>2</th>\n",
              "      <td>4.7</td>\n",
              "      <td>3.2</td>\n",
              "      <td>1.3</td>\n",
              "      <td>0.2</td>\n",
              "      <td>0</td>\n",
              "    </tr>\n",
              "  </tbody>\n",
              "</table>\n",
              "</div>\n",
              "      <button class=\"colab-df-convert\" onclick=\"convertToInteractive('df-d6f04753-13fd-45ae-aaca-e686a293a42a')\"\n",
              "              title=\"Convert this dataframe to an interactive table.\"\n",
              "              style=\"display:none;\">\n",
              "        \n",
              "  <svg xmlns=\"http://www.w3.org/2000/svg\" height=\"24px\"viewBox=\"0 0 24 24\"\n",
              "       width=\"24px\">\n",
              "    <path d=\"M0 0h24v24H0V0z\" fill=\"none\"/>\n",
              "    <path d=\"M18.56 5.44l.94 2.06.94-2.06 2.06-.94-2.06-.94-.94-2.06-.94 2.06-2.06.94zm-11 1L8.5 8.5l.94-2.06 2.06-.94-2.06-.94L8.5 2.5l-.94 2.06-2.06.94zm10 10l.94 2.06.94-2.06 2.06-.94-2.06-.94-.94-2.06-.94 2.06-2.06.94z\"/><path d=\"M17.41 7.96l-1.37-1.37c-.4-.4-.92-.59-1.43-.59-.52 0-1.04.2-1.43.59L10.3 9.45l-7.72 7.72c-.78.78-.78 2.05 0 2.83L4 21.41c.39.39.9.59 1.41.59.51 0 1.02-.2 1.41-.59l7.78-7.78 2.81-2.81c.8-.78.8-2.07 0-2.86zM5.41 20L4 18.59l7.72-7.72 1.47 1.35L5.41 20z\"/>\n",
              "  </svg>\n",
              "      </button>\n",
              "      \n",
              "  <style>\n",
              "    .colab-df-container {\n",
              "      display:flex;\n",
              "      flex-wrap:wrap;\n",
              "      gap: 12px;\n",
              "    }\n",
              "\n",
              "    .colab-df-convert {\n",
              "      background-color: #E8F0FE;\n",
              "      border: none;\n",
              "      border-radius: 50%;\n",
              "      cursor: pointer;\n",
              "      display: none;\n",
              "      fill: #1967D2;\n",
              "      height: 32px;\n",
              "      padding: 0 0 0 0;\n",
              "      width: 32px;\n",
              "    }\n",
              "\n",
              "    .colab-df-convert:hover {\n",
              "      background-color: #E2EBFA;\n",
              "      box-shadow: 0px 1px 2px rgba(60, 64, 67, 0.3), 0px 1px 3px 1px rgba(60, 64, 67, 0.15);\n",
              "      fill: #174EA6;\n",
              "    }\n",
              "\n",
              "    [theme=dark] .colab-df-convert {\n",
              "      background-color: #3B4455;\n",
              "      fill: #D2E3FC;\n",
              "    }\n",
              "\n",
              "    [theme=dark] .colab-df-convert:hover {\n",
              "      background-color: #434B5C;\n",
              "      box-shadow: 0px 1px 3px 1px rgba(0, 0, 0, 0.15);\n",
              "      filter: drop-shadow(0px 1px 2px rgba(0, 0, 0, 0.3));\n",
              "      fill: #FFFFFF;\n",
              "    }\n",
              "  </style>\n",
              "\n",
              "      <script>\n",
              "        const buttonEl =\n",
              "          document.querySelector('#df-d6f04753-13fd-45ae-aaca-e686a293a42a button.colab-df-convert');\n",
              "        buttonEl.style.display =\n",
              "          google.colab.kernel.accessAllowed ? 'block' : 'none';\n",
              "\n",
              "        async function convertToInteractive(key) {\n",
              "          const element = document.querySelector('#df-d6f04753-13fd-45ae-aaca-e686a293a42a');\n",
              "          const dataTable =\n",
              "            await google.colab.kernel.invokeFunction('convertToInteractive',\n",
              "                                                     [key], {});\n",
              "          if (!dataTable) return;\n",
              "\n",
              "          const docLinkHtml = 'Like what you see? Visit the ' +\n",
              "            '<a target=\"_blank\" href=https://colab.research.google.com/notebooks/data_table.ipynb>data table notebook</a>'\n",
              "            + ' to learn more about interactive tables.';\n",
              "          element.innerHTML = '';\n",
              "          dataTable['output_type'] = 'display_data';\n",
              "          await google.colab.output.renderOutput(dataTable, element);\n",
              "          const docLink = document.createElement('div');\n",
              "          docLink.innerHTML = docLinkHtml;\n",
              "          element.appendChild(docLink);\n",
              "        }\n",
              "      </script>\n",
              "    </div>\n",
              "  </div>\n",
              "  "
            ]
          },
          "metadata": {},
          "execution_count": 7
        }
      ]
    },
    {
      "cell_type": "markdown",
      "source": [
        "- Feature : sepal length, sepal width, petal length, petal width\n",
        "- Label : 0(Setosa), 1(Verisicolor), 2(Virginica)"
      ],
      "metadata": {
        "id": "FZLkedeVhGM1"
      }
    },
    {
      "cell_type": "markdown",
      "source": [
        "#### 3) 학습용 데이터와 테스트용 데이터 분리\n",
        "___\n",
        "- 학습 데이터로 학습된 모델이 얼마나 뛰어난 성능을 가지는지 평가하려면 테스트 데이터셋이 반드시 필요하기 때문에, 학습용 데이터와 테스트용 데이터를 분리해야 한다.\n",
        "- 사이킷런의 `train_test_split()` API를 활용하면 학습 데이터와 테스트 데이터를 test_size 파라미터 입력 값의 비율로 쉽게 분할해준다.\n",
        "  - `iris_data` : Feature 데이터셋\n",
        "  - `iris_label` : Label 데이터셋\n",
        "  - `test_size` : 전체 데이터셋 중 테스트 데이터셋의 비율\n",
        "  - `random_state` : 호출할 때마다 같은 학습/테스트 용 데이터셋을 생성하기 위해 주어지는 난수 발생 값. 설정하지 않으면 `train_test_split()`을 호출할 때마다 다른 학습/테스트용 데이터셋이 만들어진다(`random.seed`와 비슷한 기능을 한다)"
      ],
      "metadata": {
        "id": "bBA1erzhh8Gf"
      }
    },
    {
      "cell_type": "code",
      "source": [
        "# Test data : 20%, Train data : 80%\n",
        "X_train, X_test, y_train, y_test = train_test_split(iris_data, iris_label, test_size = 0.2, random_state = 11)"
      ],
      "metadata": {
        "id": "fVtb797Ph_HY"
      },
      "execution_count": 8,
      "outputs": []
    },
    {
      "cell_type": "markdown",
      "source": [
        "\n",
        "- X_train : 학습용 Feature 데이터셋\n",
        "- X_test : 테스트용 Feature 데이터셋\n",
        "- y_train : 학습 Label 데이터셋\n",
        "- y_test : 테스트용 Label 데이터셋"
      ],
      "metadata": {
        "id": "oQ-JSEFBiOoA"
      }
    },
    {
      "cell_type": "markdown",
      "source": [
        "#### 4) 학습용 데이터를 이용해 의사 결정 트리로 학습과 예측 수행\n",
        "___\n",
        "- 모델 학습 : 학습 데이터를 기반으로 ML 알고리즘을 적용해 모델 학습\n",
        "- 예측 수행 : 학습된 ML모델을 이용해 테스트 데이터의 분류를 예측"
      ],
      "metadata": {
        "id": "mcHospVoiP-v"
      }
    },
    {
      "cell_type": "code",
      "source": [
        "# DecisionTreeClassifier 객체 생성\n",
        "# random_state : 동일한 학습/예측 결과를 출력하기 위한 변수\n",
        "dt_clf = DecisionTreeClassifier(random_state=11) "
      ],
      "metadata": {
        "id": "y7OE7CMPiU-d"
      },
      "execution_count": 9,
      "outputs": []
    },
    {
      "cell_type": "code",
      "source": [
        "# 학습 수행 \n",
        "dt_clf.fit(X_train, y_train)"
      ],
      "metadata": {
        "colab": {
          "base_uri": "https://localhost:8080/"
        },
        "id": "90ZyZxCOidgB",
        "outputId": "b2c2dc32-bf9c-4889-e410-caa5af5c40aa"
      },
      "execution_count": 10,
      "outputs": [
        {
          "output_type": "execute_result",
          "data": {
            "text/plain": [
              "DecisionTreeClassifier(random_state=11)"
            ]
          },
          "metadata": {},
          "execution_count": 10
        }
      ]
    },
    {
      "cell_type": "code",
      "source": [
        "# 예측 수행 : 테스트 데이터셋 사용\n",
        "# DecisionTreeClassifier의 predict() 메서드\n",
        "pred = dt_clf.predict(X_test)"
      ],
      "metadata": {
        "id": "tHli6k1pikiX"
      },
      "execution_count": 11,
      "outputs": []
    },
    {
      "cell_type": "markdown",
      "source": [
        "#### 5) 모델 성능 평가\n",
        "___\n",
        "- 예측 값과 테스트 데이터의 실제 결과값을 비교해 ML 모델의 성능을 평가"
      ],
      "metadata": {
        "id": "V62DpL_yil-0"
      }
    },
    {
      "cell_type": "code",
      "source": [
        "# 모델 성능 평가\n",
        "# 정확도 측정 : accuracy_score() 함수\n",
        "from sklearn.metrics import accuracy_score\n",
        "print('예측 정확도: {0:.4f}'.format(accuracy_score(y_test,pred)))"
      ],
      "metadata": {
        "colab": {
          "base_uri": "https://localhost:8080/"
        },
        "id": "0V-BjDBFipHr",
        "outputId": "381074e8-f8c4-42d2-d7c8-6b9e7d322818"
      },
      "execution_count": 12,
      "outputs": [
        {
          "output_type": "stream",
          "name": "stdout",
          "text": [
            "예측 정확도: 0.9333\n"
          ]
        }
      ]
    },
    {
      "cell_type": "markdown",
      "source": [
        "## 03 사이킷런의 기반 프레임워크 익히기\n",
        "___\n",
        "#### | Estimator 이해 및 `fit()`, `predict()` 메서드\n",
        "___\n",
        "- 사이킷런은 지도학습의 주요한 알고리즘인 분류(Classification)와 회귀(Regression)의 다양한 알고리즘을 구현했다.\n",
        "- 모든 사이킷런 클래스는 `fit()`과 `predict()`만을 이용해 간단하게 학습과 예측 결과를 반환한다.\n",
        "  1. `fit()` : ML 모델 학습을 위한 메서드\n",
        "  2. `predict()` : 학습된 모델의 예측을 위한 메서드\n",
        "- **Estimator** : 지도학습의 모든 알고리즘을 구현한 클래스. 내부에서 `fit()`과 `predict()` 메서드를 구현한다.\n",
        "  1. **Classifier** : 분류 알고리즘을 구현한 클래스\n",
        "    - DescisonTreeClassifier\n",
        "    - RandomForestClassifier\n",
        "    - GradientBoostingClassifier\n",
        "    - GaussianNB\n",
        "    - SVC\n",
        "  2. **Regressor** : 회귀 알고리즘을 구현한 클래스\n",
        "    - LinearRegression\n",
        "    - Ridge\n",
        "    - Lasso\n",
        "    - RandomForestRegressor\n",
        "    - GradientBoostingRegressor\n",
        "- evaluation 함수 중 하나인 `cross_val_score()`과 하이퍼 파라미터 튜닝을 수행하는 `GridSearchCV.fit()` 함수는 Estimator의 fit()과 predict()를 호출해서 사용한다.\n",
        "\n",
        "#### | Estimator 이해 및 fit(), predict() 메서드\n",
        "___\n",
        "- 사이킷런은 지도학습의 주요한 알고리즘인 분류(Classification)와 회귀(Regression)의 다양한 알고리즘을 구현했다.\n",
        "- 모든 사이킷런 클래스는 **fit()**과 **predict()**만을 이용해 간단하게 학습과 예측 결과를 반환한다.\n",
        "  1. `fit()` : ML 모델 학습을 위한 메서드\n",
        "  2. `predict()` : 학습된 모델의 예측을 위한 메서드\n",
        "- **Estimator** : 지도학습의 모든 알고리즘을 구현한 클래스. 내부에서 `fit()`과 `predict()` 메서드를 구현한다.\n",
        "  1. **Classifier** : 분류 알고리즘을 구현한 클래스\n",
        "    - DescisonTreeClassifier\n",
        "    - RandomForestClassifier\n",
        "    - GradientBoostingClassifier\n",
        "    - GaussianNB\n",
        "    - SVC\n",
        "  2. **Regressor** : 회귀 알고리즘을 구현한 클래스\n",
        "    - LinearRegression\n",
        "    - Ridge\n",
        "    - Lasso\n",
        "    - RandomForestRegressor\n",
        "    - GradientBoostingRegressor\n",
        "- evaluation 함수 중 하나인 `cross_val_score()`과 하이퍼 파라미터 튜닝을 수행하는 `GridSearchCV.fit()` 함수는 Estimator의 `fit()`과 `predict()`를 호출해서 사용한다."
      ],
      "metadata": {
        "id": "v_YJ1Oq6i9gt"
      }
    },
    {
      "cell_type": "markdown",
      "source": [
        "#### | 사이킷런의 주요 모듈\n",
        "___\n",
        "1. 예제 데이터 \n",
        "  - `sklearn.datasets` : 사이킷런에 내장되어 예제로 제공하는 데이터셋\n",
        "2. Feature 처리\n",
        "  - `sklearn.preprocessing` : 데이터 전처리에 필요한 다양한 가공 기능을 제공(문자열을 숫자형 코드 값으로 인코딩, 정규화, 스케일링 등)\n",
        "  - `sklearn.feature_selection` : 알고리즘에 큰 영향을 미치는 Feature를 우선순위대로 Selection 작업을 수행하는 다양한 기능 제공\n",
        "  - `sklearn.feature_extraction` : 텍스트 데이터나 이미지 데이터의 벡터화된 피처를 추출할 때 사용\n",
        "    * 텍스트 데이터에서 Count Vectorizer나 Tf-ldf Vectorizer 등을 생성\n",
        "    * 텍스트 데이터 Feature 추출 : `sklearn.feature_extraction.text` 모듈\n",
        "    * 이미지 데이터 Feature 추출 : `sklearn.feature_extraction.image` 모듈\n",
        "3. Feature 처리 및 차원 축소\n",
        "  - `sklearn.decomposition` : 차원 축소와 관련된 알고리즘을 지원하는 모듈. PCA, NMF, Truncated SVD 등을 통해 차원 축소 기능을 수행한다.\n",
        "4. 데이터 분리 및 검증 & 파라미터 튜닝\n",
        "  - `sklearn.model_selection` : 교차 검증을 위한 학습용/테스트용 데이터셋 분리, Grid Search로 최적 파라미터 추출 등의 API 제공\n",
        "5. 평가\n",
        "  - `sklearn.metrics` : 분류, 회귀, 클러스터링, Pairwise에 대한 다양한 성능 측정 방법을 제공. Accuracy, Precision, Recall, ROC-AUC, RMSE 등을 제공한다.\n",
        "6. ML 알고리즘\n",
        "   - `sklearn.esemble` : 앙상블 알고리즘 제공(Random Forest,AdaBoost, Gradient Boosting 등)\n",
        "   - `sklearn.linear_model` : 회귀 알고리즘 제공(선형 회귀, Ridge, Lasso, 로지스틱 회귀 등). SGD 관련 알고리즘도 제공\n",
        "   - `sklearn.naive_bayes` : 나이브 베이즈 알고리즘 제공(가우시안 NB, 다항분포 NB 등)\n",
        "   - `sklearn.neighbors` : 최근접 이웃 알고리즘 제공(K-NN 등)\n",
        "   - `sklearn.svm` : 서포트 벡터 머신 알고리즘 제공\n",
        "   - `sklearn.tree` : 의사 결정 트리 알고리즘 제공\n",
        "   - `sklearn.cluster` : 비지도 클러스터링 알고리즘 제공(K-means, 계층형, DBSCAN 등)"
      ],
      "metadata": {
        "id": "eiwxkmnDlJ4_"
      }
    },
    {
      "cell_type": "markdown",
      "source": [
        "#### | 내장된 예제 데이터셋\n",
        "___\n",
        "##### [분류나 회귀 연습용 예제 데이터셋]\n",
        "1. `datasets.load_boston()` : 회귀 용도. 미국 보스턴의 집 Feature들과 가격에 대한 데이터셋\n",
        "2. `datasets.load_breast_cancer()` : 분류 용도. 위스콘신 유방암 피처들과 악성/음성 Label 데이터셋\n",
        "3. `datasets.load_diabets()` : 회귀 용도. 당뇨 데이터셋\n",
        "4. `datasets.load_digits()` : 분류 용도. 0에서 9까지의 숫자의 이미지 픽셀 데이터셋\n",
        "5. `datasets.load_iris()` : 분류 용도. 붓꽃에 대한 피처를 가진 데이터셋.\n",
        "6. fetch 계열 : 데이터의 크기가 커서 패키지에 처음부터 저장되어 있지 않고, 인터넷에서 다운 받아 홈 디렉토리 아래의 scikit_learn_data라는 서브 디렉토리에 저장 후, 불러들이는 데이터. 최초 사용 시 인터넷에 연결되어 있지 않으면 사용할 수 없다.\n",
        "  - `fetch_covtype()` : 회귀 분석용 토지 조사 자료\n",
        "  - `fetch_20newsgroups` : 뉴스 그룹 텍스트 자료\n",
        "  - `fetch_olivertti_faces()` : 얼굴 이미지 자료    \n",
        "  - `fetch_lfw_people()` : 얼굴 이미지 자료\n",
        "  - `fetch_lfw_pairs` : 얼굴 이미지 자료\n",
        "  - `fetch_rcv1` : 로이터 뉴스 말뭉치\n",
        "  - `fetch_mldata()` : ML 웹사이트에서 다운로드\n",
        "\n",
        "##### [분류나 회귀를 위한 연습용 예제 데이터셋의 구성]\n",
        "- 일반적으로 Dictionary 형태\n",
        "- Key는 보통 data, target, target_naem, feature_names, DESCR로 구성되어 있다.\n",
        "  1. `data` : Feature의 데이터셋. ndarray 타입\n",
        "  2. `target` : 분류일 때는 Label 값, 회귀일 때는 숫자 결과값 데이터셋. ndarray 타입\n",
        "  3. `target_names` : 개별 Label의 이름. ndarray 혹은 list 타입\n",
        "  4. `feature_names` : Feature의 이름. ndarray 혹은 list 타입\n",
        "  5. `DESCR` : 데이터셋에 대한 설명과 각 Feature에 대한 설명. stirng 타입"
      ],
      "metadata": {
        "id": "-BI3Ppa9lKnU"
      }
    },
    {
      "cell_type": "code",
      "source": [
        "# 붓꽃 데이터셋 생성\n",
        "from sklearn.datasets import load_iris\n",
        "\n",
        "iris_data = load_iris()\n",
        "print(type(iris_data)) # Bunch 클래스 : 파이썬의 딕셔너리 자료형과 유사"
      ],
      "metadata": {
        "colab": {
          "base_uri": "https://localhost:8080/"
        },
        "id": "jtUbM_exlVFW",
        "outputId": "b6764fc1-03f2-4cb2-beb4-dcac6743934e"
      },
      "execution_count": 13,
      "outputs": [
        {
          "output_type": "stream",
          "name": "stdout",
          "text": [
            "<class 'sklearn.utils.Bunch'>\n"
          ]
        }
      ]
    },
    {
      "cell_type": "code",
      "source": [
        "# iris 데이터셋의 key 값 확인\n",
        "keys = iris_data.keys()\n",
        "print('붓꽃 데이터 세트의 키들 : ', keys)"
      ],
      "metadata": {
        "colab": {
          "base_uri": "https://localhost:8080/"
        },
        "id": "il7_eo_BpsA-",
        "outputId": "2cf53b4a-5346-499b-aa20-94ab9396fd60"
      },
      "execution_count": 14,
      "outputs": [
        {
          "output_type": "stream",
          "name": "stdout",
          "text": [
            "붓꽃 데이터 세트의 키들 :  dict_keys(['data', 'target', 'frame', 'target_names', 'DESCR', 'feature_names', 'filename', 'data_module'])\n"
          ]
        }
      ]
    },
    {
      "cell_type": "code",
      "source": [
        "# Key가 가리키는 값 출력 : feature_names\n",
        "print('feature_names 의 type : ',type(iris_data.feature_names))\n",
        "print('feature_names 의 shape : ',len(iris_data.feature_names))\n",
        "print(iris_data.feature_names)"
      ],
      "metadata": {
        "colab": {
          "base_uri": "https://localhost:8080/"
        },
        "id": "9TVOzt0jpv7L",
        "outputId": "25ee9c9d-6118-44ec-dec1-6b3114c7bd42"
      },
      "execution_count": 15,
      "outputs": [
        {
          "output_type": "stream",
          "name": "stdout",
          "text": [
            "feature_names 의 type :  <class 'list'>\n",
            "feature_names 의 shape :  4\n",
            "['sepal length (cm)', 'sepal width (cm)', 'petal length (cm)', 'petal width (cm)']\n"
          ]
        }
      ]
    },
    {
      "cell_type": "code",
      "source": [
        "# Key가 가리키는 값 출력 : target_names\n",
        "print('target_names 의 type : ',type(iris_data.target_names))\n",
        "print('feature_names 의 shape : ',len(iris_data.target_names))\n",
        "print(iris_data.target_names)"
      ],
      "metadata": {
        "colab": {
          "base_uri": "https://localhost:8080/"
        },
        "id": "IK7vjdIrpwBs",
        "outputId": "ee059ccc-d0aa-4eb6-fb93-660dc2bf3b06"
      },
      "execution_count": 16,
      "outputs": [
        {
          "output_type": "stream",
          "name": "stdout",
          "text": [
            "target_names 의 type :  <class 'numpy.ndarray'>\n",
            "feature_names 의 shape :  3\n",
            "['setosa' 'versicolor' 'virginica']\n"
          ]
        }
      ]
    },
    {
      "cell_type": "code",
      "source": [
        "# Key가 가리키는 값 출력 : target\n",
        "print('target 의 type : ',type(iris_data.target))\n",
        "print('target 의 shape : ',iris_data.target.shape)\n",
        "print(iris_data.target)"
      ],
      "metadata": {
        "colab": {
          "base_uri": "https://localhost:8080/"
        },
        "id": "CPXH87xNp9Ev",
        "outputId": "b3d12f4c-8970-4405-f651-4b3fd3744e7c"
      },
      "execution_count": 17,
      "outputs": [
        {
          "output_type": "stream",
          "name": "stdout",
          "text": [
            "target 의 type :  <class 'numpy.ndarray'>\n",
            "target 의 shape :  (150,)\n",
            "[0 0 0 0 0 0 0 0 0 0 0 0 0 0 0 0 0 0 0 0 0 0 0 0 0 0 0 0 0 0 0 0 0 0 0 0 0\n",
            " 0 0 0 0 0 0 0 0 0 0 0 0 0 1 1 1 1 1 1 1 1 1 1 1 1 1 1 1 1 1 1 1 1 1 1 1 1\n",
            " 1 1 1 1 1 1 1 1 1 1 1 1 1 1 1 1 1 1 1 1 1 1 1 1 1 1 2 2 2 2 2 2 2 2 2 2 2\n",
            " 2 2 2 2 2 2 2 2 2 2 2 2 2 2 2 2 2 2 2 2 2 2 2 2 2 2 2 2 2 2 2 2 2 2 2 2 2\n",
            " 2 2]\n"
          ]
        }
      ]
    },
    {
      "cell_type": "code",
      "source": [
        "# Key가 가리키는 값 출력 : data \n",
        "print('data 의 type : ',type(iris_data.data))\n",
        "print('data 의 shape : ',iris_data.data.shape)\n",
        "print(iris_data['data'])"
      ],
      "metadata": {
        "colab": {
          "base_uri": "https://localhost:8080/"
        },
        "id": "Xy7eTl8ep4ms",
        "outputId": "000c829d-fcc3-4629-d92e-e2c595f64bbe"
      },
      "execution_count": 18,
      "outputs": [
        {
          "output_type": "stream",
          "name": "stdout",
          "text": [
            "data 의 type :  <class 'numpy.ndarray'>\n",
            "data 의 shape :  (150, 4)\n",
            "[[5.1 3.5 1.4 0.2]\n",
            " [4.9 3.  1.4 0.2]\n",
            " [4.7 3.2 1.3 0.2]\n",
            " [4.6 3.1 1.5 0.2]\n",
            " [5.  3.6 1.4 0.2]\n",
            " [5.4 3.9 1.7 0.4]\n",
            " [4.6 3.4 1.4 0.3]\n",
            " [5.  3.4 1.5 0.2]\n",
            " [4.4 2.9 1.4 0.2]\n",
            " [4.9 3.1 1.5 0.1]\n",
            " [5.4 3.7 1.5 0.2]\n",
            " [4.8 3.4 1.6 0.2]\n",
            " [4.8 3.  1.4 0.1]\n",
            " [4.3 3.  1.1 0.1]\n",
            " [5.8 4.  1.2 0.2]\n",
            " [5.7 4.4 1.5 0.4]\n",
            " [5.4 3.9 1.3 0.4]\n",
            " [5.1 3.5 1.4 0.3]\n",
            " [5.7 3.8 1.7 0.3]\n",
            " [5.1 3.8 1.5 0.3]\n",
            " [5.4 3.4 1.7 0.2]\n",
            " [5.1 3.7 1.5 0.4]\n",
            " [4.6 3.6 1.  0.2]\n",
            " [5.1 3.3 1.7 0.5]\n",
            " [4.8 3.4 1.9 0.2]\n",
            " [5.  3.  1.6 0.2]\n",
            " [5.  3.4 1.6 0.4]\n",
            " [5.2 3.5 1.5 0.2]\n",
            " [5.2 3.4 1.4 0.2]\n",
            " [4.7 3.2 1.6 0.2]\n",
            " [4.8 3.1 1.6 0.2]\n",
            " [5.4 3.4 1.5 0.4]\n",
            " [5.2 4.1 1.5 0.1]\n",
            " [5.5 4.2 1.4 0.2]\n",
            " [4.9 3.1 1.5 0.2]\n",
            " [5.  3.2 1.2 0.2]\n",
            " [5.5 3.5 1.3 0.2]\n",
            " [4.9 3.6 1.4 0.1]\n",
            " [4.4 3.  1.3 0.2]\n",
            " [5.1 3.4 1.5 0.2]\n",
            " [5.  3.5 1.3 0.3]\n",
            " [4.5 2.3 1.3 0.3]\n",
            " [4.4 3.2 1.3 0.2]\n",
            " [5.  3.5 1.6 0.6]\n",
            " [5.1 3.8 1.9 0.4]\n",
            " [4.8 3.  1.4 0.3]\n",
            " [5.1 3.8 1.6 0.2]\n",
            " [4.6 3.2 1.4 0.2]\n",
            " [5.3 3.7 1.5 0.2]\n",
            " [5.  3.3 1.4 0.2]\n",
            " [7.  3.2 4.7 1.4]\n",
            " [6.4 3.2 4.5 1.5]\n",
            " [6.9 3.1 4.9 1.5]\n",
            " [5.5 2.3 4.  1.3]\n",
            " [6.5 2.8 4.6 1.5]\n",
            " [5.7 2.8 4.5 1.3]\n",
            " [6.3 3.3 4.7 1.6]\n",
            " [4.9 2.4 3.3 1. ]\n",
            " [6.6 2.9 4.6 1.3]\n",
            " [5.2 2.7 3.9 1.4]\n",
            " [5.  2.  3.5 1. ]\n",
            " [5.9 3.  4.2 1.5]\n",
            " [6.  2.2 4.  1. ]\n",
            " [6.1 2.9 4.7 1.4]\n",
            " [5.6 2.9 3.6 1.3]\n",
            " [6.7 3.1 4.4 1.4]\n",
            " [5.6 3.  4.5 1.5]\n",
            " [5.8 2.7 4.1 1. ]\n",
            " [6.2 2.2 4.5 1.5]\n",
            " [5.6 2.5 3.9 1.1]\n",
            " [5.9 3.2 4.8 1.8]\n",
            " [6.1 2.8 4.  1.3]\n",
            " [6.3 2.5 4.9 1.5]\n",
            " [6.1 2.8 4.7 1.2]\n",
            " [6.4 2.9 4.3 1.3]\n",
            " [6.6 3.  4.4 1.4]\n",
            " [6.8 2.8 4.8 1.4]\n",
            " [6.7 3.  5.  1.7]\n",
            " [6.  2.9 4.5 1.5]\n",
            " [5.7 2.6 3.5 1. ]\n",
            " [5.5 2.4 3.8 1.1]\n",
            " [5.5 2.4 3.7 1. ]\n",
            " [5.8 2.7 3.9 1.2]\n",
            " [6.  2.7 5.1 1.6]\n",
            " [5.4 3.  4.5 1.5]\n",
            " [6.  3.4 4.5 1.6]\n",
            " [6.7 3.1 4.7 1.5]\n",
            " [6.3 2.3 4.4 1.3]\n",
            " [5.6 3.  4.1 1.3]\n",
            " [5.5 2.5 4.  1.3]\n",
            " [5.5 2.6 4.4 1.2]\n",
            " [6.1 3.  4.6 1.4]\n",
            " [5.8 2.6 4.  1.2]\n",
            " [5.  2.3 3.3 1. ]\n",
            " [5.6 2.7 4.2 1.3]\n",
            " [5.7 3.  4.2 1.2]\n",
            " [5.7 2.9 4.2 1.3]\n",
            " [6.2 2.9 4.3 1.3]\n",
            " [5.1 2.5 3.  1.1]\n",
            " [5.7 2.8 4.1 1.3]\n",
            " [6.3 3.3 6.  2.5]\n",
            " [5.8 2.7 5.1 1.9]\n",
            " [7.1 3.  5.9 2.1]\n",
            " [6.3 2.9 5.6 1.8]\n",
            " [6.5 3.  5.8 2.2]\n",
            " [7.6 3.  6.6 2.1]\n",
            " [4.9 2.5 4.5 1.7]\n",
            " [7.3 2.9 6.3 1.8]\n",
            " [6.7 2.5 5.8 1.8]\n",
            " [7.2 3.6 6.1 2.5]\n",
            " [6.5 3.2 5.1 2. ]\n",
            " [6.4 2.7 5.3 1.9]\n",
            " [6.8 3.  5.5 2.1]\n",
            " [5.7 2.5 5.  2. ]\n",
            " [5.8 2.8 5.1 2.4]\n",
            " [6.4 3.2 5.3 2.3]\n",
            " [6.5 3.  5.5 1.8]\n",
            " [7.7 3.8 6.7 2.2]\n",
            " [7.7 2.6 6.9 2.3]\n",
            " [6.  2.2 5.  1.5]\n",
            " [6.9 3.2 5.7 2.3]\n",
            " [5.6 2.8 4.9 2. ]\n",
            " [7.7 2.8 6.7 2. ]\n",
            " [6.3 2.7 4.9 1.8]\n",
            " [6.7 3.3 5.7 2.1]\n",
            " [7.2 3.2 6.  1.8]\n",
            " [6.2 2.8 4.8 1.8]\n",
            " [6.1 3.  4.9 1.8]\n",
            " [6.4 2.8 5.6 2.1]\n",
            " [7.2 3.  5.8 1.6]\n",
            " [7.4 2.8 6.1 1.9]\n",
            " [7.9 3.8 6.4 2. ]\n",
            " [6.4 2.8 5.6 2.2]\n",
            " [6.3 2.8 5.1 1.5]\n",
            " [6.1 2.6 5.6 1.4]\n",
            " [7.7 3.  6.1 2.3]\n",
            " [6.3 3.4 5.6 2.4]\n",
            " [6.4 3.1 5.5 1.8]\n",
            " [6.  3.  4.8 1.8]\n",
            " [6.9 3.1 5.4 2.1]\n",
            " [6.7 3.1 5.6 2.4]\n",
            " [6.9 3.1 5.1 2.3]\n",
            " [5.8 2.7 5.1 1.9]\n",
            " [6.8 3.2 5.9 2.3]\n",
            " [6.7 3.3 5.7 2.5]\n",
            " [6.7 3.  5.2 2.3]\n",
            " [6.3 2.5 5.  1.9]\n",
            " [6.5 3.  5.2 2. ]\n",
            " [6.2 3.4 5.4 2.3]\n",
            " [5.9 3.  5.1 1.8]]\n"
          ]
        }
      ]
    },
    {
      "cell_type": "markdown",
      "source": [
        "## 04 Model Selection 모듈 소개\n",
        "___\n",
        "- 사이킷런의 model_selection 모듈은 학습 데이터와 테스트 데이터 세트를 분리하거나 교차 검증 분할, 평가, Estimator의 하이퍼 파라미터를 튜닝하기 위한 다양한 함수와 클래스를 제공한다.\n",
        "\n",
        "#### | 학습/테스트 데이터셋 분리 - train_test_split()\n",
        "___\n",
        "- 학습과 예측을 동일한 데이터셋으로 수행했을 때의 문제점 \n",
        "  * 정확도가 100%\n",
        "  * 이미 학습한 데이터셋, 즉 이미 답을 알고 있는 데이터셋을 기반으로 예측한 것은 예측을 수행하는 의미가 없음"
      ],
      "metadata": {
        "id": "CggQojd_qJtw"
      }
    },
    {
      "cell_type": "code",
      "source": [
        "# import method from module\n",
        "from sklearn.datasets import load_iris\n",
        "from sklearn.tree import DecisionTreeClassifier\n",
        "from sklearn.metrics import accuracy_score"
      ],
      "metadata": {
        "id": "qcNx1v-FqOM1"
      },
      "execution_count": 19,
      "outputs": []
    },
    {
      "cell_type": "code",
      "source": [
        "# 모델 학습\n",
        "iris = load_iris()\n",
        "dt_clf = DecisionTreeClassifier()\n",
        "train_data = iris.data\n",
        "train_label = iris.target\n",
        "dt_clf.fit(train_data, train_label)"
      ],
      "metadata": {
        "colab": {
          "base_uri": "https://localhost:8080/"
        },
        "id": "zKBkOZk3qPOD",
        "outputId": "0b3860b3-d328-485d-9d27-bc49e1cba5b3"
      },
      "execution_count": 20,
      "outputs": [
        {
          "output_type": "execute_result",
          "data": {
            "text/plain": [
              "DecisionTreeClassifier()"
            ]
          },
          "metadata": {},
          "execution_count": 20
        }
      ]
    },
    {
      "cell_type": "code",
      "source": [
        "# 예측 수행 : 학습 데이터셋 사용\n",
        "pred = dt_clf.predict(train_data)\n",
        "print('예측 정확도:',accuracy_score(train_label,pred))"
      ],
      "metadata": {
        "colab": {
          "base_uri": "https://localhost:8080/"
        },
        "id": "JfLXPM6uqUmP",
        "outputId": "cea69cca-f863-455b-8ad3-b155a539e1a3"
      },
      "execution_count": 21,
      "outputs": [
        {
          "output_type": "stream",
          "name": "stdout",
          "text": [
            "예측 정확도: 1.0\n"
          ]
        }
      ]
    },
    {
      "cell_type": "markdown",
      "source": [
        "- `train_test_split()`를 이용해 붓꽃 데이터셋 분리 \n",
        "  * `test_size `: 전체 데이터에서 테스트 데이터셋의 크기를 얼마로 샘플링할 것인지 결정한다. default는 0.25\n",
        "  * `train_size` : 전체 데이터에서 학습용 데이터셋의 크기를 얼마로 샘플링할 것인지 결정한다. test_size를 주로 사용하고, 해당 파라미터는 잘 사용하지 않는다.\n",
        "  * `shuffle` : 데이터를 분리하기 전에 데이터를 미리 섞을지 결정한다. 데이터를 분산시켜 좀 더 효율적인 학습 및 테스트 데이터셋을 만들 수 있다. default는 True.\n",
        "  * `random_state` : 동일한 학습/테스트 데이터셋을 생성하기 위해 주어지는 난수 값. 설정하지 않으면 수행할 때마다 다른 학습/테스트 용 데이터셋을 생성\n",
        "- `train_test_split()`의 결과값은 Tuple 형태로, 학습용 데이터의 Feautre 데이터셋, 테스트용 데이터의 Feautre 데이터셋, 학습용 데이터의 Label 데이터셋, 테스트용 데이터의 Label 데이터셋이 순서대로 반환된다.\n",
        "- 학습용 데이터의 양을 일정 수준 이상으로 보장하는 것도 중요하지만, 다양한 테스트용 데이터를 통해 예측 성능을 평가하는 것도 중요하다."
      ],
      "metadata": {
        "id": "9rUyusyrqNEe"
      }
    },
    {
      "cell_type": "code",
      "source": [
        "# import method from module\n",
        "from sklearn.tree import DecisionTreeClassifier\n",
        "from sklearn.metrics import accuracy_score\n",
        "from sklearn.datasets import load_iris\n",
        "from sklearn.model_selection import train_test_split"
      ],
      "metadata": {
        "id": "L3Us3xiEqgyA"
      },
      "execution_count": 22,
      "outputs": []
    },
    {
      "cell_type": "code",
      "source": [
        "# 데이터셋 및 모델 설정\n",
        "dt_clf = DecisionTreeClassifier( )\n",
        "iris_data = load_iris()\n",
        "\n",
        "# 데이터셋 분리 : 학습용 데이터 70%, 테스트용 데이터 30%\n",
        "X_train, X_test, y_train, y_test = train_test_split(iris_data.data, iris_data.target, \n",
        "                                                    test_size=0.3, random_state=121)"
      ],
      "metadata": {
        "id": "IsJMAoIaqiB_"
      },
      "execution_count": 23,
      "outputs": []
    },
    {
      "cell_type": "code",
      "source": [
        "# 모델 학습\n",
        "dt_clf.fit(X_train, y_train)\n",
        "pred = dt_clf.predict(X_test)\n",
        "\n",
        "# 예측 정확도 평가\n",
        "print('예측 정확도: {0:.4f}'.format(accuracy_score(y_test,pred)))"
      ],
      "metadata": {
        "colab": {
          "base_uri": "https://localhost:8080/"
        },
        "id": "HoCPnbqDqkCF",
        "outputId": "b4a125f9-52ee-4a59-f64c-72a15a3fa7d7"
      },
      "execution_count": 24,
      "outputs": [
        {
          "output_type": "stream",
          "name": "stdout",
          "text": [
            "예측 정확도: 0.9556\n"
          ]
        }
      ]
    },
    {
      "cell_type": "markdown",
      "source": [
        "#### | 교차 검증\n",
        "___\n",
        "- 과적합(Overfitting)\n",
        "  + 모델이 학습 데이터에만 과도하게 최적화 되어, 실제 예측을 다른 데이터로 수행할 경우, 예측 성능이 과도하게 떨어지는 현상\n",
        "  + 고정된 학습 데이터와 테스트 데이터로 평가하다 보면 테스트 데이터에만 최적의 성능을 발휘 할 수 있도록 편향되게 모델을 유도하고, 해당 테스트 데이터에만 과접합되는 학습 모델이 만들어진다.\n",
        "  + 이러한 과적합 문제를 개선하기 위해 **교차 검증**을 이용한다.\n",
        "- 교차 검증 : 다양한 학습과 검증 데이터셋에 대해 알고리즘 학습과 평가를 수행하는 것\n",
        "  + 특정 ML 알고리즘에서 최적으로 동작할 수 있도록 데이터를 선별하여 학습할 때 발생하는 성능 저하 문제를 해결하는 것이 목적이다.\n",
        "  + 별도의 여러 세트로 구성된 학습 데이터셋과 검증 데이터셋을 이용하여 학습과 평가를 수행한다.\n",
        "- 대부분의 ML 모델의 성능 평가는 **교차 검증**을 기반으로 1차 평가를 한 뒤, 최종적으로 테스트 데이터셋에 적용해 평가한다.\n",
        "- ML에 사용되는 데이터셋을 세분화하여 학습, 검증, 테스트 데이터셋으로 나눈다."
      ],
      "metadata": {
        "id": "5y6TTpCdqlxp"
      }
    },
    {
      "cell_type": "markdown",
      "source": [
        "##### [K 폴드 교차 검증]\n",
        "___\n",
        "- 보편적으로 사용되는 교차 검증 기법\n",
        "- K개의 데이터 폴드 세트를 만들어, 각 폴드 세트에 학습과 검증 평가를 K번만큼 반복적으로 수행하는 방법\n",
        "  1. 데이터셋을 K등분한다.\n",
        "  2. 첫 번째 반복에서는 1~(K-1)번째 폴드를 학습 데이터셋으로 마지막 K번째 폴드를 검증 데이터셋으로 설정한 후, 학습을 수행하고 검증 데이터셋을 이용해 평가를 수행한다.\n",
        "  3. 두 번째 반복에서는 1~(K-2), K번째 폴드를 학습 데이터로, (K-1)번째 폴드를 검증 데이터셋으로 모델 학습, 평가를 수행한다.\n",
        "  4. 이후 반복에서도 학습 데이터셋과 검증 데이터셋을 점진적으로 변경하면서 K번째 반복을 수행한다."
      ],
      "metadata": {
        "id": "QYve1RX4qogh"
      }
    },
    {
      "cell_type": "code",
      "source": [
        "# import method from module\n",
        "from sklearn.tree import DecisionTreeClassifier\n",
        "from sklearn.metrics import accuracy_score\n",
        "from sklearn.model_selection import KFold"
      ],
      "metadata": {
        "id": "M9DkXW5qrDaH"
      },
      "execution_count": 25,
      "outputs": []
    },
    {
      "cell_type": "code",
      "source": [
        "# 붓꽃 데이터와 DecisionTreeClassifier 생성\n",
        "iris = load_iris()\n",
        "features = iris.data\n",
        "label = iris.target\n",
        "dt_clf = DecisionTreeClassifier(random_state=156)"
      ],
      "metadata": {
        "id": "p5aUtixLrEsN"
      },
      "execution_count": 26,
      "outputs": []
    },
    {
      "cell_type": "code",
      "source": [
        "# 5개의 폴드 세트로 분리하는 KFold 객체 생성\n",
        "kfold = KFold(n_splits=5)\n",
        "\n",
        "# 폴드 세트별 정확도를 담을 리스트 객체 생성\n",
        "cv_accuracy = []"
      ],
      "metadata": {
        "id": "c7I95iw3rF8m"
      },
      "execution_count": 27,
      "outputs": []
    },
    {
      "cell_type": "code",
      "source": [
        "# 붓꽃 데이터의 크기 확인\n",
        "print('붓꽃 데이터 세트 크기:',features.shape[0])"
      ],
      "metadata": {
        "colab": {
          "base_uri": "https://localhost:8080/"
        },
        "id": "8yfU9CSFrG1T",
        "outputId": "112360d7-28f8-4e74-a2d6-48ebe8cb59f4"
      },
      "execution_count": 28,
      "outputs": [
        {
          "output_type": "stream",
          "name": "stdout",
          "text": [
            "붓꽃 데이터 세트 크기: 150\n"
          ]
        }
      ]
    },
    {
      "cell_type": "markdown",
      "source": [
        "- 전체 데이터가 모두 150개\n",
        "- 따라서 학습용 데이터셋은 이 중 4/5인 120개, 검증 테스트 데이터셋은 1/5인 30개로 분할"
      ],
      "metadata": {
        "id": "RIW12uvxrIQ8"
      }
    },
    {
      "cell_type": "code",
      "source": [
        "n_iter = 0\n",
        "\n",
        "# KFold 객체의 split( ) 호출하면 \n",
        "# 폴드 별 학습용, 검증용 테스트의 Row 인덱스를 array로 반환  \n",
        "for train_index, test_index  in kfold.split(features):\n",
        "\n",
        "    # kfold.split( )으로 반환된 인덱스를 이용하여 학습용, 검증용 테스트 데이터 추출\n",
        "    X_train, X_test = features[train_index], features[test_index]\n",
        "    y_train, y_test = label[train_index], label[test_index]\n",
        "\n",
        "    #학습 및 예측 \n",
        "    dt_clf.fit(X_train , y_train)    \n",
        "    pred = dt_clf.predict(X_test)\n",
        "    n_iter += 1\n",
        "\n",
        "    # 반복 시 마다 정확도 측정 \n",
        "    accuracy = np.round(accuracy_score(y_test,pred), 4)\n",
        "    train_size = X_train.shape[0]\n",
        "    test_size = X_test.shape[0]\n",
        "\n",
        "    print('#{0} 교차 검증 정확도 :{1}, 학습 데이터 크기: {2}, 검증 데이터 크기: {3}'\n",
        "          .format(n_iter, accuracy, train_size, test_size))\n",
        "    print('{0} 검증 세트 인덱스:{1} \\n'.format(n_iter,test_index))\n",
        "    cv_accuracy.append(accuracy)"
      ],
      "metadata": {
        "colab": {
          "base_uri": "https://localhost:8080/"
        },
        "id": "urSBLSBshLrR",
        "outputId": "3783ae7e-c047-4831-9e20-11e62ac6b54b"
      },
      "execution_count": 29,
      "outputs": [
        {
          "output_type": "stream",
          "name": "stdout",
          "text": [
            "#1 교차 검증 정확도 :1.0, 학습 데이터 크기: 120, 검증 데이터 크기: 30\n",
            "1 검증 세트 인덱스:[ 0  1  2  3  4  5  6  7  8  9 10 11 12 13 14 15 16 17 18 19 20 21 22 23\n",
            " 24 25 26 27 28 29] \n",
            "\n",
            "#2 교차 검증 정확도 :0.9667, 학습 데이터 크기: 120, 검증 데이터 크기: 30\n",
            "2 검증 세트 인덱스:[30 31 32 33 34 35 36 37 38 39 40 41 42 43 44 45 46 47 48 49 50 51 52 53\n",
            " 54 55 56 57 58 59] \n",
            "\n",
            "#3 교차 검증 정확도 :0.8667, 학습 데이터 크기: 120, 검증 데이터 크기: 30\n",
            "3 검증 세트 인덱스:[60 61 62 63 64 65 66 67 68 69 70 71 72 73 74 75 76 77 78 79 80 81 82 83\n",
            " 84 85 86 87 88 89] \n",
            "\n",
            "#4 교차 검증 정확도 :0.9333, 학습 데이터 크기: 120, 검증 데이터 크기: 30\n",
            "4 검증 세트 인덱스:[ 90  91  92  93  94  95  96  97  98  99 100 101 102 103 104 105 106 107\n",
            " 108 109 110 111 112 113 114 115 116 117 118 119] \n",
            "\n",
            "#5 교차 검증 정확도 :0.7333, 학습 데이터 크기: 120, 검증 데이터 크기: 30\n",
            "5 검증 세트 인덱스:[120 121 122 123 124 125 126 127 128 129 130 131 132 133 134 135 136 137\n",
            " 138 139 140 141 142 143 144 145 146 147 148 149] \n",
            "\n"
          ]
        }
      ]
    },
    {
      "cell_type": "markdown",
      "source": [
        "- 첫 번째 고차 검증에서는 0~29를 검증 데이터셋 인덱스를 생성해 검증 데이터셋 추출\n",
        "- 두 번째 고차 검증에서는 30~59를 검증 데이터셋 인덱스를 생성해 검증 데이터셋 추출\n",
        "- 세 번째 고차 검증에서는 60~89를 검증 데이터셋 인덱스를 생성해 검증 데이터셋 추출\n",
        "- 네 번째 고차 검증에서는 90~119를 검증 데이터셋 인덱스를 생성해 검증 데이터셋 추출\n",
        "- 다섯 번째 고차 검증에서는 120~149를 검증 데이터셋 인덱스를 생성해 검증 데이터셋 추출\n"
      ],
      "metadata": {
        "id": "FtlKasHBhLFM"
      }
    },
    {
      "cell_type": "code",
      "source": [
        "# 개별 iteration별 정확도를 합하여 평균 정확도 계산 \n",
        "print('## 평균 검증 정확도 : ', np.mean(cv_accuracy))"
      ],
      "metadata": {
        "colab": {
          "base_uri": "https://localhost:8080/"
        },
        "id": "1g5Ua4fuhoea",
        "outputId": "5505384a-f312-4783-c140-71de34ac346a"
      },
      "execution_count": 30,
      "outputs": [
        {
          "output_type": "stream",
          "name": "stdout",
          "text": [
            "## 평균 검증 정확도 :  0.9\n"
          ]
        }
      ]
    },
    {
      "cell_type": "markdown",
      "source": [
        "##### [Stratified K 폴드]\n",
        "___\n",
        "- 불균형한(imbalanced) 분포도를 가진 Label 데이터셋을 위한 K 폴드 방식\n",
        "  - 불균형한(imbalanced) 분포도 :  특정 Label 값이 특이하게 많거나 매우 적어서 값의 분포가 한 쪽으로 치우치는 것\n",
        "- Label값이 불균형한 분포도를 가지면, K 폴드로 Random하게 학습/검증 데이터셋의 인덱스를 고르더라도 Label 값의 비율을 제대로 반영하지 못하는 경우가 빈번하게 발생한다.\n",
        "- 따라서 원본 데이터와 유사한 Label 값의 분포를 학습/검증 데이터셋에서도 유지하는 게 중요하다.\n",
        "- 단, 회귀 알고리즘에서 Label 값은 이산형이 아닌 연속형이기 때문에 Label별로 분포를 정하는 의미가 없어, Regression에서는 Stratified K 폴드가 지원되지 않는다."
      ],
      "metadata": {
        "id": "VQpXgVuIhqjn"
      }
    },
    {
      "cell_type": "code",
      "source": [
        "# 불균형한(imbalanced) 분포도를 가진 Label 데이터셋에 K 폴드를 적용하면 생기는 문제점 확인\n",
        "\n",
        "# 붓꽃 데이터 데이터셋 생성\n",
        "iris = load_iris()\n",
        "\n",
        "# DataFrame으로 변환\n",
        "iris_df = pd.DataFrame(data=iris.data, columns=iris.feature_names)\n",
        "iris_df['label']=iris.target\n",
        "\n",
        "# Label 값의 분포 확인\n",
        "iris_df['label'].value_counts()"
      ],
      "metadata": {
        "colab": {
          "base_uri": "https://localhost:8080/"
        },
        "id": "xsrwSXTUhsSr",
        "outputId": "6bbca84d-5f63-4ff7-a158-64cd5b576d71"
      },
      "execution_count": 31,
      "outputs": [
        {
          "output_type": "execute_result",
          "data": {
            "text/plain": [
              "0    50\n",
              "1    50\n",
              "2    50\n",
              "Name: label, dtype: int64"
            ]
          },
          "metadata": {},
          "execution_count": 31
        }
      ]
    },
    {
      "cell_type": "code",
      "source": [
        "# 문제가 발생하는 현상 도출하기 위해 3개의 폴드 세트를 KFold로 생성\n",
        "kfold = KFold(n_splits=3)"
      ],
      "metadata": {
        "id": "kIAVclxFiDup"
      },
      "execution_count": 32,
      "outputs": []
    },
    {
      "cell_type": "code",
      "source": [
        "n_iter =0\n",
        "\n",
        "for train_index, test_index  in kfold.split(iris_df):\n",
        "    n_iter += 1\n",
        "    label_train= iris_df['label'].iloc[train_index]\n",
        "    label_test= iris_df['label'].iloc[test_index]\n",
        "    # 반복할 때마다 달라지는 학습/테스트 용 데이터 Row 인덱스 번호 반환\n",
        "    print('## 교차 검증 : {0}'.format(n_iter))\n",
        "    print('학습 레이블 데이터 분포 :\\n', label_train.value_counts())\n",
        "    print('검증 레이블 데이터 분포 :\\n', label_test.value_counts())\n",
        "    print()"
      ],
      "metadata": {
        "colab": {
          "base_uri": "https://localhost:8080/"
        },
        "id": "mceXH3CZiEev",
        "outputId": "c2992c53-a5b3-4b66-8e1a-7dda3ff831d9"
      },
      "execution_count": 33,
      "outputs": [
        {
          "output_type": "stream",
          "name": "stdout",
          "text": [
            "## 교차 검증 : 1\n",
            "학습 레이블 데이터 분포 :\n",
            " 1    50\n",
            "2    50\n",
            "Name: label, dtype: int64\n",
            "검증 레이블 데이터 분포 :\n",
            " 0    50\n",
            "Name: label, dtype: int64\n",
            "\n",
            "## 교차 검증 : 2\n",
            "학습 레이블 데이터 분포 :\n",
            " 0    50\n",
            "2    50\n",
            "Name: label, dtype: int64\n",
            "검증 레이블 데이터 분포 :\n",
            " 1    50\n",
            "Name: label, dtype: int64\n",
            "\n",
            "## 교차 검증 : 3\n",
            "학습 레이블 데이터 분포 :\n",
            " 0    50\n",
            "1    50\n",
            "Name: label, dtype: int64\n",
            "검증 레이블 데이터 분포 :\n",
            " 2    50\n",
            "Name: label, dtype: int64\n",
            "\n"
          ]
        }
      ]
    },
    {
      "cell_type": "markdown",
      "source": [
        "- 교차 검증 시마다 3개의 폴드 세트로 만들어지는 학습 Label과 검증 Label이 완전히 다른 값으로 추출되었다.\n",
        "  1. 첫 번째 교차 검증에서는 학습 Label의 1, 2 값이 각각 50개씩 추출되었다.\n",
        "  2. 검증 Label 값은 0이 50개 추출되었다.\n",
        "  3. 학습 Label에는 1, 2에 대한 데이터밖에 없으므로, 0의 경우에 대해 전혀 학습하지 못한다.\n",
        "  4. 검증 예측 정확도가 0으로만 나온다."
      ],
      "metadata": {
        "id": "YEe5I3fAihOt"
      }
    },
    {
      "cell_type": "markdown",
      "source": [
        "- `StratifiedKFold`는 이렇게 `KFold`로 분활된 Label 데이터셋이 전체 Label값의 분포를 반영하지 못하는 문제를 해결한다.\n",
        "- 전체적인 사용 방식은 비슷하나, Stratified K 폴드는 Label의 데이터 분포에 따라 학습/검증 데이터를 나누기 때문에 `split()` 메서드의 인자로 Feature 데이터셋과 Label 데이터셋이 모두 필요하다."
      ],
      "metadata": {
        "id": "T1pw8JjRioZp"
      }
    },
    {
      "cell_type": "code",
      "source": [
        "# Stratified K 폴드\n",
        "# Import necessary module\n",
        "from sklearn.model_selection import StratifiedKFold\n",
        "\n",
        "# 폴드 세트를 StratifiedKFold로 생성\n",
        "skf = StratifiedKFold(n_splits=3)\n",
        "\n",
        "n_iter=0\n",
        "\n",
        "for train_index, test_index in skf.split(iris_df, iris_df['label']):\n",
        "    n_iter += 1\n",
        "    label_train= iris_df['label'].iloc[train_index]\n",
        "    label_test= iris_df['label'].iloc[test_index]\n",
        "    print('## 교차 검증 : {0}'.format(n_iter))\n",
        "    print('학습 레이블 데이터 분포 : \\n', label_train.value_counts())\n",
        "    print('검증 레이블 데이터 분포 : \\n', label_test.value_counts())\n",
        "    print()"
      ],
      "metadata": {
        "colab": {
          "base_uri": "https://localhost:8080/"
        },
        "id": "OLYVfzSfiyRb",
        "outputId": "c49f7df2-0aa3-40bf-f7d7-25356aa86c93"
      },
      "execution_count": 34,
      "outputs": [
        {
          "output_type": "stream",
          "name": "stdout",
          "text": [
            "## 교차 검증 : 1\n",
            "학습 레이블 데이터 분포 : \n",
            " 2    34\n",
            "0    33\n",
            "1    33\n",
            "Name: label, dtype: int64\n",
            "검증 레이블 데이터 분포 : \n",
            " 0    17\n",
            "1    17\n",
            "2    16\n",
            "Name: label, dtype: int64\n",
            "\n",
            "## 교차 검증 : 2\n",
            "학습 레이블 데이터 분포 : \n",
            " 1    34\n",
            "0    33\n",
            "2    33\n",
            "Name: label, dtype: int64\n",
            "검증 레이블 데이터 분포 : \n",
            " 0    17\n",
            "2    17\n",
            "1    16\n",
            "Name: label, dtype: int64\n",
            "\n",
            "## 교차 검증 : 3\n",
            "학습 레이블 데이터 분포 : \n",
            " 0    34\n",
            "1    33\n",
            "2    33\n",
            "Name: label, dtype: int64\n",
            "검증 레이블 데이터 분포 : \n",
            " 1    17\n",
            "2    17\n",
            "0    16\n",
            "Name: label, dtype: int64\n",
            "\n"
          ]
        }
      ]
    },
    {
      "cell_type": "markdown",
      "source": [
        "- 학습 Label과 검증 Label 데이터 값의 분포도가 동일하게 할당되었다.\n",
        "  1. 첫 번째 교차 검증에서는 학습 Label의 0, 1, 2 값이 각각 33개씩 추출되었다.\n",
        "  2. 검증 Label 값의 0, 1, 2 값이 17개 추출되었다.\n"
      ],
      "metadata": {
        "id": "NX-18_Emi88m"
      }
    },
    {
      "cell_type": "code",
      "source": [
        "# DecisionTreeClassifier 생성\n",
        "dt_clf = DecisionTreeClassifier(random_state=156)\n",
        "\n",
        "# 폴드 세트를 StratifiedKFold로 생성\n",
        "skfold = StratifiedKFold(n_splits=3)\n",
        "\n",
        "n_iter = 0 # Iterator\n",
        "cv_accuracy = [] # 폴드 세트별 정확도를 담을 리스트 객체 생성\n",
        "\n",
        "# StratifiedKFold의 split( ) 호출시 반드시 Label 데이터셋도 추가 입력 필요  \n",
        "for train_index, test_index  in skfold.split(features, label):\n",
        "    # split( )으로 반환된 인덱스를 이용하여 학습용, 검증용 테스트 데이터 추출\n",
        "    X_train, X_test = features[train_index], features[test_index]\n",
        "    y_train, y_test = label[train_index], label[test_index]\n",
        "\n",
        "    #학습 및 예측 \n",
        "    dt_clf.fit(X_train , y_train)    \n",
        "    pred = dt_clf.predict(X_test)\n",
        "\n",
        "    # 반복 시 마다 정확도 측정 \n",
        "    n_iter += 1\n",
        "    accuracy = np.round(accuracy_score(y_test,pred), 4)\n",
        "    train_size = X_train.shape[0]\n",
        "    test_size = X_test.shape[0]\n",
        "    print('\\n#{0} 교차 검증 정확도 :{1}, 학습 데이터 크기: {2}, 검증 데이터 크기: {3}'\n",
        "          .format(n_iter, accuracy, train_size, test_size))\n",
        "    print('#{0} 검증 세트 인덱스:{1}'.format(n_iter,test_index))\n",
        "    cv_accuracy.append(accuracy)"
      ],
      "metadata": {
        "colab": {
          "base_uri": "https://localhost:8080/"
        },
        "id": "KPnHlyPXjC0G",
        "outputId": "05834577-d492-42fd-a75c-62e4ba7bc6df"
      },
      "execution_count": 35,
      "outputs": [
        {
          "output_type": "stream",
          "name": "stdout",
          "text": [
            "\n",
            "#1 교차 검증 정확도 :0.98, 학습 데이터 크기: 100, 검증 데이터 크기: 50\n",
            "#1 검증 세트 인덱스:[  0   1   2   3   4   5   6   7   8   9  10  11  12  13  14  15  16  50\n",
            "  51  52  53  54  55  56  57  58  59  60  61  62  63  64  65  66 100 101\n",
            " 102 103 104 105 106 107 108 109 110 111 112 113 114 115]\n",
            "\n",
            "#2 교차 검증 정확도 :0.94, 학습 데이터 크기: 100, 검증 데이터 크기: 50\n",
            "#2 검증 세트 인덱스:[ 17  18  19  20  21  22  23  24  25  26  27  28  29  30  31  32  33  67\n",
            "  68  69  70  71  72  73  74  75  76  77  78  79  80  81  82 116 117 118\n",
            " 119 120 121 122 123 124 125 126 127 128 129 130 131 132]\n",
            "\n",
            "#3 교차 검증 정확도 :0.98, 학습 데이터 크기: 100, 검증 데이터 크기: 50\n",
            "#3 검증 세트 인덱스:[ 34  35  36  37  38  39  40  41  42  43  44  45  46  47  48  49  83  84\n",
            "  85  86  87  88  89  90  91  92  93  94  95  96  97  98  99 133 134 135\n",
            " 136 137 138 139 140 141 142 143 144 145 146 147 148 149]\n"
          ]
        }
      ]
    },
    {
      "cell_type": "code",
      "source": [
        "# 교차 검증별 정확도 및 평균 정확도 계산 \n",
        "print('## 교차 검증별 정확도:', np.round(cv_accuracy, 4))\n",
        "print('## 평균 검증 정확도:', np.mean(cv_accuracy)) "
      ],
      "metadata": {
        "colab": {
          "base_uri": "https://localhost:8080/"
        },
        "id": "Tt6rATjrjGhW",
        "outputId": "c47332a7-3809-459d-96be-051232f81082"
      },
      "execution_count": 36,
      "outputs": [
        {
          "output_type": "stream",
          "name": "stdout",
          "text": [
            "## 교차 검증별 정확도: [0.98 0.94 0.98]\n",
            "## 평균 검증 정확도: 0.9666666666666667\n"
          ]
        }
      ]
    },
    {
      "cell_type": "markdown",
      "source": [
        "##### [교차 검증을 보다 간편하게 - `cross_val_score()`]\n",
        "___\n",
        "- `cross_val_score()` : 교차 검증을 좀 더 편리하게 수행할 수 있는 API\n",
        "- 폴드 세트를 설정하고, for 반복문에서 학습 및 테스트 데이터의 인덱스를 추출한 뒤, 반복적으로 학습과 예측을 수행하고 예측 성능을 반환하는 과정을 한꺼번에 수행해준다.\n",
        "```python\n",
        "cross_val_score(estimator, X, y = None, scoring = None, cv = None, n_jobs = 1, verbose = 0, fit_params = None, pre_dispatch = '2 * n_jobs')\n",
        "```\n",
        "  1. `estimator` : 분류 알고리즘 클래스인 classifier 혹은 회귀 알고리즘 클래스인 Regressor\n",
        "  2. `X` : Feature 데이터셋\n",
        "  3. `y` : Lable 데이터셋\n",
        "  4. `cv` : 교차 검증 폴드 수.\n",
        "  5. `scoring` : 예측 성능 평가 지표. `cross_val_score()` 수행 후, `scoring`으로 지정된 성능 지표 측정값을 배열 형태로 반한한다.\n",
        "   \n",
        "- estimator에 classifier가 입력되면 Stratified K 폴드 방식으로 학습/검증 데이터셋을 분할하고, 회귀인 경우에는 K 폴드 방식으로 분활한다.\n",
        "  "
      ],
      "metadata": {
        "id": "yAQ6xUQUjJpH"
      }
    },
    {
      "cell_type": "code",
      "source": [
        "# Import method from module\n",
        "from sklearn.tree import DecisionTreeClassifier\n",
        "from sklearn.model_selection import cross_val_score , cross_validate\n",
        "from sklearn.datasets import load_iris"
      ],
      "metadata": {
        "id": "dgAcr1BJjeDg"
      },
      "execution_count": 37,
      "outputs": []
    },
    {
      "cell_type": "code",
      "source": [
        "# 데이터셋 및 DecisionTreeClassifier 생성\n",
        "iris_data = load_iris()\n",
        "dt_clf = DecisionTreeClassifier(random_state=156)\n",
        "\n",
        "# Feature 데이터셋과 Label 데이터셋 분리\n",
        "data = iris_data.data\n",
        "label = iris_data.target\n",
        "\n",
        "# 성능 지표는 정확도(accuracy) , 교차 검증 세트는 3개 \n",
        "scores = cross_val_score(dt_clf , data , label , scoring = 'accuracy',cv = 3)\n",
        "print('교차 검증별 정확도:',np.round(scores, 4))\n",
        "print('평균 검증 정확도:', np.round(np.mean(scores), 4))"
      ],
      "metadata": {
        "colab": {
          "base_uri": "https://localhost:8080/"
        },
        "id": "Gt-YuDbZjejS",
        "outputId": "b5a2a6af-cffc-4baa-e940-1868739a46c5"
      },
      "execution_count": 38,
      "outputs": [
        {
          "output_type": "stream",
          "name": "stdout",
          "text": [
            "교차 검증별 정확도: [0.98 0.94 0.98]\n",
            "평균 검증 정확도: 0.9667\n"
          ]
        }
      ]
    },
    {
      "cell_type": "markdown",
      "source": [
        "- `cross_val_score()`는 단 하나의 평가 지표만 가능하다.\n",
        "- `cross_validate()`는 여러 개의 평가 지표를 반환할 수 있으며, 학습 데이터에 대한 성능 평가 지표와 수행 시간도 같이 제공한다."
      ],
      "metadata": {
        "id": "x74sZXpWkFM0"
      }
    },
    {
      "cell_type": "markdown",
      "source": [
        "#### | GridSearchCV - 교차 검증과 최적 하이퍼 파라미터 튜닝을 한 번에\n",
        "___\n",
        "- 하이퍼 파라미터 : 머신러닝 알고리즘을 구성하는 주요 구성 요소로, 하이퍼 파라미터 값을 조정하여 알고리즘의 예측 성능을 개선할 수 있다.\n",
        "- 사이킷런에서 `GridSearchCV` API를 이용하여 Classifier나 Regressor 등의 알고리즘에 사용되는 하이퍼 파라미터를 순차적으로 입력하면 편리하게 최적의 파라미터를 도출해준다\n",
        "- 예를 들어, 결정 트리 알고리즘에서 하이퍼 파라미터를 변경하면서 최고 성능을 가지는 파라미터 조합 찾으려면, 아래와 같이 Parameter의 집합을 만들고 이를 순차적으로 적용하면서 최적화한다.\n",
        "```python\n",
        "grid_parameter = {'max_depth' : [1, 2, 3],\n",
        "                    'min_samples_split' : [2, 3]}\n",
        "```\n",
        "- `GridSearchCV`는 교차검증을 기반으로 하이퍼 파라미터의 최적 값을 찾아준다. \n",
        "  * 즉, 데이터셋을 교차 검증을 위한 학습/검정 데이터셋으로 자동 분할한 뒤, 하이퍼 파라미터 그리드에 있는 모든 파라미터를 순차적으로 적용해 최적의 파라미터를 찾는다.\n",
        "  * 순차적으로 파라미터를 테스트하기 때문에 수행시간이 상대적으로 오래 걸린다.\n",
        "```python\n",
        "GridSearchCV(estimator, param_grid = parameters, scoring = 'accuracy', cv = 3, refit = True)\n",
        "```\n",
        "  1. `estimator` : classifier, regressor, pipeline\n",
        "  2. `param_grid` : estimator의 튜닝을 위해 파라미터 명과 파라미터 값을 지정한다. key와 list 값을 가지는 딕셔너리를 입력한다.\n",
        "  3. `scoring` : 예측 성능을 측정할 평가 방법을 지정한다.\n",
        "  4. `cv` : 교차 검증을 위해 분할되는 학습/검증 데이터셋의 개수를 지정한다.\n",
        "  5. `refit` : Default는 True. Ture이면 가장 최적의 하이퍼 파라미터를 찾은 뒤 입력된 estimator 객체를 해당 하이퍼 파라미터로 재학습시켜 반환한다."
      ],
      "metadata": {
        "id": "yJ2GgAdGkI4L"
      }
    },
    {
      "cell_type": "code",
      "source": [
        "# 결정 트리 알고리즘의 하이퍼 파라미터 max_depth와 min_samples_split를 최적화\n",
        "# 붓꽃 데이터 사용\n",
        "\n",
        "# import Method from Module\n",
        "from sklearn.datasets import load_iris\n",
        "from sklearn.tree import DecisionTreeClassifier\n",
        "from sklearn.model_selection import GridSearchCV\n",
        "\n",
        "# 데이터를 로딩하고 학습데이타와 테스트 데이터 분리\n",
        "iris = load_iris()\n",
        "X_train, X_test, y_train, y_test = train_test_split(iris_data.data, iris_data.target, \n",
        "                                                    test_size=0.2, random_state=121)\n",
        "\n",
        "# DecisionTreeClassifier 생성\n",
        "dtree = DecisionTreeClassifier()"
      ],
      "metadata": {
        "id": "zTERUpjWkrfi"
      },
      "execution_count": 39,
      "outputs": []
    },
    {
      "cell_type": "code",
      "source": [
        "# parameter 들을 dictionary 형태로 설정\n",
        "parameters = {'max_depth':[1,2,3],\n",
        "              'min_samples_split':[2,3]}"
      ],
      "metadata": {
        "id": "iuCKi__LkwNg"
      },
      "execution_count": 40,
      "outputs": []
    },
    {
      "cell_type": "code",
      "source": [
        "# param_grid의 하이퍼 파라미터들을 3개의 폴드로 나누어 테스트 수행 \n",
        "grid_dtree = GridSearchCV(dtree, param_grid=parameters, cv=3, refit=True) # refit=True   \n",
        "\n",
        "# 붓꽃 Train 데이터로 학습 데이터를 cv에 기술된 개수의 폴드로 분할\n",
        "# 그 후, param_grid의 하이퍼 파라미터들을 순차적으로 변경하며 학습 및 성능 평가\n",
        "# 결과는 딕셔너리 형태의 cv_results_에 저장\n",
        "grid_dtree.fit(X_train, y_train)\n",
        "\n",
        "# GridSearchCV 결과 추출하여 DataFrame으로 변환\n",
        "scores_df = pd.DataFrame(grid_dtree.cv_results_)\n",
        "scores_df[['params', 'mean_test_score', 'rank_test_score', \\\n",
        "           'split0_test_score', 'split1_test_score', 'split2_test_score']]"
      ],
      "metadata": {
        "colab": {
          "base_uri": "https://localhost:8080/",
          "height": 510
        },
        "id": "K5hl6tnvkyHq",
        "outputId": "09ad2e96-90c4-491e-8d9b-edf093430af9"
      },
      "execution_count": 44,
      "outputs": [
        {
          "output_type": "execute_result",
          "data": {
            "text/plain": [
              "                                     params  mean_test_score  rank_test_score  \\\n",
              "0  {'max_depth': 1, 'min_samples_split': 2}         0.700000                5   \n",
              "1  {'max_depth': 1, 'min_samples_split': 3}         0.700000                5   \n",
              "2  {'max_depth': 2, 'min_samples_split': 2}         0.958333                3   \n",
              "3  {'max_depth': 2, 'min_samples_split': 3}         0.958333                3   \n",
              "4  {'max_depth': 3, 'min_samples_split': 2}         0.975000                1   \n",
              "5  {'max_depth': 3, 'min_samples_split': 3}         0.975000                1   \n",
              "\n",
              "   split0_test_score  split1_test_score  split2_test_score  \n",
              "0              0.700                0.7               0.70  \n",
              "1              0.700                0.7               0.70  \n",
              "2              0.925                1.0               0.95  \n",
              "3              0.925                1.0               0.95  \n",
              "4              0.975                1.0               0.95  \n",
              "5              0.975                1.0               0.95  "
            ],
            "text/html": [
              "\n",
              "  <div id=\"df-ab60bbf1-8d0f-4632-aa4f-59411959818d\">\n",
              "    <div class=\"colab-df-container\">\n",
              "      <div>\n",
              "<style scoped>\n",
              "    .dataframe tbody tr th:only-of-type {\n",
              "        vertical-align: middle;\n",
              "    }\n",
              "\n",
              "    .dataframe tbody tr th {\n",
              "        vertical-align: top;\n",
              "    }\n",
              "\n",
              "    .dataframe thead th {\n",
              "        text-align: right;\n",
              "    }\n",
              "</style>\n",
              "<table border=\"1\" class=\"dataframe\">\n",
              "  <thead>\n",
              "    <tr style=\"text-align: right;\">\n",
              "      <th></th>\n",
              "      <th>params</th>\n",
              "      <th>mean_test_score</th>\n",
              "      <th>rank_test_score</th>\n",
              "      <th>split0_test_score</th>\n",
              "      <th>split1_test_score</th>\n",
              "      <th>split2_test_score</th>\n",
              "    </tr>\n",
              "  </thead>\n",
              "  <tbody>\n",
              "    <tr>\n",
              "      <th>0</th>\n",
              "      <td>{'max_depth': 1, 'min_samples_split': 2}</td>\n",
              "      <td>0.700000</td>\n",
              "      <td>5</td>\n",
              "      <td>0.700</td>\n",
              "      <td>0.7</td>\n",
              "      <td>0.70</td>\n",
              "    </tr>\n",
              "    <tr>\n",
              "      <th>1</th>\n",
              "      <td>{'max_depth': 1, 'min_samples_split': 3}</td>\n",
              "      <td>0.700000</td>\n",
              "      <td>5</td>\n",
              "      <td>0.700</td>\n",
              "      <td>0.7</td>\n",
              "      <td>0.70</td>\n",
              "    </tr>\n",
              "    <tr>\n",
              "      <th>2</th>\n",
              "      <td>{'max_depth': 2, 'min_samples_split': 2}</td>\n",
              "      <td>0.958333</td>\n",
              "      <td>3</td>\n",
              "      <td>0.925</td>\n",
              "      <td>1.0</td>\n",
              "      <td>0.95</td>\n",
              "    </tr>\n",
              "    <tr>\n",
              "      <th>3</th>\n",
              "      <td>{'max_depth': 2, 'min_samples_split': 3}</td>\n",
              "      <td>0.958333</td>\n",
              "      <td>3</td>\n",
              "      <td>0.925</td>\n",
              "      <td>1.0</td>\n",
              "      <td>0.95</td>\n",
              "    </tr>\n",
              "    <tr>\n",
              "      <th>4</th>\n",
              "      <td>{'max_depth': 3, 'min_samples_split': 2}</td>\n",
              "      <td>0.975000</td>\n",
              "      <td>1</td>\n",
              "      <td>0.975</td>\n",
              "      <td>1.0</td>\n",
              "      <td>0.95</td>\n",
              "    </tr>\n",
              "    <tr>\n",
              "      <th>5</th>\n",
              "      <td>{'max_depth': 3, 'min_samples_split': 3}</td>\n",
              "      <td>0.975000</td>\n",
              "      <td>1</td>\n",
              "      <td>0.975</td>\n",
              "      <td>1.0</td>\n",
              "      <td>0.95</td>\n",
              "    </tr>\n",
              "  </tbody>\n",
              "</table>\n",
              "</div>\n",
              "      <button class=\"colab-df-convert\" onclick=\"convertToInteractive('df-ab60bbf1-8d0f-4632-aa4f-59411959818d')\"\n",
              "              title=\"Convert this dataframe to an interactive table.\"\n",
              "              style=\"display:none;\">\n",
              "        \n",
              "  <svg xmlns=\"http://www.w3.org/2000/svg\" height=\"24px\"viewBox=\"0 0 24 24\"\n",
              "       width=\"24px\">\n",
              "    <path d=\"M0 0h24v24H0V0z\" fill=\"none\"/>\n",
              "    <path d=\"M18.56 5.44l.94 2.06.94-2.06 2.06-.94-2.06-.94-.94-2.06-.94 2.06-2.06.94zm-11 1L8.5 8.5l.94-2.06 2.06-.94-2.06-.94L8.5 2.5l-.94 2.06-2.06.94zm10 10l.94 2.06.94-2.06 2.06-.94-2.06-.94-.94-2.06-.94 2.06-2.06.94z\"/><path d=\"M17.41 7.96l-1.37-1.37c-.4-.4-.92-.59-1.43-.59-.52 0-1.04.2-1.43.59L10.3 9.45l-7.72 7.72c-.78.78-.78 2.05 0 2.83L4 21.41c.39.39.9.59 1.41.59.51 0 1.02-.2 1.41-.59l7.78-7.78 2.81-2.81c.8-.78.8-2.07 0-2.86zM5.41 20L4 18.59l7.72-7.72 1.47 1.35L5.41 20z\"/>\n",
              "  </svg>\n",
              "      </button>\n",
              "      \n",
              "  <style>\n",
              "    .colab-df-container {\n",
              "      display:flex;\n",
              "      flex-wrap:wrap;\n",
              "      gap: 12px;\n",
              "    }\n",
              "\n",
              "    .colab-df-convert {\n",
              "      background-color: #E8F0FE;\n",
              "      border: none;\n",
              "      border-radius: 50%;\n",
              "      cursor: pointer;\n",
              "      display: none;\n",
              "      fill: #1967D2;\n",
              "      height: 32px;\n",
              "      padding: 0 0 0 0;\n",
              "      width: 32px;\n",
              "    }\n",
              "\n",
              "    .colab-df-convert:hover {\n",
              "      background-color: #E2EBFA;\n",
              "      box-shadow: 0px 1px 2px rgba(60, 64, 67, 0.3), 0px 1px 3px 1px rgba(60, 64, 67, 0.15);\n",
              "      fill: #174EA6;\n",
              "    }\n",
              "\n",
              "    [theme=dark] .colab-df-convert {\n",
              "      background-color: #3B4455;\n",
              "      fill: #D2E3FC;\n",
              "    }\n",
              "\n",
              "    [theme=dark] .colab-df-convert:hover {\n",
              "      background-color: #434B5C;\n",
              "      box-shadow: 0px 1px 3px 1px rgba(0, 0, 0, 0.15);\n",
              "      filter: drop-shadow(0px 1px 2px rgba(0, 0, 0, 0.3));\n",
              "      fill: #FFFFFF;\n",
              "    }\n",
              "  </style>\n",
              "\n",
              "      <script>\n",
              "        const buttonEl =\n",
              "          document.querySelector('#df-ab60bbf1-8d0f-4632-aa4f-59411959818d button.colab-df-convert');\n",
              "        buttonEl.style.display =\n",
              "          google.colab.kernel.accessAllowed ? 'block' : 'none';\n",
              "\n",
              "        async function convertToInteractive(key) {\n",
              "          const element = document.querySelector('#df-ab60bbf1-8d0f-4632-aa4f-59411959818d');\n",
              "          const dataTable =\n",
              "            await google.colab.kernel.invokeFunction('convertToInteractive',\n",
              "                                                     [key], {});\n",
              "          if (!dataTable) return;\n",
              "\n",
              "          const docLinkHtml = 'Like what you see? Visit the ' +\n",
              "            '<a target=\"_blank\" href=https://colab.research.google.com/notebooks/data_table.ipynb>data table notebook</a>'\n",
              "            + ' to learn more about interactive tables.';\n",
              "          element.innerHTML = '';\n",
              "          dataTable['output_type'] = 'display_data';\n",
              "          await google.colab.output.renderOutput(dataTable, element);\n",
              "          const docLink = document.createElement('div');\n",
              "          docLink.innerHTML = docLinkHtml;\n",
              "          element.appendChild(docLink);\n",
              "        }\n",
              "      </script>\n",
              "    </div>\n",
              "  </div>\n",
              "  "
            ]
          },
          "metadata": {},
          "execution_count": 44
        }
      ]
    },
    {
      "cell_type": "markdown",
      "source": [
        "- 총 6개의 결과를 볼 수 있으며, 이는 하이퍼 파라미터 max_depth와 min_samples_split을 총 6번 변경하면서 학습 및 평가를 수행하였음을 의미한다.\n",
        "- **params** : Column에 수행할 때마다 적용된 하이퍼 파라미터 값이 저장되어 있다.\n",
        "- **rank_test_score** : 하이퍼 파라미터별로 예측 성능이 좋은 순위를 의미한다.\n",
        "- **mean_test_score** : 개별 하이퍼 파라미터별로 CV의 폴딩 검증 데이터셋에 대해 총 수행한 평가의 평균값"
      ],
      "metadata": {
        "id": "pAfbTsqVlM70"
      }
    },
    {
      "cell_type": "code",
      "source": [
        "# best_params_ : 최고 성능을 나타낸 하이퍼 파라미터 값\n",
        "print('GridSearchCV 최적 파라미터:', grid_dtree.best_params_)\n",
        "\n",
        "# best_score_ : 최고 성능을 나타낼 때, 모델의 성능 평가의 결과 값\n",
        "print('GridSearchCV 최고 정확도: {0:.4f}'.format(grid_dtree.best_score_))"
      ],
      "metadata": {
        "colab": {
          "base_uri": "https://localhost:8080/"
        },
        "id": "wUluGtwUlVZw",
        "outputId": "e71db505-a734-4b77-a9c5-a70f467be823"
      },
      "execution_count": 45,
      "outputs": [
        {
          "output_type": "stream",
          "name": "stdout",
          "text": [
            "GridSearchCV 최적 파라미터: {'max_depth': 3, 'min_samples_split': 2}\n",
            "GridSearchCV 최고 정확도: 0.9750\n"
          ]
        }
      ]
    },
    {
      "cell_type": "code",
      "source": [
        "# refit = True이면 최적 성능을 나타내는 하이퍼 파라미터로 Estimator를 학습해 best_estimator_에 저장\n",
        "# GridSearchCV의 refit으로 이미 학습이 된 estimator 반환\n",
        "estimator = grid_dtree.best_estimator_\n",
        "\n",
        "# GridSearchCV의 best_estimator_는 이미 최적 하이퍼 파라미터로 학습이 됨\n",
        "pred = estimator.predict(X_test)\n",
        "print('테스트 데이터 세트 정확도: {0:.4f}'.format(accuracy_score(y_test,pred)))"
      ],
      "metadata": {
        "colab": {
          "base_uri": "https://localhost:8080/"
        },
        "id": "19mASHfRlWpK",
        "outputId": "ce6c70c2-9abe-42d3-de80-31e0d6e1e927"
      },
      "execution_count": 46,
      "outputs": [
        {
          "output_type": "stream",
          "name": "stdout",
          "text": [
            "테스트 데이터 세트 정확도: 0.9667\n"
          ]
        }
      ]
    },
    {
      "cell_type": "markdown",
      "source": [
        "## 05 데이터 전처리\n",
        "___\n",
        "- ML 알고리즘은 데이터에 기반하고 있기 때문에 어떤 데이터가 입력되느냐에 따라 결과가 크게 달라질 수 있다.\n",
        "- 따라서 알고리즘 적용 전 **데이터 전처리(Data Preprocessing)**하는 것이 중요하다.\n",
        "- 데이터 전처리의 종류\n",
        "1. 결손값(NaN, Null) 처리\n",
        "  + Feature 값 중 Null값이 얼마 되지 않는 경우, Feature의 평균값 등으로 간단히 대체할 수 있다.\n",
        "  + Null 값이 대부분인 경우, 해당 Feature는 Drop하는 것이 더 좋다.\n",
        "  + 해당 Feature가 중요도가 높은 Feature이고, 결측값을 단순이 평균값으로 대체할 경우 예측 왜곡이 심하다면 업무 로직 등을 상세히 살펴본 후, 더 정밀한 값으로 대체해야 한다.\n",
        "2. 문자열 값\n",
        "  + 사이킷런의 머신러닝 알고리즘은 문자열 값을 입력 값으로 허용하지 않는다.\n",
        "  + 모든 문자열 값은 인코딩되어 숫자형으로 변환해야 한다.\n",
        "  + 범주형 Feature : 코드 값으로 표현\n",
        "  + 텍스트형 Feature : Feature Vectorization 등의 기법으로 벡터화하거나 불필요한 Feature라면 삭제한다."
      ],
      "metadata": {
        "id": "WUAGcp3vlYy8"
      }
    },
    {
      "cell_type": "markdown",
      "source": [
        "#### | 데이터 인코딩\n",
        "___\n",
        "##### | 1) 레이블 인코딩\n",
        "___\n",
        "- 범주형 Feature를 코드형 숫자 값으로 변환하는 것\n",
        "- 상품 데이터의 구분이 TV, 냉장고, 전자레인지, 컴퓨터, 선풍기, 믹서로 되어 있다면, 각각 1, 2, 3,...6과 같은 숫자형 값을 부여하여 변환하는 것을 말한다.\n",
        "- '01', '02'와 같은 코드 값 역시 문자열이므로 1, 2와 같은 숫자형 값으로 변환되야 한다.\n",
        "- `LabelEncoder` 클래스로 구현한다."
      ],
      "metadata": {
        "id": "jfP7-nIslbT0"
      }
    },
    {
      "cell_type": "code",
      "source": [
        "# Import LabelEncoder \n",
        "from sklearn.preprocessing import LabelEncoder\n",
        "\n",
        "# 범주형 Feature\n",
        "items=['TV','냉장고','전자렌지','컴퓨터','선풍기','선풍기','믹서','믹서']\n",
        "\n",
        "# LabelEncoder를 객체로 생성 \n",
        "encoder = LabelEncoder()\n",
        "\n",
        "# fit() 과 transform()으로 label 인코딩 수행\n",
        "encoder.fit(items)\n",
        "labels = encoder.transform(items)\n",
        "print('인코딩 변환값 : ',labels)"
      ],
      "metadata": {
        "colab": {
          "base_uri": "https://localhost:8080/"
        },
        "id": "f3Jjoq2Ylz4J",
        "outputId": "42c4ecb7-8cab-45ed-bf1a-a9131848cfad"
      },
      "execution_count": 47,
      "outputs": [
        {
          "output_type": "stream",
          "name": "stdout",
          "text": [
            "인코딩 변환값 :  [0 1 4 5 3 3 2 2]\n"
          ]
        }
      ]
    },
    {
      "cell_type": "code",
      "source": [
        "# 문자열 값이 어떤 숫자 값으로 인코딩되었는지 확인\n",
        "print('인코딩 클래스 : ',encoder.classes_)"
      ],
      "metadata": {
        "colab": {
          "base_uri": "https://localhost:8080/"
        },
        "id": "LLcNPI0mmBgs",
        "outputId": "b3a37e7f-a24b-40a5-f9fc-47c7e2737cf3"
      },
      "execution_count": 48,
      "outputs": [
        {
          "output_type": "stream",
          "name": "stdout",
          "text": [
            "인코딩 클래스 :  ['TV' '냉장고' '믹서' '선풍기' '전자렌지' '컴퓨터']\n"
          ]
        }
      ]
    },
    {
      "cell_type": "code",
      "source": [
        "# 인코딩된 값을 다시 디코딩\n",
        "print('디코딩 원본 값 : ',encoder.inverse_transform([4, 5, 2, 0, 1, 1, 3, 3]))"
      ],
      "metadata": {
        "colab": {
          "base_uri": "https://localhost:8080/"
        },
        "id": "_dNnuyZQmJPR",
        "outputId": "f28f0af8-1f10-41c0-ad0c-bc157b637124"
      },
      "execution_count": 49,
      "outputs": [
        {
          "output_type": "stream",
          "name": "stdout",
          "text": [
            "디코딩 원본 값 :  ['전자렌지' '컴퓨터' '믹서' 'TV' '냉장고' '냉장고' '선풍기' '선풍기']\n"
          ]
        }
      ]
    },
    {
      "cell_type": "markdown",
      "source": [
        "- Label 인코딩은 간단하게 문자열 값을 숫자형 카테고리 값으로 변환하지만, 몇몇 ML 알고리즘에 Label 인코딩을 적용할 경우 예측 성능이 떨어지기도 한다.\n",
        "- 숫자 값의 경우, 대소가 특성으로 작용하기 때문이다.\n",
        "  + 예를 들어, 냉장고가 1, 믹서가 2로 변환되면, 특정 ML 알고리즘에서는 믹서를 더 중요하게 인식할 수 있다.\n",
        "- 이러한 문제점 때문에 **선형 회귀**와 같은 ML 알고리즘에는 Label 인코딩을 적용하지 않는다.\n",
        "- **트리 계열**의 ML 알고리즘은 적용 가능하다."
      ],
      "metadata": {
        "id": "77lomlSlmLvz"
      }
    },
    {
      "cell_type": "markdown",
      "source": [
        "##### | 원-핫 인코딩(One-Hot Encoding)\n",
        "___\n",
        "- Feature 값의 유형에 따라 새로운 Feature를 추가해 고유 값에 해당하는 Column에만 1을 표시하고 나머지 Column에는 0을 표시하는 방식\n",
        "- 즉, 여러 개의 속성 중 단 한 개의 속성만 1로 표시한다.\n",
        "- 사이킷런에서 `OneHotEncoder` 클래스로 쉽게 변환할 수 있다.\n",
        "- 다만, 변환하기 전 모든 문자열 값이 숫자형 값으로 변환되야 하며, 입력 값으로 2차원 데이터가 필요하다는 점을 유의해야 한다."
      ],
      "metadata": {
        "id": "vOprFr5hmTi0"
      }
    },
    {
      "cell_type": "markdown",
      "source": [
        "![제목 없음.png](data:image/png;base64,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)"
      ],
      "metadata": {
        "id": "gH6IylyP6_Hj"
      }
    },
    {
      "cell_type": "code",
      "source": [
        "# Import OneHotEncoder\n",
        "from sklearn.preprocessing import OneHotEncoder\n",
        "\n",
        "items=['TV','냉장고','전자렌지','컴퓨터','선풍기','선풍기','믹서','믹서']\n",
        "\n",
        "#  LabelEncoder로 문자열 값을 숫자형으로 변환\n",
        "encoder = LabelEncoder()\n",
        "encoder.fit(items)\n",
        "labels = encoder.transform(items)\n",
        "\n",
        "# 2차원 데이터로 변환\n",
        "labels = labels.reshape(-1,1)\n",
        "\n",
        "# 원-핫 인코딩\n",
        "oh_encoder = OneHotEncoder()\n",
        "oh_encoder.fit(labels)\n",
        "oh_labels = oh_encoder.transform(labels)\n",
        "\n",
        "print('원-핫 인코딩 데이터')\n",
        "print(oh_labels.toarray())\n",
        "print('원-핫 인코딩 데이터 차원')\n",
        "print(oh_labels.shape)"
      ],
      "metadata": {
        "colab": {
          "base_uri": "https://localhost:8080/"
        },
        "id": "PhU4X11gmiNf",
        "outputId": "dbd0e7a3-8021-495d-ff58-9605f57ca31b"
      },
      "execution_count": 50,
      "outputs": [
        {
          "output_type": "stream",
          "name": "stdout",
          "text": [
            "원-핫 인코딩 데이터\n",
            "[[1. 0. 0. 0. 0. 0.]\n",
            " [0. 1. 0. 0. 0. 0.]\n",
            " [0. 0. 0. 0. 1. 0.]\n",
            " [0. 0. 0. 0. 0. 1.]\n",
            " [0. 0. 0. 1. 0. 0.]\n",
            " [0. 0. 0. 1. 0. 0.]\n",
            " [0. 0. 1. 0. 0. 0.]\n",
            " [0. 0. 1. 0. 0. 0.]]\n",
            "원-핫 인코딩 데이터 차원\n",
            "(8, 6)\n"
          ]
        }
      ]
    },
    {
      "cell_type": "markdown",
      "source": [
        "- 판다스의 API를 이용하면 더 쉽게 원-핫 인코딩을 수행할 수 있다.\n",
        "- 문자열 카테고리 값을 숫자 형으로 변환할 필요가 없다."
      ],
      "metadata": {
        "id": "i7nu9UK4moEG"
      }
    },
    {
      "cell_type": "code",
      "source": [
        "df = pd.DataFrame({'item':['TV','냉장고','전자렌지','컴퓨터','선풍기','선풍기','믹서','믹서'] })\n",
        "pd.get_dummies(df)"
      ],
      "metadata": {
        "colab": {
          "base_uri": "https://localhost:8080/",
          "height": 300
        },
        "id": "ylqFgOgAmiVw",
        "outputId": "bb7de5ba-bec7-4695-a9da-b7606dd5b1a4"
      },
      "execution_count": 51,
      "outputs": [
        {
          "output_type": "execute_result",
          "data": {
            "text/plain": [
              "   item_TV  item_냉장고  item_믹서  item_선풍기  item_전자렌지  item_컴퓨터\n",
              "0        1         0        0         0          0         0\n",
              "1        0         1        0         0          0         0\n",
              "2        0         0        0         0          1         0\n",
              "3        0         0        0         0          0         1\n",
              "4        0         0        0         1          0         0\n",
              "5        0         0        0         1          0         0\n",
              "6        0         0        1         0          0         0\n",
              "7        0         0        1         0          0         0"
            ],
            "text/html": [
              "\n",
              "  <div id=\"df-a8253608-1391-48f4-8f9b-88f00020c9d2\">\n",
              "    <div class=\"colab-df-container\">\n",
              "      <div>\n",
              "<style scoped>\n",
              "    .dataframe tbody tr th:only-of-type {\n",
              "        vertical-align: middle;\n",
              "    }\n",
              "\n",
              "    .dataframe tbody tr th {\n",
              "        vertical-align: top;\n",
              "    }\n",
              "\n",
              "    .dataframe thead th {\n",
              "        text-align: right;\n",
              "    }\n",
              "</style>\n",
              "<table border=\"1\" class=\"dataframe\">\n",
              "  <thead>\n",
              "    <tr style=\"text-align: right;\">\n",
              "      <th></th>\n",
              "      <th>item_TV</th>\n",
              "      <th>item_냉장고</th>\n",
              "      <th>item_믹서</th>\n",
              "      <th>item_선풍기</th>\n",
              "      <th>item_전자렌지</th>\n",
              "      <th>item_컴퓨터</th>\n",
              "    </tr>\n",
              "  </thead>\n",
              "  <tbody>\n",
              "    <tr>\n",
              "      <th>0</th>\n",
              "      <td>1</td>\n",
              "      <td>0</td>\n",
              "      <td>0</td>\n",
              "      <td>0</td>\n",
              "      <td>0</td>\n",
              "      <td>0</td>\n",
              "    </tr>\n",
              "    <tr>\n",
              "      <th>1</th>\n",
              "      <td>0</td>\n",
              "      <td>1</td>\n",
              "      <td>0</td>\n",
              "      <td>0</td>\n",
              "      <td>0</td>\n",
              "      <td>0</td>\n",
              "    </tr>\n",
              "    <tr>\n",
              "      <th>2</th>\n",
              "      <td>0</td>\n",
              "      <td>0</td>\n",
              "      <td>0</td>\n",
              "      <td>0</td>\n",
              "      <td>1</td>\n",
              "      <td>0</td>\n",
              "    </tr>\n",
              "    <tr>\n",
              "      <th>3</th>\n",
              "      <td>0</td>\n",
              "      <td>0</td>\n",
              "      <td>0</td>\n",
              "      <td>0</td>\n",
              "      <td>0</td>\n",
              "      <td>1</td>\n",
              "    </tr>\n",
              "    <tr>\n",
              "      <th>4</th>\n",
              "      <td>0</td>\n",
              "      <td>0</td>\n",
              "      <td>0</td>\n",
              "      <td>1</td>\n",
              "      <td>0</td>\n",
              "      <td>0</td>\n",
              "    </tr>\n",
              "    <tr>\n",
              "      <th>5</th>\n",
              "      <td>0</td>\n",
              "      <td>0</td>\n",
              "      <td>0</td>\n",
              "      <td>1</td>\n",
              "      <td>0</td>\n",
              "      <td>0</td>\n",
              "    </tr>\n",
              "    <tr>\n",
              "      <th>6</th>\n",
              "      <td>0</td>\n",
              "      <td>0</td>\n",
              "      <td>1</td>\n",
              "      <td>0</td>\n",
              "      <td>0</td>\n",
              "      <td>0</td>\n",
              "    </tr>\n",
              "    <tr>\n",
              "      <th>7</th>\n",
              "      <td>0</td>\n",
              "      <td>0</td>\n",
              "      <td>1</td>\n",
              "      <td>0</td>\n",
              "      <td>0</td>\n",
              "      <td>0</td>\n",
              "    </tr>\n",
              "  </tbody>\n",
              "</table>\n",
              "</div>\n",
              "      <button class=\"colab-df-convert\" onclick=\"convertToInteractive('df-a8253608-1391-48f4-8f9b-88f00020c9d2')\"\n",
              "              title=\"Convert this dataframe to an interactive table.\"\n",
              "              style=\"display:none;\">\n",
              "        \n",
              "  <svg xmlns=\"http://www.w3.org/2000/svg\" height=\"24px\"viewBox=\"0 0 24 24\"\n",
              "       width=\"24px\">\n",
              "    <path d=\"M0 0h24v24H0V0z\" fill=\"none\"/>\n",
              "    <path d=\"M18.56 5.44l.94 2.06.94-2.06 2.06-.94-2.06-.94-.94-2.06-.94 2.06-2.06.94zm-11 1L8.5 8.5l.94-2.06 2.06-.94-2.06-.94L8.5 2.5l-.94 2.06-2.06.94zm10 10l.94 2.06.94-2.06 2.06-.94-2.06-.94-.94-2.06-.94 2.06-2.06.94z\"/><path d=\"M17.41 7.96l-1.37-1.37c-.4-.4-.92-.59-1.43-.59-.52 0-1.04.2-1.43.59L10.3 9.45l-7.72 7.72c-.78.78-.78 2.05 0 2.83L4 21.41c.39.39.9.59 1.41.59.51 0 1.02-.2 1.41-.59l7.78-7.78 2.81-2.81c.8-.78.8-2.07 0-2.86zM5.41 20L4 18.59l7.72-7.72 1.47 1.35L5.41 20z\"/>\n",
              "  </svg>\n",
              "      </button>\n",
              "      \n",
              "  <style>\n",
              "    .colab-df-container {\n",
              "      display:flex;\n",
              "      flex-wrap:wrap;\n",
              "      gap: 12px;\n",
              "    }\n",
              "\n",
              "    .colab-df-convert {\n",
              "      background-color: #E8F0FE;\n",
              "      border: none;\n",
              "      border-radius: 50%;\n",
              "      cursor: pointer;\n",
              "      display: none;\n",
              "      fill: #1967D2;\n",
              "      height: 32px;\n",
              "      padding: 0 0 0 0;\n",
              "      width: 32px;\n",
              "    }\n",
              "\n",
              "    .colab-df-convert:hover {\n",
              "      background-color: #E2EBFA;\n",
              "      box-shadow: 0px 1px 2px rgba(60, 64, 67, 0.3), 0px 1px 3px 1px rgba(60, 64, 67, 0.15);\n",
              "      fill: #174EA6;\n",
              "    }\n",
              "\n",
              "    [theme=dark] .colab-df-convert {\n",
              "      background-color: #3B4455;\n",
              "      fill: #D2E3FC;\n",
              "    }\n",
              "\n",
              "    [theme=dark] .colab-df-convert:hover {\n",
              "      background-color: #434B5C;\n",
              "      box-shadow: 0px 1px 3px 1px rgba(0, 0, 0, 0.15);\n",
              "      filter: drop-shadow(0px 1px 2px rgba(0, 0, 0, 0.3));\n",
              "      fill: #FFFFFF;\n",
              "    }\n",
              "  </style>\n",
              "\n",
              "      <script>\n",
              "        const buttonEl =\n",
              "          document.querySelector('#df-a8253608-1391-48f4-8f9b-88f00020c9d2 button.colab-df-convert');\n",
              "        buttonEl.style.display =\n",
              "          google.colab.kernel.accessAllowed ? 'block' : 'none';\n",
              "\n",
              "        async function convertToInteractive(key) {\n",
              "          const element = document.querySelector('#df-a8253608-1391-48f4-8f9b-88f00020c9d2');\n",
              "          const dataTable =\n",
              "            await google.colab.kernel.invokeFunction('convertToInteractive',\n",
              "                                                     [key], {});\n",
              "          if (!dataTable) return;\n",
              "\n",
              "          const docLinkHtml = 'Like what you see? Visit the ' +\n",
              "            '<a target=\"_blank\" href=https://colab.research.google.com/notebooks/data_table.ipynb>data table notebook</a>'\n",
              "            + ' to learn more about interactive tables.';\n",
              "          element.innerHTML = '';\n",
              "          dataTable['output_type'] = 'display_data';\n",
              "          await google.colab.output.renderOutput(dataTable, element);\n",
              "          const docLink = document.createElement('div');\n",
              "          docLink.innerHTML = docLinkHtml;\n",
              "          element.appendChild(docLink);\n",
              "        }\n",
              "      </script>\n",
              "    </div>\n",
              "  </div>\n",
              "  "
            ]
          },
          "metadata": {},
          "execution_count": 51
        }
      ]
    },
    {
      "cell_type": "markdown",
      "source": [
        "#### | 피처 스케일링과 정규화\n",
        "___\n",
        "- 피처 스케일링(Feature Scaling) : 서로 다른 변수의 값 범위를 일정한 수준으로 맞추는 작업\n",
        "- 대표적으로 표준화(Standardization)와 정규화(Normalization)가 있다.\n",
        "  1. 표준화 : 데이터의 Feature 각각을 평균이 0이고 분산이 1인 가우시안 정규 분포를 가진 값으로 변환하는 것\n",
        "  $${x_i}\\_{new} = \\frac{x_i - mean(x)}{stdev(x)}$$\n",
        "  2. 정규화 : 서로 다른 Feature의 크기를 통일하기 위해 크기를 변환하는 것\n",
        "  $${x_i}\\_{new} = \\frac{x_i - min(x)}{max(x)-min(x))}$$\n",
        "- 사이킷런의 전처리에서 제공하는 Normalizer 모듈은 큰 개념 면에서 일반적인 정규화와 비슷하지만, 약간의 차이가 있다.\n",
        "- 사이킷런의 Normalizer 모듈은 선형대수학의 정규화 개념이 적용되어, 개별 벡터의 크기를 맞추기 위해 변환하는 것을 의미한다.\n",
        "$${x_i}\\_{new} = \\frac{x_i}{\\sqrt{{x_i}^2 + {y_i}^2 + {z_i}^2}}$$"
      ],
      "metadata": {
        "id": "Pdi__YQ1mt9o"
      }
    },
    {
      "cell_type": "markdown",
      "source": [
        "#### | StandardScaler\n",
        "___\n",
        "- **표준화**를 지원하는 피처 스케일링 클래스\n",
        "- 개별 Feature를 평균이 0이고 분산이 1인 값으로 변환한다.\n",
        "- 사이킷런에서 구현한 RBF 커널을 이용하는 SVM이나 선형 회귀, 로지스틱 회귀는 데이터가 가우시안 분포를 가지고 있다고 가정하기 때문에 사전에 표준화를 꼭 적용해야 한다."
      ],
      "metadata": {
        "id": "UAYjJ58CmvrK"
      }
    },
    {
      "cell_type": "code",
      "source": [
        "# 붓꽃 데이터 셋을 로딩하고 DataFrame으로 변환\n",
        "from sklearn.datasets import load_iris\n",
        "iris = load_iris()\n",
        "iris_data = iris.data\n",
        "iris_df = pd.DataFrame(data=iris_data, columns=iris.feature_names)\n",
        "\n",
        "# 표준화 전 평균, 분산 값 확인\n",
        "print('feature 들의 평균 값')\n",
        "print(iris_df.mean())\n",
        "print('\\nfeature 들의 분산 값')\n",
        "print(iris_df.var())"
      ],
      "metadata": {
        "colab": {
          "base_uri": "https://localhost:8080/"
        },
        "id": "5DzMKASamxHt",
        "outputId": "dd3dad90-35e8-491e-f80e-f960f62ebdfa"
      },
      "execution_count": 52,
      "outputs": [
        {
          "output_type": "stream",
          "name": "stdout",
          "text": [
            "feature 들의 평균 값\n",
            "sepal length (cm)    5.843333\n",
            "sepal width (cm)     3.057333\n",
            "petal length (cm)    3.758000\n",
            "petal width (cm)     1.199333\n",
            "dtype: float64\n",
            "\n",
            "feature 들의 분산 값\n",
            "sepal length (cm)    0.685694\n",
            "sepal width (cm)     0.189979\n",
            "petal length (cm)    3.116278\n",
            "petal width (cm)     0.581006\n",
            "dtype: float64\n"
          ]
        }
      ]
    },
    {
      "cell_type": "code",
      "source": [
        "# Import StandardScaler\n",
        "from sklearn.preprocessing import StandardScaler\n",
        "\n",
        "# StandardScaler객체 생성\n",
        "scaler = StandardScaler()\n",
        "\n",
        "# StandardScaler로 데이터셋 변환\n",
        "scaler.fit(iris_df)\n",
        "\n",
        "# 표준화\n",
        "iris_scaled = scaler.transform(iris_df)\n",
        "\n",
        "# transform( )시 scale 변환된 데이터 셋이 numpy ndarry로 반환되어 이를 DataFrame으로 변환\n",
        "iris_df_scaled = pd.DataFrame(data=iris_scaled, columns=iris.feature_names)\n",
        "\n",
        "print('feature 들의 평균 값')\n",
        "print(iris_df_scaled.mean())\n",
        "print('\\nfeature 들의 분산 값')\n",
        "print(iris_df_scaled.var())"
      ],
      "metadata": {
        "colab": {
          "base_uri": "https://localhost:8080/"
        },
        "id": "3cQ3NCbvnN4y",
        "outputId": "7788b9f3-d0f0-4d3a-bc8f-63f65389c547"
      },
      "execution_count": 53,
      "outputs": [
        {
          "output_type": "stream",
          "name": "stdout",
          "text": [
            "feature 들의 평균 값\n",
            "sepal length (cm)   -1.690315e-15\n",
            "sepal width (cm)    -1.842970e-15\n",
            "petal length (cm)   -1.698641e-15\n",
            "petal width (cm)    -1.409243e-15\n",
            "dtype: float64\n",
            "\n",
            "feature 들의 분산 값\n",
            "sepal length (cm)    1.006711\n",
            "sepal width (cm)     1.006711\n",
            "petal length (cm)    1.006711\n",
            "petal width (cm)     1.006711\n",
            "dtype: float64\n"
          ]
        }
      ]
    },
    {
      "cell_type": "markdown",
      "source": [
        "#### | MiniMaxScaler\n",
        "___\n",
        "- 데이터값을 0과 1 사이의 범위 값으로 변환한다.\n",
        "- 음수의 경우 절대값으로 변환한다.\n",
        "- 데이터의 분포가 가우시안 분포가 아닐 경우, Min, Max Scale을 적용할 수 있다."
      ],
      "metadata": {
        "id": "fH6uKxIknUdJ"
      }
    },
    {
      "cell_type": "code",
      "source": [
        "# Import MinMaxScaler\n",
        "from sklearn.preprocessing import MinMaxScaler\n",
        "\n",
        "# MinMaxScaler 객체 생성\n",
        "scaler = MinMaxScaler()\n",
        "# MinMaxScaler로 데이터셋 변환\n",
        "scaler.fit(iris_df)\n",
        "iris_scaled = scaler.transform(iris_df)\n",
        "\n",
        "# transform()시 scale 변환된 데이터 셋이 numpy ndarry로 반환되어 이를 DataFrame으로 변환\n",
        "iris_df_scaled = pd.DataFrame(data=iris_scaled, columns=iris.feature_names)\n",
        "\n",
        "print('feature들의 최소 값')\n",
        "print(iris_df_scaled.min())\n",
        "print('\\nfeature들의 최대 값')\n",
        "print(iris_df_scaled.max())"
      ],
      "metadata": {
        "colab": {
          "base_uri": "https://localhost:8080/"
        },
        "id": "LDKWxUvonVCp",
        "outputId": "36d28f6c-a402-4191-a438-2e794e70292e"
      },
      "execution_count": 54,
      "outputs": [
        {
          "output_type": "stream",
          "name": "stdout",
          "text": [
            "feature들의 최소 값\n",
            "sepal length (cm)    0.0\n",
            "sepal width (cm)     0.0\n",
            "petal length (cm)    0.0\n",
            "petal width (cm)     0.0\n",
            "dtype: float64\n",
            "\n",
            "feature들의 최대 값\n",
            "sepal length (cm)    1.0\n",
            "sepal width (cm)     1.0\n",
            "petal length (cm)    1.0\n",
            "petal width (cm)     1.0\n",
            "dtype: float64\n"
          ]
        }
      ]
    },
    {
      "cell_type": "markdown",
      "source": [
        "#### | 학습 데이터와 테스트 데이터의 스케일링 변환 시 유의점\n",
        "___\n",
        "- StandardScaler나 MinMax Scaler와 같은 Scaler 객체를 애용해 데이터를 스케일링할 때, `fit()`, `transform()`, `fit_transform()` 메소드를 사용한다.\n",
        "  1. `fit()` : 데이터 변환을 위한 기준 정보 설정(최대값이나 최소값 등)\n",
        "  2. `transform()` : 설정된 정보를 이용해 데이터를 변환\n",
        "  3. `fit_transform()` : `fit()`과 `transform()`를 한 번에 적용\n",
        "- 그런데 학습 데이터셋과 테스트 데이터셋에 `fit()`, `transform()`를 적용할 때 주의가 필요하다.\n",
        "  * 학습 데이터에 `fit()`, `transform()`을 적용하여 스케일링하였다면 테스트 데이터에도 같은 기준으로 메소드를 적용하여 스케일링해야 올바른 예측 결과를 도출한다."
      ],
      "metadata": {
        "id": "qEg-92egndRj"
      }
    },
    {
      "cell_type": "code",
      "source": [
        "from sklearn.preprocessing import MinMaxScaler\n",
        "\n",
        "# 학습 데이터는 0 부터 10까지, 테스트 데이터는 0부터 5까지 값을 가지는 데이터 세트로 생성\n",
        "# Scaler클래스의 fit(), transform()은 2차원 이상 데이터만 가능하므로 reshape(-1, 1)로 차원 변경\n",
        "train_array = np.arange(0, 11).reshape(-1, 1)\n",
        "test_array =  np.arange(0, 6).reshape(-1, 1)"
      ],
      "metadata": {
        "id": "3f2XLhEOne7l"
      },
      "execution_count": 55,
      "outputs": []
    },
    {
      "cell_type": "code",
      "source": [
        "# 최소값 0, 최대값 1로 변환하는 MinMaxScaler객체 생성\n",
        "scaler = MinMaxScaler()\n",
        "\n",
        "# fit()하게 되면 train_array 데이터의 최소값이 0, 최대값이 10으로 설정.  \n",
        "scaler.fit(train_array)\n",
        "\n",
        "# 1/10 scale로 train_array 데이터 변환함\n",
        "train_scaled = scaler.transform(train_array)\n",
        " \n",
        "print('원본 train_array 데이터 : ', np.round(train_array.reshape(-1), 2))\n",
        "print('Scale된 train_array 데이터 : ', np.round(train_scaled.reshape(-1), 2))"
      ],
      "metadata": {
        "colab": {
          "base_uri": "https://localhost:8080/"
        },
        "id": "f5kiEFDqnomk",
        "outputId": "28c3e29d-7779-4bf1-bdb4-b0273fb998c3"
      },
      "execution_count": 56,
      "outputs": [
        {
          "output_type": "stream",
          "name": "stdout",
          "text": [
            "원본 train_array 데이터 :  [ 0  1  2  3  4  5  6  7  8  9 10]\n",
            "Scale된 train_array 데이터 :  [0.  0.1 0.2 0.3 0.4 0.5 0.6 0.7 0.8 0.9 1. ]\n"
          ]
        }
      ]
    },
    {
      "cell_type": "code",
      "source": [
        "# 앞에서 생성한 MinMaxScaler에 test_array를 fit()하게 되면 원본 데이터의 최소값이 0, 최대값이 5으로 설정됨 \n",
        "scaler.fit(test_array)\n",
        "\n",
        "# 1/5 scale로 test_array 데이터 변환함\n",
        "test_scaled = scaler.transform(test_array)\n",
        "\n",
        "# train_array 변환 출력\n",
        "print('원본 test_array 데이터:', np.round(test_array.reshape(-1), 2))\n",
        "print('Scale된 test_array 데이터:', np.round(test_scaled.reshape(-1), 2))"
      ],
      "metadata": {
        "colab": {
          "base_uri": "https://localhost:8080/"
        },
        "id": "t-uqpVrNnspB",
        "outputId": "d196eb06-3f34-484d-f787-4098a4828e83"
      },
      "execution_count": 57,
      "outputs": [
        {
          "output_type": "stream",
          "name": "stdout",
          "text": [
            "원본 test_array 데이터: [0 1 2 3 4 5]\n",
            "Scale된 test_array 데이터: [0.  0.2 0.4 0.6 0.8 1. ]\n"
          ]
        }
      ]
    },
    {
      "cell_type": "markdown",
      "source": [
        "- 출력 결과를 확인하면 학습 데이터와 테스트 데이터의 스케일링이 맞지 않음을 확인할 수 있다.\n",
        "- 머신러닝 모델은 학습 데이터를 기반으로 학습되기 때문에 반드시 테스트 데이터는 학습 데이터의 스케일링 기준에 따라야 한다. "
      ],
      "metadata": {
        "id": "d4b3p2yrnz2r"
      }
    },
    {
      "cell_type": "code",
      "source": [
        "scaler = MinMaxScaler()\n",
        "scaler.fit(train_array)\n",
        "train_scaled = scaler.transform(train_array)\n",
        "\n",
        "print('원본 train_array 데이터:', np.round(train_array.reshape(-1), 2))\n",
        "print('Scale된 train_array 데이터:', np.round(train_scaled.reshape(-1), 2))\n",
        "\n",
        "# scaler.fit(test_array) 하지 않음\n",
        "# test_array에 Scale 변환을 할 때는 반드시 fit()을 호출하지 않고 transform() 만으로 변환해야 함. \n",
        "test_scaled = scaler.transform(test_array)\n",
        "print('\\n원본 test_array 데이터:', np.round(test_array.reshape(-1), 2))\n",
        "print('Scale된 test_array 데이터:', np.round(test_scaled.reshape(-1), 2))"
      ],
      "metadata": {
        "colab": {
          "base_uri": "https://localhost:8080/"
        },
        "id": "6goGQd4An1Zi",
        "outputId": "48f6712d-be8a-4d2b-f211-5272fc24525d"
      },
      "execution_count": 58,
      "outputs": [
        {
          "output_type": "stream",
          "name": "stdout",
          "text": [
            "원본 train_array 데이터: [ 0  1  2  3  4  5  6  7  8  9 10]\n",
            "Scale된 train_array 데이터: [0.  0.1 0.2 0.3 0.4 0.5 0.6 0.7 0.8 0.9 1. ]\n",
            "\n",
            "원본 test_array 데이터: [0 1 2 3 4 5]\n",
            "Scale된 test_array 데이터: [0.  0.1 0.2 0.3 0.4 0.5]\n"
          ]
        }
      ]
    },
    {
      "cell_type": "markdown",
      "source": [
        "따라서 다음과 같은 점들에 유의하여 스케일링해야 한다.\n",
        "1. 전체 데이터의 스케일링 변환을 적용한 뒤 학습과 테스트 데이터로 분리\n",
        "2. 1이 불가능할 경우, 테스트 데이터 변환 시에는 `fit()`이나 `fit_transform()`을 적용하지 않고 **학습 데이터로 이미 fit()된 Scalar 객체를 이용**해 `transform()`으로 변환"
      ],
      "metadata": {
        "id": "jakcqlnXoA80"
      }
    }
  ]
}