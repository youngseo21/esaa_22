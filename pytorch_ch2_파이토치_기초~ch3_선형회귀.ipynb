{
  "nbformat": 4,
  "nbformat_minor": 0,
  "metadata": {
    "colab": {
      "provenance": [],
      "authorship_tag": "ABX9TyMdEdr5R9KsLap4CmDY8f7W",
      "include_colab_link": true
    },
    "kernelspec": {
      "name": "python3",
      "display_name": "Python 3"
    },
    "language_info": {
      "name": "python"
    }
  },
  "cells": [
    {
      "cell_type": "markdown",
      "metadata": {
        "id": "view-in-github",
        "colab_type": "text"
      },
      "source": [
        "<a href=\"https://colab.research.google.com/github/youngseo21/esaa_22/blob/main/pytorch_ch2_%ED%8C%8C%EC%9D%B4%ED%86%A0%EC%B9%98_%EA%B8%B0%EC%B4%88~ch3_%EC%84%A0%ED%98%95%ED%9A%8C%EA%B7%80.ipynb\" target=\"_parent\"><img src=\"https://colab.research.google.com/assets/colab-badge.svg\" alt=\"Open In Colab\"/></a>"
      ]
    },
    {
      "cell_type": "markdown",
      "source": [
        "# PyTorch로 시작하는 딥 러닝 입문\n",
        "---\n",
        "## ch2 파이토치 기초\n",
        "\n",
        "### 1. 파이토치 패키지의 기본 구성\n",
        "---\n",
        "1. torch\n",
        "2. torch.autograd\n",
        "3. torch.nn\n",
        "4. torch.optim\n",
        "5. torch.utils.data\n",
        "6. torch.onnx"
      ],
      "metadata": {
        "id": "R1LG5UBGe0Ay"
      }
    },
    {
      "cell_type": "markdown",
      "source": [
        "### 2. 텐서 조작하기\n",
        "---"
      ],
      "metadata": {
        "id": "CbLuUCo-gQ21"
      }
    },
    {
      "cell_type": "code",
      "execution_count": 1,
      "metadata": {
        "id": "eSdHDWH5eujI"
      },
      "outputs": [],
      "source": [
        "import numpy as np"
      ]
    },
    {
      "cell_type": "code",
      "source": [
        "t = np.array([0., 1., 2., 3., 4., 5., 6.])\n",
        "# 파이썬으로 설명하면 List를 생성해서 np.array로 1차원 array로 변환함.\n",
        "print(t)"
      ],
      "metadata": {
        "colab": {
          "base_uri": "https://localhost:8080/"
        },
        "id": "LE4_7pHojE3d",
        "outputId": "12dd3a34-55ea-424f-8e75-b05c16851d0b"
      },
      "execution_count": 2,
      "outputs": [
        {
          "output_type": "stream",
          "name": "stdout",
          "text": [
            "[0. 1. 2. 3. 4. 5. 6.]\n"
          ]
        }
      ]
    },
    {
      "cell_type": "code",
      "source": [
        "print('Rank of t: ', t.ndim)\n",
        "print('Shape of t: ', t.shape)"
      ],
      "metadata": {
        "colab": {
          "base_uri": "https://localhost:8080/"
        },
        "id": "qblOdlcWjL1R",
        "outputId": "f0fa4b9f-bf12-4dd1-d057-5e898cec3382"
      },
      "execution_count": 3,
      "outputs": [
        {
          "output_type": "stream",
          "name": "stdout",
          "text": [
            "Rank of t:  1\n",
            "Shape of t:  (7,)\n"
          ]
        }
      ]
    },
    {
      "cell_type": "markdown",
      "source": [
        "+ (7, )는 (1, 7)을 의미합니다. 다시 말해 (1 × 7)의 크기를 가지는 벡터"
      ],
      "metadata": {
        "id": "fjgQQpTsjTL-"
      }
    },
    {
      "cell_type": "code",
      "source": [
        "import torch"
      ],
      "metadata": {
        "id": "dW64raE8jVSu"
      },
      "execution_count": 4,
      "outputs": []
    },
    {
      "cell_type": "code",
      "source": [
        "# 1D with Pytorch\n",
        "t = torch.FloatTensor([0., 1., 2., 3., 4., 5., 6.])\n",
        "print(t)"
      ],
      "metadata": {
        "colab": {
          "base_uri": "https://localhost:8080/"
        },
        "id": "tpyap0Gejpog",
        "outputId": "9e6c83f2-52c5-419a-b77a-fd52efb1ddf0"
      },
      "execution_count": 6,
      "outputs": [
        {
          "output_type": "stream",
          "name": "stdout",
          "text": [
            "tensor([0., 1., 2., 3., 4., 5., 6.])\n"
          ]
        }
      ]
    },
    {
      "cell_type": "code",
      "source": [
        "print(t.dim()) # rank. 즉 차원\n",
        "print(t.shape) # shape 괄호 없이\n",
        "print(t.size()) # shape"
      ],
      "metadata": {
        "colab": {
          "base_uri": "https://localhost:8080/"
        },
        "id": "8lbTVCDzjzB-",
        "outputId": "64288c6e-1bdb-4f7f-f12d-a4b70bba58e7"
      },
      "execution_count": 10,
      "outputs": [
        {
          "output_type": "stream",
          "name": "stdout",
          "text": [
            "1\n",
            "torch.Size([7])\n",
            "torch.Size([7])\n"
          ]
        }
      ]
    },
    {
      "cell_type": "code",
      "source": [
        "print(t[0], t[1], t[-1])  # 인덱스로 접근\n",
        "print(t[2:5], t[4:-1])    # 슬라이싱\n",
        "print(t[:2], t[3:])       # 슬라이싱"
      ],
      "metadata": {
        "colab": {
          "base_uri": "https://localhost:8080/"
        },
        "id": "NGit-We2kXyp",
        "outputId": "5d05ef8e-65d6-4915-8fe0-54419690efbe"
      },
      "execution_count": 11,
      "outputs": [
        {
          "output_type": "stream",
          "name": "stdout",
          "text": [
            "tensor(0.) tensor(1.) tensor(6.)\n",
            "tensor([2., 3., 4.]) tensor([4., 5.])\n",
            "tensor([0., 1.]) tensor([3., 4., 5., 6.])\n"
          ]
        }
      ]
    },
    {
      "cell_type": "code",
      "source": [
        "# 2D with Pytorch\n",
        "t = torch.FloatTensor([[1., 2., 3.],\n",
        "                       [4., 5., 6.],\n",
        "                       [7., 8., 9.],\n",
        "                       [10., 11., 12.]\n",
        "                      ])\n",
        "print(t)"
      ],
      "metadata": {
        "colab": {
          "base_uri": "https://localhost:8080/"
        },
        "id": "QImXaj7ykjo7",
        "outputId": "520e875f-7401-4005-b4a9-c92ce85195f5"
      },
      "execution_count": 12,
      "outputs": [
        {
          "output_type": "stream",
          "name": "stdout",
          "text": [
            "tensor([[ 1.,  2.,  3.],\n",
            "        [ 4.,  5.,  6.],\n",
            "        [ 7.,  8.,  9.],\n",
            "        [10., 11., 12.]])\n"
          ]
        }
      ]
    },
    {
      "cell_type": "code",
      "source": [
        "print(t.dim())  # rank. 즉, 차원\n",
        "print(t.size()) # shape"
      ],
      "metadata": {
        "colab": {
          "base_uri": "https://localhost:8080/"
        },
        "id": "ucM3O0G0kqJq",
        "outputId": "0ba5b39b-153d-46df-91f9-49b2c4a2ff25"
      },
      "execution_count": 13,
      "outputs": [
        {
          "output_type": "stream",
          "name": "stdout",
          "text": [
            "2\n",
            "torch.Size([4, 3])\n"
          ]
        }
      ]
    },
    {
      "cell_type": "code",
      "source": [
        "print(t[:, 1]) # 첫번째 차원을 전체 선택한 상황에서 두번째 차원의 첫번째 것만 가져온다.\n",
        "print(t[:, 1].size()) # ↑ 위의 경우의 크기"
      ],
      "metadata": {
        "colab": {
          "base_uri": "https://localhost:8080/"
        },
        "id": "2R4qdhvMkvBk",
        "outputId": "dc15f8ff-6be1-4689-f2c1-dc42195fac6b"
      },
      "execution_count": 14,
      "outputs": [
        {
          "output_type": "stream",
          "name": "stdout",
          "text": [
            "tensor([ 2.,  5.,  8., 11.])\n",
            "torch.Size([4])\n"
          ]
        }
      ]
    },
    {
      "cell_type": "code",
      "source": [
        "print(t[:, :-1]) # 첫번째 차원을 전체 선택한 상황에서 두번째 차원에서는 맨 마지막에서 첫번째를 제외하고 다 가져온다."
      ],
      "metadata": {
        "colab": {
          "base_uri": "https://localhost:8080/"
        },
        "id": "3IIC9JKAk2Cl",
        "outputId": "2034c730-d822-400a-8f91-18032a54158c"
      },
      "execution_count": 15,
      "outputs": [
        {
          "output_type": "stream",
          "name": "stdout",
          "text": [
            "tensor([[ 1.,  2.],\n",
            "        [ 4.,  5.],\n",
            "        [ 7.,  8.],\n",
            "        [10., 11.]])\n"
          ]
        }
      ]
    },
    {
      "cell_type": "markdown",
      "source": [
        "+ 브로드케스팅"
      ],
      "metadata": {
        "id": "MskiVmtpnIsw"
      }
    },
    {
      "cell_type": "code",
      "source": [
        "# Vector + scalar\n",
        "m1 = torch.FloatTensor([[1, 2]])\n",
        "m2 = torch.FloatTensor([3]) # [3] -> [3, 3]\n",
        "print(m1 + m2)"
      ],
      "metadata": {
        "colab": {
          "base_uri": "https://localhost:8080/"
        },
        "id": "slpVvwoSk6vK",
        "outputId": "231c8190-b925-451d-d1c5-682d96491f9c"
      },
      "execution_count": 16,
      "outputs": [
        {
          "output_type": "stream",
          "name": "stdout",
          "text": [
            "tensor([[4., 5.]])\n"
          ]
        }
      ]
    },
    {
      "cell_type": "code",
      "source": [
        "# 2 x 1 Vector + 1 x 2 Vector\n",
        "m1 = torch.FloatTensor([[1, 2]]) # (1,2) -> (2,2)\n",
        "m2 = torch.FloatTensor([[3], [4]]) # (2,1) -> (2,2)\n",
        "print(m1 + m2)"
      ],
      "metadata": {
        "colab": {
          "base_uri": "https://localhost:8080/"
        },
        "id": "hT9VJatZmzJ0",
        "outputId": "fbef77c8-eca6-4455-8eba-c7bd2e1a0214"
      },
      "execution_count": 17,
      "outputs": [
        {
          "output_type": "stream",
          "name": "stdout",
          "text": [
            "tensor([[4., 5.],\n",
            "        [5., 6.]])\n"
          ]
        }
      ]
    },
    {
      "cell_type": "code",
      "source": [
        "# 브로드캐스팅 과정에서 실제로 두 텐서가 어떻게 변경되는지 보겠습니다.\n",
        "[1, 2]\n",
        "==> [[1, 2],\n",
        "     [1, 2]]\n",
        "[3]\n",
        "[4]\n",
        "==> [[3, 3],\n",
        "     [4, 4]]"
      ],
      "metadata": {
        "id": "P-DJxBWkm1JM"
      },
      "execution_count": null,
      "outputs": []
    },
    {
      "cell_type": "markdown",
      "source": [
        "+ 자주 사용되는 기능들"
      ],
      "metadata": {
        "id": "Vudpl30YnLwV"
      }
    },
    {
      "cell_type": "code",
      "source": [
        "# 행렬 곱셈과 곱셈의 차이(Matrix Multiplication Vs. Multiplication)\n",
        "# 행렬 곱셈(.matmul) \n",
        "m1 = torch.FloatTensor([[1, 2], [3, 4]])\n",
        "m2 = torch.FloatTensor([[1], [2]])\n",
        "print('Shape of Matrix 1: ', m1.shape) # 2 x 2\n",
        "print('Shape of Matrix 2: ', m2.shape) # 2 x 1\n",
        "print(m1.matmul(m2)) # 2 x 1"
      ],
      "metadata": {
        "colab": {
          "base_uri": "https://localhost:8080/"
        },
        "id": "uCxm7MAnm2pb",
        "outputId": "81a7f2f7-e42c-4a0c-8b6c-eae02942c4c3"
      },
      "execution_count": 18,
      "outputs": [
        {
          "output_type": "stream",
          "name": "stdout",
          "text": [
            "Shape of Matrix 1:  torch.Size([2, 2])\n",
            "Shape of Matrix 2:  torch.Size([2, 1])\n",
            "tensor([[ 5.],\n",
            "        [11.]])\n"
          ]
        }
      ]
    },
    {
      "cell_type": "code",
      "source": [
        "# 원소 별 곱셈(.mul)\n",
        "m1 = torch.FloatTensor([[1, 2], [3, 4]])\n",
        "m2 = torch.FloatTensor([[1], [2]])\n",
        "print('Shape of Matrix 1: ', m1.shape) # 2 x 2\n",
        "print('Shape of Matrix 2: ', m2.shape) # 2 x 1\n",
        "print(m1 * m2) # 2 x 2\n",
        "print(m1.mul(m2))"
      ],
      "metadata": {
        "colab": {
          "base_uri": "https://localhost:8080/"
        },
        "id": "SWAXo66moAc-",
        "outputId": "844229b5-a5b2-4106-f2fc-f2620e8d78ff"
      },
      "execution_count": 19,
      "outputs": [
        {
          "output_type": "stream",
          "name": "stdout",
          "text": [
            "Shape of Matrix 1:  torch.Size([2, 2])\n",
            "Shape of Matrix 2:  torch.Size([2, 1])\n",
            "tensor([[1., 2.],\n",
            "        [6., 8.]])\n",
            "tensor([[1., 2.],\n",
            "        [6., 8.]])\n"
          ]
        }
      ]
    },
    {
      "cell_type": "code",
      "source": [
        "# 평균 .mean()\n",
        "t = torch.FloatTensor([1, 2])\n",
        "print(t.mean())"
      ],
      "metadata": {
        "colab": {
          "base_uri": "https://localhost:8080/"
        },
        "id": "x8ibGJrnoK_p",
        "outputId": "de0367f5-3978-49d0-d661-52fbcb85efbe"
      },
      "execution_count": 20,
      "outputs": [
        {
          "output_type": "stream",
          "name": "stdout",
          "text": [
            "tensor(1.5000)\n"
          ]
        }
      ]
    },
    {
      "cell_type": "code",
      "source": [
        "t = torch.FloatTensor([[1, 2], [3, 4]])\n",
        "print(t)"
      ],
      "metadata": {
        "colab": {
          "base_uri": "https://localhost:8080/"
        },
        "id": "hU239pVLoSrv",
        "outputId": "a4501cfb-61fc-4180-e6fc-a3765f7f3676"
      },
      "execution_count": 21,
      "outputs": [
        {
          "output_type": "stream",
          "name": "stdout",
          "text": [
            "tensor([[1., 2.],\n",
            "        [3., 4.]])\n"
          ]
        }
      ]
    },
    {
      "cell_type": "code",
      "source": [
        "print(t.mean()) # 4개의 원소의 평균인 2.5"
      ],
      "metadata": {
        "colab": {
          "base_uri": "https://localhost:8080/"
        },
        "id": "hfXdbtMToU0_",
        "outputId": "4fda7de7-5739-40d9-e796-232ffa7bcbb2"
      },
      "execution_count": 22,
      "outputs": [
        {
          "output_type": "stream",
          "name": "stdout",
          "text": [
            "tensor(2.5000)\n"
          ]
        }
      ]
    },
    {
      "cell_type": "code",
      "source": [
        "print(t.mean(dim=0)) # 차원(dimension)을 인자로, dim=0이라는 것은 첫번째 차원"
      ],
      "metadata": {
        "colab": {
          "base_uri": "https://localhost:8080/"
        },
        "id": "-GeMxBdToahU",
        "outputId": "871c3c77-bead-4d8d-9249-221715255f43"
      },
      "execution_count": 23,
      "outputs": [
        {
          "output_type": "stream",
          "name": "stdout",
          "text": [
            "tensor([2., 3.])\n"
          ]
        }
      ]
    },
    {
      "cell_type": "code",
      "source": [
        "# 실제 연산 과정\n",
        "t.mean(dim=0) #은 입력에서 첫번째 차원을 제거한다.\n",
        "\n",
        "[[1., 2.],\n",
        " [3., 4.]]\n",
        "\n",
        "1과 3의 평균을 구하고, 2와 4의 평균을 구한다.\n",
        "결과 ==> [2., 3.]"
      ],
      "metadata": {
        "id": "9KMzPB9mxMCB"
      },
      "execution_count": null,
      "outputs": []
    },
    {
      "cell_type": "code",
      "source": [
        "print(t.mean(dim=1))"
      ],
      "metadata": {
        "colab": {
          "base_uri": "https://localhost:8080/"
        },
        "id": "yMcr32mdxTAq",
        "outputId": "8af42e18-e3db-4202-e7af-c8bd92a5e82e"
      },
      "execution_count": 24,
      "outputs": [
        {
          "output_type": "stream",
          "name": "stdout",
          "text": [
            "tensor([1.5000, 3.5000])\n"
          ]
        }
      ]
    },
    {
      "cell_type": "code",
      "source": [
        "# 실제 연산 결과는 (2 × 1)\n",
        "[[1.5]\n",
        "[3.5]]\n",
        "# 하지만 (2 × 1)은 결국 1차원이므로 (1 × 2)와 같이 표현되면서 위와 같이 [1.5, 3.5]로 출력"
      ],
      "metadata": {
        "id": "VnZHBYpbxnnT"
      },
      "execution_count": null,
      "outputs": []
    },
    {
      "cell_type": "code",
      "source": [
        "print(t.mean(dim=-1))"
      ],
      "metadata": {
        "colab": {
          "base_uri": "https://localhost:8080/"
        },
        "id": "fit9-h1pxuNG",
        "outputId": "01a627f3-0e01-4675-c4da-a38de500f6eb"
      },
      "execution_count": 25,
      "outputs": [
        {
          "output_type": "stream",
          "name": "stdout",
          "text": [
            "tensor([1.5000, 3.5000])\n"
          ]
        }
      ]
    },
    {
      "cell_type": "code",
      "source": [
        "# 덧셈 .sum()\n",
        "t = torch.FloatTensor([[1, 2], [3, 4]])\n",
        "print(t)\n",
        "\n",
        "print(t.sum()) # 단순히 원소 전체의 덧셈을 수행\n",
        "print(t.sum(dim=0)) # 행을 제거\n",
        "print(t.sum(dim=1)) # 열을 제거\n",
        "print(t.sum(dim=-1)) # 열을 제거"
      ],
      "metadata": {
        "colab": {
          "base_uri": "https://localhost:8080/"
        },
        "id": "d0HtdchpxwFc",
        "outputId": "d439410f-debd-430a-9f87-e3a5fe5be273"
      },
      "execution_count": 26,
      "outputs": [
        {
          "output_type": "stream",
          "name": "stdout",
          "text": [
            "tensor([[1., 2.],\n",
            "        [3., 4.]])\n",
            "tensor(10.)\n",
            "tensor([4., 6.])\n",
            "tensor([3., 7.])\n",
            "tensor([3., 7.])\n"
          ]
        }
      ]
    },
    {
      "cell_type": "code",
      "source": [
        "# 최대(Max)와 아그맥스(ArgMax)\n",
        "t = torch.FloatTensor([[1, 2], [3, 4]])\n",
        "print(t)\n",
        "\n",
        "print(t.max()) # Returns one value: max\n",
        "print(t.max(dim=0)) # Returns two values: max and argmax # . max에 dim 인자를 주면 argmax도 함께 리턴"
      ],
      "metadata": {
        "colab": {
          "base_uri": "https://localhost:8080/"
        },
        "id": "PDpM3i3QyK7Z",
        "outputId": "e3ce1268-53c7-46bf-a29b-1dcc63881eca"
      },
      "execution_count": 28,
      "outputs": [
        {
          "output_type": "stream",
          "name": "stdout",
          "text": [
            "tensor([[1., 2.],\n",
            "        [3., 4.]])\n",
            "tensor(4.)\n",
            "torch.return_types.max(\n",
            "values=tensor([3., 4.]),\n",
            "indices=tensor([1, 1]))\n"
          ]
        }
      ]
    },
    {
      "cell_type": "code",
      "source": [
        "print('Max: ', t.max(dim=0)[0]) # 0번 인덱스를 사용하면 max 값만\n",
        "print('Argmax: ', t.max(dim=0)[1]) # 1번 인덱스를 사용하면 argmax 값만"
      ],
      "metadata": {
        "colab": {
          "base_uri": "https://localhost:8080/"
        },
        "id": "XAs4s3EazABP",
        "outputId": "184111ff-0f20-4ef1-b658-97b206b9fcc8"
      },
      "execution_count": 29,
      "outputs": [
        {
          "output_type": "stream",
          "name": "stdout",
          "text": [
            "Max:  tensor([3., 4.])\n",
            "Argmax:  tensor([1, 1])\n"
          ]
        }
      ]
    },
    {
      "cell_type": "code",
      "source": [
        "print(t.max(dim=1))\n",
        "print(t.max(dim=-1))"
      ],
      "metadata": {
        "colab": {
          "base_uri": "https://localhost:8080/"
        },
        "id": "C0mEKw84zJ2E",
        "outputId": "f5df106a-b8d2-44fd-b4a4-afcfcbf95e16"
      },
      "execution_count": 30,
      "outputs": [
        {
          "output_type": "stream",
          "name": "stdout",
          "text": [
            "torch.return_types.max(\n",
            "values=tensor([2., 4.]),\n",
            "indices=tensor([1, 1]))\n",
            "torch.return_types.max(\n",
            "values=tensor([2., 4.]),\n",
            "indices=tensor([1, 1]))\n"
          ]
        }
      ]
    },
    {
      "cell_type": "markdown",
      "source": [
        "  + 데이터사이언스 분야 한정으로 3차원 이상의 텐서는 그냥 다차원 행렬 또는 배열로 간주할 수 있습니다. 또한 주로 3차원 이상을 텐서라고 하긴 하지만, 1차원 벡터나 2차원인 행렬도 텐서라고 표현하기도 합니다. 같은 표현입니다. 벡터 = 1차원 텐서, 2차원 행렬 = 2차원 텐서, 그리고 3차원 텐서, 4차원 텐서, 5차원 텐서 등...\n",
        "\n",
        "  + 훈련 데이터 하나의 크기를 256이라고 해봅시다. [3, 1, 2, 5, ...] 이런 숫자들의 나열이 256의 길이로 있다고 상상하면됩니다. 다시 말해 훈련 데이터 하나 = 벡터의 차원은 256입니다. 만약 이런 훈련 데이터의 개수가 3000개라고 한다면, 현재 전체 훈련 데이터의 크기는 3,000 × 256입니다. 행렬이니까 2D 텐서네요. 3,000개를 1개씩 꺼내서 처리하는 것도 가능하지만 컴퓨터는 훈련 데이터를 하나씩 처리하는 것보다 보통 덩어리로 처리합니다. 3,000개에서 64개씩 꺼내서 처리한다고 한다면 이 때 batch size를 64라고 합니다. 그렇다면 컴퓨터가 한 번에 처리하는 2D 텐서의 크기는 (batch size × dim) = 64 × 256입니다.\n",
        "\n",
        "+ 텐서의 크기(shape)를 표현할 때는 ,(컴마)를 쓰기도 하고 ×(곱하기)를 쓰기도 합니다. 예를 들어 2행 3열의 2D 텐서를 표현할 때 (2, 3)라고 하기도 하고 (2 × 3)이라고 하기도 합니다. (5, )의 형식은 (1 × 5)를 의미합니다.\n",
        "\n",
        "+ 훈련 데이터의 개수가 굉장히 많을 때, 컴퓨터가 한 번에 들고가서 처리할 양을 배치 크기(batch size)라고 합니다.\n",
        "\n",
        "+ 슬라이싱에 대한 다른 예제 : https://wikidocs.net/13\n",
        "\n",
        "+ Pytorch 텐서에 대한 다양한 예제 : https://datascienceschool.net/view-notebook/4f3606fd839f4320a4120a56eec1e228/"
      ],
      "metadata": {
        "id": "8GgrH_R10tek"
      }
    },
    {
      "cell_type": "markdown",
      "source": [
        "+ View - 원소의 수를 유지하면서 텐서의 크기 변경. 매우 중요!"
      ],
      "metadata": {
        "id": "mVQYbUaj00Dn"
      }
    },
    {
      "cell_type": "code",
      "source": [
        "t = np.array([[[0, 1, 2],\n",
        "               [3, 4, 5]],\n",
        "              [[6, 7, 8],\n",
        "               [9, 10, 11]]])\n",
        "ft = torch.FloatTensor(t) # 3차원 텐서"
      ],
      "metadata": {
        "id": "tFa900Yo04-K"
      },
      "execution_count": 31,
      "outputs": []
    },
    {
      "cell_type": "code",
      "source": [
        "print(ft.shape)"
      ],
      "metadata": {
        "colab": {
          "base_uri": "https://localhost:8080/"
        },
        "id": "8iqZR92u0_cH",
        "outputId": "3071aac4-9ca3-4abe-a5cc-7495773a953e"
      },
      "execution_count": 32,
      "outputs": [
        {
          "output_type": "stream",
          "name": "stdout",
          "text": [
            "torch.Size([2, 2, 3])\n"
          ]
        }
      ]
    },
    {
      "cell_type": "code",
      "source": [
        "# 3차원 텐서에서 2차원 텐서로 변경\n",
        "print(ft.view([-1, 3])) # ft라는 텐서를 (?, 3)의 크기로 변경\n",
        "print(ft.view([-1, 3]).shape) # (2, 2, 3) -> (2 × 2, 3) -> (4, 3)"
      ],
      "metadata": {
        "colab": {
          "base_uri": "https://localhost:8080/"
        },
        "id": "q9djo3Bf11VU",
        "outputId": "b26c0fe5-f5ee-4c87-e661-16e79a89be2d"
      },
      "execution_count": 33,
      "outputs": [
        {
          "output_type": "stream",
          "name": "stdout",
          "text": [
            "tensor([[ 0.,  1.,  2.],\n",
            "        [ 3.,  4.,  5.],\n",
            "        [ 6.,  7.,  8.],\n",
            "        [ 9., 10., 11.]])\n",
            "torch.Size([4, 3])\n"
          ]
        }
      ]
    },
    {
      "cell_type": "markdown",
      "source": [
        "+ view는 기본적으로 변경 전과 변경 후의 텐서 안의 원소의 개수가 유지되어야 합니다.\n",
        "+ ex.) 변경 전 텐서의 원소의 수는 (2 × 2 × 3) = 12개였습니다. 그리고 변경 후 텐서의 원소의 개수 또한 (4 × 3) = 12개\n",
        "+ 파이토치의 view는 사이즈가 -1로 설정되면 다른 차원으로부터 해당 값을 유추합니다."
      ],
      "metadata": {
        "id": "6j76fcAZ2C-v"
      }
    },
    {
      "cell_type": "code",
      "source": [
        "# 3차원 텐서의 크기 변경\n",
        "# (2 × 2 × 3) 텐서를 (? × 1 × 3) 텐서로 변경\n",
        "# (2 × 2 × 3) = (? × 1 × 3) = 12를 만족해야 하므로 ?는 4가 됩니다\n",
        "print(ft.view([-1, 1, 3]))\n",
        "print(ft.view([-1, 1, 3]).shape)"
      ],
      "metadata": {
        "colab": {
          "base_uri": "https://localhost:8080/"
        },
        "id": "mvlpw7dy2m8D",
        "outputId": "7601657b-4240-4162-ac7f-e03b2f1f2b56"
      },
      "execution_count": 34,
      "outputs": [
        {
          "output_type": "stream",
          "name": "stdout",
          "text": [
            "tensor([[[ 0.,  1.,  2.]],\n",
            "\n",
            "        [[ 3.,  4.,  5.]],\n",
            "\n",
            "        [[ 6.,  7.,  8.]],\n",
            "\n",
            "        [[ 9., 10., 11.]]])\n",
            "torch.Size([4, 1, 3])\n"
          ]
        }
      ]
    },
    {
      "cell_type": "markdown",
      "source": [
        "+ 스퀴즈(Squeeze) - 1인 차원을 제거한다."
      ],
      "metadata": {
        "id": "wWUBRHXO268_"
      }
    },
    {
      "cell_type": "code",
      "source": [
        "ft = torch.FloatTensor([[0], [1], [2]])\n",
        "print(ft)\n",
        "print(ft.shape)"
      ],
      "metadata": {
        "colab": {
          "base_uri": "https://localhost:8080/"
        },
        "id": "Lrh5Wkf63Gw3",
        "outputId": "ddcd82e8-b8b7-460d-f9da-1762d2bbe71a"
      },
      "execution_count": 35,
      "outputs": [
        {
          "output_type": "stream",
          "name": "stdout",
          "text": [
            "tensor([[0.],\n",
            "        [1.],\n",
            "        [2.]])\n",
            "torch.Size([3, 1])\n"
          ]
        }
      ]
    },
    {
      "cell_type": "code",
      "source": [
        "# 두번째 차원이 1이므로 squeeze를 사용하면 (3,)의 크기를 가지는 텐서로 변경\n",
        "print(ft.squeeze())\n",
        "print(ft.squeeze().shape)"
      ],
      "metadata": {
        "colab": {
          "base_uri": "https://localhost:8080/"
        },
        "id": "5nzQ4iBD3POd",
        "outputId": "890fc7a7-8c41-4694-fe88-9509a7a16bcd"
      },
      "execution_count": 36,
      "outputs": [
        {
          "output_type": "stream",
          "name": "stdout",
          "text": [
            "tensor([0., 1., 2.])\n",
            "torch.Size([3])\n"
          ]
        }
      ]
    },
    {
      "cell_type": "markdown",
      "source": [
        "+ 언스퀴즈(Unsqueeze) - 특정 위치에 1인 차원을 추가한다."
      ],
      "metadata": {
        "id": "hkpS3KAc3VB1"
      }
    },
    {
      "cell_type": "code",
      "source": [
        "ft = torch.Tensor([0, 1, 2])\n",
        "print(ft.shape)"
      ],
      "metadata": {
        "colab": {
          "base_uri": "https://localhost:8080/"
        },
        "id": "8iIsr_zQ3UdG",
        "outputId": "fb70c035-5bbd-4631-8fd0-fc8495bbb8d0"
      },
      "execution_count": 37,
      "outputs": [
        {
          "output_type": "stream",
          "name": "stdout",
          "text": [
            "torch.Size([3])\n"
          ]
        }
      ]
    },
    {
      "cell_type": "code",
      "source": [
        "print(ft.unsqueeze(0)) # 인덱스가 0부터 시작하므로 0은 첫번째 차원을 의미한다.\n",
        "print(ft.unsqueeze(0).shape)"
      ],
      "metadata": {
        "colab": {
          "base_uri": "https://localhost:8080/"
        },
        "id": "KPyhYNwh3R3F",
        "outputId": "80cc5ee7-27c2-47be-d6a0-fdb59a0c5f6f"
      },
      "execution_count": 38,
      "outputs": [
        {
          "output_type": "stream",
          "name": "stdout",
          "text": [
            "tensor([[0., 1., 2.]])\n",
            "torch.Size([1, 3])\n"
          ]
        }
      ]
    },
    {
      "cell_type": "code",
      "source": [
        "# view로도 구현 가능합니다. 2차원으로 바꾸고 싶으면서 첫번째 차원은 1이기를 원한다면 view에서 (1, -1)을 인자로 사용\n",
        "print(ft.view(1, -1))\n",
        "print(ft.view(1, -1).shape)"
      ],
      "metadata": {
        "colab": {
          "base_uri": "https://localhost:8080/"
        },
        "id": "YC7KD7ba31Fk",
        "outputId": "40602440-f9fd-4f4b-f4dc-5b51254ad482"
      },
      "execution_count": 39,
      "outputs": [
        {
          "output_type": "stream",
          "name": "stdout",
          "text": [
            "tensor([[0., 1., 2.]])\n",
            "torch.Size([1, 3])\n"
          ]
        }
      ]
    },
    {
      "cell_type": "code",
      "source": [
        "print(ft.unsqueeze(1)) # 현재 크기는 (3,)이었으므로 두번째 차원에 1인 차원을 추가하면 (3, 1)의 크기를 가지게 됩니다\n",
        "print(ft.unsqueeze(1).shape)"
      ],
      "metadata": {
        "colab": {
          "base_uri": "https://localhost:8080/"
        },
        "id": "lsZnJoF94LJx",
        "outputId": "541b3056-8b20-4504-bf16-6ee36dddcbd3"
      },
      "execution_count": 40,
      "outputs": [
        {
          "output_type": "stream",
          "name": "stdout",
          "text": [
            "tensor([[0.],\n",
            "        [1.],\n",
            "        [2.]])\n",
            "torch.Size([3, 1])\n"
          ]
        }
      ]
    },
    {
      "cell_type": "code",
      "source": [
        "print(ft.unsqueeze(-1))\n",
        "print(ft.unsqueeze(-1).shape)"
      ],
      "metadata": {
        "colab": {
          "base_uri": "https://localhost:8080/"
        },
        "id": "dm5olI644Xhs",
        "outputId": "f9cb8d8b-9f1d-41b6-9286-ef112e055c48"
      },
      "execution_count": 41,
      "outputs": [
        {
          "output_type": "stream",
          "name": "stdout",
          "text": [
            "tensor([[0.],\n",
            "        [1.],\n",
            "        [2.]])\n",
            "torch.Size([3, 1])\n"
          ]
        }
      ]
    },
    {
      "cell_type": "markdown",
      "source": [
        "+ 타입 캐스팅(Type Casting)\n",
        "\n",
        "\n",
        "+ ![image.png](data:image/png;base64,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) \n",
        "+ 텐서에는 자료형이라는 것이 있습니다. 각 데이터형별로 정의되어져 있는데, 예를 들어 32비트의 부동 소수점은 torch.FloatTensor를, 64비트의 부호 있는 정수는 torch.LongTensor를 사용합니다. GPU 연산을 위한 자료형도 있습니다. 예를 들어 torch.cuda.FloatTensor가 그 예입니다."
      ],
      "metadata": {
        "id": "d8RTa-c24hth"
      }
    },
    {
      "cell_type": "code",
      "source": [
        "lt = torch.LongTensor([1, 2, 3, 4]) #  long 타입\n",
        "print(lt)"
      ],
      "metadata": {
        "colab": {
          "base_uri": "https://localhost:8080/"
        },
        "id": "7OYLgY3O4Xms",
        "outputId": "a2a2ebb2-8ba7-48c8-a45b-d084d83c547f"
      },
      "execution_count": 42,
      "outputs": [
        {
          "output_type": "stream",
          "name": "stdout",
          "text": [
            "tensor([1, 2, 3, 4])\n"
          ]
        }
      ]
    },
    {
      "cell_type": "code",
      "source": [
        "print(lt.float()) # .float()를 붙이면 바로 float형으로 타입이 변경"
      ],
      "metadata": {
        "colab": {
          "base_uri": "https://localhost:8080/"
        },
        "id": "sa9izcLO5Uad",
        "outputId": "3cb8604a-49ee-454c-9714-894d9b99d8fc"
      },
      "execution_count": 44,
      "outputs": [
        {
          "output_type": "stream",
          "name": "stdout",
          "text": [
            "tensor([1., 2., 3., 4.])\n"
          ]
        }
      ]
    },
    {
      "cell_type": "code",
      "source": [
        "bt = torch.ByteTensor([True, False, False, True]) # Byte 타입\n",
        "print(bt)"
      ],
      "metadata": {
        "colab": {
          "base_uri": "https://localhost:8080/"
        },
        "id": "xPD7tcE35U6T",
        "outputId": "681e44f1-aab0-4107-f9c7-4250f6aa0ecb"
      },
      "execution_count": 46,
      "outputs": [
        {
          "output_type": "stream",
          "name": "stdout",
          "text": [
            "tensor([1, 0, 0, 1], dtype=torch.uint8)\n"
          ]
        }
      ]
    },
    {
      "cell_type": "code",
      "source": [
        "print(bt.long())\n",
        "print(bt.float())"
      ],
      "metadata": {
        "colab": {
          "base_uri": "https://localhost:8080/"
        },
        "id": "Xv-DEYeJ5U_G",
        "outputId": "b4f50f42-53d9-4839-e794-da45b66bb825"
      },
      "execution_count": 47,
      "outputs": [
        {
          "output_type": "stream",
          "name": "stdout",
          "text": [
            "tensor([1, 0, 0, 1])\n",
            "tensor([1., 0., 0., 1.])\n"
          ]
        }
      ]
    },
    {
      "cell_type": "markdown",
      "source": [
        "+ 연결하기(concatenate)"
      ],
      "metadata": {
        "id": "54fBFWEt6Pob"
      }
    },
    {
      "cell_type": "code",
      "source": [
        "x = torch.FloatTensor([[1, 2], [3, 4]])\n",
        "y = torch.FloatTensor([[5, 6], [7, 8]])"
      ],
      "metadata": {
        "id": "lV4x0cI15VER"
      },
      "execution_count": 48,
      "outputs": []
    },
    {
      "cell_type": "code",
      "source": [
        "# torch.cat([ ])를 통해 연결\n",
        "print(torch.cat([x, y], dim=0)) # 두 개의 (2 × 2) 텐서가 (4 × 2) 텐서로"
      ],
      "metadata": {
        "colab": {
          "base_uri": "https://localhost:8080/"
        },
        "id": "ZGsTPIp75VIa",
        "outputId": "e66accee-e6e7-45f1-a994-0f63f235e553"
      },
      "execution_count": 49,
      "outputs": [
        {
          "output_type": "stream",
          "name": "stdout",
          "text": [
            "tensor([[1., 2.],\n",
            "        [3., 4.],\n",
            "        [5., 6.],\n",
            "        [7., 8.]])\n"
          ]
        }
      ]
    },
    {
      "cell_type": "code",
      "source": [
        "print(torch.cat([x, y], dim=1)) # 두 개의 (2 × 2) 텐서가 (2 × 4) 텐서로"
      ],
      "metadata": {
        "colab": {
          "base_uri": "https://localhost:8080/"
        },
        "id": "iVze0ASP5VN4",
        "outputId": "c561616c-4f4a-4240-ab86-d0b10230ef51"
      },
      "execution_count": 50,
      "outputs": [
        {
          "output_type": "stream",
          "name": "stdout",
          "text": [
            "tensor([[1., 2., 5., 6.],\n",
            "        [3., 4., 7., 8.]])\n"
          ]
        }
      ]
    },
    {
      "cell_type": "markdown",
      "source": [
        "+ 스택킹(Stacking)"
      ],
      "metadata": {
        "id": "QNG4_RYb6msW"
      }
    },
    {
      "cell_type": "code",
      "source": [
        "x = torch.FloatTensor([1, 4])\n",
        "y = torch.FloatTensor([2, 5])\n",
        "z = torch.FloatTensor([3, 6])"
      ],
      "metadata": {
        "id": "bQwu4ppJ5VQa"
      },
      "execution_count": 51,
      "outputs": []
    },
    {
      "cell_type": "code",
      "source": [
        "print(torch.stack([x, y, z])) # 위 결과는 3개의 벡터가 순차적으로 쌓여 (3 × 2) 텐서가 됨"
      ],
      "metadata": {
        "colab": {
          "base_uri": "https://localhost:8080/"
        },
        "id": "vGcggjNy4XrU",
        "outputId": "f355e5e5-94c8-436b-bd7b-9d799e7ca1ca"
      },
      "execution_count": 53,
      "outputs": [
        {
          "output_type": "stream",
          "name": "stdout",
          "text": [
            "tensor([[1., 4.],\n",
            "        [2., 5.],\n",
            "        [3., 6.]])\n"
          ]
        }
      ]
    },
    {
      "cell_type": "code",
      "source": [
        "# x, y, z는 기존에는 전부 (2,)의 크기를 가졌습니다. \n",
        "# 그런데 .unsqueeze(0)을 하므로서 3개의 벡터는 전부 (1, 2)의 크기의 2차원 텐서로 변경됩니다. \n",
        "# 여기에 연결(concatenate)를 의미하는 cat을 사용하면 (3 x 2) 텐서가 됩니다.\n",
        "print(torch.cat([x.unsqueeze(0), y.unsqueeze(0), z.unsqueeze(0)], dim=0))"
      ],
      "metadata": {
        "colab": {
          "base_uri": "https://localhost:8080/"
        },
        "id": "nbEQrqd44Xwg",
        "outputId": "1f207cb5-1107-4a26-f078-7658203abcf5"
      },
      "execution_count": 55,
      "outputs": [
        {
          "output_type": "stream",
          "name": "stdout",
          "text": [
            "tensor([[1., 4.],\n",
            "        [2., 5.],\n",
            "        [3., 6.]])\n"
          ]
        }
      ]
    },
    {
      "cell_type": "code",
      "source": [
        "print(torch.stack([x, y, z], dim=1))"
      ],
      "metadata": {
        "colab": {
          "base_uri": "https://localhost:8080/"
        },
        "id": "UzkgRbQF6-Qa",
        "outputId": "f3157573-4ac4-4888-8dbd-56a43a447013"
      },
      "execution_count": 56,
      "outputs": [
        {
          "output_type": "stream",
          "name": "stdout",
          "text": [
            "tensor([[1., 2., 3.],\n",
            "        [4., 5., 6.]])\n"
          ]
        }
      ]
    },
    {
      "cell_type": "markdown",
      "source": [
        "+ ones_like와 zeros_like - 0으로 채워진 텐서와 1로 채워진 텐서"
      ],
      "metadata": {
        "id": "s-999oY67FrR"
      }
    },
    {
      "cell_type": "code",
      "source": [
        "x = torch.FloatTensor([[0, 1, 2], [2, 1, 0]])\n",
        "print(x)"
      ],
      "metadata": {
        "colab": {
          "base_uri": "https://localhost:8080/"
        },
        "id": "H5wkroBc6-y7",
        "outputId": "18f862bc-ec6f-4504-dbdc-b348f8eadcd7"
      },
      "execution_count": 57,
      "outputs": [
        {
          "output_type": "stream",
          "name": "stdout",
          "text": [
            "tensor([[0., 1., 2.],\n",
            "        [2., 1., 0.]])\n"
          ]
        }
      ]
    },
    {
      "cell_type": "code",
      "source": [
        "print(torch.ones_like(x)) # 입력 텐서와 크기를 동일하게 하면서 값을 1로 채우기"
      ],
      "metadata": {
        "colab": {
          "base_uri": "https://localhost:8080/"
        },
        "id": "yYjNjQKd6-3o",
        "outputId": "77ccd538-4b99-4441-fc5b-58e7381e5b30"
      },
      "execution_count": 58,
      "outputs": [
        {
          "output_type": "stream",
          "name": "stdout",
          "text": [
            "tensor([[1., 1., 1.],\n",
            "        [1., 1., 1.]])\n"
          ]
        }
      ]
    },
    {
      "cell_type": "code",
      "source": [
        "print(torch.zeros_like(x)) # 입력 텐서와 크기를 동일하게 하면서 값을 0으로 채우기"
      ],
      "metadata": {
        "colab": {
          "base_uri": "https://localhost:8080/"
        },
        "id": "aKQ33_A66_F1",
        "outputId": "5a8e83c2-18bd-4c5d-cede-bf0915efd351"
      },
      "execution_count": 59,
      "outputs": [
        {
          "output_type": "stream",
          "name": "stdout",
          "text": [
            "tensor([[0., 0., 0.],\n",
            "        [0., 0., 0.]])\n"
          ]
        }
      ]
    },
    {
      "cell_type": "markdown",
      "source": [
        "+ In-place Operation (덮어쓰기 연산)"
      ],
      "metadata": {
        "id": "0opt0Cas7NRk"
      }
    },
    {
      "cell_type": "code",
      "source": [
        "x = torch.FloatTensor([[1, 2], [3, 4]])\n",
        "print(x.mul(2.)) # 곱하기 2를 수행한 결과를 출력\n",
        "print(x) # 기존의 값 출력"
      ],
      "metadata": {
        "colab": {
          "base_uri": "https://localhost:8080/"
        },
        "id": "p0SVPxbR6_c_",
        "outputId": "2031f334-4186-4096-9bb5-aff3a29993b7"
      },
      "execution_count": 60,
      "outputs": [
        {
          "output_type": "stream",
          "name": "stdout",
          "text": [
            "tensor([[2., 4.],\n",
            "        [6., 8.]])\n",
            "tensor([[1., 2.],\n",
            "        [3., 4.]])\n"
          ]
        }
      ]
    },
    {
      "cell_type": "code",
      "source": [
        "# 연산 뒤에 _를 붙이면 기존의 값을 덮어쓰기\n",
        "print(x.mul_(2.))  # 곱하기 2를 수행한 결과를 변수 x에 값을 저장하면서 결과를 출력\n",
        "print(x) # 기존의 값 출력"
      ],
      "metadata": {
        "colab": {
          "base_uri": "https://localhost:8080/"
        },
        "id": "4QT0Zq1z6_h2",
        "outputId": "5ad92004-be6f-4f3f-95ec-36b69576cc4c"
      },
      "execution_count": 61,
      "outputs": [
        {
          "output_type": "stream",
          "name": "stdout",
          "text": [
            "tensor([[2., 4.],\n",
            "        [6., 8.]])\n",
            "tensor([[2., 4.],\n",
            "        [6., 8.]])\n"
          ]
        }
      ]
    },
    {
      "cell_type": "markdown",
      "source": [
        "### 3. 파이썬 클래스 Class\n",
        "---\n",
        "링크 : https://wikidocs.net/28"
      ],
      "metadata": {
        "id": "W6frA0mz7dFm"
      }
    },
    {
      "cell_type": "code",
      "source": [
        "# 1. 함수(function)로 덧셈기 구현하기\n",
        "result = 0\n",
        "def add(num):\n",
        "    global result \n",
        "    result += num\n",
        "    return result\n",
        "print(add(3))\n",
        "print(add(4))"
      ],
      "metadata": {
        "colab": {
          "base_uri": "https://localhost:8080/"
        },
        "id": "KjPOGMRb7caD",
        "outputId": "153ff367-5478-4498-a04b-92e5473113bd"
      },
      "execution_count": 62,
      "outputs": [
        {
          "output_type": "stream",
          "name": "stdout",
          "text": [
            "3\n",
            "7\n"
          ]
        }
      ]
    },
    {
      "cell_type": "code",
      "source": [
        "# 2. 함수(function)로 두 개의 덧셈기 구현하기\n",
        "result1 = 0\n",
        "result2 = 0\n",
        "\n",
        "def add1(num):\n",
        "    global result1\n",
        "    result1 += num\n",
        "    return result1\n",
        "\n",
        "def add2(num):\n",
        "    global result2\n",
        "    result2 += num\n",
        "    return result2\n",
        "\n",
        "print(add1(3))\n",
        "print(add1(4))\n",
        "print(add2(3))\n",
        "print(add2(7))"
      ],
      "metadata": {
        "colab": {
          "base_uri": "https://localhost:8080/"
        },
        "id": "qm8YWLzH6_m1",
        "outputId": "11b45dfa-f1ce-4ce9-d1d8-60d682c56547"
      },
      "execution_count": 63,
      "outputs": [
        {
          "output_type": "stream",
          "name": "stdout",
          "text": [
            "3\n",
            "7\n",
            "3\n",
            "10\n"
          ]
        }
      ]
    },
    {
      "cell_type": "code",
      "source": [
        "# 3. 클래스(class)로 덧셈기 구현하기\n",
        "class Calculator:\n",
        "    def __init__(self): # 객체 생성 시 호출될 때 실행되는 초기화 함수. 이를 생성자라고 한다.\n",
        "        self.result = 0\n",
        "\n",
        "    def add(self, num): # 객체 생성 후 사용할 수 있는 함수.\n",
        "        self.result += num\n",
        "        return self.result"
      ],
      "metadata": {
        "id": "WQdesX1E6_rD"
      },
      "execution_count": 65,
      "outputs": []
    },
    {
      "cell_type": "markdown",
      "source": [
        "+ 클래스는 마치 붕어빵 틀과 같아서 클래스를 생성한 후에는 이걸로 객체라는 것을 만들 수 있습니다. cal1이라는 객체를 만들겠습니다. 이는 붕어빵 틀로 하나의 붕어빵을 만드는 것에 비유됩니다."
      ],
      "metadata": {
        "id": "S9mR9EcdAeK0"
      }
    },
    {
      "cell_type": "code",
      "source": [
        "cal1 = Calculator()"
      ],
      "metadata": {
        "id": "uTZEnmjT6_wC"
      },
      "execution_count": 66,
      "outputs": []
    },
    {
      "cell_type": "markdown",
      "source": [
        "+ 객체의 생성 방법은 객체의 이름을 정한뒤에 '=클래스이름()'으로 객체를 생성합니다. 클래스가 붕어빵 틀과 같다는 이유는 하나의 클래스를 만든 후에는 여러 개의 객체를 만드는 것이 가능하기 때문입니다. 또 하나의 객체 cal2도 생성해보겠습니다."
      ],
      "metadata": {
        "id": "shSKycweAjX3"
      }
    },
    {
      "cell_type": "code",
      "source": [
        "cal2 = Calculator()"
      ],
      "metadata": {
        "id": "oeABfsTD6_4C"
      },
      "execution_count": 67,
      "outputs": []
    },
    {
      "cell_type": "code",
      "source": [
        "print(cal1.add(3))\n",
        "print(cal1.add(4))\n",
        "print(cal2.add(3))\n",
        "print(cal2.add(7))"
      ],
      "metadata": {
        "colab": {
          "base_uri": "https://localhost:8080/"
        },
        "id": "D-UmV6k56_7u",
        "outputId": "ef4fee45-f4c7-4690-d82d-af53e6f2646c"
      },
      "execution_count": 68,
      "outputs": [
        {
          "output_type": "stream",
          "name": "stdout",
          "text": [
            "3\n",
            "7\n",
            "3\n",
            "10\n"
          ]
        }
      ]
    },
    {
      "cell_type": "markdown",
      "source": [
        "+ 두 개의 객체는 독립적으로 연산되고 있음을 알 수 있습니다. 앞에서는 이렇게 독립적인 두 개의 덧셈기를 함수로 구현하려고 했다면 함수를 두 개 만들어야 했지만, 클래스라는 것을 하나 선언하고, 이 클래스를 통해 별도의 객체를 생성하자 코드가 훨씬 간결해졌습니다."
      ],
      "metadata": {
        "id": "7_mQDq0lAoNa"
      }
    },
    {
      "cell_type": "markdown",
      "source": [
        "## ch3. 선형회귀\n",
        "---\n",
        "\n",
        "+ H(x) = W*x + b\n",
        "\n",
        "+ W는 가중치(weight), b는 편향(bias)\n",
        "+ 비용 함수(cost function) = 손실 함수(loss function) = 오차 함수(error function) = 목적 함수(objective function)\n",
        "+ 오차의 제곱합에 대한 평균을 구할 수 있는데 이를 평균 제곱 오차(Mean Squared Error, MSE)\n",
        "+ 비용 함수(Cost Function)의 값을 최소로 하는 W와 b를 찾는 방법: 옵티마이저 - 경사 하강법(Gradient Descent)\n",
        "  + 기울기가 음수일 때 : W의 값이 증가\n",
        "  + 기울기가 양수일 때 : W의 값이 감소\n",
        "  + 학습률(learning rate) 알파: W의 값을 변경할 때, 얼마나 크게 변경할지를 결정"
      ],
      "metadata": {
        "id": "AWOFQqUHArEV"
      }
    },
    {
      "cell_type": "markdown",
      "source": [
        "1. 기본 세팅"
      ],
      "metadata": {
        "id": "6NBVVD74FJw8"
      }
    },
    {
      "cell_type": "code",
      "source": [
        "import torch\n",
        "import torch.nn as nn\n",
        "import torch.nn.functional as F\n",
        "import torch.optim as optim"
      ],
      "metadata": {
        "id": "lvEN_K6tFGow"
      },
      "execution_count": 69,
      "outputs": []
    },
    {
      "cell_type": "code",
      "source": [
        "# 현재 실습하고 있는 파이썬 코드를 재실행해도 다음에도 같은 결과가 나오도록 랜덤 시드(random seed)를 줍니다.\n",
        "torch.manual_seed(1)"
      ],
      "metadata": {
        "colab": {
          "base_uri": "https://localhost:8080/"
        },
        "id": "qbk7MIKMFHGk",
        "outputId": "8830b66a-170a-4f32-b189-4396aa411272"
      },
      "execution_count": 70,
      "outputs": [
        {
          "output_type": "execute_result",
          "data": {
            "text/plain": [
              "<torch._C.Generator at 0x7f9f7cc607d0>"
            ]
          },
          "metadata": {},
          "execution_count": 70
        }
      ]
    },
    {
      "cell_type": "markdown",
      "source": [
        "2. 변수 선언"
      ],
      "metadata": {
        "id": "nMWFtsc8FQH5"
      }
    },
    {
      "cell_type": "code",
      "source": [
        "x_train = torch.FloatTensor([[1], [2], [3]])\n",
        "y_train = torch.FloatTensor([[2], [4], [6]])"
      ],
      "metadata": {
        "id": "IKbZWiscFHMa"
      },
      "execution_count": 71,
      "outputs": []
    },
    {
      "cell_type": "code",
      "source": [
        "print(x_train)\n",
        "print(x_train.shape)"
      ],
      "metadata": {
        "colab": {
          "base_uri": "https://localhost:8080/"
        },
        "id": "GOwYcCX3FHRl",
        "outputId": "2f5c035d-a181-4ab4-e3f9-389089787166"
      },
      "execution_count": 72,
      "outputs": [
        {
          "output_type": "stream",
          "name": "stdout",
          "text": [
            "tensor([[1.],\n",
            "        [2.],\n",
            "        [3.]])\n",
            "torch.Size([3, 1])\n"
          ]
        }
      ]
    },
    {
      "cell_type": "code",
      "source": [
        "print(y_train)\n",
        "print(y_train.shape)"
      ],
      "metadata": {
        "colab": {
          "base_uri": "https://localhost:8080/"
        },
        "id": "xyF2k1zJFHWV",
        "outputId": "d7b46008-578f-4b64-e0e0-63d0ac567969"
      },
      "execution_count": 73,
      "outputs": [
        {
          "output_type": "stream",
          "name": "stdout",
          "text": [
            "tensor([[2.],\n",
            "        [4.],\n",
            "        [6.]])\n",
            "torch.Size([3, 1])\n"
          ]
        }
      ]
    },
    {
      "cell_type": "markdown",
      "source": [
        "3. 가중치와 편향의 초기화"
      ],
      "metadata": {
        "id": "e5MBlgpoFWuY"
      }
    },
    {
      "cell_type": "code",
      "source": [
        "# 가중치 W를 0으로 초기화하고 학습을 통해 값이 변경되는 변수임을 명시함.\n",
        "W = torch.zeros(1, requires_grad=True)  # requires_grad=True: 학습을 통해 계속 값이 변경되는 변수임을 의미\n",
        "# 가중치 W를 출력\n",
        "print(W) "
      ],
      "metadata": {
        "colab": {
          "base_uri": "https://localhost:8080/"
        },
        "id": "U5h1hfWtFHc8",
        "outputId": "eb765141-3d75-4a4a-eaff-c459cfa6ace2"
      },
      "execution_count": 83,
      "outputs": [
        {
          "output_type": "stream",
          "name": "stdout",
          "text": [
            "tensor([0.], requires_grad=True)\n"
          ]
        }
      ]
    },
    {
      "cell_type": "code",
      "source": [
        "b = torch.zeros(1, requires_grad=True)\n",
        "print(b)"
      ],
      "metadata": {
        "colab": {
          "base_uri": "https://localhost:8080/"
        },
        "id": "0fThnCLNFHxA",
        "outputId": "d6e2c183-d841-4ba0-8c1b-5b393288aaa8"
      },
      "execution_count": 84,
      "outputs": [
        {
          "output_type": "stream",
          "name": "stdout",
          "text": [
            "tensor([0.], requires_grad=True)\n"
          ]
        }
      ]
    },
    {
      "cell_type": "markdown",
      "source": [
        "4. 가설 세우기"
      ],
      "metadata": {
        "id": "fulNyRCrFplI"
      }
    },
    {
      "cell_type": "code",
      "source": [
        "hypothesis = x_train * W + b\n",
        "print(hypothesis)"
      ],
      "metadata": {
        "colab": {
          "base_uri": "https://localhost:8080/"
        },
        "id": "CsL4_1N5FH1d",
        "outputId": "08772b49-3911-4aaf-f85f-0fab5f032687"
      },
      "execution_count": 85,
      "outputs": [
        {
          "output_type": "stream",
          "name": "stdout",
          "text": [
            "tensor([[0.],\n",
            "        [0.],\n",
            "        [0.]], grad_fn=<AddBackward0>)\n"
          ]
        }
      ]
    },
    {
      "cell_type": "markdown",
      "source": [
        "5. 비용 함수 선언하기"
      ],
      "metadata": {
        "id": "l5nQ7xOcFt4T"
      }
    },
    {
      "cell_type": "code",
      "source": [
        "# 앞서 배운 torch.mean으로 평균을 구한다.\n",
        "cost = torch.mean((hypothesis - y_train) ** 2) \n",
        "print(cost)"
      ],
      "metadata": {
        "colab": {
          "base_uri": "https://localhost:8080/"
        },
        "id": "VbZ0WevPFIBP",
        "outputId": "7fc1ebd5-9659-45ac-e88d-d75b23a19f67"
      },
      "execution_count": 86,
      "outputs": [
        {
          "output_type": "stream",
          "name": "stdout",
          "text": [
            "tensor(18.6667, grad_fn=<MeanBackward0>)\n"
          ]
        }
      ]
    },
    {
      "cell_type": "markdown",
      "source": [
        "6. 경사 하강법 구현하기"
      ],
      "metadata": {
        "id": "b1oRBKkYFzlE"
      }
    },
    {
      "cell_type": "code",
      "source": [
        "# 'SGD'는 경사 하강법의 일종입니다. lr은 학습률(learning rate)를 의미\n",
        "optimizer = optim.SGD([W, b], lr=0.01)"
      ],
      "metadata": {
        "id": "4Z24XFFqFIFr"
      },
      "execution_count": 87,
      "outputs": []
    },
    {
      "cell_type": "code",
      "source": [
        "# gradient를 0으로 초기화\n",
        "optimizer.zero_grad()  # 기울기를 초기화해야만 새로운 가중치 편향에 대해서 새로운 기울기를 구할 수 있습니다\n",
        "\n",
        "# 비용 함수를 미분하여 gradient 계산 (가중치 W와 편향 b에 대한 기울기가 계산)\n",
        "cost.backward() \n",
        "\n",
        "# W와 b를 업데이트:  W와 b에서 리턴되는 변수들의 기울기에 학습률(learining rate) 0.01을 곱하여 빼줌으로서 업데이트\n",
        "optimizer.step() "
      ],
      "metadata": {
        "id": "JWVUaLMCFIm1"
      },
      "execution_count": 88,
      "outputs": []
    },
    {
      "cell_type": "markdown",
      "source": [
        "7. 전체 코드"
      ],
      "metadata": {
        "id": "ZPX-MWo7GWjv"
      }
    },
    {
      "cell_type": "code",
      "source": [
        "# 데이터\n",
        "x_train = torch.FloatTensor([[1], [2], [3]])\n",
        "y_train = torch.FloatTensor([[2], [4], [6]])\n",
        "# 모델 초기화\n",
        "W = torch.zeros(1, requires_grad=True)\n",
        "b = torch.zeros(1, requires_grad=True)\n",
        "# optimizer 설정\n",
        "optimizer = optim.SGD([W, b], lr=0.01)\n",
        "\n",
        "nb_epochs = 1999 # 원하는만큼 경사 하강법을 반복\n",
        "for epoch in range(nb_epochs + 1):\n",
        "\n",
        "    # H(x) 계산\n",
        "    hypothesis = x_train * W + b\n",
        "\n",
        "    # cost 계산\n",
        "    cost = torch.mean((hypothesis - y_train) ** 2)\n",
        "\n",
        "    # cost로 H(x) 개선\n",
        "    optimizer.zero_grad()\n",
        "    cost.backward()\n",
        "    optimizer.step()\n",
        "\n",
        "    # 100번마다 로그 출력\n",
        "    if epoch % 100 == 0:\n",
        "        print('Epoch {:4d}/{} W: {:.3f}, b: {:.3f} Cost: {:.6f}'.format(\n",
        "            epoch, nb_epochs, W.item(), b.item(), cost.item()\n",
        "        ))"
      ],
      "metadata": {
        "colab": {
          "base_uri": "https://localhost:8080/"
        },
        "id": "foifdGCSFItx",
        "outputId": "4192fdd4-8630-42d6-bf7d-3ecc644ec85c"
      },
      "execution_count": 89,
      "outputs": [
        {
          "output_type": "stream",
          "name": "stdout",
          "text": [
            "Epoch    0/1999 W: 0.187, b: 0.080 Cost: 18.666666\n",
            "Epoch  100/1999 W: 1.746, b: 0.578 Cost: 0.048171\n",
            "Epoch  200/1999 W: 1.800, b: 0.454 Cost: 0.029767\n",
            "Epoch  300/1999 W: 1.843, b: 0.357 Cost: 0.018394\n",
            "Epoch  400/1999 W: 1.876, b: 0.281 Cost: 0.011366\n",
            "Epoch  500/1999 W: 1.903, b: 0.221 Cost: 0.007024\n",
            "Epoch  600/1999 W: 1.924, b: 0.174 Cost: 0.004340\n",
            "Epoch  700/1999 W: 1.940, b: 0.136 Cost: 0.002682\n",
            "Epoch  800/1999 W: 1.953, b: 0.107 Cost: 0.001657\n",
            "Epoch  900/1999 W: 1.963, b: 0.084 Cost: 0.001024\n",
            "Epoch 1000/1999 W: 1.971, b: 0.066 Cost: 0.000633\n",
            "Epoch 1100/1999 W: 1.977, b: 0.052 Cost: 0.000391\n",
            "Epoch 1200/1999 W: 1.982, b: 0.041 Cost: 0.000242\n",
            "Epoch 1300/1999 W: 1.986, b: 0.032 Cost: 0.000149\n",
            "Epoch 1400/1999 W: 1.989, b: 0.025 Cost: 0.000092\n",
            "Epoch 1500/1999 W: 1.991, b: 0.020 Cost: 0.000057\n",
            "Epoch 1600/1999 W: 1.993, b: 0.016 Cost: 0.000035\n",
            "Epoch 1700/1999 W: 1.995, b: 0.012 Cost: 0.000022\n",
            "Epoch 1800/1999 W: 1.996, b: 0.010 Cost: 0.000013\n",
            "Epoch 1900/1999 W: 1.997, b: 0.008 Cost: 0.000008\n"
          ]
        }
      ]
    },
    {
      "cell_type": "markdown",
      "source": [
        "+ 에포크(Epoch)는 전체 훈련 데이터가 학습에 한 번 사용된 주기"
      ],
      "metadata": {
        "id": "II9AkorQGenD"
      }
    },
    {
      "cell_type": "markdown",
      "source": [
        "+  optimizer.zero_grad()가 필요한 이유: 계속해서 미분값인 2가 누적되는 것을 볼 수 있습니다. 그렇기 때문에 optimizer.zero_grad()를 통해 미분값을 계속 0으로 초기화시켜줘야 합니다."
      ],
      "metadata": {
        "id": "dXPu6n8oGiqh"
      }
    },
    {
      "cell_type": "code",
      "source": [
        "import torch\n",
        "w = torch.tensor(2.0, requires_grad=True)\n",
        "\n",
        "nb_epochs = 20\n",
        "for epoch in range(nb_epochs + 1):\n",
        "\n",
        "  z = 2*w\n",
        "\n",
        "  z.backward()\n",
        "  print('수식을 w로 미분한 값 : {}'.format(w.grad))"
      ],
      "metadata": {
        "colab": {
          "base_uri": "https://localhost:8080/"
        },
        "id": "WO5ofDD3FJDE",
        "outputId": "225a0456-ad54-43a9-f1c9-fe4c53f19c5a"
      },
      "execution_count": 90,
      "outputs": [
        {
          "output_type": "stream",
          "name": "stdout",
          "text": [
            "수식을 w로 미분한 값 : 2.0\n",
            "수식을 w로 미분한 값 : 4.0\n",
            "수식을 w로 미분한 값 : 6.0\n",
            "수식을 w로 미분한 값 : 8.0\n",
            "수식을 w로 미분한 값 : 10.0\n",
            "수식을 w로 미분한 값 : 12.0\n",
            "수식을 w로 미분한 값 : 14.0\n",
            "수식을 w로 미분한 값 : 16.0\n",
            "수식을 w로 미분한 값 : 18.0\n",
            "수식을 w로 미분한 값 : 20.0\n",
            "수식을 w로 미분한 값 : 22.0\n",
            "수식을 w로 미분한 값 : 24.0\n",
            "수식을 w로 미분한 값 : 26.0\n",
            "수식을 w로 미분한 값 : 28.0\n",
            "수식을 w로 미분한 값 : 30.0\n",
            "수식을 w로 미분한 값 : 32.0\n",
            "수식을 w로 미분한 값 : 34.0\n",
            "수식을 w로 미분한 값 : 36.0\n",
            "수식을 w로 미분한 값 : 38.0\n",
            "수식을 w로 미분한 값 : 40.0\n",
            "수식을 w로 미분한 값 : 42.0\n"
          ]
        }
      ]
    },
    {
      "cell_type": "markdown",
      "source": [
        "+ torch.manual_seed()를 하는 이유: 다른 컴퓨터에서 실행시켜도 동일한 결과를 얻을 수 있습니다. 그 이유는 torch.manual_seed()는 난수 발생 순서와 값을 동일하게 보장해준다는 특징때문입니다. 우선 랜덤 시드가 3일 때 두 번 난수를 발생시켜보고, 다른 랜덤 시드를 사용한 후에 다시 랜덤 시드를 3을 사용한다면 난수 발생값이 동일하게 나오는지 보겠습니다."
      ],
      "metadata": {
        "id": "w9JAWuQpHccc"
      }
    },
    {
      "cell_type": "code",
      "source": [
        "import torch"
      ],
      "metadata": {
        "id": "T0CA9kU9FZ11"
      },
      "execution_count": 91,
      "outputs": []
    },
    {
      "cell_type": "code",
      "source": [
        "torch.manual_seed(3)\n",
        "print('랜덤 시드가 3일 때')\n",
        "for i in range(1,3):\n",
        "  print(torch.rand(1))"
      ],
      "metadata": {
        "colab": {
          "base_uri": "https://localhost:8080/"
        },
        "id": "tR2E4p8-FZ12",
        "outputId": "7a386ef0-b3aa-4a5b-e0fb-3d643b242227"
      },
      "execution_count": 92,
      "outputs": [
        {
          "output_type": "stream",
          "name": "stdout",
          "text": [
            "랜덤 시드가 3일 때\n",
            "tensor([0.0043])\n",
            "tensor([0.1056])\n"
          ]
        }
      ]
    },
    {
      "cell_type": "code",
      "source": [
        "torch.manual_seed(5)\n",
        "print('랜덤 시드가 5일 때')\n",
        "for i in range(1,3):\n",
        "  print(torch.rand(1))"
      ],
      "metadata": {
        "colab": {
          "base_uri": "https://localhost:8080/"
        },
        "id": "Xq07jz3GFZ12",
        "outputId": "b56ad69a-c997-40ff-bebd-296358729ff4"
      },
      "execution_count": 93,
      "outputs": [
        {
          "output_type": "stream",
          "name": "stdout",
          "text": [
            "랜덤 시드가 5일 때\n",
            "tensor([0.8303])\n",
            "tensor([0.1261])\n"
          ]
        }
      ]
    },
    {
      "cell_type": "code",
      "source": [
        "torch.manual_seed(3)\n",
        "print('랜덤 시드가 다시 3일 때')\n",
        "for i in range(1,3):\n",
        "  print(torch.rand(1))"
      ],
      "metadata": {
        "colab": {
          "base_uri": "https://localhost:8080/"
        },
        "id": "98Vwei1eFZ12",
        "outputId": "a1c1003f-f00a-43d7-9ede-3c09ba1690cb"
      },
      "execution_count": 94,
      "outputs": [
        {
          "output_type": "stream",
          "name": "stdout",
          "text": [
            "랜덤 시드가 다시 3일 때\n",
            "tensor([0.0043])\n",
            "tensor([0.1056])\n"
          ]
        }
      ]
    },
    {
      "cell_type": "markdown",
      "source": [
        "+ 텐서에는 requires_grad라는 속성이 있습니다. 이것을 True로 설정하면 자동 미분 기능이 적용됩니다. 선형 회귀부터 신경망과 같은 복잡한 구조에서 파라미터들이 모두 이 기능이 적용됩니다. requires_grad = True가 적용된 텐서에 연산을 하면, 계산 그래프가 생성되며 backward 함수를 호출하면 그래프로부터 자동으로 미분이 계산됩니다."
      ],
      "metadata": {
        "id": "8_yDE6I5Huv0"
      }
    },
    {
      "cell_type": "markdown",
      "source": [
        "### 2. 자동 미분 Autograd\n",
        "---\n",
        ": 경사 하강법 코드를 보고있으면 requires_grad=True, backward() 등이 나옵니다. 이는 파이토치에서 제공하고 있는 자동 미분(Autograd) 기능을 수행하고 있는 것"
      ],
      "metadata": {
        "id": "12w0MuKJHwDF"
      }
    },
    {
      "cell_type": "code",
      "source": [
        "import torch"
      ],
      "metadata": {
        "id": "_4oqZdqAFZ12"
      },
      "execution_count": 95,
      "outputs": []
    },
    {
      "cell_type": "code",
      "source": [
        "w = torch.tensor(2.0, requires_grad=True) # 값이 2인 임의의 스칼라 텐서 w를 선언합니다. 이때 required_grad를 True로 설정"
      ],
      "metadata": {
        "id": "CaIEhRMpFZ12"
      },
      "execution_count": 97,
      "outputs": []
    },
    {
      "cell_type": "code",
      "source": [
        "# 수식 정의\n",
        "y = w**2\n",
        "z = 2*y + 5"
      ],
      "metadata": {
        "id": "OEs1A9nMFZ12"
      },
      "execution_count": 98,
      "outputs": []
    },
    {
      "cell_type": "code",
      "source": [
        "# 수식을 w에 대해서 미분해야합니다. .backward()를 호출하면 해당 수식의 w에 대한 기울기를 계산\n",
        "z.backward()"
      ],
      "metadata": {
        "id": "xXS0XCmDFaBM"
      },
      "execution_count": 99,
      "outputs": []
    },
    {
      "cell_type": "code",
      "source": [
        "# w.grad를 출력하면 w가 속한 수식을 w로 미분한 값이 저장\n",
        "print('수식을 w로 미분한 값 : {}'.format(w.grad))"
      ],
      "metadata": {
        "colab": {
          "base_uri": "https://localhost:8080/"
        },
        "id": "JW5aw2qsFaBM",
        "outputId": "b296388c-c214-4b8b-e91d-5022068adcd1"
      },
      "execution_count": 100,
      "outputs": [
        {
          "output_type": "stream",
          "name": "stdout",
          "text": [
            "수식을 w로 미분한 값 : 8.0\n"
          ]
        }
      ]
    },
    {
      "cell_type": "markdown",
      "source": [
        "참고 자료 : https://tutorials.pytorch.kr/beginner/blitz/autograd_tutorial.html?highlight=autograd\n",
        "\n",
        "자동 미분에 대한 유튜브 영상 : https://www.youtube.com/watch?v=E0R9Xf_GyUc"
      ],
      "metadata": {
        "id": "dtIfu9j0IWvQ"
      }
    },
    {
      "cell_type": "markdown",
      "source": [
        "### 3. 다중 선형 회귀\n",
        "---"
      ],
      "metadata": {
        "id": "6EfYIBUDIa6-"
      }
    },
    {
      "cell_type": "code",
      "source": [
        "import torch\n",
        "import torch.nn as nn\n",
        "import torch.nn.functional as F\n",
        "import torch.optim as optim"
      ],
      "metadata": {
        "id": "rCF_ZpHtFaBN"
      },
      "execution_count": 101,
      "outputs": []
    },
    {
      "cell_type": "code",
      "source": [
        "torch.manual_seed(1)"
      ],
      "metadata": {
        "colab": {
          "base_uri": "https://localhost:8080/"
        },
        "id": "Q4kBow1QFaBN",
        "outputId": "a47ab00a-72fe-4f10-e7ca-9e86f276051b"
      },
      "execution_count": 102,
      "outputs": [
        {
          "output_type": "execute_result",
          "data": {
            "text/plain": [
              "<torch._C.Generator at 0x7f9f7cc607d0>"
            ]
          },
          "metadata": {},
          "execution_count": 102
        }
      ]
    },
    {
      "cell_type": "code",
      "source": [
        "# 훈련 데이터\n",
        "x1_train = torch.FloatTensor([[73], [93], [89], [96], [73]])\n",
        "x2_train = torch.FloatTensor([[80], [88], [91], [98], [66]])\n",
        "x3_train = torch.FloatTensor([[75], [93], [90], [100], [70]])\n",
        "y_train = torch.FloatTensor([[152], [185], [180], [196], [142]])"
      ],
      "metadata": {
        "id": "ipS0DQK2FaBN"
      },
      "execution_count": 103,
      "outputs": []
    },
    {
      "cell_type": "code",
      "source": [
        "# 가중치 w와 편향 b 초기화\n",
        "w1 = torch.zeros(1, requires_grad=True)\n",
        "w2 = torch.zeros(1, requires_grad=True)\n",
        "w3 = torch.zeros(1, requires_grad=True)\n",
        "b = torch.zeros(1, requires_grad=True)"
      ],
      "metadata": {
        "id": "C9GRISB8FaBN"
      },
      "execution_count": 104,
      "outputs": []
    },
    {
      "cell_type": "code",
      "source": [
        "# optimizer 설정\n",
        "optimizer = optim.SGD([w1, w2, w3, b], lr=1e-5)\n",
        "\n",
        "nb_epochs = 1000\n",
        "for epoch in range(nb_epochs + 1):\n",
        "\n",
        "    # H(x) 계산\n",
        "    hypothesis = x1_train * w1 + x2_train * w2 + x3_train * w3 + b\n",
        "\n",
        "    # cost 계산\n",
        "    cost = torch.mean((hypothesis - y_train) ** 2)\n",
        "\n",
        "    # cost로 H(x) 개선\n",
        "    optimizer.zero_grad()\n",
        "    cost.backward()\n",
        "    optimizer.step()\n",
        "\n",
        "    # 100번마다 로그 출력\n",
        "    if epoch % 100 == 0:\n",
        "        print('Epoch {:4d}/{} w1: {:.3f} w2: {:.3f} w3: {:.3f} b: {:.3f} Cost: {:.6f}'.format(\n",
        "            epoch, nb_epochs, w1.item(), w2.item(), w3.item(), b.item(), cost.item()\n",
        "        ))"
      ],
      "metadata": {
        "colab": {
          "base_uri": "https://localhost:8080/"
        },
        "id": "6ZO2GwVdI3UO",
        "outputId": "f6458cd3-5fdd-4207-8060-f22a1642af98"
      },
      "execution_count": 105,
      "outputs": [
        {
          "output_type": "stream",
          "name": "stdout",
          "text": [
            "Epoch    0/1000 w1: 0.294 w2: 0.294 w3: 0.297 b: 0.003 Cost: 29661.800781\n",
            "Epoch  100/1000 w1: 0.674 w2: 0.661 w3: 0.676 b: 0.008 Cost: 1.563628\n",
            "Epoch  200/1000 w1: 0.679 w2: 0.655 w3: 0.677 b: 0.008 Cost: 1.497595\n",
            "Epoch  300/1000 w1: 0.684 w2: 0.649 w3: 0.677 b: 0.008 Cost: 1.435044\n",
            "Epoch  400/1000 w1: 0.689 w2: 0.643 w3: 0.678 b: 0.008 Cost: 1.375726\n",
            "Epoch  500/1000 w1: 0.694 w2: 0.638 w3: 0.678 b: 0.009 Cost: 1.319507\n",
            "Epoch  600/1000 w1: 0.699 w2: 0.633 w3: 0.679 b: 0.009 Cost: 1.266222\n",
            "Epoch  700/1000 w1: 0.704 w2: 0.627 w3: 0.679 b: 0.009 Cost: 1.215703\n",
            "Epoch  800/1000 w1: 0.709 w2: 0.622 w3: 0.679 b: 0.009 Cost: 1.167810\n",
            "Epoch  900/1000 w1: 0.713 w2: 0.617 w3: 0.680 b: 0.009 Cost: 1.122429\n",
            "Epoch 1000/1000 w1: 0.718 w2: 0.613 w3: 0.680 b: 0.009 Cost: 1.079390\n"
          ]
        }
      ]
    },
    {
      "cell_type": "markdown",
      "source": [
        "+ 행렬 연산을 고려하여 파이토치로 구현하기"
      ],
      "metadata": {
        "id": "jgD42EdKJMdO"
      }
    },
    {
      "cell_type": "code",
      "source": [
        "x_train  =  torch.FloatTensor([[73,  80,  75], \n",
        "                               [93,  88,  93], \n",
        "                               [89,  91,  80], \n",
        "                               [96,  98,  100],   \n",
        "                               [73,  66,  70]])  \n",
        "y_train  =  torch.FloatTensor([[152],  [185],  [180],  [196],  [142]])"
      ],
      "metadata": {
        "id": "TFxZYGR9I4ZR"
      },
      "execution_count": 106,
      "outputs": []
    },
    {
      "cell_type": "code",
      "source": [
        "print(x_train.shape)\n",
        "print(y_train.shape)"
      ],
      "metadata": {
        "colab": {
          "base_uri": "https://localhost:8080/"
        },
        "id": "-7p55tiSI4jg",
        "outputId": "0fd57ac9-a3d0-4663-ca9f-2b4827526609"
      },
      "execution_count": 107,
      "outputs": [
        {
          "output_type": "stream",
          "name": "stdout",
          "text": [
            "torch.Size([5, 3])\n",
            "torch.Size([5, 1])\n"
          ]
        }
      ]
    },
    {
      "cell_type": "code",
      "source": [
        "# 가중치와 편향 선언\n",
        "W = torch.zeros((3, 1), requires_grad=True) # 가중치 W의 크기가 (3 × 1) 벡터\n",
        "b = torch.zeros(1, requires_grad=True)"
      ],
      "metadata": {
        "id": "mHDZDVZ-I4tL"
      },
      "execution_count": 109,
      "outputs": []
    },
    {
      "cell_type": "code",
      "source": [
        "# 행렬곱으로 가설을 선언\n",
        "hypothesis = x_train.matmul(W) + b"
      ],
      "metadata": {
        "id": "BvK8VLS0I42A"
      },
      "execution_count": 110,
      "outputs": []
    },
    {
      "cell_type": "code",
      "source": [
        "x_train  =  torch.FloatTensor([[73,  80,  75], \n",
        "                               [93,  88,  93], \n",
        "                               [89,  91,  80], \n",
        "                               [96,  98,  100],   \n",
        "                               [73,  66,  70]])  \n",
        "y_train  =  torch.FloatTensor([[152],  [185],  [180],  [196],  [142]])\n",
        "\n",
        "# 모델 초기화\n",
        "W = torch.zeros((3, 1), requires_grad=True)\n",
        "b = torch.zeros(1, requires_grad=True)\n",
        "# optimizer 설정\n",
        "optimizer = optim.SGD([W, b], lr=1e-5)\n",
        "\n",
        "nb_epochs = 20\n",
        "for epoch in range(nb_epochs + 1):\n",
        "\n",
        "    # H(x) 계산\n",
        "    # 편향 b는 브로드 캐스팅되어 각 샘플에 더해집니다.\n",
        "    hypothesis = x_train.matmul(W) + b\n",
        "\n",
        "    # cost 계산\n",
        "    cost = torch.mean((hypothesis - y_train) ** 2)\n",
        "\n",
        "    # cost로 H(x) 개선\n",
        "    optimizer.zero_grad()\n",
        "    cost.backward()\n",
        "    optimizer.step()\n",
        "\n",
        "    print('Epoch {:4d}/{} hypothesis: {} Cost: {:.6f}'.format(\n",
        "        epoch, nb_epochs, hypothesis.squeeze().detach(), cost.item()\n",
        "    ))"
      ],
      "metadata": {
        "colab": {
          "base_uri": "https://localhost:8080/"
        },
        "id": "XbO1o1oLI4_p",
        "outputId": "45cb27bc-0d10-4120-a8d8-651cb1140416"
      },
      "execution_count": 111,
      "outputs": [
        {
          "output_type": "stream",
          "name": "stdout",
          "text": [
            "Epoch    0/20 hypothesis: tensor([0., 0., 0., 0., 0.]) Cost: 29661.800781\n",
            "Epoch    1/20 hypothesis: tensor([66.7178, 80.1701, 76.1025, 86.0194, 61.1565]) Cost: 9537.694336\n",
            "Epoch    2/20 hypothesis: tensor([104.5421, 125.6208, 119.2478, 134.7862,  95.8280]) Cost: 3069.590088\n",
            "Epoch    3/20 hypothesis: tensor([125.9858, 151.3882, 143.7087, 162.4333, 115.4844]) Cost: 990.670288\n",
            "Epoch    4/20 hypothesis: tensor([138.1429, 165.9963, 157.5768, 178.1071, 126.6283]) Cost: 322.481873\n",
            "Epoch    5/20 hypothesis: tensor([145.0350, 174.2780, 165.4395, 186.9928, 132.9461]) Cost: 107.717064\n",
            "Epoch    6/20 hypothesis: tensor([148.9423, 178.9730, 169.8976, 192.0301, 136.5279]) Cost: 38.687496\n",
            "Epoch    7/20 hypothesis: tensor([151.1574, 181.6346, 172.4254, 194.8856, 138.5585]) Cost: 16.499043\n",
            "Epoch    8/20 hypothesis: tensor([152.4131, 183.1435, 173.8590, 196.5043, 139.7097]) Cost: 9.365656\n",
            "Epoch    9/20 hypothesis: tensor([153.1250, 183.9988, 174.6723, 197.4217, 140.3625]) Cost: 7.071114\n",
            "Epoch   10/20 hypothesis: tensor([153.5285, 184.4835, 175.1338, 197.9415, 140.7325]) Cost: 6.331847\n",
            "Epoch   11/20 hypothesis: tensor([153.7572, 184.7582, 175.3958, 198.2360, 140.9424]) Cost: 6.092532\n",
            "Epoch   12/20 hypothesis: tensor([153.8868, 184.9138, 175.5449, 198.4026, 141.0613]) Cost: 6.013817\n",
            "Epoch   13/20 hypothesis: tensor([153.9602, 185.0019, 175.6299, 198.4969, 141.1288]) Cost: 5.986785\n",
            "Epoch   14/20 hypothesis: tensor([154.0017, 185.0517, 175.6785, 198.5500, 141.1671]) Cost: 5.976325\n",
            "Epoch   15/20 hypothesis: tensor([154.0252, 185.0798, 175.7065, 198.5800, 141.1888]) Cost: 5.971208\n",
            "Epoch   16/20 hypothesis: tensor([154.0385, 185.0956, 175.7229, 198.5966, 141.2012]) Cost: 5.967835\n",
            "Epoch   17/20 hypothesis: tensor([154.0459, 185.1045, 175.7326, 198.6059, 141.2082]) Cost: 5.964969\n",
            "Epoch   18/20 hypothesis: tensor([154.0501, 185.1094, 175.7386, 198.6108, 141.2122]) Cost: 5.962291\n",
            "Epoch   19/20 hypothesis: tensor([154.0524, 185.1120, 175.7424, 198.6134, 141.2145]) Cost: 5.959664\n",
            "Epoch   20/20 hypothesis: tensor([154.0536, 185.1134, 175.7451, 198.6145, 141.2158]) Cost: 5.957089\n"
          ]
        }
      ]
    },
    {
      "cell_type": "markdown",
      "source": [
        "### 4. nn.Module로 구현하는 선형 회귀\n",
        "---\n",
        "+ 파이토치에서는 선형 회귀 모델이 nn.Linear()라는 함수로, \n",
        "+ 또 평균 제곱오차가 nn.functional.mse_loss()라는 함수로 구현되어져 있습니다.\n",
        "```\n",
        "import torch.nn as nn\n",
        "model = nn.Linear(input_dim, output_dim)\n",
        "```\n",
        "```\n",
        "import torch.nn.functional as F\n",
        "cost = F.mse_loss(prediction, y_train)\n",
        "```"
      ],
      "metadata": {
        "id": "k0dkhc4VJxvr"
      }
    },
    {
      "cell_type": "markdown",
      "source": [
        "+ 단순 선현 회귀 구현하기"
      ],
      "metadata": {
        "id": "jKwypX8MKuvG"
      }
    },
    {
      "cell_type": "code",
      "source": [
        "import torch\n",
        "import torch.nn as nn\n",
        "import torch.nn.functional as F\n",
        "torch.manual_seed(1)"
      ],
      "metadata": {
        "colab": {
          "base_uri": "https://localhost:8080/"
        },
        "id": "Kkih-n8fI5SI",
        "outputId": "54f11a08-3363-45b0-9bfb-2f7914b051c8"
      },
      "execution_count": 113,
      "outputs": [
        {
          "output_type": "execute_result",
          "data": {
            "text/plain": [
              "<torch._C.Generator at 0x7f9f7cc607d0>"
            ]
          },
          "metadata": {},
          "execution_count": 113
        }
      ]
    },
    {
      "cell_type": "code",
      "source": [
        "# 데이터: y=2x를 가정한 상태로 만든 데이터\n",
        "x_train = torch.FloatTensor([[1], [2], [3]])\n",
        "y_train = torch.FloatTensor([[2], [4], [6]])"
      ],
      "metadata": {
        "id": "y0C-47FwI5as"
      },
      "execution_count": 114,
      "outputs": []
    },
    {
      "cell_type": "code",
      "source": [
        "# 모델을 선언 및 초기화. 단순 선형 회귀이므로 input_dim=1, output_dim=1.\n",
        "model = nn.Linear(1,1)"
      ],
      "metadata": {
        "id": "t1njkkfXI5jl"
      },
      "execution_count": 115,
      "outputs": []
    },
    {
      "cell_type": "code",
      "source": [
        "# model에는 가중치 W와 편향 b가 저장되어져 있습니다. 이 값은 model.parameters()라는 함수를 사용하여 불러올 수 있다.\n",
        "# 2개의 값이 출력되는데 첫번째 값이 W고, 두번째 값이 b에 해당됩니다. 두 값 모두 현재는 랜덤 초기화가 되어져 있습니다. \n",
        "# 그리고 두 값 모두 학습의 대상이므로 requires_grad=True가 되어져 있는 것을 볼 수 있습니다.\n",
        "print(list(model.parameters()))"
      ],
      "metadata": {
        "colab": {
          "base_uri": "https://localhost:8080/"
        },
        "id": "jDINjh7_I62v",
        "outputId": "877a7ffd-4d6a-4736-d9bd-924979131f81"
      },
      "execution_count": 117,
      "outputs": [
        {
          "output_type": "stream",
          "name": "stdout",
          "text": [
            "[Parameter containing:\n",
            "tensor([[0.5153]], requires_grad=True), Parameter containing:\n",
            "tensor([-0.4414], requires_grad=True)]\n"
          ]
        }
      ]
    },
    {
      "cell_type": "code",
      "source": [
        "# optimizer 설정. 경사 하강법 SGD를 사용하고 learning rate를 의미하는 lr은 0.01\n",
        "optimizer = torch.optim.SGD(model.parameters(), lr=0.01) "
      ],
      "metadata": {
        "id": "T5Pq_LUaI62v"
      },
      "execution_count": 118,
      "outputs": []
    },
    {
      "cell_type": "code",
      "source": [
        "# 전체 훈련 데이터에 대해 경사 하강법을 2,000회 반복\n",
        "nb_epochs = 2000\n",
        "for epoch in range(nb_epochs+1):\n",
        "\n",
        "    # H(x) 계산\n",
        "    prediction = model(x_train)\n",
        "\n",
        "    # cost 계산\n",
        "    cost = F.mse_loss(prediction, y_train) # <== 파이토치에서 제공하는 평균 제곱 오차 함수\n",
        "\n",
        "    # cost로 H(x) 개선하는 부분\n",
        "    # gradient를 0으로 초기화\n",
        "    optimizer.zero_grad()\n",
        "    # 비용 함수를 미분하여 gradient 계산\n",
        "    cost.backward() # backward 연산\n",
        "    # W와 b를 업데이트\n",
        "    optimizer.step()\n",
        "\n",
        "    if epoch % 100 == 0:\n",
        "    # 100번마다 로그 출력\n",
        "      print('Epoch {:4d}/{} Cost: {:.6f}'.format(\n",
        "          epoch, nb_epochs, cost.item()\n",
        "      ))"
      ],
      "metadata": {
        "colab": {
          "base_uri": "https://localhost:8080/"
        },
        "id": "JOQoqkruI62v",
        "outputId": "31b38199-6a20-4cdc-af9b-2722fbf5e4dd"
      },
      "execution_count": 119,
      "outputs": [
        {
          "output_type": "stream",
          "name": "stdout",
          "text": [
            "Epoch    0/2000 Cost: 13.103541\n",
            "Epoch  100/2000 Cost: 0.002791\n",
            "Epoch  200/2000 Cost: 0.001724\n",
            "Epoch  300/2000 Cost: 0.001066\n",
            "Epoch  400/2000 Cost: 0.000658\n",
            "Epoch  500/2000 Cost: 0.000407\n",
            "Epoch  600/2000 Cost: 0.000251\n",
            "Epoch  700/2000 Cost: 0.000155\n",
            "Epoch  800/2000 Cost: 0.000096\n",
            "Epoch  900/2000 Cost: 0.000059\n",
            "Epoch 1000/2000 Cost: 0.000037\n",
            "Epoch 1100/2000 Cost: 0.000023\n",
            "Epoch 1200/2000 Cost: 0.000014\n",
            "Epoch 1300/2000 Cost: 0.000009\n",
            "Epoch 1400/2000 Cost: 0.000005\n",
            "Epoch 1500/2000 Cost: 0.000003\n",
            "Epoch 1600/2000 Cost: 0.000002\n",
            "Epoch 1700/2000 Cost: 0.000001\n",
            "Epoch 1800/2000 Cost: 0.000001\n",
            "Epoch 1900/2000 Cost: 0.000000\n",
            "Epoch 2000/2000 Cost: 0.000000\n"
          ]
        }
      ]
    },
    {
      "cell_type": "code",
      "source": [
        "# 임의의 입력 4를 선언\n",
        "new_var =  torch.FloatTensor([[4.0]]) \n",
        "\n",
        "# 입력한 값 4에 대해서 예측값 y를 리턴받아서 pred_y에 저장\n",
        "pred_y = model(new_var) # forward 연산\n",
        "\n",
        "# y = 2x 이므로 입력이 4라면 y가 8에 가까운 값이 나와야 제대로 학습이 된 것\n",
        "print(\"훈련 후 입력이 4일 때의 예측값 :\", pred_y) "
      ],
      "metadata": {
        "colab": {
          "base_uri": "https://localhost:8080/"
        },
        "id": "rzFszJn9I62w",
        "outputId": "5ee6fdbd-136b-4fd6-e8c2-39ac7109d5a9"
      },
      "execution_count": 121,
      "outputs": [
        {
          "output_type": "stream",
          "name": "stdout",
          "text": [
            "훈련 후 입력이 4일 때의 예측값 : tensor([[7.9989]], grad_fn=<AddmmBackward0>)\n"
          ]
        }
      ]
    },
    {
      "cell_type": "code",
      "source": [
        "# 학습 후의 W와 b의 값을 출력\n",
        "print(list(model.parameters()))"
      ],
      "metadata": {
        "colab": {
          "base_uri": "https://localhost:8080/"
        },
        "id": "5r51G-fkI62w",
        "outputId": "f8a303b6-0d6c-420d-ae6d-83843bd7076f"
      },
      "execution_count": 122,
      "outputs": [
        {
          "output_type": "stream",
          "name": "stdout",
          "text": [
            "[Parameter containing:\n",
            "tensor([[1.9994]], requires_grad=True), Parameter containing:\n",
            "tensor([0.0014], requires_grad=True)]\n"
          ]
        }
      ]
    },
    {
      "cell_type": "markdown",
      "source": [
        "+ W의 값이 2에 가깝고, b의 값이 0에 가까운 것\n",
        "+ H(x) 식에 입력 x로부터 예측된 y를 얻는 것을 forward 연산이라고 합니다.\n",
        "+ 학습 전, prediction = model(x_train)은 x_train으로부터 예측값을 리턴하므로 forward 연산입니다.\n",
        "+ 학습 후, pred_y = model(new_var)는 임의의 값 new_var로부터 예측값을 리턴하므로 forward 연산입니다.\n",
        "+ 학습 과정에서 비용 함수를 미분하여 기울기를 구하는 것을 backward 연산이라고 합니다.\n",
        "cost.backward()는 비용 함수로부터 기울기를 구하라는 의미이며 backward 연산입니다."
      ],
      "metadata": {
        "id": "DCn98lE3Lisn"
      }
    },
    {
      "cell_type": "markdown",
      "source": [
        "+ 다중 선형 회귀 구현하기"
      ],
      "metadata": {
        "id": "wiM96qAgLs8N"
      }
    },
    {
      "cell_type": "code",
      "source": [
        "import torch\n",
        "import torch.nn as nn\n",
        "import torch.nn.functional as F\n",
        "torch.manual_seed(1)"
      ],
      "metadata": {
        "colab": {
          "base_uri": "https://localhost:8080/"
        },
        "id": "Wdx4fqQkI62w",
        "outputId": "beed43e1-6278-4722-9d59-6cf51ef8adbd"
      },
      "execution_count": 123,
      "outputs": [
        {
          "output_type": "execute_result",
          "data": {
            "text/plain": [
              "<torch._C.Generator at 0x7f9f7cc607d0>"
            ]
          },
          "metadata": {},
          "execution_count": 123
        }
      ]
    },
    {
      "cell_type": "code",
      "source": [
        "# 데이터\n",
        "x_train = torch.FloatTensor([[73, 80, 75],\n",
        "                             [93, 88, 93],\n",
        "                             [89, 91, 90],\n",
        "                             [96, 98, 100],\n",
        "                             [73, 66, 70]])\n",
        "y_train = torch.FloatTensor([[152], [185], [180], [196], [142]])"
      ],
      "metadata": {
        "id": "TCRHFssEI62w"
      },
      "execution_count": 124,
      "outputs": []
    },
    {
      "cell_type": "code",
      "source": [
        "# 모델을 선언 및 초기화. 다중 선형 회귀이므로 input_dim=3, output_dim=1.\n",
        "model = nn.Linear(3,1)"
      ],
      "metadata": {
        "id": "svqG8RKPI62w"
      },
      "execution_count": 125,
      "outputs": []
    },
    {
      "cell_type": "code",
      "source": [
        "print(list(model.parameters()))"
      ],
      "metadata": {
        "colab": {
          "base_uri": "https://localhost:8080/"
        },
        "id": "MOsYrSAOI62w",
        "outputId": "0168c8e7-903d-4d58-8ba7-3e851a6f590f"
      },
      "execution_count": 126,
      "outputs": [
        {
          "output_type": "stream",
          "name": "stdout",
          "text": [
            "[Parameter containing:\n",
            "tensor([[ 0.2975, -0.2548, -0.1119]], requires_grad=True), Parameter containing:\n",
            "tensor([0.2710], requires_grad=True)]\n"
          ]
        }
      ]
    },
    {
      "cell_type": "code",
      "source": [
        "optimizer = torch.optim.SGD(model.parameters(), lr=1e-5) # 학습률(learning rate)은 0.00001로 정합니다. "
      ],
      "metadata": {
        "id": "4yxTwt3VI6-v"
      },
      "execution_count": 127,
      "outputs": []
    },
    {
      "cell_type": "code",
      "source": [
        "nb_epochs = 2000\n",
        "for epoch in range(nb_epochs+1):\n",
        "\n",
        "    # H(x) 계산\n",
        "    prediction = model(x_train)\n",
        "    # model(x_train)은 model.forward(x_train)와 동일함.\n",
        "\n",
        "    # cost 계산\n",
        "    cost = F.mse_loss(prediction, y_train) # <== 파이토치에서 제공하는 평균 제곱 오차 함수\n",
        "\n",
        "    # cost로 H(x) 개선하는 부분\n",
        "    # gradient를 0으로 초기화\n",
        "    optimizer.zero_grad()\n",
        "    # 비용 함수를 미분하여 gradient 계산\n",
        "    cost.backward()\n",
        "    # W와 b를 업데이트\n",
        "    optimizer.step()\n",
        "\n",
        "    if epoch % 100 == 0:\n",
        "    # 100번마다 로그 출력\n",
        "      print('Epoch {:4d}/{} Cost: {:.6f}'.format(\n",
        "          epoch, nb_epochs, cost.item()\n",
        "      ))"
      ],
      "metadata": {
        "colab": {
          "base_uri": "https://localhost:8080/"
        },
        "id": "aVm6JDAtI6-v",
        "outputId": "bb194c1c-54db-4639-99ca-9ddb8b532204"
      },
      "execution_count": 128,
      "outputs": [
        {
          "output_type": "stream",
          "name": "stdout",
          "text": [
            "Epoch    0/2000 Cost: 31667.597656\n",
            "Epoch  100/2000 Cost: 0.225993\n",
            "Epoch  200/2000 Cost: 0.223911\n",
            "Epoch  300/2000 Cost: 0.221941\n",
            "Epoch  400/2000 Cost: 0.220059\n",
            "Epoch  500/2000 Cost: 0.218271\n",
            "Epoch  600/2000 Cost: 0.216575\n",
            "Epoch  700/2000 Cost: 0.214950\n",
            "Epoch  800/2000 Cost: 0.213413\n",
            "Epoch  900/2000 Cost: 0.211952\n",
            "Epoch 1000/2000 Cost: 0.210560\n",
            "Epoch 1100/2000 Cost: 0.209232\n",
            "Epoch 1200/2000 Cost: 0.207967\n",
            "Epoch 1300/2000 Cost: 0.206761\n",
            "Epoch 1400/2000 Cost: 0.205619\n",
            "Epoch 1500/2000 Cost: 0.204522\n",
            "Epoch 1600/2000 Cost: 0.203484\n",
            "Epoch 1700/2000 Cost: 0.202485\n",
            "Epoch 1800/2000 Cost: 0.201542\n",
            "Epoch 1900/2000 Cost: 0.200635\n",
            "Epoch 2000/2000 Cost: 0.199769\n"
          ]
        }
      ]
    },
    {
      "cell_type": "code",
      "source": [
        "# 임의의 입력 [73, 80, 75]를 선언\n",
        "new_var =  torch.FloatTensor([[73, 80, 75]]) \n",
        "# 입력한 값 [73, 80, 75]에 대해서 예측값 y를 리턴받아서 pred_y에 저장\n",
        "pred_y = model(new_var) \n",
        "print(\"훈련 후 입력이 73, 80, 75일 때의 예측값 :\", pred_y) "
      ],
      "metadata": {
        "colab": {
          "base_uri": "https://localhost:8080/"
        },
        "id": "zj4PTuqtI6-w",
        "outputId": "55285e9b-4438-45ef-d5f5-902d318e131a"
      },
      "execution_count": 129,
      "outputs": [
        {
          "output_type": "stream",
          "name": "stdout",
          "text": [
            "훈련 후 입력이 73, 80, 75일 때의 예측값 : tensor([[151.2305]], grad_fn=<AddmmBackward0>)\n"
          ]
        }
      ]
    },
    {
      "cell_type": "code",
      "source": [
        "print(list(model.parameters()))"
      ],
      "metadata": {
        "colab": {
          "base_uri": "https://localhost:8080/"
        },
        "id": "0cbR3AAmI6-w",
        "outputId": "da4a9ad2-957c-4b04-d685-4b2e8f6bad5e"
      },
      "execution_count": 130,
      "outputs": [
        {
          "output_type": "stream",
          "name": "stdout",
          "text": [
            "[Parameter containing:\n",
            "tensor([[0.9778, 0.4539, 0.5768]], requires_grad=True), Parameter containing:\n",
            "tensor([0.2802], requires_grad=True)]\n"
          ]
        }
      ]
    },
    {
      "cell_type": "markdown",
      "source": [
        "https://tutorials.pytorch.kr/beginner/pytorch_with_examples.html#tensorflow-static-graph\n",
        "\n",
        "https://www.geeksforgeeks.org/linear-regression-using-pytorch/\n",
        "\n",
        "https://www.yceffort.kr/2019/02/19/pytorch-02-linear-regression/"
      ],
      "metadata": {
        "id": "I8j-3k_VMDIP"
      }
    },
    {
      "cell_type": "markdown",
      "source": [
        "### 5. 클래스로 파이토치 모델 구현하기\n",
        "---\n",
        "+ 모델을 클래스로 구현하기\n",
        "```\n",
        "# 모델을 선언 및 초기화. 단순 선형 회귀이므로 input_dim=1, output_dim=1.\n",
        "model = nn.Linear(1,1)\n",
        "```\n",
        "```\n",
        "class LinearRegressionModel(nn.Module): # torch.nn.Module을 상속받는 파이썬 클래스\n",
        "    def __init__(self): #\n",
        "        super().__init__()\n",
        "        self.linear = nn.Linear(1, 1) # 단순 선형 회귀이므로 input_dim=1, output_dim=1.\n",
        "\n",
        "    def forward(self, x):\n",
        "        return self.linear(x)\n",
        "```\n",
        "```\n",
        "model = LinearRegressionModel()\n",
        "````\n",
        "+ 클래스(class) 형태의 모델은 `nn.Module` 을 상속받습니다. \n",
        "+ 그리고 `__init__()`에서 모델의 구조와 동작을 정의하는 생성자를 정의합니다. 이는 파이썬에서 객체가 갖는 속성값을 초기화하는 역할로, 객체가 생성될 때 자동으호 호출됩니다. \n",
        "+ `super()` 함수를 부르면 여기서 만든 클래스는 nn.Module 클래스의 속성들을 가지고 초기화 됩니다. \n",
        "+ `foward()` 함수는 모델이 학습데이터를 입력받아서 forward 연산을 진행시키는 함수입니다. 이 `forward()` 함수는 model 객체를 데이터와 함께 호출하면 자동으로 실행이됩니다. 예를 들어 model이란 이름의 객체를 생성 후, model(입력 데이터)와 같은 형식으로 객체를 호출하면 자동으로 forward 연산이 수행됩니다.\n",
        "\n",
        "앞서 다중 선형 회귀 모델은 다음과 같이 구현했었습니다.\n",
        "\n",
        "```\n",
        "# 모델을 선언 및 초기화. 다중 선형 회귀이므로 input_dim=3, output_dim=1.\n",
        "model = nn.Linear(3,1)\n",
        "```\n",
        "```\n",
        "class MultivariateLinearRegressionModel(nn.Module):\n",
        "    def __init__(self):\n",
        "        super().__init__()\n",
        "        self.linear = nn.Linear(3, 1) # 다중 선형 회귀이므로 input_dim=3, output_dim=1.\n",
        "\n",
        "    def forward(self, x):\n",
        "        return self.linear(x)\n",
        "```\n",
        "```\n",
        "model = MultivariateLinearRegressionModel()\n",
        "```"
      ],
      "metadata": {
        "id": "k9otOusGMGDX"
      }
    },
    {
      "cell_type": "markdown",
      "source": [
        "+ 단순 선형 회귀 클래스로 구현하기"
      ],
      "metadata": {
        "id": "dc0-8DWuNG6D"
      }
    },
    {
      "cell_type": "code",
      "source": [
        "import torch\n",
        "import torch.nn as nn\n",
        "import torch.nn.functional as F\n",
        "torch.manual_seed(1)"
      ],
      "metadata": {
        "colab": {
          "base_uri": "https://localhost:8080/"
        },
        "id": "1cMNVzU7I6-w",
        "outputId": "f48eb88b-618c-47ca-a8ee-cac8b07fb154"
      },
      "execution_count": 131,
      "outputs": [
        {
          "output_type": "execute_result",
          "data": {
            "text/plain": [
              "<torch._C.Generator at 0x7f9f7cc607d0>"
            ]
          },
          "metadata": {},
          "execution_count": 131
        }
      ]
    },
    {
      "cell_type": "code",
      "source": [
        "# 데이터\n",
        "x_train = torch.FloatTensor([[1], [2], [3]])\n",
        "y_train = torch.FloatTensor([[2], [4], [6]])"
      ],
      "metadata": {
        "id": "r4Wd34V4I6-w"
      },
      "execution_count": 132,
      "outputs": []
    },
    {
      "cell_type": "code",
      "source": [
        "class LinearRegressionModel(nn.Module):\n",
        "    def __init__(self):\n",
        "        super().__init__()\n",
        "        self.linear = nn.Linear(1, 1)\n",
        "\n",
        "    def forward(self, x):\n",
        "        return self.linear(x)"
      ],
      "metadata": {
        "id": "LawMLQ9wI6-w"
      },
      "execution_count": 133,
      "outputs": []
    },
    {
      "cell_type": "code",
      "source": [
        "model = LinearRegressionModel()"
      ],
      "metadata": {
        "id": "pXA-vxugI6-w"
      },
      "execution_count": 134,
      "outputs": []
    },
    {
      "cell_type": "code",
      "source": [
        "# optimizer 설정. 경사 하강법 SGD를 사용하고 learning rate를 의미하는 lr은 0.01\n",
        "optimizer = torch.optim.SGD(model.parameters(), lr=0.01)"
      ],
      "metadata": {
        "id": "q669CfL6I6-w"
      },
      "execution_count": 135,
      "outputs": []
    },
    {
      "cell_type": "code",
      "source": [
        "# 전체 훈련 데이터에 대해 경사 하강법을 2,000회 반복\n",
        "nb_epochs = 2000\n",
        "for epoch in range(nb_epochs+1):\n",
        "\n",
        "    # H(x) 계산\n",
        "    prediction = model(x_train)\n",
        "\n",
        "    # cost 계산\n",
        "    cost = F.mse_loss(prediction, y_train) # <== 파이토치에서 제공하는 평균 제곱 오차 함수\n",
        "\n",
        "    # cost로 H(x) 개선하는 부분\n",
        "    # gradient를 0으로 초기화\n",
        "    optimizer.zero_grad()\n",
        "    # 비용 함수를 미분하여 gradient 계산\n",
        "    cost.backward() # backward 연산\n",
        "    # W와 b를 업데이트\n",
        "    optimizer.step()\n",
        "\n",
        "    if epoch % 100 == 0:\n",
        "    # 100번마다 로그 출력\n",
        "      print('Epoch {:4d}/{} Cost: {:.6f}'.format(\n",
        "          epoch, nb_epochs, cost.item()\n",
        "      ))"
      ],
      "metadata": {
        "colab": {
          "base_uri": "https://localhost:8080/"
        },
        "id": "TqNb23LJI7G7",
        "outputId": "4d732540-b307-4218-d6fc-572a26ff3c0b"
      },
      "execution_count": 136,
      "outputs": [
        {
          "output_type": "stream",
          "name": "stdout",
          "text": [
            "Epoch    0/2000 Cost: 13.103541\n",
            "Epoch  100/2000 Cost: 0.002791\n",
            "Epoch  200/2000 Cost: 0.001724\n",
            "Epoch  300/2000 Cost: 0.001066\n",
            "Epoch  400/2000 Cost: 0.000658\n",
            "Epoch  500/2000 Cost: 0.000407\n",
            "Epoch  600/2000 Cost: 0.000251\n",
            "Epoch  700/2000 Cost: 0.000155\n",
            "Epoch  800/2000 Cost: 0.000096\n",
            "Epoch  900/2000 Cost: 0.000059\n",
            "Epoch 1000/2000 Cost: 0.000037\n",
            "Epoch 1100/2000 Cost: 0.000023\n",
            "Epoch 1200/2000 Cost: 0.000014\n",
            "Epoch 1300/2000 Cost: 0.000009\n",
            "Epoch 1400/2000 Cost: 0.000005\n",
            "Epoch 1500/2000 Cost: 0.000003\n",
            "Epoch 1600/2000 Cost: 0.000002\n",
            "Epoch 1700/2000 Cost: 0.000001\n",
            "Epoch 1800/2000 Cost: 0.000001\n",
            "Epoch 1900/2000 Cost: 0.000000\n",
            "Epoch 2000/2000 Cost: 0.000000\n"
          ]
        }
      ]
    },
    {
      "cell_type": "markdown",
      "source": [
        "+ 다중 선형 회귀 클래스로 구현하기"
      ],
      "metadata": {
        "id": "vbkF_OfKNpet"
      }
    },
    {
      "cell_type": "code",
      "source": [
        "import torch\n",
        "import torch.nn as nn\n",
        "import torch.nn.functional as F\n",
        "torch.manual_seed(1)"
      ],
      "metadata": {
        "colab": {
          "base_uri": "https://localhost:8080/"
        },
        "id": "WjVoL00uI7G8",
        "outputId": "d3c66ae3-9e73-47c2-e23a-69d02a0fae6c"
      },
      "execution_count": 137,
      "outputs": [
        {
          "output_type": "execute_result",
          "data": {
            "text/plain": [
              "<torch._C.Generator at 0x7f9f7cc607d0>"
            ]
          },
          "metadata": {},
          "execution_count": 137
        }
      ]
    },
    {
      "cell_type": "code",
      "source": [
        "# 데이터\n",
        "x_train = torch.FloatTensor([[73, 80, 75],\n",
        "                             [93, 88, 93],\n",
        "                             [89, 91, 90],\n",
        "                             [96, 98, 100],\n",
        "                             [73, 66, 70]])\n",
        "y_train = torch.FloatTensor([[152], [185], [180], [196], [142]])"
      ],
      "metadata": {
        "id": "_iyqZG6LI7G8"
      },
      "execution_count": 138,
      "outputs": []
    },
    {
      "cell_type": "code",
      "source": [
        "class MultivariateLinearRegressionModel(nn.Module):\n",
        "    def __init__(self):\n",
        "        super().__init__()\n",
        "        self.linear = nn.Linear(3, 1) # 다중 선형 회귀이므로 input_dim=3, output_dim=1.\n",
        "\n",
        "    def forward(self, x):\n",
        "        return self.linear(x)"
      ],
      "metadata": {
        "id": "TdJ_-vWjI7G8"
      },
      "execution_count": 139,
      "outputs": []
    },
    {
      "cell_type": "code",
      "source": [
        "model = MultivariateLinearRegressionModel()"
      ],
      "metadata": {
        "id": "jAC7-axHI7G8"
      },
      "execution_count": 140,
      "outputs": []
    },
    {
      "cell_type": "code",
      "source": [
        "optimizer = torch.optim.SGD(model.parameters(), lr=1e-5) "
      ],
      "metadata": {
        "id": "0xUoMBoDI7G8"
      },
      "execution_count": 141,
      "outputs": []
    },
    {
      "cell_type": "code",
      "source": [
        "nb_epochs = 2000\n",
        "for epoch in range(nb_epochs+1):\n",
        "\n",
        "    # H(x) 계산\n",
        "    prediction = model(x_train)\n",
        "    # model(x_train)은 model.forward(x_train)와 동일함.\n",
        "\n",
        "    # cost 계산\n",
        "    cost = F.mse_loss(prediction, y_train) # <== 파이토치에서 제공하는 평균 제곱 오차 함수\n",
        "\n",
        "    # cost로 H(x) 개선하는 부분\n",
        "    # gradient를 0으로 초기화\n",
        "    optimizer.zero_grad()\n",
        "    # 비용 함수를 미분하여 gradient 계산\n",
        "    cost.backward()\n",
        "    # W와 b를 업데이트\n",
        "    optimizer.step()\n",
        "\n",
        "    if epoch % 100 == 0:\n",
        "    # 100번마다 로그 출력\n",
        "      print('Epoch {:4d}/{} Cost: {:.6f}'.format(\n",
        "          epoch, nb_epochs, cost.item()\n",
        "      ))"
      ],
      "metadata": {
        "colab": {
          "base_uri": "https://localhost:8080/"
        },
        "id": "3wTGTzW_I7G8",
        "outputId": "a556095e-dade-4bee-e8ae-f839cce1492d"
      },
      "execution_count": 142,
      "outputs": [
        {
          "output_type": "stream",
          "name": "stdout",
          "text": [
            "Epoch    0/2000 Cost: 31667.597656\n",
            "Epoch  100/2000 Cost: 0.225993\n",
            "Epoch  200/2000 Cost: 0.223911\n",
            "Epoch  300/2000 Cost: 0.221941\n",
            "Epoch  400/2000 Cost: 0.220059\n",
            "Epoch  500/2000 Cost: 0.218271\n",
            "Epoch  600/2000 Cost: 0.216575\n",
            "Epoch  700/2000 Cost: 0.214950\n",
            "Epoch  800/2000 Cost: 0.213413\n",
            "Epoch  900/2000 Cost: 0.211952\n",
            "Epoch 1000/2000 Cost: 0.210560\n",
            "Epoch 1100/2000 Cost: 0.209232\n",
            "Epoch 1200/2000 Cost: 0.207967\n",
            "Epoch 1300/2000 Cost: 0.206761\n",
            "Epoch 1400/2000 Cost: 0.205619\n",
            "Epoch 1500/2000 Cost: 0.204522\n",
            "Epoch 1600/2000 Cost: 0.203484\n",
            "Epoch 1700/2000 Cost: 0.202485\n",
            "Epoch 1800/2000 Cost: 0.201542\n",
            "Epoch 1900/2000 Cost: 0.200635\n",
            "Epoch 2000/2000 Cost: 0.199769\n"
          ]
        }
      ]
    },
    {
      "cell_type": "markdown",
      "source": [
        "### 6. 미니 배치와 데이터 로드(Mini Batch and Data Load)\n",
        "---\n",
        "1. 미니 배치와 배치 크기(Mini Batch and Batch Size): \n",
        " + 미니 배치 학습을 하게되면 미니 배치만큼만 가져가서 미니 배치에 대한 대한 비용(cost)를 계산하고, 경사 하강법을 수행합니다. 그리고 다음 미니 배치를 가져가서 경사 하강법을 수행하고 마지막 미니 배치까지 이를 반복합니다. 이렇게 전체 데이터에 대한 학습이 1회 끝나면 1 에포크(Epoch)가 끝나게 됩니다.\n",
        " + 배치 경사 하강법은 경사 하강법을 할 때, 전체 데이터를 사용하므로 가중치 값이 최적값에 수렴하는 과정이 매우 안정적이지만, 계산량이 너무 많이 듭니다. 미니 배치 경사 하강법은 경사 하강법을 할 때, 전체 데이터의 일부만을 보고 수행하므로 최적값으로 수렴하는 과정에서 값이 조금 헤매기도 하지만 훈련 속도가 빠릅니다.\n",
        " + 배치 크기는 보통 2의 제곱수를 사용합니다. ex) 2, 4, 8, 16, 32, 64... 그 이유는 CPU와 GPU의 메모리가 2의 배수이므로 배치크기가 2의 제곱수일 경우에 데이터 송수신의 효율을 높일 수 있다고 합니다.\n",
        "2. 이터레이션(Iteration)\n",
        "\n",
        " + ![image.png](data:image/png;base64,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)\n",
        "3. 데이터 로드하기(Data Load)\n",
        " + 파이토치에서는 데이터를 좀 더 쉽게 다룰 수 있도록 유용한 도구로서 데이터셋(Dataset)과 데이터로더(DataLoader)를 제공합니다. 이를 사용하면 미니 배치 학습, 데이터 셔플(shuffle), 병렬 처리까지 간단히 수행할 수 있습니다. 기본적인 사용 방법은 Dataset을 정의하고, 이를 DataLoader에 전달하는 것입니다."
      ],
      "metadata": {
        "id": "DurXQVZMN1v7"
      }
    },
    {
      "cell_type": "code",
      "source": [
        "import torch\n",
        "import torch.nn as nn\n",
        "import torch.nn.functional as F"
      ],
      "metadata": {
        "id": "6wR90_qYI7G8"
      },
      "execution_count": 143,
      "outputs": []
    },
    {
      "cell_type": "code",
      "source": [
        "from torch.utils.data import TensorDataset # 텐서데이터셋\n",
        "from torch.utils.data import DataLoader # 데이터로더"
      ],
      "metadata": {
        "id": "nDjGjwPoI7G8"
      },
      "execution_count": 144,
      "outputs": []
    },
    {
      "cell_type": "code",
      "source": [
        "x_train  =  torch.FloatTensor([[73,  80,  75], \n",
        "                               [93,  88,  93], \n",
        "                               [89,  91,  90], \n",
        "                               [96,  98,  100],   \n",
        "                               [73,  66,  70]])  \n",
        "y_train  =  torch.FloatTensor([[152],  [185],  [180],  [196],  [142]])"
      ],
      "metadata": {
        "id": "Y6y_65nMI7PJ"
      },
      "execution_count": 145,
      "outputs": []
    },
    {
      "cell_type": "code",
      "source": [
        "dataset = TensorDataset(x_train, y_train)"
      ],
      "metadata": {
        "id": "htrehdTmI7PJ"
      },
      "execution_count": 146,
      "outputs": []
    },
    {
      "cell_type": "markdown",
      "source": [
        "+ 데이터로더는 기본적으로 2개의 인자를 입력받는다. 하나는 데이터셋, 미니 배치의 크기입니다. 이때 미니 배치의 크기는 통상적으로 2의 배수를 사용합니다. (ex) 64, 128, 256...) \n",
        "+ 그리고 추가적으로 많이 사용되는 인자로 shuffle이 있습니다. shuffle=True를 선택하면 Epoch마다 데이터셋을 섞어서 데이터가 학습되는 순서를 바꿉니다."
      ],
      "metadata": {
        "id": "_0JbCSuFP48h"
      }
    },
    {
      "cell_type": "code",
      "source": [
        "dataloader = DataLoader(dataset, batch_size=2, shuffle=True)"
      ],
      "metadata": {
        "id": "DONW6XtUI7PJ"
      },
      "execution_count": 147,
      "outputs": []
    },
    {
      "cell_type": "code",
      "source": [
        "model = nn.Linear(3,1)\n",
        "optimizer = torch.optim.SGD(model.parameters(), lr=1e-5) "
      ],
      "metadata": {
        "id": "4fUz3JjaI7PK"
      },
      "execution_count": 148,
      "outputs": []
    },
    {
      "cell_type": "code",
      "source": [
        "nb_epochs = 20\n",
        "for epoch in range(nb_epochs + 1):\n",
        "  for batch_idx, samples in enumerate(dataloader):\n",
        "    # print(batch_idx)\n",
        "    # print(samples)\n",
        "    x_train, y_train = samples\n",
        "    # H(x) 계산\n",
        "    prediction = model(x_train)\n",
        "\n",
        "    # cost 계산\n",
        "    cost = F.mse_loss(prediction, y_train)\n",
        "\n",
        "    # cost로 H(x) 계산\n",
        "    optimizer.zero_grad()\n",
        "    cost.backward()\n",
        "    optimizer.step()\n",
        "\n",
        "    print('Epoch {:4d}/{} Batch {}/{} Cost: {:.6f}'.format(\n",
        "        epoch, nb_epochs, batch_idx+1, len(dataloader),\n",
        "        cost.item()\n",
        "        ))"
      ],
      "metadata": {
        "colab": {
          "base_uri": "https://localhost:8080/"
        },
        "id": "qQs_P08NI7PK",
        "outputId": "52af6305-1ac0-47bb-b925-16221a5b623d"
      },
      "execution_count": 149,
      "outputs": [
        {
          "output_type": "stream",
          "name": "stdout",
          "text": [
            "Epoch    0/20 Batch 1/3 Cost: 40394.078125\n",
            "Epoch    0/20 Batch 2/3 Cost: 10625.847656\n",
            "Epoch    0/20 Batch 3/3 Cost: 5451.569824\n",
            "Epoch    1/20 Batch 1/3 Cost: 937.502686\n",
            "Epoch    1/20 Batch 2/3 Cost: 265.944641\n",
            "Epoch    1/20 Batch 3/3 Cost: 244.422516\n",
            "Epoch    2/20 Batch 1/3 Cost: 3.523124\n",
            "Epoch    2/20 Batch 2/3 Cost: 55.838848\n",
            "Epoch    2/20 Batch 3/3 Cost: 2.371109\n",
            "Epoch    3/20 Batch 1/3 Cost: 21.615038\n",
            "Epoch    3/20 Batch 2/3 Cost: 1.536160\n",
            "Epoch    3/20 Batch 3/3 Cost: 23.620941\n",
            "Epoch    4/20 Batch 1/3 Cost: 12.848326\n",
            "Epoch    4/20 Batch 2/3 Cost: 17.578579\n",
            "Epoch    4/20 Batch 3/3 Cost: 18.382185\n",
            "Epoch    5/20 Batch 1/3 Cost: 11.401794\n",
            "Epoch    5/20 Batch 2/3 Cost: 20.961008\n",
            "Epoch    5/20 Batch 3/3 Cost: 28.939528\n",
            "Epoch    6/20 Batch 1/3 Cost: 14.807928\n",
            "Epoch    6/20 Batch 2/3 Cost: 2.599214\n",
            "Epoch    6/20 Batch 3/3 Cost: 33.501408\n",
            "Epoch    7/20 Batch 1/3 Cost: 16.869902\n",
            "Epoch    7/20 Batch 2/3 Cost: 24.529007\n",
            "Epoch    7/20 Batch 3/3 Cost: 10.461083\n",
            "Epoch    8/20 Batch 1/3 Cost: 8.686938\n",
            "Epoch    8/20 Batch 2/3 Cost: 30.927563\n",
            "Epoch    8/20 Batch 3/3 Cost: 7.897373\n",
            "Epoch    9/20 Batch 1/3 Cost: 7.612912\n",
            "Epoch    9/20 Batch 2/3 Cost: 18.703302\n",
            "Epoch    9/20 Batch 3/3 Cost: 16.064274\n",
            "Epoch   10/20 Batch 1/3 Cost: 12.797729\n",
            "Epoch   10/20 Batch 2/3 Cost: 8.214152\n",
            "Epoch   10/20 Batch 3/3 Cost: 23.461618\n",
            "Epoch   11/20 Batch 1/3 Cost: 16.458567\n",
            "Epoch   11/20 Batch 2/3 Cost: 8.302089\n",
            "Epoch   11/20 Batch 3/3 Cost: 18.300760\n",
            "Epoch   12/20 Batch 1/3 Cost: 3.977037\n",
            "Epoch   12/20 Batch 2/3 Cost: 16.020422\n",
            "Epoch   12/20 Batch 3/3 Cost: 29.221930\n",
            "Epoch   13/20 Batch 1/3 Cost: 13.251001\n",
            "Epoch   13/20 Batch 2/3 Cost: 15.146610\n",
            "Epoch   13/20 Batch 3/3 Cost: 6.902967\n",
            "Epoch   14/20 Batch 1/3 Cost: 20.339699\n",
            "Epoch   14/20 Batch 2/3 Cost: 8.538606\n",
            "Epoch   14/20 Batch 3/3 Cost: 4.506875\n",
            "Epoch   15/20 Batch 1/3 Cost: 9.943653\n",
            "Epoch   15/20 Batch 2/3 Cost: 13.766188\n",
            "Epoch   15/20 Batch 3/3 Cost: 19.031033\n",
            "Epoch   16/20 Batch 1/3 Cost: 29.411713\n",
            "Epoch   16/20 Batch 2/3 Cost: 15.633725\n",
            "Epoch   16/20 Batch 3/3 Cost: 1.366826\n",
            "Epoch   17/20 Batch 1/3 Cost: 29.227428\n",
            "Epoch   17/20 Batch 2/3 Cost: 8.651312\n",
            "Epoch   17/20 Batch 3/3 Cost: 12.546141\n",
            "Epoch   18/20 Batch 1/3 Cost: 2.676948\n",
            "Epoch   18/20 Batch 2/3 Cost: 23.020742\n",
            "Epoch   18/20 Batch 3/3 Cost: 20.121801\n",
            "Epoch   19/20 Batch 1/3 Cost: 18.024099\n",
            "Epoch   19/20 Batch 2/3 Cost: 9.444228\n",
            "Epoch   19/20 Batch 3/3 Cost: 23.168087\n",
            "Epoch   20/20 Batch 1/3 Cost: 21.232851\n",
            "Epoch   20/20 Batch 2/3 Cost: 11.280956\n",
            "Epoch   20/20 Batch 3/3 Cost: 14.621032\n"
          ]
        }
      ]
    },
    {
      "cell_type": "code",
      "source": [
        "# 임의의 입력 [73, 80, 75]를 선언\n",
        "new_var =  torch.FloatTensor([[73, 80, 75]]) \n",
        "# 입력한 값 [73, 80, 75]에 대해서 예측값 y를 리턴받아서 pred_y에 저장\n",
        "pred_y = model(new_var) \n",
        "print(\"훈련 후 입력이 73, 80, 75일 때의 예측값 :\", pred_y) "
      ],
      "metadata": {
        "colab": {
          "base_uri": "https://localhost:8080/"
        },
        "id": "fnFjOE7cI7PK",
        "outputId": "5d660888-e1f1-413e-f395-dad62f98470f"
      },
      "execution_count": 150,
      "outputs": [
        {
          "output_type": "stream",
          "name": "stdout",
          "text": [
            "훈련 후 입력이 73, 80, 75일 때의 예측값 : tensor([[157.2804]], grad_fn=<AddmmBackward0>)\n"
          ]
        }
      ]
    },
    {
      "cell_type": "markdown",
      "source": [
        "배치 크기 이야기 : https://hongdoki.github.io/2017/10/07/optimization-difficulty-and-generlization-performance-as-batch-size-increases.html\n",
        "\n",
        "클래스로 파이토치 모델 구현하는 것과 데이터 로드에 대한 설명 : https://www.youtube.com/watch?v=KXiDzNai9tI"
      ],
      "metadata": {
        "id": "IvmH-i-LQRgj"
      }
    },
    {
      "cell_type": "markdown",
      "source": [
        "### 7. 커스텀 데이터셋(Custom Dataset)\n",
        "---\n",
        "torch.utils.data.Dataset을 상속받아 직접 커스텀 데이터셋(Custom Dataset)을 만드는 경우도 있습니다. torch.utils.data.Dataset은 파이토치에서 데이터셋을 제공하는 추상 클래스입니다. Dataset을 상속받아 다음 메소드들을 오버라이드 하여 커스텀 데이터셋을 만들어보겠습니다.\n",
        "\n",
        "커스텀 데이터셋을 만들 때, 일단 가장 기본적인 뼈대는 아래와 같습니다. 여기서 필요한 기본적인 define은 3개입니다.\n",
        "```\n",
        "class CustomDataset(torch.utils.data.Dataset): \n",
        "  def __init__(self):\n",
        "\n",
        "  def __len__(self):\n",
        "\n",
        "  def __getitem__(self, idx): \n",
        "```\n",
        "\n",
        "```\n",
        "class CustomDataset(torch.utils.data.Dataset): \n",
        "  def __init__(self):\n",
        "  데이터셋의 전처리를 해주는 부분\n",
        "\n",
        "  def __len__(self):\n",
        "  데이터셋의 길이. 즉, 총 샘플의 수를 적어주는 부분\n",
        "\n",
        "  def __getitem__(self, idx): \n",
        "  데이터셋에서 특정 1개의 샘플을 가져오는 함수\n",
        "```\n",
        "+ len(dataset)을 했을 때 데이터셋의 크기를 리턴할 len\n",
        "+ dataset[i]을 했을 때 i번째 샘플을 가져오도록 하는 인덱싱을 위한 get_item"
      ],
      "metadata": {
        "id": "jOqU2AEJQT3t"
      }
    },
    {
      "cell_type": "markdown",
      "source": [
        "+ 커스텀 데이터셋(Custom Dataset)으로 선형 회귀 구현하기"
      ],
      "metadata": {
        "id": "aI2y7I2MQ05E"
      }
    },
    {
      "cell_type": "code",
      "source": [
        "import torch\n",
        "import torch.nn.functional as F\n",
        "from torch.utils.data import Dataset\n",
        "from torch.utils.data import DataLoader"
      ],
      "metadata": {
        "id": "RVrKhnBdI7PK"
      },
      "execution_count": 151,
      "outputs": []
    },
    {
      "cell_type": "code",
      "source": [
        "# Dataset 상속\n",
        "class CustomDataset(Dataset): \n",
        "  def __init__(self):\n",
        "    self.x_data = [[73, 80, 75],\n",
        "                   [93, 88, 93],\n",
        "                   [89, 91, 90],\n",
        "                   [96, 98, 100],\n",
        "                   [73, 66, 70]]\n",
        "    self.y_data = [[152], [185], [180], [196], [142]]\n",
        "\n",
        "  # 총 데이터의 개수를 리턴\n",
        "  def __len__(self): \n",
        "    return len(self.x_data)\n",
        "\n",
        "  # 인덱스를 입력받아 그에 맵핑되는 입출력 데이터를 파이토치의 Tensor 형태로 리턴\n",
        "  def __getitem__(self, idx): \n",
        "    x = torch.FloatTensor(self.x_data[idx])\n",
        "    y = torch.FloatTensor(self.y_data[idx])\n",
        "    return x, y"
      ],
      "metadata": {
        "id": "DthZgbKXI7PK"
      },
      "execution_count": 152,
      "outputs": []
    },
    {
      "cell_type": "code",
      "source": [
        "dataset = CustomDataset()\n",
        "dataloader = DataLoader(dataset, batch_size=2, shuffle=True)"
      ],
      "metadata": {
        "id": "1FFfEhfHI7PK"
      },
      "execution_count": 153,
      "outputs": []
    },
    {
      "cell_type": "code",
      "source": [
        "model = torch.nn.Linear(3,1)\n",
        "optimizer = torch.optim.SGD(model.parameters(), lr=1e-5) "
      ],
      "metadata": {
        "id": "hfFm64iiI7SA"
      },
      "execution_count": 154,
      "outputs": []
    },
    {
      "cell_type": "code",
      "source": [
        "nb_epochs = 20\n",
        "for epoch in range(nb_epochs + 1):\n",
        "  for batch_idx, samples in enumerate(dataloader):\n",
        "    # print(batch_idx)\n",
        "    # print(samples)\n",
        "    x_train, y_train = samples\n",
        "    # H(x) 계산\n",
        "    prediction = model(x_train)\n",
        "\n",
        "    # cost 계산\n",
        "    cost = F.mse_loss(prediction, y_train)\n",
        "\n",
        "    # cost로 H(x) 계산\n",
        "    optimizer.zero_grad()\n",
        "    cost.backward()\n",
        "    optimizer.step()\n",
        "\n",
        "    print('Epoch {:4d}/{} Batch {}/{} Cost: {:.6f}'.format(\n",
        "        epoch, nb_epochs, batch_idx+1, len(dataloader),\n",
        "        cost.item()\n",
        "        ))"
      ],
      "metadata": {
        "colab": {
          "base_uri": "https://localhost:8080/"
        },
        "id": "ATHUfbdpI7SA",
        "outputId": "a2187ec6-271f-4074-d3cd-32428ef9d05c"
      },
      "execution_count": 155,
      "outputs": [
        {
          "output_type": "stream",
          "name": "stdout",
          "text": [
            "Epoch    0/20 Batch 1/3 Cost: 40548.742188\n",
            "Epoch    0/20 Batch 2/3 Cost: 7291.494629\n",
            "Epoch    0/20 Batch 3/3 Cost: 1811.472290\n",
            "Epoch    1/20 Batch 1/3 Cost: 1189.893066\n",
            "Epoch    1/20 Batch 2/3 Cost: 401.466431\n",
            "Epoch    1/20 Batch 3/3 Cost: 98.862206\n",
            "Epoch    2/20 Batch 1/3 Cost: 59.924492\n",
            "Epoch    2/20 Batch 2/3 Cost: 5.559007\n",
            "Epoch    2/20 Batch 3/3 Cost: 0.005015\n",
            "Epoch    3/20 Batch 1/3 Cost: 7.238708\n",
            "Epoch    3/20 Batch 2/3 Cost: 0.579787\n",
            "Epoch    3/20 Batch 3/3 Cost: 9.432348\n",
            "Epoch    4/20 Batch 1/3 Cost: 2.596285\n",
            "Epoch    4/20 Batch 2/3 Cost: 6.112614\n",
            "Epoch    4/20 Batch 3/3 Cost: 0.173577\n",
            "Epoch    5/20 Batch 1/3 Cost: 0.585848\n",
            "Epoch    5/20 Batch 2/3 Cost: 3.764531\n",
            "Epoch    5/20 Batch 3/3 Cost: 4.496256\n",
            "Epoch    6/20 Batch 1/3 Cost: 1.750809\n",
            "Epoch    6/20 Batch 2/3 Cost: 2.692096\n",
            "Epoch    6/20 Batch 3/3 Cost: 4.092447\n",
            "Epoch    7/20 Batch 1/3 Cost: 0.873122\n",
            "Epoch    7/20 Batch 2/3 Cost: 3.545633\n",
            "Epoch    7/20 Batch 3/3 Cost: 4.466667\n",
            "Epoch    8/20 Batch 1/3 Cost: 2.943422\n",
            "Epoch    8/20 Batch 2/3 Cost: 2.787029\n",
            "Epoch    8/20 Batch 3/3 Cost: 3.619434\n",
            "Epoch    9/20 Batch 1/3 Cost: 3.126629\n",
            "Epoch    9/20 Batch 2/3 Cost: 3.285140\n",
            "Epoch    9/20 Batch 3/3 Cost: 3.671642\n",
            "Epoch   10/20 Batch 1/3 Cost: 4.018428\n",
            "Epoch   10/20 Batch 2/3 Cost: 3.578519\n",
            "Epoch   10/20 Batch 3/3 Cost: 4.788361\n",
            "Epoch   11/20 Batch 1/3 Cost: 2.840890\n",
            "Epoch   11/20 Batch 2/3 Cost: 1.529948\n",
            "Epoch   11/20 Batch 3/3 Cost: 5.260715\n",
            "Epoch   12/20 Batch 1/3 Cost: 2.605295\n",
            "Epoch   12/20 Batch 2/3 Cost: 2.249573\n",
            "Epoch   12/20 Batch 3/3 Cost: 4.657314\n",
            "Epoch   13/20 Batch 1/3 Cost: 2.926564\n",
            "Epoch   13/20 Batch 2/3 Cost: 1.515777\n",
            "Epoch   13/20 Batch 3/3 Cost: 4.302320\n",
            "Epoch   14/20 Batch 1/3 Cost: 0.500350\n",
            "Epoch   14/20 Batch 2/3 Cost: 6.037333\n",
            "Epoch   14/20 Batch 3/3 Cost: 4.123126\n",
            "Epoch   15/20 Batch 1/3 Cost: 1.343163\n",
            "Epoch   15/20 Batch 2/3 Cost: 3.552392\n",
            "Epoch   15/20 Batch 3/3 Cost: 4.573134\n",
            "Epoch   16/20 Batch 1/3 Cost: 3.172132\n",
            "Epoch   16/20 Batch 2/3 Cost: 3.901104\n",
            "Epoch   16/20 Batch 3/3 Cost: 5.279982\n",
            "Epoch   17/20 Batch 1/3 Cost: 2.121084\n",
            "Epoch   17/20 Batch 2/3 Cost: 3.004867\n",
            "Epoch   17/20 Batch 3/3 Cost: 5.418177\n",
            "Epoch   18/20 Batch 1/3 Cost: 2.273882\n",
            "Epoch   18/20 Batch 2/3 Cost: 2.860928\n",
            "Epoch   18/20 Batch 3/3 Cost: 3.722516\n",
            "Epoch   19/20 Batch 1/3 Cost: 3.066788\n",
            "Epoch   19/20 Batch 2/3 Cost: 3.034832\n",
            "Epoch   19/20 Batch 3/3 Cost: 0.832834\n",
            "Epoch   20/20 Batch 1/3 Cost: 2.018387\n",
            "Epoch   20/20 Batch 2/3 Cost: 6.400998\n",
            "Epoch   20/20 Batch 3/3 Cost: 0.817560\n"
          ]
        }
      ]
    },
    {
      "cell_type": "code",
      "source": [
        "# 임의의 입력 [73, 80, 75]를 선언\n",
        "new_var =  torch.FloatTensor([[73, 80, 75]]) \n",
        "# 입력한 값 [73, 80, 75]에 대해서 예측값 y를 리턴받아서 pred_y에 저장\n",
        "pred_y = model(new_var) \n",
        "print(\"훈련 후 입력이 73, 80, 75일 때의 예측값 :\", pred_y) "
      ],
      "metadata": {
        "colab": {
          "base_uri": "https://localhost:8080/"
        },
        "id": "UfwuJpKUI7SA",
        "outputId": "58bb769f-6368-4639-d8de-40cf67a052db"
      },
      "execution_count": 156,
      "outputs": [
        {
          "output_type": "stream",
          "name": "stdout",
          "text": [
            "훈련 후 입력이 73, 80, 75일 때의 예측값 : tensor([[153.5625]], grad_fn=<AddmmBackward0>)\n"
          ]
        }
      ]
    }
  ]
}