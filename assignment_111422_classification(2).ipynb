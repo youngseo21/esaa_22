{
  "nbformat": 4,
  "nbformat_minor": 0,
  "metadata": {
    "colab": {
      "provenance": [],
      "authorship_tag": "ABX9TyPlX9ams9qN66493Td6xdGr",
      "include_colab_link": true
    },
    "kernelspec": {
      "name": "python3",
      "display_name": "Python 3"
    },
    "language_info": {
      "name": "python"
    }
  },
  "cells": [
    {
      "cell_type": "markdown",
      "metadata": {
        "id": "view-in-github",
        "colab_type": "text"
      },
      "source": [
        "<a href=\"https://colab.research.google.com/github/youngseo21/esaa_22/blob/main/assignment_111422_classification(2).ipynb\" target=\"_parent\"><img src=\"https://colab.research.google.com/assets/colab-badge.svg\" alt=\"Open In Colab\"/></a>"
      ]
    },
    {
      "cell_type": "markdown",
      "source": [
        "## **06 XGBoost(eXtra GradientBoost)**\n",
        "____"
      ],
      "metadata": {
        "id": "ZrZ-0OMlkzd_"
      }
    },
    {
      "cell_type": "markdown",
      "source": [
        "### | **XGBoost 개요**\n",
        "___\n",
        "- XGBoost는 트리 기반의 앙상블 학습에서 가장 각광받고 있는 알고리즘 중 하나이다.\n",
        "- 압도적이지는 않으나, 분류 문제에서 일반적으로 다른 머신러닝 알고리즘보다 뛰어난 예측 성능을 보인다.\n",
        "- XGBoost는 GBM에 기반하고 있지만, GBM의 단점인 긴 수행 시간과 과접합 규제(Regularization) 부재 등을 해결하였다.\n",
        "- 특히 XGBoost는 병렬 CPU 환경에서 병렬 학습이 가능해 기존 GBM보다 빠르게 학습을 완료할 수 있다.\n",
        "- XGBoost의 장점\n",
        "  1. 뛰어난 예측 성능 : 일반적으로 분류와 회귀 영역에서 뛰어난 예측 성능을 발휘한다.\n",
        "  2. GBM 대비 빠른 수행 시간 : 일반적인 GBM은 순차적으로 Weak learner가 가중치를 증감하는 방식으로 학습하기 때문에 전반적으로 속도가 느리지만, XGBoost는 병렬 수행을 포함한 다양한 기능으로 GBM에 비해 빠른 수행 속도를 보장한다.(다만, 일반적인 GBM 외의 다른 머신러닝 알고리즘에 비해 빠르지는 않다.)\n",
        "  3. 과적합 규제(Regularization) : 표준 GBM의 경우, 과적합 규제 기능이 없으나, XGBoost는 자체에 과접학 규제 기능이 있어 과적합에 좀 더 강하다.\n",
        "  4. Tree pruning(나무 가지치기) : XGBoost는 `max_depth` 파라미터로도 분할 깊이를 조정하지만, tree pruning으로 더 이상 긍정 이득이 없는 분할을 가지치기 해서 분할 수를 더 줄인다.\n",
        "  5. 자체 내장된 교차 검증 : XGBoost는 반복 수행마다 내부적으로 학습 데이터셋과 평가 데이터셋에 대한 교차 검증을 수행해 최적화된 반복 수행 횟수를 가질 수 있따. 지정된 반복 회수 이전에 교차 검증을 통해 평가 데이터셋의 평가 값이 최적화되면 반복을 중간에 멈출 수 있다.\n",
        "  6. 결손값 자체 처리 : XGBoost는 결손값을 자체 처리할 수 있는 기능을 가지고 있다.\n",
        "- xgboost 파이썬 패키지는 XgBoost 전용 패키지로, XGBoost 고유의 프레임워크를 파이썬 기반에서 구현한 것으로 별도의 API 기반이다. 따라서 사이킷런의 `fit()`, `predict()` 메서드와 같은 사이킷런 고유의 함수 등을 적용할 수 없었는데, 연동할 수 있는 Wrapper class가 제공되어 사이킷런과 연동할 수 있게 되었다.\n",
        "  1. **파이썬 래퍼 XGBoost 모듈** : 초기의 독자적인 XGBoost 프레임워크 기반의 XGBoost. 고유의 API와 하이퍼 파라미터를 사용한다.\n",
        "  2. **사이킷런 래퍼 XGBoost 모듈** : 사이킷런과 연동되는 모듈"
      ],
      "metadata": {
        "id": "IHcRrz_kk-_T"
      }
    },
    {
      "cell_type": "markdown",
      "source": [
        "### | **XGBoost 설치하기**\n",
        "___"
      ],
      "metadata": {
        "id": "jfQztlxglDmr"
      }
    },
    {
      "cell_type": "code",
      "source": [
        "# 구글 코랩 XGBoost 설치 코드\n",
        "!pip install -q xgboost==0.4a30"
      ],
      "metadata": {
        "id": "mZvSTZtBlYxE",
        "colab": {
          "base_uri": "https://localhost:8080/"
        },
        "outputId": "8ec1f267-f9b9-41b4-9a0a-c1470a34798c"
      },
      "execution_count": 1,
      "outputs": [
        {
          "output_type": "stream",
          "name": "stdout",
          "text": [
            "\u001b[?25l\r\u001b[K     |▍                               | 10 kB 18.5 MB/s eta 0:00:01\r\u001b[K     |▉                               | 20 kB 10.6 MB/s eta 0:00:01\r\u001b[K     |█▎                              | 30 kB 14.6 MB/s eta 0:00:01\r\u001b[K     |█▊                              | 40 kB 5.0 MB/s eta 0:00:01\r\u001b[K     |██▏                             | 51 kB 5.0 MB/s eta 0:00:01\r\u001b[K     |██▋                             | 61 kB 5.9 MB/s eta 0:00:01\r\u001b[K     |███                             | 71 kB 6.4 MB/s eta 0:00:01\r\u001b[K     |███▌                            | 81 kB 6.0 MB/s eta 0:00:01\r\u001b[K     |████                            | 92 kB 6.6 MB/s eta 0:00:01\r\u001b[K     |████▍                           | 102 kB 5.6 MB/s eta 0:00:01\r\u001b[K     |████▉                           | 112 kB 5.6 MB/s eta 0:00:01\r\u001b[K     |█████▏                          | 122 kB 5.6 MB/s eta 0:00:01\r\u001b[K     |█████▋                          | 133 kB 5.6 MB/s eta 0:00:01\r\u001b[K     |██████                          | 143 kB 5.6 MB/s eta 0:00:01\r\u001b[K     |██████▌                         | 153 kB 5.6 MB/s eta 0:00:01\r\u001b[K     |███████                         | 163 kB 5.6 MB/s eta 0:00:01\r\u001b[K     |███████▍                        | 174 kB 5.6 MB/s eta 0:00:01\r\u001b[K     |███████▉                        | 184 kB 5.6 MB/s eta 0:00:01\r\u001b[K     |████████▎                       | 194 kB 5.6 MB/s eta 0:00:01\r\u001b[K     |████████▊                       | 204 kB 5.6 MB/s eta 0:00:01\r\u001b[K     |█████████▏                      | 215 kB 5.6 MB/s eta 0:00:01\r\u001b[K     |█████████▋                      | 225 kB 5.6 MB/s eta 0:00:01\r\u001b[K     |██████████                      | 235 kB 5.6 MB/s eta 0:00:01\r\u001b[K     |██████████▍                     | 245 kB 5.6 MB/s eta 0:00:01\r\u001b[K     |██████████▉                     | 256 kB 5.6 MB/s eta 0:00:01\r\u001b[K     |███████████▎                    | 266 kB 5.6 MB/s eta 0:00:01\r\u001b[K     |███████████▊                    | 276 kB 5.6 MB/s eta 0:00:01\r\u001b[K     |████████████▏                   | 286 kB 5.6 MB/s eta 0:00:01\r\u001b[K     |████████████▋                   | 296 kB 5.6 MB/s eta 0:00:01\r\u001b[K     |█████████████                   | 307 kB 5.6 MB/s eta 0:00:01\r\u001b[K     |█████████████▌                  | 317 kB 5.6 MB/s eta 0:00:01\r\u001b[K     |██████████████                  | 327 kB 5.6 MB/s eta 0:00:01\r\u001b[K     |██████████████▍                 | 337 kB 5.6 MB/s eta 0:00:01\r\u001b[K     |██████████████▉                 | 348 kB 5.6 MB/s eta 0:00:01\r\u001b[K     |███████████████▏                | 358 kB 5.6 MB/s eta 0:00:01\r\u001b[K     |███████████████▋                | 368 kB 5.6 MB/s eta 0:00:01\r\u001b[K     |████████████████                | 378 kB 5.6 MB/s eta 0:00:01\r\u001b[K     |████████████████▌               | 389 kB 5.6 MB/s eta 0:00:01\r\u001b[K     |█████████████████               | 399 kB 5.6 MB/s eta 0:00:01\r\u001b[K     |█████████████████▍              | 409 kB 5.6 MB/s eta 0:00:01\r\u001b[K     |█████████████████▉              | 419 kB 5.6 MB/s eta 0:00:01\r\u001b[K     |██████████████████▎             | 430 kB 5.6 MB/s eta 0:00:01\r\u001b[K     |██████████████████▊             | 440 kB 5.6 MB/s eta 0:00:01\r\u001b[K     |███████████████████▏            | 450 kB 5.6 MB/s eta 0:00:01\r\u001b[K     |███████████████████▋            | 460 kB 5.6 MB/s eta 0:00:01\r\u001b[K     |████████████████████            | 471 kB 5.6 MB/s eta 0:00:01\r\u001b[K     |████████████████████▍           | 481 kB 5.6 MB/s eta 0:00:01\r\u001b[K     |████████████████████▉           | 491 kB 5.6 MB/s eta 0:00:01\r\u001b[K     |█████████████████████▎          | 501 kB 5.6 MB/s eta 0:00:01\r\u001b[K     |█████████████████████▊          | 512 kB 5.6 MB/s eta 0:00:01\r\u001b[K     |██████████████████████▏         | 522 kB 5.6 MB/s eta 0:00:01\r\u001b[K     |██████████████████████▋         | 532 kB 5.6 MB/s eta 0:00:01\r\u001b[K     |███████████████████████         | 542 kB 5.6 MB/s eta 0:00:01\r\u001b[K     |███████████████████████▌        | 552 kB 5.6 MB/s eta 0:00:01\r\u001b[K     |████████████████████████        | 563 kB 5.6 MB/s eta 0:00:01\r\u001b[K     |████████████████████████▍       | 573 kB 5.6 MB/s eta 0:00:01\r\u001b[K     |████████████████████████▉       | 583 kB 5.6 MB/s eta 0:00:01\r\u001b[K     |█████████████████████████▏      | 593 kB 5.6 MB/s eta 0:00:01\r\u001b[K     |█████████████████████████▋      | 604 kB 5.6 MB/s eta 0:00:01\r\u001b[K     |██████████████████████████      | 614 kB 5.6 MB/s eta 0:00:01\r\u001b[K     |██████████████████████████▌     | 624 kB 5.6 MB/s eta 0:00:01\r\u001b[K     |███████████████████████████     | 634 kB 5.6 MB/s eta 0:00:01\r\u001b[K     |███████████████████████████▍    | 645 kB 5.6 MB/s eta 0:00:01\r\u001b[K     |███████████████████████████▉    | 655 kB 5.6 MB/s eta 0:00:01\r\u001b[K     |████████████████████████████▎   | 665 kB 5.6 MB/s eta 0:00:01\r\u001b[K     |████████████████████████████▊   | 675 kB 5.6 MB/s eta 0:00:01\r\u001b[K     |█████████████████████████████▏  | 686 kB 5.6 MB/s eta 0:00:01\r\u001b[K     |█████████████████████████████▋  | 696 kB 5.6 MB/s eta 0:00:01\r\u001b[K     |██████████████████████████████  | 706 kB 5.6 MB/s eta 0:00:01\r\u001b[K     |██████████████████████████████▍ | 716 kB 5.6 MB/s eta 0:00:01\r\u001b[K     |██████████████████████████████▉ | 727 kB 5.6 MB/s eta 0:00:01\r\u001b[K     |███████████████████████████████▎| 737 kB 5.6 MB/s eta 0:00:01\r\u001b[K     |███████████████████████████████▊| 747 kB 5.6 MB/s eta 0:00:01\r\u001b[K     |████████████████████████████████| 753 kB 5.6 MB/s \n",
            "\u001b[?25h  Building wheel for xgboost (setup.py) ... \u001b[?25l\u001b[?25hdone\n"
          ]
        }
      ]
    },
    {
      "cell_type": "code",
      "source": [
        "# 설치되었는지 확인하기\n",
        "import xgboost as xgb\n",
        "from xgboost import XGBClassifier"
      ],
      "metadata": {
        "id": "pO0cuolIlQTb"
      },
      "execution_count": 2,
      "outputs": []
    },
    {
      "cell_type": "markdown",
      "source": [
        "### | **파이썬 래퍼 XGBoost 하이퍼 파라미터**\n",
        "___\n",
        "- XGBoost는 GBM과 유사한 하이퍼 파라미터를 동일하게 가지고 있으며, 여기에 조기 중단(early stopping), 과적합을 규제하기 위한 하이퍼 파라미터를 추가로 가지고 있다.\n",
        "- 파이썬 래퍼 XGBoost 모듈과 사이킷런 래퍼 XGBoost 모듈의 일부 하이퍼 파라미터는 동일한 기능을 하는 하이퍼 파라미터지만, 사이킷런 파라미터의 Naming Rule에 따라 파라미터 명이 달라져 주의해야 한다. "
      ],
      "metadata": {
        "id": "t9_PIT7olmOc"
      }
    },
    {
      "cell_type": "markdown",
      "source": [
        "**[ 파이썬 래퍼 XGBoost 하이퍼 파라미터의 유형 ]**\n",
        "1. **일반 파라미터** : 일반적으로 실행 시 스레드의 개수나 silent 모드 등의 선택을 위한 파라미터\n",
        "  - `booster` : `gbtree`(tree based model) 혹은 `gblinear`(linear model) 중 선택. 디폴트는 `gbtree`\n",
        "  - `silent` : 디폴트는 0. 출력 메세지를 보이지 않고 싶을 경우, 1로 설정\n",
        "  - `nthread` : CPU의 실행 스레드 개수를 조정한다. 디폴트는 CPU의 전체 스레드를 다 사용하는 것이다.\n",
        "2. **부스터 파라미터** : 트리 최적화, 부스팅, regularization 등과 관련된 파라미터\n",
        "  - `eta` : GBM의 학습률(lerning rate)과 같은 파라미터. 디폴트는 0.1이며 보통 0.01~0.2 사이의 값을 선호한다.\n",
        "  - `num_boost_rounds` : GBM의 `n_estimators`와 같은 파라미터이다.\n",
        "  - `min_child_weight` : 트리에서 추가적으로 가지를 나눌지 결정하기 위해 필요한 데이터들의 weighth 총합. 값이 클수록 분할을 자제한다. 과적합을 조절하기 위해 사용한다. 디폴트는 1\n",
        "  - `gamma` : 트리의 리프 노드를 추가적으로 나눌지를 결정하는 최소 손실 감소 값이다. 해당 값보다 큰 loss가 감소되면, 리프 노드를 분리한다. 값이 클수록 과적합이 감소한다. 디폴트는 0\n",
        "  - `max_depth` : 트리 기반 알고리즘의 `max_depth`와 같으며, 0을 지정하면 깊이에 제한이 없다. 값이 클수록 과적합이 높아지기 때문에 보통은 3~10 사이의 값을 적용하며, 디폴트는 6\n",
        "  - `sub_sample` : GBM의 `subsample`과 동일하다. 트리가 커져서 과적합되는 것을 막기 위해 데이터를 샘플링하는 비율을 지정한다. 예를 들어, `sub_sample = 0.5`로 지정하면 전체 데이터의 절반을 트리를 생성하는 데 사용한다. 디폴트는 1\n",
        "  - `colsample_bytree` : GBM의 `max_features`와 유사하다. 트리 생성에 필요한 Feature를 임의로 샘플링할 때 사용한다. 매우 많은 Feature가 있을 때 과적합을 막기 위해 사용한다. 디폴트는 1\n",
        "  - `lambda` : L2 Regularization 적용 값이다. Feature 개수가 많을 경우 사용하며, 값이 클수록 과적합을 감소시킨다. 디폴트는 1\n",
        "  - `alpha` : L1 Regularization 적용 값이다. Feature 개수가 많을 경우 사용하며, 값이 클수록 과적합을 감소시킨다. 디폴트는 0\n",
        "  - `scale_pos_weight` : 특정 값이 많아 비대칭한 클래스로 구성된 데이터셋의 균형을 유지하기 위한 파라미터이다.\n",
        "3. **학습 태스크 파라미터** : 학습 수행 시의 객체 함수, 평가를 위한 지표 등을 설정하는 파라미터\n",
        "  - `objective` : 최솟값을 가져야할 손실 함수를 정의한다.\n",
        "  - `binary:logistic` : 이진 분류일 때 적용한다.\n",
        "  - `multi:softmax` : 다중 분류일 때 적용한다. 손실함수가 `multi:softmax`일 경우, Label 클래스의 개수인 `num_class` 파라미터를 지정해야 한다.\n",
        "  - `multi:softprob` : `multi:softmax`와 유사하나, 개별 Label 클래스의 해당되는 예측 확률을 반환한다.\n",
        "  - `eval_metric` : 검증에 사용되는 함수를 정의한다. 기본값은 회귀는 rmse, 분류는 error이다.\n",
        "    + `rmse` : Root Mean Square Error\n",
        "    + `mae` : Mean Absolute Error\n",
        "    + `logloss` : Negative log-likeligood\n",
        "    + `error` : Binary classification error rate(0.5 threshold)\n",
        "    + `merror` : Multiclass classification error rate\n",
        "    + `mlogloss` : Multiclass log loss\n",
        "    + `auc` : Area under the curve"
      ],
      "metadata": {
        "id": "BiJCSwxLFr0B"
      }
    },
    {
      "cell_type": "markdown",
      "source": [
        "- 뛰어난 알고리즘일수록 파라미터를 튜닝할 필요가 적으며, 튜닝에 의한 성능 향상도 미미한 편이다.\n",
        "- 과적합 문제가 심각하다면\n",
        "  1. `eta`값을 작게 한다.(`num_round`는 높여줘야 한다.)\n",
        "  2. `max_depth` 값을 작게 한다.\n",
        "  3. `min_child_weight`값을 높인다.\n",
        "  4. `gamma` 값을 높인다.\n",
        "  5. `subsample`과 `colsample_bytree`를 조정한다.\n",
        "- XGBoost는 자체적으로 교차 검증, 성능 평가, Feature 중요도 등의 시각화 기능을 가지고 있으며, 여러 가지 성능 향상 기능 또한 보유하고 있다.\n",
        "  + 조기 중단 기능(Early Stopping) : 지정한 부스팅 반복 횟수에 도달하지 않더라도, 예측 오류가 더 이상 개선되지 않으면, 반복을 끝까지 수행하지 않고 중지해 수행 시간을 개선할 수 있다."
      ],
      "metadata": {
        "id": "_Mq8x7mAHAZB"
      }
    },
    {
      "cell_type": "code",
      "source": [
        "# XGBoost 버전 확인\n",
        "import xgboost\n",
        "print(xgboost.__version__)"
      ],
      "metadata": {
        "colab": {
          "base_uri": "https://localhost:8080/"
        },
        "id": "yUK6iJVPIJjm",
        "outputId": "f81d4f35-87c3-42f1-cc7d-48cd7af7e414"
      },
      "execution_count": 3,
      "outputs": [
        {
          "output_type": "stream",
          "name": "stdout",
          "text": [
            "0.4\n"
          ]
        }
      ]
    },
    {
      "cell_type": "markdown",
      "source": [
        "### | **파이썬 래퍼 XGBoost 적용-위스콘신 유방암 예측**\n",
        "___\n",
        "- 위스콘신 유방암 데이터셋을 활용하여 파이썬 래퍼 XGBoost API의 사용법을 살펴보자.\n",
        "- **XGBoost**는 자체적으로 교차 검증, 성능 평가, Feature 중요도 등의 시각화 기능을 가지고 있다. 또한 조기 중단 기능(Early Stopping)을 보유하여, 지정한 부스팅 반복 횟수에 도달하지 않더라도, 예측 오류가 더 이상 개선되지 않으면, 반복을 끝까지 수행하지 않고 중지해 수행 시간을 개선할 수 있다.\n",
        "- **위스콘신 유방암 데이터셋**은 종양의 크기, 모양 등의 다양한 Feature를 기반으로 종양이 주위 조직에 침입하면서 빠르게 성장하고 신체 각 부위에 확산되거나 정이되어 생명을 위협하는 **악성 종양(malignant)**인지, 비교적 성장 속도가 느리고 전이되지 않는 **양성 종양(benign)**인지를 **분류**한 데이터셋이다.\n",
        "- `plot_importance` : xgboost 패키지에서 Feature의 중요도를 시각화해주는 모듈"
      ],
      "metadata": {
        "id": "6UF2b_--lrCM"
      }
    },
    {
      "cell_type": "code",
      "source": [
        "# import package\n",
        "import xgboost as xgb\n",
        "from xgboost import plot_importance\n",
        "import pandas as pd\n",
        "import numpy as np\n",
        "from sklearn.datasets import load_breast_cancer\n",
        "from sklearn.model_selection import train_test_split\n",
        "import warnings\n",
        "warnings.filterwarnings('ignore')\n",
        "\n",
        "# load data\n",
        "dataset = load_breast_cancer()\n",
        "\n",
        "# feature/label 분리\n",
        "X_features= dataset.data\n",
        "y_label = dataset.target\n",
        "\n",
        "# DAtaFrame으로 변환\n",
        "cancer_df = pd.DataFrame(data = X_features, columns = dataset.feature_names) # column 명은 dataset의 feature_names을 참고해 설정\n",
        "cancer_df['target']= y_label\n",
        "cancer_df.head(3)"
      ],
      "metadata": {
        "colab": {
          "base_uri": "https://localhost:8080/",
          "height": 272
        },
        "id": "6l_RNUvZJm28",
        "outputId": "1b85b977-54b4-4d37-a8ee-5dd064ed0550"
      },
      "execution_count": 4,
      "outputs": [
        {
          "output_type": "execute_result",
          "data": {
            "text/plain": [
              "   mean radius  mean texture  mean perimeter  mean area  mean smoothness  \\\n",
              "0        17.99         10.38           122.8     1001.0          0.11840   \n",
              "1        20.57         17.77           132.9     1326.0          0.08474   \n",
              "2        19.69         21.25           130.0     1203.0          0.10960   \n",
              "\n",
              "   mean compactness  mean concavity  mean concave points  mean symmetry  \\\n",
              "0           0.27760          0.3001              0.14710         0.2419   \n",
              "1           0.07864          0.0869              0.07017         0.1812   \n",
              "2           0.15990          0.1974              0.12790         0.2069   \n",
              "\n",
              "   mean fractal dimension  ...  worst texture  worst perimeter  worst area  \\\n",
              "0                 0.07871  ...          17.33            184.6      2019.0   \n",
              "1                 0.05667  ...          23.41            158.8      1956.0   \n",
              "2                 0.05999  ...          25.53            152.5      1709.0   \n",
              "\n",
              "   worst smoothness  worst compactness  worst concavity  worst concave points  \\\n",
              "0            0.1622             0.6656           0.7119                0.2654   \n",
              "1            0.1238             0.1866           0.2416                0.1860   \n",
              "2            0.1444             0.4245           0.4504                0.2430   \n",
              "\n",
              "   worst symmetry  worst fractal dimension  target  \n",
              "0          0.4601                  0.11890       0  \n",
              "1          0.2750                  0.08902       0  \n",
              "2          0.3613                  0.08758       0  \n",
              "\n",
              "[3 rows x 31 columns]"
            ],
            "text/html": [
              "\n",
              "  <div id=\"df-90e46c40-c2bf-4b7d-8ff4-7381f5d8dd5f\">\n",
              "    <div class=\"colab-df-container\">\n",
              "      <div>\n",
              "<style scoped>\n",
              "    .dataframe tbody tr th:only-of-type {\n",
              "        vertical-align: middle;\n",
              "    }\n",
              "\n",
              "    .dataframe tbody tr th {\n",
              "        vertical-align: top;\n",
              "    }\n",
              "\n",
              "    .dataframe thead th {\n",
              "        text-align: right;\n",
              "    }\n",
              "</style>\n",
              "<table border=\"1\" class=\"dataframe\">\n",
              "  <thead>\n",
              "    <tr style=\"text-align: right;\">\n",
              "      <th></th>\n",
              "      <th>mean radius</th>\n",
              "      <th>mean texture</th>\n",
              "      <th>mean perimeter</th>\n",
              "      <th>mean area</th>\n",
              "      <th>mean smoothness</th>\n",
              "      <th>mean compactness</th>\n",
              "      <th>mean concavity</th>\n",
              "      <th>mean concave points</th>\n",
              "      <th>mean symmetry</th>\n",
              "      <th>mean fractal dimension</th>\n",
              "      <th>...</th>\n",
              "      <th>worst texture</th>\n",
              "      <th>worst perimeter</th>\n",
              "      <th>worst area</th>\n",
              "      <th>worst smoothness</th>\n",
              "      <th>worst compactness</th>\n",
              "      <th>worst concavity</th>\n",
              "      <th>worst concave points</th>\n",
              "      <th>worst symmetry</th>\n",
              "      <th>worst fractal dimension</th>\n",
              "      <th>target</th>\n",
              "    </tr>\n",
              "  </thead>\n",
              "  <tbody>\n",
              "    <tr>\n",
              "      <th>0</th>\n",
              "      <td>17.99</td>\n",
              "      <td>10.38</td>\n",
              "      <td>122.8</td>\n",
              "      <td>1001.0</td>\n",
              "      <td>0.11840</td>\n",
              "      <td>0.27760</td>\n",
              "      <td>0.3001</td>\n",
              "      <td>0.14710</td>\n",
              "      <td>0.2419</td>\n",
              "      <td>0.07871</td>\n",
              "      <td>...</td>\n",
              "      <td>17.33</td>\n",
              "      <td>184.6</td>\n",
              "      <td>2019.0</td>\n",
              "      <td>0.1622</td>\n",
              "      <td>0.6656</td>\n",
              "      <td>0.7119</td>\n",
              "      <td>0.2654</td>\n",
              "      <td>0.4601</td>\n",
              "      <td>0.11890</td>\n",
              "      <td>0</td>\n",
              "    </tr>\n",
              "    <tr>\n",
              "      <th>1</th>\n",
              "      <td>20.57</td>\n",
              "      <td>17.77</td>\n",
              "      <td>132.9</td>\n",
              "      <td>1326.0</td>\n",
              "      <td>0.08474</td>\n",
              "      <td>0.07864</td>\n",
              "      <td>0.0869</td>\n",
              "      <td>0.07017</td>\n",
              "      <td>0.1812</td>\n",
              "      <td>0.05667</td>\n",
              "      <td>...</td>\n",
              "      <td>23.41</td>\n",
              "      <td>158.8</td>\n",
              "      <td>1956.0</td>\n",
              "      <td>0.1238</td>\n",
              "      <td>0.1866</td>\n",
              "      <td>0.2416</td>\n",
              "      <td>0.1860</td>\n",
              "      <td>0.2750</td>\n",
              "      <td>0.08902</td>\n",
              "      <td>0</td>\n",
              "    </tr>\n",
              "    <tr>\n",
              "      <th>2</th>\n",
              "      <td>19.69</td>\n",
              "      <td>21.25</td>\n",
              "      <td>130.0</td>\n",
              "      <td>1203.0</td>\n",
              "      <td>0.10960</td>\n",
              "      <td>0.15990</td>\n",
              "      <td>0.1974</td>\n",
              "      <td>0.12790</td>\n",
              "      <td>0.2069</td>\n",
              "      <td>0.05999</td>\n",
              "      <td>...</td>\n",
              "      <td>25.53</td>\n",
              "      <td>152.5</td>\n",
              "      <td>1709.0</td>\n",
              "      <td>0.1444</td>\n",
              "      <td>0.4245</td>\n",
              "      <td>0.4504</td>\n",
              "      <td>0.2430</td>\n",
              "      <td>0.3613</td>\n",
              "      <td>0.08758</td>\n",
              "      <td>0</td>\n",
              "    </tr>\n",
              "  </tbody>\n",
              "</table>\n",
              "<p>3 rows × 31 columns</p>\n",
              "</div>\n",
              "      <button class=\"colab-df-convert\" onclick=\"convertToInteractive('df-90e46c40-c2bf-4b7d-8ff4-7381f5d8dd5f')\"\n",
              "              title=\"Convert this dataframe to an interactive table.\"\n",
              "              style=\"display:none;\">\n",
              "        \n",
              "  <svg xmlns=\"http://www.w3.org/2000/svg\" height=\"24px\"viewBox=\"0 0 24 24\"\n",
              "       width=\"24px\">\n",
              "    <path d=\"M0 0h24v24H0V0z\" fill=\"none\"/>\n",
              "    <path d=\"M18.56 5.44l.94 2.06.94-2.06 2.06-.94-2.06-.94-.94-2.06-.94 2.06-2.06.94zm-11 1L8.5 8.5l.94-2.06 2.06-.94-2.06-.94L8.5 2.5l-.94 2.06-2.06.94zm10 10l.94 2.06.94-2.06 2.06-.94-2.06-.94-.94-2.06-.94 2.06-2.06.94z\"/><path d=\"M17.41 7.96l-1.37-1.37c-.4-.4-.92-.59-1.43-.59-.52 0-1.04.2-1.43.59L10.3 9.45l-7.72 7.72c-.78.78-.78 2.05 0 2.83L4 21.41c.39.39.9.59 1.41.59.51 0 1.02-.2 1.41-.59l7.78-7.78 2.81-2.81c.8-.78.8-2.07 0-2.86zM5.41 20L4 18.59l7.72-7.72 1.47 1.35L5.41 20z\"/>\n",
              "  </svg>\n",
              "      </button>\n",
              "      \n",
              "  <style>\n",
              "    .colab-df-container {\n",
              "      display:flex;\n",
              "      flex-wrap:wrap;\n",
              "      gap: 12px;\n",
              "    }\n",
              "\n",
              "    .colab-df-convert {\n",
              "      background-color: #E8F0FE;\n",
              "      border: none;\n",
              "      border-radius: 50%;\n",
              "      cursor: pointer;\n",
              "      display: none;\n",
              "      fill: #1967D2;\n",
              "      height: 32px;\n",
              "      padding: 0 0 0 0;\n",
              "      width: 32px;\n",
              "    }\n",
              "\n",
              "    .colab-df-convert:hover {\n",
              "      background-color: #E2EBFA;\n",
              "      box-shadow: 0px 1px 2px rgba(60, 64, 67, 0.3), 0px 1px 3px 1px rgba(60, 64, 67, 0.15);\n",
              "      fill: #174EA6;\n",
              "    }\n",
              "\n",
              "    [theme=dark] .colab-df-convert {\n",
              "      background-color: #3B4455;\n",
              "      fill: #D2E3FC;\n",
              "    }\n",
              "\n",
              "    [theme=dark] .colab-df-convert:hover {\n",
              "      background-color: #434B5C;\n",
              "      box-shadow: 0px 1px 3px 1px rgba(0, 0, 0, 0.15);\n",
              "      filter: drop-shadow(0px 1px 2px rgba(0, 0, 0, 0.3));\n",
              "      fill: #FFFFFF;\n",
              "    }\n",
              "  </style>\n",
              "\n",
              "      <script>\n",
              "        const buttonEl =\n",
              "          document.querySelector('#df-90e46c40-c2bf-4b7d-8ff4-7381f5d8dd5f button.colab-df-convert');\n",
              "        buttonEl.style.display =\n",
              "          google.colab.kernel.accessAllowed ? 'block' : 'none';\n",
              "\n",
              "        async function convertToInteractive(key) {\n",
              "          const element = document.querySelector('#df-90e46c40-c2bf-4b7d-8ff4-7381f5d8dd5f');\n",
              "          const dataTable =\n",
              "            await google.colab.kernel.invokeFunction('convertToInteractive',\n",
              "                                                     [key], {});\n",
              "          if (!dataTable) return;\n",
              "\n",
              "          const docLinkHtml = 'Like what you see? Visit the ' +\n",
              "            '<a target=\"_blank\" href=https://colab.research.google.com/notebooks/data_table.ipynb>data table notebook</a>'\n",
              "            + ' to learn more about interactive tables.';\n",
              "          element.innerHTML = '';\n",
              "          dataTable['output_type'] = 'display_data';\n",
              "          await google.colab.output.renderOutput(dataTable, element);\n",
              "          const docLink = document.createElement('div');\n",
              "          docLink.innerHTML = docLinkHtml;\n",
              "          element.appendChild(docLink);\n",
              "        }\n",
              "      </script>\n",
              "    </div>\n",
              "  </div>\n",
              "  "
            ]
          },
          "metadata": {},
          "execution_count": 4
        }
      ]
    },
    {
      "cell_type": "markdown",
      "source": [
        "- 종양의 크기와 모양에 관련된 Feature들이 숫자형 값으로 되어 있다.\n",
        "- Label 값은 악성인 'malignant'는 0으로, 양성인 'benign'은 1로 되어있다."
      ],
      "metadata": {
        "id": "ZiMygirlKBke"
      }
    },
    {
      "cell_type": "code",
      "source": [
        "# Label 값의 분포 확인\n",
        "print(dataset.target_names)\n",
        "print(cancer_df['target'].value_counts())"
      ],
      "metadata": {
        "colab": {
          "base_uri": "https://localhost:8080/"
        },
        "id": "Ksff2tQgKTL6",
        "outputId": "3ccad5f9-6790-4036-ae70-70777205e62d"
      },
      "execution_count": 5,
      "outputs": [
        {
          "output_type": "stream",
          "name": "stdout",
          "text": [
            "['malignant' 'benign']\n",
            "1    357\n",
            "0    212\n",
            "Name: target, dtype: int64\n"
          ]
        }
      ]
    },
    {
      "cell_type": "code",
      "source": [
        "# 전체 데이터 중 80%는 학습용 데이터, 20%는 테스트용 데이터 추출\n",
        "X_train, X_test, y_train, y_test = train_test_split(X_features, y_label, test_size = 0.2, random_state = 156 )\n",
        "print(X_train.shape , X_test.shape)"
      ],
      "metadata": {
        "colab": {
          "base_uri": "https://localhost:8080/"
        },
        "id": "9FyBCPPdKZqC",
        "outputId": "7ccef12a-dc72-44a4-9b3b-46f7d0519abb"
      },
      "execution_count": 6,
      "outputs": [
        {
          "output_type": "stream",
          "name": "stdout",
          "text": [
            "(455, 30) (114, 30)\n"
          ]
        }
      ]
    },
    {
      "cell_type": "markdown",
      "source": [
        "- 파이썬 래퍼 XGBoost는 학습/테스트 데이터셋을 별도의 객체인 DMatrix로 생성한다.\n",
        "- DMatrix는 주로 Numpy 형을 입력 파라미터로 받아서 만들어지는 XGBoost만의 전용 데이터셋으로, 주요 입력 파라미터는 `data`와 `label`이다.\n",
        "  1. `data` : Feature 데이터셋\n",
        "  2. `label` : 분류의 경우, Label 데이터셋. 회귀의 경우, 숫자형인 종속값 데이터셋"
      ],
      "metadata": {
        "id": "P5HPPLqAKj6r"
      }
    },
    {
      "cell_type": "code",
      "source": [
        "# Numpy 형태의 학습/테스트 데이터셋을 DMatrix로 변환하는 코드\n",
        "dtrain = xgb.DMatrix(data=X_train , label=y_train)\n",
        "dtest = xgb.DMatrix(data=X_test , label=y_test)"
      ],
      "metadata": {
        "id": "WDmILZYGLKwU"
      },
      "execution_count": 7,
      "outputs": []
    },
    {
      "cell_type": "code",
      "source": [
        "# XGBoost의 하이퍼 파라미터 : 주로 딕셔너리 형태로 입력\n",
        "# 트리 최대 깊이, 학습률, objective 함수, 오류 함수, 부스팅 반복 횟수 설정\n",
        "params = { 'max_depth':3,\n",
        "           'eta': 0.1,\n",
        "           'objective':'binary:logistic',\n",
        "           'eval_metric':'logloss'\n",
        "        }\n",
        "num_rounds = 400"
      ],
      "metadata": {
        "id": "y2lKxQ6DLZuK"
      },
      "execution_count": 8,
      "outputs": []
    },
    {
      "cell_type": "markdown",
      "source": [
        "- 조기 중단은 xgboost의 `train()` 함수에 `early_stopping_rounds` 파라미터를 입력하여 설정한다. 이를 설정할 때는 반드시 `eval_set`과 `eval_metric`을 함께 설정해야 한다.\n",
        "  1. `eval_set` : 성능 평가를 수행할 평가용 데이터셋을 설정\n",
        "  2. `eval_metric` : 평가 세트에 적용할 성능 평가 방법을 설정하며, 분류일 경우 주로 `error`(분류 오류)나 `logloss`를 적용한다.\n",
        "- `train()` 함수는 학습이 완료된 모델 객체를 반환한다."
      ],
      "metadata": {
        "id": "sGvJVaYkLvV8"
      }
    },
    {
      "cell_type": "code",
      "source": [
        "# train 데이터셋은 'train', evaluation(test) 데이터셋은 'eval'로 명기합니다\n",
        "wlist = [(dtrain,'train'),(dtest,'eval') ]\n",
        "\n",
        "# 하이퍼 파라미터와 early stopping 파라미터를 train()함수의 파라미터로 전달\n",
        "xgb_model = xgb.train(params = params , dtrain = dtrain , num_boost_round = num_rounds , early_stopping_rounds = 100, evals = wlist )"
      ],
      "metadata": {
        "colab": {
          "base_uri": "https://localhost:8080/"
        },
        "id": "BAwOdGaMMQRm",
        "outputId": "89d7a17e-c677-4e21-a7d1-872318d7d67b"
      },
      "execution_count": 9,
      "outputs": [
        {
          "output_type": "stream",
          "name": "stderr",
          "text": [
            "Will train until eval error hasn't decreased in 100 rounds.\n",
            "[0]\ttrain-logloss:0.609688\teval-logloss:0.613520\n",
            "[1]\ttrain-logloss:0.540803\teval-logloss:0.547843\n",
            "[2]\ttrain-logloss:0.483753\teval-logloss:0.494248\n",
            "[3]\ttrain-logloss:0.434457\teval-logloss:0.447986\n",
            "[4]\ttrain-logloss:0.390550\teval-logloss:0.409109\n",
            "[5]\ttrain-logloss:0.354146\teval-logloss:0.374977\n",
            "[6]\ttrain-logloss:0.321222\teval-logloss:0.345714\n",
            "[7]\ttrain-logloss:0.292593\teval-logloss:0.320529\n",
            "[8]\ttrain-logloss:0.267467\teval-logloss:0.297210\n",
            "[9]\ttrain-logloss:0.245153\teval-logloss:0.277991\n",
            "[10]\ttrain-logloss:0.225694\teval-logloss:0.260302\n",
            "[11]\ttrain-logloss:0.207938\teval-logloss:0.246037\n",
            "[12]\ttrain-logloss:0.192184\teval-logloss:0.231556\n",
            "[13]\ttrain-logloss:0.177916\teval-logloss:0.220050\n",
            "[14]\ttrain-logloss:0.165222\teval-logloss:0.208572\n",
            "[15]\ttrain-logloss:0.153622\teval-logloss:0.199993\n",
            "[16]\ttrain-logloss:0.143330\teval-logloss:0.190118\n",
            "[17]\ttrain-logloss:0.133985\teval-logloss:0.181818\n",
            "[18]\ttrain-logloss:0.125599\teval-logloss:0.174729\n",
            "[19]\ttrain-logloss:0.117286\teval-logloss:0.167657\n",
            "[20]\ttrain-logloss:0.109688\teval-logloss:0.158202\n",
            "[21]\ttrain-logloss:0.103021\teval-logloss:0.154432\n",
            "[22]\ttrain-logloss:0.097113\teval-logloss:0.148656\n",
            "[23]\ttrain-logloss:0.091550\teval-logloss:0.141245\n",
            "[24]\ttrain-logloss:0.086367\teval-logloss:0.136042\n",
            "[25]\ttrain-logloss:0.081336\teval-logloss:0.132487\n",
            "[26]\ttrain-logloss:0.076874\teval-logloss:0.127632\n",
            "[27]\ttrain-logloss:0.072864\teval-logloss:0.125043\n",
            "[28]\ttrain-logloss:0.069275\teval-logloss:0.119770\n",
            "[29]\ttrain-logloss:0.065957\teval-logloss:0.117073\n",
            "[30]\ttrain-logloss:0.063031\teval-logloss:0.114827\n",
            "[31]\ttrain-logloss:0.060075\teval-logloss:0.113136\n",
            "[32]\ttrain-logloss:0.057175\teval-logloss:0.110032\n",
            "[33]\ttrain-logloss:0.054634\teval-logloss:0.107852\n",
            "[34]\ttrain-logloss:0.052497\teval-logloss:0.107176\n",
            "[35]\ttrain-logloss:0.050170\teval-logloss:0.104638\n",
            "[36]\ttrain-logloss:0.048169\teval-logloss:0.102992\n",
            "[37]\ttrain-logloss:0.046149\teval-logloss:0.100518\n",
            "[38]\ttrain-logloss:0.044336\teval-logloss:0.098188\n",
            "[39]\ttrain-logloss:0.042606\teval-logloss:0.096334\n",
            "[40]\ttrain-logloss:0.040983\teval-logloss:0.095130\n",
            "[41]\ttrain-logloss:0.039439\teval-logloss:0.094663\n",
            "[42]\ttrain-logloss:0.038079\teval-logloss:0.094175\n",
            "[43]\ttrain-logloss:0.036684\teval-logloss:0.092617\n",
            "[44]\ttrain-logloss:0.035128\teval-logloss:0.093162\n",
            "[45]\ttrain-logloss:0.034012\teval-logloss:0.092191\n",
            "[46]\ttrain-logloss:0.032659\teval-logloss:0.091699\n",
            "[47]\ttrain-logloss:0.031585\teval-logloss:0.091546\n",
            "[48]\ttrain-logloss:0.030576\teval-logloss:0.090223\n",
            "[49]\ttrain-logloss:0.029441\teval-logloss:0.089690\n",
            "[50]\ttrain-logloss:0.028375\teval-logloss:0.089572\n",
            "[51]\ttrain-logloss:0.027568\teval-logloss:0.088775\n",
            "[52]\ttrain-logloss:0.026656\teval-logloss:0.089920\n",
            "[53]\ttrain-logloss:0.025821\teval-logloss:0.090687\n",
            "[54]\ttrain-logloss:0.024962\teval-logloss:0.090681\n",
            "[55]\ttrain-logloss:0.024308\teval-logloss:0.089511\n",
            "[56]\ttrain-logloss:0.023675\teval-logloss:0.088928\n",
            "[57]\ttrain-logloss:0.023060\teval-logloss:0.088957\n",
            "[58]\ttrain-logloss:0.022411\teval-logloss:0.089236\n",
            "[59]\ttrain-logloss:0.021828\teval-logloss:0.088844\n",
            "[60]\ttrain-logloss:0.021318\teval-logloss:0.088418\n",
            "[61]\ttrain-logloss:0.020802\teval-logloss:0.088080\n",
            "[62]\ttrain-logloss:0.020319\teval-logloss:0.087247\n",
            "[63]\ttrain-logloss:0.019775\teval-logloss:0.087218\n",
            "[64]\ttrain-logloss:0.019259\teval-logloss:0.086292\n",
            "[65]\ttrain-logloss:0.018853\teval-logloss:0.087355\n",
            "[66]\ttrain-logloss:0.018396\teval-logloss:0.086533\n",
            "[67]\ttrain-logloss:0.017955\teval-logloss:0.086646\n",
            "[68]\ttrain-logloss:0.017644\teval-logloss:0.086405\n",
            "[69]\ttrain-logloss:0.017294\teval-logloss:0.086180\n",
            "[70]\ttrain-logloss:0.016954\teval-logloss:0.087405\n",
            "[71]\ttrain-logloss:0.016626\teval-logloss:0.087264\n",
            "[72]\ttrain-logloss:0.016327\teval-logloss:0.087145\n",
            "[73]\ttrain-logloss:0.015936\teval-logloss:0.087860\n",
            "[74]\ttrain-logloss:0.015647\teval-logloss:0.088398\n",
            "[75]\ttrain-logloss:0.015399\teval-logloss:0.087930\n",
            "[76]\ttrain-logloss:0.015189\teval-logloss:0.087768\n",
            "[77]\ttrain-logloss:0.014915\teval-logloss:0.088982\n",
            "[78]\ttrain-logloss:0.014763\teval-logloss:0.088327\n",
            "[79]\ttrain-logloss:0.014522\teval-logloss:0.088804\n",
            "[80]\ttrain-logloss:0.014289\teval-logloss:0.088560\n",
            "[81]\ttrain-logloss:0.014016\teval-logloss:0.087861\n",
            "[82]\ttrain-logloss:0.013855\teval-logloss:0.087308\n",
            "[83]\ttrain-logloss:0.013621\teval-logloss:0.087602\n",
            "[84]\ttrain-logloss:0.013419\teval-logloss:0.087513\n",
            "[85]\ttrain-logloss:0.013252\teval-logloss:0.087417\n",
            "[86]\ttrain-logloss:0.013040\teval-logloss:0.088504\n",
            "[87]\ttrain-logloss:0.012925\teval-logloss:0.088001\n",
            "[88]\ttrain-logloss:0.012776\teval-logloss:0.087935\n",
            "[89]\ttrain-logloss:0.012635\teval-logloss:0.087566\n",
            "[90]\ttrain-logloss:0.012412\teval-logloss:0.087035\n",
            "[91]\ttrain-logloss:0.012285\teval-logloss:0.086812\n",
            "[92]\ttrain-logloss:0.012149\teval-logloss:0.086427\n",
            "[93]\ttrain-logloss:0.012022\teval-logloss:0.086220\n",
            "[94]\ttrain-logloss:0.011845\teval-logloss:0.085717\n",
            "[95]\ttrain-logloss:0.011689\teval-logloss:0.085900\n",
            "[96]\ttrain-logloss:0.011563\teval-logloss:0.085843\n",
            "[97]\ttrain-logloss:0.011448\teval-logloss:0.085670\n",
            "[98]\ttrain-logloss:0.011356\teval-logloss:0.085227\n",
            "[99]\ttrain-logloss:0.011197\teval-logloss:0.085126\n",
            "[100]\ttrain-logloss:0.011103\teval-logloss:0.085253\n",
            "[101]\ttrain-logloss:0.011001\teval-logloss:0.085119\n",
            "[102]\ttrain-logloss:0.010870\teval-logloss:0.085294\n",
            "[103]\ttrain-logloss:0.010726\teval-logloss:0.084860\n",
            "[104]\ttrain-logloss:0.010617\teval-logloss:0.084818\n",
            "[105]\ttrain-logloss:0.010488\teval-logloss:0.084815\n",
            "[106]\ttrain-logloss:0.010370\teval-logloss:0.084757\n",
            "[107]\ttrain-logloss:0.010236\teval-logloss:0.085698\n",
            "[108]\ttrain-logloss:0.010162\teval-logloss:0.085734\n",
            "[109]\ttrain-logloss:0.010077\teval-logloss:0.085635\n",
            "[110]\ttrain-logloss:0.009978\teval-logloss:0.085523\n",
            "[111]\ttrain-logloss:0.009905\teval-logloss:0.085122\n",
            "[112]\ttrain-logloss:0.009784\teval-logloss:0.086002\n",
            "[113]\ttrain-logloss:0.009691\teval-logloss:0.085977\n",
            "[114]\ttrain-logloss:0.009614\teval-logloss:0.085963\n",
            "[115]\ttrain-logloss:0.009500\teval-logloss:0.085563\n",
            "[116]\ttrain-logloss:0.009462\teval-logloss:0.085616\n",
            "[117]\ttrain-logloss:0.009400\teval-logloss:0.085285\n",
            "[118]\ttrain-logloss:0.009319\teval-logloss:0.085270\n",
            "[119]\ttrain-logloss:0.009217\teval-logloss:0.085827\n",
            "[120]\ttrain-logloss:0.009141\teval-logloss:0.086077\n",
            "[121]\ttrain-logloss:0.009083\teval-logloss:0.085913\n",
            "[122]\ttrain-logloss:0.009014\teval-logloss:0.085850\n",
            "[123]\ttrain-logloss:0.008979\teval-logloss:0.085903\n",
            "[124]\ttrain-logloss:0.008943\teval-logloss:0.085861\n",
            "[125]\ttrain-logloss:0.008845\teval-logloss:0.086441\n",
            "[126]\ttrain-logloss:0.008779\teval-logloss:0.086935\n",
            "[127]\ttrain-logloss:0.008687\teval-logloss:0.087411\n",
            "[128]\ttrain-logloss:0.008626\teval-logloss:0.086986\n",
            "[129]\ttrain-logloss:0.008578\teval-logloss:0.086821\n",
            "[130]\ttrain-logloss:0.008546\teval-logloss:0.086787\n",
            "[131]\ttrain-logloss:0.008458\teval-logloss:0.086736\n",
            "[132]\ttrain-logloss:0.008402\teval-logloss:0.086336\n",
            "[133]\ttrain-logloss:0.008320\teval-logloss:0.086806\n",
            "[134]\ttrain-logloss:0.008291\teval-logloss:0.086726\n",
            "[135]\ttrain-logloss:0.008262\teval-logloss:0.086697\n",
            "[136]\ttrain-logloss:0.008212\teval-logloss:0.086246\n",
            "[137]\ttrain-logloss:0.008133\teval-logloss:0.087161\n",
            "[138]\ttrain-logloss:0.008106\teval-logloss:0.087079\n",
            "[139]\ttrain-logloss:0.008079\teval-logloss:0.087051\n",
            "[140]\ttrain-logloss:0.008030\teval-logloss:0.086676\n",
            "[141]\ttrain-logloss:0.007956\teval-logloss:0.087218\n",
            "[142]\ttrain-logloss:0.007900\teval-logloss:0.086965\n",
            "[143]\ttrain-logloss:0.007829\teval-logloss:0.087486\n",
            "[144]\ttrain-logloss:0.007805\teval-logloss:0.087404\n",
            "[145]\ttrain-logloss:0.007764\teval-logloss:0.087058\n",
            "[146]\ttrain-logloss:0.007741\teval-logloss:0.087035\n",
            "[147]\ttrain-logloss:0.007676\teval-logloss:0.087538\n",
            "[148]\ttrain-logloss:0.007652\teval-logloss:0.087270\n",
            "[149]\ttrain-logloss:0.007598\teval-logloss:0.086927\n",
            "[150]\ttrain-logloss:0.007576\teval-logloss:0.087013\n",
            "[151]\ttrain-logloss:0.007554\teval-logloss:0.086931\n",
            "[152]\ttrain-logloss:0.007531\teval-logloss:0.086910\n",
            "[153]\ttrain-logloss:0.007509\teval-logloss:0.086624\n",
            "[154]\ttrain-logloss:0.007486\teval-logloss:0.086660\n",
            "[155]\ttrain-logloss:0.007465\teval-logloss:0.086383\n",
            "[156]\ttrain-logloss:0.007443\teval-logloss:0.086367\n",
            "[157]\ttrain-logloss:0.007421\teval-logloss:0.086273\n",
            "[158]\ttrain-logloss:0.007400\teval-logloss:0.086327\n",
            "[159]\ttrain-logloss:0.007379\teval-logloss:0.086363\n",
            "[160]\ttrain-logloss:0.007358\teval-logloss:0.086351\n",
            "[161]\ttrain-logloss:0.007337\teval-logloss:0.086079\n",
            "[162]\ttrain-logloss:0.007317\teval-logloss:0.085991\n",
            "[163]\ttrain-logloss:0.007297\teval-logloss:0.085997\n",
            "[164]\ttrain-logloss:0.007277\teval-logloss:0.086051\n",
            "[165]\ttrain-logloss:0.007257\teval-logloss:0.086088\n",
            "[166]\ttrain-logloss:0.007237\teval-logloss:0.085838\n",
            "[167]\ttrain-logloss:0.007217\teval-logloss:0.085759\n",
            "[168]\ttrain-logloss:0.007198\teval-logloss:0.085749\n",
            "[169]\ttrain-logloss:0.007178\teval-logloss:0.085484\n",
            "[170]\ttrain-logloss:0.007159\teval-logloss:0.085521\n",
            "[171]\ttrain-logloss:0.007140\teval-logloss:0.085436\n",
            "[172]\ttrain-logloss:0.007121\teval-logloss:0.085430\n",
            "[173]\ttrain-logloss:0.007102\teval-logloss:0.085169\n",
            "[174]\ttrain-logloss:0.007084\teval-logloss:0.085206\n",
            "[175]\ttrain-logloss:0.007065\teval-logloss:0.084963\n",
            "[176]\ttrain-logloss:0.007047\teval-logloss:0.085051\n",
            "[177]\ttrain-logloss:0.007029\teval-logloss:0.085062\n",
            "[178]\ttrain-logloss:0.007011\teval-logloss:0.085113\n",
            "[179]\ttrain-logloss:0.006993\teval-logloss:0.085032\n",
            "[180]\ttrain-logloss:0.006976\teval-logloss:0.084965\n",
            "[181]\ttrain-logloss:0.006958\teval-logloss:0.084964\n",
            "[182]\ttrain-logloss:0.006940\teval-logloss:0.084713\n",
            "[183]\ttrain-logloss:0.006922\teval-logloss:0.084750\n",
            "[184]\ttrain-logloss:0.006905\teval-logloss:0.084550\n",
            "[185]\ttrain-logloss:0.006888\teval-logloss:0.084587\n",
            "[186]\ttrain-logloss:0.006871\teval-logloss:0.084338\n",
            "[187]\ttrain-logloss:0.006853\teval-logloss:0.084354\n",
            "[188]\ttrain-logloss:0.006836\teval-logloss:0.084123\n",
            "[189]\ttrain-logloss:0.006820\teval-logloss:0.084210\n",
            "[190]\ttrain-logloss:0.006803\teval-logloss:0.084245\n",
            "[191]\ttrain-logloss:0.006787\teval-logloss:0.084055\n",
            "[192]\ttrain-logloss:0.006770\teval-logloss:0.083990\n",
            "[193]\ttrain-logloss:0.006754\teval-logloss:0.083992\n",
            "[194]\ttrain-logloss:0.006738\teval-logloss:0.084051\n",
            "[195]\ttrain-logloss:0.006722\teval-logloss:0.083974\n",
            "[196]\ttrain-logloss:0.006706\teval-logloss:0.083996\n",
            "[197]\ttrain-logloss:0.006690\teval-logloss:0.084032\n",
            "[198]\ttrain-logloss:0.006674\teval-logloss:0.083806\n",
            "[199]\ttrain-logloss:0.006658\teval-logloss:0.083891\n",
            "[200]\ttrain-logloss:0.006643\teval-logloss:0.083927\n",
            "[201]\ttrain-logloss:0.006627\teval-logloss:0.083828\n",
            "[202]\ttrain-logloss:0.006612\teval-logloss:0.083886\n",
            "[203]\ttrain-logloss:0.006597\teval-logloss:0.083923\n",
            "[204]\ttrain-logloss:0.006582\teval-logloss:0.083828\n",
            "[205]\ttrain-logloss:0.006567\teval-logloss:0.083766\n",
            "[206]\ttrain-logloss:0.006552\teval-logloss:0.083773\n",
            "[207]\ttrain-logloss:0.006537\teval-logloss:0.083701\n",
            "[208]\ttrain-logloss:0.006522\teval-logloss:0.083480\n",
            "[209]\ttrain-logloss:0.006508\teval-logloss:0.083505\n",
            "[210]\ttrain-logloss:0.006493\teval-logloss:0.083557\n",
            "[211]\ttrain-logloss:0.006479\teval-logloss:0.083589\n",
            "[212]\ttrain-logloss:0.006465\teval-logloss:0.083673\n",
            "[213]\ttrain-logloss:0.006451\teval-logloss:0.083464\n",
            "[214]\ttrain-logloss:0.006437\teval-logloss:0.083664\n",
            "[215]\ttrain-logloss:0.006423\teval-logloss:0.083671\n",
            "[216]\ttrain-logloss:0.006409\teval-logloss:0.083611\n",
            "[217]\ttrain-logloss:0.006395\teval-logloss:0.083520\n",
            "[218]\ttrain-logloss:0.006381\teval-logloss:0.083718\n",
            "[219]\ttrain-logloss:0.006368\teval-logloss:0.083630\n",
            "[220]\ttrain-logloss:0.006354\teval-logloss:0.083573\n",
            "[221]\ttrain-logloss:0.006342\teval-logloss:0.083608\n",
            "[222]\ttrain-logloss:0.006328\teval-logloss:0.083655\n",
            "[223]\ttrain-logloss:0.006315\teval-logloss:0.083666\n",
            "[224]\ttrain-logloss:0.006302\teval-logloss:0.083861\n",
            "[225]\ttrain-logloss:0.006289\teval-logloss:0.083774\n",
            "[226]\ttrain-logloss:0.006277\teval-logloss:0.083858\n",
            "[227]\ttrain-logloss:0.006264\teval-logloss:0.084050\n",
            "[228]\ttrain-logloss:0.006252\teval-logloss:0.084097\n",
            "[229]\ttrain-logloss:0.006240\teval-logloss:0.084015\n",
            "[230]\ttrain-logloss:0.006227\teval-logloss:0.084050\n",
            "[231]\ttrain-logloss:0.006215\teval-logloss:0.084065\n",
            "[232]\ttrain-logloss:0.006203\teval-logloss:0.084010\n",
            "[233]\ttrain-logloss:0.006191\teval-logloss:0.083840\n",
            "[234]\ttrain-logloss:0.006179\teval-logloss:0.084030\n",
            "[235]\ttrain-logloss:0.006167\teval-logloss:0.083951\n",
            "[236]\ttrain-logloss:0.006156\teval-logloss:0.083900\n",
            "[237]\ttrain-logloss:0.006144\teval-logloss:0.083917\n",
            "[238]\ttrain-logloss:0.006133\teval-logloss:0.083963\n",
            "[239]\ttrain-logloss:0.006121\teval-logloss:0.083999\n",
            "[240]\ttrain-logloss:0.006110\teval-logloss:0.084083\n",
            "[241]\ttrain-logloss:0.006098\teval-logloss:0.083921\n",
            "[242]\ttrain-logloss:0.006087\teval-logloss:0.084109\n",
            "[243]\ttrain-logloss:0.006076\teval-logloss:0.084127\n",
            "[244]\ttrain-logloss:0.006065\teval-logloss:0.084173\n",
            "[245]\ttrain-logloss:0.006054\teval-logloss:0.084209\n",
            "[246]\ttrain-logloss:0.006044\teval-logloss:0.084135\n",
            "[247]\ttrain-logloss:0.006033\teval-logloss:0.084085\n",
            "[248]\ttrain-logloss:0.006022\teval-logloss:0.084270\n",
            "[249]\ttrain-logloss:0.006012\teval-logloss:0.084195\n",
            "[250]\ttrain-logloss:0.006001\teval-logloss:0.084204\n",
            "[251]\ttrain-logloss:0.005991\teval-logloss:0.084049\n",
            "[252]\ttrain-logloss:0.005981\teval-logloss:0.084003\n",
            "[253]\ttrain-logloss:0.005970\teval-logloss:0.084023\n",
            "[254]\ttrain-logloss:0.005960\teval-logloss:0.084207\n",
            "[255]\ttrain-logloss:0.005950\teval-logloss:0.084252\n",
            "[256]\ttrain-logloss:0.005940\teval-logloss:0.084289\n",
            "[257]\ttrain-logloss:0.005930\teval-logloss:0.084218\n",
            "[258]\ttrain-logloss:0.005920\teval-logloss:0.084303\n",
            "[259]\ttrain-logloss:0.005910\teval-logloss:0.084483\n",
            "[260]\ttrain-logloss:0.005901\teval-logloss:0.084504\n",
            "[261]\ttrain-logloss:0.005891\teval-logloss:0.084459\n",
            "[262]\ttrain-logloss:0.005881\teval-logloss:0.084306\n",
            "[263]\ttrain-logloss:0.005872\teval-logloss:0.084350\n",
            "[264]\ttrain-logloss:0.005862\teval-logloss:0.084388\n",
            "[265]\ttrain-logloss:0.005853\teval-logloss:0.084409\n",
            "[266]\ttrain-logloss:0.005844\teval-logloss:0.084493\n",
            "[267]\ttrain-logloss:0.005835\teval-logloss:0.084669\n",
            "[268]\ttrain-logloss:0.005825\teval-logloss:0.084602\n",
            "[269]\ttrain-logloss:0.005816\teval-logloss:0.084558\n",
            "[270]\ttrain-logloss:0.005807\teval-logloss:0.084417\n",
            "[271]\ttrain-logloss:0.005798\teval-logloss:0.084461\n",
            "[272]\ttrain-logloss:0.005789\teval-logloss:0.084497\n",
            "[273]\ttrain-logloss:0.005780\teval-logloss:0.084670\n",
            "[274]\ttrain-logloss:0.005771\teval-logloss:0.084693\n",
            "[275]\ttrain-logloss:0.005763\teval-logloss:0.084736\n",
            "[276]\ttrain-logloss:0.005754\teval-logloss:0.084598\n",
            "[277]\ttrain-logloss:0.005746\teval-logloss:0.084633\n",
            "[278]\ttrain-logloss:0.005737\teval-logloss:0.084716\n",
            "[279]\ttrain-logloss:0.005728\teval-logloss:0.084674\n",
            "[280]\ttrain-logloss:0.005720\teval-logloss:0.084538\n",
            "[281]\ttrain-logloss:0.005711\teval-logloss:0.084602\n",
            "[282]\ttrain-logloss:0.005703\teval-logloss:0.084644\n",
            "[283]\ttrain-logloss:0.005695\teval-logloss:0.084669\n",
            "[284]\ttrain-logloss:0.005687\teval-logloss:0.084544\n",
            "[285]\ttrain-logloss:0.005679\teval-logloss:0.084412\n",
            "[286]\ttrain-logloss:0.005671\teval-logloss:0.084373\n",
            "[287]\ttrain-logloss:0.005663\teval-logloss:0.084451\n",
            "[288]\ttrain-logloss:0.005655\teval-logloss:0.084494\n",
            "[289]\ttrain-logloss:0.005647\teval-logloss:0.084556\n",
            "[290]\ttrain-logloss:0.005639\teval-logloss:0.084423\n",
            "[291]\ttrain-logloss:0.005631\teval-logloss:0.084500\n",
            "[292]\ttrain-logloss:0.005624\teval-logloss:0.084378\n",
            "[293]\ttrain-logloss:0.005616\teval-logloss:0.084250\n",
            "[294]\ttrain-logloss:0.005608\teval-logloss:0.084293\n",
            "[295]\ttrain-logloss:0.005601\teval-logloss:0.084353\n",
            "[296]\ttrain-logloss:0.005593\teval-logloss:0.084379\n",
            "[297]\ttrain-logloss:0.005586\teval-logloss:0.084343\n",
            "[298]\ttrain-logloss:0.005578\teval-logloss:0.084218\n",
            "[299]\ttrain-logloss:0.005571\teval-logloss:0.084249\n",
            "[300]\ttrain-logloss:0.005564\teval-logloss:0.084292\n",
            "[301]\ttrain-logloss:0.005556\teval-logloss:0.084367\n",
            "[302]\ttrain-logloss:0.005549\teval-logloss:0.084246\n",
            "[303]\ttrain-logloss:0.005542\teval-logloss:0.084305\n",
            "[304]\ttrain-logloss:0.005535\teval-logloss:0.084271\n",
            "[305]\ttrain-logloss:0.005528\teval-logloss:0.084297\n",
            "[306]\ttrain-logloss:0.005521\teval-logloss:0.084180\n",
            "[307]\ttrain-logloss:0.005514\teval-logloss:0.084222\n",
            "[308]\ttrain-logloss:0.005507\teval-logloss:0.084102\n",
            "[309]\ttrain-logloss:0.005500\teval-logloss:0.084108\n",
            "[310]\ttrain-logloss:0.005493\teval-logloss:0.084182\n",
            "[311]\ttrain-logloss:0.005486\teval-logloss:0.084064\n",
            "[312]\ttrain-logloss:0.005480\teval-logloss:0.083985\n",
            "[313]\ttrain-logloss:0.005473\teval-logloss:0.084012\n",
            "Stopping. Best iteration:\n",
            "[213]\ttrain-logloss:0.006451\teval-logloss:0.083464\n",
            "\n"
          ]
        }
      ]
    },
    {
      "cell_type": "markdown",
      "source": [
        "- `train()`으로 학습을 수행하면, 반복 시 train-error와 eval-logloss가 지속적으로 감소한다.\n",
        "- xgboost를 이용해 모델의 학습이 완료되었다. 이를 이용해 테스트 데이터셋에 예측을 수행해보자.\n",
        "- 파이썬 래퍼 XGBoost는 `train()` 함수를 호출해 학습이 완료된 모델 객체를 반환하는데, 이 객체는 예측을 위해 `predict()` 메서드를 사용한다. 다만 사이킷런의 `predict()` 메서드는 예측 결과 클래스 값(0 혹은 1)을 반환하지만, xgboost의 `predict()` 메서드는 예측 결과를 추정할 수 있는 확률 값을 반환한다는 점을 유의해야 한다.\n",
        "- 본 예제에서는 암이 악성인지, 양성인지를 판단하는 이진 분류이므로, 예측 확률이 0.5보다 크면 1, 그렇지 않으면 0으로 예측 값을 결정하는 코드를 추가해보자."
      ],
      "metadata": {
        "id": "IYX0ObBMMqn6"
      }
    },
    {
      "cell_type": "code",
      "source": [
        "pred_probs = xgb_model.predict(dtest)\n",
        "print('predict( ) 수행 결과값을 10개만 표시, 예측 확률 값으로 표시됨')\n",
        "print(np.round(pred_probs[ : 10], 3))\n",
        "\n",
        "# 예측 확률이 0.5보다 크면 1, 그렇지 않으면 0으로 예측값을 결정하여 List 객체인 preds에 저장 \n",
        "preds = [ 1 if x > 0.5 else 0 for x in pred_probs ]\n",
        "print('예측값 10개만 표시:',preds[:10])"
      ],
      "metadata": {
        "colab": {
          "base_uri": "https://localhost:8080/"
        },
        "id": "BTL2JIJzNeha",
        "outputId": "404b402f-8aba-4904-88ba-3a39842af2a0"
      },
      "execution_count": 10,
      "outputs": [
        {
          "output_type": "stream",
          "name": "stdout",
          "text": [
            "predict( ) 수행 결과값을 10개만 표시, 예측 확률 값으로 표시됨\n",
            "[0.938 0.003 0.896 0.073 0.993 1.    1.    0.999 0.996 0.   ]\n",
            "예측값 10개만 표시: [1, 0, 1, 0, 1, 1, 1, 1, 1, 0]\n"
          ]
        }
      ]
    },
    {
      "cell_type": "markdown",
      "source": [
        "- 3장에서 만든 `get_clf_eval()` 함수를 적용해 XGBoost 모델의 예측 성능을 평가해보자."
      ],
      "metadata": {
        "id": "yooRq3ytNqyB"
      }
    },
    {
      "cell_type": "code",
      "source": [
        "from sklearn.metrics import confusion_matrix, accuracy_score\n",
        "from sklearn.metrics import precision_score, recall_score\n",
        "from sklearn.metrics import f1_score, roc_auc_score\n",
        "\n",
        "def get_clf_eval(y_test, pred=None, pred_proba=None):\n",
        "    confusion = confusion_matrix( y_test, pred)\n",
        "    accuracy = accuracy_score(y_test , pred)\n",
        "    precision = precision_score(y_test , pred)\n",
        "    recall = recall_score(y_test , pred)\n",
        "    f1 = f1_score(y_test,pred)\n",
        "    # ROC-AUC 추가 \n",
        "    roc_auc = roc_auc_score(y_test, pred_proba)\n",
        "    print('오차 행렬')\n",
        "    print(confusion)\n",
        "    # ROC-AUC print 추가\n",
        "    print('정확도: {0:.4f}, 정밀도: {1:.4f}, 재현율: {2:.4f},\\\n",
        "    F1: {3:.4f}, AUC:{4:.4f}'.format(accuracy, precision, recall, f1, roc_auc))"
      ],
      "metadata": {
        "id": "T7FgtFgHN02U"
      },
      "execution_count": 11,
      "outputs": []
    },
    {
      "cell_type": "code",
      "source": [
        "get_clf_eval(y_test , preds, pred_probs)"
      ],
      "metadata": {
        "colab": {
          "base_uri": "https://localhost:8080/"
        },
        "id": "4SSOxtGbN3IZ",
        "outputId": "a3be3086-3a41-43f0-e9a8-e1c8ab735fb6"
      },
      "execution_count": 12,
      "outputs": [
        {
          "output_type": "stream",
          "name": "stdout",
          "text": [
            "오차 행렬\n",
            "[[34  3]\n",
            " [ 1 76]]\n",
            "정확도: 0.9649, 정밀도: 0.9620, 재현율: 0.9870,    F1: 0.9744, AUC:0.9954\n"
          ]
        }
      ]
    },
    {
      "cell_type": "markdown",
      "source": [
        "- 정확도는 약 0.9737, 정밀도는 0.9744, 재현율은 0.9870, F1-스코어는 0.9806, 그리고 ROC-AUC는 0.9951으로 측정되었다.\n",
        "- 이번에는 xgboost 패키지에 내장된 시각화 기능을 사용해보자.\n",
        "- xgboost의 `plot_importance()` API는 Feature의 중요도를 기본 평가 지표로 F1 스코어를 사용하여, 막대 그래프 형식으로 나타낸다. 다만 xgboost 넘파이 기반의 Feature 데이터로, Feature 명을 제대로 알 수 없어 f0, f1과 같이 Feature 순서별로 f자 뒤에 순서를 붙여 X축에 Feature를 나열한다는 점에 유의해야 한다."
      ],
      "metadata": {
        "id": "A831w1uVN5u5"
      }
    },
    {
      "cell_type": "code",
      "source": [
        "import matplotlib.pyplot as plt\n",
        "%matplotlib inline\n",
        "\n",
        "fig, ax = plt.subplots(figsize=(10, 12))\n",
        "plot_importance(xgb_model, ax=ax)"
      ],
      "metadata": {
        "colab": {
          "base_uri": "https://localhost:8080/",
          "height": 748
        },
        "id": "9fQTbjDROu4D",
        "outputId": "8a67f5ba-e39b-4b5b-b4e8-66eafa451490"
      },
      "execution_count": 13,
      "outputs": [
        {
          "output_type": "execute_result",
          "data": {
            "text/plain": [
              "<matplotlib.axes._subplots.AxesSubplot at 0x7fcb09bfc110>"
            ]
          },
          "metadata": {},
          "execution_count": 13
        },
        {
          "output_type": "display_data",
          "data": {
            "text/plain": [
              "<Figure size 720x864 with 1 Axes>"
            ],
            "image/png": "[encoded data removed]"
          },
          "metadata": {
            "needs_background": "light"
          }
        }
      ]
    },
    {
      "cell_type": "markdown",
      "source": [
        "- 결정 트리에서 본 트리 기반 규칙 구조도 xgboost에서 `to_graphviz()` API를 이용하여, 시각화 할 수 있다. 단, Graphviz 프로그램과 패키지가 설치되어 있어야 한다.\n",
        "- 파이썬 래퍼 XGBoost의 `cv()` API : 데이터셋에 대한 교차 검증을 수행한 후 최적 파라미터를 구할 수 있는 API. 반환값은 DataFrame 형태이다."
      ],
      "metadata": {
        "id": "iA4lVqKrO_7Z"
      }
    },
    {
      "cell_type": "markdown",
      "source": [
        "### | **사이킷런 래퍼 XGBoost의 개요 및 적용**\n",
        "___\n",
        "- **사이킷런 래퍼 XGBoost** : 사이킷런의 프레임워크와 연동하기 위해 개발한 사이킷런 전용의 XGBoost 래퍼 클래스\n",
        "- 사이킷런의 기본 Estimator를 그대로 상속해 만들었기 때문에, `fit()`과 `predict()`만으로 학습과 예측이 가능하며, GridSearchCV, Pipeline 등 사이킷런의 다른 유틸리티를 그대로 사용할 수 있다.\n",
        "- 분류를 위한 래퍼 클래스인 XGBClassifier, 회귀를 위한 래퍼 클래스인 XGBRegressor가 있다.\n",
        "- 파이썬 래퍼 XGBoost의 하이퍼 파라미터 중 일부는 사이킷런 래퍼 XGBoost에서 아래와 같이 변경되었다.\n",
        "  1. `eta` -> `learning_rate`\n",
        "  2. `sub_sample` -> `subsample`\n",
        "  3. `lambda` -> `reg_lambda`\n",
        "  4. `alpha` -> `reg_alpha`\n",
        "- xgboost의 `n_estimators`와 `num_boost_round`는 동일한 하이퍼 파라미터인데, 파이썬 래퍼 XGBoost에서는 `num_boost_round`을 적용하고, 사이킷런 래퍼 XGBoost에서는 n_estimators`을 적용한다.\n",
        "- 위스콘신 대학병원의 유방암 데이터셋에 XGBClassifier를 적용하여 예측을 해보자.\n",
        "  + `n_estimators = 400`, `learning_rate = 0.1`, `max_depth = 3`으로 설정한다.\n",
        "  + 위에서 사용한 학습/테스트용 데이터셋을 활용한다."
      ],
      "metadata": {
        "id": "TD5AKjUylzyh"
      }
    },
    {
      "cell_type": "code",
      "source": [
        "# 사이킷런 래퍼 XGBoost 클래스인 XGBClassifier Import\n",
        "from xgboost import XGBClassifier\n",
        "\n",
        "xgb_wrapper = XGBClassifier(n_estimators = 400, learning_rate = 0.1, max_depth = 3)\n",
        "xgb_wrapper.fit(X_train, y_train)\n",
        "\n",
        "w_preds = xgb_wrapper.predict(X_test)\n",
        "w_pred_proba = xgb_wrapper.predict_proba(X_test)[:, 1]"
      ],
      "metadata": {
        "id": "fjxyxmd2fiUZ"
      },
      "execution_count": 14,
      "outputs": []
    },
    {
      "cell_type": "code",
      "source": [
        "# Model Test\n",
        "get_clf_eval(y_test , w_preds, w_pred_proba)"
      ],
      "metadata": {
        "colab": {
          "base_uri": "https://localhost:8080/"
        },
        "id": "Z5bqsXgaf7Yp",
        "outputId": "c175236a-58f2-4648-b7b9-8fe6cd171cd3"
      },
      "execution_count": 15,
      "outputs": [
        {
          "output_type": "stream",
          "name": "stdout",
          "text": [
            "오차 행렬\n",
            "[[35  2]\n",
            " [ 1 76]]\n",
            "정확도: 0.9737, 정밀도: 0.9744, 재현율: 0.9870,    F1: 0.9806, AUC:0.9954\n"
          ]
        }
      ]
    },
    {
      "cell_type": "markdown",
      "source": [
        "- 파이썬 래퍼 XGBoost와 동일한 평가 결과가 나온다.\n",
        "- 사이킷런 래퍼 XGBoost에서도 조기 중단을 수행할 수 있는데, 아래와 같은 파라미터를 `fit()` 안에 입력하면 된다.\n",
        "  1. `early_stopping+rounds` : 평가 지표가 향상될 수 있는 반복 횟수를 정의\n",
        "  2. `eval_metric` : 조기 중단을 위한 평가 지표\n",
        "  3. `eval_set` : 성능 평가를 수행할 데이터셋. 학습 데이터가 아닌 별도의 데이터셋이어야 한다.\n",
        "- `early_stopping_rounds = 100`, `eval_metric = \"logloss\"`, `eval_set = evals`로 설정하여, 조기 중단을 수행해보자.\n",
        "  + `eval_set`을 테스트용 데이터로 설정하면, 테스트 데이터에 과적합이 될 수 있기 때문에 다른 데이터셋을 사용하는 게 좋다.\n",
        "  + 다만 본 예제에서는 데이터셋의 크기가 작아 테스트 데이터를 평가용으로 사용했다."
      ],
      "metadata": {
        "id": "aGz234PBgCba"
      }
    },
    {
      "cell_type": "code",
      "source": [
        "from xgboost import XGBClassifier\n",
        "\n",
        "xgb_wrapper = XGBClassifier(n_estimators=400, learning_rate=0.1, max_depth=3)\n",
        "\n",
        "# 테스트 데이터셋\n",
        "evals = [(X_test, y_test)]\n",
        "\n",
        "# 조기 중단 설정\n",
        "xgb_wrapper.fit(X_train, y_train, early_stopping_rounds=100, eval_metric=\"logloss\", eval_set=evals, verbose=True)\n",
        "\n",
        "# 예측\n",
        "ws100_preds = xgb_wrapper.predict(X_test)\n",
        "ws100_pred_proba = xgb_wrapper.predict_proba(X_test)[:, 1]"
      ],
      "metadata": {
        "colab": {
          "base_uri": "https://localhost:8080/"
        },
        "id": "1I_NHigihW5U",
        "outputId": "21297ded-348b-4177-d88a-12a0e1d71c75"
      },
      "execution_count": 16,
      "outputs": [
        {
          "output_type": "stream",
          "name": "stderr",
          "text": [
            "Will train until validation_0 error hasn't decreased in 100 rounds.\n",
            "[0]\tvalidation_0-logloss:0.613520\n",
            "[1]\tvalidation_0-logloss:0.547843\n",
            "[2]\tvalidation_0-logloss:0.494248\n",
            "[3]\tvalidation_0-logloss:0.447986\n",
            "[4]\tvalidation_0-logloss:0.409109\n",
            "[5]\tvalidation_0-logloss:0.374977\n",
            "[6]\tvalidation_0-logloss:0.345714\n",
            "[7]\tvalidation_0-logloss:0.320529\n",
            "[8]\tvalidation_0-logloss:0.297210\n",
            "[9]\tvalidation_0-logloss:0.277991\n",
            "[10]\tvalidation_0-logloss:0.260302\n",
            "[11]\tvalidation_0-logloss:0.246037\n",
            "[12]\tvalidation_0-logloss:0.231556\n",
            "[13]\tvalidation_0-logloss:0.220050\n",
            "[14]\tvalidation_0-logloss:0.208572\n",
            "[15]\tvalidation_0-logloss:0.199993\n",
            "[16]\tvalidation_0-logloss:0.190118\n",
            "[17]\tvalidation_0-logloss:0.181818\n",
            "[18]\tvalidation_0-logloss:0.174729\n",
            "[19]\tvalidation_0-logloss:0.167657\n",
            "[20]\tvalidation_0-logloss:0.158202\n",
            "[21]\tvalidation_0-logloss:0.154432\n",
            "[22]\tvalidation_0-logloss:0.148656\n",
            "[23]\tvalidation_0-logloss:0.141245\n",
            "[24]\tvalidation_0-logloss:0.136042\n",
            "[25]\tvalidation_0-logloss:0.132487\n",
            "[26]\tvalidation_0-logloss:0.127632\n",
            "[27]\tvalidation_0-logloss:0.125043\n",
            "[28]\tvalidation_0-logloss:0.119770\n",
            "[29]\tvalidation_0-logloss:0.117073\n",
            "[30]\tvalidation_0-logloss:0.114827\n",
            "[31]\tvalidation_0-logloss:0.113136\n",
            "[32]\tvalidation_0-logloss:0.110032\n",
            "[33]\tvalidation_0-logloss:0.107852\n",
            "[34]\tvalidation_0-logloss:0.107176\n",
            "[35]\tvalidation_0-logloss:0.104638\n",
            "[36]\tvalidation_0-logloss:0.102992\n",
            "[37]\tvalidation_0-logloss:0.100518\n",
            "[38]\tvalidation_0-logloss:0.098188\n",
            "[39]\tvalidation_0-logloss:0.096334\n",
            "[40]\tvalidation_0-logloss:0.095130\n",
            "[41]\tvalidation_0-logloss:0.094663\n",
            "[42]\tvalidation_0-logloss:0.094175\n",
            "[43]\tvalidation_0-logloss:0.092617\n",
            "[44]\tvalidation_0-logloss:0.093162\n",
            "[45]\tvalidation_0-logloss:0.092191\n",
            "[46]\tvalidation_0-logloss:0.091699\n",
            "[47]\tvalidation_0-logloss:0.091546\n",
            "[48]\tvalidation_0-logloss:0.090223\n",
            "[49]\tvalidation_0-logloss:0.089690\n",
            "[50]\tvalidation_0-logloss:0.089572\n",
            "[51]\tvalidation_0-logloss:0.088775\n",
            "[52]\tvalidation_0-logloss:0.089920\n",
            "[53]\tvalidation_0-logloss:0.090687\n",
            "[54]\tvalidation_0-logloss:0.090681\n",
            "[55]\tvalidation_0-logloss:0.089511\n",
            "[56]\tvalidation_0-logloss:0.088928\n",
            "[57]\tvalidation_0-logloss:0.088957\n",
            "[58]\tvalidation_0-logloss:0.089236\n",
            "[59]\tvalidation_0-logloss:0.088844\n",
            "[60]\tvalidation_0-logloss:0.088418\n",
            "[61]\tvalidation_0-logloss:0.088080\n",
            "[62]\tvalidation_0-logloss:0.087247\n",
            "[63]\tvalidation_0-logloss:0.087218\n",
            "[64]\tvalidation_0-logloss:0.086290\n",
            "[65]\tvalidation_0-logloss:0.087353\n",
            "[66]\tvalidation_0-logloss:0.086531\n",
            "[67]\tvalidation_0-logloss:0.086645\n",
            "[68]\tvalidation_0-logloss:0.086404\n",
            "[69]\tvalidation_0-logloss:0.086179\n",
            "[70]\tvalidation_0-logloss:0.087403\n",
            "[71]\tvalidation_0-logloss:0.087263\n",
            "[72]\tvalidation_0-logloss:0.087144\n",
            "[73]\tvalidation_0-logloss:0.087859\n",
            "[74]\tvalidation_0-logloss:0.088397\n",
            "[75]\tvalidation_0-logloss:0.087929\n",
            "[76]\tvalidation_0-logloss:0.087767\n",
            "[77]\tvalidation_0-logloss:0.088981\n",
            "[78]\tvalidation_0-logloss:0.088326\n",
            "[79]\tvalidation_0-logloss:0.088803\n",
            "[80]\tvalidation_0-logloss:0.088559\n",
            "[81]\tvalidation_0-logloss:0.087860\n",
            "[82]\tvalidation_0-logloss:0.087307\n",
            "[83]\tvalidation_0-logloss:0.087602\n",
            "[84]\tvalidation_0-logloss:0.087512\n",
            "[85]\tvalidation_0-logloss:0.087416\n",
            "[86]\tvalidation_0-logloss:0.088504\n",
            "[87]\tvalidation_0-logloss:0.088001\n",
            "[88]\tvalidation_0-logloss:0.087934\n",
            "[89]\tvalidation_0-logloss:0.087565\n",
            "[90]\tvalidation_0-logloss:0.087035\n",
            "[91]\tvalidation_0-logloss:0.086812\n",
            "[92]\tvalidation_0-logloss:0.086427\n",
            "[93]\tvalidation_0-logloss:0.086219\n",
            "[94]\tvalidation_0-logloss:0.085717\n",
            "[95]\tvalidation_0-logloss:0.085899\n",
            "[96]\tvalidation_0-logloss:0.085842\n",
            "[97]\tvalidation_0-logloss:0.085670\n",
            "[98]\tvalidation_0-logloss:0.085227\n",
            "[99]\tvalidation_0-logloss:0.085125\n",
            "[100]\tvalidation_0-logloss:0.085253\n",
            "[101]\tvalidation_0-logloss:0.085118\n",
            "[102]\tvalidation_0-logloss:0.085294\n",
            "[103]\tvalidation_0-logloss:0.084860\n",
            "[104]\tvalidation_0-logloss:0.084817\n",
            "[105]\tvalidation_0-logloss:0.084814\n",
            "[106]\tvalidation_0-logloss:0.084757\n",
            "[107]\tvalidation_0-logloss:0.085698\n",
            "[108]\tvalidation_0-logloss:0.085733\n",
            "[109]\tvalidation_0-logloss:0.085635\n",
            "[110]\tvalidation_0-logloss:0.085522\n",
            "[111]\tvalidation_0-logloss:0.085122\n",
            "[112]\tvalidation_0-logloss:0.086002\n",
            "[113]\tvalidation_0-logloss:0.085977\n",
            "[114]\tvalidation_0-logloss:0.085963\n",
            "[115]\tvalidation_0-logloss:0.085563\n",
            "[116]\tvalidation_0-logloss:0.085616\n",
            "[117]\tvalidation_0-logloss:0.085285\n",
            "[118]\tvalidation_0-logloss:0.085269\n",
            "[119]\tvalidation_0-logloss:0.085827\n",
            "[120]\tvalidation_0-logloss:0.086077\n",
            "[121]\tvalidation_0-logloss:0.085913\n",
            "[122]\tvalidation_0-logloss:0.085850\n",
            "[123]\tvalidation_0-logloss:0.085902\n",
            "[124]\tvalidation_0-logloss:0.085861\n",
            "[125]\tvalidation_0-logloss:0.086441\n",
            "[126]\tvalidation_0-logloss:0.086935\n",
            "[127]\tvalidation_0-logloss:0.087411\n",
            "[128]\tvalidation_0-logloss:0.086986\n",
            "[129]\tvalidation_0-logloss:0.086821\n",
            "[130]\tvalidation_0-logloss:0.086787\n",
            "[131]\tvalidation_0-logloss:0.086736\n",
            "[132]\tvalidation_0-logloss:0.086336\n",
            "[133]\tvalidation_0-logloss:0.086806\n",
            "[134]\tvalidation_0-logloss:0.086726\n",
            "[135]\tvalidation_0-logloss:0.086696\n",
            "[136]\tvalidation_0-logloss:0.086246\n",
            "[137]\tvalidation_0-logloss:0.087161\n",
            "[138]\tvalidation_0-logloss:0.087079\n",
            "[139]\tvalidation_0-logloss:0.087051\n",
            "[140]\tvalidation_0-logloss:0.086675\n",
            "[141]\tvalidation_0-logloss:0.087218\n",
            "[142]\tvalidation_0-logloss:0.086965\n",
            "[143]\tvalidation_0-logloss:0.087486\n",
            "[144]\tvalidation_0-logloss:0.087404\n",
            "[145]\tvalidation_0-logloss:0.087058\n",
            "[146]\tvalidation_0-logloss:0.087035\n",
            "[147]\tvalidation_0-logloss:0.087538\n",
            "[148]\tvalidation_0-logloss:0.087269\n",
            "[149]\tvalidation_0-logloss:0.086926\n",
            "[150]\tvalidation_0-logloss:0.087013\n",
            "[151]\tvalidation_0-logloss:0.086931\n",
            "[152]\tvalidation_0-logloss:0.086910\n",
            "[153]\tvalidation_0-logloss:0.086624\n",
            "[154]\tvalidation_0-logloss:0.086660\n",
            "[155]\tvalidation_0-logloss:0.086382\n",
            "[156]\tvalidation_0-logloss:0.086367\n",
            "[157]\tvalidation_0-logloss:0.086273\n",
            "[158]\tvalidation_0-logloss:0.086326\n",
            "[159]\tvalidation_0-logloss:0.086363\n",
            "[160]\tvalidation_0-logloss:0.086351\n",
            "[161]\tvalidation_0-logloss:0.086079\n",
            "[162]\tvalidation_0-logloss:0.085991\n",
            "[163]\tvalidation_0-logloss:0.085997\n",
            "[164]\tvalidation_0-logloss:0.086051\n",
            "[165]\tvalidation_0-logloss:0.086088\n",
            "[166]\tvalidation_0-logloss:0.085838\n",
            "[167]\tvalidation_0-logloss:0.085758\n",
            "[168]\tvalidation_0-logloss:0.085749\n",
            "[169]\tvalidation_0-logloss:0.085484\n",
            "[170]\tvalidation_0-logloss:0.085521\n",
            "[171]\tvalidation_0-logloss:0.085436\n",
            "[172]\tvalidation_0-logloss:0.085430\n",
            "[173]\tvalidation_0-logloss:0.085168\n",
            "[174]\tvalidation_0-logloss:0.085206\n",
            "[175]\tvalidation_0-logloss:0.084963\n",
            "[176]\tvalidation_0-logloss:0.085050\n",
            "[177]\tvalidation_0-logloss:0.085062\n",
            "[178]\tvalidation_0-logloss:0.085113\n",
            "[179]\tvalidation_0-logloss:0.085032\n",
            "[180]\tvalidation_0-logloss:0.084965\n",
            "[181]\tvalidation_0-logloss:0.084964\n",
            "[182]\tvalidation_0-logloss:0.084713\n",
            "[183]\tvalidation_0-logloss:0.084750\n",
            "[184]\tvalidation_0-logloss:0.084550\n",
            "[185]\tvalidation_0-logloss:0.084587\n",
            "[186]\tvalidation_0-logloss:0.084338\n",
            "[187]\tvalidation_0-logloss:0.084354\n",
            "[188]\tvalidation_0-logloss:0.084123\n",
            "[189]\tvalidation_0-logloss:0.084210\n",
            "[190]\tvalidation_0-logloss:0.084245\n",
            "[191]\tvalidation_0-logloss:0.084055\n",
            "[192]\tvalidation_0-logloss:0.083990\n",
            "[193]\tvalidation_0-logloss:0.083992\n",
            "[194]\tvalidation_0-logloss:0.084051\n",
            "[195]\tvalidation_0-logloss:0.083974\n",
            "[196]\tvalidation_0-logloss:0.083995\n",
            "[197]\tvalidation_0-logloss:0.084032\n",
            "[198]\tvalidation_0-logloss:0.083806\n",
            "[199]\tvalidation_0-logloss:0.083891\n",
            "[200]\tvalidation_0-logloss:0.083927\n",
            "[201]\tvalidation_0-logloss:0.083828\n",
            "[202]\tvalidation_0-logloss:0.083886\n",
            "[203]\tvalidation_0-logloss:0.083923\n",
            "[204]\tvalidation_0-logloss:0.083828\n",
            "[205]\tvalidation_0-logloss:0.083766\n",
            "[206]\tvalidation_0-logloss:0.083773\n",
            "[207]\tvalidation_0-logloss:0.083701\n",
            "[208]\tvalidation_0-logloss:0.083480\n",
            "[209]\tvalidation_0-logloss:0.083505\n",
            "[210]\tvalidation_0-logloss:0.083556\n",
            "[211]\tvalidation_0-logloss:0.083589\n",
            "[212]\tvalidation_0-logloss:0.083673\n",
            "[213]\tvalidation_0-logloss:0.083464\n",
            "[214]\tvalidation_0-logloss:0.083663\n",
            "[215]\tvalidation_0-logloss:0.083671\n",
            "[216]\tvalidation_0-logloss:0.083611\n",
            "[217]\tvalidation_0-logloss:0.083519\n",
            "[218]\tvalidation_0-logloss:0.083718\n",
            "[219]\tvalidation_0-logloss:0.083630\n",
            "[220]\tvalidation_0-logloss:0.083573\n",
            "[221]\tvalidation_0-logloss:0.083607\n",
            "[222]\tvalidation_0-logloss:0.083655\n",
            "[223]\tvalidation_0-logloss:0.083666\n",
            "[224]\tvalidation_0-logloss:0.083860\n",
            "[225]\tvalidation_0-logloss:0.083773\n",
            "[226]\tvalidation_0-logloss:0.083858\n",
            "[227]\tvalidation_0-logloss:0.084050\n",
            "[228]\tvalidation_0-logloss:0.084097\n",
            "[229]\tvalidation_0-logloss:0.084015\n",
            "[230]\tvalidation_0-logloss:0.084050\n",
            "[231]\tvalidation_0-logloss:0.084065\n",
            "[232]\tvalidation_0-logloss:0.084010\n",
            "[233]\tvalidation_0-logloss:0.083840\n",
            "[234]\tvalidation_0-logloss:0.084030\n",
            "[235]\tvalidation_0-logloss:0.083951\n",
            "[236]\tvalidation_0-logloss:0.083900\n",
            "[237]\tvalidation_0-logloss:0.083916\n",
            "[238]\tvalidation_0-logloss:0.083963\n",
            "[239]\tvalidation_0-logloss:0.083999\n",
            "[240]\tvalidation_0-logloss:0.084083\n",
            "[241]\tvalidation_0-logloss:0.083920\n",
            "[242]\tvalidation_0-logloss:0.084109\n",
            "[243]\tvalidation_0-logloss:0.084127\n",
            "[244]\tvalidation_0-logloss:0.084173\n",
            "[245]\tvalidation_0-logloss:0.084209\n",
            "[246]\tvalidation_0-logloss:0.084135\n",
            "[247]\tvalidation_0-logloss:0.084085\n",
            "[248]\tvalidation_0-logloss:0.084270\n",
            "[249]\tvalidation_0-logloss:0.084195\n",
            "[250]\tvalidation_0-logloss:0.084204\n",
            "[251]\tvalidation_0-logloss:0.084049\n",
            "[252]\tvalidation_0-logloss:0.084003\n",
            "[253]\tvalidation_0-logloss:0.084023\n",
            "[254]\tvalidation_0-logloss:0.084207\n",
            "[255]\tvalidation_0-logloss:0.084252\n",
            "[256]\tvalidation_0-logloss:0.084289\n",
            "[257]\tvalidation_0-logloss:0.084218\n",
            "[258]\tvalidation_0-logloss:0.084303\n",
            "[259]\tvalidation_0-logloss:0.084483\n",
            "[260]\tvalidation_0-logloss:0.084504\n",
            "[261]\tvalidation_0-logloss:0.084459\n",
            "[262]\tvalidation_0-logloss:0.084306\n",
            "[263]\tvalidation_0-logloss:0.084350\n",
            "[264]\tvalidation_0-logloss:0.084388\n",
            "[265]\tvalidation_0-logloss:0.084409\n",
            "[266]\tvalidation_0-logloss:0.084493\n",
            "[267]\tvalidation_0-logloss:0.084669\n",
            "[268]\tvalidation_0-logloss:0.084601\n",
            "[269]\tvalidation_0-logloss:0.084558\n",
            "[270]\tvalidation_0-logloss:0.084417\n",
            "[271]\tvalidation_0-logloss:0.084461\n",
            "[272]\tvalidation_0-logloss:0.084497\n",
            "[273]\tvalidation_0-logloss:0.084670\n",
            "[274]\tvalidation_0-logloss:0.084693\n",
            "[275]\tvalidation_0-logloss:0.084736\n",
            "[276]\tvalidation_0-logloss:0.084598\n",
            "[277]\tvalidation_0-logloss:0.084633\n",
            "[278]\tvalidation_0-logloss:0.084716\n",
            "[279]\tvalidation_0-logloss:0.084674\n",
            "[280]\tvalidation_0-logloss:0.084538\n",
            "[281]\tvalidation_0-logloss:0.084581\n",
            "[282]\tvalidation_0-logloss:0.084455\n",
            "[283]\tvalidation_0-logloss:0.084479\n",
            "[284]\tvalidation_0-logloss:0.084441\n",
            "[285]\tvalidation_0-logloss:0.084310\n",
            "[286]\tvalidation_0-logloss:0.084388\n",
            "[287]\tvalidation_0-logloss:0.084394\n",
            "[288]\tvalidation_0-logloss:0.084436\n",
            "[289]\tvalidation_0-logloss:0.084314\n",
            "[290]\tvalidation_0-logloss:0.084183\n",
            "[291]\tvalidation_0-logloss:0.084209\n",
            "[292]\tvalidation_0-logloss:0.084252\n",
            "[293]\tvalidation_0-logloss:0.084284\n",
            "[294]\tvalidation_0-logloss:0.084361\n",
            "[295]\tvalidation_0-logloss:0.084326\n",
            "[296]\tvalidation_0-logloss:0.084199\n",
            "[297]\tvalidation_0-logloss:0.084206\n",
            "[298]\tvalidation_0-logloss:0.084233\n",
            "[299]\tvalidation_0-logloss:0.084275\n",
            "[300]\tvalidation_0-logloss:0.084156\n",
            "[301]\tvalidation_0-logloss:0.084033\n",
            "[302]\tvalidation_0-logloss:0.084041\n",
            "[303]\tvalidation_0-logloss:0.084116\n",
            "[304]\tvalidation_0-logloss:0.084157\n",
            "[305]\tvalidation_0-logloss:0.084036\n",
            "[306]\tvalidation_0-logloss:0.084002\n",
            "[307]\tvalidation_0-logloss:0.084030\n",
            "[308]\tvalidation_0-logloss:0.083913\n",
            "[309]\tvalidation_0-logloss:0.083954\n",
            "[310]\tvalidation_0-logloss:0.083837\n",
            "[311]\tvalidation_0-logloss:0.083846\n",
            "[312]\tvalidation_0-logloss:0.083919\n",
            "[313]\tvalidation_0-logloss:0.083805\n",
            "Stopping. Best iteration:\n",
            "[213]\tvalidation_0-logloss:0.083464\n",
            "\n"
          ]
        }
      ]
    },
    {
      "cell_type": "markdown",
      "source": [
        "- `n_estimators`를 400에서 설정했으나, 311번 반복 후 학습을 완료했음을 알 수 있다. 211번 반복에서 `logloss`가 0.085593이었는데, 100번(`early_stopping_rounds=100`)의 반복 후 311번 반복의 `logloss`가 0.085948로 성능 평가 지수가 향상되지 않았기 때문에 반복하지 않고 종료한 것이다."
      ],
      "metadata": {
        "id": "18tAxCIQhjvE"
      }
    },
    {
      "cell_type": "code",
      "source": [
        "# Model Test\n",
        "get_clf_eval(y_test , ws100_preds, ws100_pred_proba)"
      ],
      "metadata": {
        "colab": {
          "base_uri": "https://localhost:8080/"
        },
        "id": "XijGzLn-imd-",
        "outputId": "c160a74b-28a5-4d53-9851-81f4356cba99"
      },
      "execution_count": 17,
      "outputs": [
        {
          "output_type": "stream",
          "name": "stdout",
          "text": [
            "오차 행렬\n",
            "[[34  3]\n",
            " [ 1 76]]\n",
            "정확도: 0.9649, 정밀도: 0.9620, 재현율: 0.9870,    F1: 0.9744, AUC:0.9954\n"
          ]
        }
      ]
    },
    {
      "cell_type": "markdown",
      "source": [
        "- 위에서는 예측 성능이 조기 중단이 적용되지 않은 결과보다 약간 저조한 성능을 보이고 있다. 다만 조기 중단값을 너무 급격하게 줄이면 충분한 학습이 되지 않아 예측 성능이 크게 저하될 수 있다.\n",
        "- `early_stopping_rounds = 10`으로 설정해 예측 성능을 측정해보자."
      ],
      "metadata": {
        "id": "2o0-HnZ_iuTD"
      }
    },
    {
      "cell_type": "code",
      "source": [
        "# early_stopping_rounds를 10으로 설정하고 재 학습. \n",
        "xgb_wrapper.fit(X_train, y_train, early_stopping_rounds = 10, eval_metric = \"logloss\", eval_set = evals,verbose = True)\n",
        "\n",
        "ws10_preds = xgb_wrapper.predict(X_test)\n",
        "ws10_pred_proba = xgb_wrapper.predict_proba(X_test)[:, 1]\n",
        "\n",
        "# Model Test\n",
        "get_clf_eval(y_test , ws10_preds, ws10_pred_proba)"
      ],
      "metadata": {
        "colab": {
          "base_uri": "https://localhost:8080/"
        },
        "id": "JQif-6q-jDQe",
        "outputId": "1e08c19b-efdf-4c6e-bd0d-764cf256f008"
      },
      "execution_count": 18,
      "outputs": [
        {
          "output_type": "stream",
          "name": "stdout",
          "text": [
            "오차 행렬\n",
            "[[34  3]\n",
            " [ 2 75]]\n",
            "정확도: 0.9561, 정밀도: 0.9615, 재현율: 0.9740,    F1: 0.9677, AUC:0.9944\n"
          ]
        },
        {
          "output_type": "stream",
          "name": "stderr",
          "text": [
            "Will train until validation_0 error hasn't decreased in 10 rounds.\n",
            "[0]\tvalidation_0-logloss:0.613520\n",
            "[1]\tvalidation_0-logloss:0.547843\n",
            "[2]\tvalidation_0-logloss:0.494248\n",
            "[3]\tvalidation_0-logloss:0.447986\n",
            "[4]\tvalidation_0-logloss:0.409109\n",
            "[5]\tvalidation_0-logloss:0.374977\n",
            "[6]\tvalidation_0-logloss:0.345714\n",
            "[7]\tvalidation_0-logloss:0.320529\n",
            "[8]\tvalidation_0-logloss:0.297210\n",
            "[9]\tvalidation_0-logloss:0.277991\n",
            "[10]\tvalidation_0-logloss:0.260302\n",
            "[11]\tvalidation_0-logloss:0.246037\n",
            "[12]\tvalidation_0-logloss:0.231556\n",
            "[13]\tvalidation_0-logloss:0.220050\n",
            "[14]\tvalidation_0-logloss:0.208572\n",
            "[15]\tvalidation_0-logloss:0.199993\n",
            "[16]\tvalidation_0-logloss:0.190118\n",
            "[17]\tvalidation_0-logloss:0.181818\n",
            "[18]\tvalidation_0-logloss:0.174729\n",
            "[19]\tvalidation_0-logloss:0.167657\n",
            "[20]\tvalidation_0-logloss:0.158202\n",
            "[21]\tvalidation_0-logloss:0.154432\n",
            "[22]\tvalidation_0-logloss:0.148656\n",
            "[23]\tvalidation_0-logloss:0.141245\n",
            "[24]\tvalidation_0-logloss:0.136042\n",
            "[25]\tvalidation_0-logloss:0.132487\n",
            "[26]\tvalidation_0-logloss:0.127632\n",
            "[27]\tvalidation_0-logloss:0.125043\n",
            "[28]\tvalidation_0-logloss:0.119770\n",
            "[29]\tvalidation_0-logloss:0.117073\n",
            "[30]\tvalidation_0-logloss:0.114827\n",
            "[31]\tvalidation_0-logloss:0.113136\n",
            "[32]\tvalidation_0-logloss:0.110032\n",
            "[33]\tvalidation_0-logloss:0.107852\n",
            "[34]\tvalidation_0-logloss:0.107176\n",
            "[35]\tvalidation_0-logloss:0.104638\n",
            "[36]\tvalidation_0-logloss:0.102992\n",
            "[37]\tvalidation_0-logloss:0.100518\n",
            "[38]\tvalidation_0-logloss:0.098188\n",
            "[39]\tvalidation_0-logloss:0.096334\n",
            "[40]\tvalidation_0-logloss:0.095130\n",
            "[41]\tvalidation_0-logloss:0.094663\n",
            "[42]\tvalidation_0-logloss:0.094175\n",
            "[43]\tvalidation_0-logloss:0.092617\n",
            "[44]\tvalidation_0-logloss:0.093162\n",
            "[45]\tvalidation_0-logloss:0.092191\n",
            "[46]\tvalidation_0-logloss:0.091699\n",
            "[47]\tvalidation_0-logloss:0.091546\n",
            "[48]\tvalidation_0-logloss:0.090223\n",
            "[49]\tvalidation_0-logloss:0.089690\n",
            "[50]\tvalidation_0-logloss:0.089572\n",
            "[51]\tvalidation_0-logloss:0.088775\n",
            "[52]\tvalidation_0-logloss:0.089920\n",
            "[53]\tvalidation_0-logloss:0.090687\n",
            "[54]\tvalidation_0-logloss:0.090681\n",
            "[55]\tvalidation_0-logloss:0.089511\n",
            "[56]\tvalidation_0-logloss:0.088928\n",
            "[57]\tvalidation_0-logloss:0.088957\n",
            "[58]\tvalidation_0-logloss:0.089236\n",
            "[59]\tvalidation_0-logloss:0.088844\n",
            "[60]\tvalidation_0-logloss:0.088418\n",
            "[61]\tvalidation_0-logloss:0.088080\n",
            "[62]\tvalidation_0-logloss:0.087247\n",
            "[63]\tvalidation_0-logloss:0.087218\n",
            "[64]\tvalidation_0-logloss:0.086290\n",
            "[65]\tvalidation_0-logloss:0.087353\n",
            "[66]\tvalidation_0-logloss:0.086531\n",
            "[67]\tvalidation_0-logloss:0.086645\n",
            "[68]\tvalidation_0-logloss:0.086404\n",
            "[69]\tvalidation_0-logloss:0.086179\n",
            "[70]\tvalidation_0-logloss:0.087403\n",
            "[71]\tvalidation_0-logloss:0.087263\n",
            "[72]\tvalidation_0-logloss:0.087144\n",
            "[73]\tvalidation_0-logloss:0.087859\n",
            "[74]\tvalidation_0-logloss:0.088397\n",
            "[75]\tvalidation_0-logloss:0.087929\n",
            "[76]\tvalidation_0-logloss:0.087767\n",
            "[77]\tvalidation_0-logloss:0.088981\n",
            "[78]\tvalidation_0-logloss:0.088326\n",
            "[79]\tvalidation_0-logloss:0.088803\n",
            "Stopping. Best iteration:\n",
            "[69]\tvalidation_0-logloss:0.086179\n",
            "\n"
          ]
        }
      ]
    },
    {
      "cell_type": "markdown",
      "source": [
        "- 정확도가 0.9561로 위의 0.9649보다 낮다.\n",
        "- Feature의 중요도를 시각화하는 모듈인 `plot_importance()` API에 사이킷런 래퍼 클래스를 입력해도 앞에서 파이썬 래퍼 클래스를 입력한 결과와 똑같이 시각화 결과를 출력한다."
      ],
      "metadata": {
        "id": "SjJiEJwfjx6h"
      }
    },
    {
      "cell_type": "code",
      "source": [
        "from xgboost import plot_importance\n",
        "import matplotlib.pyplot as plt\n",
        "%matplotlib inline\n",
        "\n",
        "fig, ax = plt.subplots(figsize=(10, 12))\n",
        "\n",
        "# 사이킷런 래퍼 클래스를 입력해도 무방.\n",
        "plot_importance(xgb_wrapper, ax=ax)"
      ],
      "metadata": {
        "colab": {
          "base_uri": "https://localhost:8080/",
          "height": 748
        },
        "id": "Zc77jzoylKaq",
        "outputId": "eb05ded5-2840-4960-92c9-6eddf062653d"
      },
      "execution_count": 19,
      "outputs": [
        {
          "output_type": "execute_result",
          "data": {
            "text/plain": [
              "<matplotlib.axes._subplots.AxesSubplot at 0x7fcb08952810>"
            ]
          },
          "metadata": {},
          "execution_count": 19
        },
        {
          "output_type": "display_data",
          "data": {
            "text/plain": [
              "<Figure size 720x864 with 1 Axes>"
            ],
            "image/png": "[encoded data removed]"
          },
          "metadata": {
            "needs_background": "light"
          }
        }
      ]
    },
    {
      "cell_type": "markdown",
      "source": [
        "## **07 LightGBM**\n",
        "____\n",
        "- XGBoost는 매우 뛰어난 부스팅 알고리즘이지만, 여전히 학습 시간이 길다. GridSearchCV로 하이퍼 파라미터 튜닝을 수행하다 보면 수행 시간이 너무 오래 걸려, 많은 파라미터를 튜닝할 수 없다.\n",
        "- LightGBM의 가장 큰 장점은 XGBoost보다 학습에 걸리는 시간이 훨씬 적다는 것이다. 또한 메모리 사용량도 상대적으로 적다. 또한 예측 성능은 XGBoost와 별다른 차이가 없다. \n",
        "- 일반 GBM 계열이 균형 트리 분할 방식(Level Wise)을 사용하지만, **LightGBM은  Leaf 중심 트리 분할 방식(Leaf Wise)**을 사용한다.\n",
        "  - 균형 트리 분할 방식(Level Wise) : 최대한 균형 잡힌 트리를 유지하기 위해 분할하기 때문에 트리의 깊이가 최소화된다. 다만, 균형을 맞추기 위해 시간이 필요하다.\n",
        "  - Leaf 중심 트리 분할 방식(Leaf Wise) : 트리의 균형을 맞추지 않고, 최대 손실값(max delta loss)을 가지는 리프 노드를 계속 분할한다. 이에 따라 트리의 깊이가 깊어지고 비대칭적인 규칙 트리가 생성된다. 하지만, 예측 오류 손실을 최소화할 수 있다.\n",
        "-  LightGBM의 XGBoost 대비 장점\n",
        "  1. 더 빠른 학습과 예측 수행 시간\n",
        "  2. 더 작은 메모리 사용량\n",
        "  3. 범주형 Feature의 자동 변환과 최적 분할(원-핫 인코딩 등을 적용하지 않아도, 범주형 Feature를 최적으로 변환하고 이를 이용하여 노드 분할을 수행)\n",
        "-  LightGBM의 파이썬 패키지 명은 `lightgbm`이다. XGBoost와 마찬가지로 초기에는 파이썬 래퍼용  LightGBM만 개발되었으나, 이후에 사이킷런과 호환 가능한 사이킷런 래퍼  LightGBM가 추가로 개발되었다.\n",
        "-  사이킷런 래퍼 LightGBM 클래스는 분류를 위한 `LGBMClassifier`와 회귀를 위한 `LGBMRegressor` 클래스가 있다.\n",
        "  + 사이킷런 기반의 Estimator을 상속 받았기 때문에, `fit()`, `predict()` 기반의 학습 및 예측과 사이킷런이 제공하는 다양한 유틸리티를 활용할 수 있다."
      ],
      "metadata": {
        "id": "51hhAIWpl7MN"
      }
    },
    {
      "cell_type": "markdown",
      "source": [
        "### | **LightGBM 설치**\n",
        "___"
      ],
      "metadata": {
        "id": "1R_GU9TymBYS"
      }
    },
    {
      "cell_type": "code",
      "source": [
        "!pip install lightgbm"
      ],
      "metadata": {
        "id": "WDBKDsYnmSzj",
        "colab": {
          "base_uri": "https://localhost:8080/"
        },
        "outputId": "dcd78826-ca5b-4560-fec9-11ec887cac84"
      },
      "execution_count": 20,
      "outputs": [
        {
          "output_type": "stream",
          "name": "stdout",
          "text": [
            "Looking in indexes: https://pypi.org/simple, https://us-python.pkg.dev/colab-wheels/public/simple/\n",
            "Requirement already satisfied: lightgbm in /usr/local/lib/python3.7/dist-packages (2.2.3)\n",
            "Requirement already satisfied: scipy in /usr/local/lib/python3.7/dist-packages (from lightgbm) (1.7.3)\n",
            "Requirement already satisfied: scikit-learn in /usr/local/lib/python3.7/dist-packages (from lightgbm) (1.0.2)\n",
            "Requirement already satisfied: numpy in /usr/local/lib/python3.7/dist-packages (from lightgbm) (1.21.6)\n",
            "Requirement already satisfied: threadpoolctl>=2.0.0 in /usr/local/lib/python3.7/dist-packages (from scikit-learn->lightgbm) (3.1.0)\n",
            "Requirement already satisfied: joblib>=0.11 in /usr/local/lib/python3.7/dist-packages (from scikit-learn->lightgbm) (1.2.0)\n"
          ]
        }
      ]
    },
    {
      "cell_type": "markdown",
      "source": [
        "### | **LightGBM 하이퍼 파라미터**\n",
        "___\n",
        "##### **[ 주요 파라미터 ]**\n",
        "1. **`num_iterations`(default = 100)** : 반복 수행하려는 트리의 개수를 지정한다. 크게 지정할수록 예측 성능은 높아지나, 과적합으로 인해 성능이 저하될 수 있다. 사이킷런 호환 클래스에서는 `n_estimators`로 이름이 변경된다.\n",
        "2. **`learning_rate`(default = 0.1)** : 0과 1 사이의 값으로, 부스팅 스텝을 반복적으로 수행할 때 업데이트되는 학습률 값이다. 일반적으로 `n_estimators`을 크게 하고 `learning_rate`을 작게 하여 예측을 성능을 향상시킬 수 있으나, 과적합 문제와 학습 시간이 길어질 수 있다는 점을 유의해야 한다.\n",
        "3. **`max_depth`(default = 1)** : 트리 기반 알고리즘의 `max_depth`와 같은 하이퍼 파라미터이다. 0보다 작은 값을 지정하면 깊이에 제한이 없다. LightGBM은 Leaf Wise 기반이므로 깊이가 Depth wise 방식의 트리보다 상대적으로 더 깊다.\n",
        "4. **`min_data_in_leaf`(default = 20)** : 결정 트리의 `min_samples_leaf`와 같은 파라미터로 최종 결정 클래스인 리프 노드가 되기 위해 최소한으로 필요한 레코드 수이다. 과적합을 제어한다. 사이킷런 래퍼 LightGBM 클래스에서는 `min_child_samples`로 이름이 다르다.\n",
        "5. **`num_leaves`(default = 31)** : 하나의 트리가 가질 수 있는 최대 리프 개수\n",
        "6. **`boosting(default = gbdt)** : 부스팅의 트리를 생성하는 알고리즘을 설정한다. `gbdt`는 일반적인 그래디언트 부스팅 결정 트리이고, `rf`는 랜덤 포레스트를 의미한다.\n",
        "7. **`baggin_fraction`(default = 1.0)** : 트리가 커져 과적합되는 것을 막기 위해 데이터를 샘플링하는 비율을 지정한다. 사이킷런 래퍼 LightGBM에서는 `subsample`로 이름이 변경된다.\n",
        "8. **`feature_fraction`(default = 1.0)** : 개별 트리를 학습할 때마다 무작위로 선택하는 Feature의 비율로 과적합을 막기 위한 파라미터이다. 사이킷런 래퍼 LightGBM에서는 `colsample_bytree`로 이름이 변경된다.\n",
        "9. **`lambda_l2`(default = 0.0)** : L2 Regulation 제어를 위한 값이다. Feature의 개수가 많을 때 적용하며, 값이 클수록 과적합 감소 효과가 있다. 사이킷런 래퍼 LightGBM에서는 `reg_lambda`로 이름이 변경된다.\n",
        "10. **`lambda_l1`(default = 0.0)** : L1 Regulation 제어를 위한 값이며, 과적합 감소 효과가 있다. 사이킷런 래퍼 LightGBM에서는 `reg_alpha`로 이름이 변경된다.\n"
      ],
      "metadata": {
        "id": "pVkXTSNsmYF7"
      }
    },
    {
      "cell_type": "markdown",
      "source": [
        "##### **[ Learning Task 파라미터 ]**\n",
        "- **`objective`** : 최솟값을 가져야 할 손실 함수를 정의한다. 회귀, 다중 클래스 분류, 이진 분류인지에 따라 지정된다. "
      ],
      "metadata": {
        "id": "cUnqr97F1jWy"
      }
    },
    {
      "cell_type": "markdown",
      "source": [
        "### | **하이퍼 파라미터 튜닝 방안**\n",
        "___\n",
        "- `num_leaves`의 개수를 중심으로 `min_child_samples`(`min_data_in_leaf`), `max_depth`를 함께 조정하면서 모델의 복잡도를 줄이는 것이 기본적인 튜닝 방법이다.\n",
        "  - `num_leaves`는 개별 트리가 가질 수 있는 최대 리프 개수로 LightGBM 모델의 복잡도를 제어하는 주요 파라미터이다. `num_leaves`의 개수가 많아지면, 정확도가 높아지지만, 트리의 깊이가 깊어지고 모델의 복잡도가 커져 과적합 가능성도 커진다.\n",
        "  - `min_child_samples`(`min_data_in_leaf`)는 과적합을 개선하기 위해 중요한 파라미터이다. `num_leaves`와 학습 데이터의 크기에 따라 달라지지만, 보통 큰 값으로 설정하면 트리가 깊어지는 것을 방지한다.\n",
        "  - `max_depth`은 명시적으로 깊이의 크기를 제한해 과적합을 개선한다.\n",
        "- `n_estimators`을 크게 하고 `learning_rate`을 작게 하는 것도 기본적인 튜닝 방안 중 하나이다. 다만 `n_estimators`를 너무 크게 하면 과적합될 수 있다.\n",
        "- 이밖에도 과적합을 막기 위해, \n",
        "  1. `reg_lambda`, `reg_alpha`와 같은 regularization을 적용하거나\n",
        "  2. 학습 데이터에 사용할 Feature 개수, 데이터 샘플링 레코드 개수를 줄이기 위해 `colsample_bytree`, `subsample` 파라미터를 활용할 수 있다."
      ],
      "metadata": {
        "id": "R6un38mVmbnK"
      }
    },
    {
      "cell_type": "markdown",
      "source": [
        "### | **파이썬 래퍼 LightGBM과 사이킷런 래퍼 XGBoost, LightGBM 하이퍼 파라미터 비교**\n",
        "___\n"
      ],
      "metadata": {
        "id": "TrUd81dGmf6a"
      }
    },
    {
      "cell_type": "markdown",
      "source": [
        "![image.png](data:image/png;base64,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)"
      ],
      "metadata": {
        "id": "vUJ1Yq0D5CBV"
      }
    },
    {
      "cell_type": "markdown",
      "source": [
        "### | **LigthGBM 적용-위스콘신 유방암 예측**\n",
        "___\n",
        "- 앞서 XGBoost에서 사용한 위스콘신 유방암 데이터셋을 이용해 LightGBM으로 예측해보자.\n",
        "- LightGBM의 파이썬 패키지에서 `lightgbm`에서 `LGBMClassifier`를 import해 사용한다.\n",
        "- LightGBM도 `fit()` 함수에 조기 중단 관련 파라미터를 설정하면, 조기 중단 기능(early stopping) 기능을 사용할 수 있다."
      ],
      "metadata": {
        "id": "cpz0GSPsmqYc"
      }
    },
    {
      "cell_type": "code",
      "source": [
        "# LightGBM 버전 확인\n",
        "import lightgbm\n",
        "print(lightgbm.__version__)"
      ],
      "metadata": {
        "colab": {
          "base_uri": "https://localhost:8080/"
        },
        "id": "vA2CjdZv5i6h",
        "outputId": "628969cc-3cd9-4eac-a012-db8a26fabd08"
      },
      "execution_count": 21,
      "outputs": [
        {
          "output_type": "stream",
          "name": "stdout",
          "text": [
            "2.2.3\n"
          ]
        }
      ]
    },
    {
      "cell_type": "code",
      "source": [
        "# LightGBM의 파이썬 패키지인 lightgbm에서 LGBMClassifier Import\n",
        "from lightgbm import LGBMClassifier\n",
        "\n",
        "# import package\n",
        "import pandas as pd\n",
        "import numpy as np\n",
        "from sklearn.datasets import load_breast_cancer\n",
        "from sklearn.model_selection import train_test_split\n",
        "\n",
        "# load data\n",
        "dataset = load_breast_cancer()\n",
        "ftr = dataset.data\n",
        "target = dataset.target\n",
        "\n",
        "# 전체 데이터 중 80%는 학습용 데이터, 20%는 테스트용 데이터 추출\n",
        "X_train, X_test, y_train, y_test=train_test_split(ftr, target, test_size = 0.2, random_state = 156 )\n",
        "\n",
        "# 앞서 XGBoost와 동일하게 n_estimators는 400으로 설정\n",
        "lgbm_wrapper = LGBMClassifier(n_estimators = 400)\n",
        "\n",
        "# LightGBM도 XGBoost와 동일하게 조기 중단 수행 가능 \n",
        "evals = [(X_test, y_test)]\n",
        "lgbm_wrapper.fit(X_train, y_train, early_stopping_rounds = 100, eval_metric = \"logloss\", eval_set = evals, verbose = True)\n",
        "preds = lgbm_wrapper.predict(X_test)\n",
        "pred_proba = lgbm_wrapper.predict_proba(X_test)[:, 1]"
      ],
      "metadata": {
        "colab": {
          "base_uri": "https://localhost:8080/"
        },
        "id": "cw_tc8HW5nFY",
        "outputId": "f00ea271-b812-418c-e454-2bb82e1fc17f"
      },
      "execution_count": 22,
      "outputs": [
        {
          "output_type": "stream",
          "name": "stdout",
          "text": [
            "[1]\tvalid_0's binary_logloss: 0.565079\tvalid_0's binary_logloss: 0.565079\n",
            "Training until validation scores don't improve for 100 rounds.\n",
            "[2]\tvalid_0's binary_logloss: 0.507451\tvalid_0's binary_logloss: 0.507451\n",
            "[3]\tvalid_0's binary_logloss: 0.458489\tvalid_0's binary_logloss: 0.458489\n",
            "[4]\tvalid_0's binary_logloss: 0.417481\tvalid_0's binary_logloss: 0.417481\n",
            "[5]\tvalid_0's binary_logloss: 0.385507\tvalid_0's binary_logloss: 0.385507\n",
            "[6]\tvalid_0's binary_logloss: 0.355846\tvalid_0's binary_logloss: 0.355846\n",
            "[7]\tvalid_0's binary_logloss: 0.330897\tvalid_0's binary_logloss: 0.330897\n",
            "[8]\tvalid_0's binary_logloss: 0.306923\tvalid_0's binary_logloss: 0.306923\n",
            "[9]\tvalid_0's binary_logloss: 0.28776\tvalid_0's binary_logloss: 0.28776\n",
            "[10]\tvalid_0's binary_logloss: 0.26917\tvalid_0's binary_logloss: 0.26917\n",
            "[11]\tvalid_0's binary_logloss: 0.250954\tvalid_0's binary_logloss: 0.250954\n",
            "[12]\tvalid_0's binary_logloss: 0.23847\tvalid_0's binary_logloss: 0.23847\n",
            "[13]\tvalid_0's binary_logloss: 0.225865\tvalid_0's binary_logloss: 0.225865\n",
            "[14]\tvalid_0's binary_logloss: 0.215076\tvalid_0's binary_logloss: 0.215076\n",
            "[15]\tvalid_0's binary_logloss: 0.205996\tvalid_0's binary_logloss: 0.205996\n",
            "[16]\tvalid_0's binary_logloss: 0.196091\tvalid_0's binary_logloss: 0.196091\n",
            "[17]\tvalid_0's binary_logloss: 0.186395\tvalid_0's binary_logloss: 0.186395\n",
            "[18]\tvalid_0's binary_logloss: 0.17942\tvalid_0's binary_logloss: 0.17942\n",
            "[19]\tvalid_0's binary_logloss: 0.174727\tvalid_0's binary_logloss: 0.174727\n",
            "[20]\tvalid_0's binary_logloss: 0.168563\tvalid_0's binary_logloss: 0.168563\n",
            "[21]\tvalid_0's binary_logloss: 0.165432\tvalid_0's binary_logloss: 0.165432\n",
            "[22]\tvalid_0's binary_logloss: 0.160356\tvalid_0's binary_logloss: 0.160356\n",
            "[23]\tvalid_0's binary_logloss: 0.155508\tvalid_0's binary_logloss: 0.155508\n",
            "[24]\tvalid_0's binary_logloss: 0.151598\tvalid_0's binary_logloss: 0.151598\n",
            "[25]\tvalid_0's binary_logloss: 0.149861\tvalid_0's binary_logloss: 0.149861\n",
            "[26]\tvalid_0's binary_logloss: 0.149873\tvalid_0's binary_logloss: 0.149873\n",
            "[27]\tvalid_0's binary_logloss: 0.147032\tvalid_0's binary_logloss: 0.147032\n",
            "[28]\tvalid_0's binary_logloss: 0.145077\tvalid_0's binary_logloss: 0.145077\n",
            "[29]\tvalid_0's binary_logloss: 0.139891\tvalid_0's binary_logloss: 0.139891\n",
            "[30]\tvalid_0's binary_logloss: 0.137416\tvalid_0's binary_logloss: 0.137416\n",
            "[31]\tvalid_0's binary_logloss: 0.138393\tvalid_0's binary_logloss: 0.138393\n",
            "[32]\tvalid_0's binary_logloss: 0.135948\tvalid_0's binary_logloss: 0.135948\n",
            "[33]\tvalid_0's binary_logloss: 0.132968\tvalid_0's binary_logloss: 0.132968\n",
            "[34]\tvalid_0's binary_logloss: 0.129697\tvalid_0's binary_logloss: 0.129697\n",
            "[35]\tvalid_0's binary_logloss: 0.131102\tvalid_0's binary_logloss: 0.131102\n",
            "[36]\tvalid_0's binary_logloss: 0.129382\tvalid_0's binary_logloss: 0.129382\n",
            "[37]\tvalid_0's binary_logloss: 0.128044\tvalid_0's binary_logloss: 0.128044\n",
            "[38]\tvalid_0's binary_logloss: 0.127325\tvalid_0's binary_logloss: 0.127325\n",
            "[39]\tvalid_0's binary_logloss: 0.128091\tvalid_0's binary_logloss: 0.128091\n",
            "[40]\tvalid_0's binary_logloss: 0.129045\tvalid_0's binary_logloss: 0.129045\n",
            "[41]\tvalid_0's binary_logloss: 0.127023\tvalid_0's binary_logloss: 0.127023\n",
            "[42]\tvalid_0's binary_logloss: 0.129314\tvalid_0's binary_logloss: 0.129314\n",
            "[43]\tvalid_0's binary_logloss: 0.129175\tvalid_0's binary_logloss: 0.129175\n",
            "[44]\tvalid_0's binary_logloss: 0.128212\tvalid_0's binary_logloss: 0.128212\n",
            "[45]\tvalid_0's binary_logloss: 0.126664\tvalid_0's binary_logloss: 0.126664\n",
            "[46]\tvalid_0's binary_logloss: 0.127662\tvalid_0's binary_logloss: 0.127662\n",
            "[47]\tvalid_0's binary_logloss: 0.126108\tvalid_0's binary_logloss: 0.126108\n",
            "[48]\tvalid_0's binary_logloss: 0.129371\tvalid_0's binary_logloss: 0.129371\n",
            "[49]\tvalid_0's binary_logloss: 0.129573\tvalid_0's binary_logloss: 0.129573\n",
            "[50]\tvalid_0's binary_logloss: 0.130876\tvalid_0's binary_logloss: 0.130876\n",
            "[51]\tvalid_0's binary_logloss: 0.131366\tvalid_0's binary_logloss: 0.131366\n",
            "[52]\tvalid_0's binary_logloss: 0.131336\tvalid_0's binary_logloss: 0.131336\n",
            "[53]\tvalid_0's binary_logloss: 0.13208\tvalid_0's binary_logloss: 0.13208\n",
            "[54]\tvalid_0's binary_logloss: 0.13306\tvalid_0's binary_logloss: 0.13306\n",
            "[55]\tvalid_0's binary_logloss: 0.132342\tvalid_0's binary_logloss: 0.132342\n",
            "[56]\tvalid_0's binary_logloss: 0.134836\tvalid_0's binary_logloss: 0.134836\n",
            "[57]\tvalid_0's binary_logloss: 0.135208\tvalid_0's binary_logloss: 0.135208\n",
            "[58]\tvalid_0's binary_logloss: 0.13328\tvalid_0's binary_logloss: 0.13328\n",
            "[59]\tvalid_0's binary_logloss: 0.134147\tvalid_0's binary_logloss: 0.134147\n",
            "[60]\tvalid_0's binary_logloss: 0.134549\tvalid_0's binary_logloss: 0.134549\n",
            "[61]\tvalid_0's binary_logloss: 0.133202\tvalid_0's binary_logloss: 0.133202\n",
            "[62]\tvalid_0's binary_logloss: 0.135726\tvalid_0's binary_logloss: 0.135726\n",
            "[63]\tvalid_0's binary_logloss: 0.134011\tvalid_0's binary_logloss: 0.134011\n",
            "[64]\tvalid_0's binary_logloss: 0.131493\tvalid_0's binary_logloss: 0.131493\n",
            "[65]\tvalid_0's binary_logloss: 0.134114\tvalid_0's binary_logloss: 0.134114\n",
            "[66]\tvalid_0's binary_logloss: 0.134525\tvalid_0's binary_logloss: 0.134525\n",
            "[67]\tvalid_0's binary_logloss: 0.131412\tvalid_0's binary_logloss: 0.131412\n",
            "[68]\tvalid_0's binary_logloss: 0.12878\tvalid_0's binary_logloss: 0.12878\n",
            "[69]\tvalid_0's binary_logloss: 0.129571\tvalid_0's binary_logloss: 0.129571\n",
            "[70]\tvalid_0's binary_logloss: 0.129671\tvalid_0's binary_logloss: 0.129671\n",
            "[71]\tvalid_0's binary_logloss: 0.129935\tvalid_0's binary_logloss: 0.129935\n",
            "[72]\tvalid_0's binary_logloss: 0.128951\tvalid_0's binary_logloss: 0.128951\n",
            "[73]\tvalid_0's binary_logloss: 0.128977\tvalid_0's binary_logloss: 0.128977\n",
            "[74]\tvalid_0's binary_logloss: 0.127121\tvalid_0's binary_logloss: 0.127121\n",
            "[75]\tvalid_0's binary_logloss: 0.128107\tvalid_0's binary_logloss: 0.128107\n",
            "[76]\tvalid_0's binary_logloss: 0.129796\tvalid_0's binary_logloss: 0.129796\n",
            "[77]\tvalid_0's binary_logloss: 0.131663\tvalid_0's binary_logloss: 0.131663\n",
            "[78]\tvalid_0's binary_logloss: 0.132483\tvalid_0's binary_logloss: 0.132483\n",
            "[79]\tvalid_0's binary_logloss: 0.131578\tvalid_0's binary_logloss: 0.131578\n",
            "[80]\tvalid_0's binary_logloss: 0.130352\tvalid_0's binary_logloss: 0.130352\n",
            "[81]\tvalid_0's binary_logloss: 0.129895\tvalid_0's binary_logloss: 0.129895\n",
            "[82]\tvalid_0's binary_logloss: 0.131587\tvalid_0's binary_logloss: 0.131587\n",
            "[83]\tvalid_0's binary_logloss: 0.132763\tvalid_0's binary_logloss: 0.132763\n",
            "[84]\tvalid_0's binary_logloss: 0.133677\tvalid_0's binary_logloss: 0.133677\n",
            "[85]\tvalid_0's binary_logloss: 0.137552\tvalid_0's binary_logloss: 0.137552\n",
            "[86]\tvalid_0's binary_logloss: 0.136055\tvalid_0's binary_logloss: 0.136055\n",
            "[87]\tvalid_0's binary_logloss: 0.137904\tvalid_0's binary_logloss: 0.137904\n",
            "[88]\tvalid_0's binary_logloss: 0.139524\tvalid_0's binary_logloss: 0.139524\n",
            "[89]\tvalid_0's binary_logloss: 0.138434\tvalid_0's binary_logloss: 0.138434\n",
            "[90]\tvalid_0's binary_logloss: 0.138402\tvalid_0's binary_logloss: 0.138402\n",
            "[91]\tvalid_0's binary_logloss: 0.139384\tvalid_0's binary_logloss: 0.139384\n",
            "[92]\tvalid_0's binary_logloss: 0.139642\tvalid_0's binary_logloss: 0.139642\n",
            "[93]\tvalid_0's binary_logloss: 0.138006\tvalid_0's binary_logloss: 0.138006\n",
            "[94]\tvalid_0's binary_logloss: 0.141612\tvalid_0's binary_logloss: 0.141612\n",
            "[95]\tvalid_0's binary_logloss: 0.142319\tvalid_0's binary_logloss: 0.142319\n",
            "[96]\tvalid_0's binary_logloss: 0.145095\tvalid_0's binary_logloss: 0.145095\n",
            "[97]\tvalid_0's binary_logloss: 0.141542\tvalid_0's binary_logloss: 0.141542\n",
            "[98]\tvalid_0's binary_logloss: 0.144993\tvalid_0's binary_logloss: 0.144993\n",
            "[99]\tvalid_0's binary_logloss: 0.147936\tvalid_0's binary_logloss: 0.147936\n",
            "[100]\tvalid_0's binary_logloss: 0.147432\tvalid_0's binary_logloss: 0.147432\n",
            "[101]\tvalid_0's binary_logloss: 0.149689\tvalid_0's binary_logloss: 0.149689\n",
            "[102]\tvalid_0's binary_logloss: 0.153542\tvalid_0's binary_logloss: 0.153542\n",
            "[103]\tvalid_0's binary_logloss: 0.154556\tvalid_0's binary_logloss: 0.154556\n",
            "[104]\tvalid_0's binary_logloss: 0.155458\tvalid_0's binary_logloss: 0.155458\n",
            "[105]\tvalid_0's binary_logloss: 0.159357\tvalid_0's binary_logloss: 0.159357\n",
            "[106]\tvalid_0's binary_logloss: 0.160176\tvalid_0's binary_logloss: 0.160176\n",
            "[107]\tvalid_0's binary_logloss: 0.163369\tvalid_0's binary_logloss: 0.163369\n",
            "[108]\tvalid_0's binary_logloss: 0.163494\tvalid_0's binary_logloss: 0.163494\n",
            "[109]\tvalid_0's binary_logloss: 0.161111\tvalid_0's binary_logloss: 0.161111\n",
            "[110]\tvalid_0's binary_logloss: 0.16332\tvalid_0's binary_logloss: 0.16332\n",
            "[111]\tvalid_0's binary_logloss: 0.1663\tvalid_0's binary_logloss: 0.1663\n",
            "[112]\tvalid_0's binary_logloss: 0.166363\tvalid_0's binary_logloss: 0.166363\n",
            "[113]\tvalid_0's binary_logloss: 0.169834\tvalid_0's binary_logloss: 0.169834\n",
            "[114]\tvalid_0's binary_logloss: 0.166509\tvalid_0's binary_logloss: 0.166509\n",
            "[115]\tvalid_0's binary_logloss: 0.165823\tvalid_0's binary_logloss: 0.165823\n",
            "[116]\tvalid_0's binary_logloss: 0.167059\tvalid_0's binary_logloss: 0.167059\n",
            "[117]\tvalid_0's binary_logloss: 0.169086\tvalid_0's binary_logloss: 0.169086\n",
            "[118]\tvalid_0's binary_logloss: 0.170012\tvalid_0's binary_logloss: 0.170012\n",
            "[119]\tvalid_0's binary_logloss: 0.168639\tvalid_0's binary_logloss: 0.168639\n",
            "[120]\tvalid_0's binary_logloss: 0.16907\tvalid_0's binary_logloss: 0.16907\n",
            "[121]\tvalid_0's binary_logloss: 0.16918\tvalid_0's binary_logloss: 0.16918\n",
            "[122]\tvalid_0's binary_logloss: 0.170233\tvalid_0's binary_logloss: 0.170233\n",
            "[123]\tvalid_0's binary_logloss: 0.165655\tvalid_0's binary_logloss: 0.165655\n",
            "[124]\tvalid_0's binary_logloss: 0.16695\tvalid_0's binary_logloss: 0.16695\n",
            "[125]\tvalid_0's binary_logloss: 0.170955\tvalid_0's binary_logloss: 0.170955\n",
            "[126]\tvalid_0's binary_logloss: 0.168916\tvalid_0's binary_logloss: 0.168916\n",
            "[127]\tvalid_0's binary_logloss: 0.172316\tvalid_0's binary_logloss: 0.172316\n",
            "[128]\tvalid_0's binary_logloss: 0.173734\tvalid_0's binary_logloss: 0.173734\n",
            "[129]\tvalid_0's binary_logloss: 0.174309\tvalid_0's binary_logloss: 0.174309\n",
            "[130]\tvalid_0's binary_logloss: 0.176719\tvalid_0's binary_logloss: 0.176719\n",
            "[131]\tvalid_0's binary_logloss: 0.176591\tvalid_0's binary_logloss: 0.176591\n",
            "[132]\tvalid_0's binary_logloss: 0.180168\tvalid_0's binary_logloss: 0.180168\n",
            "[133]\tvalid_0's binary_logloss: 0.179856\tvalid_0's binary_logloss: 0.179856\n",
            "[134]\tvalid_0's binary_logloss: 0.179251\tvalid_0's binary_logloss: 0.179251\n",
            "[135]\tvalid_0's binary_logloss: 0.18315\tvalid_0's binary_logloss: 0.18315\n",
            "[136]\tvalid_0's binary_logloss: 0.184656\tvalid_0's binary_logloss: 0.184656\n",
            "[137]\tvalid_0's binary_logloss: 0.187475\tvalid_0's binary_logloss: 0.187475\n",
            "[138]\tvalid_0's binary_logloss: 0.188721\tvalid_0's binary_logloss: 0.188721\n",
            "[139]\tvalid_0's binary_logloss: 0.188542\tvalid_0's binary_logloss: 0.188542\n",
            "[140]\tvalid_0's binary_logloss: 0.18817\tvalid_0's binary_logloss: 0.18817\n",
            "[141]\tvalid_0's binary_logloss: 0.185899\tvalid_0's binary_logloss: 0.185899\n",
            "[142]\tvalid_0's binary_logloss: 0.185452\tvalid_0's binary_logloss: 0.185452\n",
            "[143]\tvalid_0's binary_logloss: 0.186084\tvalid_0's binary_logloss: 0.186084\n",
            "[144]\tvalid_0's binary_logloss: 0.185302\tvalid_0's binary_logloss: 0.185302\n",
            "[145]\tvalid_0's binary_logloss: 0.187856\tvalid_0's binary_logloss: 0.187856\n",
            "[146]\tvalid_0's binary_logloss: 0.190334\tvalid_0's binary_logloss: 0.190334\n",
            "[147]\tvalid_0's binary_logloss: 0.192769\tvalid_0's binary_logloss: 0.192769\n",
            "Early stopping, best iteration is:\n",
            "[47]\tvalid_0's binary_logloss: 0.126108\tvalid_0's binary_logloss: 0.126108\n"
          ]
        }
      ]
    },
    {
      "cell_type": "code",
      "source": [
        "get_clf_eval(y_test, preds, pred_proba)"
      ],
      "metadata": {
        "colab": {
          "base_uri": "https://localhost:8080/"
        },
        "id": "DEeVH5xH55mX",
        "outputId": "813c8a5c-a9d4-4e10-be5c-c35ddb2bf039"
      },
      "execution_count": 23,
      "outputs": [
        {
          "output_type": "stream",
          "name": "stdout",
          "text": [
            "오차 행렬\n",
            "[[33  4]\n",
            " [ 2 75]]\n",
            "정확도: 0.9474, 정밀도: 0.9494, 재현율: 0.9740,    F1: 0.9615, AUC:0.9926\n"
          ]
        }
      ]
    },
    {
      "cell_type": "markdown",
      "source": [
        "- 정확도가 약 94.74%로 앞 예제의 XGBoost의 정확도(약 96.49%)보다는 작다. 다만 본 예제의 경우, 학습 데이터셋과 테스트 데이터셋의 크기가 작아 알고리즘 간 성능 비교는 큰 의미가 없다.\n",
        "- LightGBM 파이썬 패키지인 `lightgbm`은 XGBoost 파이썬 패키지인 `xgboost`와 동일하게 Feature의 중요도를 시각화할 수 있는 내장 API로 `plot_importance()`를 제공한다."
      ],
      "metadata": {
        "id": "dQ-wLmR_59Qn"
      }
    },
    {
      "cell_type": "code",
      "source": [
        "# plot_importance( )를 이용하여 feature 중요도 시각화\n",
        "from lightgbm import plot_importance\n",
        "import matplotlib.pyplot as plt\n",
        "%matplotlib inline\n",
        "\n",
        "fig, ax = plt.subplots(figsize = (10, 12))\n",
        "plot_importance(lgbm_wrapper, ax = ax)"
      ],
      "metadata": {
        "colab": {
          "base_uri": "https://localhost:8080/",
          "height": 748
        },
        "id": "t8BKcEat6ZyZ",
        "outputId": "9b1c333d-b056-4385-de41-184b2a578981"
      },
      "execution_count": 24,
      "outputs": [
        {
          "output_type": "execute_result",
          "data": {
            "text/plain": [
              "<matplotlib.axes._subplots.AxesSubplot at 0x7fcb082de210>"
            ]
          },
          "metadata": {},
          "execution_count": 24
        },
        {
          "output_type": "display_data",
          "data": {
            "text/plain": [
              "<Figure size 720x864 with 1 Axes>"
            ],
            "image/png": "[encoded data removed]"
          },
          "metadata": {
            "needs_background": "light"
          }
        }
      ]
    },
    {
      "cell_type": "markdown",
      "source": [
        "## **10 스태킹 앙상블**\n",
        "____\n",
        "- 스태킹(Stacking)은 개별적인 여러 알고리즘을 서로 결합해 예측 결과를 도출한다는 점에서 앞서 소개한 Bagging, Boosting과 비슷하다. 다만 개별 알고리즘으로 예측한 데이터를 기반으로 다시 예측을 수행한다는 점에서 차이가 있다.\n",
        "- 즉, Stacking은 개별 알고리즘의 예측 결과 데이터셋을 최종적인 메타 데이터셋으로 만들어 별도의 ML 알고리즘으로 최종 학습을 수행하고 테스트 데이터를 기반으로 다시 최종 예측을 수행하는 방식이다.(이런 방식을 메타 모델이라고 한다.)\n",
        "- 스태킹 모델은 두 종류의 모델이 필요하다. 첫 번째는 개별적인 기반 모델이고, 두 번째는 이 개별 기반 모델의 예측 데이터를 학습 데이터로 만들어 학습하는 최종 메타 모델이다.\n",
        "- 스태킹 모델의 핵심은 여러 개별 모델의 예측 데이터를 각각 스태킹 형태로 결합해 최종 메타 모델의 학습용 Feature 데이터셋과 테스트용 Feature 데이터셋을 만드는 것이다.\n",
        "- 스태킹을 적용할 때는 많은 개별 모델이 필요하다. 2~3개의 개별 모델만으로는 쉽게 예측 성능을 향상시킬 수 없으며, 스태킹을 적용한다고 해서 반드시 성능이 향상되는 것도 아니다."
      ],
      "metadata": {
        "id": "bhvV5rZbnFKR"
      }
    },
    {
      "cell_type": "markdown",
      "source": [
        "![image.png](data:image/png;base64,iVBORw0KGgoAAAANSUhEUgAAA78AAALdCAYAAADkq9R/AAAAAXNSR0IArs4c6QAAAARnQU1BAACxjwv8YQUAAAAJcEhZcwAADsMAAA7DAcdvqGQAAHbLSURBVHhe7d0HfF5XfT/+I09Jllc8E2fvRabDSCDQUkbpD8oqEDa0f14UKKPQAWEEyiq0pSuUF2W0rLACBVpmmQ0JgQwSErJ3nHhPWfL2/37vc698JT+SJVuy9Vy/3+Ryzh3PkPzoPOdzzx1tOzMJAAAAamxCUQIAAEBtCb8AAADUnvALAABA7Qm/AAAA1J7wCwAAQO0JvwAAANSe8AsAAEDtCb8AAADUnvALAABA7Qm/AAAA1J7wCwAAQO0JvwAAANSe8AsAAEDtCb8AAADUnvALAABA7Qm/AAAA1J7wCwAAQO0JvwAAANSe8AsAAEDtCb8AAADUnvALAABA7Qm/AAAA1J7wCwAAQO0JvwAAANSe8AsAAEDtCb8AAADUnvALAABA7Qm/AAAA1J7wCwAAQO0JvwAAANSe8AsAAEDtCb8AAADUnvALAABA7Qm/AAAA1J7wCwAAQO0JvwAAANSe8AsAAEDtCb8AAADUnvALAABA7Qm/AAAA1J7wCwAAQO0JvwAAANSe8AsAAEDtCb8AAADUnvALAABA7Qm/AAAA1J7wCwAAQO0JvwAAANSe8AsAAEDtCb8AAADUnvALAABA7Qm/AAAA1J7wCwAAQO0JvwAAANSe8AsAAEDtte3MFHUAWtjmzZvT1q1b82nbtm27lfuybE/bb96yKW3dtjXt2LE9bd++I5u2Z/Ud+bQ9W7+9rMfyWJ/Vt27blG/bmN+1fEe2TaOMxzSeL8pt22J5bBfPvbN4jUZ9Z0w7d6T4Qsu/1uK/rMzns+cK5dddbB/y7SvLYj7kz5XXGo/Nn6PvORvzjXpsl/2veL62CW0p/19bWzaT/5fVJzTq2bJ8fkJjn3OjHv8f6yakCX31eHxjm+qyvMwemz+ufP7yObPt47li+wkTJqaJEyc26lk5KZsa81HG62T1rJyYPVesb5QxXyzPpsmTplbm47GN7SdOmpTX8/n8eRvPN3nS5DR1SnualK2PafLkyf3KZsuGWjfcZVHGNHXq1Pz3AwB7IvwCjNCmTZvyoBllOQ02v2XLlnyK+cHqPZs25mWEySg3b4nH9hbbbG2UsTx/XITbLdm0LVvWeI6tWxpBNA8FU7KgEMFkUmOalE+TsvqEvGyb2JaVRXgptsm3y+bbJmaBK1vfWNbYPq9HCMrmd7Rtr8w3tmk8T2M+AlcjhEUoapTxev3my/XF8t22j7LymAh85bpY3m++XB/LiyCYVeK/RlmZz+fiv3xlURbz+ZJiu0Z1sHVFWczna+O/xspdATn+F9+sEY7zb9jKfHW7xso9rCvm43+xqNguLyvzsd2O7Vk9dhpkYbyx46GYz5b3my/X59vvWhdl33zxmN3WV55r1/qdaXvsmNjW2LmRlzEfOzOycsLOicW6xnzsLCm3yd/D9pS25Y+rTNn8tmybeL1y+8aOll3b5PNbt/d99idnn/0pU6akKVOnZPMRjrP6lMnZ/NQ8IOfrYj4r29s7ssDeWF4G6I72ztQ+tb3YbkrlMf3r7e3t+XyU5TTYPADji/ALtLwImT09PcOaent78+2j3NjTnbo3dufzMW3s2Zgt70mbemN9NmUBNOqbNzWCZ6PcknWyo7OcdYSnRsd6VzlpysSscxz1rCOeTXmAnJxNWac874xnZZq4s1iehdRs+1g+aXIWPgeUsW3T5VFmj2u2vJHU4CCT9WJiZ1AE4W3Vcsv25ssjMG8ZZHmU2ePK+bYdE4qdS7E8myJ4b92Ztm7emrYUU2yX74jqWxY7tWKn1Na8nZja3gjZUbZ3tGchuyN1ZGVe7+hM0zqn9YXmrmld2XxXtrwjn4+ys7NzWJOwDbBnwi+wX8QozYYNG1J3dxY4i6k6v3Hjxr4p5tdtWNs3v6F7XerZmIXVYr6np1GPMNrbsykPnFM7YqQlOpdT05T2bL59SmrvnJqF0EnFfATSSWnilAmNsNqehdE8tFambJsyuDaWNR6bz0eAzV4nnqMc6QMYTHSvtm7OgnN+9EZWRjDeFOE4jtrYuitA58t2TY3tGtts37Ijf47N2Tabe7fkwXxTT+yIy8J2tmxTbxwl0tgxF9t3dLbnIXvatGlZIM6C87TOPFB3TuvIyumpq2t6vm7m9FlZPQvaWb2cYn769Nimq98Uy+IoEIA6EH6BQcVo57p169L69evzKcJqs3Ld+nVp7bo1+fy6dWuzsJoF2g2NUNuzsSdt7N6YH9YYHbDokHVMyzpoHVP6yvbOydnUngXTlM/ny/JyapraWdary4t1EVazkBuHvwIczOLw8y1ZKG4E5SwQZ2F5UzZF2VfviXoWmCvLt29JWaDelE2NgN27cVNfGTsaY8djnBbR2dVZhORsygLx9CwYz5w5Kw/Hs2bOTjNnzEwzZszI55uVMc2cOTMfBQc4UIRfqLEIo2vXrk1r1qzZrYxQG9OqNSvzALt6zaq0YX2E1yzUZmVMcY5e14xpaVpXFlizqTMLqx1dEVgnZR2hjjQlK6dmwTVCbEfX1EY5rVHGqGt7BNe8nJqPpALQemJUOUacG1MWpLMywnHvxqLsbpSbswC9pXdb6unuzQL0tmx5FqDz9b2pe0NP2phNcdpHBOLpMyI8z8zK6emQWXPSjJkz8nLWrFn58tmzZ+f1gWU8FmBvCb8wzsXhwqtXr95tWrVqVV6uWLUiq6/MpzVZsF27Zm1at3ZdWr9uQ37o7/SZXXmA7ZzeXpRTsykLrp2xJ789D7GxrlFvzHcU8/F4ABgtcch2TxaKezdkwTgLxVHPp8r8lp7t2XxW37A5da/fmK+LcsO67vzxM2ZOTzNnzUyzZs9Ks7KgPHfuvDTnkEPSvLkL0iFZOWfOnLwcODl8GxB+YT+LUdfly5enFStWpJUrV/ZNK1auSMtXLMvXRbBdmc2vXr02bdywMc2cPSPNmDU9C68dafqsrtQ5Y2qaltU7pk9JXTM7+6ZpM7IpC7axLsq4Ai8A1EVc6XtjFow3rs+mvOxJ3et2TRGYe9ZvShvXbcrC8sZ8u3Vr1qf1azdk34vTshA8qxGW50ZYnp8WzF+Ql3Pnzu2b5s2bl+bPn5+PNgP1IvzCKIjAunTp0n7TsuVZuSymh7P1WdBdvjKtWrk6H02dPWdmmjlnehZkp6WuWZ2pY8aULNxOy+enzy7Kot6VBVoAYN90Z0F5w5qNacPaYirq67Opd/2W1L02W5/V163ekNasXJePMs+Zd0iaO29uFobnpYULDs2mhVlgXpgWLuw/RVgGxj/hF4YQofahhx5KS5Ys6ZseePD+9PDSh9LDD2cBd+mytCILtTEqe8jcWWnW3OlZqO1KXYd05MF15iFdaUY2NcpsXVbmt7sBAMa1uM1VBOH1q7uzsruvjNDcvbo3rVvVndau3JBWr1ybjyzPmz83LVi4IB166MJ06MLD0hGHH5kWLVrUNx122GFCMhxgwi8HrTj8+P777+833XPfPVl5Xx54lz28PD//dd6COWn2/Bn5NGPOtKzsykLujDRrzvRGmQVehxcDwMErDseOILx25fq0dlWjXLM8C86retLarFy1fG1auWx1fl7zgkPn50H4iCOOSMcefVw68sgj+00Ot4axI/xSWz09Penuu+9O99xzT17edfdd6c67bs/q96QlDy7JPv1tacFhc9O8Qw9JhyyYkWbOn5bmHjorzVkwOx0yf2Y2zcjv7woAMBriPs6rl6/PpnVp1dI1aeXStWnd8o1p9bL1aeXDq9Oyh1bm94hedPiidOyxx6Tjjj0hHX/c8Vn92HTMMcfkZWen06Fgbwm/tLS4EvIdd9yRbr/99ny69bZbs+mWdOcdd+ZXPD7syIVpweFz05xDZ6Y5h81I8xcdkuYfPifNXTg7vygUAMB4EhfpWpkF4+VLVqXlD65Oqx7KgvFDa/P5h+5fml/p+vgTjk8nn3RKNp2cTjzxxHw64YQTXNEa9kD4pWXccsst6eabb0433XRTuuE316ebb7o53XH7XenIYw9Phx01P80/cnaaf8TsdOhR8/JpzoJZxSMBAOph1bK16eH7VuTT8geykHz/mvTQvcvS/fcsSSeceFw67fTT0pmPODudfvrp6bTTTkunnHJK8UhA+GVcuv7669N1112Xrr32mvTLa65ON/76prTw8HnpiOMOTYceOzctOnZ+OuL4henw4xakCRMmFI8CADg47dixIz1417L0wJ1L05K7l6eH716ZHrjr4bT0wRXpjLNPT4vPfWQ679zz0jnnnJPOPvvs4lFwcBF+OeA2btyYfv7zn6crrrgi/fT/fpx+cdUv06IjF6ZjTl2UjjhxQTrmlEXZdHhq75xaPAIAgOHY1LM53XPLg9m0JN1/29K8fOj+ZenRj3lkuvBxT0iPe+zj0gUXXJCmTZtWPALqS/jlgIhDl7/73e+mb/3PN9IVP7syPWLxyem4MxalE846Kp101jFp2nTn4wIAjIWeDb3p1l/fk+749f3pzhsfTDddc2t67IXnp6f/wTPSU5/6+/kh01BHwi/7TdxK6Atf+EL6z8/+R9rQvT6dcf6J6RGPOT6decHJadJktwoCADgQtm3dnn7981vTb666I/3myjvS9K7p6WUveXl64QtflN9+CepC+GXM3Xrrrel9739v+trXvp4u/IPF6dFPPSOdcu6xxVoAAMaTW669O/3iuzemn337mvTsZz0rXfy2t6eTTz65WAutS/hlTH3wgx9I737Pe9IzX/nE9AcvvTBNaXffXACAVrBl09b035/5afrmp3+U3v72d6S3vfVtxRpoTcIvY+bit1+c/ut/vppe+8Hnp7mHzi6WAgDQSlY+vCb9619/MT3rD56b3vfe9xdLofUIv4yZRYcflt74jy9KR514WLEEAIBWdN/tD6V3vfRfU09Pb7EEWo8bpDJmHlrycPrVj35TzAEA0KqiT9fbu6mYg9Zk5Jcx09bWliZPnZwu/H/nple983nFUgAAWsnH3/OV9LP/viZt3bw1iQ60MiO/jKl3feI1aen9K9PFL/6ndPUPbiiWAgAw3kXfLfpwS+9fkffpoNUZ+WXMxMjvl274h7z+i+/fkH7w1SvTg3cuTRc87Zz0qN87M5101tH5OgAAxofbfn1vuvp/b0g///Z16fDjF6YnPff89Ognn5mve/6Zf27kl5Ym/DJmquG3tOSeZemKrDG97qc3p7WrNqQzzz85nXXByenkc45Nh8yfWWwFAMD+sHr5unTrdXenX//81nTDlbemWXOmp3Mef1p67NPOSYuOWVBs1SD80uqEX8ZMs/BbtezBVemGrKG98arb0q3X35Omz5qWjwafdNYx6bjTj0xHnnBosSUAAKPh/jseTnfddH+67df35KO8G9ZuTCeffUw64zEnpTMvODktOHxOseXuhF9anfDLmNlT+B0oLqGfN8RZEL77tw+mlUvXpGNPOTwdU0wRhg8/bmGaPGVS8QgAAJrZumVbevCupXnYveeWB/Pp7myau3B2OvbUw9NJWeCNAYeR3JJS+KXVCb+MmZGG34F6ujf1NdYxPXDn0vRA1ogvPHJuOiILwTFFGD70qHn5NLVjSvFIAICDw+beLenh+1bkU4Td6CvFFBcczftLxy/sG0iIqbOrvXjkyAm/tDrhlzGzr+G3mfi0lg17lA/evSwtLRr86bOn9QXhw7Jp/uFz0vxFMR2S2junFs8AANBaNvVsTsuXrM6mVWn5g6v6wu5D2bRhzca0MPo/R85Lhx+3IB8YKAcIsq7YqBJ+aXXCL2NmLMLvUFZkXwoP39/4MogpzinOvyiysnN6e18QjnLuobMb08JZeWnUGAA4UGL0duXDa9LKpWsbZTblQbcIvD0bNhU79Q/Jz8ktd/YvzAJvLNtfhF9anfDLmNnf4XcocSXDxt7SxpdI+eWyKsqla/LwG+fARBiek01x5enZ2RRlORk9BgBGKkZtox9STmuKstEHafRDIvxGPyT6IOXO+Xyn/eGNnfbj5Y4Ywi+tTvhlzIyn8Lsn61ZtyL+AVmVfQKuW7f4FFdOkSRP7AvGsudPzWwHMmjujUY+ymJ82o6N4VgCgrjau701rV67Pb92YlyuLMp/f0NeP2LZte9+O9OqO9TkLsil2vB86K808ZHrxrOOb8EurE34ZM60Ufoeje11PWrMignB8wQ38ssumVY36ti3b0swsCM88pCvNKKZGPVs2uzqfTbOnpUmTXb0aAA60bVu3pfVrNqb1q7vTumzKyzVRbui/LKasDzBpyqRiZ3i5I7z/zvBD5s9Is+fNTF0zO4tXaH3CL61O+GXM1C38DteWTVvzYNz4ghz4hblrPqa4t96UqZPzi3XNmDUtv9dx1POyOp99cXbN6EzTosymqe3OUQaAwWzetCXfad03re/JLwwV37v5VKmvL+a3bN6af+/GDupyJ3WMyFZ3WpfzEXCntE8uXu3gIfzS6oRfxszBGn5HqmdDb78v374v5sp8+cVdfomHCMF9UxmMo5zekTpndORlHILdr5zemSZPNdIMwPi3dfO2tHFDTzb15ocYV8ueoiy/GzcO43tytx3MRb3c+dyZfU8yNOGXVif8MmaE37EzcI/2xvLLf0DnIJbnZbEsgnbbhLZGQI6pq72YGvWO6bvq+VTZpmNaTFPz8mDc2w3A8MVRUL0bN2XT5ryMe/c3pvguypaX9Siz+b51+Xzje2vnjp3599CuHbhRb+zkre7crQbcKKfNnJam+p4aE8IvrU74ZcwIv+NTXFEyOhVlByPKRiek2vHoX+/N6mUHJsrt27bvCsN5MG6E4vaijPm4OnZHNkW5a5rSb75cbzQa4MDaunlr2tSzJfX2bM6vTrxr2tJvvlxffidsqnw3xHdJuXzipIl93w2N74rY6VrsWM2nYudqtixfV12eLYtg6zaE44/wS6sTfhkzwm99RfjtC8OVzk613NVZ2tVx2tWp6t+Z2rFjZ2rPOjnR0SmnxvzUSr26vFw3OR+FjnOgBytj7//kqUYAgNYW4XTzppi25KOqg5a9MW3Od3RuyqYo+9ezdreyvFw3YUJbv52T5c7K/jsxd+3A7Bdso8yCa3VZhF/qR/il1Qm/jBnhl+GK20D064hlgbjaKetf37WuaUewWL4lmy+XxfOXgTguMJZP1XoxHyG5MT+p3/rG8klp8pSsPiUrB9SnRD1fVizvq0/K/w6Aeogu09Yt2xrT5ii39tW3RD1fViyv1LdEPQuvcUGlfIo2Kh6T1fPl+Xxlqs5n9WjL4nZ75U69KcWOvdgRuGvZrh1+5c7C2EnYfOdhI8SW9Zji+WFPhF9anfDLmBF+GS92bN/RF4j7dy6bdUgb067luzqo1Q5v/tgBndx8u3ybosym6FBOmpJNkydlU1lmwTjqWTjetWxitqyYryzPt4vlA56j2fJ4/MSsjBGXiRMnVMpqvVJmyydMbJTVbSdMmFD85mDs7NixI23flk3Z32ccTRL1HdsbZT5fLq+s323Z1u1p69ZtaVtWxm1qtm1plFvL+aGWZ3+fUfZ7fLF813aVdfEc2WuWO7Zip1iU+Q6yfD6Wl8uKerkjrNiRlu9Yi+375rMpC6tlvdzRVl1WBt0J2d8nHGjCL61O+GXMCL/QuG9k3sEuOtr9OtOxvOxUN1se8wMet6flEQZ2DwwDyn713bdN2bfCboE55sugnJUTBgTmfNnEtjw4x0XVoozDKPvms+36zZfbZI9pq2wbZT5fPFfffNPtG8vi+aK9yUfZ479itL2xLK81yiHX9Z+vbpc/bpDt8vmYzeRfptlXauNbtSiL+ez/8w3Kr9woG9X+25Xz1e0ajxtqXSzPph0780AZpxHEtDPq23cty+fLbbLl/eabbr+rHjuQ+j9/ZT57zK7PWOOztKP6GRvksxa/uL7P1GCftWq92bb5TqDKjqOyzALniJZHOWWQ5bF98biYh4OZ8EurE34ZM9FpFH6h9US4yQPMkAG6f5CJeh6IKuGpX0CKMtumaYAqHrPbusGeq8n2+VdZGQTjh4gyKgPm+63L5vKyb11jg/JrcdDnjC2jLOaLtXsMyH1BurFy13x1u3zVwMftqudlv3XZ/8d/WVndGVDuKOg3X66v7Fjotz7fsdBk3W47LnZ/rr6dIIOF2EpwjefLy+w5gNYi/NLqhF/GTHTGhF8AgHoQfml1TiABAACg9oRfAAAAak/4BQAAoPaEXwAAAGpP+AUAAKD2hF8AAABqT/gFAACg9oRfAAAAak/4BQAAoPaEXwAAAGpP+AUAAKD2hF8AAABqT/gFAACg9oRfAAAAak/4BQAAoPaEXwAAAGpP+AUAAKD2hF8AAABqT/gFAACg9oRfAAAAaq9tZ6aow6hqa2tLX7rhH4o5gAPrsUc/I82dtiht2bYprd+8Kl330E/S75/4stS7tTtt27kt3bL8l+mBtbcVW++bcxb9Tjpy1sn5a23cuj799O7LizWj44nHvyB1Tp6etu/Ylv8sV9z7zWINwNh5/pl/nkQHWpmRXwBaUueUGemIWScVc83Ny8JubBci7E6Z2J66ps5KM6bOST1b1qe1m1bk87Pa56b2SZ35dqPhuiU/7nutBV1HFkv7i/cV7284Bv6ct6+8PnVM7ur7WQCAPTPyy5gx8guMpQiP/+/kPy7mBnd9FnrvyMJieN4Zb8rL7s1r07dv+3Q+GnzYjOPyZdXtBorXOuewJ+QjxxFqQzzH0u5786DbzNNOekUeTsOXb/xIXladvuD8dOqCRxVzezbwOQb+LABjzcgvrc7ILwAtKUZuI/iNtRh1jcOjIySXwTdEsD1+zll5yC1Hl0fipmVXFjUAYH8w8suYMfILjLU9ja6GCKYRlMNIR37jsOQLj3l2mjhhUn5+7T1rbspHeuM5zzv8SX2HNDcbfR3Oexvu6G31ZygZ+QX2NyO/tDojvwDU2sDQOBLnHf7kPPiGXz74/b5DnOM54yJWD62/K5+PkBsXuRor+/IzAAANwi8ANBGHO5cjt6t6Hm56Jei4iFaMCIdFM47PSwBgfBJ+AaidOEx4uFdSHsxRlSss3z/ILZBiRDauGB3i6st7c+7vnkQIr161GgDYO8IvALUzbfL09DvHPS8/L7Y67a3BrgIdNm/rKWox+ts4f3ikYoR54Hstp0csOD8LwCfmV7auLgcARkb4BaB2VmxckrZs31TM7Z2JEyYXtQNvxcaHihoAsLeEXwBq6ft3fD6/ynJ1GontO7YWtZROmHt2Udvd1EmdRS2ltb3Li9rIxBWbB77XcvrJPZfn5xv/962f7LccABgZ4ReAWtrXKyTfVznP97AZxxa13c1qn5eXvVu78xHn0Vb+HK74DAD7RvgFgCZitDVGZEPczzcuPDVQ3Ce4vBXSkvV35iUAMD4JvwDUQvViUAOnp530imKrkfnNsiv7bmX0yMOf3Hcv37jy8uOPfU46rLjAVYTk8h7AYyXC91jeSxgA6k74BaBlbdy650OB48JXw9mumRj9/eWD388DcIzwHj/nrDxMx5WXYzQ4RPCN83L3xVBXey6nxxz5tLSw6+jiEQDASAm/ALSsn959eb+LQDWb/uvmf8u321sRgL9z+3+mh9bf1e8K0hF671z16/Tt2z691+fjxnnCwxWvvX7zqmIOABiptp2Zog6jqq2tLX3phn8o5gAOvBhBDRFcI7TGObvlocvXP/STIe/nO1JxqHWM6IYI4aNt4M8CMNaef+afJ9GBVmbkFwAAgNoTfgEAAKg94RcAAIDaE34BAACoPeEXAACA2hN+AThoxO2K4qrOv3rw+8WSxu2G1m5amdb2Li+WjJ64EvOqnoeLudEV9x4ey+cHgLpxqyPGjFsdAQDUh1sd0eqM/AIAAFB7wi8AAAC1J/wCAABQe8IvAAAAtSf8AgAAUHvCLwAAALUn/AIAAFB7wi8AAAC1J/wCAABQe8IvAAAAtSf8AgAAUHvCLwAAALUn/AIAAFB7wi8AAAC1J/wCAABQe8IvAAAAtSf8AgAAUHvCLwAAALUn/DJmDl20MN13+0PFHAAArSr6dNG3g1Ym/DJmXvHyV6RPv+8baeXDa4olAAC0mujLfeq9/5Ve/rKXF0ugNQm/jJn3vff96cXPe3l687M+lC7/+A/Slk1bizUAAIx30XeLPtybn/Xh9JLnvyK9/30fKNZAa2rbmSnqMCZuvfXW9Dfve3f6r69/Iz3uDxanxzz1zHTKuccWawEAGE9uufbudOV3rk9XfPu69Mxn/WF6x8XvSieffHKxFlqX8Mt+c//996fPf+Fz6TOf/c+0oXt9esT5J6ZHPOaEdNYFJ6dJkycWWwEAsD9t27o93fDzW9ONV96ebrzqjjR92vT0spe+PL3ohS9ORx55ZLEVtD7hlwPipptuSt/97nfSt/7nm+mKn12ZTl98UjrujEXpxLOOTieddUyaNr2j2BIAgNG0cUNvuu3X96Tbf31vuuvGJemma25LF1z4mPSMP/jD9NSn/n46/fTTiy2hXoRfDriNGzemn//85+n/rvhZ+un//ST98qpfpUOPnJ+OPvmwdFQ2HXPKomw6PLV3Ti0eAQDAcGzq2ZzuueXBbFqS7rv1oXRvNj18//L0yEeflx5/4RPS4x57YbrgggvStGnTikdAfQm/jEvXX399uu6669LVv7oqXXvdtek3N9ycFhw2Nx1+3MJ02LGN8ojjF2blgjRhguu2AQAHtx07dqQH71qWHrhzaVYuTQ/dvTIvlz20Mj3izNPSueecmx513mPSOeeck84+++ziUXBwEX5pGbfccku6+eab042/uSHdkE2//e1v05233ZWOOOawdOhR89OCI2dn05ysPi+f5iyYVTwSAKAeVi1bmx6+b0U+Lbt/VTatyerL0wP3PJSOP+m4dOqpp6YzH3FmOiObTjvttHTKKacUjwSEX1ratm3b0h133JFuv/32fPrtrTen226/Nd15x11p3dp16bAjFqb5h89Jcw6dkeYtmp3VD0nzF81JcxfOTtNmOK8YABhfNq7vTSuXrknLH1yVli9ZnVYsWZNWPbw+LXtwZXr4gWVp5qyZ6fgTjksnnnBSOu2U09OJJ56YTyeccEKaNGlS8SxAM8IvtdXT05PuvvvudM899+TlHXfdnu6864507z33piUPPpR9+lOaf9jcPAgfsmB6mr1gRlaflebE/PyZ2TQjTZ46uXg2AIB9s3Xz1rR6+fpsWpdWLVuTVj68Nq1eti6tWdbdCLwPrUwp65kftujQdMyxx6TjjzshnXDcienYY49NxxxzTF52dnYWzwaMlPDLQWvNmjX57ZfK6d777kn33Ht3euDBB9LDDy1NSx9elqZ1daY58yMcz0yz5nWlmXO78lA8a242zZneKOdOTxMnuVUTABystm/bntau3JBN69PaVY0yQu7aFRvSupUb84C7ctnq1LOxNy08dH469LBD0xGHH5GOOfrYdPRRx+S3Eyqn2bNnF88KjDbhF4awfPny9NBDD6UlS5bkUwTjB5c8kB56+MG0dOnytGzpsrRy+ao0fWYWiufNSrOzMDxzTlfqOqQjTZ89Lc08pCvNyKZd5fQ0eYpDkgBgvNu6ZVtat7o7rV+dBdi87M7LDWs2pu7VvVnI7c5C7rq0esW6tGFdd5o7f05asHBBWrhwfjrs0MOzcHtkOnzR4WnRokX5dNhhh6X58+cXzw4cCMIvjIIIyUuXLu03LVuelctiejhbvyILySvTqpWr09T2KWn2nJlZSJ6eps+alrpmdaaOGVPSjKwe8xGa87Kod81weBMA7Kvu9T15cN2wtpiK+vps6lm3OXWv7Und63qygLshrclC7eZNW9KceYekufPmpnnZdOjCw9LCBQvTgvkLs4DbfxJqoTUIv7CfxeHWEZZXrMgC8cqVfVOE5RUrl6flK5ZnIXlVWrVqVVq9ek3auKEnzZydBeWZXalrZhaGZ3ZkUxaYu6akaUW9nKZlQXna9I78Yl5ROhwbgDqJw4s3bujNLwrVKBuBtW/Klm/asKWY782mLOCu607r1mzIvhc70yFzDkmHHDI7zZ07N82fNz/Nmzs/D7MxX07z5s3Lw6zDj6F+hF8Y5+KK1qtXr95taoTj1Wn5quVpdVZfuXJFWrtuXVq7Zm1av259WpdNU6bEiHJX/oUfgbhzens+kjxl2qTU2dVeTI3l1fmOYj5GqQFgtMRoak/3ptS7YVNW9ub1fBowv7l7SxZuG8sbQbcnD7GbN29JM2fOSDOyadasmdk0Kwus8/JAO3/uwqw8JM2ZMycvB06uhAwIv1BjGzZsSGvXrs1Hm6tlOa1csyIPymvXrc3Cchma12WP604b1nfne9gjOHdlU0eE5GntWZmF4o4Izx1pSlZO7ZycOvLlUxvltEbZ3jk1m6YU5dQ0xZWzAVrSls1b06aezcW0JS97N2YBdmNRdjfKzT1b05bebXmI3ZyVvRFk8/W9qTsLrxFg44ik6TO60vTpXXmAnTlzZpoxY0aaPeuQfH7u7Hl5oI0pRl4H1qdPn168K4CRE36BQW3evDkPw+vXr8+nCNPNynXr12UBek0+HyF6Q3d36o4pC9E9G7MOT/fGtG379iw8ZwG6syMPx1M7pvSV7VmAbu9sTxOnpHw+X5aXU7NwXdary4t17ZPTlPYpacKEtuIdAxycduzYmbZs2pI2b9qaBc/N2ZSF1GyKsq+eBddYV12+fUvKwuymbIrHbWmE2KLs6enNr048aeLE1NnVmaZNm5a6urIpC6DTu7qy4NoIo7Nmzk4zZzRCbMw3K2OKoDt16tTiHQPsf8IvsF/E4dsRjvNQXJnKZRs3buybYn7dhrV98xu61+UdsHI+OmRRbt60OfVmnbYpUybnYbi9PZuyckoWiuOQ7Rhxnjx1UjE/Oa9PnDIhH4We0j4pv49zXi+nCNNZuWt547H5/JRs++x14jna2oRtYGjRvdq6eVvaumVr2rIlKzdnZRZMt2TLYiQ1n+9btmtqbNfYZvuWHflzNALtlrRty/Z81DUOHY7HbYogm7WD0RbG9h2dcbrK1Dykxo7GzmmdqWtaV77jsWva9Cy4Ts/XzZw+K6t35fVyivmYIqyW9XLe4cJAXQi/QMvbtClGKHqGNfX29ubbR7mxJwvgG7vz+Zg29mzMlvdkHcpYn02bsm2zMjqWMQreKLfkIXjq1ClFQN5VTpoyMQ/iZYCeOGlCmjQ5myI4T47wnHUgJ+4slk/Kt4/lkyZPbMxXyti26fIos8c1W55kcg5GWS9m69ZtadvW7dlUKbOg2HR5VsYtbJoujzJ7XDnftmNCvm1jeTZt2562b41QuyusxnZbsnahnI96tBMReqOdiDAao51Rtne0p472jtSRlXm9ozNN65yW2tuz+WyKoDqtsytb3pHPR9nZ2TmsKbYHYGjCL8AIRVCOMFyG5qHmt2zJOsXZFPOD1Xs2bczLrVu35uXmLfHY3mKbrDMdZSzPH7c12y7rWGed8bzDna1rdM63ZgF4ch604xDFOK8upkn5NKkRuLOybWJbVk5IEyvb5Ntl820TU5qQrW8sa2yf1ydm22fzO9q2V+Yb2zSepzEfh5+3ZdOECRPyepTxev3my/XF8t22j7LymLbKuljeb75cH8vbsin+caKMyoD5fC7+y1cWZTGfLym2a1QHW1eUxXy+Nv5rrMxH+iKI7Yz/xTdr9n+Nb9jKfHW7xso9rCvm43+xqNguLyvzsd2O7Vl9x4788NcdRZnPZ8v7zZfr8+13rYuyb754zG7rK8+1a/3O/PoA27ftSNu3F2XMb2+UE3ZOLNY15uMokHKb/D1sT/lpEY3nKKZsflu2TbxeuX2Uefgspnw+D6yNz37sMIqL/MWOqHxn0+Ssnu+MaoTPfF3MZ2V7FkCnTmksj8dG2dGeBcip7cV2WWjte0z/eoTMmC8D61DzAIwvwi9ATZQBOqYIBgPLfVm2p+03b9mUtm7bmgWhCC4RdLJgk4ekCDlZeCnrsTzWZ/Wt2zbl2zbmdy3fEUEoL+MxjeeLMg8++Xbx3FngystGPULYzp1ZWMp+D32BsQyG2XOF8usutg/59pVlMR/y58prjcfmz9H3nI35Rj0LfsfMiblc2z0r80DcF55jWduERj0Cc8xnYT3fNq/H/8e6RpBv1OPxjW2qy/Iye2z+uPL5y+fMtm/sRIgpdk40dkRMyMp8R0g+39hpEeWE2HmR7zTIluVlzBfLs2nypKmV+XhsY/uJkybl9Xw+f97G802elIXHKe35zpKY8p0wlbLZsqHWDXdZlDFF0ASA4RB+AWAvtT3ltKKWheHv3VzUAIDxqLF7GQAAAGpM+AUAAKD2hF8AAABqT/gFAACg9oRfAAAAak/4BQAAoPaEXwAAAGpP+AUAAKD2hF8AAABqT/gFAACg9oRfAAAAak/4BQAAoPaEXwAAAGpP+AUAAKD2hF8AAABqT/gFAACg9oRfAAAAak/4BQAAoPaEXwAAAGpP+AUAAKD2hF8AAABqT/gFAACg9oRfABgFl3z20qIGAIxHbTszRR0AGIG2p5xW1Bp2fu/mogYAjDfCLwCMQHWE992f+2hRa3jXi1+TZnVNT2981kuLJQDAeOGwZwAYoQi9A4NviGVruzcUcwDAeGLkFwBGIMLt7Oc8upjrL0Z97/nPH+QlADC+GPkFgBGIYBuHNzfzhme+RPAFgHHKyC8AjNBgo79rLv+F8AsA45TwS0v6nb94eVEDODDuXbYkmx4q5hqecMZ5RQ3gwDrruFPSR179V8UcEIRfWtLA24sAALDLWcednK7/6OXFHBCc8wsAAEDtGfmlJVVHfn/8oU8XNYD9q7u3Jz39Xa8t5rRHwIH167tvTW/62N/mdSO/sDvhl5ZUDb87v3dzUQPY/7RHwHjx67tuTWe/5jl5XfiF3TnsGQAAgNoTfgEAAKg94RcAAIDaE34BAACoPeEXAACA2hN+AQAAqD3hFwAAgNoTfgEAAKg94RcAAIDaE34BAACoPeEXAACA2hN+AQAAqL22nZmiDi2j7SmnFbWUdn7v5qIGsP9pj4AD7ZLPXpqX6zZ2p3/8+mfy+qyu6ekNz3xJXj96waL08ic/M6/DwczILwAAtLAb7r4tvftzH+0LvmFt94Z8WUxAg5FfWsaz3v369F9X/rCY290Tzjgv/fjD/1HMAYydcpQlVDuW73rxa/IyRlze+KyX5nWAsXbvsiXpmJc+uZjr76zjTk7Xf/TyYg4ObkZ+aRllp3Iwe1oPMJqajaiUy2LEBWB/icOan3n+E4u5/spDnwHhlxYSey4Ha9hj1PcJZz6ymAMYW0ON6hr1BQ6Ej7z6r4raLtF3cq4v7CL80lIGG9016gvsTxFwB2t3YpQl1gPsT81Gf436Qn/CLy2l2eivUV/gQGg2umvUFziQqqO/Rn1hd8IvLWfgaItRX+BAaDb6a9QXOJCqo79GfWF3wi8tpzr6a9QXOJCqo7xGfYHxIEZ/jfpCc8IvLakcbTHqCxxI1dFfo77AeBCjv59+8/uKOaDKfX7H0GWXXZa+8rXL01W/uCqtWbU6be7dVKxhVBx1SEr3rS5m2FdTO9rT7DmHpEc+8pHpBc99XrrooouKNdSB9mgMTZqY0oXHp/SzO1Patr1YyL7QHtWb9ohWoj2qF+F3DFxzzTXpVX/66nT/mmVp1dSsIzS7M/vLmZx1kAy0M45t25HS5q0prelJs3rb0lGHLEif+NjH0+LFi4sNaEXaI1qS9qiWtEe0JO1RrWhtRtnF73xHesz556d72jakVcfNSOnw2SlNm6phZ/yLz2h8VrPP7NoTZqW7dq7PP8t//faLiw1oNe989yX5v+F9Ezdqj2gt2qPa0R7RsrRHtTLxkkxRZx+97/3vT+//2w+mbecdmTbNmFwshda0pXNS2rFgevrl17+X0s6UHn/hhcUaWsEHPvCBvD3auviI1Dt9UrEUWpP2qLVpj6gT7VFrc9jzKIlDeWIv0LZHHZVS55RiKdRAz5Y06er70lVXXukQnxahPaK2tEctR3tEbWmPWpLwO0pOO+uM9NCUzWntbHs0qZ/O5b3pyO2d6ZYbbyqWMJ6dcc7ZaenULWnFjGIB1Ij2qLVoj6gz7VHrcaLFKIirFi7rXiP4Uls98zvSknWr8s8641v8Gy3fuFZHk9rSHrUO7RF1pz1qPcLvKPjMZZ9P6zvbijmopw1dbelTn/tMMcd49YUvfzH1OKeOmtMetQbtEQcD7VFrcdjzKDj0iEVp6VEdjSvBQV1t3JwW3Nublj64pFjAeHT4UUemJUdM0R5Rb9qjlqA94qCgPWopRn5HQdygPb9PHdRZ9hlfs2pVMcN4tWrFSu0R9ac9agnaIw4K2qOWIvyOgs29m9ynjvrLPuNbNm0uZhivNvX2ao+oP+1RS9AecVDQHrUULRIAAAC1J/wCAABQe8IvAAAAtSf8AgAAUHvCLwAAALUn/AIAAFB7wi8AAAC1J/xSC9+45F/Tzu/dnE+vf+aLi6V7L56jfL54boDhGov2o3y+2z/17WIJwPBEu1G2IaNhtPtcsD8JvwAAANSe8Es/5YjF404/t1gyfOVjD8a9gPH7uuofv5A2fvPaYgkwGmLEIv629kY89mAaKf3sX34wPfD5H/WNyER7FD//v7z24mILYF/oIw1ftDvVEedoj2742NcPyj4i44vwSz8nLDoqLz/0J2/Oy5F43TNemJfnnXh6Xh4MytD7s7//THr0KWemzqntxRpgNBwyfWb+tzXSzmZ0sKI9WzR3QbGkvo6af1geel/8xKenn9zwy3T0S56U2p5yWvraFT/IfwfRNu/tDgRgF32k4Yn2Jn7e3i2b04Vvfmlfe3TGMSemf/rTtzqdjANK+KWfI+cdmpcj7WzGHr7yS2FGZ1de1ll0rGMPZhl6gbExZ8asvBxpZ/OdL/rTvDwYdkj98VOfkw7PQv43r/pxesmH/jrdt/yhfHnUf3HLDXk92ikjwLBv9JGG57KffDvdseS+dOarn5X+76bGEXHV9ugZj/kdI8AcMMIv/cyfdUhRG1ln86InPK2o9X+Oupo7Y3a+BzMa8tirCYy+audyJJ3N6GiWoTmMdNS41bzzM/+Sfnj9L9LfffXTxZJdfnDdVUUtpQsfsbioAXtDH2l4/vm/Ppee9Nd/Usztsnzt6qKW0hPPenRRg/1L+KWfaodxuJ3NOM+s+rhqva6isxmHFj7mjS/s26sJjK6zjz+lqDUMp7MZhwBXO5ph4PPU0e/99R83bYtWrl9T1FLqmDK1qAF7Qx9p+MojUGC8EX7pJ86vq9pTZzM6ms9+7JNSz+ZNxZKsg7WHwwzLQ4bj4gflhRDifLU4BySebzCx7n8/+Mm08is/77t4QpxXMpwvn+c//vfzbauvGe/hPS/9s2KLkdOww9gqDxMsDaez+c+veVveuay2SXGkxmCiXYm2Z+CFooZzYZaBF5gaycVcBj422rVo34ZqA4EDa3/0kQZeKCqm4Vy4bmA/J9qUPfWrSmPRR2pmWntHUUvphrtvK2qwfwm/9BOdxjhPY9X6tfn8njqb0dGMc+r+97qr+hr3OPdsMNG4xsUO4gvkrZ/6SH4RhDhsePWGdfk5IFd85HN5IzxQLPvtJ76Vnnj2o/v2msbrxvv77vs/no5euChf1kx8YXzxbX+Xbxvvs3zNeA/veNGr8/cEjD/l+XXleWJhqM5mdPJ+75zH5G1R/K2Xzjz2pKLWX9muRNtz3R2/7btQ1Ke+97V0/GFHDnphlnid8gJT1fauvJjLwJHnqupjwwve/5b8Nb/zq//L27d4P83awL1VPbTw/uUPFzVgb4xlH6lsGwZeKOoN//aBPDDH8gikzcJstZ9TXucg3mvZrxoqcO+vPlK878ecelZej99hHEEHB4LwS59qhysuVlAarLMZDX40rPEl8IeXvC4tWbmsWNNcNKDRuMYXwGPf9OL8nJAQh+rFRRGiMYwvhb971V/s1rhf+rq39zXocVGXspP6N5//WOrNni86nc3EKEx5hcUb77k9f58hXjPeQ7yXeE+jvXcT2HflTq1oj4bT2YwOXLQTEV5/+OtfFEubi/buU29+b759tCnRNpRHc/zZpe/Ld86FaOMGjrjE65Qd2GhXyk5qBNlox+I9DuYHH/xE32Pf8vEPpy/99Dt5PS4GE+8j3k+0gaPlgtPOLmop/ft3vlrUgJEayz5S9HkipEbbEG1I9UJR0Vcq+yvR14n2pypep+znxDb/+s0v5O1R9JM+98Nv5SF2sMA91n2keG/xGnGky7WXfiVv3x7Mfg/NzgeG/UX4pc+C2XPy8pb77847f9XOZrND+coGv/olUBq4fcyXHcLYs9jskOEv/qTRCYxG+r0vf31eD9HxLEd7B3ZSY8/hs969a9uB/uKPXlnUUnrdv763qDXEc1z121/n9dc8/QV5CYwfHcU5qtH5q7Yzn/zzvylqu0QnK9qYaLei/ao65chji9ouf/OyP8s7YtG5e/1H318s3SVeMzpp4ZVPeXZehvJ1wsBOagTZE1/5tL62c6DoQJaHcsdodhl8S+X7iDZwYODeG9Hulm1ndGwHvh4wfGPZR4oR4jKgRngdqNpfiderBvFq+I6ddmX7F4+JnWqxM3AwY91HiustxNEwcaRL2Rbd9sA96cj5jaN64EAQfukz8Mp71Qa73DNYKsNsdA7LhnaoQ+qqhwE2uyJpqB4C86iTzyhqKT3l3AuK2q7OYVV0PKNjN1B0Ussvk3ifZQe16pYH7s7LaJRje2D8qJ7zW+1sxvKBnccyEH/0W1/My29c+aO8bCb+1svnvvHu2/p2pg0Uh0KHCMnl673lua/Iy1DusBsoDmFu5knnPKao9b8KcyneR/kzLj7htLzcWzGSVN7uKQL+M9752rwO7J2x7COVR2jE3395VNxA3/zFj4taSi/8nT8oao0wHOK1mj02Xj/agIH2Rx/p+jtvyQ/bjikGL+J9xOkdcbqaI+44UIRf+pQXIigvQhANZoxshIGdzbKh//BXPpWXYeOm3qK2+5dEtRPbrIEtRQMcqtuX9Vg3WCf13qVLitou1Su8xp7GZsqfLxwMV4SFVlGe+lC2CeE9n/+3ota/sxltU7QT8fdc7kSrthXV9iQ87/FPLWr9b70xUPWCLGWbVh1F/uR3Ly9q/f3q9puKWn/lyEcY7LFx/YNQ3XZvxKGR8RzR2Xzl37990LYTGJ6x6iNFqCz/3su//2aqO/TKdqj6moP1c0KzQ673Rx8p+nsRyGOKo/aiLQqxQ/HNz335bqe4wf4g/NKnPAylemuM6uE35eExcThe2dGs7mVc39Nd1HY33I5cnL87mKHW7UnsaSyvYFid4nAcYPz5w/N/Ny+rf/fR3lQ7m+XIQTnCOfBwwWajHaG8kNaeVNvCZvYlUN772R80bZMGBvW9EW10ORoUh0E63Bn23Vj1kYYbKvfU3lTD9Ujtrz5StEVlGx4BuGznYX8SfumzqDj8JQ5TKVU7m3F4TFy0oDyEeWBHszraMfAcu8E6oQOV72G425f2dNP4ONwmLgAx1FT9kgIOrPNOPD0vB54/W2134jy08h6aAzuaoTraUR0hGWpHXVX5HsJwHxOGE2CbtUHVKc4d3hvxc5ajTvG70q7B6BirPtKyNauK2tCq5/nG1aBHYuAtmgY6UH2koW5DB2NF+KVP7IULAw9Lrjbg5UULmnU0h3LnQ/cXtV2HMw4Uh/6U76G6fXnYY/nF00yzzmb1C6rZBW+A8WtGZ1deDjwsudrZjLaovGXQwI7mUP776p8Wtf73nRwobndUKh9TPW+v2hmtGux83WqQr4bx0RLv5wOvfFNej99Hea4hsO/Gqo8Uo6HlDv+hbkn02NPPKWqNaxWE6qHQg93ysXpYddV46CPt6egaGAvCL7mhOmLVzmapWUez2pAODKM/+801RS2lt/zRrgvGVL3qaX9U1PpvX56LEl88za6AGu+9WcMeX1Dl+473M9jFFeKL4X8/+MliDhgPhuqMDWx/ButoVsNm9Ry76GyW68467uS8bOaM4v7AsW156PCVxdVPwxuf9ZKitkvs3CsfN1D1AjnVq6wOFKNHIw3H8brlrZvi9iaCL4yese4jlWE2Ro8Hu7DUhY9YXNRS+vi3v5KXcSh0OUAQt0Fq9tjqRfqqDlQfqRzIiHZ1uDsIYDQJv+TKhrh6cZmqakM+WEdz4N7QquqFIeKQoIGjvzH/7Mc+Ka/HlZurHbd3f+6jfXtF45YjZQCOx0QnsRzpaKb6vuNm7d+45F/7vhzi8TEfVx102X0YX8rD9KoXnSoN7Gw262iGoS5mVV48K3acRTsyULQN5UjPayu3AIkLapXtZJxXG9uV7Vl0Hst7WTZTfd/RyX3g8z/q1+GMDvbtn/p232j2cMXrxz1C43XjFkpxe5NYFs8Xzx/v8YaPfT2t/MrPi0cAIzHWfaS4R3jZz/nX1zUuClUVf8sRbkPs3Ko+16e/9/WiltIX3vrhvqBehta41/BgxqKPFEegNBuoCNV2tbwyP+xvwi+58gIwg11UqtppG6yjOdDAPaVxU/N4juhs/uCDn+hrYKOhLDtuEXwH3pIjGvnyPnWxTZzPFhdiiAvGRCcxllU7wlXxvqvvN74Efvb3n+l7fMzH1RXf8Z+7brMEHHjl0RyDHRZX/l0P1tEcaOBIctk2RIczdryVATg6fFGPtiHW/c3nP7bbBaPe8vEP93VUY7vy4lXReYz3PVh7FKIdLDvQEYDjMdWLy0QnO86/G87PFMrgG88VIpCX7Vs8Xzx/vMfoODc7QgbYs7HuI8UIblwJOUZD4281Qmv8bYfYgVXu5I+2IXZuVcUOudjpFaIdiL/7aAOirxMXsoq2arDQPhZ9pLgNU/TTrvrHL/T186KM4Fu2q/Ga1dtbwv4k/JIbzvkecU/LaGCH6pRVDzMceCGDaNzjIi5lQ1s2sHGoXjSucR+4M1/9rKZXNIyR4NgzGuG47HRGGfOxPG46P5h47IVvfmn+3qvvL74M4r0c8aLf3a1zCxw4A3ecNRPtUPz9D9XRvH/FrvNzm51LF23DU9/2qvyQw98/73F9Hb4nnPnIvJN56p88vWkHLdqLWDewTYnOb4Tlod5TtG/R5sQ21ZAc7Vk8X7RVcUuQ4frmey7tC77A2NgffaRoV8597R/lbc9JRxzTt1MtLuwXbdRQbcNj3vjCvO2ptinxWvF+oq0a6m4Zo91HiqN14rkOn7ewr58XZfwO42eLNrd6dB/sb207M0WdvdTW1pbSk08t5qDGvv/bpMkY37RHHDS0R+Oe9oiDhvaoZRj5BQAAoPaEXwAAAGpP+AUAAKD2hF8AAABqT/gFAACg9oRfAAAAak/4BQAAoPaEXwAAAGpP+AUAAKD2hN9RMLWjPaVtO4o5qKnsMz6lfWoxw3jV3tGhPaL+tEctQXvEQUF71FKE31Ewe84hKW3eWsxBTWWf8dlz5hQzjFdz5s3VHlF/2qOWoD3ioKA9ainC7yg48+yz0qT1m4s5qKk1Pen0Mx9RzDBenZW1R9N6dxZzUFPao5agPeKgoD1qKcLvKHjZRS9OXd0O66He4jP+xy9+WTHHePWi51+UOtYZaaHetEetQXvEwUB71FradmaKOvvg1DMfkR6Y1Ju65zrmn/qZsrQ7HbNzerr1xpuKJYxnp599Znp4ypa0epb9m9SP9qi1aI+oM+1R69ESjZLPfPLTadNv7k+pZ0uxBGoi+0zvuOXh9LlP/UexgPHuP/79k2n99Xdpj6gf7VHL0R5RW9qjljTxkkxRZx8cdthhqa2tLf3fl/877ZjXldLkicUaaGFZwz7p2gfS2y++OL3woouKhYx30R5NnDgxXfGV/0nb507THlEP2qOWpD2ilrRHLUv4HUWPv/DCtLGnJ1395e+krpnT0+YODTytq3N5b9p5/QPpDW96Y3r/e95bLKVVXPi4x6XeTb3pF1/6dpo+c4b2iJamPWpt2iPqRHvU2pzzOwauueaa9Ko/fXW6f82ytGrq9pRmd6Y0dXJKkxxlzjgW92KMW1Ks6UmzetvSUYcsSJ/42MfT4sWLiw1oRdojWpL2qJa0R7Qk7VGtCL9j6LLLLktf+drl6apfXJXWrFqdNvduKtawT46bV1Qyd60oKuyrqR3t+T2rH/nIR6YXPPd56SKH8dSK9mgMaZNGnfao3rRHY0h7NOq0R/Ui/NJy2p5yWlFLaef3bi5qAAeGNgkYL7RHMDTHmQAAAFB7wi8AAAC1J/wCAABQe8IvAAAAtSf8AgAAUHvCLwAAALUn/AIAAFB7wi8AAAC1J/wCAABQe8IvAAAAtSf8AgAAUHvCLwAAALUn/AIAAFB7wi8AAAC1J/wCAABQe8IvAAAAtSf8AgAAUHvCLwAAALUn/AIAAFB7wi8AAAC1J/wCAABQe8IvAAAAtSf8AgAAUHvCLwAAALUn/AIAAFB7wi8AAAC1J/wCAABQe8IvAAAAtSf8AgAAUHvCLwAAALUn/AIAAFB7wi8AAAC1J/wCAABQe8IvAAAAtSf8AgAAUHvCLwAAALUn/AIAAFB7wi8AAAC117YzU9Rh3PrHr3+mqKX0po/9bVFL6SOv/qu8nDVtRnr5k5+Z1wHGmjYJGC+0RzB8wi8t4ZLPXpre/bmPFnO7e9eLX5MueclrizmAsaVNAsYL7REMn/BLS1jbvSHNfs6ji7n+ZnVNT9d/9PJ09IJFxRKAsaVNAsYL7REMn3N+aQnReMeey2be8MyXaNSB/UqbBIwX2iMYPiO/tIxmezbt0QQOFG0SMF5oj2B4jPzSMprt2bRHEzhQtEnAeKE9guEx8ktLqe7ZtEcTONC0ScB4oT2CPTPyS0up7tm0RxM40LRJwHihPYI9M/JLy4k9m8e87En2aALjgjYJGC+0RzA04XcMXXbZZekrX7s8XfWLq9KaVavT5t5NxRr2WcfklHq3FjOMhqkd7Wn2nEPSIx/5yPSC5z4vXXTRRcUa6kB7NMa0SaNKe1Rv2qMxpj0aVdqjehF+x8A111yTXvWnr073r1mWVk3dntLszuwvJ2uIJjnKnHFs246UNmdflmt60qzetnTUIQvSJz728bR48eJiA1qR9oiWpD2qJe0RLUl7VCtam1F28TvfkR5z/vnpnrYNadVxM1I6fHZK06Zq2Bn/4jMan9XsM7v2hFnprp3r88/yX7/94mIDWs07331J/m9438SN2iNai/aodrRHtCztUa1MvCRT1NlH73v/+9P7//aDadt5R6ZNMyYXS6E1bemclHYsmJ5++fXvpbQzpcdfeGGxhlbwgQ98IG+Pti4+IvVOn1QshdakPWpt2iPqRHvU2hz2PEriUJ7YC7TtUUel1DmlWAo10LMlTbr6vnTVlVc6xKdFaI+oLe1Ry9EeUVvao5Yk/I6S0846Iz00ZXNaO9seTeqnc3lvOnJ7Z7rlxpuKJYxnZ5xzdlo6dUtaMaNYADWiPWot2iPqTHvUepxoMQriqoXLutcIvtRWz/yOtGTdqvyzzvgW/0bLN67V0aS2tEetQ3tE3WmPWo/wOwo+c9nn0/rOtmIO6mlDV1v61Oc+U8wxXn3hy19MPc6po+a0R61Be8TBQHvUWhz2PAoOPWJRWnpUR+NKcFBXGzenBff2pqUPLikWMB4dftSRackRU7RH1Jv2qCVojzgoaI9aipHfURA3aM/vUwd1ln3G16xaVcwwXq1asVJ7RP1pj1qC9oiDgvaopQi/o2Bz7yb3qaP+ss/4lk2bixnGq029vdoj6k971BK0RxwUtEctRYsEAABA7Qm/AAAA1J7wCwAAQO0JvwAAANSe8AsAAEDtCb8AAADUnvALAABA7Qm/7Dc7v3dzPt3+qW8XSwAADm6vf+aL+/pI37jkX4ulwFgQfgE4aMXOuOhwRucTAKg34bcFVfcQDpw2fvPavDP3vx/8ZHrc6ecWjxjfjpp/WHrg8z/K3//+2uP5L6+9OH+9lV/5+bj+PcW/dfx73vCxrxdLYPyJv9tqO1Sd4m871sffeSsp26X91UY8//G/39d+jzfRDkUbFO+v/HeN9xntKIw3Q7VH8fccn93P/uUHW6ZNKtuGmN7z0j8rlo6tq/7xC/nva7y1R/FvFv++ZZ+x/DeN99sqfV4OPOG3xfVs3pTuWHJf39SbzZ+w6Kj0xLMfnb77/o/njeZ494fn/246fO6CvP6Mx/xOXo61p5x7QV7OmTErveW5r8jr40kZev/pT9+a/3t2TJlarIHWEn/b8Xf92098qyXao1LZLkUbcfbxpxRLx84Lf+cPUufU9vzvfTyJTmW0Q2ccc2L+/krxPl/3jBfm62G8WrV+bb8+UkfxN/biJz49XfGRz7VEAC7bhphe8IT904Y++pQz8zJ+V+PpqJhrL/1K/n1y3R2/TUe/5En5FP+u8X6jz7u/dg7Q2oTfFrdk5bJ04iuf1jfN/aML0i9uuSFfFw3lpa97e14fz75x5Y/Sg9nPEb551Y/zcl9FJztGv2PvYDPfu/bneRlfjH/31U/n9fEgRlLiPZehF1pJ/P22PeW0vunCN780/es3v5D/nUV79Kk3v7dlRluiXYr3HdP1d95SLN170SmL0dPBjm754a9/0bczczyJTmW0z/HvGB3N8t+1bKtjvRFgxquf33x9vz7SqX/y9L7+Ruzc+uLb/i6vj2df+PH/5G1DTF/8yXeKpfsm2qPYcTXYzquyHxnt0T//1+fy+ngQ/57R9vzhJa9L9y1/KJ8e88YX9n3HvPm5L2+Z7xgOHOG3hsqGIMSoxXg/FCQaryNe9Lt5pyoatNHwNy/7s3z0uxxRHujPLn1f/nqxs+D/brq2WHrgnXLEsemQ6TPzxv1vPv+xYim0pvjbir+1c1/7R3nHLTon733564u141u0S9E+jFYbESM2MXo6mOhgTnvGuXkHfTyJtija5/h3jN9JiN9HtNVlAH7m+U/MSxjv4jP8wg/8RTHXGNkc77700+/kbUNM7/zMvxRL9807XvTqfMdV9BGbiX5k9JHGW3v0+o++v2k/cfWGdXkZ3zFx1A4MRfitqbIhCPvjkD1Gx+/99R/ne6ajcV+5fk2xFFpbdDiv+u2v8/qjTj4jL2kNQ+2QjI5oGGwnI4xH1Z1Zg4U/xqdyBxzsC+H3IFA9ZC/OIy0vEhDiELzyQgoDxQUhBl5UIA4lHuqQkvLQvvIx8fjhHBIX7yumeP7BxHkncYhOvI/q81cvphPbxPLq3txy2+qFG+I9la852HmI8ZwDL6wQv6f4+QY7Bya2L7eNbcrDmMtl5fsdisadOtq4qbeoURfaKlpdeZRcqfyujr5B9AGizxHzAy86GeuivzKwPxL9pqEM7FcN1Z8oRR+l7K8M1Z+KdfF80U8pn3/gY8o+Sin6SuW21b5J/Gzlaw4mjioc2Cfb08Wn4vnKbcs+VvXxsX5vztuNc7lLccoKDEX4rak4dDZEwz7YIXvRQMWFA+IwkapokKJxjgtChBe8/y354S/f+dX/5YcSD3bhmni+OJSmemhfjAgM56Io0QDHdOT8Q4sl/cXj4zzYgYfpxPOXF9OJxjYOHYz3Wj1vLuYHHr5z5LxD+15zwew5xdJd4ueL56xeWCGe41Pf+1o6/rAj8/eypxD7F3/0yvxnr46KlO93qJAPB5Oy0xOi01N2hJp1ugbuTIpt4+8w2qyhNNuRt6e/31BuP5iy81d97qhXn7tcHm1NiL//cln1Zyx33A3V2Yxt4vWqncWox7LBOpsDnzd+x1GvPn44v4tmytccGCBgPKv+rQx2jn2EqbggVvQ5Bir7B9EfWrJqed+Flx5csTTvN0UbMLBNqvarqn2C6C9Ff+KiJwx+eHH0Ufr6SFnfZaDyuaO/MdiF6WJ9iCM5oi9Tip+/7CNVj/KIvlj5ms1EW/yzv/9MOuPYk9JlP/l2/vj4HcQ5ufE7G87Fp+L3G+1htU8Xrxf9yJEE4Gjjyt9pnIphpxx7IvzWUHRkysbko9/6Yl42Ew3UD6//Rd5Y3Hj3bcXSlH7wwU/0NSRv+fiH8/NNwks+9Nf5ttGw/t2rdp0zE6IhLL8k4mISb/i3D+SNYVwYJV6j2RfIcEXHrnx8dLLiXNiysY56eS7haIkvtrgwTzxn/LzxhVA2pnHe21s/9ZG8Ho12dY/qQPE7jItGxO8g3mv8TuK9hvjSHKyzCnU0f9YheTlYUIoOTHR6mh2GWO3cVTuOsW38HcYVQJsF4ME6nOXjom3ZW2XnL9qm6nNHPZ47fp7RFDvMmu0AjHosi/cyVHsUYn38jqsd2n35XZRXyh9vF+mCoXzyz/8mL+P7+C8/8fd5faD4Oy6vvxF9mLKPFG1K2T+ItuwZ73xt3j+IKc6Tjb+FeGz5GqW4sFbZTtx4z+19/YIYXIjH7G0fKd5PhMjyueO5ygGLCKOf++G38uUdo3jHiGhHoi0O0R+KflGI30H0l8p+Ylx8qtlASSnec7y/cnChfK/hNU9/QVFrLp432thoFz/wyjfly6K/NdRpGlASfmskGoPowERHJhr1uDrnUBdHiAYqzjGNxiIa7RB728qOUTQkZfAtVc/xqna0yr2W8bqPfdOL+64OGKPO8RrllQNHKhq38kshnjsunFP9maL+yr9/e/78o3FRmhAXy4qGO16v/Hmr4mcrrxb5yqc8Oy+biS+h+L2W7yse97/XXZXXw/Me/9SiBvUWbVP5dxyjBM2880V/mv8dlx2h6pEa5Q65+Lur7vyKTl50JCPAxTYDlY8r28PyucurFcd7GmxkYyjVzl+8ftnZLN9Ttb0rl5cBMV63XDbci8nEDs3YYRbi8WXHOabYqRbvIcR7Gix0L8p+D7G++vgoy/cav4uhOqoDxbbld81gAQLGk/Koh/ibj+AafYeh+g0R7KJ/FH2Y2PkfItSWO9ujLRs4ylhejbm6gzvKsv2LduDMVz+r73WjjxXtwN4ePfHPr3lbv+Abz1X22+K9xfuOti+O3BsNEbbLfk+8XtnXqyr7TfF7ettFr8rrzURbFO+v/B1GvWwno00faoAgbv8UOwPj91z21+586P6mO0FhIOG3xUUjXh6+lu9ZnLcwb1Ce+rZX9e2NG0yzW/w86ZzHFLWs41gJaqVopMpGevEJjUNnorNVjkTERW0GfhmEf/z6Z4vayPzxU59T1FL62hU/aPrc0dCX4X1fRWNbdoZjT2+z1wtxKHSIRnewzmZ5O6WquJ1JqdnhS1AnEZAiuMVISYig1ayzFOLwwfg7Hvg3V+6Qi05RXHW4uvMr/vajIxltUmxT7SyVj4tOUVxErtnViqNTOFLVzl88Pl6/upOwbI8G+zlHKn6mCJkhXi/ed7XDHq8T76EMsdU2syraqhhZqT4+yniv5c686FAOR7R55b9pnApSfT8wnsTfTtlHiqMeQvwdxY706t/tQNGmNPsbPuu4k4ta1of6yu59qB9cd2VR27WDuzxCIgx2q6K9Dae/V+mzveM/mw92RNtXhvd99ZY/ekVf+G/WxwnRzpYhdqgr3Dfrg95y/91FbeiLtcbtn2LHX0zR9sV7iiN84iigoUIzBOG3xUUDU44AxBSdw4Gdo8E026YMseGT3728qPVXXkm63PaJZzVGJMKVxRVdBxrqS2Yoi+bML2opffzbXylqY6c6Grt87eqitrsbKoeJV3/+qrLxh4NFtaNZ7pCLZdExiQ7KUDupBmtvyttWDBVU4zyzUP37LR832E6zEJ3CkY64lJ2/+Pve0w7G0fCqp/1RXsbo7lCvV46+DtbZjJ0Ag3WAy515pxx5bF4OJXZmxIhL/A7i32R//A5gb1WPtIgpRkbjMztYm1Cq3jGjquz3xA6jZs9R7VeVO7irf1eDtXO/uv2mojZ8EfLKIBrt2N72s0aiHPQIQ/Vx7l/+cFFr7CxrZl92msXPGjsnYorvlfKQ6fj3GXjIOQwk/DKoez/7g34d2XIqR0abGe3b81TD+P4YXRjuaKzbEMGeReCK0BZ754cKvmGwkdJyB1gErmbtUUzlyGj177e86N9/X/3TvBzMYJ3cwcS9uMPVt96Yl2MtLrAXqtdlaCbax3IEt1lnc0mxrpnqESmDiY52nD8dv+voaMfh3YIvB6s41LhZWxTTUPYUukeiOjI60nZsb1X7ZEPZ31f3r+7YG6qPCkH4ZVDVvaXNpuGerxb29jCUkY7K7Kv1Pd1FbWjnnXh6URv+Y6DuBo6yTHvGufkhuYMF2+EYbmdroPI8uNEeDSmvSL83IzV7o/z5h/N6vZsbF9QbbXH4ely9NX6nMYK/p0NGoe4GHnXXbIqj8IZrbwJb9TaW+0vvls1FbWhHL1xU1FJatmZVUdt/nPvLUIRf+qmGzcEOVRmoeghwNRRW7e3FneI8wNJILsayt6G5Oko0rb2jqO2uHI0JexpZAvZejB6H8mJVQ03NOpujff5X2fnbX6MLI3m96r0uR0u0u+XVbeMw5xjBH83RK2glZd8iLiA33IBVPQR4sH5M9XDi4YqjPcr2Md7PSOxtH6l6BMrcGbOL2u7KI3bi/R2IHWXaKIYi/NJP9UqscZ/awcR9M8twXD2H5ffPe1xR6+8p515Q1Eam+tz/3+8/t6jtWfV83ZF0fqORLr8Uqhe2GCjubRdiWyMgMHbKw3UHu5DTYMrz0Yba8Rad15GG2HuXLsnLvems7o2ys7mn14ufpRzt3peR9qp4zktf9/Y8+Mah6w5z5mBXXl8g/iYGO7c0/m6qtw6rXgvljc96SVHbJbYv+xQjVd5BIt7PSO6NWx4mXZ4eMlzVa69UL5BaFQG/PGJlT6drjJbqToXy4n8wGOGXfqLTVHYaoyMV53hVG9QIvHGrgLiqXin2sMV98EI0eDd87Ot9gTMapPLWAnsj3k95G4/HnHrWoHtN49Yjg4XcJ51zflEbnvd8/t/yMn6WCPkDxQVfyotMvPZfG1c8BcZGeW7tK57yrLyTOFzlVUPjNmyDPS4uyDVS5RVK49Ylwz06JuztSEvZ2YzXq95ebqDyZxnNjl9c3CvawXjO0QrU0MriNj7laGvcZif6O9V+SfyNxhWHy1sbhbhCfXk+fiyPPkTZJkX/KrYv+xQjFe+nbFuGaiPjNZuJv++RtKsx2hynt4T4WZr1yeJ2kSHeV1wbYLTE73awPmD5mvFv49Zr7Inwy26e9Nd/0tdQRwCO2wOUF3KIi85EkI3Gr9oZ+uN/eEffY+Jqoz/7+8/k20eHLLYf6qqAexI3kY/OV3w5xOF30QCWjXU0hPHlU95zs1S9hH7cLD0a/sEa/4Hi54rD+6IRffZjn9QXgOM1ox4XfIl1cb9Ro74wtt7+H/+cd6KiLbriI5/LO4vVzloE0P/94Cf7jbSEspManbvycaWy3YjO20hDaXT+yp190R5Gu1LtkEU93svAYFwejXLOCaeO6GiU6utFOxevV3189WcZ7Y7fhY9YnJfNbnsHB6PY2R/3B46/tRD9nejnlH2k+BuN0w+if1D1lo9/uO8x0YcoLyga/atoo/a2jxTv51nvfn3e/6q2kaWoxyDGBaedXSxpqN6mKO6HHu3KUDvXquL0krJNiiNDyrYu2qVo+6LPF+8nBgdG8/DjOIIw+oDxXgf2AeM1oy3f072bIQi/7CYaq7hlUgTAaoMcDXeE0Avf/NLdzq0rHxOhuAzBIeqxbCQXxxoonjvOM4vD7uIm5nGPzfKLIxrenk29+RdNtcGLerz/aAzjiyW+bKoXYNiTOLwv7pUch+zEodzxWvGaTzjzkfnPE/cNrd5vFBgb8fcfnahof8qdcdUr0UcAjRGY+Duvisf9/Vf/o9/jysdEZzU6rdFG7M1VUn/vr/+4b4Q12pZq5zfq1VGfUtyXMsR7KXcOxlExwzHw9crHV3+W+DlHu+PXMWVqXlZ/d4NNw925CK0udnpHH2Bgfyf6G4P1D8rHxN9xdYdb9LGi/xJt0d6Kv/myzxYXvav+vcZo8G0P3LPbUWrRx4kAG+1GBMe4X/Bw73YRok2KPllcl+UDr3xT/lrRLkU7HO8j3s9oDw7EUUDRB4wgX34HRBiOdipe04X4GK62nZmizl5qa2tL6cmnFnNQY9//bdJkjG8Hoj2K4BOhLDp+I7nCaYgOTIgLVg0l9vTHOXZxLn416EbnMTpFcXhws+AXoxEf+pM35+fUlYcWxqkUcT2BOMqjPC0jOnIDD+3d03uLEY84FzkugFc+d7yfGFVpdn5sjMJEZzQCcIhtyx2D8VwR5KvLBmr2etH5jvv0xkh3BP6Bhvu8zbYZySkre/Nvv8+0R+Oe/hEHDe1RyxB+R4HGnYOGxn3c0x5x0NAejXvaIw4a2qOW4bBnAAAAak/4BQAAoPaEXwAAAGpP+AUAAKD2hF8AAABqT/gFAACg9oRfAAAAak/4BQAAoPaE31EwtaM9pW07ijmoqewzPqV9ajHDeNXe0aE9ov60Ry1Be8RBQXvUUoTfUTB7ziEpbd5azEFNZZ/x2XPmFDOMV3PmzdUeUX/ao5agPeKgoD1qKcLvKDjz7LPSpPWbizmoqTU96fQzH1HMMF6dlbVH03p3FnNQU9qjlqA94qCgPWopwu8oeNlFL05d3Q7rod7iM/7HL35ZMcd49aLnX5Q61hlpod60R61Be8TBQHvUWtp2Zoo6++DUMx+RHpjUm7rnOuaf+pmytDsds3N6uvXGm4oljGenn31menjKlrR6lv2b1I/2qLVoj6gz7VHr0RKNks988tNp02/uT6lnS7EEaiL7TO+45eH0uU/9R7GA8e4//v2Taf31d2mPqB/tUcvRHlFb2qOWNPGSTFFnHxx22GGpra0t/d+X/zvtmNeV0uSJxRpoYVnDPunaB9LbL744vfCii4qFjHfRHk2cODFd8ZX/SdvnTtMeUQ/ao5akPaKWtEctS/gdRY+/8MLU3bMx/fLL30nt0zrT1mmTizXQeuJQnrZfP5he/6Y3pPe/573FUlrFhY97XOrp7Um/+NK3U+f0rrSlc1KxBlqP9qi1aY+oE+1Ra3PO7xi45ppr0p+8+lXp7hUPpw1dbSnN7kxpahaEJznKnHEs7sUYt6RY05NfvOGYOQvTpz7+ibR48eJiA1qR9oiWpD2qJe0RLUl7VCvC7xi67LLL0ue+dFm69ppr05pVq9KWTW6HNGqOm1dUMnetKCrsi7hBe9yn7tzF56YXP/+idJHDeGpFezSGtEejTntUb9qjMaZNGlXao3oRfmlJbU85railtPN7Nxc1gP1PewSMJ9okGJzjTAAAAKg94RcAAIDaE34BAACoPeEXAACA2hN+AQAAqD3hFwAAgNoTfgEAAKg94RcAAIDaE34BAACoPeEXAACA2hN+AQAAqD3hFwAAgNoTfgEAAKg94RcAAIDaE34BAACoPeEXAACA2hN+AQAAqD3hFwAAgNoTfgEAAKg94RcAAIDaE34BAACoPeEXAACA2hN+AQAAqD3hFwAAgNoTfgEAAKg94RcAAIDaE34BAACoPeEXAACA2hN+AQAAqD3hFwAAgNoTfgEAAKg94RcAAIDaE34BAACoPeEXAACA2hN+AQAAqD3hFwAAgNoTfgEAAKg94RcAAIDaa9uZKeowrv3j1z9T1FJ608f+tqil9JFX/1Vezpo2I738yc/M6wBjSXsEjCfaJBge4ZeWcclnL03v/txHi7ndvevFr0mXvOS1xRzA2NEeAeOJNgmGR/ilZazt3pBmP+fRxVx/s7qmp+s/enk6esGiYgnA2NEeAeOJNgmGxzm/tIxovGPPZTNveOZLNOrAfqM9AsYTbRIMj5FfWkqzPZv2aAIHgvYIGE+0SbBnRn5pKc32bNqjCRwI2iNgPNEmwZ4Z+aXlVPds2qMJHEjaI2A80SbB0Iz80nKqezbt0QQOpGiPnnDGeXn9rGNP1h4BB5Q+EgzNyC8t6a2f+kj64Jc+UcwBAFAy6gvNGfmlJU2dPKWoAQBQdfU/f1HwhSaEXwAAqJGj5h9W1IAqhz0DwD5oe8ppRS2lnd+7uagBAOONkV8AAABqT/gFAACg9oRfAAAAak/4BQAAoPaEXwAAAGpP+AUAAKD2hF8AAABqT/gFAACg9oRfAAAAak/4BQAAoPaEXwAAAGpP+AUAAKD2hF8AAABqT/gFAACg9oRfAAAAak/4BQAAoPaEXwAAAGpP+AUAAKD2hF8AAABqT/gFAACg9oRfAAAAak/4BQAAoPaEXwAAAGpP+AUAAKD2hF8AAABqT/gFAACg9oRfAAAAak/4BQAAoPaEXwAAAGpP+AUAAKD2hF8AAABqT/gFAACg9oRfAAAAak/4BQAAoPaEXwAAAGqvbWemqAMAw/CPX/9MUUvpTR/726KW0kde/Vd5OWvajPTyJz8zrwMA44PwCwAjdMlnL03v/txHi7ndvevFr0mXvOS1xRwAMB4IvwAwQmu7N6TZz3l0MdffrK7p6fqPXp6OXrCoWAIAjAfO+QWAEYqAG6O7zbzhmS8RfAFgHDLyCwB7odnor1FfABi/jPwCwF5oNvpr1BcAxi8jvwCwl6qjv0Z9AWB8M/ILAHupOvpr1BcAxjcjvwCwD2L095iXPcmoLwCMc8IvwEHisssuS9/41jfSL395dVq+bHna2N1TrGGfdUxOqXdrMcNomNbVmeYvmJ8eed556Q+f8ax00UUXFWsAYO8IvwA1d80116TXv+F1KbVvS6dfcGw69dzj0ux5M1JHV3uxBYw/vd2b0pqV69Nvf3VXuunKu9LOTZPSv/zTpWnx4sXFFgAwMsIvQI39zfvek973N+9Lr/yrP0pPeM65xVJoPT/+6q/Spz90eXrbO96a3nnxJcVSABg+4Regpj7wgfenD//Dh9Iln35tWnjk3GIptK6l969M73r5pekv3vwX6W1vvbhYCgDDI/wC1FAc6vzYx16QPvTVtwi+1EoE4L987t+lK674uUOgARgR4Reghh51/nnp3Ced5FBnauknl1+Trv3B7enqK39VLAGAPXOfX4Caias6T+zYKfhSW094zuL8Mx6fdQAYLuEXoGa+/o2vpkdccHwxB/V0xmNPSF/LPusAMFzCL0DNXHPNdemUxccUc1BPJ59zdLo2+6wDwHAJvwA1s3zZ8jR77oxiDuop7lUdn3UAGC7hF6BmNnb3pI6u9mIO6ik+4/FZB4DhEn4BAACoPeEXAACA2hN+AQAAqD3hFwAAgNoTfgEAAKg94RcAAIDaE34BAACoPeEXAPazp530ivS8M96UT6PhsUc/o+/5Tph7drEUAKgSfgEAAKg94ReAlhWjnDHaOW/aomLJ8JWPNVIKAAcH4ReAljV96qy8POPQx+XlSJww56y8PKRjQV4CAPUm/ALQsjonT8/LOZ2Hjmj095xFv5O6iuA8eeKUvAQA6k34BaBlTZ3UWdRGNvp75KyTi1r/5wAA6kv4BaBlTZ3YUdSGP/r7qCOemqZMbC/m+j8HAFBfbTszRR2AGmhra0tfuuEfirl6e+Zpf9ovyK7qeTj98M4vFnO765wyI/3+iS/L6xMnTMrL3q3d6Vu3/HtebyYOkV7YdXTfYdKhe/PatLT73nTdkh8XS3Z3xKyT0olzz06z2uflr7Vl+6a0cuOSdN1DP0lPOOY5fc/35Rs/kpdVAx8b1m5amR5ad1e6admV+XxV3OrosBnH5fXrs+e/Y+X1eb3unn/mnyfdGACGy8gvAC0rgm8E0QiWYU+jv+cc9oQ8TC7rvi9t37EtX9YxuSsvB4qg/PRT/r90/Jyz0rad29KP7/pyHlQjXMZzxPInn/iSfLuBIjA/5sin5e+nDK/xXiOgPvG45/cta6b62Hif8Zrx2lOzx5+64FHpice/oNgSABgJ4ReAlhSjo6X7195a1AY/9zdCcYTPCMpX3PvNfMR3MBFoI6RGMI5w/f3bP5tWbFySr4tR1R/e9aU8PM9qn5sH1ap4nQjGIba5c9Wv8wD737d+Mt235pY8BA8WuOO2S+VjY6Q33meI1y5fM0Lx6QvOz5cDAMMn/ALQktqLC1Wt37wqP/y4Ovrb7N69ZSiuBuXSwO1jhLgMqHdk4XWgni3r08qeh/J6vF41iFfD941Lr+g7NDoec/UD3033rLkpn2/m5HmLi1pK1y/5UVFrqL7m8XPPzEsAYPiEXwBa0oKuI4paQzXUlvfwLUW4jZAao71lGN24dX1eNjO3OHQ6AvVg588+tP7uopbSUZXwG68T4rWaPTZevzzkuipGjMvAHY8tR5qrNmxenZcxejyci3sBALsIvwC0pIkTJufl2t6VeRmhMg5RDnExqepobhmGb11xTV6G7Tu2FrX+QTpCZXkRrS3bGqPJzSxZf1dRS2nG1Dl5WX3N9UVQbabZIdezOuYXtcEfu6H4+UJ1ewBgz4RfAFrStMmNC01t3t6bl6F6iHJ5CHFcQCrCcATj6kjs1u1bilp/ww2VcRjyUKrheqQWdB2ZnnfGm3abzj7sCcUWAMBICb8AtKTyEOG1vcvzMkS4LUd/Y33c0/fIWSfn8wPP3V3du6yo7Rq5DZu29RS1oVXP842rQY/ElEm7bs/UzEPr78ovkjXUNNjh2ABAc8IvAC2pvF3QwHNjqyH3qNmn9N0Oabhh8YG1t/WdkzvULYnmTTusqKW0rndFXlYPhe6cMrOo9Vc9rLqqGuKrYRwAGB3CLwAtp9nVnEvV0d9Ssys2V8NmHBZdtXZTI8zG6PFgF5aaO+3wopbS3at/k5dxKHR5Pm/cBqnZY0+ad25R6y9CfPWc5cFuZxTP+fhjn1PMAQDDJfwC0HKmF2G12YWjQjXsDjbq2+xqyqWr7v923+jv2Yt+Ny+rInxHuA1x797qc92z+uailtKjj3xaX1AvQ2vca3gw1fd96oJHpcce/Yy+AB33Ho75C495dt/5zgDA8Am/ALSczsnT87LZLYNCdfS32ahvM9XR5BjB/eWD389vdRQhN0JrhM8QI7JnLHxsXo9zc+PevVU3Lbsyrep5OK/HyHFcpCouVvU7xz0vv5BVvOdBQ3v2vu+svN8IyvG4ePz/O/mP8/l4T7/JXgMAGBnhF4CWM5xzYu9fe1seQoc61zeCZGnqxI6i1hDn/n7/js/nAXfG1EPy8Bkh9Pi5Z+aHRf/4ri+nK+79ZrF1fz+884vpt8uu7nf4dbxWvJ/v3P6fg4b2ELdsiueObavvLwJzBONv3fLv+XsDAEambWemqANQA21tbelLN/xDMQf19fwz/zzpxgAwXEZ+AQAAqD3hFwAAgNoTfgEAAKg94RcAAIDaE34BAACoPeEXAACA2hN+AQAAqD3hFwAAgNoTfgEAAKg94RegZqZ1dabe7k3FHNRTfMbjsw4AwyX8AtTM/IXz05oV64s5qKc1K9en+QvmF3MAsGfCL0DNLD73nHTrdfcUc1BPt1x7Tzp38TnFHADsmfALUDPP+sPnphuvuKOYg3r6TfYZf3b2WQeA4RJ+AWrmoosuStt7J6QfffVXxRKolx9+9er8Mx6fdQAYLuEXoIYu/ed/S//xocvT0vtXFkugHuIz/Z8f+nr+GQeAkRB+AWpo8eLF6Z3vemd618svFYCpjfgsX/KKS9M73vnO/DMOACMh/ALU1NveenF60xvfmP7yuX+XfnL5NcVSaE0/+uov88/yG97whnTx2y4ulgLA8LXtzBR1AGrommuuSa9/w+tSat+WTj//2HTqecel2XNnpI6u9mILGH/iPr5xy67fXntXuunnd6Wdmyalf/mnS434ArDXhF+Ag8Rll12WvvGtb6Rf/vLqtHzZ8rSxu6dYwz47bl5Rydy1oqiwL6Z1deb38X3keeelP3zGs1zcCoB9JvwCwD5qe8ppRS2lnd+7uagBAOOJc34BAACoPeEXAACA2hN+AQAAqD3hFwAAgNoTfgEAAKg94RcAAIDaE34BAACoPeEXAACA2hN+AQAAqD3hFwAAgNoTfgEAAKg94RcAAIDaE34BAACoPeEXAACA2hN+AQAAqD3hFwAAgNoTfgEAAKg94RcAAIDaE34BAACoPeEXAACA2hN+AQAAqD3hFwAAgNoTfgEAAKg94RcAAIDaE34BAACoPeEXAACA2hN+AQAAqD3hFwAAgNoTfgEAAKg94RcAAIDaE34BAACoPeEXAACA2hN+AQAAqD3hFwAAgNoTfgEAAKg94RcAAIDaE34BAACoPeEXAACA2mvbmSnqAMAw/ePXP1PUUnrTx/62qKX0kVf/VV7OmjYjvfzJz8zrAMCBJ/wCwF645LOXpnd/7qPF3O7e9eLXpEte8tpiDgA40IRfANgLa7s3pNnPeXQx19+srunp+o9eno5esKhYAgAcaM75BYC9EAE3RnebecMzXyL4AsA4Y+QXAPZSs9Ffo74AMD4Z+QWAvdRs9NeoLwCMT0Z+AWAfVEd/jfoCwPhl5BcA9kF19NeoLwCMX0Z+AWAfxejvMS97klFfABjHhF8AGAX3Llsi+ALAOCb8AhwkLrvssvSt//5muvqXV6dlS5enjd0bizUw/kzrmpYWLJyfHvXIR6Wn/79npIsuuqhYAwB7R/gFqLlrrrkmveGNr09t7dvSqecfk04999g0e96M1NHVXmwB409v96a0ZuX69Ntr7ko3X3lv2rlpYvrnf/yXtHjx4mILABgZ4Regxt73/vem97znb9Kf/NXz0+Ofc3axFFrPT792XfrEB7+c3vGOt6e3X/yOYikADJ/wC1BTH/jA+9PffeTD6V2fek1aeOTcYim0rqX3r0yXvOKj6S/+/C/SW9/6tmIpAAyP8AtQQ3Go82Mfe0H60FffIvhSKxGA//K5f5euuOLnDoEGYESEX4AaevT5j0znPvmk9Phnn1Msgfr48VevSdf97+3p6it/VSwBgD2bUJQA1ERc1XlCxw7Bl9r6necuThM7duafdQAYLuEXoGa+/o2vpkdccHwxB/V0xmNPSF/LPusAMFzCL0DNXHPNdemUxccUc1BPJ59zdLo2+6wDwHAJvwA1s3zZ8jR77oxiDuop7lUdn3UAGC7hF6BmNnb3pI6u9mIO6ik+4/FZB4DhEn4BAACoPeEXAACA2hN+AQAAqD3hFwAAgNoTfgEAAKg94RcAAIDaE34BAACoPeEXAAY4Ye7Z6XlnvCmfHnv0M4qlAEArE34BAACovbadmaIOQA20tbWlL93wD8XcgRejqGcf9oRirr/tO7al3q3daePW9em3y36RVmxcUqw5sKrv+aH1d6Ur7v1mXg9HzDopPfLwJ+f121Zcm25admVeH0vnLPqddPycs9KW7ZvSz7P3Ml5+Twfa88/886QbA8BwGfkFYL+JsNu9eW3ftH3nttQ1dVZa0HVkuvCYZ+fBcrw7KnuPEydMyqcj99P7Xdh1dF5OmdieTpp3bl4HAEZG+AVgv4lR3m/f9um+6b9u/re0qufhfF2EyXMX/W5eH8/uW3tbHuJjuj+rj4bTF5yfnnj8C/KpmaXd9+ZljPzGaDMAMHLCLwAH1A/v/GIe6kKMbM6btiivj1cPZIH38pv+JZ9G65DnUxc8Ks3pPDRNndhRLOnvuiU/Tl++8SP5zgKHPAPA3hF+ATjgtmxrhN8wq2N+UQMAGD0ueAVQM+P5gldxnm8c7jzQ0056RX7ub/jxXV/uG92sLo+Rz7jt0IKuo/L5GHktdU6Zkc47/ElpdhacY/Q4xCHWy7sfSFc/8N18vplHHfHUNL/riNQxuSufX7tpZbpn9U15fagLXj1iwfl5PQ5HjlHZZuIiVXOnHZ6mT5mVH9Id4uevPiZ+nsNmHJfXB6q+bjxXed7vb5ZdmY8+DxS/g3Oy9zy7Y0HfzxOHZm/Ysjb/me5YeX2+rKr6+/3vWz+ZP37utEV9v8N4v3Fo9/64qNfecMErAEbCyC8AB9yUSY2wFYc/D3ZYb5wPG0GxDJKlCKO/f+LL8otm9WSBN0JcTD1bN6SjZp+Snn7K/5cHw6qYj+WxvgyKYVb73Dz0DnUhq/ZJnXlgjKlz8vRi6S7lc8fVmeP5qu83HhPLY32IcBuhvhRhM+ZjqgbueJ3yNeP1Byp/B/H7WdO7LP/54znuWXNTHr7jZ9rT/YqfeNzz88eXwTfE68Uh2XFOMgC0OuEXgAMqQlkZuO5ceUNeNhPnxC7rvj8fEV27aUW+LIJm3HYoAmYE5yvu/Ubq2bI+n+Jc4giTEW5jVLjqMUc+rd9ob4w2R1i86v5v54+J19ob8X4iRJbPHc8VzxnPHYH0vjW35MsHBvh9Ud56KZ6zHC2Onz/ECPONS6/I6xFsYwR5MPGe4/2Vwbl8r+H4uWcWNQBoXcIvAAdEhLZyNDcOz71z1a+HPLw2gt1P7748D3cRbEOE2jJI3r/21r7QVyqvxhyjwuWFtKIsw22E0+/f/tm+0eY4nDgOyy4vwDVScdhwNfjGc5WHKMd7i0Ow4+d8eP09+bLREIdgx+8gfofXPfSTYukucbhzHAIejpl9el42E7/feH/l7zDq8TOEVrgQGQDsifALwH4Th9E+74w35VOMvsbhvBG6fnbP1wY9d7bU7BY/cY5v6dYm65d131fUImyfmJfV++QOdquivQ2n5fnI4TeDBPn4OYc6D3kkIpDG7zTEaPjA8F+KQ6FDhOQ4B7uZZr/f9ZtXFTUXIgOg9Qm/AOw3MZIYh9SW07du+fd8JHc4t+9ptk314lbNgl/1MeX5uTOmzsnLcPeaxsWtBlpdhMWRiCBajkLHyHGzi1KNtjLQh83beora7tb2rixqEdCPKGr9DeffAABamfALQMuLQ43LEeWB01AGGyndG9WR0eqtm8ZSswtuNbN5e29RA4CDl/ALQMsbOKLcbKpePXlPpheHEo/E2t7lRW3/2bp9S1Eb2iEdC4ra8B8DAHUj/ALQssoLU8XI78DbGQ1m49Zdo71x0a1m4l65IxWHDcdFp0J50avh2tsLbD20Yde5yRMnTC5quyvPCw7VxwDAwUT4BaBlrSzOU41zbQfezqiU337o+BcUcymt2vhwUUvpxCYXf4rtZ7XPK+ZGprzAVryfkdwbtzxMurzf8XDFecVlcK5e/Gug8ufZX+ciA8B4JPwC0LLi1j7laGvczujJJ76k32hu3Nf2ySe8qN99e+N2SuWtf2J53Ge4HDWOwBrblxeuGql4P2UYPeaQ0wYdjY7XbCYu4DXcEezSzct+kZfx2Ecd8dS8XhWvVf481y75UV4CwMFI+AWgZcUFq3754Pf7AvCs9rn5LZTKi10dP+esNLFtUvrtsqvz9aVfP/yzvsfEfYb/38l/nG9/6oJH5SGyvL/tSMX7+fm938zDdRz6/MTjnt9vBDjqTz/l/0tzB9wzd2n3vUUtpScc85w8sEZwH464j2/cOzh+nsNnntAXgCNER728j3L8Doz6AnAwE34BaGkR6L5z+3/m9wsuR3RDjMDGslgXo71V5WNW9Tzc73zbCL0REu/IwuTeinN/4xZOZSCNQF2G8RgNXr959W4jsHHv32Xd9+fbx/m5cb/g4V7JOcTj417Jca/fQ2cck79WBPr5XUcM+jsAgINN285MUQegBtra2tKXbviHYg7q6/ln/nnSjQFguIz8AgAAUHvCLwAAALUn/AIAAFB7wi8AAAC1J/wCAABQe8IvAAAAtSf8AgAAUHvCLwAAALUn/AIAAFB7wi9AzUzr6ky93ZuKOain+IzHZx0Ahkv4BaiZ+QvnpzUr1hdzUE9rVq5P8xfML+YAYM+EX4CaWXzuOenW6+4p5qCebrn2nnTu4nOKOQDYM+EXoGae9YfPTTdecUcxB/X0m+wz/uzssw4AwyX8AtTMRRddlLb3Tkg/+uqviiVQLz/8ytX5Zzw+6wAwXMIvQA1d+s//lv7jw5enpfevLJZAPcRn+j8//PX8Mw4AIyH8AtTQ4sWL0zvf+c50ySs+KgBTG/FZvuQVl6Z3ZJ/t+IwDwEgIvwA19ba3Xpze+IY3pL/8o79LP7n8mmIptKYfffWX+Wf5Ddln+uK3XVwsBYDha9uZKeoA1NA111yTXv+G16XUvi2dfv6x6dTzjkuz585IHV3txRYw/sR9fOOWXb+99q5008/vSjs3TUr/8k+XGvEFYK8JvwAHicsuuyx941vfSL/85dVp+bLlaWN3T7EGxp9pXZ35fXwfed556Q+f8SwXtwJgnwm/AAAA1J5zfgEAAKg94RcAAIDaE34BAACoPeEXAACA2hN+AQAAqD3hFwAAgNoTfgEAAKg94RcAAIDaE34BAACoPeEXAACA2hN+AQAAqD3hFwAAgNoTfgEAAKg94RcAAIDaE34BAACoPeEXAACA2hN+AQAAqD3hFwAAgNoTfgEAAKg94RcAAIDaE34BAACoPeEXAACA2hN+AQAAqD3hFwAAgNoTfgEAAKg94RcAAIDaE34BAACoPeEXAACA2hN+AQAAqD3hFwAAgNoTfgEAAKg94RcAAIDaE34BAACoPeEXAACA2hN+AQAAqD3hFwAAgNoTfgEAAKg94RcAAIDaE34BAACoPeEXAACA2hN+AQAAqD3hFwAAgNoTfgEAAKg94RcAAIDaE34BAACoPeEXAACA2hN+AQAAqD3hFwAAgNoTfgEAAKg94RcAAIDaE34BAACoPeEXAACA2hN+AQAAqD3hFwAAgNoTfgEAAKg94RcAAIDaE34BAACoPeEXAACA2hN+AQAAqD3hFwAAgNoTfgEAAKg94RcAAIDaE34BAACoPeEXAACA2hN+AQAAqD3hFwAAgJpL6f8Htk4Xe8/5Fb4AAAAASUVORK5CYII=)"
      ],
      "metadata": {
        "id": "hX-tuJXk-61S"
      }
    },
    {
      "cell_type": "markdown",
      "source": [
        "- M개의 row, N개의 Feature(Column)을 가진 데이터셋에 스태킹 앙상블을 적용한다고 가정하자. 학습에 사용할 ML 알고리즘 모델은 모두 3개이다.\n",
        "  1. 먼저 모델별로 각각 학습을 시킨 뒤 예측을 수행하면 각각 M개의 Row를 가진 1개의 Label 값을 도출한다.\n",
        "  2. 모델 별로 도출된 예측 Label 값을 다시 합해서(스태킹) 새로운 데이터셋을 만든다.\n",
        "  3. 이렇게 스태킹된 데이터셋에 대해 최종 모델을 적용해 최종 예측을 한다."
      ],
      "metadata": {
        "id": "9kfBs75L-7bd"
      }
    },
    {
      "cell_type": "markdown",
      "source": [
        "![image.png](data:image/png;base64,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)"
      ],
      "metadata": {
        "id": "tlxJM80CEijM"
      }
    },
    {
      "cell_type": "markdown",
      "source": [
        "### | **기본 스태킹 모델**\n",
        "___"
      ],
      "metadata": {
        "id": "W3-FziTTnKAK"
      }
    },
    {
      "cell_type": "code",
      "source": [
        "import numpy as np\n",
        "\n",
        "from sklearn.neighbors import KNeighborsClassifier\n",
        "from sklearn.ensemble import RandomForestClassifier\n",
        "from sklearn.ensemble import AdaBoostClassifier\n",
        "from sklearn.tree import DecisionTreeClassifier\n",
        "from sklearn.linear_model import LogisticRegression\n",
        "\n",
        "from sklearn.datasets import load_breast_cancer\n",
        "from sklearn.model_selection import train_test_split\n",
        "from sklearn.metrics import accuracy_score\n",
        "\n",
        "# 위스콘신 암 데이터셋 로딩\n",
        "cancer_data = load_breast_cancer()\n",
        "\n",
        "# Feature/Label 분리\n",
        "X_data = cancer_data.data\n",
        "y_label = cancer_data.target\n",
        "\n",
        "# 학습/테스트 분리\n",
        "X_train , X_test , y_train , y_test = train_test_split(X_data , y_label , test_size = 0.2 , random_state = 0)"
      ],
      "metadata": {
        "id": "QwmAXhrpEmBs"
      },
      "execution_count": 25,
      "outputs": []
    },
    {
      "cell_type": "markdown",
      "source": [
        "- 스태킹에 사용될 머신러닝 알고리즘 클래스를 생성한다.\n",
        "- 개별 모델은 KNN, 랜덤 포레스트, 결정 트리, 에이다부스트이며, 최종 모델은 로지스틱 회귀이다."
      ],
      "metadata": {
        "id": "Pdzpk7lHE-KU"
      }
    },
    {
      "cell_type": "code",
      "source": [
        "# 개별 ML 모델을 위한 Classifier 생성\n",
        "knn_clf  = KNeighborsClassifier(n_neighbors=4)\n",
        "rf_clf = RandomForestClassifier(n_estimators=100, random_state=0)\n",
        "dt_clf = DecisionTreeClassifier()\n",
        "ada_clf = AdaBoostClassifier(n_estimators=100)\n",
        "\n",
        "# 최종 Stacking 모델을 위한 Classifier 생성\n",
        "lr_final = LogisticRegression(C=10)"
      ],
      "metadata": {
        "id": "K582qgvGFGJ8"
      },
      "execution_count": 26,
      "outputs": []
    },
    {
      "cell_type": "markdown",
      "source": [
        "- 모델 학습"
      ],
      "metadata": {
        "id": "CxAgF1L2FNEM"
      }
    },
    {
      "cell_type": "code",
      "source": [
        "# 개별 모델들을 학습. \n",
        "knn_clf.fit(X_train, y_train)\n",
        "rf_clf.fit(X_train , y_train)\n",
        "dt_clf.fit(X_train , y_train)\n",
        "ada_clf.fit(X_train, y_train)"
      ],
      "metadata": {
        "colab": {
          "base_uri": "https://localhost:8080/"
        },
        "id": "umRxiR0uFOmb",
        "outputId": "126b2bd8-27a4-45dc-8dc2-3c72ff41197d"
      },
      "execution_count": 27,
      "outputs": [
        {
          "output_type": "execute_result",
          "data": {
            "text/plain": [
              "AdaBoostClassifier(n_estimators=100)"
            ]
          },
          "metadata": {},
          "execution_count": 27
        }
      ]
    },
    {
      "cell_type": "markdown",
      "source": [
        "- 개별 모델의 예측 데이터셋을 반환하고 각 모델의 예측 정확도를 살펴본다."
      ],
      "metadata": {
        "id": "wH17ASlNFQvI"
      }
    },
    {
      "cell_type": "code",
      "source": [
        "# 학습된 개별 모델들이 각자 반환하는 예측 데이터 셋을 생성\n",
        "knn_pred = knn_clf.predict(X_test)\n",
        "rf_pred = rf_clf.predict(X_test)\n",
        "dt_pred = dt_clf.predict(X_test)\n",
        "ada_pred = ada_clf.predict(X_test)\n",
        "\n",
        "# 개별 모델의 정확도 측정\n",
        "print('KNN 정확도: {0:.4f}'.format(accuracy_score(y_test, knn_pred)))\n",
        "print('랜덤 포레스트 정확도: {0:.4f}'.format(accuracy_score(y_test, rf_pred)))\n",
        "print('결정 트리 정확도: {0:.4f}'.format(accuracy_score(y_test, dt_pred)))\n",
        "print('에이다부스트 정확도: {0:.4f} :'.format(accuracy_score(y_test, ada_pred)))"
      ],
      "metadata": {
        "colab": {
          "base_uri": "https://localhost:8080/"
        },
        "id": "4RJMinq9FUCE",
        "outputId": "65129ce6-e9c6-4225-f94a-e02897a9b5bd"
      },
      "execution_count": 28,
      "outputs": [
        {
          "output_type": "stream",
          "name": "stdout",
          "text": [
            "KNN 정확도: 0.9211\n",
            "랜덤 포레스트 정확도: 0.9649\n",
            "결정 트리 정확도: 0.9123\n",
            "에이다부스트 정확도: 0.9561 :\n"
          ]
        }
      ]
    },
    {
      "cell_type": "markdown",
      "source": [
        "- 개별 알고리즘으로부터 반환된 예측값을 Column 레벨로 옆으로 붙어 Feature 값으로 만든 후, 최종 메타 모델인 로지스틱 회귀에서 학습 데이터로 다시 사용해보자."
      ],
      "metadata": {
        "id": "5ECeOoRpFYge"
      }
    },
    {
      "cell_type": "code",
      "source": [
        "pred = np.array([knn_pred, rf_pred, dt_pred, ada_pred])\n",
        "print(pred.shape)\n",
        "\n",
        "# transpose를 이용해 행과 열의 위치 교환. Column 레벨로 각 알고리즘의 예측 결과를 Feature로 만듦\n",
        "pred = np.transpose(pred)\n",
        "print(pred.shape)"
      ],
      "metadata": {
        "colab": {
          "base_uri": "https://localhost:8080/"
        },
        "id": "6J7C3gUdFj8-",
        "outputId": "b2819957-14cb-4256-9528-41ed305dbd52"
      },
      "execution_count": 29,
      "outputs": [
        {
          "output_type": "stream",
          "name": "stdout",
          "text": [
            "(4, 114)\n",
            "(114, 4)\n"
          ]
        }
      ]
    },
    {
      "cell_type": "markdown",
      "source": [
        "- 예측 데이터로 생성된 데이터셋을 기반으로 최종 메타 모델인 로지스틱 회귀를 학습하고 예측 정확도를 측정해보자."
      ],
      "metadata": {
        "id": "MQTlPhWaFsnk"
      }
    },
    {
      "cell_type": "code",
      "source": [
        "lr_final.fit(pred, y_test)\n",
        "final = lr_final.predict(pred)\n",
        "\n",
        "print('최종 메타 모델의 예측 정확도: {0:.4f}'.format(accuracy_score(y_test , final)))"
      ],
      "metadata": {
        "colab": {
          "base_uri": "https://localhost:8080/"
        },
        "id": "TJZc78SMFyRb",
        "outputId": "adde9572-dc23-4d8f-faec-c0092f325540"
      },
      "execution_count": 30,
      "outputs": [
        {
          "output_type": "stream",
          "name": "stdout",
          "text": [
            "최종 메타 모델의 예측 정확도: 0.9737\n"
          ]
        }
      ]
    },
    {
      "cell_type": "markdown",
      "source": [
        "- 개별 모델의 예측 데이터를 스태킹으로 재구성해 최종 메타 모델에서 학습하고 예측한 결과, 정확도가 97.37%로 개별 모델 정확도보다 향상되었다. 다만 스태킹 기법으로 예측을 한다고 이렇게 무조건 개별 모델보다는 좋아진다는 보장은 없다."
      ],
      "metadata": {
        "id": "j-5a0UVtF0Pb"
      }
    },
    {
      "cell_type": "markdown",
      "source": [
        "### | **CV 세트 기반의 스태킹**\n",
        "___\n",
        "- CV 세트 기반의 스태킹은 과적합을 개선하기 위한 모델로, 최종 메타 모델을 위한 데이터셋을 만들 때 교차 검증을 기반으로 예측된 결과 데이터셋을 이용한다.\n",
        "  - Step1 : 각 모델 별로 원본 학습/테스트 데이터를 예측한 결과를 기반으로 메타 모델을 위한 학습용/테스트용 데이터를 생성한다.\n",
        "    1. 학습용 데이터를 N개의 폴드(Fold)로 나눈다. 여기서는 3개의 폴드세트로 가정한다.\n",
        "    2. 2개의 폴드는 학습을 위한 데이터 폴드로, 나머지 1개의 폴드는 검증을 위한 데이터 폴드로 나눈다. \n",
        "    3. 이렇게 두 개의 폴드로 나뉜 학습 데이터를 기반으로 개별 모델을 학습시키고, 1개의 검증 데이터 폴드로 예측하고 그 결과를 저장한다.\n",
        "    4. 이 Logic을 학습 데이터와 검증 데이터를 변경해가며 3번 반복한다.\n",
        "    5. 2개의 학습 폴드 데이터로 학습된 개별 모델은 원본 테스트 데이터를 예측하여 예측값을 생성하고, 이를 3번 반복하며 이 예측값의 평균으로 최종 결과값을 생성한다. 이 최종 결과값은 메타모델을 위한 테스트 데이터로 사용한다.\n",
        "  - Step2\n",
        "    1. 앞에서 개별 모델들이 생성한 학습용 데이터를 모두 스태킹 형태로 합쳐서 메타 모델이 학습할 최종 학습용 데이터셋을 생성한다.\n",
        "    2. 마찬가지로 각 모델들이 생성한 테스트용 데이터를 모두 스태킹 형태로 합쳐 메타 모델이 예측할 최종 테스트 데이터셋을 생성한다.\n",
        "    3. 메타 모델은 최종적으로 생성된 학습 데이터셋과 원본 학습 데이터의 Label 데이터를 기반으로 학습한다.\n",
        "    4. 최종적으로 생성된 테스트 데이터셋을 예측하고, 원본 테스트 데이터의 Label 데이터를 기반으로 평가한다."
      ],
      "metadata": {
        "id": "2uCfTIK8nN16"
      }
    },
    {
      "cell_type": "markdown",
      "source": [
        "- Step1 부분을 코드로 구현해보자.\n",
        "- `get_stacking_base_datasets()` 함수 \n",
        "  1. 개별 모델의 Classifier 객체, 원본 학습용 Feature 데이터, 원본 학습용 Label 데이터, 원본 테스트 Feature 데이터, K 폴드를 몇 개로 할지를 파라미터로 입력받는다.\n",
        "  2. 함수 내에서는 폴드의 개수만큼 반복을 수행하며 폴드된 학습용 데이터로 학습한 뒤, 예측 결과값을 기반으로 메타 모델을 위한 학습용 데이터와 테스트용 데이터를 새롭게 생성한다."
      ],
      "metadata": {
        "id": "DpxW1JhsIPqE"
      }
    },
    {
      "cell_type": "code",
      "source": [
        "from sklearn.model_selection import KFold\n",
        "from sklearn.metrics import mean_absolute_error\n",
        "\n",
        "# 개별 기반 모델에서 최종 메타 모델이 사용할 학습 및 테스트용 데이터를 생성하기 위한 함수\n",
        "def get_stacking_base_datasets(model, X_train_n, y_train_n, X_test_n, n_folds ):\n",
        "\n",
        "    # 지정된 n_folds값으로 KFold 생성.\n",
        "    kf = KFold(n_splits=n_folds, shuffle = True, random_state=0)\n",
        "\n",
        "    # 추후에 메타 모델이 사용할 학습 데이터 반환을 위한 넘파이 배열 초기화 \n",
        "    train_fold_pred = np.zeros((X_train_n.shape[0] ,1 ))\n",
        "    test_pred = np.zeros((X_test_n.shape[0],n_folds))\n",
        "    print(model.__class__.__name__ , ' model 시작 ')\n",
        "    \n",
        "    for folder_counter , (train_index, valid_index) in enumerate(kf.split(X_train_n)):\n",
        "        # 입력된 학습 데이터에서 기반 모델이 학습/예측할 폴드 데이터 셋 추출 \n",
        "        print('\\t 폴드 세트: ',folder_counter,' 시작 ')\n",
        "        X_tr = X_train_n[train_index] \n",
        "        y_tr = y_train_n[train_index] \n",
        "        X_te = X_train_n[valid_index]  \n",
        "        \n",
        "        # 폴드 세트 내부에서 다시 만들어진 학습 데이터로 기반 모델의 학습 수행\n",
        "        model.fit(X_tr , y_tr)       \n",
        "        # 폴드 세트 내부에서 다시 만들어진 검증 데이터로 기반 모델 예측 후 데이터 저장\n",
        "        train_fold_pred[valid_index, :] = model.predict(X_te).reshape(-1,1)\n",
        "\n",
        "        # 입력된 원본 테스트 데이터를 폴드 세트내 학습된 기반 모델에서 예측 후 데이터 저장\n",
        "        test_pred[:, folder_counter] = model.predict(X_test_n)\n",
        "            \n",
        "    # 폴드 세트 내에서 원본 테스트 데이터를 예측한 데이터를 평균하여 테스트 데이터로 생성 \n",
        "    test_pred_mean = np.mean(test_pred, axis=1).reshape(-1,1)    \n",
        "    \n",
        "    #train_fold_pred는 최종 메타 모델이 사용하는 학습 데이터, test_pred_mean은 테스트 데이터\n",
        "    return train_fold_pred , test_pred_mean"
      ],
      "metadata": {
        "id": "fsL0f064GNdz"
      },
      "execution_count": 31,
      "outputs": []
    },
    {
      "cell_type": "markdown",
      "source": [
        "- 이제 여러 개의 분류 모델별로 `get_stacking_base_datasets()` 함수를 호출해 각각 메타 모델이 추후에 사용할 학습용/테스트용 데이터셋을 반환한다."
      ],
      "metadata": {
        "id": "CFxth8boI0qi"
      }
    },
    {
      "cell_type": "code",
      "source": [
        "knn_train, knn_test = get_stacking_base_datasets(knn_clf, X_train, y_train, X_test, 7)\n",
        "rf_train, rf_test = get_stacking_base_datasets(rf_clf, X_train, y_train, X_test, 7)\n",
        "dt_train, dt_test = get_stacking_base_datasets(dt_clf, X_train, y_train, X_test,  7)    \n",
        "ada_train, ada_test = get_stacking_base_datasets(ada_clf, X_train, y_train, X_test, 7)"
      ],
      "metadata": {
        "colab": {
          "base_uri": "https://localhost:8080/"
        },
        "id": "pwYs39klGN_M",
        "outputId": "7f06583f-c1b0-460b-dc99-0efcbe041e4b"
      },
      "execution_count": 32,
      "outputs": [
        {
          "output_type": "stream",
          "name": "stdout",
          "text": [
            "KNeighborsClassifier  model 시작 \n",
            "\t 폴드 세트:  0  시작 \n",
            "\t 폴드 세트:  1  시작 \n",
            "\t 폴드 세트:  2  시작 \n",
            "\t 폴드 세트:  3  시작 \n",
            "\t 폴드 세트:  4  시작 \n",
            "\t 폴드 세트:  5  시작 \n",
            "\t 폴드 세트:  6  시작 \n",
            "RandomForestClassifier  model 시작 \n",
            "\t 폴드 세트:  0  시작 \n",
            "\t 폴드 세트:  1  시작 \n",
            "\t 폴드 세트:  2  시작 \n",
            "\t 폴드 세트:  3  시작 \n",
            "\t 폴드 세트:  4  시작 \n",
            "\t 폴드 세트:  5  시작 \n",
            "\t 폴드 세트:  6  시작 \n",
            "DecisionTreeClassifier  model 시작 \n",
            "\t 폴드 세트:  0  시작 \n",
            "\t 폴드 세트:  1  시작 \n",
            "\t 폴드 세트:  2  시작 \n",
            "\t 폴드 세트:  3  시작 \n",
            "\t 폴드 세트:  4  시작 \n",
            "\t 폴드 세트:  5  시작 \n",
            "\t 폴드 세트:  6  시작 \n",
            "AdaBoostClassifier  model 시작 \n",
            "\t 폴드 세트:  0  시작 \n",
            "\t 폴드 세트:  1  시작 \n",
            "\t 폴드 세트:  2  시작 \n",
            "\t 폴드 세트:  3  시작 \n",
            "\t 폴드 세트:  4  시작 \n",
            "\t 폴드 세트:  5  시작 \n",
            "\t 폴드 세트:  6  시작 \n"
          ]
        }
      ]
    },
    {
      "cell_type": "markdown",
      "source": [
        "- 이제 Step2를 구현해보자.\n",
        "- `get_stacking_base_datasets()`로 반환된 각 모델별 학습 데이터와 테스트 데이터를 넘파이의 `concatenate()`를 이용해 합친다."
      ],
      "metadata": {
        "id": "svcmVcgzJG6r"
      }
    },
    {
      "cell_type": "code",
      "source": [
        "Stack_final_X_train = np.concatenate((knn_train, rf_train, dt_train, ada_train), axis=1)\n",
        "Stack_final_X_test = np.concatenate((knn_test, rf_test, dt_test, ada_test), axis=1)\n",
        "print('원본 학습 피처 데이터 Shape:',X_train.shape, '원본 테스트 피처 Shape:',X_test.shape)\n",
        "print('스태킹 학습 피처 데이터 Shape:', Stack_final_X_train.shape,\n",
        "      '스태킹 테스트 피처 데이터 Shape:',Stack_final_X_test.shape)"
      ],
      "metadata": {
        "colab": {
          "base_uri": "https://localhost:8080/"
        },
        "id": "hrgh7sCsGnEc",
        "outputId": "9db9ce94-ea27-46d9-d552-c0b37a349cee"
      },
      "execution_count": 33,
      "outputs": [
        {
          "output_type": "stream",
          "name": "stdout",
          "text": [
            "원본 학습 피처 데이터 Shape: (455, 30) 원본 테스트 피처 Shape: (114, 30)\n",
            "스태킹 학습 피처 데이터 Shape: (455, 4) 스태킹 테스트 피처 데이터 Shape: (114, 4)\n"
          ]
        }
      ]
    },
    {
      "cell_type": "markdown",
      "source": [
        "- 이렇게 만들어진 `Stack_final_X_train`은 메타 모델이 학습할 학습용 Feature 데이터셋이다.\n",
        "- `Stack_final_X_test`은 메타 모델이 예측할 테스트용 Feature 데이터셋이다.\n",
        "- 스태킹 학습 FEature 데이터는 원본 학습 Feature 데이터와 Row 크기가 같으며, Column 크기는 4개의 개별 모델의 예측값을 합친 것이기 때문에 4이다.\n",
        "- 최종 메타 모델인 로지스틱 회귀를 스태킹된 학습용 Feature 데이터셋과 원본 학습 Label 데이터로 학습한 후, 스태킹된 테스트 데이터셋으로 예측하고, 예측 결과를 원본 테스트 Label 데이터와 빅해 정확도를 측정해보자."
      ],
      "metadata": {
        "id": "PWi1oaFOJSLr"
      }
    },
    {
      "cell_type": "code",
      "source": [
        "lr_final.fit(Stack_final_X_train, y_train)\n",
        "stack_final = lr_final.predict(Stack_final_X_test)\n",
        "\n",
        "print('최종 메타 모델의 예측 정확도: {0:.4f}'.format(accuracy_score(y_test, stack_final)))"
      ],
      "metadata": {
        "colab": {
          "base_uri": "https://localhost:8080/"
        },
        "id": "mcTYVjhFGiMT",
        "outputId": "9ac76226-101c-4ebc-b1f4-2f46cbc317c6"
      },
      "execution_count": 34,
      "outputs": [
        {
          "output_type": "stream",
          "name": "stdout",
          "text": [
            "최종 메타 모델의 예측 정확도: 0.9649\n"
          ]
        }
      ]
    },
    {
      "cell_type": "markdown",
      "source": [
        "- 최종 모델의 예측 정확도는 약 96.49%이다.\n",
        "- 스태킹을 이루는 모델은 최적으로 파라미터를 튜닝한 상태에서 스태킹 모델을 만드는 것이 일반적이다.\n",
        "- 일반적으로 스태킹 모델의 파라미터 튜닝이란 개별 알고리즘 모델의 파라미터를 최적으로 튜닝하는 것을 말한다."
      ],
      "metadata": {
        "id": "WBkZi2R6Jzfi"
      }
    },
    {
      "cell_type": "markdown",
      "source": [
        "## **11 정리**\n",
        "____\n",
        "- 이번 장에서는 분류를 위해 일반적으로 가장 많이 사용되는 앙상블에 대해 집중적으로 공부했다.\n",
        "- 대부분의 앙상블 기법은 결정 트리 기반으로 여러 개의 약한 학습기(Weak Learner)를 결합해 변동성을 줄여 예측 오류를 줄이고, 성능을 개선한다.\n",
        "- 결정 트리 알고리즘은 정보의 균일도에 기반하여 규칙 트리를 만들어 예측을 수행하며, 다른 알고리즘에 비해 비교적 짖관적이어서 예측 결과가 도출되는 과정을 쉽게 알 수 있다. 다만 균일한 최종 예측 결과를 도출하기 위해 결정 트리가 깊어지고 복잡해져 과적합이 쉽게 발생한다는 것이 단점이다.\n",
        "- 앙상블 기법은 대표적으로 Bagging과 Boosting으로 구분될 수 있다.\n",
        "  1. Bagging 방식은 학습 데이터의 중복을 허용하여 다수의 세트로 샘플링한 후, 이를 여러 개의 약한 학습기가 학습한 뒤, 최종 결과를 결합해 예측하는 방식이다. 대표적인 Bagging 방식으로는 랜덤 포레스트가 있다.\n",
        "  2. Boosting 방식은 학습기들이 순차적으로 학습을 진행하며 예측이 틀린 데이터에 대해 가중치를 부여한 후, 다음 번 학습기가 학습할 때는 이전에 예측이 틀린 데이터에 대해 보다 높은 정확도로 예측할 수 있게 한다. 대표적인 Boosting 방식인 GBM은 뛰어난 예측 성능을 가졌지만, 수행시간이 너무 오래 걸렸고, 이를 개선하기 위해 XGBoost와 LightBGM이 개발되었다.\n",
        "- 마지막으로 스태킹 모델을 살펴보았는데, 스태킹은 여러 개의 개별 모델이 생성한 예측 데이터를 기반으로 최종 메타 모델이 학습할 별도의 학습 데이터셋과 예측할 테스트 데이터셋을 재생성하는 기법이다."
      ],
      "metadata": {
        "id": "uk0RwFqYKbaa"
      }
    }
  ]
}